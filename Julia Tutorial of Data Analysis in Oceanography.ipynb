{
 "cells": [
  {
   "cell_type": "markdown",
   "metadata": {},
   "source": [
    "# Julia Tutorial of Data Analysis in Oceanography\n",
    "\n"
   ]
  },
  {
   "cell_type": "markdown",
   "metadata": {},
   "source": [
    "# Getting started\n",
    "\n",
    "\n",
    "* Start the computer and boot into Debian\n",
    "* Open a web browser and log in to the internet\n",
    "* Download the zip file at http://tinyurl.com/julia-tutorial\n",
    "* Uncompress the zip file (remember the location of the folder `JuliaTutorial-master`)\n",
    "\n",
    "* Download and decompress the file at http://gher-diva.phys.ulg.ac.be/MatlabOctaveTutorial/data/WesternMedSST.nc.gz and place the uncompressed file in the directory `JuliaTutorial-master`\n",
    "\n",
    "* Open a terminal (Application -> Utilities -> Terminal). This is how the terminal icon looks like: ![icon](https://cdn.rawgit.com/Alexander-Barth/JuliaTutorial/master/img/gnome-terminal.svg)\n",
    "* Go to the directory `JuliaTutorial-master`, for example by using the command\n",
    "```bash\n",
    "cd Downloads/JuliaTutorial-master\n",
    "```\n",
    "(if `JuliaTutorial-master` was extracted in the `Downloads` folder.)\n",
    "\n",
    "* Launch Jupyter from the terminal with the command:\n",
    "\n",
    "```bash\n",
    "jupyter notebook Julia-starter.ipynb\n",
    "``` \n",
    "File -> Open -> \"Julia Tutorial of Data Analysis in Oceanography.ipynb\""
   ]
  },
  {
   "cell_type": "markdown",
   "metadata": {},
   "source": [
    "# Table of contents\n",
    "\n",
    "See the following notebooks from https://github.com/Alexander-Barth/JuliaTutorial\n",
    "* [Introduction](JuliaIntroduction.ipynb)\n",
    "* [Plotting](JuliaPlotting.ipynb)\n",
    "* [Exercises](JuliaExercise.ipynb)"
   ]
  }
 ],
 "metadata": {
  "kernelspec": {
   "display_name": "Julia 0.6.4",
   "language": "julia",
   "name": "julia-0.6"
  },
  "language_info": {
   "file_extension": ".jl",
   "mimetype": "application/julia",
   "name": "julia",
   "version": "0.6.4"
  }
 },
 "nbformat": 4,
 "nbformat_minor": 1
}
