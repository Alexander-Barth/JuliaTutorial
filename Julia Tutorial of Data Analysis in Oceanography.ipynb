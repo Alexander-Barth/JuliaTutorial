{
 "cells": [
  {
   "cell_type": "markdown",
   "metadata": {},
   "source": [
    "# Julia Tutorial of Data Analysis in Oceanography\n",
    "\n"
   ]
  },
  {
   "cell_type": "markdown",
   "metadata": {},
   "source": [
    "# Getting started\n",
    "\n",
    "\n",
    "* Start the computer and boot into **Debian** (not Windows)\n",
    "* Open a web browser and log in to the internet\n",
    "* Open the file manager and go to the Download folder and delete all files (select all files, and then move to \"waste basket\")\n",
    "* Download the zip file at http://tinyurl.com/julia-tutorial\n",
    "* Uncompress the zip file (remember the location of the folder `JuliaTutorial-master`)\n",
    "\n",
    "\n",
    "* Open a terminal (Application -> Utilities -> Terminal). This is how the terminal icon looks like: ![icon](img/gnome-terminal.svg)\n",
    "* Go to the directory `JuliaTutorial-master`, for example by using the command\n",
    "```bash\n",
    "cd Downloads/JuliaTutorial-master\n",
    "```\n",
    "(if `JuliaTutorial-master` was extracted in the `Downloads` folder.)\n",
    "\n",
    "* Launch Jupyter from the terminal with the command:\n",
    "\n",
    "```bash\n",
    "jupyter notebook JuliaIntroduction.ipynb\n",
    "``` \n",
    "\n",
    "* Make sure that the kernel is set to 1.6.0\n"
   ]
  },
  {
   "cell_type": "markdown",
   "metadata": {},
   "source": [
    "# Table of contents\n",
    "\n",
    "See the following notebooks from https://github.com/Alexander-Barth/JuliaTutorial\n",
    "* [Introduction](JuliaIntroduction.ipynb)\n",
    "* [Plotting](JuliaPlotting.ipynb)\n",
    "* [Exercises](JuliaExercise.ipynb)"
   ]
  }
 ],
 "metadata": {
  "@webio": {
   "lastCommId": null,
   "lastKernelId": null
  },
  "kernelspec": {
   "display_name": "Julia 1.6.2",
   "language": "julia",
   "name": "julia-1.6"
  },
  "language_info": {
   "file_extension": ".jl",
   "mimetype": "application/julia",
   "name": "julia",
   "version": "1.6.0"
  }
 },
 "nbformat": 4,
 "nbformat_minor": 1
}
