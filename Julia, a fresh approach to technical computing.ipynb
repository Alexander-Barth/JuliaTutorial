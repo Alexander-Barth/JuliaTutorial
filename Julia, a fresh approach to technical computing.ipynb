{
 "cells": [
  {
   "cell_type": "markdown",
   "metadata": {
    "slideshow": {
     "slide_type": "slide"
    }
   },
   "source": [
    "# Julia: a fresh approach to technical computing\n",
    "\n",
    "\n",
    "* Julia is a high-level programming language for technical computing which allows you to manipulate and analyse large data sets\n",
    "* Other programming languages similar to Julia are Matlab and Python\n",
    "* Unlike Python, Julia is build from the ground for techical computing\n",
    "* Unlike Matlab, julia is free and open-source software\n",
    "* Julia is fast (http://julialang.org/benchmarks/: these are microbenchmark (with explicit loops) to be taken with a grain of salt, and see also benchmarks below)\n",
    "\n",
    "\n",
    "## Try Julia\n",
    "\n",
    "* Try julia online at https://juliabox.com/"
   ]
  },
  {
   "cell_type": "markdown",
   "metadata": {
    "slideshow": {
     "slide_type": "slide"
    }
   },
   "source": [
    "## Install Julia\n",
    "\n",
    "* Go to http://julialang.org/downloads/\n",
    "* Install also a text editor with julia support (e.g. emacs with the julia mode)\n",
    "\n",
    "### Optionally\n",
    "\n",
    "* Install Jupyter http://jupyter.org/"
   ]
  },
  {
   "cell_type": "markdown",
   "metadata": {
    "slideshow": {
     "slide_type": "slide"
    }
   },
   "source": [
    "# Variable declarations \n",
    "\n",
    "## Unicode\n",
    "\n",
    "* Unicode in in variables names and function\n",
    "* For example greek letters\n",
    "* Typed as, e.g. \\alpha followed by Tab (in text editor with Julia support)"
   ]
  },
  {
   "cell_type": "code",
   "execution_count": 48,
   "metadata": {
    "slideshow": {
     "slide_type": "-"
    }
   },
   "outputs": [
    {
     "data": {
      "text/plain": [
       "4"
      ]
     },
     "execution_count": 48,
     "metadata": {},
     "output_type": "execute_result"
    }
   ],
   "source": [
    "α = π/2\n",
    "σ² = 4"
   ]
  },
  {
   "cell_type": "markdown",
   "metadata": {
    "slideshow": {
     "slide_type": "-"
    }
   },
   "source": [
    "* Also for function names"
   ]
  },
  {
   "cell_type": "code",
   "execution_count": 49,
   "metadata": {
    "slideshow": {
     "slide_type": "-"
    }
   },
   "outputs": [
    {
     "data": {
      "text/plain": [
       "my_serious_function😼 (generic function with 1 method)"
      ]
     },
     "execution_count": 49,
     "metadata": {},
     "output_type": "execute_result"
    }
   ],
   "source": [
    "function my_serious_function😼(x,y)\n",
    "    return y,x\n",
    "end"
   ]
  },
  {
   "cell_type": "code",
   "execution_count": 50,
   "metadata": {
    "slideshow": {
     "slide_type": "-"
    }
   },
   "outputs": [
    {
     "data": {
      "text/plain": [
       "(2, 1)"
      ]
     },
     "execution_count": 50,
     "metadata": {},
     "output_type": "execute_result"
    }
   ],
   "source": [
    "my_serious_function😼(1,2)"
   ]
  },
  {
   "cell_type": "markdown",
   "metadata": {
    "slideshow": {
     "slide_type": "slide"
    }
   },
   "source": [
    "* also for build-in operators"
   ]
  },
  {
   "cell_type": "code",
   "execution_count": 51,
   "metadata": {},
   "outputs": [
    {
     "data": {
      "text/plain": [
       "true"
      ]
     },
     "execution_count": 51,
     "metadata": {},
     "output_type": "execute_result"
    }
   ],
   "source": [
    "2 ∈ Set([2,3])"
   ]
  },
  {
   "cell_type": "code",
   "execution_count": 52,
   "metadata": {},
   "outputs": [
    {
     "data": {
      "text/plain": [
       "true"
      ]
     },
     "execution_count": 52,
     "metadata": {},
     "output_type": "execute_result"
    }
   ],
   "source": [
    "2 in Set([2,3])"
   ]
  },
  {
   "cell_type": "markdown",
   "metadata": {},
   "source": [
    "* Do not get crazy"
   ]
  },
  {
   "cell_type": "code",
   "execution_count": 53,
   "metadata": {},
   "outputs": [
    {
     "data": {
      "text/plain": [
       "2.345"
      ]
     },
     "execution_count": 53,
     "metadata": {},
     "output_type": "execute_result"
    }
   ],
   "source": [
    "𝔳𝔞𝔯𝔦𝔞𝔟𝔩𝔢 = 1.234\n",
    "שคгเค๒ɭє = 2.345"
   ]
  },
  {
   "cell_type": "markdown",
   "metadata": {
    "slideshow": {
     "slide_type": "slide"
    }
   },
   "source": [
    "# Functions\n",
    "\n",
    "* Functions are central in julia:\n",
    "  * functions are \"first-class\" (e.g. a variable/parameter can hold a function)\n",
    "  * all operators are defined as functions: `1+2` is in fact `+(1,2)`\n",
    "  * functions are very flexible due to [multiple dispatch](https://en.wikipedia.org/wiki/Multiple_dispatch)\n",
    "* There are 3 ways to define a function:"
   ]
  },
  {
   "cell_type": "code",
   "execution_count": 54,
   "metadata": {},
   "outputs": [
    {
     "data": {
      "text/plain": [
       "times_two (generic function with 1 method)"
      ]
     },
     "execution_count": 54,
     "metadata": {},
     "output_type": "execute_result"
    }
   ],
   "source": [
    "function times_two(x)\n",
    "    return 2x\n",
    "end"
   ]
  },
  {
   "cell_type": "markdown",
   "metadata": {},
   "source": [
    "* `return` is actually optional. If it is not present, then the last value of a function is returned."
   ]
  },
  {
   "cell_type": "code",
   "execution_count": 55,
   "metadata": {},
   "outputs": [
    {
     "data": {
      "text/plain": [
       "times2 (generic function with 1 method)"
      ]
     },
     "execution_count": 55,
     "metadata": {},
     "output_type": "execute_result"
    }
   ],
   "source": [
    "times2(x) = 2x"
   ]
  },
  {
   "cell_type": "code",
   "execution_count": 56,
   "metadata": {},
   "outputs": [
    {
     "data": {
      "text/plain": [
       "#43 (generic function with 1 method)"
      ]
     },
     "execution_count": 56,
     "metadata": {},
     "output_type": "execute_result"
    }
   ],
   "source": [
    "x -> 2x"
   ]
  },
  {
   "cell_type": "markdown",
   "metadata": {},
   "source": [
    "# Operators\n",
    "\n",
    "* Julia has all the usual operators: +, -, *, / as most programming languages have\n",
    "\n",
    "## Additional interesting operators\n",
    "\n",
    "* Multiply by the inverse of a matrix: A \\ x"
   ]
  },
  {
   "cell_type": "code",
   "execution_count": 57,
   "metadata": {},
   "outputs": [
    {
     "data": {
      "text/plain": [
       "2-element Array{Float64,1}:\n",
       " 0.5\n",
       " 0.5"
      ]
     },
     "execution_count": 57,
     "metadata": {},
     "output_type": "execute_result"
    }
   ],
   "source": [
    "x = [1; 1]; A = [2 0; 0 2]; A \\ x"
   ]
  },
  {
   "cell_type": "markdown",
   "metadata": {},
   "source": [
    "* do you like shell pipes? (in DIVA 1081 shell pipes for 154 scripts)"
   ]
  },
  {
   "cell_type": "code",
   "execution_count": 58,
   "metadata": {},
   "outputs": [
    {
     "data": {
      "text/plain": [
       "54"
      ]
     },
     "execution_count": 58,
     "metadata": {},
     "output_type": "execute_result"
    }
   ],
   "source": [
    "[1:5;]  |> x->x.^2 |> x-> x[x .> 2] |> sum"
   ]
  },
  {
   "cell_type": "markdown",
   "metadata": {},
   "source": [
    "* function composition f ∘ g (x) (type \\circ followed by the tab key), in julia 0.6"
   ]
  },
  {
   "cell_type": "code",
   "execution_count": 59,
   "metadata": {},
   "outputs": [
    {
     "data": {
      "text/plain": [
       "0.8414709848078965"
      ]
     },
     "execution_count": 59,
     "metadata": {},
     "output_type": "execute_result"
    }
   ],
   "source": [
    "(abs ∘ sin)(1)"
   ]
  },
  {
   "cell_type": "markdown",
   "metadata": {
    "slideshow": {
     "slide_type": "slide"
    }
   },
   "source": [
    "# Arrays\n",
    "\n",
    "* Arrays can be homogenous or heterogenous\n",
    "* Julia figures this out for you\n",
    "\n",
    "* Homogenous arrays:"
   ]
  },
  {
   "cell_type": "code",
   "execution_count": 60,
   "metadata": {},
   "outputs": [
    {
     "data": {
      "text/plain": [
       "4-element Array{Int64,1}:\n",
       " 1\n",
       " 2\n",
       " 3\n",
       " 4"
      ]
     },
     "execution_count": 60,
     "metadata": {},
     "output_type": "execute_result"
    }
   ],
   "source": [
    "arr = [1,2,3,4]"
   ]
  },
  {
   "cell_type": "markdown",
   "metadata": {},
   "source": [
    "Elements can also be converted if necessary to make an homogenous array"
   ]
  },
  {
   "cell_type": "code",
   "execution_count": 61,
   "metadata": {},
   "outputs": [
    {
     "data": {
      "text/plain": [
       "3-element Array{Float64,1}:\n",
       " 2.0\n",
       " 4.0\n",
       " 5.0"
      ]
     },
     "execution_count": 61,
     "metadata": {},
     "output_type": "execute_result"
    }
   ],
   "source": [
    "arr2 = [2.,4.,5]"
   ]
  },
  {
   "cell_type": "markdown",
   "metadata": {
    "slideshow": {
     "slide_type": "slide"
    }
   },
   "source": [
    "Example of an heterogeneous array"
   ]
  },
  {
   "cell_type": "code",
   "execution_count": 62,
   "metadata": {},
   "outputs": [
    {
     "data": {
      "text/plain": [
       "3-element Array{Any,1}:\n",
       " 1\n",
       " 2\n",
       "  \"this is a string\""
      ]
     },
     "execution_count": 62,
     "metadata": {},
     "output_type": "execute_result"
    }
   ],
   "source": [
    "arr = [1,2,\"this is a string\"]"
   ]
  },
  {
   "cell_type": "markdown",
   "metadata": {
    "slideshow": {
     "slide_type": "slide"
    }
   },
   "source": [
    "## Automatic type inference"
   ]
  },
  {
   "cell_type": "code",
   "execution_count": 63,
   "metadata": {},
   "outputs": [
    {
     "data": {
      "text/plain": [
       "speed (generic function with 1 method)"
      ]
     },
     "execution_count": 63,
     "metadata": {},
     "output_type": "execute_result"
    }
   ],
   "source": [
    "function speed(u,v)\n",
    "    u2 = u.^2\n",
    "    v2 = v.^2\n",
    "    s2 = u2 + v2\n",
    "    s = sqrt.(s2)\n",
    "    return s\n",
    "end"
   ]
  },
  {
   "cell_type": "code",
   "execution_count": 64,
   "metadata": {
    "slideshow": {
     "slide_type": "slide"
    }
   },
   "outputs": [
    {
     "name": "stdout",
     "output_type": "stream",
     "text": [
      "Variables\n",
      "  #self#\u001b[36m::Core.Compiler.Const(speed, false)\u001b[39m\n",
      "  u\u001b[36m::Float64\u001b[39m\n",
      "  v\u001b[36m::Float64\u001b[39m\n",
      "  u2\u001b[36m::Float64\u001b[39m\n",
      "  v2\u001b[36m::Float64\u001b[39m\n",
      "  s2\u001b[36m::Float64\u001b[39m\n",
      "  s\u001b[36m::Float64\u001b[39m\n",
      "\n",
      "Body\u001b[36m::Float64\u001b[39m\n",
      "\u001b[90m1 ─\u001b[39m %1  = Core.apply_type(Base.Val, 2)\u001b[36m::Core.Compiler.Const(Val{2}, false)\u001b[39m\n",
      "\u001b[90m│  \u001b[39m %2  = (%1)()\u001b[36m::Core.Compiler.Const(Val{2}(), false)\u001b[39m\n",
      "\u001b[90m│  \u001b[39m %3  = Base.broadcasted(Base.literal_pow, Main.:^, u, %2)\u001b[36m::Base.Broadcast.Broadcasted{Base.Broadcast.DefaultArrayStyle{0},Nothing,typeof(Base.literal_pow),Tuple{Base.RefValue{typeof(^)},Float64,Base.RefValue{Val{2}}}}\u001b[39m\n",
      "\u001b[90m│  \u001b[39m       (u2 = Base.materialize(%3))\n",
      "\u001b[90m│  \u001b[39m %5  = Core.apply_type(Base.Val, 2)\u001b[36m::Core.Compiler.Const(Val{2}, false)\u001b[39m\n",
      "\u001b[90m│  \u001b[39m %6  = (%5)()\u001b[36m::Core.Compiler.Const(Val{2}(), false)\u001b[39m\n",
      "\u001b[90m│  \u001b[39m %7  = Base.broadcasted(Base.literal_pow, Main.:^, v, %6)\u001b[36m::Base.Broadcast.Broadcasted{Base.Broadcast.DefaultArrayStyle{0},Nothing,typeof(Base.literal_pow),Tuple{Base.RefValue{typeof(^)},Float64,Base.RefValue{Val{2}}}}\u001b[39m\n",
      "\u001b[90m│  \u001b[39m       (v2 = Base.materialize(%7))\n",
      "\u001b[90m│  \u001b[39m       (s2 = u2 + v2)\n",
      "\u001b[90m│  \u001b[39m %10 = Base.broadcasted(Main.sqrt, s2)\u001b[36m::Base.Broadcast.Broadcasted{Base.Broadcast.DefaultArrayStyle{0},Nothing,typeof(sqrt),Tuple{Float64}}\u001b[39m\n",
      "\u001b[90m│  \u001b[39m       (s = Base.materialize(%10))\n",
      "\u001b[90m└──\u001b[39m       return s\n"
     ]
    }
   ],
   "source": [
    "@code_warntype speed(1.,2.)"
   ]
  },
  {
   "cell_type": "code",
   "execution_count": 65,
   "metadata": {
    "slideshow": {
     "slide_type": "slide"
    }
   },
   "outputs": [
    {
     "data": {
      "text/plain": [
       "2-element Array{Float64,1}:\n",
       " 2.23606797749979\n",
       " 3.605551275463989"
      ]
     },
     "execution_count": 65,
     "metadata": {},
     "output_type": "execute_result"
    }
   ],
   "source": [
    "speed([1.,2.],[2.,3.])"
   ]
  },
  {
   "cell_type": "markdown",
   "metadata": {
    "slideshow": {
     "slide_type": "slide"
    }
   },
   "source": [
    "# Code generation\n",
    "\n",
    "* The julia compiler generates efficient machine code\n",
    "* Loops are not slow (compared to Python, Matlab or Octave)\n",
    "* It is still possible to use vectorized code\n",
    "  * vectorized code typically uses more memory than code with explicit loops\n",
    "  * vectorized code is slightly slower than code with with explicit loops\n",
    " "
   ]
  },
  {
   "cell_type": "code",
   "execution_count": 66,
   "metadata": {
    "slideshow": {
     "slide_type": "slide"
    }
   },
   "outputs": [
    {
     "name": "stdout",
     "output_type": "stream",
     "text": [
      "\n",
      ";  @ In[63]:1 within `speed'\n",
      "define double @julia_speed_6536(double, double) {\n",
      "top:\n",
      ";  @ In[63]:2 within `speed'\n",
      "; ┌ @ broadcast.jl:837 within `materialize'\n",
      "; │┌ @ broadcast.jl:852 within `copy'\n",
      "; ││┌ @ broadcast.jl:575 within `getindex'\n",
      "; │││┌ @ broadcast.jl:621 within `_broadcast_getindex'\n",
      "; ││││┌ @ broadcast.jl:648 within `_broadcast_getindex_evalf'\n",
      "; │││││┌ @ intfuncs.jl:296 within `literal_pow'\n",
      "; ││││││┌ @ float.jl:405 within `*'\n",
      "         %2 = fmul double %0, %0\n",
      "; └└└└└└└\n",
      ";  @ In[63]:3 within `speed'\n",
      "; ┌ @ broadcast.jl:837 within `materialize'\n",
      "; │┌ @ broadcast.jl:852 within `copy'\n",
      "; ││┌ @ broadcast.jl:575 within `getindex'\n",
      "; │││┌ @ broadcast.jl:621 within `_broadcast_getindex'\n",
      "; ││││┌ @ broadcast.jl:648 within `_broadcast_getindex_evalf'\n",
      "; │││││┌ @ intfuncs.jl:296 within `literal_pow'\n",
      "; ││││││┌ @ float.jl:405 within `*'\n",
      "         %3 = fmul double %1, %1\n",
      "; └└└└└└└\n",
      ";  @ In[63]:4 within `speed'\n",
      "; ┌ @ float.jl:401 within `+'\n",
      "   %4 = fadd double %2, %3\n",
      "; └\n",
      ";  @ In[63]:5 within `speed'\n",
      "; ┌ @ broadcast.jl:837 within `materialize'\n",
      "; │┌ @ broadcast.jl:852 within `copy'\n",
      "; ││┌ @ broadcast.jl:575 within `getindex'\n",
      "; │││┌ @ broadcast.jl:621 within `_broadcast_getindex'\n",
      "; ││││┌ @ broadcast.jl:648 within `_broadcast_getindex_evalf'\n",
      "; │││││┌ @ math.jl:574 within `sqrt'\n",
      "        %5 = call double @llvm.sqrt.f64(double %4)\n",
      "; └└└└└└\n",
      ";  @ In[63]:6 within `speed'\n",
      "  ret double %5\n",
      "}\n"
     ]
    }
   ],
   "source": [
    "@code_llvm speed(1.,2.)"
   ]
  },
  {
   "cell_type": "code",
   "execution_count": 67,
   "metadata": {
    "slideshow": {
     "slide_type": "slide"
    }
   },
   "outputs": [
    {
     "name": "stdout",
     "output_type": "stream",
     "text": [
      "\t.text\n",
      "; ┌ @ In[63]:2 within `speed'\n",
      "; │┌ @ broadcast.jl:837 within `materialize'\n",
      "; ││┌ @ broadcast.jl:852 within `copy'\n",
      "; │││┌ @ broadcast.jl:575 within `getindex'\n",
      "; ││││┌ @ broadcast.jl:621 within `_broadcast_getindex'\n",
      "; │││││┌ @ broadcast.jl:648 within `_broadcast_getindex_evalf'\n",
      "; ││││││┌ @ intfuncs.jl:296 within `literal_pow'\n",
      "; │││││││┌ @ float.jl:405 within `*'\n",
      "\tvmulsd\t%xmm0, %xmm0, %xmm0\n",
      "; │└└└└└└└\n",
      "; │ @ In[63]:3 within `speed'\n",
      "; │┌ @ broadcast.jl:837 within `materialize'\n",
      "; ││┌ @ broadcast.jl:852 within `copy'\n",
      "; │││┌ @ broadcast.jl:575 within `getindex'\n",
      "; ││││┌ @ broadcast.jl:621 within `_broadcast_getindex'\n",
      "; │││││┌ @ broadcast.jl:648 within `_broadcast_getindex_evalf'\n",
      "; ││││││┌ @ intfuncs.jl:296 within `literal_pow'\n",
      "; │││││││┌ @ float.jl:405 within `*'\n",
      "\tvmulsd\t%xmm1, %xmm1, %xmm1\n",
      "; │└└└└└└└\n",
      "; │ @ In[63]:4 within `speed'\n",
      "; │┌ @ float.jl:401 within `+'\n",
      "\tvaddsd\t%xmm1, %xmm0, %xmm0\n",
      "; │└\n",
      "; │ @ In[63]:5 within `speed'\n",
      "; │┌ @ broadcast.jl:837 within `materialize'\n",
      "; ││┌ @ broadcast.jl:852 within `copy'\n",
      "; │││┌ @ broadcast.jl:575 within `getindex'\n",
      "; ││││┌ @ broadcast.jl:621 within `_broadcast_getindex'\n",
      "; │││││┌ @ broadcast.jl:648 within `_broadcast_getindex_evalf'\n",
      "; ││││││┌ @ math.jl:574 within `sqrt'\n",
      "\tvsqrtsd\t%xmm0, %xmm0, %xmm0\n",
      "; │└└└└└└\n",
      "; │ @ In[63]:6 within `speed'\n",
      "\tretq\n",
      "\tnopw\t%cs:(%rax,%rax)\n",
      "\tnopl\t(%rax,%rax)\n",
      "; └\n"
     ]
    }
   ],
   "source": [
    "@code_native speed(1.,2.)"
   ]
  },
  {
   "cell_type": "markdown",
   "metadata": {
    "slideshow": {
     "slide_type": "slide"
    }
   },
   "source": [
    "## Benchmarks\n",
    "\n",
    "\n",
    "### Mandelbrod fractals\n",
    "\n",
    "* Median times of 30 runs\n",
    "\n",
    "| program                 |      style | run time (sec)  |\n",
    "|------------------|------------|-----------------|\n",
    "| matlab R2013a    |       loops|   5.67     |\n",
    "| matlab R2013a    |  vectorized|   2.40  |\n",
    "|  octave 3.8.1    |       loops| 184.56  |\n",
    "|  octave 3.8.1    |  vectorized|   4.72  |\n",
    "|     julia 0.5    |       loops|   0.19 |\n",
    "|     julia 0.5    |  vectorized|   2.24  |"
   ]
  },
  {
   "cell_type": "markdown",
   "metadata": {
    "slideshow": {
     "slide_type": "slide"
    }
   },
   "source": [
    "### Ensemble Transform Kalman Filter (ETKF)\n",
    "\n",
    "#### Parameters\n",
    "\n",
    "| parameter                               | value  |\n",
    "|-----------------------------------------|--------|\n",
    "| number of elements in the state vector  | 50     |\n",
    "| ensemble size                           | 100    |\n",
    "| number of observations                  | 5      |\n",
    "| number of water columns                 | 10000  |\n",
    "\n",
    "#### Run-time\n",
    "\n",
    "| Language | version | comments | run-time (s) |\n",
    "|----------|---------|----------|--------------|\n",
    "| Julia    | 0.4.5   | -          | 43.362 |\n",
    "| Fortran (gfortran)  | 4.8.4   | intrinsic matmul             |  136.481 |\n",
    "| Fortran (gfortran) | 4.8.4   | matmul calls external BLAS    |  32.483  |\n",
    "| Matlab   | R2013a  | -         | 31.1854      |\n",
    "| Octave   | 3.8.1   | -         | 58.019       |\n",
    "\n",
    "\n"
   ]
  },
  {
   "cell_type": "markdown",
   "metadata": {
    "slideshow": {
     "slide_type": "slide"
    }
   },
   "source": [
    "| Language | version | comments | run-time (s) |\n",
    "|----------|---------|----------|--------------|\n",
    "| Fortran (gfortran) | 4.8.4   | matmul calls external BLAS    |  32.483  |\n",
    "| Julia    | 0.5.0   | type-stable, without bounds check         | 29.948924 |\n"
   ]
  },
  {
   "cell_type": "markdown",
   "metadata": {
    "slideshow": {
     "slide_type": "slide"
    }
   },
   "source": [
    "# Working with files\n",
    "* open a file, and load every line sequentially"
   ]
  },
  {
   "cell_type": "code",
   "execution_count": 68,
   "metadata": {},
   "outputs": [
    {
     "name": "stdout",
     "output_type": "stream",
     "text": [
      "this\n",
      "is\n",
      "a test\n"
     ]
    }
   ],
   "source": [
    "f = open(\"file.txt\")\n",
    "for l in eachline(f)\n",
    "         println(l)\n",
    "end\n",
    "close(f)\n"
   ]
  },
  {
   "cell_type": "markdown",
   "metadata": {},
   "source": [
    "* a common error is to forget to close the file\n",
    "* with a do-block"
   ]
  },
  {
   "cell_type": "code",
   "execution_count": 69,
   "metadata": {},
   "outputs": [
    {
     "name": "stdout",
     "output_type": "stream",
     "text": [
      "this\n",
      "is\n",
      "a test\n"
     ]
    }
   ],
   "source": [
    "open(\"file.txt\") do f\n",
    "  for l in eachline(f)\n",
    "     println(l)\n",
    "  end\n",
    "end"
   ]
  },
  {
   "cell_type": "markdown",
   "metadata": {},
   "source": [
    "* similar to python's `with` statement"
   ]
  },
  {
   "cell_type": "markdown",
   "metadata": {
    "slideshow": {
     "slide_type": "slide"
    }
   },
   "source": [
    "# Visualization\n",
    "\n",
    "* Julia can call all Python modules, for instance also matplotlib\n",
    "* `PyPlot` is a matplotlib wrapper"
   ]
  },
  {
   "cell_type": "code",
   "execution_count": 70,
   "metadata": {},
   "outputs": [],
   "source": [
    "using PyPlot"
   ]
  },
  {
   "cell_type": "code",
   "execution_count": 71,
   "metadata": {
    "slideshow": {
     "slide_type": "slide"
    }
   },
   "outputs": [
    {
     "data": {
      "image/png": "[encoded data removed]",
      "text/plain": [
       "Figure(PyObject <Figure size 640x480 with 2 Axes>)"
      ]
     },
     "metadata": {},
     "output_type": "display_data"
    }
   ],
   "source": [
    "x = randn(10,10)\n",
    "pcolor(x)\n",
    "xlabel(\"x-axis\")\n",
    "ylabel(\"y-axis\")\n",
    "title(\"my plot\")\n",
    "colorbar();"
   ]
  },
  {
   "cell_type": "markdown",
   "metadata": {
    "slideshow": {
     "slide_type": "slide"
    }
   },
   "source": [
    "# Custom types"
   ]
  },
  {
   "cell_type": "code",
   "execution_count": 72,
   "metadata": {},
   "outputs": [],
   "source": [
    "using PyPlot\n",
    "using Base"
   ]
  },
  {
   "cell_type": "markdown",
   "metadata": {},
   "source": [
    "* Create a new type `ParamCovar` which represents an error covariance matrix\n",
    "* It behaves like an Array of 2 dimensions"
   ]
  },
  {
   "cell_type": "code",
   "execution_count": 73,
   "metadata": {},
   "outputs": [],
   "source": [
    "mutable struct ParamCovar{T} <: AbstractArray{T, 2} \n",
    "    n:: Int64       # dimension\n",
    "    len:: T         # correlation length\n",
    "    var:: T         # variance\n",
    "    x:: Array{T,2}  # x[i,:] are the n coordinates of the i-th grid point\n",
    "end\n",
    "\n",
    "function Base.size(PC::ParamCovar)\n",
    "    return (PC.n,PC.n)\n",
    "end\n",
    "\n",
    "function Base.getindex(PC::ParamCovar,i,j)\n",
    "    d2 = sum((PC.x[i,:] - PC.x[j,:]).^2)\n",
    "    return PC.var * exp(-d2 / (PC.len^2))\n",
    "end"
   ]
  },
  {
   "cell_type": "markdown",
   "metadata": {
    "slideshow": {
     "slide_type": "slide"
    }
   },
   "source": [
    "* Define a domain [-10,10] x [-10,10]"
   ]
  },
  {
   "cell_type": "code",
   "execution_count": 74,
   "metadata": {},
   "outputs": [],
   "source": [
    "imax = 50\n",
    "jmax = imax\n",
    "\n",
    "vx1 = range(-10,stop=10,length=imax)\n",
    "vx2 = range(-10,stop=10,length=jmax)\n",
    "\n",
    "x1 = [x1 for x1 in vx1, x2 in vx2];\n",
    "x2 = [x2 for x1 in vx1, x2 in vx2];"
   ]
  },
  {
   "cell_type": "markdown",
   "metadata": {
    "slideshow": {
     "slide_type": "slide"
    }
   },
   "source": [
    "* create an instance of the `ParamCovar` type"
   ]
  },
  {
   "cell_type": "code",
   "execution_count": 75,
   "metadata": {},
   "outputs": [],
   "source": [
    "n = length(x1)\n",
    "m = 3\n",
    "\n",
    "# n: number of grid points (total)\n",
    "# len = 4 (correlation length)\n",
    "# var = 1 (background variance)\n",
    "\n",
    "# Pf = ParamCovar{Float64}(n,4.,1.,[x1[:] x2[:]]) or just\n",
    "Pf = ParamCovar(n,4.,1.,[x1[:] x2[:]]);"
   ]
  },
  {
   "cell_type": "markdown",
   "metadata": {
    "slideshow": {
     "slide_type": "slide"
    }
   },
   "source": [
    "* setup additional matrices (observation operator $\\mathbf H$, observation error covariance matrix $\\mathbf R$, forecast $\\mathbf x_f$)"
   ]
  },
  {
   "cell_type": "code",
   "execution_count": 76,
   "metadata": {},
   "outputs": [
    {
     "data": {
      "text/plain": [
       "1225"
      ]
     },
     "execution_count": 76,
     "metadata": {},
     "output_type": "execute_result"
    }
   ],
   "source": [
    "using SparseArrays, LinearAlgebra\n",
    "\n",
    "# index of the middle of the domain\n",
    "ind = LinearIndices(size(x1))[Int64(imax/2),Int64(jmax/2)]"
   ]
  },
  {
   "cell_type": "code",
   "execution_count": 77,
   "metadata": {},
   "outputs": [],
   "source": [
    "H = sparse([1,2,3],\n",
    "           [1,ind,n], [1.,1.,1.], 3,n)\n",
    "\n",
    "R = Diagonal([1,1,1])\n",
    "yo = [1,-1,1]\n",
    "\n",
    "\n",
    "xf = zeros(n);"
   ]
  },
  {
   "cell_type": "markdown",
   "metadata": {
    "slideshow": {
     "slide_type": "slide"
    }
   },
   "source": [
    "* optimal interpolation"
   ]
  },
  {
   "cell_type": "code",
   "execution_count": 78,
   "metadata": {},
   "outputs": [
    {
     "data": {
      "image/png": "[encoded data removed]",
      "text/plain": [
       "Figure(PyObject <Figure size 640x480 with 2 Axes>)"
      ]
     },
     "metadata": {},
     "output_type": "display_data"
    },
    {
     "data": {
      "text/plain": [
       "PyObject <matplotlib.colorbar.Colorbar object at 0x7f83a94d34f0>"
      ]
     },
     "execution_count": 78,
     "metadata": {},
     "output_type": "execute_result"
    }
   ],
   "source": [
    "xa = xf + Pf * (H' * ((H*Pf*H' + R) \\ (yo - H*xf)))\n",
    "\n",
    "xa = reshape(xa,size(x1))\n",
    "pcolor(xa)\n",
    "colorbar()"
   ]
  },
  {
   "cell_type": "markdown",
   "metadata": {
    "slideshow": {
     "slide_type": "slide"
    }
   },
   "source": [
    "\n",
    "# Parallel programming\n",
    "\n",
    "* start julia with\n",
    "  * `-p`: local machine\n",
    "  * `--machinefile`:  cluster\n",
    "* or use, e.g. `addprocs(4)` to use 4 workers\n"
   ]
  },
  {
   "cell_type": "markdown",
   "metadata": {
    "slideshow": {
     "slide_type": "slide"
    }
   },
   "source": [
    "## Lower-level constructs"
   ]
  },
  {
   "cell_type": "code",
   "execution_count": 79,
   "metadata": {},
   "outputs": [
    {
     "name": "stdout",
     "output_type": "stream",
     "text": [
      "myid() = 1\n",
      "nprocs() = 9\n",
      "workers() = [2, 3, 4, 5, 6, 7, 8, 9]\n",
      "fetch(#= In[79]:14 =# @spawnat(4, myid())) = 4\n"
     ]
    },
    {
     "data": {
      "text/plain": [
       "4"
      ]
     },
     "execution_count": 79,
     "metadata": {},
     "output_type": "execute_result"
    }
   ],
   "source": [
    "using Distributed\n",
    "addprocs(4, exeflags=\"--project\")\n",
    "\n",
    "# process ID\n",
    "@show myid()\n",
    "\n",
    "# number of all process\n",
    "@show nprocs()\n",
    "\n",
    "# id of all workers\n",
    "@show workers()\n",
    "\n",
    "# run myid() on process 4\n",
    "@show fetch(@spawnat 4 myid())"
   ]
  },
  {
   "cell_type": "code",
   "execution_count": 80,
   "metadata": {
    "slideshow": {
     "slide_type": "slide"
    }
   },
   "outputs": [
    {
     "data": {
      "text/plain": [
       "32"
      ]
     },
     "execution_count": 80,
     "metadata": {},
     "output_type": "execute_result"
    }
   ],
   "source": [
    "@everywhere heavy_computation(x) =  x.^5;\n",
    "r = @spawn heavy_computation(2)\n",
    "fetch(r)\n",
    "\n",
    "r = @spawnat 2 heavy_computation(2)\n",
    "fetch(r)"
   ]
  },
  {
   "cell_type": "markdown",
   "metadata": {
    "slideshow": {
     "slide_type": "slide"
    }
   },
   "source": [
    "## Distributed arrays"
   ]
  },
  {
   "cell_type": "code",
   "execution_count": 81,
   "metadata": {},
   "outputs": [
    {
     "name": "stdout",
     "output_type": "stream",
     "text": [
      "fetch(#= In[81]:7 =# @spawnat(2, localpart(y))) = [1, 2]\n",
      "      From worker 3:\tI[1] = 3:4\n",
      "      From worker 2:\tI[1] = 1:2\n",
      "      From worker 5:\tI[1] = 6:6\n",
      "      From worker 4:\tI[1] = 5:5\n",
      "      From worker 7:\tI[1] = 8:8\n",
      "      From worker 6:\tI[1] = 7:7\n",
      "      From worker 9:\tI[1] = 10:10\n",
      "      From worker 8:\tI[1] = 9:9\n",
      "res = [1, 4, 9, 16, 25, 36, 49, 64, 81, 100]\n"
     ]
    },
    {
     "data": {
      "text/plain": [
       "10-element DArray{Int64,1,Array{Int64,1}}:\n",
       "   1\n",
       "   4\n",
       "   9\n",
       "  16\n",
       "  25\n",
       "  36\n",
       "  49\n",
       "  64\n",
       "  81\n",
       " 100"
      ]
     },
     "execution_count": 81,
     "metadata": {},
     "output_type": "execute_result"
    }
   ],
   "source": [
    "@everywhere using DistributedArrays\n",
    "\n",
    "y = distribute([1:10;])\n",
    "\n",
    "\n",
    "# get data from worker 2-5\n",
    "@show fetch(@spawnat 2 localpart(y))\n",
    "\n",
    "\n",
    "function some_complex_work(y::DArray)\n",
    "    return DArray(size(y),procs(y)) do I\n",
    "        @show I[1]        \n",
    "        return localpart(y).^2\n",
    "    end\n",
    "end\n",
    "\n",
    "res = some_complex_work(y)\n",
    "@show res"
   ]
  },
  {
   "cell_type": "markdown",
   "metadata": {
    "slideshow": {
     "slide_type": "slide"
    }
   },
   "source": [
    "* work with two distributed arrays"
   ]
  },
  {
   "cell_type": "code",
   "execution_count": 82,
   "metadata": {},
   "outputs": [
    {
     "name": "stdout",
     "output_type": "stream",
     "text": [
      "      From worker 4:\tI = (5:5,)\n",
      "      From worker 2:\tI = (1:2,)\n",
      "      From worker 3:\tI = (3:4,)\n",
      "      From worker 5:\tI = (6:6,)\n",
      "      From worker 9:\tI = (10:10,)\n",
      "      From worker 7:\tI = (8:8,)\n",
      "      From worker 8:\tI = (9:9,)\n",
      "      From worker 6:\tI = (7:7,)\n",
      "res = [5, 20, 45, 80, 125, 180, 245, 320, 405, 500]\n"
     ]
    },
    {
     "data": {
      "text/plain": [
       "10-element DArray{Int64,1,Array{Int64,1}}:\n",
       "   5\n",
       "  20\n",
       "  45\n",
       "  80\n",
       " 125\n",
       " 180\n",
       " 245\n",
       " 320\n",
       " 405\n",
       " 500"
      ]
     },
     "execution_count": 82,
     "metadata": {},
     "output_type": "execute_result"
    }
   ],
   "source": [
    "function some_complex_work2(y::DArray, z::DArray)\n",
    "    return DArray(size(y),procs(y)) do I\n",
    "        @show I\n",
    "        localpart(y).^2 + localpart(z).^2\n",
    "    end\n",
    "end\n",
    "\n",
    "z = distribute(2*[1:10;])\n",
    "\n",
    "res = some_complex_work2(y,z)\n",
    "@show res"
   ]
  },
  {
   "cell_type": "code",
   "execution_count": 83,
   "metadata": {},
   "outputs": [
    {
     "data": {
      "text/plain": [
       "10-element DArray{Float64,1,Array{Float64,1}}:\n",
       " -0.9822486727396194\n",
       " -0.21548852186253303\n",
       " -0.8013202743544913\n",
       " -1.3612933462788264\n",
       " -0.8519575644011128\n",
       " -1.3734693004181975\n",
       " -0.34974976239346994\n",
       "  0.9567885862367794\n",
       "  0.9438356072506824\n",
       "  1.219620667344538"
      ]
     },
     "execution_count": 83,
     "metadata": {},
     "output_type": "execute_result"
    }
   ],
   "source": [
    "function smoothing(y::DArray)\n",
    "    return DArray(size(y),procs(y)) do I\n",
    "        tmp = zeros(length(I[1])); \n",
    "        for i = I[1]\n",
    "            if i > 1 && i < length(y)\n",
    "                tmp[i - first(I[1]) + 1] = 0.1 * y[i-1] + 0.8 * y[i] + 0.1 * y[i+1]\n",
    "            else\n",
    "                tmp[i - first(I[1]) + 1] = y[i]\n",
    "            end\n",
    "        end\n",
    "        return tmp\n",
    "    end    \n",
    "end\n",
    "\n",
    "x = drandn(10)"
   ]
  },
  {
   "cell_type": "code",
   "execution_count": 84,
   "metadata": {},
   "outputs": [
    {
     "data": {
      "image/png": "[encoded data removed]",
      "text/plain": [
       "Figure(PyObject <Figure size 640x480 with 1 Axes>)"
      ]
     },
     "metadata": {},
     "output_type": "display_data"
    }
   ],
   "source": [
    "plot(x); \n",
    "xs = smoothing(x); plot(xs);\n",
    "xs = smoothing(xs); plot(xs);\n",
    "xs = smoothing(xs); plot(xs);\n",
    "xs = smoothing(xs); plot(xs);\n"
   ]
  },
  {
   "cell_type": "markdown",
   "metadata": {
    "slideshow": {
     "slide_type": "slide"
    }
   },
   "source": [
    "# Julia with SLURM (e.g. nic4,...)\n",
    "\n",
    "* Use the package [ClusterManager](https://github.com/JuliaParallel/ClusterManagers.jl) for parallel processing\n",
    "* Do not use the option `--machinefile` as it bypasses SLURM.\n",
    "* A full example would be (`submit_julia.sh`):\n",
    "\n",
    "```bash\n",
    "#!/bin/bash\n",
    "#SBATCH --job-name=julia\n",
    "#SBATCH --output=output-%N-%j.out\n",
    "#SBATCH --cpus-per-task=1\n",
    "\n",
    "export script=\"$1\"\n",
    "echo Julia script $script\n",
    "\n",
    "bt0=$(date +%s)\n",
    "\n",
    "julia <<EOF\n",
    "using ClusterManagers\n",
    "addprocs(SlurmManager($SLURM_NTASKS))\n",
    "\n",
    "# Test the connection\n",
    "hosts = []\n",
    "for i in workers()\n",
    "    host, pid = fetch(@spawnat i (gethostname(), getpid()))\n",
    "    push!(hosts, host)\n",
    "end\n",
    "\n",
    "@show hosts\n",
    "\n",
    "# Run the script\n",
    "include(\"$script\")\n",
    "\n",
    "# The Slurm resource allocation is released when all the workers have\n",
    "# exited\n",
    "for i in workers()\n",
    "    rmprocs(i)\n",
    "end\n",
    "EOF\n",
    "\n",
    "bt1=$(date +%s)\n",
    "\n",
    "awk  \" BEGIN { print \\\"Run time (hours): \\\",($bt1 - $bt0)/3600 } \"\n",
    "```\n",
    "\n",
    "* The script can be used as:\n",
    "\n",
    "```bash\n",
    "sbatch --ntasks=2 --time=20:00:00 --mem-per-cpu=3000 --job-name=myjob submit_julia.sh /path/to/julia/script.jl\n",
    "```"
   ]
  },
  {
   "cell_type": "markdown",
   "metadata": {
    "slideshow": {
     "slide_type": "slide"
    }
   },
   "source": [
    "## Other nice features of Julia\n",
    "\n",
    "* good document of the Julia language: http://docs.julialang.org/en/stable/\n",
    "* find documentation from the julia REPL"
   ]
  },
  {
   "cell_type": "code",
   "execution_count": 85,
   "metadata": {},
   "outputs": [
    {
     "name": "stdout",
     "output_type": "stream",
     "text": [
      "Statistics.cor\n"
     ]
    }
   ],
   "source": [
    "apropos(\"Pearson\")"
   ]
  },
  {
   "cell_type": "code",
   "execution_count": 86,
   "metadata": {},
   "outputs": [],
   "source": [
    "using Statistics"
   ]
  },
  {
   "cell_type": "code",
   "execution_count": 87,
   "metadata": {},
   "outputs": [
    {
     "name": "stdout",
     "output_type": "stream",
     "text": [
      "search: \u001b[0m\u001b[1mc\u001b[22m\u001b[0m\u001b[1mo\u001b[22m\u001b[0m\u001b[1mr\u001b[22m \u001b[0m\u001b[1mC\u001b[22m\u001b[0m\u001b[1mo\u001b[22m\u001b[0m\u001b[1mr\u001b[22me a\u001b[0m\u001b[1mc\u001b[22m\u001b[0m\u001b[1mo\u001b[22m\u001b[0m\u001b[1mr\u001b[22mr Ve\u001b[0m\u001b[1mc\u001b[22m\u001b[0m\u001b[1mO\u001b[22m\u001b[0m\u001b[1mr\u001b[22mMat Ve\u001b[0m\u001b[1mc\u001b[22mt\u001b[0m\u001b[1mo\u001b[22m\u001b[0m\u001b[1mr\u001b[22m fa\u001b[0m\u001b[1mc\u001b[22mt\u001b[0m\u001b[1mo\u001b[22m\u001b[0m\u001b[1mr\u001b[22mial fa\u001b[0m\u001b[1mc\u001b[22mt\u001b[0m\u001b[1mo\u001b[22m\u001b[0m\u001b[1mr\u001b[22mize Fa\u001b[0m\u001b[1mc\u001b[22mt\u001b[0m\u001b[1mo\u001b[22m\u001b[0m\u001b[1mr\u001b[22mization\n",
      "\n"
     ]
    },
    {
     "data": {
      "text/latex": [
       "\\begin{verbatim}\n",
       "cor(x::AbstractVector)\n",
       "\\end{verbatim}\n",
       "Return the number one.\n",
       "\n",
       "\\rule{\\textwidth}{1pt}\n",
       "\\begin{verbatim}\n",
       "cor(X::AbstractMatrix; dims::Int=1)\n",
       "\\end{verbatim}\n",
       "Compute the Pearson correlation matrix of the matrix \\texttt{X} along the dimension \\texttt{dims}.\n",
       "\n",
       "\\rule{\\textwidth}{1pt}\n",
       "\\begin{verbatim}\n",
       "cor(x::AbstractVector, y::AbstractVector)\n",
       "\\end{verbatim}\n",
       "Compute the Pearson correlation between the vectors \\texttt{x} and \\texttt{y}.\n",
       "\n",
       "\\rule{\\textwidth}{1pt}\n",
       "\\begin{verbatim}\n",
       "cor(X::AbstractVecOrMat, Y::AbstractVecOrMat; dims=1)\n",
       "\\end{verbatim}\n",
       "Compute the Pearson correlation between the vectors or matrices \\texttt{X} and \\texttt{Y} along the dimension \\texttt{dims}.\n",
       "\n"
      ],
      "text/markdown": [
       "```\n",
       "cor(x::AbstractVector)\n",
       "```\n",
       "\n",
       "Return the number one.\n",
       "\n",
       "---\n",
       "\n",
       "```\n",
       "cor(X::AbstractMatrix; dims::Int=1)\n",
       "```\n",
       "\n",
       "Compute the Pearson correlation matrix of the matrix `X` along the dimension `dims`.\n",
       "\n",
       "---\n",
       "\n",
       "```\n",
       "cor(x::AbstractVector, y::AbstractVector)\n",
       "```\n",
       "\n",
       "Compute the Pearson correlation between the vectors `x` and `y`.\n",
       "\n",
       "---\n",
       "\n",
       "```\n",
       "cor(X::AbstractVecOrMat, Y::AbstractVecOrMat; dims=1)\n",
       "```\n",
       "\n",
       "Compute the Pearson correlation between the vectors or matrices `X` and `Y` along the dimension `dims`.\n"
      ],
      "text/plain": [
       "\u001b[36m  cor(x::AbstractVector)\u001b[39m\n",
       "\n",
       "  Return the number one.\n",
       "\n",
       "  ────────────────────────────────────────────────────────────────────────────\n",
       "\n",
       "\u001b[36m  cor(X::AbstractMatrix; dims::Int=1)\u001b[39m\n",
       "\n",
       "  Compute the Pearson correlation matrix of the matrix \u001b[36mX\u001b[39m along the dimension\n",
       "  \u001b[36mdims\u001b[39m.\n",
       "\n",
       "  ────────────────────────────────────────────────────────────────────────────\n",
       "\n",
       "\u001b[36m  cor(x::AbstractVector, y::AbstractVector)\u001b[39m\n",
       "\n",
       "  Compute the Pearson correlation between the vectors \u001b[36mx\u001b[39m and \u001b[36my\u001b[39m.\n",
       "\n",
       "  ────────────────────────────────────────────────────────────────────────────\n",
       "\n",
       "\u001b[36m  cor(X::AbstractVecOrMat, Y::AbstractVecOrMat; dims=1)\u001b[39m\n",
       "\n",
       "  Compute the Pearson correlation between the vectors or matrices \u001b[36mX\u001b[39m and \u001b[36mY\u001b[39m\n",
       "  along the dimension \u001b[36mdims\u001b[39m."
      ]
     },
     "execution_count": 87,
     "metadata": {},
     "output_type": "execute_result"
    }
   ],
   "source": [
    "?cor"
   ]
  },
  {
   "cell_type": "markdown",
   "metadata": {
    "slideshow": {
     "slide_type": "slide"
    }
   },
   "source": [
    "* get all field names of a type (introspection)"
   ]
  },
  {
   "cell_type": "code",
   "execution_count": 88,
   "metadata": {
    "scrolled": true
   },
   "outputs": [
    {
     "data": {
      "text/plain": [
       "(:m, :n, :colptr, :rowval, :nzval)"
      ]
     },
     "execution_count": 88,
     "metadata": {},
     "output_type": "execute_result"
    }
   ],
   "source": [
    "using SparseArrays\n",
    "S = sparse([1,2],[1,2],[2,3]);\n",
    "fieldnames(typeof(S))"
   ]
  },
  {
   "cell_type": "markdown",
   "metadata": {},
   "source": [
    "* Most of julia (the programming environement) is written in julia (the language). It is easy to find out where functions or operators are defined:"
   ]
  },
  {
   "cell_type": "code",
   "execution_count": 89,
   "metadata": {},
   "outputs": [
    {
     "data": {
      "text/html": [
       "sparse(I, J, V::<b>AbstractArray{T,1} where T</b>) in SparseArrays at <a href=\"file:///buildworker/worker/package_linux64/build/usr/share/julia/stdlib/v1.5/SparseArrays/src/sparsematrix.jl\" target=\"_blank\">/opt/julia-1.7.0/share/julia/stdlib/v1.5/SparseArrays/src/sparsematrix.jl:888</a>"
      ],
      "text/plain": [
       "sparse(I, J, V::AbstractArray{T,1} where T) in SparseArrays at /opt/julia-1.7.0/share/julia/stdlib/v1.5/SparseArrays/src/sparsematrix.jl:888"
      ]
     },
     "execution_count": 89,
     "metadata": {},
     "output_type": "execute_result"
    }
   ],
   "source": [
    "@which sparse([1,2],[1,2],[2,3])"
   ]
  },
  {
   "cell_type": "markdown",
   "metadata": {},
   "source": [
    "* List all functions with a given name (but operating on a different type)"
   ]
  },
  {
   "cell_type": "code",
   "execution_count": 90,
   "metadata": {
    "slideshow": {
     "slide_type": "slide"
    }
   },
   "outputs": [
    {
     "data": {
      "text/html": [
       "# 21 methods for generic function <b>diag</b>:<ul><li> diag(B::<b>BitArray{2}</b>) in LinearAlgebra at <a href=\"file:///buildworker/worker/package_linux64/build/usr/share/julia/stdlib/v1.5/LinearAlgebra/src/bitarray.jl\" target=\"_blank\">/opt/julia-1.7.0/share/julia/stdlib/v1.5/LinearAlgebra/src/bitarray.jl:79</a></li> <li> diag(M::<b>SymTridiagonal{var\"#s828\",V} where V<:AbstractArray{var\"#s828\",1} where var\"#s828\"<:Number</b>) in LinearAlgebra at <a href=\"file:///buildworker/worker/package_linux64/build/usr/share/julia/stdlib/v1.5/LinearAlgebra/src/tridiag.jl\" target=\"_blank\">/opt/julia-1.7.0/share/julia/stdlib/v1.5/LinearAlgebra/src/tridiag.jl:173</a></li> <li> diag(M::<b>SymTridiagonal{var\"#s827\",V} where V<:AbstractArray{var\"#s827\",1} where var\"#s827\"<:Number</b>, n::<b>Integer</b>) in LinearAlgebra at <a href=\"file:///buildworker/worker/package_linux64/build/usr/share/julia/stdlib/v1.5/LinearAlgebra/src/tridiag.jl\" target=\"_blank\">/opt/julia-1.7.0/share/julia/stdlib/v1.5/LinearAlgebra/src/tridiag.jl:173</a></li> <li> diag(M::<b>SymTridiagonal</b>) in LinearAlgebra at <a href=\"file:///buildworker/worker/package_linux64/build/usr/share/julia/stdlib/v1.5/LinearAlgebra/src/tridiag.jl\" target=\"_blank\">/opt/julia-1.7.0/share/julia/stdlib/v1.5/LinearAlgebra/src/tridiag.jl:188</a></li> <li> diag(M::<b>SymTridiagonal</b>, n::<b>Integer</b>) in LinearAlgebra at <a href=\"file:///buildworker/worker/package_linux64/build/usr/share/julia/stdlib/v1.5/LinearAlgebra/src/tridiag.jl\" target=\"_blank\">/opt/julia-1.7.0/share/julia/stdlib/v1.5/LinearAlgebra/src/tridiag.jl:188</a></li> <li> diag(M::<b>Tridiagonal{T,V} where V<:AbstractArray{T,1}</b>)<i> where T</i> in LinearAlgebra at <a href=\"file:///buildworker/worker/package_linux64/build/usr/share/julia/stdlib/v1.5/LinearAlgebra/src/tridiag.jl\" target=\"_blank\">/opt/julia-1.7.0/share/julia/stdlib/v1.5/LinearAlgebra/src/tridiag.jl:611</a></li> <li> diag(M::<b>Tridiagonal{T,V} where V<:AbstractArray{T,1}</b>, n::<b>Integer</b>)<i> where T</i> in LinearAlgebra at <a href=\"file:///buildworker/worker/package_linux64/build/usr/share/julia/stdlib/v1.5/LinearAlgebra/src/tridiag.jl\" target=\"_blank\">/opt/julia-1.7.0/share/julia/stdlib/v1.5/LinearAlgebra/src/tridiag.jl:611</a></li> <li> diag(A::<b>LowerTriangular</b>) in LinearAlgebra at <a href=\"file:///buildworker/worker/package_linux64/build/usr/share/julia/stdlib/v1.5/LinearAlgebra/src/triangular.jl\" target=\"_blank\">/opt/julia-1.7.0/share/julia/stdlib/v1.5/LinearAlgebra/src/triangular.jl:425</a></li> <li> diag(A::<b>UnitLowerTriangular</b>) in LinearAlgebra at <a href=\"file:///buildworker/worker/package_linux64/build/usr/share/julia/stdlib/v1.5/LinearAlgebra/src/triangular.jl\" target=\"_blank\">/opt/julia-1.7.0/share/julia/stdlib/v1.5/LinearAlgebra/src/triangular.jl:426</a></li> <li> diag(A::<b>UpperTriangular</b>) in LinearAlgebra at <a href=\"file:///buildworker/worker/package_linux64/build/usr/share/julia/stdlib/v1.5/LinearAlgebra/src/triangular.jl\" target=\"_blank\">/opt/julia-1.7.0/share/julia/stdlib/v1.5/LinearAlgebra/src/triangular.jl:427</a></li> <li> diag(A::<b>UnitUpperTriangular</b>) in LinearAlgebra at <a href=\"file:///buildworker/worker/package_linux64/build/usr/share/julia/stdlib/v1.5/LinearAlgebra/src/triangular.jl\" target=\"_blank\">/opt/julia-1.7.0/share/julia/stdlib/v1.5/LinearAlgebra/src/triangular.jl:428</a></li> <li> diag(D::<b>Diagonal</b>) in LinearAlgebra at <a href=\"file:///buildworker/worker/package_linux64/build/usr/share/julia/stdlib/v1.5/LinearAlgebra/src/diagonal.jl\" target=\"_blank\">/opt/julia-1.7.0/share/julia/stdlib/v1.5/LinearAlgebra/src/diagonal.jl:550</a></li> <li> diag(D::<b>Diagonal</b>, k::<b>Integer</b>) in LinearAlgebra at <a href=\"file:///buildworker/worker/package_linux64/build/usr/share/julia/stdlib/v1.5/LinearAlgebra/src/diagonal.jl\" target=\"_blank\">/opt/julia-1.7.0/share/julia/stdlib/v1.5/LinearAlgebra/src/diagonal.jl:550</a></li> <li> diag(M::<b>Bidiagonal</b>) in LinearAlgebra at <a href=\"file:///buildworker/worker/package_linux64/build/usr/share/julia/stdlib/v1.5/LinearAlgebra/src/bidiag.jl\" target=\"_blank\">/opt/julia-1.7.0/share/julia/stdlib/v1.5/LinearAlgebra/src/bidiag.jl:332</a></li> <li> diag(M::<b>Bidiagonal</b>, n::<b>Integer</b>) in LinearAlgebra at <a href=\"file:///buildworker/worker/package_linux64/build/usr/share/julia/stdlib/v1.5/LinearAlgebra/src/bidiag.jl\" target=\"_blank\">/opt/julia-1.7.0/share/julia/stdlib/v1.5/LinearAlgebra/src/bidiag.jl:332</a></li> <li> diag(A::<b>SparseArrays.AbstractSparseMatrixCSC{Tv,Ti}</b>)<i> where {Tv, Ti}</i> in SparseArrays at <a href=\"file:///buildworker/worker/package_linux64/build/usr/share/julia/stdlib/v1.5/SparseArrays/src/sparsematrix.jl\" target=\"_blank\">/opt/julia-1.7.0/share/julia/stdlib/v1.5/SparseArrays/src/sparsematrix.jl:3510</a></li> <li> diag(A::<b>SparseArrays.AbstractSparseMatrixCSC{Tv,Ti}</b>, d::<b>Integer</b>)<i> where {Tv, Ti}</i> in SparseArrays at <a href=\"file:///buildworker/worker/package_linux64/build/usr/share/julia/stdlib/v1.5/SparseArrays/src/sparsematrix.jl\" target=\"_blank\">/opt/julia-1.7.0/share/julia/stdlib/v1.5/SparseArrays/src/sparsematrix.jl:3510</a></li> <li> diag(A::<b>AbstractArray{T,1} where T</b>) in LinearAlgebra at <a href=\"file:///buildworker/worker/package_linux64/build/usr/share/julia/stdlib/v1.5/LinearAlgebra/src/generic.jl\" target=\"_blank\">/opt/julia-1.7.0/share/julia/stdlib/v1.5/LinearAlgebra/src/generic.jl:425</a></li> <li> diag(A::<b>AbstractArray{T,2} where T</b>) in LinearAlgebra at <a href=\"file:///buildworker/worker/package_linux64/build/usr/share/julia/stdlib/v1.5/LinearAlgebra/src/dense.jl\" target=\"_blank\">/opt/julia-1.7.0/share/julia/stdlib/v1.5/LinearAlgebra/src/dense.jl:246</a></li> <li> diag(A::<b>AbstractArray{T,2} where T</b>, k::<b>Integer</b>) in LinearAlgebra at <a href=\"file:///buildworker/worker/package_linux64/build/usr/share/julia/stdlib/v1.5/LinearAlgebra/src/dense.jl\" target=\"_blank\">/opt/julia-1.7.0/share/julia/stdlib/v1.5/LinearAlgebra/src/dense.jl:246</a></li> <li> diag(F::<b>SuiteSparse.CHOLMOD.Factor{Tv}</b>)<i> where Tv</i> in SuiteSparse.CHOLMOD at <a href=\"file:///buildworker/worker/package_linux64/build/usr/share/julia/stdlib/v1.5/SuiteSparse/src/cholmod.jl\" target=\"_blank\">/opt/julia-1.7.0/share/julia/stdlib/v1.5/SuiteSparse/src/cholmod.jl:1766</a></li> </ul>"
      ],
      "text/plain": [
       "# 21 methods for generic function \"diag\":\n",
       "[1] diag(B::BitArray{2}) in LinearAlgebra at /opt/julia-1.7.0/share/julia/stdlib/v1.5/LinearAlgebra/src/bitarray.jl:79\n",
       "[2] diag(M::SymTridiagonal{var\"#s828\",V} where V<:AbstractArray{var\"#s828\",1} where var\"#s828\"<:Number) in LinearAlgebra at /opt/julia-1.7.0/share/julia/stdlib/v1.5/LinearAlgebra/src/tridiag.jl:173\n",
       "[3] diag(M::SymTridiagonal{var\"#s827\",V} where V<:AbstractArray{var\"#s827\",1} where var\"#s827\"<:Number, n::Integer) in LinearAlgebra at /opt/julia-1.7.0/share/julia/stdlib/v1.5/LinearAlgebra/src/tridiag.jl:173\n",
       "[4] diag(M::SymTridiagonal) in LinearAlgebra at /opt/julia-1.7.0/share/julia/stdlib/v1.5/LinearAlgebra/src/tridiag.jl:188\n",
       "[5] diag(M::SymTridiagonal, n::Integer) in LinearAlgebra at /opt/julia-1.7.0/share/julia/stdlib/v1.5/LinearAlgebra/src/tridiag.jl:188\n",
       "[6] diag(M::Tridiagonal{T,V} where V<:AbstractArray{T,1}) where T in LinearAlgebra at /opt/julia-1.7.0/share/julia/stdlib/v1.5/LinearAlgebra/src/tridiag.jl:611\n",
       "[7] diag(M::Tridiagonal{T,V} where V<:AbstractArray{T,1}, n::Integer) where T in LinearAlgebra at /opt/julia-1.7.0/share/julia/stdlib/v1.5/LinearAlgebra/src/tridiag.jl:611\n",
       "[8] diag(A::LowerTriangular) in LinearAlgebra at /opt/julia-1.7.0/share/julia/stdlib/v1.5/LinearAlgebra/src/triangular.jl:425\n",
       "[9] diag(A::UnitLowerTriangular) in LinearAlgebra at /opt/julia-1.7.0/share/julia/stdlib/v1.5/LinearAlgebra/src/triangular.jl:426\n",
       "[10] diag(A::UpperTriangular) in LinearAlgebra at /opt/julia-1.7.0/share/julia/stdlib/v1.5/LinearAlgebra/src/triangular.jl:427\n",
       "[11] diag(A::UnitUpperTriangular) in LinearAlgebra at /opt/julia-1.7.0/share/julia/stdlib/v1.5/LinearAlgebra/src/triangular.jl:428\n",
       "[12] diag(D::Diagonal) in LinearAlgebra at /opt/julia-1.7.0/share/julia/stdlib/v1.5/LinearAlgebra/src/diagonal.jl:550\n",
       "[13] diag(D::Diagonal, k::Integer) in LinearAlgebra at /opt/julia-1.7.0/share/julia/stdlib/v1.5/LinearAlgebra/src/diagonal.jl:550\n",
       "[14] diag(M::Bidiagonal) in LinearAlgebra at /opt/julia-1.7.0/share/julia/stdlib/v1.5/LinearAlgebra/src/bidiag.jl:332\n",
       "[15] diag(M::Bidiagonal, n::Integer) in LinearAlgebra at /opt/julia-1.7.0/share/julia/stdlib/v1.5/LinearAlgebra/src/bidiag.jl:332\n",
       "[16] diag(A::SparseArrays.AbstractSparseMatrixCSC{Tv,Ti}) where {Tv, Ti} in SparseArrays at /opt/julia-1.7.0/share/julia/stdlib/v1.5/SparseArrays/src/sparsematrix.jl:3510\n",
       "[17] diag(A::SparseArrays.AbstractSparseMatrixCSC{Tv,Ti}, d::Integer) where {Tv, Ti} in SparseArrays at /opt/julia-1.7.0/share/julia/stdlib/v1.5/SparseArrays/src/sparsematrix.jl:3510\n",
       "[18] diag(A::AbstractArray{T,1} where T) in LinearAlgebra at /opt/julia-1.7.0/share/julia/stdlib/v1.5/LinearAlgebra/src/generic.jl:425\n",
       "[19] diag(A::AbstractArray{T,2} where T) in LinearAlgebra at /opt/julia-1.7.0/share/julia/stdlib/v1.5/LinearAlgebra/src/dense.jl:246\n",
       "[20] diag(A::AbstractArray{T,2} where T, k::Integer) in LinearAlgebra at /opt/julia-1.7.0/share/julia/stdlib/v1.5/LinearAlgebra/src/dense.jl:246\n",
       "[21] diag(F::SuiteSparse.CHOLMOD.Factor{Tv}) where Tv in SuiteSparse.CHOLMOD at /opt/julia-1.7.0/share/julia/stdlib/v1.5/SuiteSparse/src/cholmod.jl:1766"
      ]
     },
     "execution_count": 90,
     "metadata": {},
     "output_type": "execute_result"
    }
   ],
   "source": [
    "using LinearAlgebra\n",
    "methods(diag)"
   ]
  },
  {
   "cell_type": "markdown",
   "metadata": {
    "collapsed": true,
    "slideshow": {
     "slide_type": "slide"
    }
   },
   "source": [
    "* integrated package manager\n",
    "\n",
    "```julia\n",
    "Pkg.add(\"DataAssim\")\n",
    "```\n",
    "\n",
    "* Have a look at: http://pkg.julialang.org/"
   ]
  },
  {
   "cell_type": "markdown",
   "metadata": {
    "slideshow": {
     "slide_type": "slide"
    }
   },
   "source": [
    "* Easy to write documentation in markdown\n",
    "* Support for jupyter\n",
    "* Easy to use with github, travis-ci, codecov.io\n",
    "* Support of macros (function that can transform your code)\n",
    "* Numerous constructs to avoid copying data\n",
    "  * pass argument by reference instead of by value\n",
    "  * `reshape` gives a different view on the data\n",
    "  * `SubArray` ` \n"
   ]
  },
  {
   "cell_type": "code",
   "execution_count": 91,
   "metadata": {},
   "outputs": [
    {
     "name": "stdout",
     "output_type": "stream",
     "text": [
      "A = [1 2 3; 4 5 6]\n",
      "b = [1, 4]\n",
      "A = [100 2 3; 4 5 6]\n"
     ]
    },
    {
     "data": {
      "text/plain": [
       "2×3 Array{Int64,2}:\n",
       " 100  2  3\n",
       "   4  5  6"
      ]
     },
     "execution_count": 91,
     "metadata": {},
     "output_type": "execute_result"
    }
   ],
   "source": [
    "A = [1 2 3; 4 5 6];\n",
    "@show A\n",
    "b = view(A,:,1)\n",
    "@show b\n",
    "b[1] = 100\n",
    "@show A"
   ]
  },
  {
   "cell_type": "markdown",
   "metadata": {
    "slideshow": {
     "slide_type": "slide"
    }
   },
   "source": [
    "* list comprehension"
   ]
  },
  {
   "cell_type": "code",
   "execution_count": 92,
   "metadata": {},
   "outputs": [
    {
     "data": {
      "text/plain": [
       "6-element Array{Float64,1}:\n",
       " 0.0\n",
       " 0.5877852522924731\n",
       " 0.9510565162951535\n",
       " 0.9510565162951536\n",
       " 0.5877852522924732\n",
       " 1.2246467991473532e-16"
      ]
     },
     "execution_count": 92,
     "metadata": {},
     "output_type": "execute_result"
    }
   ],
   "source": [
    "A = [sin(π * x) for x = 0:0.2:1]"
   ]
  },
  {
   "cell_type": "code",
   "execution_count": 93,
   "metadata": {},
   "outputs": [
    {
     "data": {
      "text/plain": [
       "6×6 Array{Float64,2}:\n",
       " 0.0  0.0          0.0          0.0          0.0          0.0\n",
       " 0.0  0.345492     0.559017     0.559017     0.345492     7.19829e-17\n",
       " 0.0  0.559017     0.904508     0.904508     0.559017     1.16471e-16\n",
       " 0.0  0.559017     0.904508     0.904508     0.559017     1.16471e-16\n",
       " 0.0  0.345492     0.559017     0.559017     0.345492     7.19829e-17\n",
       " 0.0  7.19829e-17  1.16471e-16  1.16471e-16  7.19829e-17  1.49976e-32"
      ]
     },
     "execution_count": 93,
     "metadata": {},
     "output_type": "execute_result"
    }
   ],
   "source": [
    "A = [sin(π * x) * sin(π * y) for x = 0:0.2:1, y = 0:0.2:1]"
   ]
  },
  {
   "cell_type": "markdown",
   "metadata": {},
   "source": [
    "* do you like shell pipes? (in DIVA 1081 shell pipes for 154 scripts)"
   ]
  },
  {
   "cell_type": "code",
   "execution_count": 94,
   "metadata": {},
   "outputs": [
    {
     "data": {
      "text/plain": [
       "54"
      ]
     },
     "execution_count": 94,
     "metadata": {},
     "output_type": "execute_result"
    }
   ],
   "source": [
    "[1:5;]  |> x->x.^2 |> x-> x[x .> 2] |> sum"
   ]
  },
  {
   "cell_type": "markdown",
   "metadata": {
    "slideshow": {
     "slide_type": "slide"
    }
   },
   "source": [
    "* Support for GPU programming with GPUArray.jl, CuArray.jl and CUDAnative.jl\n",
    "* Interesting read: [A Journey Through Julia: A dynamic and fast language](http://hdl.handle.net/2268/203491) from Thibaut Cuvelier"
   ]
  },
  {
   "cell_type": "markdown",
   "metadata": {
    "slideshow": {
     "slide_type": "slide"
    }
   },
   "source": [
    "# Caveats\n",
    "\n",
    "* Plotting data with missing values is/was not as straight-foreward as in Matlab/Octave. Now PyPlot ignored NaNs as in Matlab/Octave\n",
    "* It takes some time to compile/recompile modules  (which can be a bit annoying in interactive use)\n",
    "* Still a young language\n"
   ]
  },
  {
   "cell_type": "code",
   "execution_count": null,
   "metadata": {},
   "outputs": [],
   "source": []
  }
 ],
 "metadata": {
  "@webio": {
   "lastCommId": null,
   "lastKernelId": null
  },
  "celltoolbar": "Slideshow",
  "kernelspec": {
   "display_name": "Julia 1.7.2",
   "language": "julia",
   "name": "julia-1.7"
  },
  "language_info": {
   "file_extension": ".jl",
   "mimetype": "application/julia",
   "name": "julia",
   "version": "1.6.0"
  }
 },
 "nbformat": 4,
 "nbformat_minor": 1
}
