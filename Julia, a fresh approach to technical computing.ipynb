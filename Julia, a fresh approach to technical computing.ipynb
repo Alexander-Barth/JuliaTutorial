{
 "cells": [
  {
   "cell_type": "markdown",
   "metadata": {
    "slideshow": {
     "slide_type": "slide"
    }
   },
   "source": [
    "# Julia: a fresh approach to technical computing\n",
    "\n",
    "\n",
    "* Julia is a high-level programming language for technical computing which allows you to manipulate and analyse large data sets\n",
    "* Other programming languages similar to Julia are Matlab and Python\n",
    "* Unlike Python, Julia is build from the ground for techical computing\n",
    "* Unlike Matlab, julia is free and open-source software\n",
    "* Julia is fast (http://julialang.org/benchmarks/: these are microbenchmark (with explicit loops) to be taken with a grain of salt, and see also benchmarks below)\n",
    "\n",
    "\n",
    "## Try Julia\n",
    "\n",
    "* Try julia online at https://juliabox.com/"
   ]
  },
  {
   "cell_type": "markdown",
   "metadata": {
    "slideshow": {
     "slide_type": "slide"
    }
   },
   "source": [
    "## Install Julia\n",
    "\n",
    "* Go to http://julialang.org/downloads/\n",
    "* Install also a text editor with julia support (e.g. emacs with the julia mode)\n",
    "\n",
    "### Optionally\n",
    "\n",
    "* Install Jupyter http://jupyter.org/"
   ]
  },
  {
   "cell_type": "markdown",
   "metadata": {
    "slideshow": {
     "slide_type": "slide"
    }
   },
   "source": [
    "# Variable declarations \n",
    "\n",
    "## Unicode\n",
    "\n",
    "* Unicode in in variables names and function\n",
    "* For example greek letters\n",
    "* Typed as, e.g. \\alpha followed by Tab (in text editor with Julia support)"
   ]
  },
  {
   "cell_type": "code",
   "execution_count": 1,
   "metadata": {
    "slideshow": {
     "slide_type": "-"
    }
   },
   "outputs": [
    {
     "data": {
      "text/plain": [
       "4"
      ]
     },
     "execution_count": 1,
     "metadata": {},
     "output_type": "execute_result"
    }
   ],
   "source": [
    "α = π/2\n",
    "σ² = 4"
   ]
  },
  {
   "cell_type": "markdown",
   "metadata": {
    "slideshow": {
     "slide_type": "-"
    }
   },
   "source": [
    "* Also for function names"
   ]
  },
  {
   "cell_type": "code",
   "execution_count": 2,
   "metadata": {
    "slideshow": {
     "slide_type": "-"
    }
   },
   "outputs": [
    {
     "data": {
      "text/plain": [
       "my_serious_function😼 (generic function with 1 method)"
      ]
     },
     "execution_count": 2,
     "metadata": {},
     "output_type": "execute_result"
    }
   ],
   "source": [
    "function my_serious_function😼(x,y)\n",
    "    return y,x\n",
    "end"
   ]
  },
  {
   "cell_type": "code",
   "execution_count": 3,
   "metadata": {
    "slideshow": {
     "slide_type": "-"
    }
   },
   "outputs": [
    {
     "data": {
      "text/plain": [
       "(2, 1)"
      ]
     },
     "execution_count": 3,
     "metadata": {},
     "output_type": "execute_result"
    }
   ],
   "source": [
    "my_serious_function😼(1,2)"
   ]
  },
  {
   "cell_type": "markdown",
   "metadata": {
    "slideshow": {
     "slide_type": "slide"
    }
   },
   "source": [
    "* also for build-in operators"
   ]
  },
  {
   "cell_type": "code",
   "execution_count": 4,
   "metadata": {},
   "outputs": [
    {
     "data": {
      "text/plain": [
       "true"
      ]
     },
     "execution_count": 4,
     "metadata": {},
     "output_type": "execute_result"
    }
   ],
   "source": [
    "2 ∈ Set([2,3])"
   ]
  },
  {
   "cell_type": "code",
   "execution_count": 5,
   "metadata": {},
   "outputs": [
    {
     "data": {
      "text/plain": [
       "true"
      ]
     },
     "execution_count": 5,
     "metadata": {},
     "output_type": "execute_result"
    }
   ],
   "source": [
    "2 in Set([2,3])"
   ]
  },
  {
   "cell_type": "markdown",
   "metadata": {},
   "source": [
    "* Do not get crazy"
   ]
  },
  {
   "cell_type": "code",
   "execution_count": 6,
   "metadata": {},
   "outputs": [
    {
     "data": {
      "text/plain": [
       "2.345"
      ]
     },
     "execution_count": 6,
     "metadata": {},
     "output_type": "execute_result"
    }
   ],
   "source": [
    "𝔳𝔞𝔯𝔦𝔞𝔟𝔩𝔢 = 1.234\n",
    "שคгเค๒ɭє = 2.345"
   ]
  },
  {
   "cell_type": "markdown",
   "metadata": {
    "slideshow": {
     "slide_type": "slide"
    }
   },
   "source": [
    "# Functions\n",
    "\n",
    "* Functions are central in julia:\n",
    "  * functions are \"first-class\" (e.g. a variable/parameter can hold a function)\n",
    "  * all operators are defined as functions: `1+2` is in fact `+(1,2)`\n",
    "  * functions are very flexible due to [multiple dispatch](https://en.wikipedia.org/wiki/Multiple_dispatch)\n",
    "* There are 3 ways to define a function:"
   ]
  },
  {
   "cell_type": "code",
   "execution_count": 7,
   "metadata": {},
   "outputs": [
    {
     "data": {
      "text/plain": [
       "times_two (generic function with 1 method)"
      ]
     },
     "execution_count": 7,
     "metadata": {},
     "output_type": "execute_result"
    }
   ],
   "source": [
    "function times_two(x)\n",
    "    return 2x\n",
    "end"
   ]
  },
  {
   "cell_type": "markdown",
   "metadata": {},
   "source": [
    "* `return` is actually optional. If it is not present, then the last value of a function is returned."
   ]
  },
  {
   "cell_type": "code",
   "execution_count": 8,
   "metadata": {},
   "outputs": [
    {
     "data": {
      "text/plain": [
       "times2 (generic function with 1 method)"
      ]
     },
     "execution_count": 8,
     "metadata": {},
     "output_type": "execute_result"
    }
   ],
   "source": [
    "times2(x) = 2x"
   ]
  },
  {
   "cell_type": "code",
   "execution_count": 9,
   "metadata": {},
   "outputs": [
    {
     "data": {
      "text/plain": [
       "(::#1) (generic function with 1 method)"
      ]
     },
     "execution_count": 9,
     "metadata": {},
     "output_type": "execute_result"
    }
   ],
   "source": [
    "x -> 2x"
   ]
  },
  {
   "cell_type": "markdown",
   "metadata": {},
   "source": [
    "# Operators\n",
    "\n",
    "* Julia has all the usual operators: +, -, *, / as most programming languages have\n",
    "\n",
    "## Additional interesting operators\n",
    "\n",
    "* Multiply by the inverse of a matrix: A \\ x"
   ]
  },
  {
   "cell_type": "code",
   "execution_count": 10,
   "metadata": {},
   "outputs": [
    {
     "data": {
      "text/plain": [
       "2-element Array{Float64,1}:\n",
       " 0.5\n",
       " 0.5"
      ]
     },
     "execution_count": 10,
     "metadata": {},
     "output_type": "execute_result"
    }
   ],
   "source": [
    "x = [1; 1]; A = [2 0; 0 2]; A \\ x"
   ]
  },
  {
   "cell_type": "markdown",
   "metadata": {},
   "source": [
    "* do you like shell pipes? (in DIVA 1081 shell pipes for 154 scripts)"
   ]
  },
  {
   "cell_type": "code",
   "execution_count": 11,
   "metadata": {},
   "outputs": [
    {
     "data": {
      "text/plain": [
       "54"
      ]
     },
     "execution_count": 11,
     "metadata": {},
     "output_type": "execute_result"
    }
   ],
   "source": [
    "[1:5;]  |> x->x.^2 |> x-> x[x .> 2] |> sum"
   ]
  },
  {
   "cell_type": "markdown",
   "metadata": {},
   "source": [
    "* function composition f ∘ g (x) (type \\circ followed by the tab key), in julia 0.6"
   ]
  },
  {
   "cell_type": "code",
   "execution_count": 12,
   "metadata": {},
   "outputs": [
    {
     "data": {
      "text/plain": [
       "(::#55) (generic function with 1 method)"
      ]
     },
     "execution_count": 12,
     "metadata": {},
     "output_type": "execute_result"
    }
   ],
   "source": [
    "abs ∘ sin(1)"
   ]
  },
  {
   "cell_type": "markdown",
   "metadata": {
    "slideshow": {
     "slide_type": "slide"
    }
   },
   "source": [
    "# Arrays\n",
    "\n",
    "* Arrays can be homogenous or heterogenous\n",
    "* Julia figures this out for you\n",
    "\n",
    "* Homogenous arrays:"
   ]
  },
  {
   "cell_type": "code",
   "execution_count": 13,
   "metadata": {},
   "outputs": [
    {
     "data": {
      "text/plain": [
       "4-element Array{Int64,1}:\n",
       " 1\n",
       " 2\n",
       " 3\n",
       " 4"
      ]
     },
     "execution_count": 13,
     "metadata": {},
     "output_type": "execute_result"
    }
   ],
   "source": [
    "arr = [1,2,3,4]"
   ]
  },
  {
   "cell_type": "markdown",
   "metadata": {},
   "source": [
    "Elements can also be converted if necessary to make an homogenous array"
   ]
  },
  {
   "cell_type": "code",
   "execution_count": 14,
   "metadata": {},
   "outputs": [
    {
     "data": {
      "text/plain": [
       "3-element Array{Float64,1}:\n",
       " 2.0\n",
       " 4.0\n",
       " 5.0"
      ]
     },
     "execution_count": 14,
     "metadata": {},
     "output_type": "execute_result"
    }
   ],
   "source": [
    "arr2 = [2.,4.,5]"
   ]
  },
  {
   "cell_type": "markdown",
   "metadata": {
    "slideshow": {
     "slide_type": "slide"
    }
   },
   "source": [
    "Example of an heterogeneous array"
   ]
  },
  {
   "cell_type": "code",
   "execution_count": 15,
   "metadata": {},
   "outputs": [
    {
     "data": {
      "text/plain": [
       "3-element Array{Any,1}:\n",
       " 1                  \n",
       " 2                  \n",
       "  \"this is a string\""
      ]
     },
     "execution_count": 15,
     "metadata": {},
     "output_type": "execute_result"
    }
   ],
   "source": [
    "arr = [1,2,\"this is a string\"]"
   ]
  },
  {
   "cell_type": "markdown",
   "metadata": {
    "slideshow": {
     "slide_type": "slide"
    }
   },
   "source": [
    "## Automatic type inference"
   ]
  },
  {
   "cell_type": "code",
   "execution_count": 16,
   "metadata": {},
   "outputs": [
    {
     "data": {
      "text/plain": [
       "speed (generic function with 1 method)"
      ]
     },
     "execution_count": 16,
     "metadata": {},
     "output_type": "execute_result"
    }
   ],
   "source": [
    "function speed(u,v)\n",
    "    u2 = u.^2\n",
    "    v2 = v.^2\n",
    "    s2 = u2 + v2\n",
    "    s = sqrt.(s2)\n",
    "    return s\n",
    "end"
   ]
  },
  {
   "cell_type": "code",
   "execution_count": 17,
   "metadata": {
    "slideshow": {
     "slide_type": "slide"
    }
   },
   "outputs": [
    {
     "name": "stdout",
     "output_type": "stream",
     "text": [
      "Variables:\n",
      "  #self#::#speed\n",
      "  u::Float64\n",
      "  v::Float64\n",
      "  #11::##11#13\n",
      "  #12::##12#14\n",
      "  u2::Float64\n",
      "  v2::Float64\n",
      "  s2::Float64\n",
      "  s::Float64\n",
      "\n",
      "Body:\n",
      "  begin \n",
      "      $(Expr(:inbounds, false))\n",
      "      # meta: location broadcast.jl broadcast 16\n",
      "      SSAValue(2) = u::Float64\n",
      "      # meta: pop location\n",
      "      $(Expr(:inbounds, :pop))\n",
      "      u2::Float64 = (Base.mul_float)(SSAValue(2), SSAValue(2))::Float64 # line 3:\n",
      "      $(Expr(:inbounds, false))\n",
      "      # meta: location broadcast.jl broadcast 16\n",
      "      SSAValue(3) = v::Float64\n",
      "      # meta: pop location\n",
      "      $(Expr(:inbounds, :pop))\n",
      "      v2::Float64 = (Base.mul_float)(SSAValue(3), SSAValue(3))::Float64 # line 4:\n",
      "      s2::Float64 = (Base.add_float)(u2::Float64, v2::Float64)::Float64 # line 5:\n",
      "      s::Float64 = (Base.Math.sqrt_llvm)(s2::Float64)::Float64 # line 6:\n",
      "      return s::Float64\n",
      "  end::Float64\n"
     ]
    }
   ],
   "source": [
    "@code_warntype speed(1.,2.)"
   ]
  },
  {
   "cell_type": "code",
   "execution_count": 18,
   "metadata": {
    "slideshow": {
     "slide_type": "slide"
    }
   },
   "outputs": [
    {
     "data": {
      "text/plain": [
       "2-element Array{Float64,1}:\n",
       " 2.23607\n",
       " 3.60555"
      ]
     },
     "execution_count": 18,
     "metadata": {},
     "output_type": "execute_result"
    }
   ],
   "source": [
    "speed([1.,2.],[2.,3.])"
   ]
  },
  {
   "cell_type": "code",
   "execution_count": 19,
   "metadata": {
    "slideshow": {
     "slide_type": "slide"
    }
   },
   "outputs": [
    {
     "name": "stdout",
     "output_type": "stream",
     "text": [
      "Variables:\n",
      "  #self#::#speed\n",
      "  u::Array{Float64,1}\n",
      "  v::Array{Float64,1}\n",
      "  #11::##11#13\n",
      "  #12::##12#14\n",
      "  u2\u001b[1m\u001b[91m::Any\u001b[39m\u001b[22m\n",
      "  v2\u001b[1m\u001b[91m::Any\u001b[39m\u001b[22m\n",
      "  s2::Array{Float64,1}\n",
      "  s\u001b[1m\u001b[91m::Any\u001b[39m\u001b[22m\n",
      "  T@_10\u001b[1m\u001b[91m::Any\u001b[39m\u001b[22m\n",
      "  shape@_11::Tuple{Base.OneTo{Int64}}\n",
      "  iter@_12::CartesianRange{CartesianIndex{1}}\n",
      "  C@_13::Array{Float64,1}\n",
      "  keeps@_14::Tuple{Tuple{Bool}}\n",
      "  Idefaults@_15::Tuple{Tuple{Int64}}\n",
      "  #temp#@_16::Int64\n",
      "  keeps@_17::Tuple{}\n",
      "  Idefaults@_18::Tuple{}\n",
      "  #temp#@_19::Int64\n",
      "  keep@_20::Tuple{Bool}\n",
      "  Idefault@_21::Tuple{Int64}\n",
      "  #temp#@_22::Int64\n",
      "  ind1@_23::Base.OneTo{Int64}\n",
      "  keep@_24::Tuple{}\n",
      "  Idefault@_25::Tuple{}\n",
      "  #temp#@_26::Int64\n",
      "  I_1@_27::CartesianIndex{1}\n",
      "  val_1@_28::Float64\n",
      "  result@_29::Float64\n",
      "  I@_30::CartesianIndex{1}\n",
      "  i#672::Int64\n",
      "  I@_32::CartesianIndex{1}\n",
      "  n#671::Int64\n",
      "  i#670::CartesianIndex{0}\n",
      "  #temp#@_35::Bool\n",
      "  r#669::CartesianRange{CartesianIndex{1}}\n",
      "  A_1@_37\u001b[1m\u001b[91m::Any\u001b[39m\u001b[22m\n",
      "  keep_1@_38::Tuple{Bool}\n",
      "  Idefault_1@_39::Tuple{Int64}\n",
      "  #temp#@_40\u001b[1m\u001b[91m::Any\u001b[39m\u001b[22m\n",
      "  T@_41\u001b[1m\u001b[91m::Any\u001b[39m\u001b[22m\n",
      "  shape@_42::Tuple{Base.OneTo{Int64}}\n",
      "  iter@_43::CartesianRange{CartesianIndex{1}}\n",
      "  C@_44::Array{Float64,1}\n",
      "  keeps@_45::Tuple{Tuple{Bool}}\n",
      "  Idefaults@_46::Tuple{Tuple{Int64}}\n",
      "  #temp#@_47::Int64\n",
      "  keeps@_48::Tuple{}\n",
      "  Idefaults@_49::Tuple{}\n",
      "  #temp#@_50::Int64\n",
      "  keep@_51::Tuple{Bool}\n",
      "  Idefault@_52::Tuple{Int64}\n",
      "  #temp#@_53::Int64\n",
      "  ind1@_54::Base.OneTo{Int64}\n",
      "  keep@_55::Tuple{}\n",
      "  Idefault@_56::Tuple{}\n",
      "  #temp#@_57::Int64\n",
      "  I_1@_58::CartesianIndex{1}\n",
      "  val_1@_59::Float64\n",
      "  result@_60::Float64\n",
      "  I@_61::CartesianIndex{1}\n",
      "  i#676::Int64\n",
      "  I@_63::CartesianIndex{1}\n",
      "  n#675::Int64\n",
      "  i#674::CartesianIndex{0}\n",
      "  #temp#@_66::Bool\n",
      "  r#673::CartesianRange{CartesianIndex{1}}\n",
      "  A_1@_68\u001b[1m\u001b[91m::Any\u001b[39m\u001b[22m\n",
      "  keep_1@_69::Tuple{Bool}\n",
      "  Idefault_1@_70::Tuple{Int64}\n",
      "  #temp#@_71\u001b[1m\u001b[91m::Any\u001b[39m\u001b[22m\n",
      "  T@_72\u001b[1m\u001b[91m::Any\u001b[39m\u001b[22m\n",
      "  shape@_73::Tuple{Base.OneTo{Int64}}\n",
      "  iter@_74::CartesianRange{CartesianIndex{1}}\n",
      "  C@_75::Array{Float64,1}\n",
      "  keeps@_76::Tuple{Tuple{Bool}}\n",
      "  Idefaults@_77::Tuple{Tuple{Int64}}\n",
      "  #temp#@_78::Int64\n",
      "  keeps@_79::Tuple{}\n",
      "  Idefaults@_80::Tuple{}\n",
      "  #temp#@_81::Int64\n",
      "  keep@_82::Tuple{Bool}\n",
      "  Idefault@_83::Tuple{Int64}\n",
      "  #temp#@_84::Int64\n",
      "  ind1@_85::Base.OneTo{Int64}\n",
      "  keep@_86::Tuple{}\n",
      "  Idefault@_87::Tuple{}\n",
      "  #temp#@_88::Int64\n",
      "  I_1@_89::CartesianIndex{1}\n",
      "  val_1@_90::Float64\n",
      "  result@_91::Float64\n",
      "  I@_92::CartesianIndex{1}\n",
      "  i#684::Int64\n",
      "  I@_94::CartesianIndex{1}\n",
      "  n#683::Int64\n",
      "  i#682::CartesianIndex{0}\n",
      "  #temp#@_97::Bool\n",
      "  r#681::CartesianRange{CartesianIndex{1}}\n",
      "  A_1@_99\u001b[1m\u001b[91m::Any\u001b[39m\u001b[22m\n",
      "  keep_1@_100::Tuple{Bool}\n",
      "  Idefault_1@_101::Tuple{Int64}\n",
      "  #temp#@_102\u001b[1m\u001b[91m::Any\u001b[39m\u001b[22m\n",
      "\n",
      "Body:\n",
      "  begin \n",
      "      $(Expr(:inbounds, false))\n",
      "      # meta: location broadcast.jl broadcast 434\n",
      "      # meta: location broadcast.jl broadcast_c 311\n",
      "      # meta: location broadcast.jl broadcast_indices 48\n",
      "      # meta: location broadcast.jl broadcast_indices 52\n",
      "      # meta: location abstractarray.jl indices 64\n",
      "      SSAValue(4) = (Base.arraysize)(u::Array{Float64,1}, 1)::Int64\n",
      "      # meta: pop location\n",
      "      # meta: pop location\n",
      "      # meta: pop location\n",
      "      SSAValue(50) = (Base.select_value)((Base.slt_int)(SSAValue(4), 0)::Bool, 0, SSAValue(4))::Int64 # line 314:\n",
      "      # meta: location broadcast.jl broadcast_t 266\n",
      "      C@_13::Array{Float64,1} = $(Expr(:foreigncall, :(:jl_alloc_array_1d), Array{Float64,1}, svec(Any, Int64), Array{Float64,1}, 0, SSAValue(50), 0)) # line 267:\n",
      "      # meta: location broadcast.jl map_newindexer 125 # line 126:\n",
      "      # meta: location broadcast.jl newindexer 108\n",
      "      # meta: location broadcast.jl broadcast_indices 48\n",
      "      # meta: location broadcast.jl broadcast_indices 52\n",
      "      # meta: location abstractarray.jl indices 64\n",
      "      SSAValue(17) = (Base.arraysize)(u::Array{Float64,1}, 1)::Int64\n",
      "      # meta: pop location\n",
      "      # meta: pop location\n",
      "      # meta: pop location\n",
      "      # meta: location broadcast.jl shapeindexer 111\n",
      "      SSAValue(29) = (Base.select_value)((Base.slt_int)(SSAValue(17), 0)::Bool, 0, SSAValue(17))::Int64\n",
      "      # meta: pop location\n",
      "      # meta: pop location\n",
      "      SSAValue(30) = (Core.tuple)((Base.and_int)((Base.and_int)((1 === 1)::Bool, (1 === 1)::Bool)::Bool, (SSAValue(50) === SSAValue(29))::Bool)::Bool)::Tuple{Bool}\n",
      "      SSAValue(31) = (Core.tuple)(1)::Tuple{Int64}\n",
      "      keep@_20::Tuple{Bool} = SSAValue(30)\n",
      "      Idefault@_21::Tuple{Int64} = SSAValue(31)\n",
      "      # meta: pop location\n",
      "      SSAValue(45) = (Core.tuple)(keep@_20::Tuple{Bool})::Tuple{Tuple{Bool}}\n",
      "      SSAValue(46) = (Core.tuple)(Idefault@_21::Tuple{Int64})::Tuple{Tuple{Int64}}\n",
      "      keeps@_14::Tuple{Tuple{Bool}} = SSAValue(45)\n",
      "      Idefaults@_15::Tuple{Tuple{Int64}} = SSAValue(46) # line 268:\n",
      "      # meta: location broadcast.jl _broadcast! 139\n",
      "      # meta: location broadcast.jl # line 145:\n",
      "      keep_1@_38::Tuple{Bool} = (Base.getfield)(keeps@_14::Tuple{Tuple{Bool}}, 1)::Tuple{Bool} # line 146:\n",
      "      Idefault_1@_39::Tuple{Int64} = (Base.getfield)(Idefaults@_15::Tuple{Tuple{Int64}}, 1)::Tuple{Int64} # line 147:\n",
      "      # meta: location simdloop.jl # line 66:\n",
      "      #temp#@_35::Bool = false\n",
      "      50: \n",
      "      unless (Base.not_int)(#temp#@_35::Bool)::Bool goto 93\n",
      "      #temp#@_35::Bool = true # line 67:\n",
      "      n#671::Int64 = (Base.add_int)((Base.sub_int)(SSAValue(50), 1)::Int64, 1)::Int64 # line 68:\n",
      "      unless (Base.slt_int)(0, n#671::Int64)::Bool goto 91 # line 70:\n",
      "      i#672::Int64 = 0 # line 71:\n",
      "      NewvarNode(:(val_1@_28::Float64))\n",
      "      NewvarNode(:(result@_29::Float64))\n",
      "      62: \n",
      "      unless (Base.slt_int)(i#672::Int64, n#671::Int64)::Bool goto 89 # line 72:\n",
      "      SSAValue(42) = (Base.add_int)(i#672::Int64, 1)::Int64 # line 73:\n",
      "      # meta: location broadcast.jl # line 149:\n",
      "      SSAValue(44) = (Base.select_value)((Base.getfield)(keep_1@_38::Tuple{Bool}, 1)::Bool, SSAValue(42), (Base.getfield)(Idefault_1@_39::Tuple{Int64}, 1)::Int64)::Int64 # line 151:\n",
      "      $(Expr(:inbounds, true))\n",
      "      val_1@_28::Float64 = (Base.arrayref)(u::Array{Float64,1}, SSAValue(44))::Float64\n",
      "      $(Expr(:inbounds, :pop)) # line 153:\n",
      "      result@_29::Float64 = (Base.mul_float)(val_1@_28::Float64, val_1@_28::Float64)::Float64 # line 154:\n",
      "      $(Expr(:inbounds, true))\n",
      "      # meta: location multidimensional.jl setindex! 247\n",
      "      (Base.arrayset)(C@_13::Array{Float64,1}, result@_29::Float64, SSAValue(42))::Array{Float64,1}\n",
      "      # meta: pop location\n",
      "      $(Expr(:inbounds, :pop))\n",
      "      # meta: pop location # line 74:\n",
      "      i#672::Int64 = (Base.add_int)(i#672::Int64, 1)::Int64 # line 75:\n",
      "      $(Expr(:simdloop))\n",
      "      87: \n",
      "      goto 62\n",
      "      89:  # line 79:\n",
      "      91: \n",
      "      goto 50\n",
      "      93: \n",
      "      # meta: pop location\n",
      "      # meta: pop location\n",
      "      # meta: pop location\n",
      "      # meta: pop location\n",
      "      goto 100 # line 319:\n",
      "      100: \n",
      "      # meta: pop location\n",
      "      # meta: pop location\n",
      "      $(Expr(:inbounds, :pop)) # line 3:\n",
      "      $(Expr(:inbounds, false))\n",
      "      # meta: location broadcast.jl broadcast 434\n",
      "      # meta: location broadcast.jl broadcast_c 311\n",
      "      # meta: location broadcast.jl broadcast_indices 48\n",
      "      # meta: location broadcast.jl broadcast_indices 52\n",
      "      # meta: location abstractarray.jl indices 64\n",
      "      SSAValue(57) = (Base.arraysize)(v::Array{Float64,1}, 1)::Int64\n",
      "      # meta: pop location\n",
      "      # meta: pop location\n",
      "      # meta: pop location\n",
      "      SSAValue(103) = (Base.select_value)((Base.slt_int)(SSAValue(57), 0)::Bool, 0, SSAValue(57))::Int64 # line 314:\n",
      "      # meta: location broadcast.jl broadcast_t 266\n",
      "      C@_44::Array{Float64,1} = $(Expr(:foreigncall, :(:jl_alloc_array_1d), Array{Float64,1}, svec(Any, Int64), Array{Float64,1}, 0, SSAValue(103), 0)) # line 267:\n",
      "      # meta: location broadcast.jl map_newindexer 125 # line 126:\n",
      "      # meta: location broadcast.jl newindexer 108\n",
      "      # meta: location broadcast.jl broadcast_indices 48\n",
      "      # meta: location broadcast.jl broadcast_indices 52\n",
      "      # meta: location abstractarray.jl indices 64\n",
      "      SSAValue(70) = (Base.arraysize)(v::Array{Float64,1}, 1)::Int64\n",
      "      # meta: pop location\n",
      "      # meta: pop location\n",
      "      # meta: pop location\n",
      "      # meta: location broadcast.jl shapeindexer 111\n",
      "      SSAValue(82) = (Base.select_value)((Base.slt_int)(SSAValue(70), 0)::Bool, 0, SSAValue(70))::Int64\n",
      "      # meta: pop location\n",
      "      # meta: pop location\n",
      "      SSAValue(83) = (Core.tuple)((Base.and_int)((Base.and_int)((1 === 1)::Bool, (1 === 1)::Bool)::Bool, (SSAValue(103) === SSAValue(82))::Bool)::Bool)::Tuple{Bool}\n",
      "      SSAValue(84) = (Core.tuple)(1)::Tuple{Int64}\n",
      "      keep@_51::Tuple{Bool} = SSAValue(83)\n",
      "      Idefault@_52::Tuple{Int64} = SSAValue(84)\n",
      "      # meta: pop location\n",
      "      SSAValue(98) = (Core.tuple)(keep@_51::Tuple{Bool})::Tuple{Tuple{Bool}}\n",
      "      SSAValue(99) = (Core.tuple)(Idefault@_52::Tuple{Int64})::Tuple{Tuple{Int64}}\n",
      "      keeps@_45::Tuple{Tuple{Bool}} = SSAValue(98)\n",
      "      Idefaults@_46::Tuple{Tuple{Int64}} = SSAValue(99) # line 268:\n",
      "      # meta: location broadcast.jl _broadcast! 139\n",
      "      # meta: location broadcast.jl # line 145:\n",
      "      keep_1@_69::Tuple{Bool} = (Base.getfield)(keeps@_45::Tuple{Tuple{Bool}}, 1)::Tuple{Bool} # line 146:\n",
      "      Idefault_1@_70::Tuple{Int64} = (Base.getfield)(Idefaults@_46::Tuple{Tuple{Int64}}, 1)::Tuple{Int64} # line 147:\n",
      "      # meta: location simdloop.jl # line 66:\n",
      "      #temp#@_66::Bool = false\n",
      "      154: \n",
      "      unless (Base.not_int)(#temp#@_66::Bool)::Bool goto 197\n",
      "      #temp#@_66::Bool = true # line 67:\n",
      "      n#675::Int64 = (Base.add_int)((Base.sub_int)(SSAValue(103), 1)::Int64, 1)::Int64 # line 68:\n",
      "      unless (Base.slt_int)(0, n#675::Int64)::Bool goto 195 # line 70:\n",
      "      i#676::Int64 = 0 # line 71:\n",
      "      NewvarNode(:(val_1@_59::Float64))\n",
      "      NewvarNode(:(result@_60::Float64))\n",
      "      166: \n",
      "      unless (Base.slt_int)(i#676::Int64, n#675::Int64)::Bool goto 193 # line 72:\n",
      "      SSAValue(95) = (Base.add_int)(i#676::Int64, 1)::Int64 # line 73:\n",
      "      # meta: location broadcast.jl # line 149:\n",
      "      SSAValue(97) = (Base.select_value)((Base.getfield)(keep_1@_69::Tuple{Bool}, 1)::Bool, SSAValue(95), (Base.getfield)(Idefault_1@_70::Tuple{Int64}, 1)::Int64)::Int64 # line 151:\n",
      "      $(Expr(:inbounds, true))\n",
      "      val_1@_59::Float64 = (Base.arrayref)(v::Array{Float64,1}, SSAValue(97))::Float64\n",
      "      $(Expr(:inbounds, :pop)) # line 153:\n",
      "      result@_60::Float64 = (Base.mul_float)(val_1@_59::Float64, val_1@_59::Float64)::Float64 # line 154:\n",
      "      $(Expr(:inbounds, true))\n",
      "      # meta: location multidimensional.jl setindex! 247\n",
      "      (Base.arrayset)(C@_44::Array{Float64,1}, result@_60::Float64, SSAValue(95))::Array{Float64,1}\n",
      "      # meta: pop location\n",
      "      $(Expr(:inbounds, :pop))\n",
      "      # meta: pop location # line 74:\n",
      "      i#676::Int64 = (Base.add_int)(i#676::Int64, 1)::Int64 # line 75:\n",
      "      $(Expr(:simdloop))\n",
      "      191: \n",
      "      goto 166\n",
      "      193:  # line 79:\n",
      "      195: \n",
      "      goto 154\n",
      "      197: \n",
      "      # meta: pop location\n",
      "      # meta: pop location\n",
      "      # meta: pop location\n",
      "      # meta: pop location\n",
      "      goto 204 # line 319:\n",
      "      204: \n",
      "      # meta: pop location\n",
      "      # meta: pop location\n",
      "      $(Expr(:inbounds, :pop)) # line 4:\n"
     ]
    },
    {
     "name": "stdout",
     "output_type": "stream",
     "text": [
      "      s2::Array{Float64,1} = $(Expr(:invoke, MethodInstance for +(::Array{Float64,1}, ::Array{Float64,1}), :(Main.+), :(C@_13), :(C@_44))) # line 5:\n",
      "      $(Expr(:inbounds, false))\n",
      "      # meta: location broadcast.jl broadcast 434\n",
      "      # meta: location broadcast.jl broadcast_c 311\n",
      "      # meta: location broadcast.jl broadcast_indices 48\n",
      "      # meta: location broadcast.jl broadcast_indices 52\n",
      "      # meta: location abstractarray.jl indices 64\n",
      "      SSAValue(110) = (Base.arraysize)(s2::Array{Float64,1}, 1)::Int64\n",
      "      # meta: pop location\n",
      "      # meta: pop location\n",
      "      # meta: pop location\n",
      "      SSAValue(156) = (Base.select_value)((Base.slt_int)(SSAValue(110), 0)::Bool, 0, SSAValue(110))::Int64 # line 314:\n",
      "      # meta: location broadcast.jl broadcast_t 266\n",
      "      C@_75::Array{Float64,1} = $(Expr(:foreigncall, :(:jl_alloc_array_1d), Array{Float64,1}, svec(Any, Int64), Array{Float64,1}, 0, SSAValue(156), 0)) # line 267:\n",
      "      # meta: location broadcast.jl map_newindexer 125 # line 126:\n",
      "      # meta: location broadcast.jl newindexer 108\n",
      "      # meta: location broadcast.jl broadcast_indices 48\n",
      "      # meta: location broadcast.jl broadcast_indices 52\n",
      "      # meta: location abstractarray.jl indices 64\n",
      "      SSAValue(123) = (Base.arraysize)(s2::Array{Float64,1}, 1)::Int64\n",
      "      # meta: pop location\n",
      "      # meta: pop location\n",
      "      # meta: pop location\n",
      "      # meta: location broadcast.jl shapeindexer 111\n",
      "      SSAValue(135) = (Base.select_value)((Base.slt_int)(SSAValue(123), 0)::Bool, 0, SSAValue(123))::Int64\n",
      "      # meta: pop location\n",
      "      # meta: pop location\n",
      "      SSAValue(136) = (Core.tuple)((Base.and_int)((Base.and_int)((1 === 1)::Bool, (1 === 1)::Bool)::Bool, (SSAValue(156) === SSAValue(135))::Bool)::Bool)::Tuple{Bool}\n",
      "      SSAValue(137) = (Core.tuple)(1)::Tuple{Int64}\n",
      "      keep@_82::Tuple{Bool} = SSAValue(136)\n",
      "      Idefault@_83::Tuple{Int64} = SSAValue(137)\n",
      "      # meta: pop location\n",
      "      SSAValue(151) = (Core.tuple)(keep@_82::Tuple{Bool})::Tuple{Tuple{Bool}}\n",
      "      SSAValue(152) = (Core.tuple)(Idefault@_83::Tuple{Int64})::Tuple{Tuple{Int64}}\n",
      "      keeps@_76::Tuple{Tuple{Bool}} = SSAValue(151)\n",
      "      Idefaults@_77::Tuple{Tuple{Int64}} = SSAValue(152) # line 268:\n",
      "      # meta: location broadcast.jl _broadcast! 139\n",
      "      # meta: location broadcast.jl # line 145:\n",
      "      keep_1@_100::Tuple{Bool} = (Base.getfield)(keeps@_76::Tuple{Tuple{Bool}}, 1)::Tuple{Bool} # line 146:\n",
      "      Idefault_1@_101::Tuple{Int64} = (Base.getfield)(Idefaults@_77::Tuple{Tuple{Int64}}, 1)::Tuple{Int64} # line 147:\n",
      "      # meta: location simdloop.jl # line 66:\n",
      "      #temp#@_97::Bool = false\n",
      "      260: \n",
      "      unless (Base.not_int)(#temp#@_97::Bool)::Bool goto 303\n",
      "      #temp#@_97::Bool = true # line 67:\n",
      "      n#683::Int64 = (Base.add_int)((Base.sub_int)(SSAValue(156), 1)::Int64, 1)::Int64 # line 68:\n",
      "      unless (Base.slt_int)(0, n#683::Int64)::Bool goto 301 # line 70:\n",
      "      i#684::Int64 = 0 # line 71:\n",
      "      NewvarNode(:(val_1@_90::Float64))\n",
      "      NewvarNode(:(result@_91::Float64))\n",
      "      272: \n",
      "      unless (Base.slt_int)(i#684::Int64, n#683::Int64)::Bool goto 299 # line 72:\n",
      "      SSAValue(148) = (Base.add_int)(i#684::Int64, 1)::Int64 # line 73:\n",
      "      # meta: location broadcast.jl # line 149:\n",
      "      SSAValue(150) = (Base.select_value)((Base.getfield)(keep_1@_100::Tuple{Bool}, 1)::Bool, SSAValue(148), (Base.getfield)(Idefault_1@_101::Tuple{Int64}, 1)::Int64)::Int64 # line 151:\n",
      "      $(Expr(:inbounds, true))\n",
      "      val_1@_90::Float64 = (Base.arrayref)(s2::Array{Float64,1}, SSAValue(150))::Float64\n",
      "      $(Expr(:inbounds, :pop)) # line 153:\n",
      "      result@_91::Float64 = (Base.Math.sqrt_llvm)(val_1@_90::Float64)::Float64 # line 154:\n",
      "      $(Expr(:inbounds, true))\n",
      "      # meta: location multidimensional.jl setindex! 247\n",
      "      (Base.arrayset)(C@_75::Array{Float64,1}, result@_91::Float64, SSAValue(148))::Array{Float64,1}\n",
      "      # meta: pop location\n",
      "      $(Expr(:inbounds, :pop))\n",
      "      # meta: pop location # line 74:\n",
      "      i#684::Int64 = (Base.add_int)(i#684::Int64, 1)::Int64 # line 75:\n",
      "      $(Expr(:simdloop))\n",
      "      297: \n",
      "      goto 272\n",
      "      299:  # line 79:\n",
      "      301: \n",
      "      goto 260\n",
      "      303: \n",
      "      # meta: pop location\n",
      "      # meta: pop location\n",
      "      # meta: pop location\n",
      "      # meta: pop location\n",
      "      goto 310 # line 319:\n",
      "      310: \n",
      "      # meta: pop location\n",
      "      # meta: pop location\n",
      "      $(Expr(:inbounds, :pop)) # line 6:\n",
      "      return C@_75::Array{Float64,1}\n",
      "  end::Array{Float64,1}\n"
     ]
    }
   ],
   "source": [
    "@code_warntype speed([1.,2.],[2.,3.])"
   ]
  },
  {
   "cell_type": "markdown",
   "metadata": {
    "slideshow": {
     "slide_type": "slide"
    }
   },
   "source": [
    "# Code generation\n",
    "\n",
    "* The julia compiler generates efficient machine code\n",
    "* Loops are not slow (compared to Python, Matlab or Octave)\n",
    "* It is still possible to use vectorized code\n",
    "  * vectorized code typically uses more memory than code with explicit loops\n",
    "  * vectorized code is slightly slower than code with with explicit loops\n",
    " "
   ]
  },
  {
   "cell_type": "code",
   "execution_count": 20,
   "metadata": {
    "slideshow": {
     "slide_type": "slide"
    }
   },
   "outputs": [
    {
     "name": "stdout",
     "output_type": "stream",
     "text": [
      "\n",
      "define double @julia_speed_61401(double, double) #0 !dbg !5 {\n",
      "pass:\n",
      "  %2 = fmul double %0, %0\n",
      "  %3 = fmul double %1, %1\n",
      "  %4 = fadd double %2, %3\n",
      "  %5 = call double @llvm.sqrt.f64(double %4)\n",
      "  ret double %5\n",
      "}\n"
     ]
    }
   ],
   "source": [
    "@code_llvm speed(1.,2.)"
   ]
  },
  {
   "cell_type": "code",
   "execution_count": 21,
   "metadata": {
    "slideshow": {
     "slide_type": "slide"
    }
   },
   "outputs": [
    {
     "name": "stdout",
     "output_type": "stream",
     "text": [
      "\t.text\n",
      "Filename: In[16]\n",
      "\tpushq\t%rbp\n",
      "\tmovq\t%rsp, %rbp\n",
      "Source line: 2\n",
      "\tmulsd\t%xmm0, %xmm0\n",
      "Source line: 3\n",
      "\tmulsd\t%xmm1, %xmm1\n",
      "Source line: 4\n",
      "\taddsd\t%xmm0, %xmm1\n",
      "Source line: 5\n",
      "\txorps\t%xmm0, %xmm0\n",
      "\tsqrtsd\t%xmm1, %xmm0\n",
      "Source line: 6\n",
      "\tpopq\t%rbp\n",
      "\tretq\n",
      "\tnopl\t(%rax)\n"
     ]
    }
   ],
   "source": [
    "@code_native speed(1.,2.)"
   ]
  },
  {
   "cell_type": "markdown",
   "metadata": {
    "slideshow": {
     "slide_type": "slide"
    }
   },
   "source": [
    "## Benchmarks\n",
    "\n",
    "\n",
    "### Mandelbrod fractals\n",
    "\n",
    "* Median times of 30 runs\n",
    "\n",
    "|                  |      style | run time (sec)  |\n",
    "|------------------|------------|----------------:|\n",
    "| matlab R2013a    |       loops|   5.67     |\n",
    "| matlab R2013a    |  vectorized|   2.40  |\n",
    "|  octave 3.8.1    |       loops| 184.56  |\n",
    "|  octave 3.8.1    |  vectorized|   4.72  |\n",
    "|     julia 0.5    |       loops|   0.19 |\n",
    "|     julia 0.5    |  vectorized|   2.24  |"
   ]
  },
  {
   "cell_type": "markdown",
   "metadata": {
    "slideshow": {
     "slide_type": "slide"
    }
   },
   "source": [
    "### Ensemble Transform Kalman Filter (ETKF)\n",
    "\n",
    "#### Parameters\n",
    "\n",
    "| parameter                               | value  |\n",
    "|-----------------------------------------|--------|\n",
    "| number of elements in the state vector  | 50     |\n",
    "| ensemble size                           | 100    |\n",
    "| number of observations                  | 5      |\n",
    "| number of water columns                 | 10000  |\n",
    "\n",
    "#### Run-time\n",
    "\n",
    "| Language | version | comments | run-time (s) |\n",
    "|----------|---------|----------|--------------|\n",
    "| Julia    | 0.4.5   |          | 43.362 |\n",
    "| Fortran (gfortran)  | 4.8.4   | intrinsic matmul             |  136.481 |\n",
    "| Fortran (gfortran) | 4.8.4   | matmul calls external BLAS    |  32.483  |\n",
    "| Matlab   | R2013a  |          | 31.1854      |\n",
    "| Octave   | 3.8.1   |          | 58.019       |\n",
    "\n",
    "\n"
   ]
  },
  {
   "cell_type": "markdown",
   "metadata": {
    "slideshow": {
     "slide_type": "slide"
    }
   },
   "source": [
    "| Language | version | comments | run-time (s) |\n",
    "|----------|---------|----------|--------------|\n",
    "| Fortran (gfortran) | 4.8.4   | matmul calls external BLAS    |  32.483  |\n",
    "| Julia    | 0.5.0   | type-stable, without bounds check         | 29.948924 |\n"
   ]
  },
  {
   "cell_type": "markdown",
   "metadata": {
    "slideshow": {
     "slide_type": "slide"
    }
   },
   "source": [
    "# Working with files\n",
    "* open a file, and load every line sequentially"
   ]
  },
  {
   "cell_type": "code",
   "execution_count": 22,
   "metadata": {},
   "outputs": [
    {
     "name": "stdout",
     "output_type": "stream",
     "text": [
      "this\n",
      "is\n",
      "a test\n"
     ]
    }
   ],
   "source": [
    "f = open(\"file.txt\")\n",
    "for l in eachline(f)\n",
    "         println(l)\n",
    "end\n",
    "close(f)\n"
   ]
  },
  {
   "cell_type": "markdown",
   "metadata": {},
   "source": [
    "* a common error is to forget to close the file\n",
    "* with a do-block"
   ]
  },
  {
   "cell_type": "code",
   "execution_count": 23,
   "metadata": {},
   "outputs": [
    {
     "name": "stdout",
     "output_type": "stream",
     "text": [
      "this\n",
      "is\n",
      "a test\n"
     ]
    }
   ],
   "source": [
    "open(\"file.txt\") do f\n",
    "  for l in eachline(f)\n",
    "     println(l)\n",
    "  end\n",
    "end"
   ]
  },
  {
   "cell_type": "markdown",
   "metadata": {},
   "source": [
    "* similar to python's `with` statement"
   ]
  },
  {
   "cell_type": "markdown",
   "metadata": {
    "slideshow": {
     "slide_type": "slide"
    }
   },
   "source": [
    "# Visualization\n",
    "\n",
    "* Julia can call all Python modules, for instance also matplotlib\n",
    "* `PyPlot` is a matplotlib wrapper"
   ]
  },
  {
   "cell_type": "code",
   "execution_count": 24,
   "metadata": {
    "collapsed": true
   },
   "outputs": [],
   "source": [
    "using PyPlot"
   ]
  },
  {
   "cell_type": "code",
   "execution_count": 25,
   "metadata": {
    "slideshow": {
     "slide_type": "slide"
    }
   },
   "outputs": [
    {
     "data": {
      "image/png": "[encoded data removed]",
      "text/plain": [
       "PyPlot.Figure(PyObject <matplotlib.figure.Figure object at 0x7ff209eb0fd0>)"
      ]
     },
     "metadata": {},
     "output_type": "display_data"
    },
    {
     "data": {
      "text/plain": [
       "PyObject <matplotlib.colorbar.Colorbar object at 0x7ff1eb9a71d0>"
      ]
     },
     "execution_count": 25,
     "metadata": {},
     "output_type": "execute_result"
    }
   ],
   "source": [
    "x = randn(10,10)\n",
    "pcolor(x)\n",
    "xlabel(\"x-axis\")\n",
    "ylabel(\"y-axis\")\n",
    "title(\"my plot\")\n",
    "colorbar()"
   ]
  },
  {
   "cell_type": "code",
   "execution_count": 26,
   "metadata": {
    "slideshow": {
     "slide_type": "slide"
    }
   },
   "outputs": [
    {
     "data": {
      "image/png": "[encoded data removed]",
      "text/plain": [
       "PyPlot.Figure(PyObject <matplotlib.figure.Figure object at 0x7ff1eb9beb90>)"
      ]
     },
     "metadata": {},
     "output_type": "display_data"
    },
    {
     "data": {
      "text/plain": [
       "PyObject <matplotlib.colorbar.Colorbar object at 0x7ff1dffeb7d0>"
      ]
     },
     "execution_count": 26,
     "metadata": {},
     "output_type": "execute_result"
    }
   ],
   "source": [
    "using NetCDF\n",
    "using PyCall\n",
    "figure(figsize=(7,4))\n",
    "@pyimport numpy.ma as ma\n",
    "fname = \"/home/abarth/Lectures/MatlabOctaveTutorial/data/WesternMedSST.nc\"\n",
    "lon = ncread(fname,\"lon\"); lat = ncread(fname,\"lat\");\n",
    "SST = ncread(fname,\"seviri_sst\");\n",
    "fillval = ncgetatt(fname,\"seviri_sst\",\"_FillValue\")\n",
    "pyma(X) = pycall(ma.array, Any, X, mask=X .== fillval)\n",
    "pcolor(lon,lat,pyma(SST[:,:,1]')); colorbar()"
   ]
  },
  {
   "cell_type": "markdown",
   "metadata": {
    "slideshow": {
     "slide_type": "slide"
    }
   },
   "source": [
    "# Custom types"
   ]
  },
  {
   "cell_type": "code",
   "execution_count": 27,
   "metadata": {
    "collapsed": true
   },
   "outputs": [],
   "source": [
    "using PyPlot\n",
    "using Base"
   ]
  },
  {
   "cell_type": "markdown",
   "metadata": {},
   "source": [
    "* Create a new type `ParamCovar` which represents an error covariance matrix\n",
    "* It behaves like an Array of 2 dimensions"
   ]
  },
  {
   "cell_type": "code",
   "execution_count": 28,
   "metadata": {
    "collapsed": true
   },
   "outputs": [],
   "source": [
    "type ParamCovar{T} <: AbstractArray{T, 2}\n",
    "    n:: Int64       # dimension\n",
    "    len:: T         # correlation length\n",
    "    var:: T         # variance\n",
    "    x:: Array{T,2}  # x[i,:] are the n coordinates of the i-th grid point\n",
    "end\n",
    "\n",
    "function Base.size{T}(PC::ParamCovar{T})\n",
    "    return (PC.n,PC.n)\n",
    "end\n",
    "\n",
    "function Base.getindex{T}(PC::ParamCovar{T},i,j)\n",
    "    d2 = sum((PC.x[i,:] - PC.x[j,:]).^2)\n",
    "    return PC.var * exp(-d2 / (PC.len^2))\n",
    "end"
   ]
  },
  {
   "cell_type": "markdown",
   "metadata": {
    "slideshow": {
     "slide_type": "slide"
    }
   },
   "source": [
    "* Define a domain [-10,10] x [-10,10]"
   ]
  },
  {
   "cell_type": "code",
   "execution_count": 29,
   "metadata": {
    "collapsed": true
   },
   "outputs": [],
   "source": [
    "imax = 50\n",
    "jmax = imax\n",
    "\n",
    "vx1 = linspace(-10,10,imax)\n",
    "vx2 = linspace(-10,10,jmax)\n",
    "\n",
    "x1 = [x1 for x1 in vx1, x2 in vx2];\n",
    "x2 = [x2 for x1 in vx1, x2 in vx2];"
   ]
  },
  {
   "cell_type": "markdown",
   "metadata": {
    "slideshow": {
     "slide_type": "slide"
    }
   },
   "source": [
    "* create an instance of the `ParamCovar` type"
   ]
  },
  {
   "cell_type": "code",
   "execution_count": 30,
   "metadata": {
    "collapsed": true
   },
   "outputs": [],
   "source": [
    "n = length(x1)\n",
    "m = 3\n",
    "\n",
    "# n: number of grid points (total)\n",
    "# len = 4 (correlation length)\n",
    "# var = 1 (background variance)\n",
    "\n",
    "# Pf = ParamCovar{Float64}(n,4.,1.,[x1[:] x2[:]]) or just\n",
    "Pf = ParamCovar(n,4.,1.,[x1[:] x2[:]]);"
   ]
  },
  {
   "cell_type": "markdown",
   "metadata": {
    "slideshow": {
     "slide_type": "slide"
    }
   },
   "source": [
    "* setup additional matrices (observation operator $\\mathbf H$, observation error covariance matrix $\\mathbf R$, forecast $\\mathbf x_f$)"
   ]
  },
  {
   "cell_type": "code",
   "execution_count": 31,
   "metadata": {
    "collapsed": true
   },
   "outputs": [],
   "source": [
    "# index of the middle of the domain\n",
    "ind = sub2ind(size(x1),Int64(imax/2),Int64(jmax/2))\n",
    "\n",
    "H = sparse([1,2,3],\n",
    "           [1,ind,n], [1.,1.,1.], 3,n)\n",
    "\n",
    "R = Diagonal([1,1,1])\n",
    "yo = [1,-1,1]\n",
    "\n",
    "\n",
    "xf = zeros(n);"
   ]
  },
  {
   "cell_type": "markdown",
   "metadata": {
    "slideshow": {
     "slide_type": "slide"
    }
   },
   "source": [
    "* optimal interpolation"
   ]
  },
  {
   "cell_type": "code",
   "execution_count": 32,
   "metadata": {},
   "outputs": [
    {
     "data": {
      "image/png": "[encoded data removed]",
      "text/plain": [
       "PyPlot.Figure(PyObject <matplotlib.figure.Figure object at 0x7ff1dffbd350>)"
      ]
     },
     "metadata": {},
     "output_type": "display_data"
    },
    {
     "data": {
      "text/plain": [
       "PyObject <matplotlib.colorbar.Colorbar object at 0x7ff1ddda0fd0>"
      ]
     },
     "execution_count": 32,
     "metadata": {},
     "output_type": "execute_result"
    }
   ],
   "source": [
    "xa = xf + Pf * (H' * ((H*Pf*H' + R) \\ (yo - H*xf)))\n",
    "\n",
    "xa = reshape(xa,size(x1))\n",
    "pcolor(xa)\n",
    "colorbar()"
   ]
  },
  {
   "cell_type": "markdown",
   "metadata": {
    "slideshow": {
     "slide_type": "slide"
    }
   },
   "source": [
    "\n",
    "# Parallel programming\n",
    "\n",
    "* start julia with\n",
    "  * `-p`: local machine\n",
    "  * `--machinefile`:  cluster\n",
    "* or use, e.g. `addprocs(4)` to use 4 workers\n"
   ]
  },
  {
   "cell_type": "markdown",
   "metadata": {
    "slideshow": {
     "slide_type": "slide"
    }
   },
   "source": [
    "## Lower-level constructs"
   ]
  },
  {
   "cell_type": "code",
   "execution_count": 33,
   "metadata": {},
   "outputs": [
    {
     "name": "stdout",
     "output_type": "stream",
     "text": [
      "myid() = 1\n",
      "nprocs() = 5\n",
      "workers() = [2, 3, 4, 5]\n",
      "fetch(@spawnat(4, myid())) = 4\n"
     ]
    },
    {
     "data": {
      "text/plain": [
       "4"
      ]
     },
     "execution_count": 33,
     "metadata": {},
     "output_type": "execute_result"
    }
   ],
   "source": [
    "addprocs(4)\n",
    "\n",
    "# process ID\n",
    "@show myid()\n",
    "\n",
    "# number of all process\n",
    "@show nprocs()\n",
    "\n",
    "# id of all workers\n",
    "@show workers()\n",
    "\n",
    "# run myid() on process 4\n",
    "@show fetch(@spawnat 4 myid())"
   ]
  },
  {
   "cell_type": "code",
   "execution_count": 34,
   "metadata": {
    "slideshow": {
     "slide_type": "slide"
    }
   },
   "outputs": [
    {
     "data": {
      "text/plain": [
       "32"
      ]
     },
     "execution_count": 34,
     "metadata": {},
     "output_type": "execute_result"
    }
   ],
   "source": [
    "@everywhere heavy_computation(x) =  x.^5;\n",
    "r = @spawn heavy_computation(2)\n",
    "fetch(r)\n",
    "\n",
    "r = @spawnat 2 heavy_computation(2)\n",
    "fetch(r)"
   ]
  },
  {
   "cell_type": "markdown",
   "metadata": {
    "slideshow": {
     "slide_type": "slide"
    }
   },
   "source": [
    "## Distributed arrays"
   ]
  },
  {
   "cell_type": "code",
   "execution_count": 35,
   "metadata": {},
   "outputs": [
    {
     "name": "stdout",
     "output_type": "stream",
     "text": [
      "fetch(@spawnat(2, localpart(y))) = [1, 2, 3]\n",
      "\tFrom worker 2:\tI[1] = 1:3\n",
      "\tFrom worker 4:\tI[1] = 6:7\n",
      "\tFrom worker 5:\tI[1] = 8:10\n",
      "\tFrom worker 3:\tI[1] = 4:5\n",
      "res = [1, 4, 9, 16, 25, 36, 49, 64, 81, 100]\n"
     ]
    },
    {
     "data": {
      "text/plain": [
       "10-element DistributedArrays.DArray{Int64,1,Array{Int64,1}}:\n",
       "   1\n",
       "   4\n",
       "   9\n",
       "  16\n",
       "  25\n",
       "  36\n",
       "  49\n",
       "  64\n",
       "  81\n",
       " 100"
      ]
     },
     "execution_count": 35,
     "metadata": {},
     "output_type": "execute_result"
    }
   ],
   "source": [
    "@everywhere using DistributedArrays\n",
    "\n",
    "y = distribute([1:10;])\n",
    "\n",
    "\n",
    "# get data from worker 2-5\n",
    "@show fetch(@spawnat 2 localpart(y))\n",
    "\n",
    "\n",
    "function some_complex_work(y::DArray)\n",
    "    return DArray(size(y),procs(y)) do I\n",
    "        @show I[1]        \n",
    "        return localpart(y).^2\n",
    "    end\n",
    "end\n",
    "\n",
    "res = some_complex_work(y)\n",
    "@show res"
   ]
  },
  {
   "cell_type": "markdown",
   "metadata": {
    "slideshow": {
     "slide_type": "slide"
    }
   },
   "source": [
    "* work with two distributed arrays"
   ]
  },
  {
   "cell_type": "code",
   "execution_count": 36,
   "metadata": {},
   "outputs": [
    {
     "name": "stdout",
     "output_type": "stream",
     "text": [
      "\tFrom worker 5:\tI = (8:10,)\n",
      "\tFrom worker 2:\tI = (1:3,)\n",
      "\tFrom worker 4:\tI = (6:7,)\n",
      "\tFrom worker 3:\tI = (4:5,)\n",
      "res = [5, 20, 45, 80, 125, 180, 245, 320, 405, 500]\n"
     ]
    },
    {
     "data": {
      "text/plain": [
       "10-element DistributedArrays.DArray{Int64,1,Array{Int64,1}}:\n",
       "   5\n",
       "  20\n",
       "  45\n",
       "  80\n",
       " 125\n",
       " 180\n",
       " 245\n",
       " 320\n",
       " 405\n",
       " 500"
      ]
     },
     "execution_count": 36,
     "metadata": {},
     "output_type": "execute_result"
    }
   ],
   "source": [
    "function some_complex_work2(y::DArray, z::DArray)\n",
    "    return DArray(size(y),procs(y)) do I\n",
    "        @show I\n",
    "        localpart(y).^2 + localpart(z).^2\n",
    "    end\n",
    "end\n",
    "\n",
    "z = distribute(2*[1:10;])\n",
    "\n",
    "res = some_complex_work2(y,z)\n",
    "@show res"
   ]
  },
  {
   "cell_type": "code",
   "execution_count": 37,
   "metadata": {},
   "outputs": [
    {
     "data": {
      "text/plain": [
       "10-element DistributedArrays.DArray{Float64,1,Array{Float64,1}}:\n",
       " -1.81026 \n",
       "  0.599959\n",
       "  1.30239 \n",
       " -0.740632\n",
       "  1.06159 \n",
       " -0.391973\n",
       " -0.651016\n",
       "  0.638526\n",
       "  0.657718\n",
       "  0.368162"
      ]
     },
     "execution_count": 37,
     "metadata": {},
     "output_type": "execute_result"
    }
   ],
   "source": [
    "function smoothing(y::DArray)\n",
    "    return DArray(size(y),procs(y)) do I\n",
    "        tmp = zeros(length(I[1])); \n",
    "        for i = I[1]\n",
    "            if i > 1 && i < length(y)\n",
    "                tmp[i - first(I[1]) + 1] = 0.1 * y[i-1] + 0.8 * y[i] + 0.1 * y[i+1]\n",
    "            else\n",
    "                tmp[i - first(I[1]) + 1] = y[i]\n",
    "            end\n",
    "        end\n",
    "        return tmp\n",
    "    end    \n",
    "end\n",
    "\n",
    "x = drandn(10)"
   ]
  },
  {
   "cell_type": "code",
   "execution_count": 38,
   "metadata": {},
   "outputs": [
    {
     "data": {
      "image/png": "[encoded data removed]",
      "text/plain": [
       "PyPlot.Figure(PyObject <matplotlib.figure.Figure object at 0x7ff1dddcfc50>)"
      ]
     },
     "metadata": {},
     "output_type": "display_data"
    }
   ],
   "source": [
    "plot(x); \n",
    "xs = smoothing(x); plot(xs);\n",
    "xs = smoothing(xs); plot(xs);\n",
    "xs = smoothing(xs); plot(xs);\n",
    "xs = smoothing(xs); plot(xs);\n"
   ]
  },
  {
   "cell_type": "markdown",
   "metadata": {
    "slideshow": {
     "slide_type": "slide"
    }
   },
   "source": [
    "# Julia with SLURM (e.g. nic4,...)\n",
    "\n",
    "* Use the package [ClusterManager](https://github.com/JuliaParallel/ClusterManagers.jl) for parallel processing\n",
    "* Do not use the option `--machinefile` as it bypasses SLURM.\n",
    "* A full example would be (`submit_julia.sh`):\n",
    "\n",
    "```bash\n",
    "#!/bin/bash\n",
    "#SBATCH --job-name=julia\n",
    "#SBATCH --output=output-%N-%j.out\n",
    "#SBATCH --cpus-per-task=1\n",
    "\n",
    "export script=\"$1\"\n",
    "echo Julia script $script\n",
    "\n",
    "bt0=$(date +%s)\n",
    "\n",
    "julia <<EOF\n",
    "using ClusterManagers\n",
    "addprocs(SlurmManager($SLURM_NTASKS))\n",
    "\n",
    "# Test the connection\n",
    "hosts = []\n",
    "for i in workers()\n",
    "    host, pid = fetch(@spawnat i (gethostname(), getpid()))\n",
    "    push!(hosts, host)\n",
    "end\n",
    "\n",
    "@show hosts\n",
    "\n",
    "# Run the script\n",
    "include(\"$script\")\n",
    "\n",
    "# The Slurm resource allocation is released when all the workers have\n",
    "# exited\n",
    "for i in workers()\n",
    "    rmprocs(i)\n",
    "end\n",
    "EOF\n",
    "\n",
    "bt1=$(date +%s)\n",
    "\n",
    "awk  \" BEGIN { print \\\"Run time (hours): \\\",($bt1 - $bt0)/3600 } \"\n",
    "```\n",
    "\n",
    "* The script can be used as:\n",
    "\n",
    "```bash\n",
    "sbatch --ntasks=2 --time=20:00:00 --mem-per-cpu=3000 --job-name=myjob submit_julia.sh /path/to/julia/script.jl\n",
    "```"
   ]
  },
  {
   "cell_type": "markdown",
   "metadata": {
    "slideshow": {
     "slide_type": "slide"
    }
   },
   "source": [
    "## Other nice features of Julia\n",
    "\n",
    "* good document of the Julia language: http://docs.julialang.org/en/stable/\n",
    "* find documentation from the julia REPL"
   ]
  },
  {
   "cell_type": "code",
   "execution_count": 39,
   "metadata": {},
   "outputs": [
    {
     "name": "stdout",
     "output_type": "stream",
     "text": [
      "Base.cor\n"
     ]
    },
    {
     "name": "stderr",
     "output_type": "stream",
     "text": [
      "\u001b[1m\u001b[33mWARNING: \u001b[39m\u001b[22m\u001b[33munable to search documentation of type PyPlot.LazyHelp\u001b[39m\n"
     ]
    }
   ],
   "source": [
    "apropos(\"Pearson\")"
   ]
  },
  {
   "cell_type": "code",
   "execution_count": 40,
   "metadata": {},
   "outputs": [
    {
     "name": "stdout",
     "output_type": "stream",
     "text": [
      "search: \u001b[1mc\u001b[22m\u001b[1mo\u001b[22m\u001b[1mr\u001b[22m \u001b[1mC\u001b[22m\u001b[1mo\u001b[22m\u001b[1mr\u001b[22me x\u001b[1mc\u001b[22m\u001b[1mo\u001b[22m\u001b[1mr\u001b[22mr a\u001b[1mc\u001b[22m\u001b[1mo\u001b[22m\u001b[1mr\u001b[22mr Ve\u001b[1mc\u001b[22m\u001b[1mO\u001b[22m\u001b[1mr\u001b[22mMat Ve\u001b[1mc\u001b[22mt\u001b[1mo\u001b[22m\u001b[1mr\u001b[22m ve\u001b[1mc\u001b[22mn\u001b[1mo\u001b[22m\u001b[1mr\u001b[22mm fa\u001b[1mc\u001b[22mt\u001b[1mo\u001b[22m\u001b[1mr\u001b[22mize fa\u001b[1mc\u001b[22mt\u001b[1mo\u001b[22m\u001b[1mr\u001b[22mial\n",
      "\n"
     ]
    },
    {
     "data": {
      "text/markdown": [
       "```\n",
       "cor(x)\n",
       "```\n",
       "\n",
       "Return the number one.\n",
       "\n",
       "```\n",
       "cor(X[, vardim=1])\n",
       "```\n",
       "\n",
       "Compute the Pearson correlation matrix of the matrix `X` along the dimension `vardim`.\n",
       "\n",
       "```\n",
       "cor(x, y)\n",
       "```\n",
       "\n",
       "Compute the Pearson correlation between the vectors `x` and `y`.\n",
       "\n",
       "```\n",
       "cor(X, Y[, vardim=1])\n",
       "```\n",
       "\n",
       "Compute the Pearson correlation between the vectors or matrices `X` and `Y` along the dimension `vardim`.\n"
      ],
      "text/plain": [
       "```\n",
       "cor(x)\n",
       "```\n",
       "\n",
       "Return the number one.\n",
       "\n",
       "```\n",
       "cor(X[, vardim=1])\n",
       "```\n",
       "\n",
       "Compute the Pearson correlation matrix of the matrix `X` along the dimension `vardim`.\n",
       "\n",
       "```\n",
       "cor(x, y)\n",
       "```\n",
       "\n",
       "Compute the Pearson correlation between the vectors `x` and `y`.\n",
       "\n",
       "```\n",
       "cor(X, Y[, vardim=1])\n",
       "```\n",
       "\n",
       "Compute the Pearson correlation between the vectors or matrices `X` and `Y` along the dimension `vardim`.\n"
      ]
     },
     "execution_count": 40,
     "metadata": {},
     "output_type": "execute_result"
    }
   ],
   "source": [
    "?cor"
   ]
  },
  {
   "cell_type": "markdown",
   "metadata": {
    "slideshow": {
     "slide_type": "slide"
    }
   },
   "source": [
    "* get all field names of a type (introspection)"
   ]
  },
  {
   "cell_type": "code",
   "execution_count": 41,
   "metadata": {},
   "outputs": [
    {
     "data": {
      "text/plain": [
       "5-element Array{Symbol,1}:\n",
       " :m     \n",
       " :n     \n",
       " :colptr\n",
       " :rowval\n",
       " :nzval "
      ]
     },
     "execution_count": 41,
     "metadata": {},
     "output_type": "execute_result"
    }
   ],
   "source": [
    "S = speye(2);\n",
    "fieldnames(S)"
   ]
  },
  {
   "cell_type": "markdown",
   "metadata": {},
   "source": [
    "* Most of julia (the programming environement) is written in julia (the language). It is easy to find out where functions or operators are defined:"
   ]
  },
  {
   "cell_type": "code",
   "execution_count": 42,
   "metadata": {},
   "outputs": [
    {
     "data": {
      "text/html": [
       "speye(n::<b>Integer</b>) at <a href=\"https://github.com/JuliaLang/julia/tree/903644385b91ed8d95e5e3a5716c089dd1f1b08a/base/sparse/sparsematrix.jl#L1385\" target=\"_blank\">sparse/sparsematrix.jl:1385</a>"
      ],
      "text/plain": [
       "speye(n::Integer) in Base.SparseArrays at sparse/sparsematrix.jl:1385"
      ]
     },
     "execution_count": 42,
     "metadata": {},
     "output_type": "execute_result"
    }
   ],
   "source": [
    "@which speye(2)"
   ]
  },
  {
   "cell_type": "markdown",
   "metadata": {},
   "source": [
    "* List all functions with a given name (but operating on a different type)"
   ]
  },
  {
   "cell_type": "code",
   "execution_count": 43,
   "metadata": {
    "slideshow": {
     "slide_type": "slide"
    }
   },
   "outputs": [
    {
     "data": {
      "text/html": [
       "17 methods for generic function <b>diag</b>:<ul><li> diag(B::<b>BitArray{2}</b>) at <a href=\"https://github.com/JuliaLang/julia/tree/903644385b91ed8d95e5e3a5716c089dd1f1b08a/base/linalg/bitarray.jl#L81\" target=\"_blank\">linalg/bitarray.jl:81</a></li> <li> diag<i>{T}</i>(M::<b>SymTridiagonal{T}</b>) at <a href=\"https://github.com/JuliaLang/julia/tree/903644385b91ed8d95e5e3a5716c089dd1f1b08a/base/linalg/tridiag.jl#L116\" target=\"_blank\">linalg/tridiag.jl:116</a></li> <li> diag<i>{T}</i>(M::<b>SymTridiagonal{T}</b>, n::<b>Integer</b>) at <a href=\"https://github.com/JuliaLang/julia/tree/903644385b91ed8d95e5e3a5716c089dd1f1b08a/base/linalg/tridiag.jl#L116\" target=\"_blank\">linalg/tridiag.jl:116</a></li> <li> diag<i>{T}</i>(M::<b>Tridiagonal{T}</b>) at <a href=\"https://github.com/JuliaLang/julia/tree/903644385b91ed8d95e5e3a5716c089dd1f1b08a/base/linalg/tridiag.jl#L533\" target=\"_blank\">linalg/tridiag.jl:533</a></li> <li> diag<i>{T}</i>(M::<b>Tridiagonal{T}</b>, n::<b>Integer</b>) at <a href=\"https://github.com/JuliaLang/julia/tree/903644385b91ed8d95e5e3a5716c089dd1f1b08a/base/linalg/tridiag.jl#L533\" target=\"_blank\">linalg/tridiag.jl:533</a></li> <li> diag(A::<b>LowerTriangular</b>) at <a href=\"https://github.com/JuliaLang/julia/tree/903644385b91ed8d95e5e3a5716c089dd1f1b08a/base/linalg/triangular.jl#L303\" target=\"_blank\">linalg/triangular.jl:303</a></li> <li> diag(A::<b>Base.LinAlg.UnitLowerTriangular</b>) at <a href=\"https://github.com/JuliaLang/julia/tree/903644385b91ed8d95e5e3a5716c089dd1f1b08a/base/linalg/triangular.jl#L304\" target=\"_blank\">linalg/triangular.jl:304</a></li> <li> diag(A::<b>UpperTriangular</b>) at <a href=\"https://github.com/JuliaLang/julia/tree/903644385b91ed8d95e5e3a5716c089dd1f1b08a/base/linalg/triangular.jl#L305\" target=\"_blank\">linalg/triangular.jl:305</a></li> <li> diag(A::<b>Base.LinAlg.UnitUpperTriangular</b>) at <a href=\"https://github.com/JuliaLang/julia/tree/903644385b91ed8d95e5e3a5716c089dd1f1b08a/base/linalg/triangular.jl#L306\" target=\"_blank\">linalg/triangular.jl:306</a></li> <li> diag(D::<b>Diagonal</b>) at <a href=\"https://github.com/JuliaLang/julia/tree/903644385b91ed8d95e5e3a5716c089dd1f1b08a/base/linalg/diagonal.jl#L280\" target=\"_blank\">linalg/diagonal.jl:280</a></li> <li> diag<i>{T}</i>(M::<b>Bidiagonal{T}</b>) at <a href=\"https://github.com/JuliaLang/julia/tree/903644385b91ed8d95e5e3a5716c089dd1f1b08a/base/linalg/bidiag.jl#L316\" target=\"_blank\">linalg/bidiag.jl:316</a></li> <li> diag<i>{T}</i>(M::<b>Bidiagonal{T}</b>, n::<b>Integer</b>) at <a href=\"https://github.com/JuliaLang/julia/tree/903644385b91ed8d95e5e3a5716c089dd1f1b08a/base/linalg/bidiag.jl#L316\" target=\"_blank\">linalg/bidiag.jl:316</a></li> <li> diag<i>{Tv}</i>(A::<b>SparseMatrixCSC{Tv,Ti} where Ti<:Integer</b>) at <a href=\"https://github.com/JuliaLang/julia/tree/903644385b91ed8d95e5e3a5716c089dd1f1b08a/base/sparse/sparsematrix.jl#L3269\" target=\"_blank\">sparse/sparsematrix.jl:3269</a></li> <li> diag(A::<b>AbstractArray{T,1} where T</b>) at <a href=\"https://github.com/JuliaLang/julia/tree/903644385b91ed8d95e5e3a5716c089dd1f1b08a/base/linalg/generic.jl#L305\" target=\"_blank\">linalg/generic.jl:305</a></li> <li> diag(A::<b>AbstractArray{T,2} where T</b>) at <a href=\"https://github.com/JuliaLang/julia/tree/903644385b91ed8d95e5e3a5716c089dd1f1b08a/base/linalg/dense.jl#L250\" target=\"_blank\">linalg/dense.jl:250</a></li> <li> diag(A::<b>AbstractArray{T,2} where T</b>, k::<b>Integer</b>) at <a href=\"https://github.com/JuliaLang/julia/tree/903644385b91ed8d95e5e3a5716c089dd1f1b08a/base/linalg/dense.jl#L250\" target=\"_blank\">linalg/dense.jl:250</a></li> <li> diag<i>{Tv}</i>(F::<b>Base.SparseArrays.CHOLMOD.Factor{Tv}</b>) at <a href=\"https://github.com/JuliaLang/julia/tree/903644385b91ed8d95e5e3a5716c089dd1f1b08a/base/sparse/cholmod.jl#L1631\" target=\"_blank\">sparse/cholmod.jl:1631</a></li> </ul>"
      ],
      "text/plain": [
       "# 17 methods for generic function \"diag\":\n",
       "diag(B::BitArray{2}) in Base.LinAlg at linalg/bitarray.jl:81\n",
       "diag(M::SymTridiagonal{T}) where T in Base.LinAlg at linalg/tridiag.jl:116\n",
       "diag(M::SymTridiagonal{T}, n::Integer) where T in Base.LinAlg at linalg/tridiag.jl:116\n",
       "diag(M::Tridiagonal{T}) where T in Base.LinAlg at linalg/tridiag.jl:533\n",
       "diag(M::Tridiagonal{T}, n::Integer) where T in Base.LinAlg at linalg/tridiag.jl:533\n",
       "diag(A::LowerTriangular) in Base.LinAlg at linalg/triangular.jl:303\n",
       "diag(A::Base.LinAlg.UnitLowerTriangular) in Base.LinAlg at linalg/triangular.jl:304\n",
       "diag(A::UpperTriangular) in Base.LinAlg at linalg/triangular.jl:305\n",
       "diag(A::Base.LinAlg.UnitUpperTriangular) in Base.LinAlg at linalg/triangular.jl:306\n",
       "diag(D::Diagonal) in Base.LinAlg at linalg/diagonal.jl:280\n",
       "diag(M::Bidiagonal{T}) where T in Base.LinAlg at linalg/bidiag.jl:316\n",
       "diag(M::Bidiagonal{T}, n::Integer) where T in Base.LinAlg at linalg/bidiag.jl:316\n",
       "diag(A::SparseMatrixCSC{Tv,Ti} where Ti<:Integer) where Tv in Base.SparseArrays at sparse/sparsematrix.jl:3269\n",
       "diag(A::AbstractArray{T,1} where T) in Base.LinAlg at linalg/generic.jl:305\n",
       "diag(A::AbstractArray{T,2} where T) in Base.LinAlg at linalg/dense.jl:250\n",
       "diag(A::AbstractArray{T,2} where T, k::Integer) in Base.LinAlg at linalg/dense.jl:250\n",
       "diag(F::Base.SparseArrays.CHOLMOD.Factor{Tv}) where Tv in Base.SparseArrays.CHOLMOD at sparse/cholmod.jl:1631"
      ]
     },
     "execution_count": 43,
     "metadata": {},
     "output_type": "execute_result"
    }
   ],
   "source": [
    "methods(diag)"
   ]
  },
  {
   "cell_type": "markdown",
   "metadata": {
    "collapsed": true,
    "slideshow": {
     "slide_type": "slide"
    }
   },
   "source": [
    "* integrated package manager\n",
    "\n",
    "```julia\n",
    "Pkg.add(\"DataAssim\")\n",
    "```\n",
    "\n",
    "* Have a look at: http://pkg.julialang.org/"
   ]
  },
  {
   "cell_type": "markdown",
   "metadata": {
    "slideshow": {
     "slide_type": "slide"
    }
   },
   "source": [
    "* Easy to write documentation in markdown\n",
    "* Support for jupyter\n",
    "* Easy to use with github, travis-ci, codecov.io\n",
    "* Support of macros (function that can transform your code)\n",
    "* Numerous constructs to avoid copying data\n",
    "  * pass argument by reference instead of by value\n",
    "  * `reshape` gives a different view on the data\n",
    "  * `SubArray` ` \n"
   ]
  },
  {
   "cell_type": "code",
   "execution_count": 44,
   "metadata": {},
   "outputs": [
    {
     "name": "stdout",
     "output_type": "stream",
     "text": [
      "A = [1 2 3; 4 5 6]\n",
      "b = [1, 4]\n",
      "A = [100 2 3; 4 5 6]\n"
     ]
    },
    {
     "data": {
      "text/plain": [
       "2×3 Array{Int64,2}:\n",
       " 100  2  3\n",
       "   4  5  6"
      ]
     },
     "execution_count": 44,
     "metadata": {},
     "output_type": "execute_result"
    }
   ],
   "source": [
    "A = [1 2 3; 4 5 6];\n",
    "@show A\n",
    "b = view(A,:,1)\n",
    "@show b\n",
    "b[1] = 100\n",
    "@show A"
   ]
  },
  {
   "cell_type": "markdown",
   "metadata": {
    "slideshow": {
     "slide_type": "slide"
    }
   },
   "source": [
    "* list comprehension"
   ]
  },
  {
   "cell_type": "code",
   "execution_count": 45,
   "metadata": {},
   "outputs": [
    {
     "data": {
      "text/plain": [
       "6-element Array{Float64,1}:\n",
       " 0.0        \n",
       " 0.587785   \n",
       " 0.951057   \n",
       " 0.951057   \n",
       " 0.587785   \n",
       " 1.22465e-16"
      ]
     },
     "execution_count": 45,
     "metadata": {},
     "output_type": "execute_result"
    }
   ],
   "source": [
    "A = [sin(π * x) for x = 0:0.2:1]"
   ]
  },
  {
   "cell_type": "code",
   "execution_count": 46,
   "metadata": {},
   "outputs": [
    {
     "data": {
      "text/plain": [
       "6×6 Array{Float64,2}:\n",
       " 0.0  0.0          0.0          0.0          0.0          0.0        \n",
       " 0.0  0.345492     0.559017     0.559017     0.345492     7.19829e-17\n",
       " 0.0  0.559017     0.904508     0.904508     0.559017     1.16471e-16\n",
       " 0.0  0.559017     0.904508     0.904508     0.559017     1.16471e-16\n",
       " 0.0  0.345492     0.559017     0.559017     0.345492     7.19829e-17\n",
       " 0.0  7.19829e-17  1.16471e-16  1.16471e-16  7.19829e-17  1.49976e-32"
      ]
     },
     "execution_count": 46,
     "metadata": {},
     "output_type": "execute_result"
    }
   ],
   "source": [
    "A = [sin(π * x) * sin(π * y) for x = 0:0.2:1, y = 0:0.2:1]"
   ]
  },
  {
   "cell_type": "markdown",
   "metadata": {},
   "source": [
    "* do you like shell pipes? (in DIVA 1081 shell pipes for 154 scripts)"
   ]
  },
  {
   "cell_type": "code",
   "execution_count": 47,
   "metadata": {},
   "outputs": [
    {
     "data": {
      "text/plain": [
       "54"
      ]
     },
     "execution_count": 47,
     "metadata": {},
     "output_type": "execute_result"
    }
   ],
   "source": [
    "[1:5;]  |> x->x.^2 |> x-> x[x .> 2] |> sum"
   ]
  },
  {
   "cell_type": "markdown",
   "metadata": {
    "slideshow": {
     "slide_type": "slide"
    }
   },
   "source": [
    "* Support for GPU programming\n",
    "   * package ArrayFire\n",
    "   * Native support for GPU programming is in developpement\n",
    "* Version 0.6 is [planned](https://discourse.julialang.org/t/0-6-release-timeline/836) for end of February \n",
    "* Interesting read: [A Journey Through Julia: A dynamic and fast language](http://hdl.handle.net/2268/203491) from Thibaut Cuvelier"
   ]
  },
  {
   "cell_type": "markdown",
   "metadata": {
    "slideshow": {
     "slide_type": "slide"
    }
   },
   "source": [
    "# Caveats\n",
    "\n",
    "* Plotting data with missing values is/was not as straight-foreward as in Matlab/Octave. Now PyPlot ignored NaNs as in Matlab/Octave\n",
    "* It takes some time to compile/recompile modules  (which can be a bit annoying in interactive use)\n",
    "* Still a young language\n"
   ]
  },
  {
   "cell_type": "code",
   "execution_count": null,
   "metadata": {
    "collapsed": true
   },
   "outputs": [],
   "source": []
  }
 ],
 "metadata": {
  "celltoolbar": "Slideshow",
  "kernelspec": {
   "display_name": "Julia 0.6.0",
   "language": "julia",
   "name": "julia-0.6"
  },
  "language_info": {
   "file_extension": ".jl",
   "mimetype": "application/julia",
   "name": "julia",
   "version": "0.6.0"
  }
 },
 "nbformat": 4,
 "nbformat_minor": 1
}
