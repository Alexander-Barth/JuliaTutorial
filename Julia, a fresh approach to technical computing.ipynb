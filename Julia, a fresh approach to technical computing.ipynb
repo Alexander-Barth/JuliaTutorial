{
 "cells": [
  {
   "cell_type": "markdown",
   "metadata": {
    "slideshow": {
     "slide_type": "slide"
    }
   },
   "source": [
    "# Julia: a fresh approach to technical computing\n",
    "\n",
    "\n",
    "* Julia is a high-level programming language for technical computing which allows you to manipulate and analyse large data sets\n",
    "* Other programming languages similar to Julia are Matlab and Python\n",
    "* Unlike Python, Julia is build from the ground for techical computing\n",
    "* Unlike Matlab, julia is free and open-source software\n",
    "* Julia is fast (http://julialang.org/benchmarks/: these are microbenchmark (with explicit loops) to be taken with a grain of salt, and see also benchmarks below)\n",
    "\n",
    "\n",
    "## Try Julia\n",
    "\n",
    "* Try julia online at https://juliabox.com/"
   ]
  },
  {
   "cell_type": "markdown",
   "metadata": {
    "slideshow": {
     "slide_type": "slide"
    }
   },
   "source": [
    "## Install Julia\n",
    "\n",
    "* Go to http://julialang.org/downloads/\n",
    "* Install also a text editor with julia support (e.g. emacs with the julia mode)\n",
    "\n",
    "### Optionally\n",
    "\n",
    "* Install Jupyter http://jupyter.org/"
   ]
  },
  {
   "cell_type": "markdown",
   "metadata": {
    "slideshow": {
     "slide_type": "slide"
    }
   },
   "source": [
    "# Variable declarations \n",
    "\n",
    "## Unicode\n",
    "\n",
    "* Unicode in in variables names and function\n",
    "* For example greek letters\n",
    "* Typed as, e.g. \\alpha followed by Tab (in text editor with Julia support)"
   ]
  },
  {
   "cell_type": "code",
   "execution_count": 3,
   "metadata": {
    "slideshow": {
     "slide_type": "-"
    }
   },
   "outputs": [
    {
     "data": {
      "text/plain": [
       "4"
      ]
     },
     "execution_count": 3,
     "metadata": {},
     "output_type": "execute_result"
    }
   ],
   "source": [
    "α = π/2\n",
    "σ² = 4"
   ]
  },
  {
   "cell_type": "markdown",
   "metadata": {
    "slideshow": {
     "slide_type": "-"
    }
   },
   "source": [
    "* Also for function names"
   ]
  },
  {
   "cell_type": "code",
   "execution_count": 4,
   "metadata": {
    "slideshow": {
     "slide_type": "-"
    }
   },
   "outputs": [
    {
     "data": {
      "text/plain": [
       "my_serious_function😼 (generic function with 1 method)"
      ]
     },
     "execution_count": 4,
     "metadata": {},
     "output_type": "execute_result"
    }
   ],
   "source": [
    "function my_serious_function😼(x,y)\n",
    "    return y,x\n",
    "end"
   ]
  },
  {
   "cell_type": "code",
   "execution_count": 5,
   "metadata": {
    "slideshow": {
     "slide_type": "-"
    }
   },
   "outputs": [
    {
     "data": {
      "text/plain": [
       "(2, 1)"
      ]
     },
     "execution_count": 5,
     "metadata": {},
     "output_type": "execute_result"
    }
   ],
   "source": [
    "my_serious_function😼(1,2)"
   ]
  },
  {
   "cell_type": "markdown",
   "metadata": {
    "slideshow": {
     "slide_type": "slide"
    }
   },
   "source": [
    "* also for build-in operators"
   ]
  },
  {
   "cell_type": "code",
   "execution_count": 6,
   "metadata": {},
   "outputs": [
    {
     "data": {
      "text/plain": [
       "true"
      ]
     },
     "execution_count": 6,
     "metadata": {},
     "output_type": "execute_result"
    }
   ],
   "source": [
    "2 ∈ Set([2,3])"
   ]
  },
  {
   "cell_type": "code",
   "execution_count": 7,
   "metadata": {},
   "outputs": [
    {
     "data": {
      "text/plain": [
       "true"
      ]
     },
     "execution_count": 7,
     "metadata": {},
     "output_type": "execute_result"
    }
   ],
   "source": [
    "2 in Set([2,3])"
   ]
  },
  {
   "cell_type": "markdown",
   "metadata": {},
   "source": [
    "* Do not get crazy"
   ]
  },
  {
   "cell_type": "code",
   "execution_count": 8,
   "metadata": {},
   "outputs": [
    {
     "data": {
      "text/plain": [
       "2.345"
      ]
     },
     "execution_count": 8,
     "metadata": {},
     "output_type": "execute_result"
    }
   ],
   "source": [
    "𝔳𝔞𝔯𝔦𝔞𝔟𝔩𝔢 = 1.234\n",
    "שคгเค๒ɭє = 2.345"
   ]
  },
  {
   "cell_type": "markdown",
   "metadata": {
    "slideshow": {
     "slide_type": "slide"
    }
   },
   "source": [
    "# Functions\n",
    "\n",
    "* Functions are central in julia:\n",
    "  * functions are \"first-class\" (e.g. a variable/parameter can hold a function)\n",
    "  * all operators are defined as functions: `1+2` is in fact `+(1,2)`\n",
    "  * functions are very flexible due to [multiple dispatch](https://en.wikipedia.org/wiki/Multiple_dispatch)\n",
    "* There are 3 ways to define a function:"
   ]
  },
  {
   "cell_type": "code",
   "execution_count": 9,
   "metadata": {},
   "outputs": [
    {
     "data": {
      "text/plain": [
       "times_two (generic function with 1 method)"
      ]
     },
     "execution_count": 9,
     "metadata": {},
     "output_type": "execute_result"
    }
   ],
   "source": [
    "function times_two(x)\n",
    "    return 2x\n",
    "end"
   ]
  },
  {
   "cell_type": "markdown",
   "metadata": {},
   "source": [
    "* `return` is actually optional. If it is not present, then the last value of a function is returned."
   ]
  },
  {
   "cell_type": "code",
   "execution_count": 10,
   "metadata": {},
   "outputs": [
    {
     "data": {
      "text/plain": [
       "times2 (generic function with 1 method)"
      ]
     },
     "execution_count": 10,
     "metadata": {},
     "output_type": "execute_result"
    }
   ],
   "source": [
    "times2(x) = 2x"
   ]
  },
  {
   "cell_type": "code",
   "execution_count": 11,
   "metadata": {},
   "outputs": [
    {
     "data": {
      "text/plain": [
       "#7 (generic function with 1 method)"
      ]
     },
     "execution_count": 11,
     "metadata": {},
     "output_type": "execute_result"
    }
   ],
   "source": [
    "x -> 2x"
   ]
  },
  {
   "cell_type": "markdown",
   "metadata": {},
   "source": [
    "# Operators\n",
    "\n",
    "* Julia has all the usual operators: +, -, *, / as most programming languages have\n",
    "\n",
    "## Additional interesting operators\n",
    "\n",
    "* Multiply by the inverse of a matrix: A \\ x"
   ]
  },
  {
   "cell_type": "code",
   "execution_count": 12,
   "metadata": {},
   "outputs": [
    {
     "data": {
      "text/plain": [
       "2-element Array{Float64,1}:\n",
       " 0.5\n",
       " 0.5"
      ]
     },
     "execution_count": 12,
     "metadata": {},
     "output_type": "execute_result"
    }
   ],
   "source": [
    "x = [1; 1]; A = [2 0; 0 2]; A \\ x"
   ]
  },
  {
   "cell_type": "markdown",
   "metadata": {},
   "source": [
    "* do you like shell pipes? (in DIVA 1081 shell pipes for 154 scripts)"
   ]
  },
  {
   "cell_type": "code",
   "execution_count": 13,
   "metadata": {},
   "outputs": [
    {
     "data": {
      "text/plain": [
       "54"
      ]
     },
     "execution_count": 13,
     "metadata": {},
     "output_type": "execute_result"
    }
   ],
   "source": [
    "[1:5;]  |> x->x.^2 |> x-> x[x .> 2] |> sum"
   ]
  },
  {
   "cell_type": "markdown",
   "metadata": {},
   "source": [
    "* function composition f ∘ g (x) (type \\circ followed by the tab key), in julia 0.6"
   ]
  },
  {
   "cell_type": "code",
   "execution_count": 14,
   "metadata": {},
   "outputs": [
    {
     "data": {
      "text/plain": [
       "0.8414709848078965"
      ]
     },
     "execution_count": 14,
     "metadata": {},
     "output_type": "execute_result"
    }
   ],
   "source": [
    "(abs ∘ sin)(1)"
   ]
  },
  {
   "cell_type": "markdown",
   "metadata": {
    "slideshow": {
     "slide_type": "slide"
    }
   },
   "source": [
    "# Arrays\n",
    "\n",
    "* Arrays can be homogenous or heterogenous\n",
    "* Julia figures this out for you\n",
    "\n",
    "* Homogenous arrays:"
   ]
  },
  {
   "cell_type": "code",
   "execution_count": 15,
   "metadata": {},
   "outputs": [
    {
     "data": {
      "text/plain": [
       "4-element Array{Int64,1}:\n",
       " 1\n",
       " 2\n",
       " 3\n",
       " 4"
      ]
     },
     "execution_count": 15,
     "metadata": {},
     "output_type": "execute_result"
    }
   ],
   "source": [
    "arr = [1,2,3,4]"
   ]
  },
  {
   "cell_type": "markdown",
   "metadata": {},
   "source": [
    "Elements can also be converted if necessary to make an homogenous array"
   ]
  },
  {
   "cell_type": "code",
   "execution_count": 16,
   "metadata": {},
   "outputs": [
    {
     "data": {
      "text/plain": [
       "3-element Array{Float64,1}:\n",
       " 2.0\n",
       " 4.0\n",
       " 5.0"
      ]
     },
     "execution_count": 16,
     "metadata": {},
     "output_type": "execute_result"
    }
   ],
   "source": [
    "arr2 = [2.,4.,5]"
   ]
  },
  {
   "cell_type": "markdown",
   "metadata": {
    "slideshow": {
     "slide_type": "slide"
    }
   },
   "source": [
    "Example of an heterogeneous array"
   ]
  },
  {
   "cell_type": "code",
   "execution_count": 17,
   "metadata": {},
   "outputs": [
    {
     "data": {
      "text/plain": [
       "3-element Array{Any,1}:\n",
       " 1                  \n",
       " 2                  \n",
       "  \"this is a string\""
      ]
     },
     "execution_count": 17,
     "metadata": {},
     "output_type": "execute_result"
    }
   ],
   "source": [
    "arr = [1,2,\"this is a string\"]"
   ]
  },
  {
   "cell_type": "markdown",
   "metadata": {
    "slideshow": {
     "slide_type": "slide"
    }
   },
   "source": [
    "## Automatic type inference"
   ]
  },
  {
   "cell_type": "code",
   "execution_count": 18,
   "metadata": {},
   "outputs": [
    {
     "data": {
      "text/plain": [
       "speed (generic function with 1 method)"
      ]
     },
     "execution_count": 18,
     "metadata": {},
     "output_type": "execute_result"
    }
   ],
   "source": [
    "function speed(u,v)\n",
    "    u2 = u.^2\n",
    "    v2 = v.^2\n",
    "    s2 = u2 + v2\n",
    "    s = sqrt.(s2)\n",
    "    return s\n",
    "end"
   ]
  },
  {
   "cell_type": "code",
   "execution_count": 19,
   "metadata": {
    "slideshow": {
     "slide_type": "slide"
    }
   },
   "outputs": [
    {
     "name": "stdout",
     "output_type": "stream",
     "text": [
      "Body\u001b[36m::Float64\u001b[39m\n",
      "\u001b[90m\u001b[40G│╻╷╷╷╷   broadcasted\u001b[1G\u001b[39m\u001b[90m2 \u001b[39m1 ── %1  = %new(Base.RefValue{typeof(^)}, ^)\u001b[36m::Base.RefValue{typeof(^)}\u001b[39m\n",
      "\u001b[90m\u001b[40G││╻╷╷╷╷   map\u001b[1G\u001b[39m\u001b[90m  \u001b[39m│    %2  = %new(Base.RefValue{Val{2}}, $(QuoteNode(Val{2}())))\u001b[36m::Base.RefValue{Val{2}}\u001b[39m\n",
      "\u001b[90m\u001b[40G││╻╷      copy\u001b[1G\u001b[39m\u001b[90m  \u001b[39m└───       goto #3 if not true\n",
      "\u001b[90m\u001b[40G│       \u001b[1G\u001b[39m\u001b[90m  \u001b[39m2 ──       nothing\n",
      "\u001b[90m\u001b[40G│││╻╷╷╷╷   getindex\u001b[1G\u001b[39m\u001b[90m  \u001b[39m3 ──       (Base.getfield)(%1, :x)\n",
      "\u001b[90m\u001b[40G││││╻╷╷╷    _broadcast_getindex\u001b[1G\u001b[39m\u001b[90m  \u001b[39m│          (Base.getfield)(%2, :x)\n",
      "\u001b[90m\u001b[40G│││││╻╷╷     _broadcast_getindex_evalf\u001b[1G\u001b[39m\u001b[90m  \u001b[39m│    %7  = (Base.mul_float)(u, u)\u001b[36m::Float64\u001b[39m\n",
      "\u001b[90m\u001b[40G││││    \u001b[1G\u001b[39m\u001b[90m  \u001b[39m└───       goto #4\n",
      "\u001b[90m\u001b[40G│││     \u001b[1G\u001b[39m\u001b[90m  \u001b[39m4 ──       goto #5\n",
      "\u001b[90m\u001b[40G││      \u001b[1G\u001b[39m\u001b[90m  \u001b[39m5 ──       goto #6\n",
      "\u001b[90m\u001b[40G│╻╷╷╷╷   broadcasted\u001b[1G\u001b[39m\u001b[90m3 \u001b[39m6 ── %11 = %new(Base.RefValue{typeof(^)}, ^)\u001b[36m::Base.RefValue{typeof(^)}\u001b[39m\n",
      "\u001b[90m\u001b[40G││╻╷╷╷╷   map\u001b[1G\u001b[39m\u001b[90m  \u001b[39m│    %12 = %new(Base.RefValue{Val{2}}, $(QuoteNode(Val{2}())))\u001b[36m::Base.RefValue{Val{2}}\u001b[39m\n",
      "\u001b[90m\u001b[40G││╻╷      copy\u001b[1G\u001b[39m\u001b[90m  \u001b[39m└───       goto #8 if not true\n",
      "\u001b[90m\u001b[40G│       \u001b[1G\u001b[39m\u001b[90m  \u001b[39m7 ──       nothing\n",
      "\u001b[90m\u001b[40G│││╻╷╷╷╷   getindex\u001b[1G\u001b[39m\u001b[90m  \u001b[39m8 ──       (Base.getfield)(%11, :x)\n",
      "\u001b[90m\u001b[40G││││╻╷╷╷    _broadcast_getindex\u001b[1G\u001b[39m\u001b[90m  \u001b[39m│          (Base.getfield)(%12, :x)\n",
      "\u001b[90m\u001b[40G│││││╻╷╷     _broadcast_getindex_evalf\u001b[1G\u001b[39m\u001b[90m  \u001b[39m│    %17 = (Base.mul_float)(v, v)\u001b[36m::Float64\u001b[39m\n",
      "\u001b[90m\u001b[40G││││    \u001b[1G\u001b[39m\u001b[90m  \u001b[39m└───       goto #9\n",
      "\u001b[90m\u001b[40G│││     \u001b[1G\u001b[39m\u001b[90m  \u001b[39m9 ──       goto #10\n",
      "\u001b[90m\u001b[40G││      \u001b[1G\u001b[39m\u001b[90m  \u001b[39m10 ─       goto #11\n",
      "\u001b[90m\u001b[40G│╻       +\u001b[1G\u001b[39m\u001b[90m4 \u001b[39m11 ─ %21 = (Base.add_float)(%7, %17)\u001b[36m::Float64\u001b[39m\n",
      "\u001b[90m\u001b[40G│╻╷╷     materialize\u001b[1G\u001b[39m\u001b[90m5 \u001b[39m└───       goto #13 if not true\n",
      "\u001b[90m\u001b[40G│       \u001b[1G\u001b[39m\u001b[90m  \u001b[39m12 ─       nothing\n",
      "\u001b[90m\u001b[40G││╻╷╷╷    copy\u001b[1G\u001b[39m\u001b[90m  \u001b[39m13 ─ %24 = (Base.lt_float)(%21, 0.0)\u001b[36m::Bool\u001b[39m\n",
      "\u001b[90m\u001b[40G│││┃│││    getindex\u001b[1G\u001b[39m\u001b[90m  \u001b[39m└───       goto #15 if not %24\n",
      "\u001b[90m\u001b[40G││││┃││     _broadcast_getindex\u001b[1G\u001b[39m\u001b[90m  \u001b[39m14 ─       invoke Base.Math.throw_complex_domainerror(:sqrt::Symbol, %21::Float64)\n",
      "\u001b[90m\u001b[40G│││││┃│      _broadcast_getindex_evalf\u001b[1G\u001b[39m\u001b[90m  \u001b[39m└───       $(Expr(:unreachable))\n",
      "\u001b[90m\u001b[40G││││││┃       sqrt\u001b[1G\u001b[39m\u001b[90m  \u001b[39m15 ─ %28 = (Base.Math.sqrt_llvm)(%21)\u001b[36m::Float64\u001b[39m\n",
      "\u001b[90m\u001b[40G│││││││ \u001b[1G\u001b[39m\u001b[90m  \u001b[39m└───       goto #16\n",
      "\u001b[90m\u001b[40G││││││  \u001b[1G\u001b[39m\u001b[90m  \u001b[39m16 ─       goto #17\n",
      "\u001b[90m\u001b[40G│││││   \u001b[1G\u001b[39m\u001b[90m  \u001b[39m17 ─       goto #18\n",
      "\u001b[90m\u001b[40G││││    \u001b[1G\u001b[39m\u001b[90m  \u001b[39m18 ─       goto #19\n",
      "\u001b[90m\u001b[40G│││     \u001b[1G\u001b[39m\u001b[90m  \u001b[39m19 ─       goto #20\n",
      "\u001b[90m\u001b[40G││      \u001b[1G\u001b[39m\u001b[90m  \u001b[39m20 ─       goto #21\n",
      "\u001b[90m\u001b[40G│       \u001b[1G\u001b[39m\u001b[90m6 \u001b[39m21 ─       return %28\n"
     ]
    }
   ],
   "source": [
    "@code_warntype speed(1.,2.)"
   ]
  },
  {
   "cell_type": "code",
   "execution_count": 20,
   "metadata": {
    "slideshow": {
     "slide_type": "slide"
    }
   },
   "outputs": [
    {
     "data": {
      "text/plain": [
       "2-element Array{Float64,1}:\n",
       " 2.23606797749979 \n",
       " 3.605551275463989"
      ]
     },
     "execution_count": 20,
     "metadata": {},
     "output_type": "execute_result"
    }
   ],
   "source": [
    "speed([1.,2.],[2.,3.])"
   ]
  },
  {
   "cell_type": "markdown",
   "metadata": {
    "slideshow": {
     "slide_type": "slide"
    }
   },
   "source": [
    "# Code generation\n",
    "\n",
    "* The julia compiler generates efficient machine code\n",
    "* Loops are not slow (compared to Python, Matlab or Octave)\n",
    "* It is still possible to use vectorized code\n",
    "  * vectorized code typically uses more memory than code with explicit loops\n",
    "  * vectorized code is slightly slower than code with with explicit loops\n",
    " "
   ]
  },
  {
   "cell_type": "code",
   "execution_count": 21,
   "metadata": {
    "slideshow": {
     "slide_type": "slide"
    }
   },
   "outputs": [
    {
     "name": "stdout",
     "output_type": "stream",
     "text": [
      "\n",
      "; Function speed\n",
      "; Location: In[18]:2\n",
      "define double @julia_speed_36350(double, double) {\n",
      "top:\n",
      "; Function materialize; {\n",
      "; Location: broadcast.jl:756\n",
      "; Function copy; {\n",
      "; Location: broadcast.jl:766\n",
      "; Function getindex; {\n",
      "; Location: broadcast.jl:515\n",
      "; Function _broadcast_getindex; {\n",
      "; Location: broadcast.jl:555\n",
      "; Function _broadcast_getindex_evalf; {\n",
      "; Location: broadcast.jl:582\n",
      "; Function literal_pow; {\n",
      "; Location: intfuncs.jl:243\n",
      "; Function *; {\n",
      "; Location: float.jl:399\n",
      "  %2 = fmul double %0, %0\n",
      ";}}}}}}}\n",
      "; Location: In[18]:3\n",
      "; Function materialize; {\n",
      "; Location: broadcast.jl:756\n",
      "; Function copy; {\n",
      "; Location: broadcast.jl:766\n",
      "; Function getindex; {\n",
      "; Location: broadcast.jl:515\n",
      "; Function _broadcast_getindex; {\n",
      "; Location: broadcast.jl:555\n",
      "; Function _broadcast_getindex_evalf; {\n",
      "; Location: broadcast.jl:582\n",
      "; Function literal_pow; {\n",
      "; Location: intfuncs.jl:243\n",
      "; Function *; {\n",
      "; Location: float.jl:399\n",
      "  %3 = fmul double %1, %1\n",
      ";}}}}}}}\n",
      "; Location: In[18]:4\n",
      "; Function +; {\n",
      "; Location: float.jl:395\n",
      "  %4 = fadd double %2, %3\n",
      ";}\n",
      "; Location: In[18]:5\n",
      "; Function materialize; {\n",
      "; Location: broadcast.jl:756\n",
      "; Function copy; {\n",
      "; Location: broadcast.jl:766\n",
      "; Function getindex; {\n",
      "; Location: broadcast.jl:515\n",
      "; Function _broadcast_getindex; {\n",
      "; Location: broadcast.jl:555\n",
      "; Function _broadcast_getindex_evalf; {\n",
      "; Location: broadcast.jl:582\n",
      "; Function sqrt; {\n",
      "; Location: math.jl:493\n",
      "  %5 = call double @llvm.sqrt.f64(double %4)\n",
      ";}}}}}}\n",
      "; Location: In[18]:6\n",
      "  ret double %5\n",
      "}\n"
     ]
    }
   ],
   "source": [
    "@code_llvm speed(1.,2.)"
   ]
  },
  {
   "cell_type": "code",
   "execution_count": 22,
   "metadata": {
    "slideshow": {
     "slide_type": "slide"
    }
   },
   "outputs": [
    {
     "name": "stdout",
     "output_type": "stream",
     "text": [
      "\t.text\n",
      "; Function speed {\n",
      "; Location: In[18]:2\n",
      "; Function materialize; {\n",
      "; Location: broadcast.jl:756\n",
      "; Function copy; {\n",
      "; Location: broadcast.jl:766\n",
      "; Function getindex; {\n",
      "; Location: broadcast.jl:515\n",
      "; Function _broadcast_getindex; {\n",
      "; Location: broadcast.jl:555\n",
      "; Function _broadcast_getindex_evalf; {\n",
      "; Location: broadcast.jl:582\n",
      "; Function literal_pow; {\n",
      "; Location: intfuncs.jl:243\n",
      "; Function *; {\n",
      "; Location: In[18]:2\n",
      "\tvmulsd\t%xmm0, %xmm0, %xmm0\n",
      ";}}}}}}}\n",
      "; Location: In[18]:3\n",
      "; Function materialize; {\n",
      "; Location: broadcast.jl:756\n",
      "; Function copy; {\n",
      "; Location: broadcast.jl:766\n",
      "; Function getindex; {\n",
      "; Location: broadcast.jl:515\n",
      "; Function _broadcast_getindex; {\n",
      "; Location: broadcast.jl:555\n",
      "; Function _broadcast_getindex_evalf; {\n",
      "; Location: broadcast.jl:582\n",
      "; Function literal_pow; {\n",
      "; Location: intfuncs.jl:243\n",
      "; Function *; {\n",
      "; Location: float.jl:399\n",
      "\tvmulsd\t%xmm1, %xmm1, %xmm1\n",
      ";}}}}}}}\n",
      "; Location: In[18]:4\n",
      "; Function +; {\n",
      "; Location: float.jl:395\n",
      "\tvaddsd\t%xmm1, %xmm0, %xmm0\n",
      ";}\n",
      "; Location: In[18]:5\n",
      "; Function materialize; {\n",
      "; Location: broadcast.jl:756\n",
      "; Function copy; {\n",
      "; Location: broadcast.jl:766\n",
      "; Function getindex; {\n",
      "; Location: broadcast.jl:515\n",
      "; Function _broadcast_getindex; {\n",
      "; Location: broadcast.jl:555\n",
      "; Function _broadcast_getindex_evalf; {\n",
      "; Location: broadcast.jl:582\n",
      "; Function sqrt; {\n",
      "; Location: math.jl:493\n",
      "\tvsqrtsd\t%xmm0, %xmm0, %xmm0\n",
      ";}}}}}}\n",
      "; Location: In[18]:6\n",
      "\tretq\n",
      "\tnopw\t%cs:(%rax,%rax)\n",
      ";}\n"
     ]
    }
   ],
   "source": [
    "@code_native speed(1.,2.)"
   ]
  },
  {
   "cell_type": "markdown",
   "metadata": {
    "slideshow": {
     "slide_type": "slide"
    }
   },
   "source": [
    "## Benchmarks\n",
    "\n",
    "\n",
    "### Mandelbrod fractals\n",
    "\n",
    "* Median times of 30 runs\n",
    "\n",
    "| program                 |      style | run time (sec)  |\n",
    "|------------------|------------|-----------------|\n",
    "| matlab R2013a    |       loops|   5.67     |\n",
    "| matlab R2013a    |  vectorized|   2.40  |\n",
    "|  octave 3.8.1    |       loops| 184.56  |\n",
    "|  octave 3.8.1    |  vectorized|   4.72  |\n",
    "|     julia 0.5    |       loops|   0.19 |\n",
    "|     julia 0.5    |  vectorized|   2.24  |"
   ]
  },
  {
   "cell_type": "markdown",
   "metadata": {
    "slideshow": {
     "slide_type": "slide"
    }
   },
   "source": [
    "### Ensemble Transform Kalman Filter (ETKF)\n",
    "\n",
    "#### Parameters\n",
    "\n",
    "| parameter                               | value  |\n",
    "|-----------------------------------------|--------|\n",
    "| number of elements in the state vector  | 50     |\n",
    "| ensemble size                           | 100    |\n",
    "| number of observations                  | 5      |\n",
    "| number of water columns                 | 10000  |\n",
    "\n",
    "#### Run-time\n",
    "\n",
    "| Language | version | comments | run-time (s) |\n",
    "|----------|---------|----------|--------------|\n",
    "| Julia    | 0.4.5   | -          | 43.362 |\n",
    "| Fortran (gfortran)  | 4.8.4   | intrinsic matmul             |  136.481 |\n",
    "| Fortran (gfortran) | 4.8.4   | matmul calls external BLAS    |  32.483  |\n",
    "| Matlab   | R2013a  | -         | 31.1854      |\n",
    "| Octave   | 3.8.1   | -         | 58.019       |\n",
    "\n",
    "\n"
   ]
  },
  {
   "cell_type": "markdown",
   "metadata": {
    "slideshow": {
     "slide_type": "slide"
    }
   },
   "source": [
    "| Language | version | comments | run-time (s) |\n",
    "|----------|---------|----------|--------------|\n",
    "| Fortran (gfortran) | 4.8.4   | matmul calls external BLAS    |  32.483  |\n",
    "| Julia    | 0.5.0   | type-stable, without bounds check         | 29.948924 |\n"
   ]
  },
  {
   "cell_type": "markdown",
   "metadata": {
    "slideshow": {
     "slide_type": "slide"
    }
   },
   "source": [
    "# Working with files\n",
    "* open a file, and load every line sequentially"
   ]
  },
  {
   "cell_type": "code",
   "execution_count": 23,
   "metadata": {},
   "outputs": [
    {
     "name": "stdout",
     "output_type": "stream",
     "text": [
      "this\n",
      "is\n",
      "a test\n"
     ]
    }
   ],
   "source": [
    "f = open(\"file.txt\")\n",
    "for l in eachline(f)\n",
    "         println(l)\n",
    "end\n",
    "close(f)\n"
   ]
  },
  {
   "cell_type": "markdown",
   "metadata": {},
   "source": [
    "* a common error is to forget to close the file\n",
    "* with a do-block"
   ]
  },
  {
   "cell_type": "code",
   "execution_count": 24,
   "metadata": {},
   "outputs": [
    {
     "name": "stdout",
     "output_type": "stream",
     "text": [
      "this\n",
      "is\n",
      "a test\n"
     ]
    }
   ],
   "source": [
    "open(\"file.txt\") do f\n",
    "  for l in eachline(f)\n",
    "     println(l)\n",
    "  end\n",
    "end"
   ]
  },
  {
   "cell_type": "markdown",
   "metadata": {},
   "source": [
    "* similar to python's `with` statement"
   ]
  },
  {
   "cell_type": "markdown",
   "metadata": {
    "slideshow": {
     "slide_type": "slide"
    }
   },
   "source": [
    "# Visualization\n",
    "\n",
    "* Julia can call all Python modules, for instance also matplotlib\n",
    "* `PyPlot` is a matplotlib wrapper"
   ]
  },
  {
   "cell_type": "code",
   "execution_count": 25,
   "metadata": {},
   "outputs": [
    {
     "name": "stderr",
     "output_type": "stream",
     "text": [
      "┌ Info: Recompiling stale cache file /home/abarth/.julia/compiled/v1.0/PyPlot/oatAj.ji for PyPlot [d330b81b-6aea-500a-939a-2ce795aea3ee]\n",
      "└ @ Base loading.jl:1190\n"
     ]
    }
   ],
   "source": [
    "using PyPlot"
   ]
  },
  {
   "cell_type": "code",
   "execution_count": 26,
   "metadata": {
    "slideshow": {
     "slide_type": "slide"
    }
   },
   "outputs": [
    {
     "data": {
      "image/png": "[encoded data removed]",
      "text/plain": [
       "Figure(PyObject <Figure size 640x480 with 2 Axes>)"
      ]
     },
     "metadata": {},
     "output_type": "display_data"
    },
    {
     "data": {
      "text/plain": [
       "PyObject <matplotlib.colorbar.Colorbar object at 0x7fcf73d479e8>"
      ]
     },
     "execution_count": 26,
     "metadata": {},
     "output_type": "execute_result"
    }
   ],
   "source": [
    "x = randn(10,10)\n",
    "pcolor(x)\n",
    "xlabel(\"x-axis\")\n",
    "ylabel(\"y-axis\")\n",
    "title(\"my plot\")\n",
    "colorbar()"
   ]
  },
  {
   "cell_type": "code",
   "execution_count": 27,
   "metadata": {
    "slideshow": {
     "slide_type": "slide"
    }
   },
   "outputs": [
    {
     "ename": "ArgumentError",
     "evalue": "ArgumentError: Package NetCDF not found in current path:\n- Run `import Pkg; Pkg.add(\"NetCDF\")` to install the NetCDF package.\n",
     "output_type": "error",
     "traceback": [
      "ArgumentError: Package NetCDF not found in current path:\n- Run `import Pkg; Pkg.add(\"NetCDF\")` to install the NetCDF package.\n",
      "",
      "Stacktrace:",
      " [1] require(::Module, ::Symbol) at ./loading.jl:823",
      " [2] top-level scope at In[27]:1"
     ]
    }
   ],
   "source": [
    "using NetCDF\n",
    "using PyCall\n",
    "figure(figsize=(7,4))\n",
    "@pyimport numpy.ma as ma\n",
    "fname = \"/home/abarth/Lectures/MatlabOctaveTutorial/data/WesternMedSST.nc\"\n",
    "lon = ncread(fname,\"lon\"); lat = ncread(fname,\"lat\");\n",
    "SST = ncread(fname,\"seviri_sst\");\n",
    "fillval = ncgetatt(fname,\"seviri_sst\",\"_FillValue\")\n",
    "pyma(X) = pycall(ma.array, Any, X, mask=X .== fillval)\n",
    "pcolor(lon,lat,pyma(SST[:,:,1]')); colorbar()"
   ]
  },
  {
   "cell_type": "markdown",
   "metadata": {
    "slideshow": {
     "slide_type": "slide"
    }
   },
   "source": [
    "# Custom types"
   ]
  },
  {
   "cell_type": "code",
   "execution_count": 28,
   "metadata": {},
   "outputs": [],
   "source": [
    "using PyPlot\n",
    "using Base"
   ]
  },
  {
   "cell_type": "markdown",
   "metadata": {},
   "source": [
    "* Create a new type `ParamCovar` which represents an error covariance matrix\n",
    "* It behaves like an Array of 2 dimensions"
   ]
  },
  {
   "cell_type": "code",
   "execution_count": 29,
   "metadata": {},
   "outputs": [
    {
     "ename": "LoadError",
     "evalue": "syntax: extra token \"ParamCovar\" after end of expression",
     "output_type": "error",
     "traceback": [
      "syntax: extra token \"ParamCovar\" after end of expression",
      ""
     ]
    }
   ],
   "source": [
    "type ParamCovar{T} <: AbstractArray{T, 2}\n",
    "    n:: Int64       # dimension\n",
    "    len:: T         # correlation length\n",
    "    var:: T         # variance\n",
    "    x:: Array{T,2}  # x[i,:] are the n coordinates of the i-th grid point\n",
    "end\n",
    "\n",
    "function Base.size{T}(PC::ParamCovar{T})\n",
    "    return (PC.n,PC.n)\n",
    "end\n",
    "\n",
    "function Base.getindex{T}(PC::ParamCovar{T},i,j)\n",
    "    d2 = sum((PC.x[i,:] - PC.x[j,:]).^2)\n",
    "    return PC.var * exp(-d2 / (PC.len^2))\n",
    "end"
   ]
  },
  {
   "cell_type": "markdown",
   "metadata": {
    "slideshow": {
     "slide_type": "slide"
    }
   },
   "source": [
    "* Define a domain [-10,10] x [-10,10]"
   ]
  },
  {
   "cell_type": "code",
   "execution_count": 30,
   "metadata": {},
   "outputs": [
    {
     "ename": "UndefVarError",
     "evalue": "UndefVarError: linspace not defined",
     "output_type": "error",
     "traceback": [
      "UndefVarError: linspace not defined",
      "",
      "Stacktrace:",
      " [1] top-level scope at In[30]:3"
     ]
    }
   ],
   "source": [
    "imax = 50\n",
    "jmax = imax\n",
    "\n",
    "vx1 = linspace(-10,10,imax)\n",
    "vx2 = linspace(-10,10,jmax)\n",
    "\n",
    "x1 = [x1 for x1 in vx1, x2 in vx2];\n",
    "x2 = [x2 for x1 in vx1, x2 in vx2];"
   ]
  },
  {
   "cell_type": "markdown",
   "metadata": {
    "slideshow": {
     "slide_type": "slide"
    }
   },
   "source": [
    "* create an instance of the `ParamCovar` type"
   ]
  },
  {
   "cell_type": "code",
   "execution_count": 31,
   "metadata": {},
   "outputs": [
    {
     "ename": "UndefVarError",
     "evalue": "UndefVarError: x1 not defined",
     "output_type": "error",
     "traceback": [
      "UndefVarError: x1 not defined",
      "",
      "Stacktrace:",
      " [1] top-level scope at In[31]:1"
     ]
    }
   ],
   "source": [
    "n = length(x1)\n",
    "m = 3\n",
    "\n",
    "# n: number of grid points (total)\n",
    "# len = 4 (correlation length)\n",
    "# var = 1 (background variance)\n",
    "\n",
    "# Pf = ParamCovar{Float64}(n,4.,1.,[x1[:] x2[:]]) or just\n",
    "Pf = ParamCovar(n,4.,1.,[x1[:] x2[:]]);"
   ]
  },
  {
   "cell_type": "markdown",
   "metadata": {
    "slideshow": {
     "slide_type": "slide"
    }
   },
   "source": [
    "* setup additional matrices (observation operator $\\mathbf H$, observation error covariance matrix $\\mathbf R$, forecast $\\mathbf x_f$)"
   ]
  },
  {
   "cell_type": "code",
   "execution_count": 32,
   "metadata": {},
   "outputs": [
    {
     "ename": "UndefVarError",
     "evalue": "UndefVarError: x1 not defined",
     "output_type": "error",
     "traceback": [
      "UndefVarError: x1 not defined",
      "",
      "Stacktrace:",
      " [1] top-level scope at In[32]:1"
     ]
    }
   ],
   "source": [
    "# index of the middle of the domain\n",
    "ind = sub2ind(size(x1),Int64(imax/2),Int64(jmax/2))\n",
    "\n",
    "H = sparse([1,2,3],\n",
    "           [1,ind,n], [1.,1.,1.], 3,n)\n",
    "\n",
    "R = Diagonal([1,1,1])\n",
    "yo = [1,-1,1]\n",
    "\n",
    "\n",
    "xf = zeros(n);"
   ]
  },
  {
   "cell_type": "markdown",
   "metadata": {
    "slideshow": {
     "slide_type": "slide"
    }
   },
   "source": [
    "* optimal interpolation"
   ]
  },
  {
   "cell_type": "code",
   "execution_count": 33,
   "metadata": {},
   "outputs": [
    {
     "ename": "UndefVarError",
     "evalue": "UndefVarError: H not defined",
     "output_type": "error",
     "traceback": [
      "UndefVarError: H not defined",
      "",
      "Stacktrace:",
      " [1] top-level scope at In[33]:1"
     ]
    }
   ],
   "source": [
    "xa = xf + Pf * (H' * ((H*Pf*H' + R) \\ (yo - H*xf)))\n",
    "\n",
    "xa = reshape(xa,size(x1))\n",
    "pcolor(xa)\n",
    "colorbar()"
   ]
  },
  {
   "cell_type": "markdown",
   "metadata": {
    "slideshow": {
     "slide_type": "slide"
    }
   },
   "source": [
    "\n",
    "# Parallel programming\n",
    "\n",
    "* start julia with\n",
    "  * `-p`: local machine\n",
    "  * `--machinefile`:  cluster\n",
    "* or use, e.g. `addprocs(4)` to use 4 workers\n"
   ]
  },
  {
   "cell_type": "markdown",
   "metadata": {
    "slideshow": {
     "slide_type": "slide"
    }
   },
   "source": [
    "## Lower-level constructs"
   ]
  },
  {
   "cell_type": "code",
   "execution_count": 34,
   "metadata": {},
   "outputs": [
    {
     "ename": "UndefVarError",
     "evalue": "UndefVarError: addprocs not defined",
     "output_type": "error",
     "traceback": [
      "UndefVarError: addprocs not defined",
      "",
      "Stacktrace:",
      " [1] top-level scope at In[34]:1"
     ]
    }
   ],
   "source": [
    "addprocs(4)\n",
    "\n",
    "# process ID\n",
    "@show myid()\n",
    "\n",
    "# number of all process\n",
    "@show nprocs()\n",
    "\n",
    "# id of all workers\n",
    "@show workers()\n",
    "\n",
    "# run myid() on process 4\n",
    "@show fetch(@spawnat 4 myid())"
   ]
  },
  {
   "cell_type": "code",
   "execution_count": 35,
   "metadata": {
    "slideshow": {
     "slide_type": "slide"
    }
   },
   "outputs": [
    {
     "ename": "LoadError",
     "evalue": "UndefVarError: @everywhere not defined",
     "output_type": "error",
     "traceback": [
      "UndefVarError: @everywhere not defined",
      ""
     ]
    }
   ],
   "source": [
    "@everywhere heavy_computation(x) =  x.^5;\n",
    "r = @spawn heavy_computation(2)\n",
    "fetch(r)\n",
    "\n",
    "r = @spawnat 2 heavy_computation(2)\n",
    "fetch(r)"
   ]
  },
  {
   "cell_type": "markdown",
   "metadata": {
    "slideshow": {
     "slide_type": "slide"
    }
   },
   "source": [
    "## Distributed arrays"
   ]
  },
  {
   "cell_type": "code",
   "execution_count": 36,
   "metadata": {},
   "outputs": [
    {
     "ename": "LoadError",
     "evalue": "UndefVarError: @everywhere not defined",
     "output_type": "error",
     "traceback": [
      "UndefVarError: @everywhere not defined",
      ""
     ]
    }
   ],
   "source": [
    "@everywhere using DistributedArrays\n",
    "\n",
    "y = distribute([1:10;])\n",
    "\n",
    "\n",
    "# get data from worker 2-5\n",
    "@show fetch(@spawnat 2 localpart(y))\n",
    "\n",
    "\n",
    "function some_complex_work(y::DArray)\n",
    "    return DArray(size(y),procs(y)) do I\n",
    "        @show I[1]        \n",
    "        return localpart(y).^2\n",
    "    end\n",
    "end\n",
    "\n",
    "res = some_complex_work(y)\n",
    "@show res"
   ]
  },
  {
   "cell_type": "markdown",
   "metadata": {
    "slideshow": {
     "slide_type": "slide"
    }
   },
   "source": [
    "* work with two distributed arrays"
   ]
  },
  {
   "cell_type": "code",
   "execution_count": 37,
   "metadata": {},
   "outputs": [
    {
     "ename": "UndefVarError",
     "evalue": "UndefVarError: DArray not defined",
     "output_type": "error",
     "traceback": [
      "UndefVarError: DArray not defined",
      "",
      "Stacktrace:",
      " [1] top-level scope at In[37]:1"
     ]
    }
   ],
   "source": [
    "function some_complex_work2(y::DArray, z::DArray)\n",
    "    return DArray(size(y),procs(y)) do I\n",
    "        @show I\n",
    "        localpart(y).^2 + localpart(z).^2\n",
    "    end\n",
    "end\n",
    "\n",
    "z = distribute(2*[1:10;])\n",
    "\n",
    "res = some_complex_work2(y,z)\n",
    "@show res"
   ]
  },
  {
   "cell_type": "code",
   "execution_count": 38,
   "metadata": {},
   "outputs": [
    {
     "ename": "UndefVarError",
     "evalue": "UndefVarError: DArray not defined",
     "output_type": "error",
     "traceback": [
      "UndefVarError: DArray not defined",
      "",
      "Stacktrace:",
      " [1] top-level scope at In[38]:1"
     ]
    }
   ],
   "source": [
    "function smoothing(y::DArray)\n",
    "    return DArray(size(y),procs(y)) do I\n",
    "        tmp = zeros(length(I[1])); \n",
    "        for i = I[1]\n",
    "            if i > 1 && i < length(y)\n",
    "                tmp[i - first(I[1]) + 1] = 0.1 * y[i-1] + 0.8 * y[i] + 0.1 * y[i+1]\n",
    "            else\n",
    "                tmp[i - first(I[1]) + 1] = y[i]\n",
    "            end\n",
    "        end\n",
    "        return tmp\n",
    "    end    \n",
    "end\n",
    "\n",
    "x = drandn(10)"
   ]
  },
  {
   "cell_type": "code",
   "execution_count": 39,
   "metadata": {},
   "outputs": [
    {
     "ename": "MethodError",
     "evalue": "MethodError: no method matching smoothing(::Array{Float64,2})",
     "output_type": "error",
     "traceback": [
      "MethodError: no method matching smoothing(::Array{Float64,2})",
      "",
      "Stacktrace:",
      " [1] top-level scope at In[39]:2"
     ]
    }
   ],
   "source": [
    "plot(x); \n",
    "xs = smoothing(x); plot(xs);\n",
    "xs = smoothing(xs); plot(xs);\n",
    "xs = smoothing(xs); plot(xs);\n",
    "xs = smoothing(xs); plot(xs);\n"
   ]
  },
  {
   "cell_type": "markdown",
   "metadata": {
    "slideshow": {
     "slide_type": "slide"
    }
   },
   "source": [
    "# Julia with SLURM (e.g. nic4,...)\n",
    "\n",
    "* Use the package [ClusterManager](https://github.com/JuliaParallel/ClusterManagers.jl) for parallel processing\n",
    "* Do not use the option `--machinefile` as it bypasses SLURM.\n",
    "* A full example would be (`submit_julia.sh`):\n",
    "\n",
    "```bash\n",
    "#!/bin/bash\n",
    "#SBATCH --job-name=julia\n",
    "#SBATCH --output=output-%N-%j.out\n",
    "#SBATCH --cpus-per-task=1\n",
    "\n",
    "export script=\"$1\"\n",
    "echo Julia script $script\n",
    "\n",
    "bt0=$(date +%s)\n",
    "\n",
    "julia <<EOF\n",
    "using ClusterManagers\n",
    "addprocs(SlurmManager($SLURM_NTASKS))\n",
    "\n",
    "# Test the connection\n",
    "hosts = []\n",
    "for i in workers()\n",
    "    host, pid = fetch(@spawnat i (gethostname(), getpid()))\n",
    "    push!(hosts, host)\n",
    "end\n",
    "\n",
    "@show hosts\n",
    "\n",
    "# Run the script\n",
    "include(\"$script\")\n",
    "\n",
    "# The Slurm resource allocation is released when all the workers have\n",
    "# exited\n",
    "for i in workers()\n",
    "    rmprocs(i)\n",
    "end\n",
    "EOF\n",
    "\n",
    "bt1=$(date +%s)\n",
    "\n",
    "awk  \" BEGIN { print \\\"Run time (hours): \\\",($bt1 - $bt0)/3600 } \"\n",
    "```\n",
    "\n",
    "* The script can be used as:\n",
    "\n",
    "```bash\n",
    "sbatch --ntasks=2 --time=20:00:00 --mem-per-cpu=3000 --job-name=myjob submit_julia.sh /path/to/julia/script.jl\n",
    "```"
   ]
  },
  {
   "cell_type": "markdown",
   "metadata": {
    "slideshow": {
     "slide_type": "slide"
    }
   },
   "source": [
    "## Other nice features of Julia\n",
    "\n",
    "* good document of the Julia language: http://docs.julialang.org/en/stable/\n",
    "* find documentation from the julia REPL"
   ]
  },
  {
   "cell_type": "code",
   "execution_count": 40,
   "metadata": {},
   "outputs": [
    {
     "name": "stdout",
     "output_type": "stream",
     "text": [
      "Statistics.cor\n"
     ]
    },
    {
     "name": "stderr",
     "output_type": "stream",
     "text": [
      "┌ Warning: Unable to search documentation of type PyPlot.LazyHelp\n",
      "└ @ REPL /buildworker/worker/package_linux64/build/usr/share/julia/stdlib/v1.0/REPL/src/docview.jl:507\n"
     ]
    }
   ],
   "source": [
    "apropos(\"Pearson\")"
   ]
  },
  {
   "cell_type": "code",
   "execution_count": 41,
   "metadata": {},
   "outputs": [
    {
     "name": "stdout",
     "output_type": "stream",
     "text": [
      "search: \u001b[0m\u001b[1mC\u001b[22m\u001b[0m\u001b[1mo\u001b[22m\u001b[0m\u001b[1mr\u001b[22me a\u001b[0m\u001b[1mc\u001b[22m\u001b[0m\u001b[1mo\u001b[22m\u001b[0m\u001b[1mr\u001b[22mr Ve\u001b[0m\u001b[1mc\u001b[22m\u001b[0m\u001b[1mO\u001b[22m\u001b[0m\u001b[1mr\u001b[22mMat Ve\u001b[0m\u001b[1mc\u001b[22mt\u001b[0m\u001b[1mo\u001b[22m\u001b[0m\u001b[1mr\u001b[22m fa\u001b[0m\u001b[1mc\u001b[22mt\u001b[0m\u001b[1mo\u001b[22m\u001b[0m\u001b[1mr\u001b[22mial DenseVe\u001b[0m\u001b[1mc\u001b[22m\u001b[0m\u001b[1mO\u001b[22m\u001b[0m\u001b[1mr\u001b[22mMat \u001b[0m\u001b[1mc\u001b[22m\u001b[0m\u001b[1mo\u001b[22mlo\u001b[0m\u001b[1mr\u001b[22ms \u001b[0m\u001b[1mc\u001b[22m\u001b[0m\u001b[1mo\u001b[22mhe\u001b[0m\u001b[1mr\u001b[22me\n",
      "\n",
      "Couldn't find \u001b[36mcor\u001b[39m\n",
      "Perhaps you meant cos, cot, xor, for, Core, acorr, cool, conj, copy or cosc\n"
     ]
    },
    {
     "data": {
      "text/latex": [
       "No documentation found.\n",
       "\n",
       "Binding \\texttt{cor} does not exist.\n",
       "\n"
      ],
      "text/markdown": [
       "No documentation found.\n",
       "\n",
       "Binding `cor` does not exist.\n"
      ],
      "text/plain": [
       "  No documentation found.\n",
       "\n",
       "  Binding \u001b[36mcor\u001b[39m does not exist."
      ]
     },
     "execution_count": 41,
     "metadata": {},
     "output_type": "execute_result"
    }
   ],
   "source": [
    "?cor"
   ]
  },
  {
   "cell_type": "markdown",
   "metadata": {
    "slideshow": {
     "slide_type": "slide"
    }
   },
   "source": [
    "* get all field names of a type (introspection)"
   ]
  },
  {
   "cell_type": "code",
   "execution_count": 42,
   "metadata": {},
   "outputs": [
    {
     "ename": "UndefVarError",
     "evalue": "UndefVarError: speye not defined",
     "output_type": "error",
     "traceback": [
      "UndefVarError: speye not defined",
      "",
      "Stacktrace:",
      " [1] top-level scope at In[42]:1"
     ]
    }
   ],
   "source": [
    "S = speye(2);\n",
    "fieldnames(S)"
   ]
  },
  {
   "cell_type": "markdown",
   "metadata": {},
   "source": [
    "* Most of julia (the programming environement) is written in julia (the language). It is easy to find out where functions or operators are defined:"
   ]
  },
  {
   "cell_type": "code",
   "execution_count": 43,
   "metadata": {},
   "outputs": [
    {
     "ename": "UndefVarError",
     "evalue": "UndefVarError: speye not defined",
     "output_type": "error",
     "traceback": [
      "UndefVarError: speye not defined",
      "",
      "Stacktrace:",
      " [1] top-level scope at In[43]:1"
     ]
    }
   ],
   "source": [
    "@which speye(2)"
   ]
  },
  {
   "cell_type": "markdown",
   "metadata": {},
   "source": [
    "* List all functions with a given name (but operating on a different type)"
   ]
  },
  {
   "cell_type": "code",
   "execution_count": 44,
   "metadata": {
    "slideshow": {
     "slide_type": "slide"
    }
   },
   "outputs": [
    {
     "ename": "UndefVarError",
     "evalue": "UndefVarError: diag not defined",
     "output_type": "error",
     "traceback": [
      "UndefVarError: diag not defined",
      "",
      "Stacktrace:",
      " [1] top-level scope at In[44]:1"
     ]
    }
   ],
   "source": [
    "methods(diag)"
   ]
  },
  {
   "cell_type": "markdown",
   "metadata": {
    "collapsed": true,
    "slideshow": {
     "slide_type": "slide"
    }
   },
   "source": [
    "* integrated package manager\n",
    "\n",
    "```julia\n",
    "Pkg.add(\"DataAssim\")\n",
    "```\n",
    "\n",
    "* Have a look at: http://pkg.julialang.org/"
   ]
  },
  {
   "cell_type": "markdown",
   "metadata": {
    "slideshow": {
     "slide_type": "slide"
    }
   },
   "source": [
    "* Easy to write documentation in markdown\n",
    "* Support for jupyter\n",
    "* Easy to use with github, travis-ci, codecov.io\n",
    "* Support of macros (function that can transform your code)\n",
    "* Numerous constructs to avoid copying data\n",
    "  * pass argument by reference instead of by value\n",
    "  * `reshape` gives a different view on the data\n",
    "  * `SubArray` ` \n"
   ]
  },
  {
   "cell_type": "code",
   "execution_count": 45,
   "metadata": {},
   "outputs": [
    {
     "name": "stdout",
     "output_type": "stream",
     "text": [
      "A = [1 2 3; 4 5 6]\n",
      "b = [1, 4]\n",
      "A = [100 2 3; 4 5 6]\n"
     ]
    },
    {
     "data": {
      "text/plain": [
       "2×3 Array{Int64,2}:\n",
       " 100  2  3\n",
       "   4  5  6"
      ]
     },
     "execution_count": 45,
     "metadata": {},
     "output_type": "execute_result"
    }
   ],
   "source": [
    "A = [1 2 3; 4 5 6];\n",
    "@show A\n",
    "b = view(A,:,1)\n",
    "@show b\n",
    "b[1] = 100\n",
    "@show A"
   ]
  },
  {
   "cell_type": "markdown",
   "metadata": {
    "slideshow": {
     "slide_type": "slide"
    }
   },
   "source": [
    "* list comprehension"
   ]
  },
  {
   "cell_type": "code",
   "execution_count": 46,
   "metadata": {},
   "outputs": [
    {
     "data": {
      "text/plain": [
       "6-element Array{Float64,1}:\n",
       " 0.0                   \n",
       " 0.5877852522924731    \n",
       " 0.9510565162951535    \n",
       " 0.9510565162951536    \n",
       " 0.5877852522924732    \n",
       " 1.2246467991473532e-16"
      ]
     },
     "execution_count": 46,
     "metadata": {},
     "output_type": "execute_result"
    }
   ],
   "source": [
    "A = [sin(π * x) for x = 0:0.2:1]"
   ]
  },
  {
   "cell_type": "code",
   "execution_count": 47,
   "metadata": {},
   "outputs": [
    {
     "data": {
      "text/plain": [
       "6×6 Array{Float64,2}:\n",
       " 0.0  0.0          0.0          0.0          0.0          0.0        \n",
       " 0.0  0.345492     0.559017     0.559017     0.345492     7.19829e-17\n",
       " 0.0  0.559017     0.904508     0.904508     0.559017     1.16471e-16\n",
       " 0.0  0.559017     0.904508     0.904508     0.559017     1.16471e-16\n",
       " 0.0  0.345492     0.559017     0.559017     0.345492     7.19829e-17\n",
       " 0.0  7.19829e-17  1.16471e-16  1.16471e-16  7.19829e-17  1.49976e-32"
      ]
     },
     "execution_count": 47,
     "metadata": {},
     "output_type": "execute_result"
    }
   ],
   "source": [
    "A = [sin(π * x) * sin(π * y) for x = 0:0.2:1, y = 0:0.2:1]"
   ]
  },
  {
   "cell_type": "markdown",
   "metadata": {},
   "source": [
    "* do you like shell pipes? (in DIVA 1081 shell pipes for 154 scripts)"
   ]
  },
  {
   "cell_type": "code",
   "execution_count": 48,
   "metadata": {},
   "outputs": [
    {
     "data": {
      "text/plain": [
       "54"
      ]
     },
     "execution_count": 48,
     "metadata": {},
     "output_type": "execute_result"
    },
    {
     "name": "stderr",
     "output_type": "stream",
     "text": [
      "\u001b[91mArgumentError: Package JuliaInterpreter not found in current path:\u001b[39m\n",
      "\u001b[91m- Run `import Pkg; Pkg.add(\"JuliaInterpreter\")` to install the JuliaInterpreter package.\u001b[39m\n",
      "\n",
      "Stacktrace:\n",
      " [1] \u001b[1mrequire\u001b[22m\u001b[1m(\u001b[22m::Module, ::Symbol\u001b[1m)\u001b[22m at \u001b[1m./loading.jl:823\u001b[22m\n",
      " [2] \u001b[1meval\u001b[22m at \u001b[1m./boot.jl:319\u001b[22m [inlined]\n",
      " [3] \u001b[1mprepare_thunk\u001b[22m\u001b[1m(\u001b[22m::Module, ::Expr, ::Bool\u001b[1m)\u001b[22m at \u001b[1m/home/abarth/.julia/packages/JuliaInterpreter/Or807/src/construct.jl:355\u001b[22m\n",
      " [4] \u001b[1mprepare_thunk\u001b[22m\u001b[1m(\u001b[22m::Module, ::Expr, ::Bool\u001b[1m)\u001b[22m at \u001b[1m/home/abarth/.julia/packages/JuliaInterpreter/Or807/src/construct.jl:361\u001b[22m\n",
      " [5] \u001b[1mprepare_thunk\u001b[22m at \u001b[1m/home/abarth/.julia/packages/JuliaInterpreter/Or807/src/construct.jl:347\u001b[22m [inlined]\n",
      " [6] \u001b[1m#methods_by_execution!#9\u001b[22m\u001b[1m(\u001b[22m::Base.Iterators.Pairs{Symbol,Bool,Tuple{Symbol},NamedTuple{(:define,),Tuple{Bool}}}, ::Function, ::Any, ::Revise.CodeTrackingMethodInfo, ::Dict{Module,Array{Expr,1}}, ::Module, ::Expr\u001b[1m)\u001b[22m at \u001b[1m/home/abarth/.julia/packages/Revise/agmgx/src/lowered.jl:47\u001b[22m\n",
      " [7] \u001b[1m#methods_by_execution!\u001b[22m at \u001b[1m./none:0\u001b[22m [inlined]\n",
      " [8] \u001b[1m#eval_with_signatures#59\u001b[22m at \u001b[1m/home/abarth/.julia/packages/Revise/agmgx/src/Revise.jl:344\u001b[22m [inlined]\n",
      " [9] \u001b[1m#eval_with_signatures\u001b[22m at \u001b[1m./none:0\u001b[22m [inlined]\n",
      " [10] \u001b[1m#instantiate_sigs!#60\u001b[22m\u001b[1m(\u001b[22m::Bool, ::Base.Iterators.Pairs{Union{},Union{},Tuple{},NamedTuple{(),Tuple{}}}, ::Function, ::OrderedCollections.OrderedDict{Module,OrderedCollections.OrderedDict{Revise.RelocatableExpr,Union{Nothing, Array{Any,1}}}}\u001b[1m)\u001b[22m at \u001b[1m/home/abarth/.julia/packages/Revise/agmgx/src/Revise.jl:352\u001b[22m\n",
      " [11] \u001b[1minstantiate_sigs!\u001b[22m at \u001b[1m/home/abarth/.julia/packages/Revise/agmgx/src/Revise.jl:349\u001b[22m [inlined]\n",
      " [12] \u001b[1mmaybe_parse_from_cache!\u001b[22m\u001b[1m(\u001b[22m::Revise.PkgData, ::String\u001b[1m)\u001b[22m at \u001b[1m/home/abarth/.julia/packages/Revise/agmgx/src/pkgs.jl:224\u001b[22m\n",
      " [13] \u001b[1m(::getfield(Revise, Symbol(\"##26#27\")){String})\u001b[22m\u001b[1m(\u001b[22m\u001b[1m)\u001b[22m at \u001b[1m/home/abarth/.julia/packages/Revise/agmgx/src/pkgs.jl:370\u001b[22m\n",
      " [14] \u001b[1mwith_logstate\u001b[22m\u001b[1m(\u001b[22m::getfield(Revise, Symbol(\"##26#27\")){String}, ::Base.CoreLogging.LogState\u001b[1m)\u001b[22m at \u001b[1m./logging.jl:395\u001b[22m\n",
      " [15] \u001b[1mwith_logger\u001b[22m at \u001b[1m./logging.jl:491\u001b[22m [inlined]\n",
      " [16] \u001b[1mwatch_manifest\u001b[22m\u001b[1m(\u001b[22m::String\u001b[1m)\u001b[22m at \u001b[1m/home/abarth/.julia/packages/Revise/agmgx/src/pkgs.jl:349\u001b[22m\n",
      " [17] \u001b[1m(::Revise.Rescheduler{typeof(Revise.watch_manifest),Tuple{String}})\u001b[22m\u001b[1m(\u001b[22m\u001b[1m)\u001b[22m at \u001b[1m/home/abarth/.julia/packages/Revise/agmgx/src/types.jl:235\u001b[22m\n",
      "while evaluating\n",
      "using JuliaInterpreter\n",
      "in module Main.LoweredCodeUtils\n",
      "\u001b[91mArgumentError: Package JuliaInterpreter not found in current path:\u001b[39m\n",
      "\u001b[91m- Run `import Pkg; Pkg.add(\"JuliaInterpreter\")` to install the JuliaInterpreter package.\u001b[39m\n",
      "\n",
      "Stacktrace:\n",
      " [1] \u001b[1mrequire\u001b[22m\u001b[1m(\u001b[22m::Module, ::Symbol\u001b[1m)\u001b[22m at \u001b[1m./loading.jl:823\u001b[22m\n",
      " [2] \u001b[1meval\u001b[22m at \u001b[1m./boot.jl:319\u001b[22m [inlined]\n",
      " [3] \u001b[1mprepare_thunk\u001b[22m\u001b[1m(\u001b[22m::Module, ::Expr, ::Bool\u001b[1m)\u001b[22m at \u001b[1m/home/abarth/.julia/packages/JuliaInterpreter/Or807/src/construct.jl:355\u001b[22m\n",
      " [4] \u001b[1mprepare_thunk\u001b[22m\u001b[1m(\u001b[22m::Module, ::Expr, ::Bool\u001b[1m)\u001b[22m at \u001b[1m/home/abarth/.julia/packages/JuliaInterpreter/Or807/src/construct.jl:361\u001b[22m\n",
      " [5] \u001b[1mprepare_thunk\u001b[22m at \u001b[1m/home/abarth/.julia/packages/JuliaInterpreter/Or807/src/construct.jl:347\u001b[22m [inlined]\n",
      " [6] \u001b[1m#methods_by_execution!#9\u001b[22m\u001b[1m(\u001b[22m::Base.Iterators.Pairs{Symbol,Bool,Tuple{Symbol},NamedTuple{(:define,),Tuple{Bool}}}, ::Function, ::Any, ::Revise.CodeTrackingMethodInfo, ::Dict{Module,Array{Expr,1}}, ::Module, ::Expr\u001b[1m)\u001b[22m at \u001b[1m/home/abarth/.julia/packages/Revise/agmgx/src/lowered.jl:47\u001b[22m\n",
      " [7] \u001b[1m#methods_by_execution!\u001b[22m at \u001b[1m./none:0\u001b[22m [inlined]\n",
      " [8] \u001b[1m#eval_with_signatures#59\u001b[22m at \u001b[1m/home/abarth/.julia/packages/Revise/agmgx/src/Revise.jl:344\u001b[22m [inlined]\n",
      " [9] \u001b[1m#eval_with_signatures\u001b[22m at \u001b[1m./none:0\u001b[22m [inlined]\n",
      " [10] \u001b[1m#instantiate_sigs!#60\u001b[22m\u001b[1m(\u001b[22m::Bool, ::Base.Iterators.Pairs{Union{},Union{},Tuple{},NamedTuple{(),Tuple{}}}, ::Function, ::OrderedCollections.OrderedDict{Module,OrderedCollections.OrderedDict{Revise.RelocatableExpr,Union{Nothing, Array{Any,1}}}}\u001b[1m)\u001b[22m at \u001b[1m/home/abarth/.julia/packages/Revise/agmgx/src/Revise.jl:352\u001b[22m\n",
      " [11] \u001b[1minstantiate_sigs!\u001b[22m at \u001b[1m/home/abarth/.julia/packages/Revise/agmgx/src/Revise.jl:349\u001b[22m [inlined]\n",
      " [12] \u001b[1mmaybe_parse_from_cache!\u001b[22m\u001b[1m(\u001b[22m::Revise.PkgData, ::String\u001b[1m)\u001b[22m at \u001b[1m/home/abarth/.julia/packages/Revise/agmgx/src/pkgs.jl:224\u001b[22m\n",
      " [13] \u001b[1m(::getfield(Revise, Symbol(\"##26#27\")){String})\u001b[22m\u001b[1m(\u001b[22m\u001b[1m)\u001b[22m at \u001b[1m/home/abarth/.julia/packages/Revise/agmgx/src/pkgs.jl:370\u001b[22m\n",
      " [14] \u001b[1mwith_logstate\u001b[22m\u001b[1m(\u001b[22m::getfield(Revise, Symbol(\"##26#27\")){String}, ::Base.CoreLogging.LogState\u001b[1m)\u001b[22m at \u001b[1m./logging.jl:395\u001b[22m\n",
      " [15] \u001b[1mwith_logger\u001b[22m at \u001b[1m./logging.jl:491\u001b[22m [inlined]\n",
      " [16] \u001b[1mwatch_manifest\u001b[22m\u001b[1m(\u001b[22m::String\u001b[1m)\u001b[22m at \u001b[1m/home/abarth/.julia/packages/Revise/agmgx/src/pkgs.jl:349\u001b[22m\n",
      " [17] \u001b[1m(::Revise.Rescheduler{typeof(Revise.watch_manifest),Tuple{String}})\u001b[22m\u001b[1m(\u001b[22m\u001b[1m)\u001b[22m at \u001b[1m/home/abarth/.julia/packages/Revise/agmgx/src/types.jl:235\u001b[22m\n",
      "while evaluating\n",
      "using JuliaInterpreter: SSAValue, SlotNumber, Frame\n",
      "in module Main.LoweredCodeUtils\n",
      "\u001b[91mArgumentError: Package JuliaInterpreter not found in current path:\u001b[39m\n",
      "\u001b[91m- Run `import Pkg; Pkg.add(\"JuliaInterpreter\")` to install the JuliaInterpreter package.\u001b[39m\n",
      "\n",
      "Stacktrace:\n",
      " [1] \u001b[1mrequire\u001b[22m\u001b[1m(\u001b[22m::Module, ::Symbol\u001b[1m)\u001b[22m at \u001b[1m./loading.jl:823\u001b[22m\n",
      " [2] \u001b[1meval\u001b[22m at \u001b[1m./boot.jl:319\u001b[22m [inlined]\n",
      " [3] \u001b[1mprepare_thunk\u001b[22m\u001b[1m(\u001b[22m::Module, ::Expr, ::Bool\u001b[1m)\u001b[22m at \u001b[1m/home/abarth/.julia/packages/JuliaInterpreter/Or807/src/construct.jl:355\u001b[22m\n",
      " [4] \u001b[1mprepare_thunk\u001b[22m\u001b[1m(\u001b[22m::Module, ::Expr, ::Bool\u001b[1m)\u001b[22m at \u001b[1m/home/abarth/.julia/packages/JuliaInterpreter/Or807/src/construct.jl:361\u001b[22m\n",
      " [5] \u001b[1mprepare_thunk\u001b[22m at \u001b[1m/home/abarth/.julia/packages/JuliaInterpreter/Or807/src/construct.jl:347\u001b[22m [inlined]\n",
      " [6] \u001b[1m#methods_by_execution!#9\u001b[22m\u001b[1m(\u001b[22m::Base.Iterators.Pairs{Symbol,Bool,Tuple{Symbol},NamedTuple{(:define,),Tuple{Bool}}}, ::Function, ::Any, ::Revise.CodeTrackingMethodInfo, ::Dict{Module,Array{Expr,1}}, ::Module, ::Expr\u001b[1m)\u001b[22m at \u001b[1m/home/abarth/.julia/packages/Revise/agmgx/src/lowered.jl:47\u001b[22m\n",
      " [7] \u001b[1m#methods_by_execution!\u001b[22m at \u001b[1m./none:0\u001b[22m [inlined]\n",
      " [8] \u001b[1m#eval_with_signatures#59\u001b[22m at \u001b[1m/home/abarth/.julia/packages/Revise/agmgx/src/Revise.jl:344\u001b[22m [inlined]\n",
      " [9] \u001b[1m#eval_with_signatures\u001b[22m at \u001b[1m./none:0\u001b[22m [inlined]\n",
      " [10] \u001b[1m#instantiate_sigs!#60\u001b[22m\u001b[1m(\u001b[22m::Bool, ::Base.Iterators.Pairs{Union{},Union{},Tuple{},NamedTuple{(),Tuple{}}}, ::Function, ::OrderedCollections.OrderedDict{Module,OrderedCollections.OrderedDict{Revise.RelocatableExpr,Union{Nothing, Array{Any,1}}}}\u001b[1m)\u001b[22m at \u001b[1m/home/abarth/.julia/packages/Revise/agmgx/src/Revise.jl:352\u001b[22m\n",
      " [11] \u001b[1minstantiate_sigs!\u001b[22m at \u001b[1m/home/abarth/.julia/packages/Revise/agmgx/src/Revise.jl:349\u001b[22m [inlined]\n",
      " [12] \u001b[1mmaybe_parse_from_cache!\u001b[22m\u001b[1m(\u001b[22m::Revise.PkgData, ::String\u001b[1m)\u001b[22m at \u001b[1m/home/abarth/.julia/packages/Revise/agmgx/src/pkgs.jl:224\u001b[22m\n",
      " [13] \u001b[1m(::getfield(Revise, Symbol(\"##26#27\")){String})\u001b[22m\u001b[1m(\u001b[22m\u001b[1m)\u001b[22m at \u001b[1m/home/abarth/.julia/packages/Revise/agmgx/src/pkgs.jl:370\u001b[22m\n",
      " [14] \u001b[1mwith_logstate\u001b[22m\u001b[1m(\u001b[22m::getfield(Revise, Symbol(\"##26#27\")){String}, ::Base.CoreLogging.LogState\u001b[1m)\u001b[22m at \u001b[1m./logging.jl:395\u001b[22m\n",
      " [15] \u001b[1mwith_logger\u001b[22m at \u001b[1m./logging.jl:491\u001b[22m [inlined]\n",
      " [16] \u001b[1mwatch_manifest\u001b[22m\u001b[1m(\u001b[22m::String\u001b[1m)\u001b[22m at \u001b[1m/home/abarth/.julia/packages/Revise/agmgx/src/pkgs.jl:349\u001b[22m\n",
      " [17] \u001b[1m(::Revise.Rescheduler{typeof(Revise.watch_manifest),Tuple{String}})\u001b[22m\u001b[1m(\u001b[22m\u001b[1m)\u001b[22m at \u001b[1m/home/abarth/.julia/packages/Revise/agmgx/src/types.jl:235\u001b[22m\n",
      "while evaluating\n",
      "using JuliaInterpreter: @lookup, moduleof, pc_expr, step_expr!, is_global_ref, whichtt, next_until!, finish_and_return!, nstatements, codelocation\n",
      "in module Main.LoweredCodeUtils\n"
     ]
    },
    {
     "name": "stderr",
     "output_type": "stream",
     "text": [
      "\u001b[91mUndefVarError: Frame not defined\u001b[39m\n",
      "Stacktrace:\n",
      " [1] \u001b[1mmacro expansion\u001b[22m at \u001b[1m/home/abarth/.julia/packages/JuliaInterpreter/Or807/src/interpret.jl:64\u001b[22m [inlined]\n",
      " [2] \u001b[1mgetargs\u001b[22m\u001b[1m(\u001b[22m::Array{Any,1}, ::JuliaInterpreter.Frame\u001b[1m)\u001b[22m at \u001b[1m/home/abarth/.julia/packages/JuliaInterpreter/Or807/src/builtins.jl:8\u001b[22m\n",
      " [3] \u001b[1mmaybe_evaluate_builtin\u001b[22m\u001b[1m(\u001b[22m::JuliaInterpreter.Frame, ::Expr, ::Bool\u001b[1m)\u001b[22m at \u001b[1m/home/abarth/.julia/packages/JuliaInterpreter/Or807/src/builtins.jl:136\u001b[22m\n",
      " [4] \u001b[1m#evaluate_call_recurse!#37\u001b[22m\u001b[1m(\u001b[22m::Bool, ::Function, ::Any, ::JuliaInterpreter.Frame, ::Expr\u001b[1m)\u001b[22m at \u001b[1m/home/abarth/.julia/packages/JuliaInterpreter/Or807/src/interpret.jl:209\u001b[22m\n",
      " [5] \u001b[1mevaluate_call_recurse!\u001b[22m at \u001b[1m/home/abarth/.julia/packages/JuliaInterpreter/Or807/src/interpret.jl:206\u001b[22m [inlined]\n",
      " [6] \u001b[1meval_rhs\u001b[22m\u001b[1m(\u001b[22m::Any, ::JuliaInterpreter.Frame, ::Expr\u001b[1m)\u001b[22m at \u001b[1m/home/abarth/.julia/packages/JuliaInterpreter/Or807/src/interpret.jl:381\u001b[22m\n",
      " [7] \u001b[1mstep_expr!\u001b[22m\u001b[1m(\u001b[22m::Any, ::JuliaInterpreter.Frame, ::Any, ::Bool\u001b[1m)\u001b[22m at \u001b[1m/home/abarth/.julia/packages/JuliaInterpreter/Or807/src/interpret.jl:509\u001b[22m\n",
      " [8] \u001b[1msignature\u001b[22m\u001b[1m(\u001b[22m::Any, ::JuliaInterpreter.Frame, ::Any, ::Int64\u001b[1m)\u001b[22m at \u001b[1m/home/abarth/.julia/packages/LoweredCodeUtils/6EZqd/src/LoweredCodeUtils.jl:146\u001b[22m\n",
      " [9] \u001b[1m#methoddef!#3\u001b[22m\u001b[1m(\u001b[22m::Bool, ::Function, ::Any, ::Array{Any,1}, ::JuliaInterpreter.Frame, ::Any, ::Int64\u001b[1m)\u001b[22m at \u001b[1m/home/abarth/.julia/packages/LoweredCodeUtils/6EZqd/src/LoweredCodeUtils.jl:420\u001b[22m\n",
      " [10] \u001b[1m(::getfield(LoweredCodeUtils, Symbol(\"#kw##methoddef!\")))\u001b[22m\u001b[1m(\u001b[22m::NamedTuple{(:define,),Tuple{Bool}}, ::typeof(LoweredCodeUtils.methoddef!), ::Function, ::Array{Any,1}, ::JuliaInterpreter.Frame, ::Expr, ::Int64\u001b[1m)\u001b[22m at \u001b[1m./none:0\u001b[22m\n",
      " [11] \u001b[1m#methods_by_execution!#14\u001b[22m\u001b[1m(\u001b[22m::Bool, ::Bool, ::Function, ::Any, ::Revise.CodeTrackingMethodInfo, ::Dict{Module,Array{Expr,1}}, ::JuliaInterpreter.Frame\u001b[1m)\u001b[22m at \u001b[1m/home/abarth/.julia/packages/Revise/agmgx/src/lowered.jl:81\u001b[22m\n",
      " [12] \u001b[1m#methods_by_execution!\u001b[22m at \u001b[1m./none:0\u001b[22m [inlined]\n",
      " [13] \u001b[1m#methods_by_execution!#9\u001b[22m\u001b[1m(\u001b[22m::Base.Iterators.Pairs{Symbol,Bool,Tuple{Symbol},NamedTuple{(:define,),Tuple{Bool}}}, ::Function, ::Any, ::Revise.CodeTrackingMethodInfo, ::Dict{Module,Array{Expr,1}}, ::Module, ::Expr\u001b[1m)\u001b[22m at \u001b[1m/home/abarth/.julia/packages/Revise/agmgx/src/lowered.jl:49\u001b[22m\n",
      " [14] \u001b[1m#methods_by_execution!\u001b[22m at \u001b[1m./none:0\u001b[22m [inlined]\n",
      " [15] \u001b[1m#eval_with_signatures#59\u001b[22m at \u001b[1m/home/abarth/.julia/packages/Revise/agmgx/src/Revise.jl:344\u001b[22m [inlined]\n",
      " [16] \u001b[1m#eval_with_signatures\u001b[22m at \u001b[1m./none:0\u001b[22m [inlined]\n",
      " [17] \u001b[1m#instantiate_sigs!#60\u001b[22m\u001b[1m(\u001b[22m::Bool, ::Base.Iterators.Pairs{Union{},Union{},Tuple{},NamedTuple{(),Tuple{}}}, ::Function, ::OrderedCollections.OrderedDict{Module,OrderedCollections.OrderedDict{Revise.RelocatableExpr,Union{Nothing, Array{Any,1}}}}\u001b[1m)\u001b[22m at \u001b[1m/home/abarth/.julia/packages/Revise/agmgx/src/Revise.jl:352\u001b[22m\n",
      " [18] \u001b[1minstantiate_sigs!\u001b[22m at \u001b[1m/home/abarth/.julia/packages/Revise/agmgx/src/Revise.jl:349\u001b[22m [inlined]\n",
      " [19] \u001b[1mmaybe_parse_from_cache!\u001b[22m\u001b[1m(\u001b[22m::Revise.PkgData, ::String\u001b[1m)\u001b[22m at \u001b[1m/home/abarth/.julia/packages/Revise/agmgx/src/pkgs.jl:224\u001b[22m\n",
      " [20] \u001b[1m(::getfield(Revise, Symbol(\"##26#27\")){String})\u001b[22m\u001b[1m(\u001b[22m\u001b[1m)\u001b[22m at \u001b[1m/home/abarth/.julia/packages/Revise/agmgx/src/pkgs.jl:370\u001b[22m\n",
      " [21] \u001b[1mwith_logstate\u001b[22m\u001b[1m(\u001b[22m::getfield(Revise, Symbol(\"##26#27\")){String}, ::Base.CoreLogging.LogState\u001b[1m)\u001b[22m at \u001b[1m./logging.jl:395\u001b[22m\n",
      " [22] \u001b[1mwith_logger\u001b[22m at \u001b[1m./logging.jl:491\u001b[22m [inlined]\n",
      " [23] \u001b[1mwatch_manifest\u001b[22m\u001b[1m(\u001b[22m::String\u001b[1m)\u001b[22m at \u001b[1m/home/abarth/.julia/packages/Revise/agmgx/src/pkgs.jl:349\u001b[22m\n",
      " [24] \u001b[1m(::Revise.Rescheduler{typeof(Revise.watch_manifest),Tuple{String}})\u001b[22m\u001b[1m(\u001b[22m\u001b[1m)\u001b[22m at \u001b[1m/home/abarth/.julia/packages/Revise/agmgx/src/types.jl:235\u001b[22m\n",
      "while evaluating\n",
      "ismethod(frame::Frame) = begin\n",
      "        #= /home/abarth/.julia/packages/LoweredCodeUtils/6EZqd/src/LoweredCodeUtils.jl:40 =#\n",
      "        ismethod(pc_expr(frame))\n",
      "    end\n",
      "in module Main.LoweredCodeUtils\n",
      "LoadError: \u001b[91mUndefVarError: @lookup not defined\u001b[39m\n",
      "Stacktrace:\n",
      " [1] top-level scope\n",
      " [2] \u001b[1mlower\u001b[22m at \u001b[1m./meta.jl:68\u001b[22m [inlined]\n",
      " [3] \u001b[1mprepare_thunk\u001b[22m\u001b[1m(\u001b[22m::Module, ::Expr, ::Bool\u001b[1m)\u001b[22m at \u001b[1m/home/abarth/.julia/packages/JuliaInterpreter/Or807/src/construct.jl:360\u001b[22m\n",
      " [4] \u001b[1mprepare_thunk\u001b[22m at \u001b[1m/home/abarth/.julia/packages/JuliaInterpreter/Or807/src/construct.jl:347\u001b[22m [inlined]\n",
      " [5] \u001b[1m#methods_by_execution!#9\u001b[22m\u001b[1m(\u001b[22m::Base.Iterators.Pairs{Symbol,Bool,Tuple{Symbol},NamedTuple{(:define,),Tuple{Bool}}}, ::Function, ::Any, ::Revise.CodeTrackingMethodInfo, ::Dict{Module,Array{Expr,1}}, ::Module, ::Expr\u001b[1m)\u001b[22m at \u001b[1m/home/abarth/.julia/packages/Revise/agmgx/src/lowered.jl:47\u001b[22m\n",
      " [6] \u001b[1m#methods_by_execution!\u001b[22m at \u001b[1m./none:0\u001b[22m [inlined]\n",
      " [7] \u001b[1m#eval_with_signatures#59\u001b[22m at \u001b[1m/home/abarth/.julia/packages/Revise/agmgx/src/Revise.jl:344\u001b[22m [inlined]\n",
      " [8] \u001b[1m#eval_with_signatures\u001b[22m at \u001b[1m./none:0\u001b[22m [inlined]\n",
      " [9] \u001b[1m#instantiate_sigs!#60\u001b[22m\u001b[1m(\u001b[22m::Bool, ::Base.Iterators.Pairs{Union{},Union{},Tuple{},NamedTuple{(),Tuple{}}}, ::Function, ::OrderedCollections.OrderedDict{Module,OrderedCollections.OrderedDict{Revise.RelocatableExpr,Union{Nothing, Array{Any,1}}}}\u001b[1m)\u001b[22m at \u001b[1m/home/abarth/.julia/packages/Revise/agmgx/src/Revise.jl:352\u001b[22m\n",
      " [10] \u001b[1minstantiate_sigs!\u001b[22m at \u001b[1m/home/abarth/.julia/packages/Revise/agmgx/src/Revise.jl:349\u001b[22m [inlined]\n",
      " [11] \u001b[1mmaybe_parse_from_cache!\u001b[22m\u001b[1m(\u001b[22m::Revise.PkgData, ::String\u001b[1m)\u001b[22m at \u001b[1m/home/abarth/.julia/packages/Revise/agmgx/src/pkgs.jl:224\u001b[22m\n",
      " [12] \u001b[1m(::getfield(Revise, Symbol(\"##26#27\")){String})\u001b[22m\u001b[1m(\u001b[22m\u001b[1m)\u001b[22m at \u001b[1m/home/abarth/.julia/packages/Revise/agmgx/src/pkgs.jl:370\u001b[22m\n",
      " [13] \u001b[1mwith_logstate\u001b[22m\u001b[1m(\u001b[22m::getfield(Revise, Symbol(\"##26#27\")){String}, ::Base.CoreLogging.LogState\u001b[1m)\u001b[22m at \u001b[1m./logging.jl:395\u001b[22m\n",
      " [14] \u001b[1mwith_logger\u001b[22m at \u001b[1m./logging.jl:491\u001b[22m [inlined]\n",
      " [15] \u001b[1mwatch_manifest\u001b[22m\u001b[1m(\u001b[22m::String\u001b[1m)\u001b[22m at \u001b[1m/home/abarth/.julia/packages/Revise/agmgx/src/pkgs.jl:349\u001b[22m\n",
      " [16] \u001b[1m(::Revise.Rescheduler{typeof(Revise.watch_manifest),Tuple{String}})\u001b[22m\u001b[1m(\u001b[22m\u001b[1m)\u001b[22m at \u001b[1m/home/abarth/.julia/packages/Revise/agmgx/src/types.jl:235\u001b[22m\n",
      "in expression starting at /home/abarth/.julia/packages/LoweredCodeUtils/6EZqd/src/LoweredCodeUtils.jl:151\n",
      "while evaluating\n",
      "function signature(#= /home/abarth/.julia/packages/LoweredCodeUtils/6EZqd/src/LoweredCodeUtils.jl:135 =# @nospecialize(recurse), frame::Frame, #= /home/abarth/.julia/packages/LoweredCodeUtils/6EZqd/src/LoweredCodeUtils.jl:135 =# @nospecialize(stmt), pc)\n",
      "    #= /home/abarth/.julia/packages/LoweredCodeUtils/6EZqd/src/LoweredCodeUtils.jl:136 =#\n",
      "    mod = moduleof(frame)\n",
      "    #= /home/abarth/.julia/packages/LoweredCodeUtils/6EZqd/src/LoweredCodeUtils.jl:137 =#\n",
      "    lastpc = (frame.pc = pc)\n",
      "    #= /home/abarth/.julia/packages/LoweredCodeUtils/6EZqd/src/LoweredCodeUtils.jl:138 =#\n",
      "    while !(isexpr(stmt, :method, 3))\n",
      "        #= /home/abarth/.julia/packages/LoweredCodeUtils/6EZqd/src/LoweredCodeUtils.jl:139 =#\n",
      "        if isexpr(stmt, :thunk) && isanonymous_typedef(stmt.args[1])\n",
      "            #= /home/abarth/.julia/packages/LoweredCodeUtils/6EZqd/src/LoweredCodeUtils.jl:140 =#\n",
      "            lastpc = (pc = define_anonymous(recurse, frame, stmt))\n",
      "        elseif #= /home/abarth/.julia/packages/LoweredCodeUtils/6EZqd/src/LoweredCodeUtils.jl:141 =# isexpr(stmt, :call) && (JuliaInterpreter.is_quotenode(stmt.args[1], Core.Typeof) && begin\n",
      "                        sym = stmt.args[2]\n",
      "                        #= /home/abarth/.julia/packages/LoweredCodeUtils/6EZqd/src/LoweredCodeUtils.jl:142 =#\n",
      "                        sym isa Symbol && !(isdefined(mod, sym))\n",
      "                    end)\n",
      "            #= /home/abarth/.julia/packages/LoweredCodeUtils/6EZqd/src/LoweredCodeUtils.jl:143 =#\n",
      "            return (nothing, pc)\n",
      "        else\n",
      "            #= /home/abarth/.julia/packages/LoweredCodeUtils/6EZqd/src/LoweredCodeUtils.jl:145 =#\n",
      "            lastpc = pc\n",
      "            #= /home/abarth/.julia/packages/LoweredCodeUtils/6EZqd/src/LoweredCodeUtils.jl:146 =#\n",
      "            pc = step_expr!(recurse, frame, stmt, true)\n",
      "            #= /home/abarth/.julia/packages/LoweredCodeUtils/6EZqd/src/LoweredCodeUtils.jl:147 =#\n",
      "            pc === nothing && return (nothing, lastpc)\n",
      "        end\n",
      "        #= /home/abarth/.julia/packages/LoweredCodeUtils/6EZqd/src/LoweredCodeUtils.jl:149 =#\n",
      "        stmt = pc_expr(frame, pc)\n",
      "    end\n",
      "    #= /home/abarth/.julia/packages/LoweredCodeUtils/6EZqd/src/LoweredCodeUtils.jl:151 =#\n",
      "    sigsv = #= /home/abarth/.julia/packages/LoweredCodeUtils/6EZqd/src/LoweredCodeUtils.jl:151 =# @lookup(frame, stmt.args[2])::SimpleVector\n",
      "    #= /home/abarth/.julia/packages/LoweredCodeUtils/6EZqd/src/LoweredCodeUtils.jl:152 =#\n",
      "    sigt = signature(sigsv)\n",
      "    #= /home/abarth/.julia/packages/LoweredCodeUtils/6EZqd/src/LoweredCodeUtils.jl:153 =#\n",
      "    return (sigt, lastpc)\n",
      "end\n",
      "in module Main.LoweredCodeUtils\n",
      "\u001b[91mUndefVarError: Frame not defined\u001b[39m\n",
      "Stacktrace:\n",
      " [1] \u001b[1mmacro expansion\u001b[22m at \u001b[1m/home/abarth/.julia/packages/JuliaInterpreter/Or807/src/interpret.jl:64\u001b[22m [inlined]\n",
      " [2] \u001b[1mgetargs\u001b[22m\u001b[1m(\u001b[22m::Array{Any,1}, ::JuliaInterpreter.Frame\u001b[1m)\u001b[22m at \u001b[1m/home/abarth/.julia/packages/JuliaInterpreter/Or807/src/builtins.jl:8\u001b[22m\n",
      " [3] \u001b[1mmaybe_evaluate_builtin\u001b[22m\u001b[1m(\u001b[22m::JuliaInterpreter.Frame, ::Expr, ::Bool\u001b[1m)\u001b[22m at \u001b[1m/home/abarth/.julia/packages/JuliaInterpreter/Or807/src/builtins.jl:136\u001b[22m\n",
      " [4] \u001b[1m#evaluate_call_recurse!#37\u001b[22m\u001b[1m(\u001b[22m::Bool, ::Function, ::Any, ::JuliaInterpreter.Frame, ::Expr\u001b[1m)\u001b[22m at \u001b[1m/home/abarth/.julia/packages/JuliaInterpreter/Or807/src/interpret.jl:209\u001b[22m\n",
      " [5] \u001b[1mevaluate_call_recurse!\u001b[22m at \u001b[1m/home/abarth/.julia/packages/JuliaInterpreter/Or807/src/interpret.jl:206\u001b[22m [inlined]\n",
      " [6] \u001b[1meval_rhs\u001b[22m\u001b[1m(\u001b[22m::Any, ::JuliaInterpreter.Frame, ::Expr\u001b[1m)\u001b[22m at \u001b[1m/home/abarth/.julia/packages/JuliaInterpreter/Or807/src/interpret.jl:381\u001b[22m\n",
      " [7] \u001b[1mstep_expr!\u001b[22m\u001b[1m(\u001b[22m::Any, ::JuliaInterpreter.Frame, ::Any, ::Bool\u001b[1m)\u001b[22m at \u001b[1m/home/abarth/.julia/packages/JuliaInterpreter/Or807/src/interpret.jl:509\u001b[22m\n",
      " [8] \u001b[1msignature\u001b[22m\u001b[1m(\u001b[22m::Any, ::JuliaInterpreter.Frame, ::Any, ::Int64\u001b[1m)\u001b[22m at \u001b[1m/home/abarth/.julia/packages/LoweredCodeUtils/6EZqd/src/LoweredCodeUtils.jl:146\u001b[22m\n",
      " [9] \u001b[1m#methoddef!#3\u001b[22m\u001b[1m(\u001b[22m::Bool, ::Function, ::Any, ::Array{Any,1}, ::JuliaInterpreter.Frame, ::Any, ::Int64\u001b[1m)\u001b[22m at \u001b[1m/home/abarth/.julia/packages/LoweredCodeUtils/6EZqd/src/LoweredCodeUtils.jl:420\u001b[22m\n",
      " [10] \u001b[1m(::getfield(LoweredCodeUtils, Symbol(\"#kw##methoddef!\")))\u001b[22m\u001b[1m(\u001b[22m::NamedTuple{(:define,),Tuple{Bool}}, ::typeof(LoweredCodeUtils.methoddef!), ::Function, ::Array{Any,1}, ::JuliaInterpreter.Frame, ::Expr, ::Int64\u001b[1m)\u001b[22m at \u001b[1m./none:0\u001b[22m\n",
      " [11] \u001b[1m#methods_by_execution!#14\u001b[22m\u001b[1m(\u001b[22m::Bool, ::Bool, ::Function, ::Any, ::Revise.CodeTrackingMethodInfo, ::Dict{Module,Array{Expr,1}}, ::JuliaInterpreter.Frame\u001b[1m)\u001b[22m at \u001b[1m/home/abarth/.julia/packages/Revise/agmgx/src/lowered.jl:81\u001b[22m\n",
      " [12] \u001b[1m#methods_by_execution!\u001b[22m at \u001b[1m./none:0\u001b[22m [inlined]\n"
     ]
    },
    {
     "name": "stderr",
     "output_type": "stream",
     "text": [
      " [13] \u001b[1m#methods_by_execution!#9\u001b[22m\u001b[1m(\u001b[22m::Base.Iterators.Pairs{Symbol,Bool,Tuple{Symbol},NamedTuple{(:define,),Tuple{Bool}}}, ::Function, ::Any, ::Revise.CodeTrackingMethodInfo, ::Dict{Module,Array{Expr,1}}, ::Module, ::Expr\u001b[1m)\u001b[22m at \u001b[1m/home/abarth/.julia/packages/Revise/agmgx/src/lowered.jl:49\u001b[22m\n",
      " [14] \u001b[1m#methods_by_execution!\u001b[22m at \u001b[1m./none:0\u001b[22m [inlined]\n",
      " [15] \u001b[1m#eval_with_signatures#59\u001b[22m at \u001b[1m/home/abarth/.julia/packages/Revise/agmgx/src/Revise.jl:344\u001b[22m [inlined]\n",
      " [16] \u001b[1m#eval_with_signatures\u001b[22m at \u001b[1m./none:0\u001b[22m [inlined]\n",
      " [17] \u001b[1m#instantiate_sigs!#60\u001b[22m\u001b[1m(\u001b[22m::Bool, ::Base.Iterators.Pairs{Union{},Union{},Tuple{},NamedTuple{(),Tuple{}}}, ::Function, ::OrderedCollections.OrderedDict{Module,OrderedCollections.OrderedDict{Revise.RelocatableExpr,Union{Nothing, Array{Any,1}}}}\u001b[1m)\u001b[22m at \u001b[1m/home/abarth/.julia/packages/Revise/agmgx/src/Revise.jl:352\u001b[22m\n",
      " [18] \u001b[1minstantiate_sigs!\u001b[22m at \u001b[1m/home/abarth/.julia/packages/Revise/agmgx/src/Revise.jl:349\u001b[22m [inlined]\n",
      " [19] \u001b[1mmaybe_parse_from_cache!\u001b[22m\u001b[1m(\u001b[22m::Revise.PkgData, ::String\u001b[1m)\u001b[22m at \u001b[1m/home/abarth/.julia/packages/Revise/agmgx/src/pkgs.jl:224\u001b[22m\n",
      " [20] \u001b[1m(::getfield(Revise, Symbol(\"##26#27\")){String})\u001b[22m\u001b[1m(\u001b[22m\u001b[1m)\u001b[22m at \u001b[1m/home/abarth/.julia/packages/Revise/agmgx/src/pkgs.jl:370\u001b[22m\n",
      " [21] \u001b[1mwith_logstate\u001b[22m\u001b[1m(\u001b[22m::getfield(Revise, Symbol(\"##26#27\")){String}, ::Base.CoreLogging.LogState\u001b[1m)\u001b[22m at \u001b[1m./logging.jl:395\u001b[22m\n",
      " [22] \u001b[1mwith_logger\u001b[22m at \u001b[1m./logging.jl:491\u001b[22m [inlined]\n",
      " [23] \u001b[1mwatch_manifest\u001b[22m\u001b[1m(\u001b[22m::String\u001b[1m)\u001b[22m at \u001b[1m/home/abarth/.julia/packages/Revise/agmgx/src/pkgs.jl:349\u001b[22m\n",
      " [24] \u001b[1m(::Revise.Rescheduler{typeof(Revise.watch_manifest),Tuple{String}})\u001b[22m\u001b[1m(\u001b[22m\u001b[1m)\u001b[22m at \u001b[1m/home/abarth/.julia/packages/Revise/agmgx/src/types.jl:235\u001b[22m\n",
      "while evaluating\n",
      "signature(#= /home/abarth/.julia/packages/LoweredCodeUtils/6EZqd/src/LoweredCodeUtils.jl:155 =# @nospecialize(recurse), frame::Frame, pc) = begin\n",
      "        #= /home/abarth/.julia/packages/LoweredCodeUtils/6EZqd/src/LoweredCodeUtils.jl:155 =#\n",
      "        signature(recurse, frame, pc_expr(frame, pc), pc)\n",
      "    end\n",
      "in module Main.LoweredCodeUtils\n",
      "\u001b[91mUndefVarError: Frame not defined\u001b[39m\n",
      "Stacktrace:\n",
      " [1] \u001b[1mmacro expansion\u001b[22m at \u001b[1m/home/abarth/.julia/packages/JuliaInterpreter/Or807/src/interpret.jl:64\u001b[22m [inlined]\n",
      " [2] \u001b[1mgetargs\u001b[22m\u001b[1m(\u001b[22m::Array{Any,1}, ::JuliaInterpreter.Frame\u001b[1m)\u001b[22m at \u001b[1m/home/abarth/.julia/packages/JuliaInterpreter/Or807/src/builtins.jl:8\u001b[22m\n",
      " [3] \u001b[1mmaybe_evaluate_builtin\u001b[22m\u001b[1m(\u001b[22m::JuliaInterpreter.Frame, ::Expr, ::Bool\u001b[1m)\u001b[22m at \u001b[1m/home/abarth/.julia/packages/JuliaInterpreter/Or807/src/builtins.jl:136\u001b[22m\n",
      " [4] \u001b[1m#evaluate_call_recurse!#37\u001b[22m\u001b[1m(\u001b[22m::Bool, ::Function, ::Any, ::JuliaInterpreter.Frame, ::Expr\u001b[1m)\u001b[22m at \u001b[1m/home/abarth/.julia/packages/JuliaInterpreter/Or807/src/interpret.jl:209\u001b[22m\n",
      " [5] \u001b[1mevaluate_call_recurse!\u001b[22m at \u001b[1m/home/abarth/.julia/packages/JuliaInterpreter/Or807/src/interpret.jl:206\u001b[22m [inlined]\n",
      " [6] \u001b[1meval_rhs\u001b[22m\u001b[1m(\u001b[22m::Any, ::JuliaInterpreter.Frame, ::Expr\u001b[1m)\u001b[22m at \u001b[1m/home/abarth/.julia/packages/JuliaInterpreter/Or807/src/interpret.jl:381\u001b[22m\n",
      " [7] \u001b[1mstep_expr!\u001b[22m\u001b[1m(\u001b[22m::Any, ::JuliaInterpreter.Frame, ::Any, ::Bool\u001b[1m)\u001b[22m at \u001b[1m/home/abarth/.julia/packages/JuliaInterpreter/Or807/src/interpret.jl:509\u001b[22m\n",
      " [8] \u001b[1msignature\u001b[22m\u001b[1m(\u001b[22m::Any, ::JuliaInterpreter.Frame, ::Any, ::Int64\u001b[1m)\u001b[22m at \u001b[1m/home/abarth/.julia/packages/LoweredCodeUtils/6EZqd/src/LoweredCodeUtils.jl:146\u001b[22m\n",
      " [9] \u001b[1m#methoddef!#3\u001b[22m\u001b[1m(\u001b[22m::Bool, ::Function, ::Any, ::Array{Any,1}, ::JuliaInterpreter.Frame, ::Any, ::Int64\u001b[1m)\u001b[22m at \u001b[1m/home/abarth/.julia/packages/LoweredCodeUtils/6EZqd/src/LoweredCodeUtils.jl:420\u001b[22m\n",
      " [10] \u001b[1m(::getfield(LoweredCodeUtils, Symbol(\"#kw##methoddef!\")))\u001b[22m\u001b[1m(\u001b[22m::NamedTuple{(:define,),Tuple{Bool}}, ::typeof(LoweredCodeUtils.methoddef!), ::Function, ::Array{Any,1}, ::JuliaInterpreter.Frame, ::Expr, ::Int64\u001b[1m)\u001b[22m at \u001b[1m./none:0\u001b[22m\n",
      " [11] \u001b[1m#methods_by_execution!#14\u001b[22m\u001b[1m(\u001b[22m::Bool, ::Bool, ::Function, ::Any, ::Revise.CodeTrackingMethodInfo, ::Dict{Module,Array{Expr,1}}, ::JuliaInterpreter.Frame\u001b[1m)\u001b[22m at \u001b[1m/home/abarth/.julia/packages/Revise/agmgx/src/lowered.jl:81\u001b[22m\n",
      " [12] \u001b[1m#methods_by_execution!\u001b[22m at \u001b[1m./none:0\u001b[22m [inlined]\n",
      " [13] \u001b[1m#methods_by_execution!#9\u001b[22m\u001b[1m(\u001b[22m::Base.Iterators.Pairs{Symbol,Bool,Tuple{Symbol},NamedTuple{(:define,),Tuple{Bool}}}, ::Function, ::Any, ::Revise.CodeTrackingMethodInfo, ::Dict{Module,Array{Expr,1}}, ::Module, ::Expr\u001b[1m)\u001b[22m at \u001b[1m/home/abarth/.julia/packages/Revise/agmgx/src/lowered.jl:49\u001b[22m\n",
      " [14] \u001b[1m#methods_by_execution!\u001b[22m at \u001b[1m./none:0\u001b[22m [inlined]\n",
      " [15] \u001b[1m#eval_with_signatures#59\u001b[22m at \u001b[1m/home/abarth/.julia/packages/Revise/agmgx/src/Revise.jl:344\u001b[22m [inlined]\n",
      " [16] \u001b[1m#eval_with_signatures\u001b[22m at \u001b[1m./none:0\u001b[22m [inlined]\n",
      " [17] \u001b[1m#instantiate_sigs!#60\u001b[22m\u001b[1m(\u001b[22m::Bool, ::Base.Iterators.Pairs{Union{},Union{},Tuple{},NamedTuple{(),Tuple{}}}, ::Function, ::OrderedCollections.OrderedDict{Module,OrderedCollections.OrderedDict{Revise.RelocatableExpr,Union{Nothing, Array{Any,1}}}}\u001b[1m)\u001b[22m at \u001b[1m/home/abarth/.julia/packages/Revise/agmgx/src/Revise.jl:352\u001b[22m\n",
      " [18] \u001b[1minstantiate_sigs!\u001b[22m at \u001b[1m/home/abarth/.julia/packages/Revise/agmgx/src/Revise.jl:349\u001b[22m [inlined]\n",
      " [19] \u001b[1mmaybe_parse_from_cache!\u001b[22m\u001b[1m(\u001b[22m::Revise.PkgData, ::String\u001b[1m)\u001b[22m at \u001b[1m/home/abarth/.julia/packages/Revise/agmgx/src/pkgs.jl:224\u001b[22m\n",
      " [20] \u001b[1m(::getfield(Revise, Symbol(\"##26#27\")){String})\u001b[22m\u001b[1m(\u001b[22m\u001b[1m)\u001b[22m at \u001b[1m/home/abarth/.julia/packages/Revise/agmgx/src/pkgs.jl:370\u001b[22m\n",
      " [21] \u001b[1mwith_logstate\u001b[22m\u001b[1m(\u001b[22m::getfield(Revise, Symbol(\"##26#27\")){String}, ::Base.CoreLogging.LogState\u001b[1m)\u001b[22m at \u001b[1m./logging.jl:395\u001b[22m\n",
      " [22] \u001b[1mwith_logger\u001b[22m at \u001b[1m./logging.jl:491\u001b[22m [inlined]\n",
      " [23] \u001b[1mwatch_manifest\u001b[22m\u001b[1m(\u001b[22m::String\u001b[1m)\u001b[22m at \u001b[1m/home/abarth/.julia/packages/Revise/agmgx/src/pkgs.jl:349\u001b[22m\n",
      " [24] \u001b[1m(::Revise.Rescheduler{typeof(Revise.watch_manifest),Tuple{String}})\u001b[22m\u001b[1m(\u001b[22m\u001b[1m)\u001b[22m at \u001b[1m/home/abarth/.julia/packages/Revise/agmgx/src/types.jl:235\u001b[22m\n",
      "while evaluating\n",
      "signature(frame::Frame, pc) = begin\n",
      "        #= /home/abarth/.julia/packages/LoweredCodeUtils/6EZqd/src/LoweredCodeUtils.jl:156 =#\n",
      "        signature(finish_and_return!, frame, pc)\n",
      "    end\n",
      "in module Main.LoweredCodeUtils\n",
      "\u001b[91mUndefVarError: Frame not defined\u001b[39m\n",
      "Stacktrace:\n",
      " [1] \u001b[1mmacro expansion\u001b[22m at \u001b[1m/home/abarth/.julia/packages/JuliaInterpreter/Or807/src/interpret.jl:64\u001b[22m [inlined]\n",
      " [2] \u001b[1mgetargs\u001b[22m\u001b[1m(\u001b[22m::Array{Any,1}, ::JuliaInterpreter.Frame\u001b[1m)\u001b[22m at \u001b[1m/home/abarth/.julia/packages/JuliaInterpreter/Or807/src/builtins.jl:8\u001b[22m\n",
      " [3] \u001b[1mmaybe_evaluate_builtin\u001b[22m\u001b[1m(\u001b[22m::JuliaInterpreter.Frame, ::Expr, ::Bool\u001b[1m)\u001b[22m at \u001b[1m/home/abarth/.julia/packages/JuliaInterpreter/Or807/src/builtins.jl:136\u001b[22m\n",
      " [4] \u001b[1m#evaluate_call_recurse!#37\u001b[22m\u001b[1m(\u001b[22m::Bool, ::Function, ::Any, ::JuliaInterpreter.Frame, ::Expr\u001b[1m)\u001b[22m at \u001b[1m/home/abarth/.julia/packages/JuliaInterpreter/Or807/src/interpret.jl:209\u001b[22m\n",
      " [5] \u001b[1mevaluate_call_recurse!\u001b[22m at \u001b[1m/home/abarth/.julia/packages/JuliaInterpreter/Or807/src/interpret.jl:206\u001b[22m [inlined]\n",
      " [6] \u001b[1meval_rhs\u001b[22m\u001b[1m(\u001b[22m::Any, ::JuliaInterpreter.Frame, ::Expr\u001b[1m)\u001b[22m at \u001b[1m/home/abarth/.julia/packages/JuliaInterpreter/Or807/src/interpret.jl:381\u001b[22m\n",
      " [7] \u001b[1mstep_expr!\u001b[22m\u001b[1m(\u001b[22m::Any, ::JuliaInterpreter.Frame, ::Any, ::Bool\u001b[1m)\u001b[22m at \u001b[1m/home/abarth/.julia/packages/JuliaInterpreter/Or807/src/interpret.jl:509\u001b[22m\n",
      " [8] \u001b[1msignature\u001b[22m\u001b[1m(\u001b[22m::Any, ::JuliaInterpreter.Frame, ::Any, ::Int64\u001b[1m)\u001b[22m at \u001b[1m/home/abarth/.julia/packages/LoweredCodeUtils/6EZqd/src/LoweredCodeUtils.jl:146\u001b[22m\n",
      " [9] \u001b[1m#methoddef!#3\u001b[22m\u001b[1m(\u001b[22m::Bool, ::Function, ::Any, ::Array{Any,1}, ::JuliaInterpreter.Frame, ::Any, ::Int64\u001b[1m)\u001b[22m at \u001b[1m/home/abarth/.julia/packages/LoweredCodeUtils/6EZqd/src/LoweredCodeUtils.jl:420\u001b[22m\n",
      " [10] \u001b[1m(::getfield(LoweredCodeUtils, Symbol(\"#kw##methoddef!\")))\u001b[22m\u001b[1m(\u001b[22m::NamedTuple{(:define,),Tuple{Bool}}, ::typeof(LoweredCodeUtils.methoddef!), ::Function, ::Array{Any,1}, ::JuliaInterpreter.Frame, ::Expr, ::Int64\u001b[1m)\u001b[22m at \u001b[1m./none:0\u001b[22m\n",
      " [11] \u001b[1m#methods_by_execution!#14\u001b[22m\u001b[1m(\u001b[22m::Bool, ::Bool, ::Function, ::Any, ::Revise.CodeTrackingMethodInfo, ::Dict{Module,Array{Expr,1}}, ::JuliaInterpreter.Frame\u001b[1m)\u001b[22m at \u001b[1m/home/abarth/.julia/packages/Revise/agmgx/src/lowered.jl:81\u001b[22m\n",
      " [12] \u001b[1m#methods_by_execution!\u001b[22m at \u001b[1m./none:0\u001b[22m [inlined]\n",
      " [13] \u001b[1m#methods_by_execution!#9\u001b[22m\u001b[1m(\u001b[22m::Base.Iterators.Pairs{Symbol,Bool,Tuple{Symbol},NamedTuple{(:define,),Tuple{Bool}}}, ::Function, ::Any, ::Revise.CodeTrackingMethodInfo, ::Dict{Module,Array{Expr,1}}, ::Module, ::Expr\u001b[1m)\u001b[22m at \u001b[1m/home/abarth/.julia/packages/Revise/agmgx/src/lowered.jl:49\u001b[22m\n",
      " [14] \u001b[1m#methods_by_execution!\u001b[22m at \u001b[1m./none:0\u001b[22m [inlined]\n",
      " [15] \u001b[1m#eval_with_signatures#59\u001b[22m at \u001b[1m/home/abarth/.julia/packages/Revise/agmgx/src/Revise.jl:344\u001b[22m [inlined]\n",
      " [16] \u001b[1m#eval_with_signatures\u001b[22m at \u001b[1m./none:0\u001b[22m [inlined]\n",
      " [17] \u001b[1m#instantiate_sigs!#60\u001b[22m\u001b[1m(\u001b[22m::Bool, ::Base.Iterators.Pairs{Union{},Union{},Tuple{},NamedTuple{(),Tuple{}}}, ::Function, ::OrderedCollections.OrderedDict{Module,OrderedCollections.OrderedDict{Revise.RelocatableExpr,Union{Nothing, Array{Any,1}}}}\u001b[1m)\u001b[22m at \u001b[1m/home/abarth/.julia/packages/Revise/agmgx/src/Revise.jl:352\u001b[22m\n",
      " [18] \u001b[1minstantiate_sigs!\u001b[22m at \u001b[1m/home/abarth/.julia/packages/Revise/agmgx/src/Revise.jl:349\u001b[22m [inlined]\n",
      " [19] \u001b[1mmaybe_parse_from_cache!\u001b[22m\u001b[1m(\u001b[22m::Revise.PkgData, ::String\u001b[1m)\u001b[22m at \u001b[1m/home/abarth/.julia/packages/Revise/agmgx/src/pkgs.jl:224\u001b[22m\n",
      " [20] \u001b[1m(::getfield(Revise, Symbol(\"##26#27\")){String})\u001b[22m\u001b[1m(\u001b[22m\u001b[1m)\u001b[22m at \u001b[1m/home/abarth/.julia/packages/Revise/agmgx/src/pkgs.jl:370\u001b[22m\n",
      " [21] \u001b[1mwith_logstate\u001b[22m\u001b[1m(\u001b[22m::getfield(Revise, Symbol(\"##26#27\")){String}, ::Base.CoreLogging.LogState\u001b[1m)\u001b[22m at \u001b[1m./logging.jl:395\u001b[22m\n",
      " [22] \u001b[1mwith_logger\u001b[22m at \u001b[1m./logging.jl:491\u001b[22m [inlined]\n",
      " [23] \u001b[1mwatch_manifest\u001b[22m\u001b[1m(\u001b[22m::String\u001b[1m)\u001b[22m at \u001b[1m/home/abarth/.julia/packages/Revise/agmgx/src/pkgs.jl:349\u001b[22m\n",
      " [24] \u001b[1m(::Revise.Rescheduler{typeof(Revise.watch_manifest),Tuple{String}})\u001b[22m\u001b[1m(\u001b[22m\u001b[1m)\u001b[22m at \u001b[1m/home/abarth/.julia/packages/Revise/agmgx/src/types.jl:235\u001b[22m\n",
      "while evaluating\n",
      "function methoddef!(#= /home/abarth/.julia/packages/LoweredCodeUtils/6EZqd/src/LoweredCodeUtils.jl:349 =# @nospecialize(recurse), signatures, frame::Frame, #= /home/abarth/.julia/packages/LoweredCodeUtils/6EZqd/src/LoweredCodeUtils.jl:349 =# @nospecialize(stmt), pc::Int; define=true)\n",
      "    #= /home/abarth/.julia/packages/LoweredCodeUtils/6EZqd/src/LoweredCodeUtils.jl:350 =#\n",
      "    framecode = frame.framecode\n",
      "    #= /home/abarth/.julia/packages/LoweredCodeUtils/6EZqd/src/LoweredCodeUtils.jl:351 =#\n",
      "    if ismethod3(stmt)\n",
      "        #= /home/abarth/.julia/packages/LoweredCodeUtils/6EZqd/src/LoweredCodeUtils.jl:352 =#\n",
      "        pc3 = pc\n",
      "        #= /home/abarth/.julia/packages/LoweredCodeUtils/6EZqd/src/LoweredCodeUtils.jl:353 =#\n",
      "        (sigt, pc) = signature(recurse, frame, stmt, pc)\n",
      "        #= /home/abarth/.julia/packages/LoweredCodeUtils/6EZqd/src/LoweredCodeUtils.jl:354 =#\n",
      "        if sigt === nothing && define\n",
      "            #= /home/abarth/.julia/packages/LoweredCodeUtils/6EZqd/src/LoweredCodeUtils.jl:355 =#\n",
      "            step_expr!(recurse, frame, stmt, true)\n",
      "        end\n",
      "        #= /home/abarth/.julia/packages/LoweredCodeUtils/6EZqd/src/LoweredCodeUtils.jl:357 =#\n",
      "        (sigt, pc) = signature(recurse, frame, stmt, pc)\n",
      "        #= /home/abarth/.julia/packages/LoweredCodeUtils/6EZqd/src/LoweredCodeUtils.jl:358 =#\n",
      "        meth = whichtt(sigt)\n",
      "        #= /home/abarth/.julia/packages/LoweredCodeUtils/6EZqd/src/LoweredCodeUtils.jl:359 =#\n",
      "        if meth === nothing && define\n",
      "            #= /home/abarth/.julia/packages/LoweredCodeUtils/6EZqd/src/LoweredCodeUtils.jl:360 =#\n",
      "            step_expr!(recurse, frame, stmt, true)\n",
      "            #= /home/abarth/.julia/packages/LoweredCodeUtils/6EZqd/src/LoweredCodeUtils.jl:361 =#\n",
      "            meth = whichtt(sigt)\n",
      "        end\n",
      "        #= /home/abarth/.julia/packages/LoweredCodeUtils/6EZqd/src/LoweredCodeUtils.jl:363 =#\n",
      "        if meth isa Method\n",
      "            #= /home/abarth/.julia/packages/LoweredCodeUtils/6EZqd/src/LoweredCodeUtils.jl:364 =#\n",
      "            push!(signatures, meth.sig)\n",
      "        elseif #= /home/abarth/.julia/packages/LoweredCodeUtils/6EZqd/src/LoweredCodeUtils.jl:365 =# stmt.args[1] == false\n",
      "            #= /home/abarth/.julia/packages/LoweredCodeUtils/6EZqd/src/LoweredCodeUtils.jl:367 =#\n",
      "            pc = step_expr!(recurse, frame, stmt, true)\n",
      "            #= /home/abarth/.julia/packages/LoweredCodeUtils/6EZqd/src/LoweredCodeUtils.jl:368 =#\n",
      "            meth = whichtt(sigt)\n",
      "            #= /home/abarth/.julia/packages/LoweredCodeUtils/6EZqd/src/LoweredCodeUtils.jl:369 =#\n",
      "            meth isa Method && push!(signatures, meth.sig)\n",
      "            #= /home/abarth/.julia/packages/LoweredCodeUtils/6EZqd/src/LoweredCodeUtils.jl:370 =#\n",
      "            return (pc, pc3)\n",
      "        else\n",
      "            #= /home/abarth/.julia/packages/LoweredCodeUtils/6EZqd/src/LoweredCodeUtils.jl:373 =#\n",
      "            code = framecode.src\n",
      "            #= /home/abarth/.julia/packages/LoweredCodeUtils/6EZqd/src/LoweredCodeUtils.jl:374 =#\n",
      "            codeloc = codelocation(code, pc)\n",
      "            #= /home/abarth/.julia/packages/LoweredCodeUtils/6EZqd/src/LoweredCodeUtils.jl:375 =#\n",
      "            loc = code.linetable[codeloc]\n",
      "            #= /home/abarth/.julia/packages/LoweredCodeUtils/6EZqd/src/LoweredCodeUtils.jl:376 =#\n",
      "            ft = Base.unwrap_unionall((Base.unwrap_unionall(sigt)).parameters[1])\n",
      "            #= /home/abarth/.julia/packages/LoweredCodeUtils/6EZqd/src/LoweredCodeUtils.jl:377 =#\n"
     ]
    },
    {
     "name": "stderr",
     "output_type": "stream",
     "text": [
      "            if !(startswith(String((ft.name).name), \"##\"))\n",
      "                #= /home/abarth/.julia/packages/LoweredCodeUtils/6EZqd/src/LoweredCodeUtils.jl:378 =#\n",
      "                #= /home/abarth/.julia/packages/LoweredCodeUtils/6EZqd/src/LoweredCodeUtils.jl:378 =# @warn \"file $(loc.file), line $(loc.line): no method found for $(sigt)\"\n",
      "            end\n",
      "        end\n",
      "        #= /home/abarth/.julia/packages/LoweredCodeUtils/6EZqd/src/LoweredCodeUtils.jl:381 =#\n",
      "        frame.pc = pc\n",
      "        #= /home/abarth/.julia/packages/LoweredCodeUtils/6EZqd/src/LoweredCodeUtils.jl:382 =#\n",
      "        return (if define\n",
      "                    step_expr!(recurse, frame, stmt, true)\n",
      "                else\n",
      "                    next_or_nothing!(frame)\n",
      "                end, pc3)\n",
      "    end\n",
      "    #= /home/abarth/.julia/packages/LoweredCodeUtils/6EZqd/src/LoweredCodeUtils.jl:384 =#\n",
      "    ismethod1(stmt) || error(\"expected method opening, got \", stmt)\n",
      "    #= /home/abarth/.julia/packages/LoweredCodeUtils/6EZqd/src/LoweredCodeUtils.jl:385 =#\n",
      "    name = stmt.args[1]\n",
      "    #= /home/abarth/.julia/packages/LoweredCodeUtils/6EZqd/src/LoweredCodeUtils.jl:386 =#\n",
      "    if name isa Bool\n",
      "        #= /home/abarth/.julia/packages/LoweredCodeUtils/6EZqd/src/LoweredCodeUtils.jl:387 =#\n",
      "        error(\"not valid for anonymous methods\")\n",
      "    end\n",
      "    #= /home/abarth/.julia/packages/LoweredCodeUtils/6EZqd/src/LoweredCodeUtils.jl:389 =#\n",
      "    parentname = get_parentname(name)\n",
      "    #= /home/abarth/.julia/packages/LoweredCodeUtils/6EZqd/src/LoweredCodeUtils.jl:390 =#\n",
      "    pcinc = 1\n",
      "    #= /home/abarth/.julia/packages/LoweredCodeUtils/6EZqd/src/LoweredCodeUtils.jl:391 =#\n",
      "    nextstmt = pc_expr(frame, pc + pcinc)\n",
      "    #= /home/abarth/.julia/packages/LoweredCodeUtils/6EZqd/src/LoweredCodeUtils.jl:392 =#\n",
      "    while ismethod1(nextstmt) || isexpr(nextstmt, :global)\n",
      "        #= /home/abarth/.julia/packages/LoweredCodeUtils/6EZqd/src/LoweredCodeUtils.jl:393 =#\n",
      "        if ismethod1(nextstmt)\n",
      "            #= /home/abarth/.julia/packages/LoweredCodeUtils/6EZqd/src/LoweredCodeUtils.jl:394 =#\n",
      "            name = nextstmt.args[1]\n",
      "        end\n",
      "        #= /home/abarth/.julia/packages/LoweredCodeUtils/6EZqd/src/LoweredCodeUtils.jl:396 =#\n",
      "        pcinc += 1\n",
      "        #= /home/abarth/.julia/packages/LoweredCodeUtils/6EZqd/src/LoweredCodeUtils.jl:397 =#\n",
      "        nextstmt = pc_expr(frame, pc + pcinc)\n",
      "    end\n",
      "    #= /home/abarth/.julia/packages/LoweredCodeUtils/6EZqd/src/LoweredCodeUtils.jl:399 =#\n",
      "    if !define && (String(name))[1] == '#'\n",
      "        #= /home/abarth/.julia/packages/LoweredCodeUtils/6EZqd/src/LoweredCodeUtils.jl:403 =#\n",
      "        pc0 = pc\n",
      "        #= /home/abarth/.julia/packages/LoweredCodeUtils/6EZqd/src/LoweredCodeUtils.jl:404 =#\n",
      "        idx1 = findall(ismethod1, ((frame.framecode).src).code)\n",
      "        #= /home/abarth/.julia/packages/LoweredCodeUtils/6EZqd/src/LoweredCodeUtils.jl:405 =#\n",
      "        idx1 = idx1[idx1 .>= pc]\n",
      "        #= /home/abarth/.julia/packages/LoweredCodeUtils/6EZqd/src/LoweredCodeUtils.jl:406 =#\n",
      "        hashhash = map((idx->begin\n",
      "                        #= /home/abarth/.julia/packages/LoweredCodeUtils/6EZqd/src/LoweredCodeUtils.jl:406 =#\n",
      "                        startswith(String((pc_expr(frame, idx)).args[1]), '#')\n",
      "                    end), idx1)\n",
      "        #= /home/abarth/.julia/packages/LoweredCodeUtils/6EZqd/src/LoweredCodeUtils.jl:407 =#\n",
      "        idx1 = idx1[hashhash]\n",
      "        #= /home/abarth/.julia/packages/LoweredCodeUtils/6EZqd/src/LoweredCodeUtils.jl:408 =#\n",
      "        i = length(idx1)\n",
      "        #= /home/abarth/.julia/packages/LoweredCodeUtils/6EZqd/src/LoweredCodeUtils.jl:409 =#\n",
      "        while i > 1\n",
      "            #= /home/abarth/.julia/packages/LoweredCodeUtils/6EZqd/src/LoweredCodeUtils.jl:410 =#\n",
      "            frame.pc = idx1[i]\n",
      "            #= /home/abarth/.julia/packages/LoweredCodeUtils/6EZqd/src/LoweredCodeUtils.jl:411 =#\n",
      "            methoddef!(recurse, [], frame, frame.pc; define=define)\n",
      "            #= /home/abarth/.julia/packages/LoweredCodeUtils/6EZqd/src/LoweredCodeUtils.jl:412 =#\n",
      "            i -= 1\n",
      "        end\n",
      "        #= /home/abarth/.julia/packages/LoweredCodeUtils/6EZqd/src/LoweredCodeUtils.jl:414 =#\n",
      "        frame.pc = pc0\n",
      "    end\n",
      "    #= /home/abarth/.julia/packages/LoweredCodeUtils/6EZqd/src/LoweredCodeUtils.jl:416 =#\n",
      "    if name != parentname && !define\n",
      "        #= /home/abarth/.julia/packages/LoweredCodeUtils/6EZqd/src/LoweredCodeUtils.jl:417 =#\n",
      "        (name, endpc) = correct_name!(recurse, frame, pc, name, parentname)\n",
      "    end\n",
      "    #= /home/abarth/.julia/packages/LoweredCodeUtils/6EZqd/src/LoweredCodeUtils.jl:419 =#\n",
      "    while true\n",
      "        #= /home/abarth/.julia/packages/LoweredCodeUtils/6EZqd/src/LoweredCodeUtils.jl:420 =#\n",
      "        (sigt, pc) = signature(recurse, frame, stmt, pc)\n",
      "        #= /home/abarth/.julia/packages/LoweredCodeUtils/6EZqd/src/LoweredCodeUtils.jl:421 =#\n",
      "        stmt = pc_expr(frame, pc)\n",
      "        #= /home/abarth/.julia/packages/LoweredCodeUtils/6EZqd/src/LoweredCodeUtils.jl:422 =#\n",
      "        while !(isexpr(stmt, :method, 3))\n",
      "            #= /home/abarth/.julia/packages/LoweredCodeUtils/6EZqd/src/LoweredCodeUtils.jl:423 =#\n",
      "            pc = next_or_nothing(frame, pc)\n",
      "            #= /home/abarth/.julia/packages/LoweredCodeUtils/6EZqd/src/LoweredCodeUtils.jl:424 =#\n",
      "            pc === nothing && return nothing\n",
      "            #= /home/abarth/.julia/packages/LoweredCodeUtils/6EZqd/src/LoweredCodeUtils.jl:425 =#\n",
      "            stmt = pc_expr(frame, pc)\n",
      "        end\n",
      "        #= /home/abarth/.julia/packages/LoweredCodeUtils/6EZqd/src/LoweredCodeUtils.jl:427 =#\n",
      "        pc3 = pc\n",
      "        #= /home/abarth/.julia/packages/LoweredCodeUtils/6EZqd/src/LoweredCodeUtils.jl:428 =#\n",
      "        name3 = stmt.args[1]\n",
      "        #= /home/abarth/.julia/packages/LoweredCodeUtils/6EZqd/src/LoweredCodeUtils.jl:429 =#\n",
      "        (sigt === nothing && begin\n",
      "                    error(\"expected a signature\")\n",
      "                    #= /home/abarth/.julia/packages/LoweredCodeUtils/6EZqd/src/LoweredCodeUtils.jl:429 =#\n",
      "                    return next_or_nothing(frame, pc)\n",
      "                end, pc3)\n",
      "        #= /home/abarth/.julia/packages/LoweredCodeUtils/6EZqd/src/LoweredCodeUtils.jl:432 =#\n",
      "        frame.pc = pc\n",
      "        #= /home/abarth/.julia/packages/LoweredCodeUtils/6EZqd/src/LoweredCodeUtils.jl:433 =#\n",
      "        pc = if define\n",
      "                step_expr!(recurse, frame, stmt, true)\n",
      "            else\n",
      "                next_or_nothing!(frame)\n",
      "            end\n",
      "        #= /home/abarth/.julia/packages/LoweredCodeUtils/6EZqd/src/LoweredCodeUtils.jl:434 =#\n",
      "        meth = whichtt(sigt)\n",
      "        #= /home/abarth/.julia/packages/LoweredCodeUtils/6EZqd/src/LoweredCodeUtils.jl:435 =#\n",
      "        meth isa Method && push!(signatures, meth.sig)\n",
      "        #= /home/abarth/.julia/packages/LoweredCodeUtils/6EZqd/src/LoweredCodeUtils.jl:436 =#\n",
      "        name == name3 && return (pc, pc3)\n",
      "        #= /home/abarth/.julia/packages/LoweredCodeUtils/6EZqd/src/LoweredCodeUtils.jl:437 =#\n",
      "        stmt = pc_expr(frame, pc)\n",
      "    end\n",
      "end\n",
      "in module Main.LoweredCodeUtils\n",
      "\u001b[91mUndefVarError: Frame not defined\u001b[39m\n",
      "Stacktrace:\n",
      " [1] \u001b[1mmacro expansion\u001b[22m at \u001b[1m/home/abarth/.julia/packages/JuliaInterpreter/Or807/src/interpret.jl:64\u001b[22m [inlined]\n",
      " [2] \u001b[1mgetargs\u001b[22m\u001b[1m(\u001b[22m::Array{Any,1}, ::JuliaInterpreter.Frame\u001b[1m)\u001b[22m at \u001b[1m/home/abarth/.julia/packages/JuliaInterpreter/Or807/src/builtins.jl:8\u001b[22m\n",
      " [3] \u001b[1mmaybe_evaluate_builtin\u001b[22m\u001b[1m(\u001b[22m::JuliaInterpreter.Frame, ::Expr, ::Bool\u001b[1m)\u001b[22m at \u001b[1m/home/abarth/.julia/packages/JuliaInterpreter/Or807/src/builtins.jl:136\u001b[22m\n",
      " [4] \u001b[1m#evaluate_call_recurse!#37\u001b[22m\u001b[1m(\u001b[22m::Bool, ::Function, ::Any, ::JuliaInterpreter.Frame, ::Expr\u001b[1m)\u001b[22m at \u001b[1m/home/abarth/.julia/packages/JuliaInterpreter/Or807/src/interpret.jl:209\u001b[22m\n",
      " [5] \u001b[1mevaluate_call_recurse!\u001b[22m at \u001b[1m/home/abarth/.julia/packages/JuliaInterpreter/Or807/src/interpret.jl:206\u001b[22m [inlined]\n",
      " [6] \u001b[1meval_rhs\u001b[22m\u001b[1m(\u001b[22m::Any, ::JuliaInterpreter.Frame, ::Expr\u001b[1m)\u001b[22m at \u001b[1m/home/abarth/.julia/packages/JuliaInterpreter/Or807/src/interpret.jl:381\u001b[22m\n",
      " [7] \u001b[1mstep_expr!\u001b[22m\u001b[1m(\u001b[22m::Any, ::JuliaInterpreter.Frame, ::Any, ::Bool\u001b[1m)\u001b[22m at \u001b[1m/home/abarth/.julia/packages/JuliaInterpreter/Or807/src/interpret.jl:509\u001b[22m\n",
      " [8] \u001b[1msignature\u001b[22m\u001b[1m(\u001b[22m::Any, ::JuliaInterpreter.Frame, ::Any, ::Int64\u001b[1m)\u001b[22m at \u001b[1m/home/abarth/.julia/packages/LoweredCodeUtils/6EZqd/src/LoweredCodeUtils.jl:146\u001b[22m\n",
      " [9] \u001b[1m#methoddef!#3\u001b[22m\u001b[1m(\u001b[22m::Bool, ::Function, ::Any, ::Array{Any,1}, ::JuliaInterpreter.Frame, ::Any, ::Int64\u001b[1m)\u001b[22m at \u001b[1m/home/abarth/.julia/packages/LoweredCodeUtils/6EZqd/src/LoweredCodeUtils.jl:420\u001b[22m\n",
      " [10] \u001b[1m(::getfield(LoweredCodeUtils, Symbol(\"#kw##methoddef!\")))\u001b[22m\u001b[1m(\u001b[22m::NamedTuple{(:define,),Tuple{Bool}}, ::typeof(LoweredCodeUtils.methoddef!), ::Function, ::Array{Any,1}, ::JuliaInterpreter.Frame, ::Expr, ::Int64\u001b[1m)\u001b[22m at \u001b[1m./none:0\u001b[22m\n",
      " [11] \u001b[1m#methods_by_execution!#14\u001b[22m\u001b[1m(\u001b[22m::Bool, ::Bool, ::Function, ::Any, ::Revise.CodeTrackingMethodInfo, ::Dict{Module,Array{Expr,1}}, ::JuliaInterpreter.Frame\u001b[1m)\u001b[22m at \u001b[1m/home/abarth/.julia/packages/Revise/agmgx/src/lowered.jl:81\u001b[22m\n",
      " [12] \u001b[1m#methods_by_execution!\u001b[22m at \u001b[1m./none:0\u001b[22m [inlined]\n",
      " [13] \u001b[1m#methods_by_execution!#9\u001b[22m\u001b[1m(\u001b[22m::Base.Iterators.Pairs{Symbol,Bool,Tuple{Symbol},NamedTuple{(:define,),Tuple{Bool}}}, ::Function, ::Any, ::Revise.CodeTrackingMethodInfo, ::Dict{Module,Array{Expr,1}}, ::Module, ::Expr\u001b[1m)\u001b[22m at \u001b[1m/home/abarth/.julia/packages/Revise/agmgx/src/lowered.jl:49\u001b[22m\n",
      " [14] \u001b[1m#methods_by_execution!\u001b[22m at \u001b[1m./none:0\u001b[22m [inlined]\n",
      " [15] \u001b[1m#eval_with_signatures#59\u001b[22m at \u001b[1m/home/abarth/.julia/packages/Revise/agmgx/src/Revise.jl:344\u001b[22m [inlined]\n",
      " [16] \u001b[1m#eval_with_signatures\u001b[22m at \u001b[1m./none:0\u001b[22m [inlined]\n",
      " [17] \u001b[1m#instantiate_sigs!#60\u001b[22m\u001b[1m(\u001b[22m::Bool, ::Base.Iterators.Pairs{Union{},Union{},Tuple{},NamedTuple{(),Tuple{}}}, ::Function, ::OrderedCollections.OrderedDict{Module,OrderedCollections.OrderedDict{Revise.RelocatableExpr,Union{Nothing, Array{Any,1}}}}\u001b[1m)\u001b[22m at \u001b[1m/home/abarth/.julia/packages/Revise/agmgx/src/Revise.jl:352\u001b[22m\n",
      " [18] \u001b[1minstantiate_sigs!\u001b[22m at \u001b[1m/home/abarth/.julia/packages/Revise/agmgx/src/Revise.jl:349\u001b[22m [inlined]\n",
      " [19] \u001b[1mmaybe_parse_from_cache!\u001b[22m\u001b[1m(\u001b[22m::Revise.PkgData, ::String\u001b[1m)\u001b[22m at \u001b[1m/home/abarth/.julia/packages/Revise/agmgx/src/pkgs.jl:224\u001b[22m\n",
      " [20] \u001b[1m(::getfield(Revise, Symbol(\"##26#27\")){String})\u001b[22m\u001b[1m(\u001b[22m\u001b[1m)\u001b[22m at \u001b[1m/home/abarth/.julia/packages/Revise/agmgx/src/pkgs.jl:370\u001b[22m\n",
      " [21] \u001b[1mwith_logstate\u001b[22m\u001b[1m(\u001b[22m::getfield(Revise, Symbol(\"##26#27\")){String}, ::Base.CoreLogging.LogState\u001b[1m)\u001b[22m at \u001b[1m./logging.jl:395\u001b[22m\n",
      " [22] \u001b[1mwith_logger\u001b[22m at \u001b[1m./logging.jl:491\u001b[22m [inlined]\n",
      " [23] \u001b[1mwatch_manifest\u001b[22m\u001b[1m(\u001b[22m::String\u001b[1m)\u001b[22m at \u001b[1m/home/abarth/.julia/packages/Revise/agmgx/src/pkgs.jl:349\u001b[22m\n",
      " [24] \u001b[1m(::Revise.Rescheduler{typeof(Revise.watch_manifest),Tuple{String}})\u001b[22m\u001b[1m(\u001b[22m\u001b[1m)\u001b[22m at \u001b[1m/home/abarth/.julia/packages/Revise/agmgx/src/types.jl:235\u001b[22m\n",
      "while evaluating\n",
      "methoddef!(#= /home/abarth/.julia/packages/LoweredCodeUtils/6EZqd/src/LoweredCodeUtils.jl:440 =# @nospecialize(recurse), signatures, frame::Frame, pc::Int; define=true) = begin\n",
      "        #= /home/abarth/.julia/packages/LoweredCodeUtils/6EZqd/src/LoweredCodeUtils.jl:440 =#\n",
      "        methoddef!(recurse, signatures, frame, pc_expr(frame, pc), pc; define=define)\n",
      "    end\n",
      "in module Main.LoweredCodeUtils\n",
      "\u001b[91mUndefVarError: Frame not defined\u001b[39m\n",
      "Stacktrace:\n",
      " [1] \u001b[1mmacro expansion\u001b[22m at \u001b[1m/home/abarth/.julia/packages/JuliaInterpreter/Or807/src/interpret.jl:64\u001b[22m [inlined]\n",
      " [2] \u001b[1mgetargs\u001b[22m\u001b[1m(\u001b[22m::Array{Any,1}, ::JuliaInterpreter.Frame\u001b[1m)\u001b[22m at \u001b[1m/home/abarth/.julia/packages/JuliaInterpreter/Or807/src/builtins.jl:8\u001b[22m\n",
      " [3] \u001b[1mmaybe_evaluate_builtin\u001b[22m\u001b[1m(\u001b[22m::JuliaInterpreter.Frame, ::Expr, ::Bool\u001b[1m)\u001b[22m at \u001b[1m/home/abarth/.julia/packages/JuliaInterpreter/Or807/src/builtins.jl:136\u001b[22m\n",
      " [4] \u001b[1m#evaluate_call_recurse!#37\u001b[22m\u001b[1m(\u001b[22m::Bool, ::Function, ::Any, ::JuliaInterpreter.Frame, ::Expr\u001b[1m)\u001b[22m at \u001b[1m/home/abarth/.julia/packages/JuliaInterpreter/Or807/src/interpret.jl:209\u001b[22m\n",
      " [5] \u001b[1mevaluate_call_recurse!\u001b[22m at \u001b[1m/home/abarth/.julia/packages/JuliaInterpreter/Or807/src/interpret.jl:206\u001b[22m [inlined]\n",
      " [6] \u001b[1meval_rhs\u001b[22m\u001b[1m(\u001b[22m::Any, ::JuliaInterpreter.Frame, ::Expr\u001b[1m)\u001b[22m at \u001b[1m/home/abarth/.julia/packages/JuliaInterpreter/Or807/src/interpret.jl:381\u001b[22m\n",
      " [7] \u001b[1mstep_expr!\u001b[22m\u001b[1m(\u001b[22m::Any, ::JuliaInterpreter.Frame, ::Any, ::Bool\u001b[1m)\u001b[22m at \u001b[1m/home/abarth/.julia/packages/JuliaInterpreter/Or807/src/interpret.jl:509\u001b[22m\n"
     ]
    },
    {
     "name": "stderr",
     "output_type": "stream",
     "text": [
      " [8] \u001b[1msignature\u001b[22m\u001b[1m(\u001b[22m::Any, ::JuliaInterpreter.Frame, ::Any, ::Int64\u001b[1m)\u001b[22m at \u001b[1m/home/abarth/.julia/packages/LoweredCodeUtils/6EZqd/src/LoweredCodeUtils.jl:146\u001b[22m\n",
      " [9] \u001b[1m#methoddef!#3\u001b[22m\u001b[1m(\u001b[22m::Bool, ::Function, ::Any, ::Array{Any,1}, ::JuliaInterpreter.Frame, ::Any, ::Int64\u001b[1m)\u001b[22m at \u001b[1m/home/abarth/.julia/packages/LoweredCodeUtils/6EZqd/src/LoweredCodeUtils.jl:420\u001b[22m\n",
      " [10] \u001b[1m(::getfield(LoweredCodeUtils, Symbol(\"#kw##methoddef!\")))\u001b[22m\u001b[1m(\u001b[22m::NamedTuple{(:define,),Tuple{Bool}}, ::typeof(LoweredCodeUtils.methoddef!), ::Function, ::Array{Any,1}, ::JuliaInterpreter.Frame, ::Expr, ::Int64\u001b[1m)\u001b[22m at \u001b[1m./none:0\u001b[22m\n",
      " [11] \u001b[1m#methods_by_execution!#14\u001b[22m\u001b[1m(\u001b[22m::Bool, ::Bool, ::Function, ::Any, ::Revise.CodeTrackingMethodInfo, ::Dict{Module,Array{Expr,1}}, ::JuliaInterpreter.Frame\u001b[1m)\u001b[22m at \u001b[1m/home/abarth/.julia/packages/Revise/agmgx/src/lowered.jl:81\u001b[22m\n",
      " [12] \u001b[1m#methods_by_execution!\u001b[22m at \u001b[1m./none:0\u001b[22m [inlined]\n",
      " [13] \u001b[1m#methods_by_execution!#9\u001b[22m\u001b[1m(\u001b[22m::Base.Iterators.Pairs{Symbol,Bool,Tuple{Symbol},NamedTuple{(:define,),Tuple{Bool}}}, ::Function, ::Any, ::Revise.CodeTrackingMethodInfo, ::Dict{Module,Array{Expr,1}}, ::Module, ::Expr\u001b[1m)\u001b[22m at \u001b[1m/home/abarth/.julia/packages/Revise/agmgx/src/lowered.jl:49\u001b[22m\n",
      " [14] \u001b[1m#methods_by_execution!\u001b[22m at \u001b[1m./none:0\u001b[22m [inlined]\n",
      " [15] \u001b[1m#eval_with_signatures#59\u001b[22m at \u001b[1m/home/abarth/.julia/packages/Revise/agmgx/src/Revise.jl:344\u001b[22m [inlined]\n",
      " [16] \u001b[1m#eval_with_signatures\u001b[22m at \u001b[1m./none:0\u001b[22m [inlined]\n",
      " [17] \u001b[1m#instantiate_sigs!#60\u001b[22m\u001b[1m(\u001b[22m::Bool, ::Base.Iterators.Pairs{Union{},Union{},Tuple{},NamedTuple{(),Tuple{}}}, ::Function, ::OrderedCollections.OrderedDict{Module,OrderedCollections.OrderedDict{Revise.RelocatableExpr,Union{Nothing, Array{Any,1}}}}\u001b[1m)\u001b[22m at \u001b[1m/home/abarth/.julia/packages/Revise/agmgx/src/Revise.jl:352\u001b[22m\n",
      " [18] \u001b[1minstantiate_sigs!\u001b[22m at \u001b[1m/home/abarth/.julia/packages/Revise/agmgx/src/Revise.jl:349\u001b[22m [inlined]\n",
      " [19] \u001b[1mmaybe_parse_from_cache!\u001b[22m\u001b[1m(\u001b[22m::Revise.PkgData, ::String\u001b[1m)\u001b[22m at \u001b[1m/home/abarth/.julia/packages/Revise/agmgx/src/pkgs.jl:224\u001b[22m\n",
      " [20] \u001b[1m(::getfield(Revise, Symbol(\"##26#27\")){String})\u001b[22m\u001b[1m(\u001b[22m\u001b[1m)\u001b[22m at \u001b[1m/home/abarth/.julia/packages/Revise/agmgx/src/pkgs.jl:370\u001b[22m\n",
      " [21] \u001b[1mwith_logstate\u001b[22m\u001b[1m(\u001b[22m::getfield(Revise, Symbol(\"##26#27\")){String}, ::Base.CoreLogging.LogState\u001b[1m)\u001b[22m at \u001b[1m./logging.jl:395\u001b[22m\n",
      " [22] \u001b[1mwith_logger\u001b[22m at \u001b[1m./logging.jl:491\u001b[22m [inlined]\n",
      " [23] \u001b[1mwatch_manifest\u001b[22m\u001b[1m(\u001b[22m::String\u001b[1m)\u001b[22m at \u001b[1m/home/abarth/.julia/packages/Revise/agmgx/src/pkgs.jl:349\u001b[22m\n",
      " [24] \u001b[1m(::Revise.Rescheduler{typeof(Revise.watch_manifest),Tuple{String}})\u001b[22m\u001b[1m(\u001b[22m\u001b[1m)\u001b[22m at \u001b[1m/home/abarth/.julia/packages/Revise/agmgx/src/types.jl:235\u001b[22m\n",
      "while evaluating\n",
      "function methoddef!(#= /home/abarth/.julia/packages/LoweredCodeUtils/6EZqd/src/LoweredCodeUtils.jl:442 =# @nospecialize(recurse), signatures, frame::Frame; define=true)\n",
      "    #= /home/abarth/.julia/packages/LoweredCodeUtils/6EZqd/src/LoweredCodeUtils.jl:443 =#\n",
      "    pc = frame.pc\n",
      "    #= /home/abarth/.julia/packages/LoweredCodeUtils/6EZqd/src/LoweredCodeUtils.jl:444 =#\n",
      "    stmt = pc_expr(frame, pc)\n",
      "    #= /home/abarth/.julia/packages/LoweredCodeUtils/6EZqd/src/LoweredCodeUtils.jl:445 =#\n",
      "    if !(ismethod(stmt))\n",
      "        #= /home/abarth/.julia/packages/LoweredCodeUtils/6EZqd/src/LoweredCodeUtils.jl:446 =#\n",
      "        pc = next_until!(ismethod, recurse, frame, true)\n",
      "    end\n",
      "    #= /home/abarth/.julia/packages/LoweredCodeUtils/6EZqd/src/LoweredCodeUtils.jl:448 =#\n",
      "    pc === nothing && error(\"pc at end of frame without finding a method\")\n",
      "    #= /home/abarth/.julia/packages/LoweredCodeUtils/6EZqd/src/LoweredCodeUtils.jl:449 =#\n",
      "    methoddef!(recurse, signatures, frame, pc; define=define)\n",
      "end\n",
      "in module Main.LoweredCodeUtils\n",
      "\u001b[91mUndefVarError: Frame not defined\u001b[39m\n",
      "Stacktrace:\n",
      " [1] \u001b[1mmacro expansion\u001b[22m at \u001b[1m/home/abarth/.julia/packages/JuliaInterpreter/Or807/src/interpret.jl:64\u001b[22m [inlined]\n",
      " [2] \u001b[1mgetargs\u001b[22m\u001b[1m(\u001b[22m::Array{Any,1}, ::JuliaInterpreter.Frame\u001b[1m)\u001b[22m at \u001b[1m/home/abarth/.julia/packages/JuliaInterpreter/Or807/src/builtins.jl:8\u001b[22m\n",
      " [3] \u001b[1mmaybe_evaluate_builtin\u001b[22m\u001b[1m(\u001b[22m::JuliaInterpreter.Frame, ::Expr, ::Bool\u001b[1m)\u001b[22m at \u001b[1m/home/abarth/.julia/packages/JuliaInterpreter/Or807/src/builtins.jl:136\u001b[22m\n",
      " [4] \u001b[1m#evaluate_call_recurse!#37\u001b[22m\u001b[1m(\u001b[22m::Bool, ::Function, ::Any, ::JuliaInterpreter.Frame, ::Expr\u001b[1m)\u001b[22m at \u001b[1m/home/abarth/.julia/packages/JuliaInterpreter/Or807/src/interpret.jl:209\u001b[22m\n",
      " [5] \u001b[1mevaluate_call_recurse!\u001b[22m at \u001b[1m/home/abarth/.julia/packages/JuliaInterpreter/Or807/src/interpret.jl:206\u001b[22m [inlined]\n",
      " [6] \u001b[1meval_rhs\u001b[22m\u001b[1m(\u001b[22m::Any, ::JuliaInterpreter.Frame, ::Expr\u001b[1m)\u001b[22m at \u001b[1m/home/abarth/.julia/packages/JuliaInterpreter/Or807/src/interpret.jl:381\u001b[22m\n",
      " [7] \u001b[1mstep_expr!\u001b[22m\u001b[1m(\u001b[22m::Any, ::JuliaInterpreter.Frame, ::Any, ::Bool\u001b[1m)\u001b[22m at \u001b[1m/home/abarth/.julia/packages/JuliaInterpreter/Or807/src/interpret.jl:509\u001b[22m\n",
      " [8] \u001b[1msignature\u001b[22m\u001b[1m(\u001b[22m::Any, ::JuliaInterpreter.Frame, ::Any, ::Int64\u001b[1m)\u001b[22m at \u001b[1m/home/abarth/.julia/packages/LoweredCodeUtils/6EZqd/src/LoweredCodeUtils.jl:146\u001b[22m\n",
      " [9] \u001b[1m#methoddef!#3\u001b[22m\u001b[1m(\u001b[22m::Bool, ::Function, ::Any, ::Array{Any,1}, ::JuliaInterpreter.Frame, ::Any, ::Int64\u001b[1m)\u001b[22m at \u001b[1m/home/abarth/.julia/packages/LoweredCodeUtils/6EZqd/src/LoweredCodeUtils.jl:420\u001b[22m\n",
      " [10] \u001b[1m(::getfield(LoweredCodeUtils, Symbol(\"#kw##methoddef!\")))\u001b[22m\u001b[1m(\u001b[22m::NamedTuple{(:define,),Tuple{Bool}}, ::typeof(LoweredCodeUtils.methoddef!), ::Function, ::Array{Any,1}, ::JuliaInterpreter.Frame, ::Expr, ::Int64\u001b[1m)\u001b[22m at \u001b[1m./none:0\u001b[22m\n",
      " [11] \u001b[1m#methods_by_execution!#14\u001b[22m\u001b[1m(\u001b[22m::Bool, ::Bool, ::Function, ::Any, ::Revise.CodeTrackingMethodInfo, ::Dict{Module,Array{Expr,1}}, ::JuliaInterpreter.Frame\u001b[1m)\u001b[22m at \u001b[1m/home/abarth/.julia/packages/Revise/agmgx/src/lowered.jl:81\u001b[22m\n",
      " [12] \u001b[1m#methods_by_execution!\u001b[22m at \u001b[1m./none:0\u001b[22m [inlined]\n",
      " [13] \u001b[1m#methods_by_execution!#9\u001b[22m\u001b[1m(\u001b[22m::Base.Iterators.Pairs{Symbol,Bool,Tuple{Symbol},NamedTuple{(:define,),Tuple{Bool}}}, ::Function, ::Any, ::Revise.CodeTrackingMethodInfo, ::Dict{Module,Array{Expr,1}}, ::Module, ::Expr\u001b[1m)\u001b[22m at \u001b[1m/home/abarth/.julia/packages/Revise/agmgx/src/lowered.jl:49\u001b[22m\n",
      " [14] \u001b[1m#methods_by_execution!\u001b[22m at \u001b[1m./none:0\u001b[22m [inlined]\n",
      " [15] \u001b[1m#eval_with_signatures#59\u001b[22m at \u001b[1m/home/abarth/.julia/packages/Revise/agmgx/src/Revise.jl:344\u001b[22m [inlined]\n",
      " [16] \u001b[1m#eval_with_signatures\u001b[22m at \u001b[1m./none:0\u001b[22m [inlined]\n",
      " [17] \u001b[1m#instantiate_sigs!#60\u001b[22m\u001b[1m(\u001b[22m::Bool, ::Base.Iterators.Pairs{Union{},Union{},Tuple{},NamedTuple{(),Tuple{}}}, ::Function, ::OrderedCollections.OrderedDict{Module,OrderedCollections.OrderedDict{Revise.RelocatableExpr,Union{Nothing, Array{Any,1}}}}\u001b[1m)\u001b[22m at \u001b[1m/home/abarth/.julia/packages/Revise/agmgx/src/Revise.jl:352\u001b[22m\n",
      " [18] \u001b[1minstantiate_sigs!\u001b[22m at \u001b[1m/home/abarth/.julia/packages/Revise/agmgx/src/Revise.jl:349\u001b[22m [inlined]\n",
      " [19] \u001b[1mmaybe_parse_from_cache!\u001b[22m\u001b[1m(\u001b[22m::Revise.PkgData, ::String\u001b[1m)\u001b[22m at \u001b[1m/home/abarth/.julia/packages/Revise/agmgx/src/pkgs.jl:224\u001b[22m\n",
      " [20] \u001b[1m(::getfield(Revise, Symbol(\"##26#27\")){String})\u001b[22m\u001b[1m(\u001b[22m\u001b[1m)\u001b[22m at \u001b[1m/home/abarth/.julia/packages/Revise/agmgx/src/pkgs.jl:370\u001b[22m\n",
      " [21] \u001b[1mwith_logstate\u001b[22m\u001b[1m(\u001b[22m::getfield(Revise, Symbol(\"##26#27\")){String}, ::Base.CoreLogging.LogState\u001b[1m)\u001b[22m at \u001b[1m./logging.jl:395\u001b[22m\n",
      " [22] \u001b[1mwith_logger\u001b[22m at \u001b[1m./logging.jl:491\u001b[22m [inlined]\n",
      " [23] \u001b[1mwatch_manifest\u001b[22m\u001b[1m(\u001b[22m::String\u001b[1m)\u001b[22m at \u001b[1m/home/abarth/.julia/packages/Revise/agmgx/src/pkgs.jl:349\u001b[22m\n",
      " [24] \u001b[1m(::Revise.Rescheduler{typeof(Revise.watch_manifest),Tuple{String}})\u001b[22m\u001b[1m(\u001b[22m\u001b[1m)\u001b[22m at \u001b[1m/home/abarth/.julia/packages/Revise/agmgx/src/types.jl:235\u001b[22m\n",
      "while evaluating\n",
      "methoddef!(signatures, frame::Frame; define=true) = begin\n",
      "        #= /home/abarth/.julia/packages/LoweredCodeUtils/6EZqd/src/LoweredCodeUtils.jl:451 =#\n",
      "        methoddef!(finish_and_return!, signatures, frame; define=define)\n",
      "    end\n",
      "in module Main.LoweredCodeUtils\n",
      "\u001b[91mUndefVarError: Frame not defined\u001b[39m\n",
      "Stacktrace:\n",
      " [1] \u001b[1mmacro expansion\u001b[22m at \u001b[1m/home/abarth/.julia/packages/JuliaInterpreter/Or807/src/interpret.jl:64\u001b[22m [inlined]\n",
      " [2] \u001b[1mgetargs\u001b[22m\u001b[1m(\u001b[22m::Array{Any,1}, ::JuliaInterpreter.Frame\u001b[1m)\u001b[22m at \u001b[1m/home/abarth/.julia/packages/JuliaInterpreter/Or807/src/builtins.jl:8\u001b[22m\n",
      " [3] \u001b[1mmaybe_evaluate_builtin\u001b[22m\u001b[1m(\u001b[22m::JuliaInterpreter.Frame, ::Expr, ::Bool\u001b[1m)\u001b[22m at \u001b[1m/home/abarth/.julia/packages/JuliaInterpreter/Or807/src/builtins.jl:136\u001b[22m\n",
      " [4] \u001b[1m#evaluate_call_recurse!#37\u001b[22m\u001b[1m(\u001b[22m::Bool, ::Function, ::Any, ::JuliaInterpreter.Frame, ::Expr\u001b[1m)\u001b[22m at \u001b[1m/home/abarth/.julia/packages/JuliaInterpreter/Or807/src/interpret.jl:209\u001b[22m\n",
      " [5] \u001b[1mevaluate_call_recurse!\u001b[22m at \u001b[1m/home/abarth/.julia/packages/JuliaInterpreter/Or807/src/interpret.jl:206\u001b[22m [inlined]\n",
      " [6] \u001b[1meval_rhs\u001b[22m\u001b[1m(\u001b[22m::Any, ::JuliaInterpreter.Frame, ::Expr\u001b[1m)\u001b[22m at \u001b[1m/home/abarth/.julia/packages/JuliaInterpreter/Or807/src/interpret.jl:381\u001b[22m\n",
      " [7] \u001b[1mstep_expr!\u001b[22m\u001b[1m(\u001b[22m::Any, ::JuliaInterpreter.Frame, ::Any, ::Bool\u001b[1m)\u001b[22m at \u001b[1m/home/abarth/.julia/packages/JuliaInterpreter/Or807/src/interpret.jl:509\u001b[22m\n",
      " [8] \u001b[1msignature\u001b[22m\u001b[1m(\u001b[22m::Any, ::JuliaInterpreter.Frame, ::Any, ::Int64\u001b[1m)\u001b[22m at \u001b[1m/home/abarth/.julia/packages/LoweredCodeUtils/6EZqd/src/LoweredCodeUtils.jl:146\u001b[22m\n",
      " [9] \u001b[1m#methoddef!#3\u001b[22m\u001b[1m(\u001b[22m::Bool, ::Function, ::Any, ::Array{Any,1}, ::JuliaInterpreter.Frame, ::Any, ::Int64\u001b[1m)\u001b[22m at \u001b[1m/home/abarth/.julia/packages/LoweredCodeUtils/6EZqd/src/LoweredCodeUtils.jl:420\u001b[22m\n",
      " [10] \u001b[1m(::getfield(LoweredCodeUtils, Symbol(\"#kw##methoddef!\")))\u001b[22m\u001b[1m(\u001b[22m::NamedTuple{(:define,),Tuple{Bool}}, ::typeof(LoweredCodeUtils.methoddef!), ::Function, ::Array{Any,1}, ::JuliaInterpreter.Frame, ::Expr, ::Int64\u001b[1m)\u001b[22m at \u001b[1m./none:0\u001b[22m\n",
      " [11] \u001b[1m#methods_by_execution!#14\u001b[22m\u001b[1m(\u001b[22m::Bool, ::Bool, ::Function, ::Any, ::Revise.CodeTrackingMethodInfo, ::Dict{Module,Array{Expr,1}}, ::JuliaInterpreter.Frame\u001b[1m)\u001b[22m at \u001b[1m/home/abarth/.julia/packages/Revise/agmgx/src/lowered.jl:81\u001b[22m\n",
      " [12] \u001b[1m#methods_by_execution!\u001b[22m at \u001b[1m./none:0\u001b[22m [inlined]\n"
     ]
    },
    {
     "name": "stderr",
     "output_type": "stream",
     "text": [
      " [13] \u001b[1m#methods_by_execution!#9\u001b[22m\u001b[1m(\u001b[22m::Base.Iterators.Pairs{Symbol,Bool,Tuple{Symbol},NamedTuple{(:define,),Tuple{Bool}}}, ::Function, ::Any, ::Revise.CodeTrackingMethodInfo, ::Dict{Module,Array{Expr,1}}, ::Module, ::Expr\u001b[1m)\u001b[22m at \u001b[1m/home/abarth/.julia/packages/Revise/agmgx/src/lowered.jl:49\u001b[22m\n",
      " [14] \u001b[1m#methods_by_execution!\u001b[22m at \u001b[1m./none:0\u001b[22m [inlined]\n",
      " [15] \u001b[1m#eval_with_signatures#59\u001b[22m at \u001b[1m/home/abarth/.julia/packages/Revise/agmgx/src/Revise.jl:344\u001b[22m [inlined]\n",
      " [16] \u001b[1m#eval_with_signatures\u001b[22m at \u001b[1m./none:0\u001b[22m [inlined]\n",
      " [17] \u001b[1m#instantiate_sigs!#60\u001b[22m\u001b[1m(\u001b[22m::Bool, ::Base.Iterators.Pairs{Union{},Union{},Tuple{},NamedTuple{(),Tuple{}}}, ::Function, ::OrderedCollections.OrderedDict{Module,OrderedCollections.OrderedDict{Revise.RelocatableExpr,Union{Nothing, Array{Any,1}}}}\u001b[1m)\u001b[22m at \u001b[1m/home/abarth/.julia/packages/Revise/agmgx/src/Revise.jl:352\u001b[22m\n",
      " [18] \u001b[1minstantiate_sigs!\u001b[22m at \u001b[1m/home/abarth/.julia/packages/Revise/agmgx/src/Revise.jl:349\u001b[22m [inlined]\n",
      " [19] \u001b[1mmaybe_parse_from_cache!\u001b[22m\u001b[1m(\u001b[22m::Revise.PkgData, ::String\u001b[1m)\u001b[22m at \u001b[1m/home/abarth/.julia/packages/Revise/agmgx/src/pkgs.jl:224\u001b[22m\n",
      " [20] \u001b[1m(::getfield(Revise, Symbol(\"##26#27\")){String})\u001b[22m\u001b[1m(\u001b[22m\u001b[1m)\u001b[22m at \u001b[1m/home/abarth/.julia/packages/Revise/agmgx/src/pkgs.jl:370\u001b[22m\n",
      " [21] \u001b[1mwith_logstate\u001b[22m\u001b[1m(\u001b[22m::getfield(Revise, Symbol(\"##26#27\")){String}, ::Base.CoreLogging.LogState\u001b[1m)\u001b[22m at \u001b[1m./logging.jl:395\u001b[22m\n",
      " [22] \u001b[1mwith_logger\u001b[22m at \u001b[1m./logging.jl:491\u001b[22m [inlined]\n",
      " [23] \u001b[1mwatch_manifest\u001b[22m\u001b[1m(\u001b[22m::String\u001b[1m)\u001b[22m at \u001b[1m/home/abarth/.julia/packages/Revise/agmgx/src/pkgs.jl:349\u001b[22m\n",
      " [24] \u001b[1m(::Revise.Rescheduler{typeof(Revise.watch_manifest),Tuple{String}})\u001b[22m\u001b[1m(\u001b[22m\u001b[1m)\u001b[22m at \u001b[1m/home/abarth/.julia/packages/Revise/agmgx/src/types.jl:235\u001b[22m\n",
      "while evaluating\n",
      "function methoddefs!(#= /home/abarth/.julia/packages/LoweredCodeUtils/6EZqd/src/LoweredCodeUtils.jl:454 =# @nospecialize(recurse), signatures, frame::Frame, pc; define=true)\n",
      "    #= /home/abarth/.julia/packages/LoweredCodeUtils/6EZqd/src/LoweredCodeUtils.jl:455 =#\n",
      "    ret = methoddef!(recurse, signatures, frame, pc; define=define)\n",
      "    #= /home/abarth/.julia/packages/LoweredCodeUtils/6EZqd/src/LoweredCodeUtils.jl:456 =#\n",
      "    pc = if ret === nothing\n",
      "            ret\n",
      "        else\n",
      "            ret[1]\n",
      "        end\n",
      "    #= /home/abarth/.julia/packages/LoweredCodeUtils/6EZqd/src/LoweredCodeUtils.jl:457 =#\n",
      "    return _methoddefs!(recurse, signatures, frame, pc; define=define)\n",
      "end\n",
      "in module Main.LoweredCodeUtils\n",
      "\u001b[91mUndefVarError: Frame not defined\u001b[39m\n",
      "Stacktrace:\n",
      " [1] \u001b[1mmacro expansion\u001b[22m at \u001b[1m/home/abarth/.julia/packages/JuliaInterpreter/Or807/src/interpret.jl:64\u001b[22m [inlined]\n",
      " [2] \u001b[1mgetargs\u001b[22m\u001b[1m(\u001b[22m::Array{Any,1}, ::JuliaInterpreter.Frame\u001b[1m)\u001b[22m at \u001b[1m/home/abarth/.julia/packages/JuliaInterpreter/Or807/src/builtins.jl:8\u001b[22m\n",
      " [3] \u001b[1mmaybe_evaluate_builtin\u001b[22m\u001b[1m(\u001b[22m::JuliaInterpreter.Frame, ::Expr, ::Bool\u001b[1m)\u001b[22m at \u001b[1m/home/abarth/.julia/packages/JuliaInterpreter/Or807/src/builtins.jl:136\u001b[22m\n",
      " [4] \u001b[1m#evaluate_call_recurse!#37\u001b[22m\u001b[1m(\u001b[22m::Bool, ::Function, ::Any, ::JuliaInterpreter.Frame, ::Expr\u001b[1m)\u001b[22m at \u001b[1m/home/abarth/.julia/packages/JuliaInterpreter/Or807/src/interpret.jl:209\u001b[22m\n",
      " [5] \u001b[1mevaluate_call_recurse!\u001b[22m at \u001b[1m/home/abarth/.julia/packages/JuliaInterpreter/Or807/src/interpret.jl:206\u001b[22m [inlined]\n",
      " [6] \u001b[1meval_rhs\u001b[22m\u001b[1m(\u001b[22m::Any, ::JuliaInterpreter.Frame, ::Expr\u001b[1m)\u001b[22m at \u001b[1m/home/abarth/.julia/packages/JuliaInterpreter/Or807/src/interpret.jl:381\u001b[22m\n",
      " [7] \u001b[1mstep_expr!\u001b[22m\u001b[1m(\u001b[22m::Any, ::JuliaInterpreter.Frame, ::Any, ::Bool\u001b[1m)\u001b[22m at \u001b[1m/home/abarth/.julia/packages/JuliaInterpreter/Or807/src/interpret.jl:509\u001b[22m\n",
      " [8] \u001b[1msignature\u001b[22m\u001b[1m(\u001b[22m::Any, ::JuliaInterpreter.Frame, ::Any, ::Int64\u001b[1m)\u001b[22m at \u001b[1m/home/abarth/.julia/packages/LoweredCodeUtils/6EZqd/src/LoweredCodeUtils.jl:146\u001b[22m\n",
      " [9] \u001b[1m#methoddef!#3\u001b[22m\u001b[1m(\u001b[22m::Bool, ::Function, ::Any, ::Array{Any,1}, ::JuliaInterpreter.Frame, ::Any, ::Int64\u001b[1m)\u001b[22m at \u001b[1m/home/abarth/.julia/packages/LoweredCodeUtils/6EZqd/src/LoweredCodeUtils.jl:420\u001b[22m\n",
      " [10] \u001b[1m(::getfield(LoweredCodeUtils, Symbol(\"#kw##methoddef!\")))\u001b[22m\u001b[1m(\u001b[22m::NamedTuple{(:define,),Tuple{Bool}}, ::typeof(LoweredCodeUtils.methoddef!), ::Function, ::Array{Any,1}, ::JuliaInterpreter.Frame, ::Expr, ::Int64\u001b[1m)\u001b[22m at \u001b[1m./none:0\u001b[22m\n",
      " [11] \u001b[1m#methods_by_execution!#14\u001b[22m\u001b[1m(\u001b[22m::Bool, ::Bool, ::Function, ::Any, ::Revise.CodeTrackingMethodInfo, ::Dict{Module,Array{Expr,1}}, ::JuliaInterpreter.Frame\u001b[1m)\u001b[22m at \u001b[1m/home/abarth/.julia/packages/Revise/agmgx/src/lowered.jl:81\u001b[22m\n",
      " [12] \u001b[1m#methods_by_execution!\u001b[22m at \u001b[1m./none:0\u001b[22m [inlined]\n",
      " [13] \u001b[1m#methods_by_execution!#9\u001b[22m\u001b[1m(\u001b[22m::Base.Iterators.Pairs{Symbol,Bool,Tuple{Symbol},NamedTuple{(:define,),Tuple{Bool}}}, ::Function, ::Any, ::Revise.CodeTrackingMethodInfo, ::Dict{Module,Array{Expr,1}}, ::Module, ::Expr\u001b[1m)\u001b[22m at \u001b[1m/home/abarth/.julia/packages/Revise/agmgx/src/lowered.jl:49\u001b[22m\n",
      " [14] \u001b[1m#methods_by_execution!\u001b[22m at \u001b[1m./none:0\u001b[22m [inlined]\n",
      " [15] \u001b[1m#eval_with_signatures#59\u001b[22m at \u001b[1m/home/abarth/.julia/packages/Revise/agmgx/src/Revise.jl:344\u001b[22m [inlined]\n",
      " [16] \u001b[1m#eval_with_signatures\u001b[22m at \u001b[1m./none:0\u001b[22m [inlined]\n",
      " [17] \u001b[1m#instantiate_sigs!#60\u001b[22m\u001b[1m(\u001b[22m::Bool, ::Base.Iterators.Pairs{Union{},Union{},Tuple{},NamedTuple{(),Tuple{}}}, ::Function, ::OrderedCollections.OrderedDict{Module,OrderedCollections.OrderedDict{Revise.RelocatableExpr,Union{Nothing, Array{Any,1}}}}\u001b[1m)\u001b[22m at \u001b[1m/home/abarth/.julia/packages/Revise/agmgx/src/Revise.jl:352\u001b[22m\n",
      " [18] \u001b[1minstantiate_sigs!\u001b[22m at \u001b[1m/home/abarth/.julia/packages/Revise/agmgx/src/Revise.jl:349\u001b[22m [inlined]\n",
      " [19] \u001b[1mmaybe_parse_from_cache!\u001b[22m\u001b[1m(\u001b[22m::Revise.PkgData, ::String\u001b[1m)\u001b[22m at \u001b[1m/home/abarth/.julia/packages/Revise/agmgx/src/pkgs.jl:224\u001b[22m\n",
      " [20] \u001b[1m(::getfield(Revise, Symbol(\"##26#27\")){String})\u001b[22m\u001b[1m(\u001b[22m\u001b[1m)\u001b[22m at \u001b[1m/home/abarth/.julia/packages/Revise/agmgx/src/pkgs.jl:370\u001b[22m\n",
      " [21] \u001b[1mwith_logstate\u001b[22m\u001b[1m(\u001b[22m::getfield(Revise, Symbol(\"##26#27\")){String}, ::Base.CoreLogging.LogState\u001b[1m)\u001b[22m at \u001b[1m./logging.jl:395\u001b[22m\n",
      " [22] \u001b[1mwith_logger\u001b[22m at \u001b[1m./logging.jl:491\u001b[22m [inlined]\n",
      " [23] \u001b[1mwatch_manifest\u001b[22m\u001b[1m(\u001b[22m::String\u001b[1m)\u001b[22m at \u001b[1m/home/abarth/.julia/packages/Revise/agmgx/src/pkgs.jl:349\u001b[22m\n",
      " [24] \u001b[1m(::Revise.Rescheduler{typeof(Revise.watch_manifest),Tuple{String}})\u001b[22m\u001b[1m(\u001b[22m\u001b[1m)\u001b[22m at \u001b[1m/home/abarth/.julia/packages/Revise/agmgx/src/types.jl:235\u001b[22m\n",
      "while evaluating\n",
      "function methoddefs!(#= /home/abarth/.julia/packages/LoweredCodeUtils/6EZqd/src/LoweredCodeUtils.jl:459 =# @nospecialize(recurse), signatures, frame::Frame; define=true)\n",
      "    #= /home/abarth/.julia/packages/LoweredCodeUtils/6EZqd/src/LoweredCodeUtils.jl:460 =#\n",
      "    ret = methoddef!(recurse, signatures, frame; define=define)\n",
      "    #= /home/abarth/.julia/packages/LoweredCodeUtils/6EZqd/src/LoweredCodeUtils.jl:461 =#\n",
      "    pc = if ret === nothing\n",
      "            ret\n",
      "        else\n",
      "            ret[1]\n",
      "        end\n",
      "    #= /home/abarth/.julia/packages/LoweredCodeUtils/6EZqd/src/LoweredCodeUtils.jl:462 =#\n",
      "    return _methoddefs!(recurse, signatures, frame, pc; define=define)\n",
      "end\n",
      "in module Main.LoweredCodeUtils\n",
      "\u001b[91mUndefVarError: Frame not defined\u001b[39m\n",
      "Stacktrace:\n",
      " [1] \u001b[1mmacro expansion\u001b[22m at \u001b[1m/home/abarth/.julia/packages/JuliaInterpreter/Or807/src/interpret.jl:64\u001b[22m [inlined]\n",
      " [2] \u001b[1mgetargs\u001b[22m\u001b[1m(\u001b[22m::Array{Any,1}, ::JuliaInterpreter.Frame\u001b[1m)\u001b[22m at \u001b[1m/home/abarth/.julia/packages/JuliaInterpreter/Or807/src/builtins.jl:8\u001b[22m\n",
      " [3] \u001b[1mmaybe_evaluate_builtin\u001b[22m\u001b[1m(\u001b[22m::JuliaInterpreter.Frame, ::Expr, ::Bool\u001b[1m)\u001b[22m at \u001b[1m/home/abarth/.julia/packages/JuliaInterpreter/Or807/src/builtins.jl:136\u001b[22m\n",
      " [4] \u001b[1m#evaluate_call_recurse!#37\u001b[22m\u001b[1m(\u001b[22m::Bool, ::Function, ::Any, ::JuliaInterpreter.Frame, ::Expr\u001b[1m)\u001b[22m at \u001b[1m/home/abarth/.julia/packages/JuliaInterpreter/Or807/src/interpret.jl:209\u001b[22m\n",
      " [5] \u001b[1mevaluate_call_recurse!\u001b[22m at \u001b[1m/home/abarth/.julia/packages/JuliaInterpreter/Or807/src/interpret.jl:206\u001b[22m [inlined]\n",
      " [6] \u001b[1meval_rhs\u001b[22m\u001b[1m(\u001b[22m::Any, ::JuliaInterpreter.Frame, ::Expr\u001b[1m)\u001b[22m at \u001b[1m/home/abarth/.julia/packages/JuliaInterpreter/Or807/src/interpret.jl:381\u001b[22m\n",
      " [7] \u001b[1mstep_expr!\u001b[22m\u001b[1m(\u001b[22m::Any, ::JuliaInterpreter.Frame, ::Any, ::Bool\u001b[1m)\u001b[22m at \u001b[1m/home/abarth/.julia/packages/JuliaInterpreter/Or807/src/interpret.jl:509\u001b[22m\n",
      " [8] \u001b[1msignature\u001b[22m\u001b[1m(\u001b[22m::Any, ::JuliaInterpreter.Frame, ::Any, ::Int64\u001b[1m)\u001b[22m at \u001b[1m/home/abarth/.julia/packages/LoweredCodeUtils/6EZqd/src/LoweredCodeUtils.jl:146\u001b[22m\n",
      " [9] \u001b[1m#methoddef!#3\u001b[22m\u001b[1m(\u001b[22m::Bool, ::Function, ::Any, ::Array{Any,1}, ::JuliaInterpreter.Frame, ::Any, ::Int64\u001b[1m)\u001b[22m at \u001b[1m/home/abarth/.julia/packages/LoweredCodeUtils/6EZqd/src/LoweredCodeUtils.jl:420\u001b[22m\n",
      " [10] \u001b[1m(::getfield(LoweredCodeUtils, Symbol(\"#kw##methoddef!\")))\u001b[22m\u001b[1m(\u001b[22m::NamedTuple{(:define,),Tuple{Bool}}, ::typeof(LoweredCodeUtils.methoddef!), ::Function, ::Array{Any,1}, ::JuliaInterpreter.Frame, ::Expr, ::Int64\u001b[1m)\u001b[22m at \u001b[1m./none:0\u001b[22m\n",
      " [11] \u001b[1m#methods_by_execution!#14\u001b[22m\u001b[1m(\u001b[22m::Bool, ::Bool, ::Function, ::Any, ::Revise.CodeTrackingMethodInfo, ::Dict{Module,Array{Expr,1}}, ::JuliaInterpreter.Frame\u001b[1m)\u001b[22m at \u001b[1m/home/abarth/.julia/packages/Revise/agmgx/src/lowered.jl:81\u001b[22m\n",
      " [12] \u001b[1m#methods_by_execution!\u001b[22m at \u001b[1m./none:0\u001b[22m [inlined]\n",
      " [13] \u001b[1m#methods_by_execution!#9\u001b[22m\u001b[1m(\u001b[22m::Base.Iterators.Pairs{Symbol,Bool,Tuple{Symbol},NamedTuple{(:define,),Tuple{Bool}}}, ::Function, ::Any, ::Revise.CodeTrackingMethodInfo, ::Dict{Module,Array{Expr,1}}, ::Module, ::Expr\u001b[1m)\u001b[22m at \u001b[1m/home/abarth/.julia/packages/Revise/agmgx/src/lowered.jl:49\u001b[22m\n",
      " [14] \u001b[1m#methods_by_execution!\u001b[22m at \u001b[1m./none:0\u001b[22m [inlined]\n",
      " [15] \u001b[1m#eval_with_signatures#59\u001b[22m at \u001b[1m/home/abarth/.julia/packages/Revise/agmgx/src/Revise.jl:344\u001b[22m [inlined]\n",
      " [16] \u001b[1m#eval_with_signatures\u001b[22m at \u001b[1m./none:0\u001b[22m [inlined]\n"
     ]
    },
    {
     "name": "stderr",
     "output_type": "stream",
     "text": [
      " [17] \u001b[1m#instantiate_sigs!#60\u001b[22m\u001b[1m(\u001b[22m::Bool, ::Base.Iterators.Pairs{Union{},Union{},Tuple{},NamedTuple{(),Tuple{}}}, ::Function, ::OrderedCollections.OrderedDict{Module,OrderedCollections.OrderedDict{Revise.RelocatableExpr,Union{Nothing, Array{Any,1}}}}\u001b[1m)\u001b[22m at \u001b[1m/home/abarth/.julia/packages/Revise/agmgx/src/Revise.jl:352\u001b[22m\n",
      " [18] \u001b[1minstantiate_sigs!\u001b[22m at \u001b[1m/home/abarth/.julia/packages/Revise/agmgx/src/Revise.jl:349\u001b[22m [inlined]\n",
      " [19] \u001b[1mmaybe_parse_from_cache!\u001b[22m\u001b[1m(\u001b[22m::Revise.PkgData, ::String\u001b[1m)\u001b[22m at \u001b[1m/home/abarth/.julia/packages/Revise/agmgx/src/pkgs.jl:224\u001b[22m\n",
      " [20] \u001b[1m(::getfield(Revise, Symbol(\"##26#27\")){String})\u001b[22m\u001b[1m(\u001b[22m\u001b[1m)\u001b[22m at \u001b[1m/home/abarth/.julia/packages/Revise/agmgx/src/pkgs.jl:370\u001b[22m\n",
      " [21] \u001b[1mwith_logstate\u001b[22m\u001b[1m(\u001b[22m::getfield(Revise, Symbol(\"##26#27\")){String}, ::Base.CoreLogging.LogState\u001b[1m)\u001b[22m at \u001b[1m./logging.jl:395\u001b[22m\n",
      " [22] \u001b[1mwith_logger\u001b[22m at \u001b[1m./logging.jl:491\u001b[22m [inlined]\n",
      " [23] \u001b[1mwatch_manifest\u001b[22m\u001b[1m(\u001b[22m::String\u001b[1m)\u001b[22m at \u001b[1m/home/abarth/.julia/packages/Revise/agmgx/src/pkgs.jl:349\u001b[22m\n",
      " [24] \u001b[1m(::Revise.Rescheduler{typeof(Revise.watch_manifest),Tuple{String}})\u001b[22m\u001b[1m(\u001b[22m\u001b[1m)\u001b[22m at \u001b[1m/home/abarth/.julia/packages/Revise/agmgx/src/types.jl:235\u001b[22m\n",
      "while evaluating\n",
      "methoddefs!(signatures, frame::Frame; define=true) = begin\n",
      "        #= /home/abarth/.julia/packages/LoweredCodeUtils/6EZqd/src/LoweredCodeUtils.jl:464 =#\n",
      "        methoddefs!(finish_and_return!, signatures, frame; define=define)\n",
      "    end\n",
      "in module Main.LoweredCodeUtils\n",
      "\u001b[91mUndefVarError: Frame not defined\u001b[39m\n",
      "Stacktrace:\n",
      " [1] \u001b[1mmacro expansion\u001b[22m at \u001b[1m/home/abarth/.julia/packages/JuliaInterpreter/Or807/src/interpret.jl:64\u001b[22m [inlined]\n",
      " [2] \u001b[1mgetargs\u001b[22m\u001b[1m(\u001b[22m::Array{Any,1}, ::JuliaInterpreter.Frame\u001b[1m)\u001b[22m at \u001b[1m/home/abarth/.julia/packages/JuliaInterpreter/Or807/src/builtins.jl:8\u001b[22m\n",
      " [3] \u001b[1mmaybe_evaluate_builtin\u001b[22m\u001b[1m(\u001b[22m::JuliaInterpreter.Frame, ::Expr, ::Bool\u001b[1m)\u001b[22m at \u001b[1m/home/abarth/.julia/packages/JuliaInterpreter/Or807/src/builtins.jl:136\u001b[22m\n",
      " [4] \u001b[1m#evaluate_call_recurse!#37\u001b[22m\u001b[1m(\u001b[22m::Bool, ::Function, ::Any, ::JuliaInterpreter.Frame, ::Expr\u001b[1m)\u001b[22m at \u001b[1m/home/abarth/.julia/packages/JuliaInterpreter/Or807/src/interpret.jl:209\u001b[22m\n",
      " [5] \u001b[1mevaluate_call_recurse!\u001b[22m at \u001b[1m/home/abarth/.julia/packages/JuliaInterpreter/Or807/src/interpret.jl:206\u001b[22m [inlined]\n",
      " [6] \u001b[1meval_rhs\u001b[22m\u001b[1m(\u001b[22m::Any, ::JuliaInterpreter.Frame, ::Expr\u001b[1m)\u001b[22m at \u001b[1m/home/abarth/.julia/packages/JuliaInterpreter/Or807/src/interpret.jl:381\u001b[22m\n",
      " [7] \u001b[1mstep_expr!\u001b[22m\u001b[1m(\u001b[22m::Any, ::JuliaInterpreter.Frame, ::Any, ::Bool\u001b[1m)\u001b[22m at \u001b[1m/home/abarth/.julia/packages/JuliaInterpreter/Or807/src/interpret.jl:509\u001b[22m\n",
      " [8] \u001b[1msignature\u001b[22m\u001b[1m(\u001b[22m::Any, ::JuliaInterpreter.Frame, ::Any, ::Int64\u001b[1m)\u001b[22m at \u001b[1m/home/abarth/.julia/packages/LoweredCodeUtils/6EZqd/src/LoweredCodeUtils.jl:146\u001b[22m\n",
      " [9] \u001b[1m#methoddef!#3\u001b[22m\u001b[1m(\u001b[22m::Bool, ::Function, ::Any, ::Array{Any,1}, ::JuliaInterpreter.Frame, ::Any, ::Int64\u001b[1m)\u001b[22m at \u001b[1m/home/abarth/.julia/packages/LoweredCodeUtils/6EZqd/src/LoweredCodeUtils.jl:420\u001b[22m\n",
      " [10] \u001b[1m(::getfield(LoweredCodeUtils, Symbol(\"#kw##methoddef!\")))\u001b[22m\u001b[1m(\u001b[22m::NamedTuple{(:define,),Tuple{Bool}}, ::typeof(LoweredCodeUtils.methoddef!), ::Function, ::Array{Any,1}, ::JuliaInterpreter.Frame, ::Expr, ::Int64\u001b[1m)\u001b[22m at \u001b[1m./none:0\u001b[22m\n",
      " [11] \u001b[1m#methods_by_execution!#14\u001b[22m\u001b[1m(\u001b[22m::Bool, ::Bool, ::Function, ::Any, ::Revise.CodeTrackingMethodInfo, ::Dict{Module,Array{Expr,1}}, ::JuliaInterpreter.Frame\u001b[1m)\u001b[22m at \u001b[1m/home/abarth/.julia/packages/Revise/agmgx/src/lowered.jl:81\u001b[22m\n",
      " [12] \u001b[1m#methods_by_execution!\u001b[22m at \u001b[1m./none:0\u001b[22m [inlined]\n",
      " [13] \u001b[1m#methods_by_execution!#9\u001b[22m\u001b[1m(\u001b[22m::Base.Iterators.Pairs{Symbol,Bool,Tuple{Symbol},NamedTuple{(:define,),Tuple{Bool}}}, ::Function, ::Any, ::Revise.CodeTrackingMethodInfo, ::Dict{Module,Array{Expr,1}}, ::Module, ::Expr\u001b[1m)\u001b[22m at \u001b[1m/home/abarth/.julia/packages/Revise/agmgx/src/lowered.jl:49\u001b[22m\n",
      " [14] \u001b[1m#methods_by_execution!\u001b[22m at \u001b[1m./none:0\u001b[22m [inlined]\n",
      " [15] \u001b[1m#eval_with_signatures#59\u001b[22m at \u001b[1m/home/abarth/.julia/packages/Revise/agmgx/src/Revise.jl:344\u001b[22m [inlined]\n",
      " [16] \u001b[1m#eval_with_signatures\u001b[22m at \u001b[1m./none:0\u001b[22m [inlined]\n",
      " [17] \u001b[1m#instantiate_sigs!#60\u001b[22m\u001b[1m(\u001b[22m::Bool, ::Base.Iterators.Pairs{Union{},Union{},Tuple{},NamedTuple{(),Tuple{}}}, ::Function, ::OrderedCollections.OrderedDict{Module,OrderedCollections.OrderedDict{Revise.RelocatableExpr,Union{Nothing, Array{Any,1}}}}\u001b[1m)\u001b[22m at \u001b[1m/home/abarth/.julia/packages/Revise/agmgx/src/Revise.jl:352\u001b[22m\n",
      " [18] \u001b[1minstantiate_sigs!\u001b[22m at \u001b[1m/home/abarth/.julia/packages/Revise/agmgx/src/Revise.jl:349\u001b[22m [inlined]\n",
      " [19] \u001b[1mmaybe_parse_from_cache!\u001b[22m\u001b[1m(\u001b[22m::Revise.PkgData, ::String\u001b[1m)\u001b[22m at \u001b[1m/home/abarth/.julia/packages/Revise/agmgx/src/pkgs.jl:224\u001b[22m\n",
      " [20] \u001b[1m(::getfield(Revise, Symbol(\"##26#27\")){String})\u001b[22m\u001b[1m(\u001b[22m\u001b[1m)\u001b[22m at \u001b[1m/home/abarth/.julia/packages/Revise/agmgx/src/pkgs.jl:370\u001b[22m\n",
      " [21] \u001b[1mwith_logstate\u001b[22m\u001b[1m(\u001b[22m::getfield(Revise, Symbol(\"##26#27\")){String}, ::Base.CoreLogging.LogState\u001b[1m)\u001b[22m at \u001b[1m./logging.jl:395\u001b[22m\n",
      " [22] \u001b[1mwith_logger\u001b[22m at \u001b[1m./logging.jl:491\u001b[22m [inlined]\n",
      " [23] \u001b[1mwatch_manifest\u001b[22m\u001b[1m(\u001b[22m::String\u001b[1m)\u001b[22m at \u001b[1m/home/abarth/.julia/packages/Revise/agmgx/src/pkgs.jl:349\u001b[22m\n",
      " [24] \u001b[1m(::Revise.Rescheduler{typeof(Revise.watch_manifest),Tuple{String}})\u001b[22m\u001b[1m(\u001b[22m\u001b[1m)\u001b[22m at \u001b[1m/home/abarth/.julia/packages/Revise/agmgx/src/types.jl:235\u001b[22m\n",
      "while evaluating\n",
      "function _methoddefs!(#= /home/abarth/.julia/packages/LoweredCodeUtils/6EZqd/src/LoweredCodeUtils.jl:467 =# @nospecialize(recurse), signatures, frame::Frame, pc; define=define)\n",
      "    #= /home/abarth/.julia/packages/LoweredCodeUtils/6EZqd/src/LoweredCodeUtils.jl:468 =#\n",
      "    while pc !== nothing\n",
      "        #= /home/abarth/.julia/packages/LoweredCodeUtils/6EZqd/src/LoweredCodeUtils.jl:469 =#\n",
      "        stmt = pc_expr(frame, pc)\n",
      "        #= /home/abarth/.julia/packages/LoweredCodeUtils/6EZqd/src/LoweredCodeUtils.jl:470 =#\n",
      "        if !(ismethod(stmt))\n",
      "            #= /home/abarth/.julia/packages/LoweredCodeUtils/6EZqd/src/LoweredCodeUtils.jl:471 =#\n",
      "            pc = next_until!(ismethod, recurse, frame, true)\n",
      "        end\n",
      "        #= /home/abarth/.julia/packages/LoweredCodeUtils/6EZqd/src/LoweredCodeUtils.jl:473 =#\n",
      "        pc === nothing && break\n",
      "        #= /home/abarth/.julia/packages/LoweredCodeUtils/6EZqd/src/LoweredCodeUtils.jl:474 =#\n",
      "        ret = methoddef!(recurse, signatures, frame, pc; define=define)\n",
      "        #= /home/abarth/.julia/packages/LoweredCodeUtils/6EZqd/src/LoweredCodeUtils.jl:475 =#\n",
      "        pc = if ret === nothing\n",
      "                ret\n",
      "            else\n",
      "                ret[1]\n",
      "            end\n",
      "    end\n",
      "    #= /home/abarth/.julia/packages/LoweredCodeUtils/6EZqd/src/LoweredCodeUtils.jl:477 =#\n",
      "    return pc\n",
      "end\n",
      "in module Main.LoweredCodeUtils\n",
      "\u001b[91mUndefVarError: Lexers not defined\u001b[39m\n",
      "Stacktrace:\n",
      " [1] \u001b[1meval\u001b[22m at \u001b[1m./boot.jl:319\u001b[22m [inlined]\n",
      " [2] \u001b[1mprepare_thunk\u001b[22m\u001b[1m(\u001b[22m::Module, ::Expr, ::Bool\u001b[1m)\u001b[22m at \u001b[1m/home/abarth/.julia/packages/JuliaInterpreter/Or807/src/construct.jl:355\u001b[22m\n",
      " [3] \u001b[1mprepare_thunk\u001b[22m\u001b[1m(\u001b[22m::Module, ::Expr, ::Bool\u001b[1m)\u001b[22m at \u001b[1m/home/abarth/.julia/packages/JuliaInterpreter/Or807/src/construct.jl:361\u001b[22m\n",
      " [4] \u001b[1mprepare_thunk\u001b[22m at \u001b[1m/home/abarth/.julia/packages/JuliaInterpreter/Or807/src/construct.jl:347\u001b[22m [inlined]\n",
      " [5] \u001b[1m#methods_by_execution!#9\u001b[22m\u001b[1m(\u001b[22m::Base.Iterators.Pairs{Symbol,Bool,Tuple{Symbol},NamedTuple{(:define,),Tuple{Bool}}}, ::Function, ::Any, ::Revise.CodeTrackingMethodInfo, ::Dict{Module,Array{Expr,1}}, ::Module, ::Expr\u001b[1m)\u001b[22m at \u001b[1m/home/abarth/.julia/packages/Revise/agmgx/src/lowered.jl:47\u001b[22m\n",
      " [6] \u001b[1m#methods_by_execution!\u001b[22m at \u001b[1m./none:0\u001b[22m [inlined]\n",
      " [7] \u001b[1m#eval_with_signatures#59\u001b[22m at \u001b[1m/home/abarth/.julia/packages/Revise/agmgx/src/Revise.jl:344\u001b[22m [inlined]\n",
      " [8] \u001b[1m#eval_with_signatures\u001b[22m at \u001b[1m./none:0\u001b[22m [inlined]\n",
      " [9] \u001b[1m#instantiate_sigs!#60\u001b[22m\u001b[1m(\u001b[22m::Bool, ::Base.Iterators.Pairs{Union{},Union{},Tuple{},NamedTuple{(),Tuple{}}}, ::Function, ::OrderedCollections.OrderedDict{Module,OrderedCollections.OrderedDict{Revise.RelocatableExpr,Union{Nothing, Array{Any,1}}}}\u001b[1m)\u001b[22m at \u001b[1m/home/abarth/.julia/packages/Revise/agmgx/src/Revise.jl:352\u001b[22m\n",
      " [10] \u001b[1minstantiate_sigs!\u001b[22m at \u001b[1m/home/abarth/.julia/packages/Revise/agmgx/src/Revise.jl:349\u001b[22m [inlined]\n",
      " [11] \u001b[1mmaybe_parse_from_cache!\u001b[22m\u001b[1m(\u001b[22m::Revise.PkgData, ::String\u001b[1m)\u001b[22m at \u001b[1m/home/abarth/.julia/packages/Revise/agmgx/src/pkgs.jl:224\u001b[22m\n",
      " [12] \u001b[1m(::getfield(Revise, Symbol(\"##26#27\")){String})\u001b[22m\u001b[1m(\u001b[22m\u001b[1m)\u001b[22m at \u001b[1m/home/abarth/.julia/packages/Revise/agmgx/src/pkgs.jl:370\u001b[22m\n",
      " [13] \u001b[1mwith_logstate\u001b[22m\u001b[1m(\u001b[22m::getfield(Revise, Symbol(\"##26#27\")){String}, ::Base.CoreLogging.LogState\u001b[1m)\u001b[22m at \u001b[1m./logging.jl:395\u001b[22m\n",
      " [14] \u001b[1mwith_logger\u001b[22m at \u001b[1m./logging.jl:491\u001b[22m [inlined]\n",
      " [15] \u001b[1mwatch_manifest\u001b[22m\u001b[1m(\u001b[22m::String\u001b[1m)\u001b[22m at \u001b[1m/home/abarth/.julia/packages/Revise/agmgx/src/pkgs.jl:349\u001b[22m\n",
      " [16] \u001b[1m(::Revise.Rescheduler{typeof(Revise.watch_manifest),Tuple{String}})\u001b[22m\u001b[1m(\u001b[22m\u001b[1m)\u001b[22m at \u001b[1m/home/abarth/.julia/packages/Revise/agmgx/src/types.jl:235\u001b[22m\n",
      "while evaluating\n",
      "import .Lexers: tokenize\n",
      "in module Main.Tokenize\n",
      "\u001b[91mUndefVarError: Tokens not defined\u001b[39m\n",
      "Stacktrace:\n",
      " [1] \u001b[1meval\u001b[22m at \u001b[1m./boot.jl:319\u001b[22m [inlined]\n",
      " [2] \u001b[1mprepare_thunk\u001b[22m\u001b[1m(\u001b[22m::Module, ::Expr, ::Bool\u001b[1m)\u001b[22m at \u001b[1m/home/abarth/.julia/packages/JuliaInterpreter/Or807/src/construct.jl:355\u001b[22m\n",
      " [3] \u001b[1mprepare_thunk\u001b[22m\u001b[1m(\u001b[22m::Module, ::Expr, ::Bool\u001b[1m)\u001b[22m at \u001b[1m/home/abarth/.julia/packages/JuliaInterpreter/Or807/src/construct.jl:361\u001b[22m\n",
      " [4] \u001b[1mprepare_thunk\u001b[22m at \u001b[1m/home/abarth/.julia/packages/JuliaInterpreter/Or807/src/construct.jl:347\u001b[22m [inlined]\n",
      " [5] \u001b[1m#methods_by_execution!#9\u001b[22m\u001b[1m(\u001b[22m::Base.Iterators.Pairs{Symbol,Bool,Tuple{Symbol},NamedTuple{(:define,),Tuple{Bool}}}, ::Function, ::Any, ::Revise.CodeTrackingMethodInfo, ::Dict{Module,Array{Expr,1}}, ::Module, ::Expr\u001b[1m)\u001b[22m at \u001b[1m/home/abarth/.julia/packages/Revise/agmgx/src/lowered.jl:47\u001b[22m\n",
      " [6] \u001b[1m#methods_by_execution!\u001b[22m at \u001b[1m./none:0\u001b[22m [inlined]\n",
      " [7] \u001b[1m#eval_with_signatures#59\u001b[22m at \u001b[1m/home/abarth/.julia/packages/Revise/agmgx/src/Revise.jl:344\u001b[22m [inlined]\n",
      " [8] \u001b[1m#eval_with_signatures\u001b[22m at \u001b[1m./none:0\u001b[22m [inlined]\n",
      " [9] \u001b[1m#instantiate_sigs!#60\u001b[22m\u001b[1m(\u001b[22m::Bool, ::Base.Iterators.Pairs{Union{},Union{},Tuple{},NamedTuple{(),Tuple{}}}, ::Function, ::OrderedCollections.OrderedDict{Module,OrderedCollections.OrderedDict{Revise.RelocatableExpr,Union{Nothing, Array{Any,1}}}}\u001b[1m)\u001b[22m at \u001b[1m/home/abarth/.julia/packages/Revise/agmgx/src/Revise.jl:352\u001b[22m\n",
      " [10] \u001b[1minstantiate_sigs!\u001b[22m at \u001b[1m/home/abarth/.julia/packages/Revise/agmgx/src/Revise.jl:349\u001b[22m [inlined]\n",
      " [11] \u001b[1mmaybe_parse_from_cache!\u001b[22m\u001b[1m(\u001b[22m::Revise.PkgData, ::String\u001b[1m)\u001b[22m at \u001b[1m/home/abarth/.julia/packages/Revise/agmgx/src/pkgs.jl:224\u001b[22m\n",
      " [12] \u001b[1m(::getfield(Revise, Symbol(\"##26#27\")){String})\u001b[22m\u001b[1m(\u001b[22m\u001b[1m)\u001b[22m at \u001b[1m/home/abarth/.julia/packages/Revise/agmgx/src/pkgs.jl:370\u001b[22m\n",
      " [13] \u001b[1mwith_logstate\u001b[22m\u001b[1m(\u001b[22m::getfield(Revise, Symbol(\"##26#27\")){String}, ::Base.CoreLogging.LogState\u001b[1m)\u001b[22m at \u001b[1m./logging.jl:395\u001b[22m\n",
      " [14] \u001b[1mwith_logger\u001b[22m at \u001b[1m./logging.jl:491\u001b[22m [inlined]\n",
      " [15] \u001b[1mwatch_manifest\u001b[22m\u001b[1m(\u001b[22m::String\u001b[1m)\u001b[22m at \u001b[1m/home/abarth/.julia/packages/Revise/agmgx/src/pkgs.jl:349\u001b[22m\n",
      " [16] \u001b[1m(::Revise.Rescheduler{typeof(Revise.watch_manifest),Tuple{String}})\u001b[22m\u001b[1m(\u001b[22m\u001b[1m)\u001b[22m at \u001b[1m/home/abarth/.julia/packages/Revise/agmgx/src/types.jl:235\u001b[22m\n",
      "while evaluating\n",
      "import .Tokens: untokenize\n",
      "in module Main.Tokenize\n",
      "\u001b[91mUndefVarError: _precompile_ not defined\u001b[39m\n",
      "Stacktrace:\n",
      " [1] \u001b[1mmacro expansion\u001b[22m at \u001b[1m/home/abarth/.julia/packages/JuliaInterpreter/Or807/src/interpret.jl:64\u001b[22m [inlined]\n",
      " [2] \u001b[1m#methods_by_execution!#14\u001b[22m\u001b[1m(\u001b[22m::Bool, ::Bool, ::Function, ::Any, ::Revise.CodeTrackingMethodInfo, ::Dict{Module,Array{Expr,1}}, ::JuliaInterpreter.Frame\u001b[1m)\u001b[22m at \u001b[1m/home/abarth/.julia/packages/Revise/agmgx/src/lowered.jl:125\u001b[22m\n",
      " [3] \u001b[1m#methods_by_execution!\u001b[22m at \u001b[1m./none:0\u001b[22m [inlined]\n",
      " [4] \u001b[1m#methods_by_execution!#9\u001b[22m\u001b[1m(\u001b[22m::Base.Iterators.Pairs{Symbol,Bool,Tuple{Symbol},NamedTuple{(:define,),Tuple{Bool}}}, ::Function, ::Any, ::Revise.CodeTrackingMethodInfo, ::Dict{Module,Array{Expr,1}}, ::Module, ::Expr\u001b[1m)\u001b[22m at \u001b[1m/home/abarth/.julia/packages/Revise/agmgx/src/lowered.jl:49\u001b[22m\n",
      " [5] \u001b[1m#methods_by_execution!\u001b[22m at \u001b[1m./none:0\u001b[22m [inlined]\n",
      " [6] \u001b[1m#eval_with_signatures#59\u001b[22m at \u001b[1m/home/abarth/.julia/packages/Revise/agmgx/src/Revise.jl:344\u001b[22m [inlined]\n",
      " [7] \u001b[1m#eval_with_signatures\u001b[22m at \u001b[1m./none:0\u001b[22m [inlined]\n",
      " [8] \u001b[1m#instantiate_sigs!#60\u001b[22m\u001b[1m(\u001b[22m::Bool, ::Base.Iterators.Pairs{Union{},Union{},Tuple{},NamedTuple{(),Tuple{}}}, ::Function, ::OrderedCollections.OrderedDict{Module,OrderedCollections.OrderedDict{Revise.RelocatableExpr,Union{Nothing, Array{Any,1}}}}\u001b[1m)\u001b[22m at \u001b[1m/home/abarth/.julia/packages/Revise/agmgx/src/Revise.jl:352\u001b[22m\n",
      " [9] \u001b[1minstantiate_sigs!\u001b[22m at \u001b[1m/home/abarth/.julia/packages/Revise/agmgx/src/Revise.jl:349\u001b[22m [inlined]\n",
      " [10] \u001b[1mmaybe_parse_from_cache!\u001b[22m\u001b[1m(\u001b[22m::Revise.PkgData, ::String\u001b[1m)\u001b[22m at \u001b[1m/home/abarth/.julia/packages/Revise/agmgx/src/pkgs.jl:224\u001b[22m\n",
      " [11] \u001b[1m(::getfield(Revise, Symbol(\"##26#27\")){String})\u001b[22m\u001b[1m(\u001b[22m\u001b[1m)\u001b[22m at \u001b[1m/home/abarth/.julia/packages/Revise/agmgx/src/pkgs.jl:370\u001b[22m\n",
      " [12] \u001b[1mwith_logstate\u001b[22m\u001b[1m(\u001b[22m::getfield(Revise, Symbol(\"##26#27\")){String}, ::Base.CoreLogging.LogState\u001b[1m)\u001b[22m at \u001b[1m./logging.jl:395\u001b[22m\n",
      " [13] \u001b[1mwith_logger\u001b[22m at \u001b[1m./logging.jl:491\u001b[22m [inlined]\n",
      " [14] \u001b[1mwatch_manifest\u001b[22m\u001b[1m(\u001b[22m::String\u001b[1m)\u001b[22m at \u001b[1m/home/abarth/.julia/packages/Revise/agmgx/src/pkgs.jl:349\u001b[22m\n",
      " [15] \u001b[1m(::Revise.Rescheduler{typeof(Revise.watch_manifest),Tuple{String}})\u001b[22m\u001b[1m(\u001b[22m\u001b[1m)\u001b[22m at \u001b[1m/home/abarth/.julia/packages/Revise/agmgx/src/types.jl:235\u001b[22m\n",
      "while evaluating\n",
      "_precompile_()\n",
      "in module Main.Tokenize\n"
     ]
    },
    {
     "name": "stderr",
     "output_type": "stream",
     "text": [
      "\u001b[91mUndefVarError: PkgFiles not defined\u001b[39m\n",
      "Stacktrace:\n",
      " [1] \u001b[1m#collect_args#33\u001b[22m\u001b[1m(\u001b[22m::Bool, ::Function, ::JuliaInterpreter.Frame, ::Expr\u001b[1m)\u001b[22m at \u001b[1m/home/abarth/.julia/packages/JuliaInterpreter/Or807/src/interpret.jl:64\u001b[22m\n",
      " [2] \u001b[1mcollect_args\u001b[22m at \u001b[1m/home/abarth/.julia/packages/JuliaInterpreter/Or807/src/interpret.jl:139\u001b[22m [inlined]\n",
      " [3] \u001b[1mlookup_callexpr\u001b[22m at \u001b[1m/home/abarth/.julia/packages/Revise/agmgx/src/lowered.jl:13\u001b[22m [inlined]\n",
      " [4] \u001b[1m#methods_by_execution!#14\u001b[22m\u001b[1m(\u001b[22m::Bool, ::Bool, ::Function, ::Any, ::Revise.CodeTrackingMethodInfo, ::Dict{Module,Array{Expr,1}}, ::JuliaInterpreter.Frame\u001b[1m)\u001b[22m at \u001b[1m/home/abarth/.julia/packages/Revise/agmgx/src/lowered.jl:187\u001b[22m\n",
      " [5] \u001b[1m#methods_by_execution!\u001b[22m at \u001b[1m./none:0\u001b[22m [inlined]\n",
      " [6] \u001b[1m#methods_by_execution!#9\u001b[22m\u001b[1m(\u001b[22m::Base.Iterators.Pairs{Symbol,Bool,Tuple{Symbol},NamedTuple{(:define,),Tuple{Bool}}}, ::Function, ::Any, ::Revise.CodeTrackingMethodInfo, ::Dict{Module,Array{Expr,1}}, ::Module, ::Expr\u001b[1m)\u001b[22m at \u001b[1m/home/abarth/.julia/packages/Revise/agmgx/src/lowered.jl:49\u001b[22m\n",
      " [7] \u001b[1m#methods_by_execution!\u001b[22m at \u001b[1m./none:0\u001b[22m [inlined]\n",
      " [8] \u001b[1m#eval_with_signatures#59\u001b[22m at \u001b[1m/home/abarth/.julia/packages/Revise/agmgx/src/Revise.jl:344\u001b[22m [inlined]\n",
      " [9] \u001b[1m#eval_with_signatures\u001b[22m at \u001b[1m./none:0\u001b[22m [inlined]\n",
      " [10] \u001b[1m#instantiate_sigs!#60\u001b[22m\u001b[1m(\u001b[22m::Bool, ::Base.Iterators.Pairs{Union{},Union{},Tuple{},NamedTuple{(),Tuple{}}}, ::Function, ::OrderedCollections.OrderedDict{Module,OrderedCollections.OrderedDict{Revise.RelocatableExpr,Union{Nothing, Array{Any,1}}}}\u001b[1m)\u001b[22m at \u001b[1m/home/abarth/.julia/packages/Revise/agmgx/src/Revise.jl:352\u001b[22m\n",
      " [11] \u001b[1minstantiate_sigs!\u001b[22m at \u001b[1m/home/abarth/.julia/packages/Revise/agmgx/src/Revise.jl:349\u001b[22m [inlined]\n",
      " [12] \u001b[1mmaybe_parse_from_cache!\u001b[22m\u001b[1m(\u001b[22m::Revise.PkgData, ::String\u001b[1m)\u001b[22m at \u001b[1m/home/abarth/.julia/packages/Revise/agmgx/src/pkgs.jl:224\u001b[22m\n",
      " [13] \u001b[1m(::getfield(Revise, Symbol(\"##26#27\")){String})\u001b[22m\u001b[1m(\u001b[22m\u001b[1m)\u001b[22m at \u001b[1m/home/abarth/.julia/packages/Revise/agmgx/src/pkgs.jl:370\u001b[22m\n",
      " [14] \u001b[1mwith_logstate\u001b[22m\u001b[1m(\u001b[22m::getfield(Revise, Symbol(\"##26#27\")){String}, ::Base.CoreLogging.LogState\u001b[1m)\u001b[22m at \u001b[1m./logging.jl:395\u001b[22m\n",
      " [15] \u001b[1mwith_logger\u001b[22m at \u001b[1m./logging.jl:491\u001b[22m [inlined]\n",
      " [16] \u001b[1mwatch_manifest\u001b[22m\u001b[1m(\u001b[22m::String\u001b[1m)\u001b[22m at \u001b[1m/home/abarth/.julia/packages/Revise/agmgx/src/pkgs.jl:349\u001b[22m\n",
      " [17] \u001b[1m(::Revise.Rescheduler{typeof(Revise.watch_manifest),Tuple{String}})\u001b[22m\u001b[1m(\u001b[22m\u001b[1m)\u001b[22m at \u001b[1m/home/abarth/.julia/packages/Revise/agmgx/src/types.jl:235\u001b[22m\n",
      "while evaluating\n",
      "const _pkgfiles = Dict{PkgId, PkgFiles}()\n",
      "in module Main.CodeTracking\n",
      "\u001b[91mArgumentError: Package CodeTracking not found in current path:\u001b[39m\n",
      "\u001b[91m- Run `import Pkg; Pkg.add(\"CodeTracking\")` to install the CodeTracking package.\u001b[39m\n",
      "\n",
      "Stacktrace:\n",
      " [1] \u001b[1mrequire\u001b[22m\u001b[1m(\u001b[22m::Module, ::Symbol\u001b[1m)\u001b[22m at \u001b[1m./loading.jl:823\u001b[22m\n",
      " [2] \u001b[1meval\u001b[22m at \u001b[1m./boot.jl:319\u001b[22m [inlined]\n",
      " [3] \u001b[1mprepare_thunk\u001b[22m\u001b[1m(\u001b[22m::Module, ::Expr, ::Bool\u001b[1m)\u001b[22m at \u001b[1m/home/abarth/.julia/packages/JuliaInterpreter/Or807/src/construct.jl:355\u001b[22m\n",
      " [4] \u001b[1mprepare_thunk\u001b[22m\u001b[1m(\u001b[22m::Module, ::Expr, ::Bool\u001b[1m)\u001b[22m at \u001b[1m/home/abarth/.julia/packages/JuliaInterpreter/Or807/src/construct.jl:361\u001b[22m\n",
      " [5] \u001b[1mprepare_thunk\u001b[22m at \u001b[1m/home/abarth/.julia/packages/JuliaInterpreter/Or807/src/construct.jl:347\u001b[22m [inlined]\n",
      " [6] \u001b[1m#methods_by_execution!#9\u001b[22m\u001b[1m(\u001b[22m::Base.Iterators.Pairs{Symbol,Bool,Tuple{Symbol},NamedTuple{(:define,),Tuple{Bool}}}, ::Function, ::Any, ::Revise.CodeTrackingMethodInfo, ::Dict{Module,Array{Expr,1}}, ::Module, ::Expr\u001b[1m)\u001b[22m at \u001b[1m/home/abarth/.julia/packages/Revise/agmgx/src/lowered.jl:47\u001b[22m\n",
      " [7] \u001b[1m#methods_by_execution!\u001b[22m at \u001b[1m./none:0\u001b[22m [inlined]\n",
      " [8] \u001b[1m#eval_with_signatures#59\u001b[22m at \u001b[1m/home/abarth/.julia/packages/Revise/agmgx/src/Revise.jl:344\u001b[22m [inlined]\n",
      " [9] \u001b[1m#eval_with_signatures\u001b[22m at \u001b[1m./none:0\u001b[22m [inlined]\n",
      " [10] \u001b[1m#instantiate_sigs!#60\u001b[22m\u001b[1m(\u001b[22m::Bool, ::Base.Iterators.Pairs{Union{},Union{},Tuple{},NamedTuple{(),Tuple{}}}, ::Function, ::OrderedCollections.OrderedDict{Module,OrderedCollections.OrderedDict{Revise.RelocatableExpr,Union{Nothing, Array{Any,1}}}}\u001b[1m)\u001b[22m at \u001b[1m/home/abarth/.julia/packages/Revise/agmgx/src/Revise.jl:352\u001b[22m\n",
      " [11] \u001b[1minstantiate_sigs!\u001b[22m at \u001b[1m/home/abarth/.julia/packages/Revise/agmgx/src/Revise.jl:349\u001b[22m [inlined]\n",
      " [12] \u001b[1mmaybe_parse_from_cache!\u001b[22m\u001b[1m(\u001b[22m::Revise.PkgData, ::String\u001b[1m)\u001b[22m at \u001b[1m/home/abarth/.julia/packages/Revise/agmgx/src/pkgs.jl:224\u001b[22m\n",
      " [13] \u001b[1m(::getfield(Revise, Symbol(\"##26#27\")){String})\u001b[22m\u001b[1m(\u001b[22m\u001b[1m)\u001b[22m at \u001b[1m/home/abarth/.julia/packages/Revise/agmgx/src/pkgs.jl:370\u001b[22m\n",
      " [14] \u001b[1mwith_logstate\u001b[22m\u001b[1m(\u001b[22m::getfield(Revise, Symbol(\"##26#27\")){String}, ::Base.CoreLogging.LogState\u001b[1m)\u001b[22m at \u001b[1m./logging.jl:395\u001b[22m\n",
      " [15] \u001b[1mwith_logger\u001b[22m at \u001b[1m./logging.jl:491\u001b[22m [inlined]\n",
      " [16] \u001b[1mwatch_manifest\u001b[22m\u001b[1m(\u001b[22m::String\u001b[1m)\u001b[22m at \u001b[1m/home/abarth/.julia/packages/Revise/agmgx/src/pkgs.jl:349\u001b[22m\n",
      " [17] \u001b[1m(::Revise.Rescheduler{typeof(Revise.watch_manifest),Tuple{String}})\u001b[22m\u001b[1m(\u001b[22m\u001b[1m)\u001b[22m at \u001b[1m/home/abarth/.julia/packages/Revise/agmgx/src/types.jl:235\u001b[22m\n",
      "while evaluating\n",
      "using CodeTracking\n",
      "in module Main.JuliaInterpreter\n",
      "\u001b[91mUndefVarError: _precompile_ not defined\u001b[39m\n",
      "Stacktrace:\n",
      " [1] \u001b[1mmacro expansion\u001b[22m at \u001b[1m/home/abarth/.julia/packages/JuliaInterpreter/Or807/src/interpret.jl:64\u001b[22m [inlined]\n",
      " [2] \u001b[1m#methods_by_execution!#14\u001b[22m\u001b[1m(\u001b[22m::Bool, ::Bool, ::Function, ::Any, ::Revise.CodeTrackingMethodInfo, ::Dict{Module,Array{Expr,1}}, ::JuliaInterpreter.Frame\u001b[1m)\u001b[22m at \u001b[1m/home/abarth/.julia/packages/Revise/agmgx/src/lowered.jl:125\u001b[22m\n",
      " [3] \u001b[1m#methods_by_execution!\u001b[22m at \u001b[1m./none:0\u001b[22m [inlined]\n",
      " [4] \u001b[1m#methods_by_execution!#9\u001b[22m\u001b[1m(\u001b[22m::Base.Iterators.Pairs{Symbol,Bool,Tuple{Symbol},NamedTuple{(:define,),Tuple{Bool}}}, ::Function, ::Any, ::Revise.CodeTrackingMethodInfo, ::Dict{Module,Array{Expr,1}}, ::Module, ::Expr\u001b[1m)\u001b[22m at \u001b[1m/home/abarth/.julia/packages/Revise/agmgx/src/lowered.jl:49\u001b[22m\n",
      " [5] \u001b[1m#methods_by_execution!\u001b[22m at \u001b[1m./none:0\u001b[22m [inlined]\n",
      " [6] \u001b[1m#eval_with_signatures#59\u001b[22m at \u001b[1m/home/abarth/.julia/packages/Revise/agmgx/src/Revise.jl:344\u001b[22m [inlined]\n",
      " [7] \u001b[1m#eval_with_signatures\u001b[22m at \u001b[1m./none:0\u001b[22m [inlined]\n",
      " [8] \u001b[1m#instantiate_sigs!#60\u001b[22m\u001b[1m(\u001b[22m::Bool, ::Base.Iterators.Pairs{Union{},Union{},Tuple{},NamedTuple{(),Tuple{}}}, ::Function, ::OrderedCollections.OrderedDict{Module,OrderedCollections.OrderedDict{Revise.RelocatableExpr,Union{Nothing, Array{Any,1}}}}\u001b[1m)\u001b[22m at \u001b[1m/home/abarth/.julia/packages/Revise/agmgx/src/Revise.jl:352\u001b[22m\n",
      " [9] \u001b[1minstantiate_sigs!\u001b[22m at \u001b[1m/home/abarth/.julia/packages/Revise/agmgx/src/Revise.jl:349\u001b[22m [inlined]\n",
      " [10] \u001b[1mmaybe_parse_from_cache!\u001b[22m\u001b[1m(\u001b[22m::Revise.PkgData, ::String\u001b[1m)\u001b[22m at \u001b[1m/home/abarth/.julia/packages/Revise/agmgx/src/pkgs.jl:224\u001b[22m\n",
      " [11] \u001b[1m(::getfield(Revise, Symbol(\"##26#27\")){String})\u001b[22m\u001b[1m(\u001b[22m\u001b[1m)\u001b[22m at \u001b[1m/home/abarth/.julia/packages/Revise/agmgx/src/pkgs.jl:370\u001b[22m\n",
      " [12] \u001b[1mwith_logstate\u001b[22m\u001b[1m(\u001b[22m::getfield(Revise, Symbol(\"##26#27\")){String}, ::Base.CoreLogging.LogState\u001b[1m)\u001b[22m at \u001b[1m./logging.jl:395\u001b[22m\n",
      " [13] \u001b[1mwith_logger\u001b[22m at \u001b[1m./logging.jl:491\u001b[22m [inlined]\n",
      " [14] \u001b[1mwatch_manifest\u001b[22m\u001b[1m(\u001b[22m::String\u001b[1m)\u001b[22m at \u001b[1m/home/abarth/.julia/packages/Revise/agmgx/src/pkgs.jl:349\u001b[22m\n",
      " [15] \u001b[1m(::Revise.Rescheduler{typeof(Revise.watch_manifest),Tuple{String}})\u001b[22m\u001b[1m(\u001b[22m\u001b[1m)\u001b[22m at \u001b[1m/home/abarth/.julia/packages/Revise/agmgx/src/types.jl:235\u001b[22m\n",
      "while evaluating\n",
      "_precompile_()\n",
      "in module Main.JuliaInterpreter\n",
      "\u001b[91mArgumentError: Package Tokenize not found in current path:\u001b[39m\n",
      "\u001b[91m- Run `import Pkg; Pkg.add(\"Tokenize\")` to install the Tokenize package.\u001b[39m\n",
      "\n",
      "Stacktrace:\n",
      " [1] \u001b[1mrequire\u001b[22m\u001b[1m(\u001b[22m::Module, ::Symbol\u001b[1m)\u001b[22m at \u001b[1m./loading.jl:823\u001b[22m\n",
      " [2] \u001b[1meval\u001b[22m at \u001b[1m./boot.jl:319\u001b[22m [inlined]\n",
      " [3] \u001b[1mprepare_thunk\u001b[22m\u001b[1m(\u001b[22m::Module, ::Expr, ::Bool\u001b[1m)\u001b[22m at \u001b[1m/home/abarth/.julia/packages/JuliaInterpreter/Or807/src/construct.jl:355\u001b[22m\n",
      " [4] \u001b[1mprepare_thunk\u001b[22m\u001b[1m(\u001b[22m::Module, ::Expr, ::Bool\u001b[1m)\u001b[22m at \u001b[1m/home/abarth/.julia/packages/JuliaInterpreter/Or807/src/construct.jl:361\u001b[22m\n",
      " [5] \u001b[1mprepare_thunk\u001b[22m at \u001b[1m/home/abarth/.julia/packages/JuliaInterpreter/Or807/src/construct.jl:347\u001b[22m [inlined]\n",
      " [6] \u001b[1m#methods_by_execution!#9\u001b[22m\u001b[1m(\u001b[22m::Base.Iterators.Pairs{Symbol,Bool,Tuple{Symbol},NamedTuple{(:define,),Tuple{Bool}}}, ::Function, ::Any, ::Revise.CodeTrackingMethodInfo, ::Dict{Module,Array{Expr,1}}, ::Module, ::Expr\u001b[1m)\u001b[22m at \u001b[1m/home/abarth/.julia/packages/Revise/agmgx/src/lowered.jl:47\u001b[22m\n",
      " [7] \u001b[1m#methods_by_execution!\u001b[22m at \u001b[1m./none:0\u001b[22m [inlined]\n",
      " [8] \u001b[1m#eval_with_signatures#59\u001b[22m at \u001b[1m/home/abarth/.julia/packages/Revise/agmgx/src/Revise.jl:344\u001b[22m [inlined]\n",
      " [9] \u001b[1m#eval_with_signatures\u001b[22m at \u001b[1m./none:0\u001b[22m [inlined]\n",
      " [10] \u001b[1m#instantiate_sigs!#60\u001b[22m\u001b[1m(\u001b[22m::Bool, ::Base.Iterators.Pairs{Union{},Union{},Tuple{},NamedTuple{(),Tuple{}}}, ::Function, ::OrderedCollections.OrderedDict{Module,OrderedCollections.OrderedDict{Revise.RelocatableExpr,Union{Nothing, Array{Any,1}}}}\u001b[1m)\u001b[22m at \u001b[1m/home/abarth/.julia/packages/Revise/agmgx/src/Revise.jl:352\u001b[22m\n",
      " [11] \u001b[1minstantiate_sigs!\u001b[22m at \u001b[1m/home/abarth/.julia/packages/Revise/agmgx/src/Revise.jl:349\u001b[22m [inlined]\n",
      " [12] \u001b[1mmaybe_parse_from_cache!\u001b[22m\u001b[1m(\u001b[22m::Revise.PkgData, ::String\u001b[1m)\u001b[22m at \u001b[1m/home/abarth/.julia/packages/Revise/agmgx/src/pkgs.jl:224\u001b[22m\n",
      " [13] \u001b[1m(::getfield(Revise, Symbol(\"##26#27\")){String})\u001b[22m\u001b[1m(\u001b[22m\u001b[1m)\u001b[22m at \u001b[1m/home/abarth/.julia/packages/Revise/agmgx/src/pkgs.jl:370\u001b[22m\n",
      " [14] \u001b[1mwith_logstate\u001b[22m\u001b[1m(\u001b[22m::getfield(Revise, Symbol(\"##26#27\")){String}, ::Base.CoreLogging.LogState\u001b[1m)\u001b[22m at \u001b[1m./logging.jl:395\u001b[22m\n",
      " [15] \u001b[1mwith_logger\u001b[22m at \u001b[1m./logging.jl:491\u001b[22m [inlined]\n",
      " [16] \u001b[1mwatch_manifest\u001b[22m\u001b[1m(\u001b[22m::String\u001b[1m)\u001b[22m at \u001b[1m/home/abarth/.julia/packages/Revise/agmgx/src/pkgs.jl:349\u001b[22m\n",
      " [17] \u001b[1m(::Revise.Rescheduler{typeof(Revise.watch_manifest),Tuple{String}})\u001b[22m\u001b[1m(\u001b[22m\u001b[1m)\u001b[22m at \u001b[1m/home/abarth/.julia/packages/Revise/agmgx/src/types.jl:235\u001b[22m\n",
      "while evaluating\n",
      "using Tokenize\n",
      "in module Main.CSTParser\n",
      "\u001b[91mArgumentError: Package Tokenize not found in current path:\u001b[39m\n",
      "\u001b[91m- Run `import Pkg; Pkg.add(\"Tokenize\")` to install the Tokenize package.\u001b[39m\n",
      "\n",
      "Stacktrace:\n",
      " [1] \u001b[1mrequire\u001b[22m\u001b[1m(\u001b[22m::Module, ::Symbol\u001b[1m)\u001b[22m at \u001b[1m./loading.jl:823\u001b[22m\n",
      " [2] \u001b[1meval\u001b[22m at \u001b[1m./boot.jl:319\u001b[22m [inlined]\n",
      " [3] \u001b[1mprepare_thunk\u001b[22m\u001b[1m(\u001b[22m::Module, ::Expr, ::Bool\u001b[1m)\u001b[22m at \u001b[1m/home/abarth/.julia/packages/JuliaInterpreter/Or807/src/construct.jl:355\u001b[22m\n",
      " [4] \u001b[1mprepare_thunk\u001b[22m\u001b[1m(\u001b[22m::Module, ::Expr, ::Bool\u001b[1m)\u001b[22m at \u001b[1m/home/abarth/.julia/packages/JuliaInterpreter/Or807/src/construct.jl:361\u001b[22m\n",
      " [5] \u001b[1mprepare_thunk\u001b[22m at \u001b[1m/home/abarth/.julia/packages/JuliaInterpreter/Or807/src/construct.jl:347\u001b[22m [inlined]\n",
      " [6] \u001b[1m#methods_by_execution!#9\u001b[22m\u001b[1m(\u001b[22m::Base.Iterators.Pairs{Symbol,Bool,Tuple{Symbol},NamedTuple{(:define,),Tuple{Bool}}}, ::Function, ::Any, ::Revise.CodeTrackingMethodInfo, ::Dict{Module,Array{Expr,1}}, ::Module, ::Expr\u001b[1m)\u001b[22m at \u001b[1m/home/abarth/.julia/packages/Revise/agmgx/src/lowered.jl:47\u001b[22m\n",
      " [7] \u001b[1m#methods_by_execution!\u001b[22m at \u001b[1m./none:0\u001b[22m [inlined]\n",
      " [8] \u001b[1m#eval_with_signatures#59\u001b[22m at \u001b[1m/home/abarth/.julia/packages/Revise/agmgx/src/Revise.jl:344\u001b[22m [inlined]\n",
      " [9] \u001b[1m#eval_with_signatures\u001b[22m at \u001b[1m./none:0\u001b[22m [inlined]\n",
      " [10] \u001b[1m#instantiate_sigs!#60\u001b[22m\u001b[1m(\u001b[22m::Bool, ::Base.Iterators.Pairs{Union{},Union{},Tuple{},NamedTuple{(),Tuple{}}}, ::Function, ::OrderedCollections.OrderedDict{Module,OrderedCollections.OrderedDict{Revise.RelocatableExpr,Union{Nothing, Array{Any,1}}}}\u001b[1m)\u001b[22m at \u001b[1m/home/abarth/.julia/packages/Revise/agmgx/src/Revise.jl:352\u001b[22m\n",
      " [11] \u001b[1minstantiate_sigs!\u001b[22m at \u001b[1m/home/abarth/.julia/packages/Revise/agmgx/src/Revise.jl:349\u001b[22m [inlined]\n",
      " [12] \u001b[1mmaybe_parse_from_cache!\u001b[22m\u001b[1m(\u001b[22m::Revise.PkgData, ::String\u001b[1m)\u001b[22m at \u001b[1m/home/abarth/.julia/packages/Revise/agmgx/src/pkgs.jl:224\u001b[22m\n",
      " [13] \u001b[1m(::getfield(Revise, Symbol(\"##26#27\")){String})\u001b[22m\u001b[1m(\u001b[22m\u001b[1m)\u001b[22m at \u001b[1m/home/abarth/.julia/packages/Revise/agmgx/src/pkgs.jl:370\u001b[22m\n",
      " [14] \u001b[1mwith_logstate\u001b[22m\u001b[1m(\u001b[22m::getfield(Revise, Symbol(\"##26#27\")){String}, ::Base.CoreLogging.LogState\u001b[1m)\u001b[22m at \u001b[1m./logging.jl:395\u001b[22m\n",
      " [15] \u001b[1mwith_logger\u001b[22m at \u001b[1m./logging.jl:491\u001b[22m [inlined]\n",
      " [16] \u001b[1mwatch_manifest\u001b[22m\u001b[1m(\u001b[22m::String\u001b[1m)\u001b[22m at \u001b[1m/home/abarth/.julia/packages/Revise/agmgx/src/pkgs.jl:349\u001b[22m\n",
      " [17] \u001b[1m(::Revise.Rescheduler{typeof(Revise.watch_manifest),Tuple{String}})\u001b[22m\u001b[1m(\u001b[22m\u001b[1m)\u001b[22m at \u001b[1m/home/abarth/.julia/packages/Revise/agmgx/src/types.jl:235\u001b[22m\n",
      "while evaluating\n",
      "import Tokenize.Tokens\n",
      "in module Main.CSTParser\n",
      "\u001b[91mArgumentError: Package Tokenize not found in current path:\u001b[39m\n",
      "\u001b[91m- Run `import Pkg; Pkg.add(\"Tokenize\")` to install the Tokenize package.\u001b[39m\n",
      "\n",
      "Stacktrace:\n",
      " [1] \u001b[1mrequire\u001b[22m\u001b[1m(\u001b[22m::Module, ::Symbol\u001b[1m)\u001b[22m at \u001b[1m./loading.jl:823\u001b[22m\n",
      " [2] \u001b[1meval\u001b[22m at \u001b[1m./boot.jl:319\u001b[22m [inlined]\n",
      " [3] \u001b[1mprepare_thunk\u001b[22m\u001b[1m(\u001b[22m::Module, ::Expr, ::Bool\u001b[1m)\u001b[22m at \u001b[1m/home/abarth/.julia/packages/JuliaInterpreter/Or807/src/construct.jl:355\u001b[22m\n",
      " [4] \u001b[1mprepare_thunk\u001b[22m\u001b[1m(\u001b[22m::Module, ::Expr, ::Bool\u001b[1m)\u001b[22m at \u001b[1m/home/abarth/.julia/packages/JuliaInterpreter/Or807/src/construct.jl:361\u001b[22m\n",
      " [5] \u001b[1mprepare_thunk\u001b[22m at \u001b[1m/home/abarth/.julia/packages/JuliaInterpreter/Or807/src/construct.jl:347\u001b[22m [inlined]\n",
      " [6] \u001b[1m#methods_by_execution!#9\u001b[22m\u001b[1m(\u001b[22m::Base.Iterators.Pairs{Symbol,Bool,Tuple{Symbol},NamedTuple{(:define,),Tuple{Bool}}}, ::Function, ::Any, ::Revise.CodeTrackingMethodInfo, ::Dict{Module,Array{Expr,1}}, ::Module, ::Expr\u001b[1m)\u001b[22m at \u001b[1m/home/abarth/.julia/packages/Revise/agmgx/src/lowered.jl:47\u001b[22m\n",
      " [7] \u001b[1m#methods_by_execution!\u001b[22m at \u001b[1m./none:0\u001b[22m [inlined]\n",
      " [8] \u001b[1m#eval_with_signatures#59\u001b[22m at \u001b[1m/home/abarth/.julia/packages/Revise/agmgx/src/Revise.jl:344\u001b[22m [inlined]\n",
      " [9] \u001b[1m#eval_with_signatures\u001b[22m at \u001b[1m./none:0\u001b[22m [inlined]\n",
      " [10] \u001b[1m#instantiate_sigs!#60\u001b[22m\u001b[1m(\u001b[22m::Bool, ::Base.Iterators.Pairs{Union{},Union{},Tuple{},NamedTuple{(),Tuple{}}}, ::Function, ::OrderedCollections.OrderedDict{Module,OrderedCollections.OrderedDict{Revise.RelocatableExpr,Union{Nothing, Array{Any,1}}}}\u001b[1m)\u001b[22m at \u001b[1m/home/abarth/.julia/packages/Revise/agmgx/src/Revise.jl:352\u001b[22m\n",
      " [11] \u001b[1minstantiate_sigs!\u001b[22m at \u001b[1m/home/abarth/.julia/packages/Revise/agmgx/src/Revise.jl:349\u001b[22m [inlined]\n",
      " [12] \u001b[1mmaybe_parse_from_cache!\u001b[22m\u001b[1m(\u001b[22m::Revise.PkgData, ::String\u001b[1m)\u001b[22m at \u001b[1m/home/abarth/.julia/packages/Revise/agmgx/src/pkgs.jl:224\u001b[22m\n",
      " [13] \u001b[1m(::getfield(Revise, Symbol(\"##26#27\")){String})\u001b[22m\u001b[1m(\u001b[22m\u001b[1m)\u001b[22m at \u001b[1m/home/abarth/.julia/packages/Revise/agmgx/src/pkgs.jl:370\u001b[22m\n",
      " [14] \u001b[1mwith_logstate\u001b[22m\u001b[1m(\u001b[22m::getfield(Revise, Symbol(\"##26#27\")){String}, ::Base.CoreLogging.LogState\u001b[1m)\u001b[22m at \u001b[1m./logging.jl:395\u001b[22m\n",
      " [15] \u001b[1mwith_logger\u001b[22m at \u001b[1m./logging.jl:491\u001b[22m [inlined]\n",
      " [16] \u001b[1mwatch_manifest\u001b[22m\u001b[1m(\u001b[22m::String\u001b[1m)\u001b[22m at \u001b[1m/home/abarth/.julia/packages/Revise/agmgx/src/pkgs.jl:349\u001b[22m\n",
      " [17] \u001b[1m(::Revise.Rescheduler{typeof(Revise.watch_manifest),Tuple{String}})\u001b[22m\u001b[1m(\u001b[22m\u001b[1m)\u001b[22m at \u001b[1m/home/abarth/.julia/packages/Revise/agmgx/src/types.jl:235\u001b[22m\n",
      "while evaluating\n",
      "import Tokenize.Tokens: RawToken, AbstractToken, iskeyword, isliteral, isoperator, untokenize\n",
      "in module Main.CSTParser\n",
      "\u001b[91mArgumentError: Package Tokenize not found in current path:\u001b[39m\n",
      "\u001b[91m- Run `import Pkg; Pkg.add(\"Tokenize\")` to install the Tokenize package.\u001b[39m\n",
      "\n",
      "Stacktrace:\n",
      " [1] \u001b[1mrequire\u001b[22m\u001b[1m(\u001b[22m::Module, ::Symbol\u001b[1m)\u001b[22m at \u001b[1m./loading.jl:823\u001b[22m\n",
      " [2] \u001b[1meval\u001b[22m at \u001b[1m./boot.jl:319\u001b[22m [inlined]\n",
      " [3] \u001b[1mprepare_thunk\u001b[22m\u001b[1m(\u001b[22m::Module, ::Expr, ::Bool\u001b[1m)\u001b[22m at \u001b[1m/home/abarth/.julia/packages/JuliaInterpreter/Or807/src/construct.jl:355\u001b[22m\n",
      " [4] \u001b[1mprepare_thunk\u001b[22m\u001b[1m(\u001b[22m::Module, ::Expr, ::Bool\u001b[1m)\u001b[22m at \u001b[1m/home/abarth/.julia/packages/JuliaInterpreter/Or807/src/construct.jl:361\u001b[22m\n",
      " [5] \u001b[1mprepare_thunk\u001b[22m at \u001b[1m/home/abarth/.julia/packages/JuliaInterpreter/Or807/src/construct.jl:347\u001b[22m [inlined]\n",
      " [6] \u001b[1m#methods_by_execution!#9\u001b[22m\u001b[1m(\u001b[22m::Base.Iterators.Pairs{Symbol,Bool,Tuple{Symbol},NamedTuple{(:define,),Tuple{Bool}}}, ::Function, ::Any, ::Revise.CodeTrackingMethodInfo, ::Dict{Module,Array{Expr,1}}, ::Module, ::Expr\u001b[1m)\u001b[22m at \u001b[1m/home/abarth/.julia/packages/Revise/agmgx/src/lowered.jl:47\u001b[22m\n",
      " [7] \u001b[1m#methods_by_execution!\u001b[22m at \u001b[1m./none:0\u001b[22m [inlined]\n",
      " [8] \u001b[1m#eval_with_signatures#59\u001b[22m at \u001b[1m/home/abarth/.julia/packages/Revise/agmgx/src/Revise.jl:344\u001b[22m [inlined]\n",
      " [9] \u001b[1m#eval_with_signatures\u001b[22m at \u001b[1m./none:0\u001b[22m [inlined]\n",
      " [10] \u001b[1m#instantiate_sigs!#60\u001b[22m\u001b[1m(\u001b[22m::Bool, ::Base.Iterators.Pairs{Union{},Union{},Tuple{},NamedTuple{(),Tuple{}}}, ::Function, ::OrderedCollections.OrderedDict{Module,OrderedCollections.OrderedDict{Revise.RelocatableExpr,Union{Nothing, Array{Any,1}}}}\u001b[1m)\u001b[22m at \u001b[1m/home/abarth/.julia/packages/Revise/agmgx/src/Revise.jl:352\u001b[22m\n",
      " [11] \u001b[1minstantiate_sigs!\u001b[22m at \u001b[1m/home/abarth/.julia/packages/Revise/agmgx/src/Revise.jl:349\u001b[22m [inlined]\n",
      " [12] \u001b[1mmaybe_parse_from_cache!\u001b[22m\u001b[1m(\u001b[22m::Revise.PkgData, ::String\u001b[1m)\u001b[22m at \u001b[1m/home/abarth/.julia/packages/Revise/agmgx/src/pkgs.jl:224\u001b[22m\n",
      " [13] \u001b[1m(::getfield(Revise, Symbol(\"##26#27\")){String})\u001b[22m\u001b[1m(\u001b[22m\u001b[1m)\u001b[22m at \u001b[1m/home/abarth/.julia/packages/Revise/agmgx/src/pkgs.jl:370\u001b[22m\n"
     ]
    },
    {
     "name": "stderr",
     "output_type": "stream",
     "text": [
      " [14] \u001b[1mwith_logstate\u001b[22m\u001b[1m(\u001b[22m::getfield(Revise, Symbol(\"##26#27\")){String}, ::Base.CoreLogging.LogState\u001b[1m)\u001b[22m at \u001b[1m./logging.jl:395\u001b[22m\n",
      " [15] \u001b[1mwith_logger\u001b[22m at \u001b[1m./logging.jl:491\u001b[22m [inlined]\n",
      " [16] \u001b[1mwatch_manifest\u001b[22m\u001b[1m(\u001b[22m::String\u001b[1m)\u001b[22m at \u001b[1m/home/abarth/.julia/packages/Revise/agmgx/src/pkgs.jl:349\u001b[22m\n",
      " [17] \u001b[1m(::Revise.Rescheduler{typeof(Revise.watch_manifest),Tuple{String}})\u001b[22m\u001b[1m(\u001b[22m\u001b[1m)\u001b[22m at \u001b[1m/home/abarth/.julia/packages/Revise/agmgx/src/types.jl:235\u001b[22m\n",
      "while evaluating\n",
      "import Tokenize.Lexers: Lexer, peekchar, iswhitespace\n",
      "in module Main.CSTParser\n",
      "LoadError: \u001b[91mUndefVarError: @default not defined\u001b[39m\n",
      "Stacktrace:\n",
      " [1] top-level scope\n",
      " [2] \u001b[1mlower\u001b[22m at \u001b[1m./meta.jl:68\u001b[22m [inlined]\n",
      " [3] \u001b[1mprepare_thunk\u001b[22m\u001b[1m(\u001b[22m::Module, ::Expr, ::Bool\u001b[1m)\u001b[22m at \u001b[1m/home/abarth/.julia/packages/JuliaInterpreter/Or807/src/construct.jl:360\u001b[22m\n",
      " [4] \u001b[1mprepare_thunk\u001b[22m at \u001b[1m/home/abarth/.julia/packages/JuliaInterpreter/Or807/src/construct.jl:347\u001b[22m [inlined]\n",
      " [5] \u001b[1m#methods_by_execution!#9\u001b[22m\u001b[1m(\u001b[22m::Base.Iterators.Pairs{Symbol,Bool,Tuple{Symbol},NamedTuple{(:define,),Tuple{Bool}}}, ::Function, ::Any, ::Revise.CodeTrackingMethodInfo, ::Dict{Module,Array{Expr,1}}, ::Module, ::Expr\u001b[1m)\u001b[22m at \u001b[1m/home/abarth/.julia/packages/Revise/agmgx/src/lowered.jl:47\u001b[22m\n",
      " [6] \u001b[1m#methods_by_execution!\u001b[22m at \u001b[1m./none:0\u001b[22m [inlined]\n",
      " [7] \u001b[1m#eval_with_signatures#59\u001b[22m at \u001b[1m/home/abarth/.julia/packages/Revise/agmgx/src/Revise.jl:344\u001b[22m [inlined]\n",
      " [8] \u001b[1m#eval_with_signatures\u001b[22m at \u001b[1m./none:0\u001b[22m [inlined]\n",
      " [9] \u001b[1m#instantiate_sigs!#60\u001b[22m\u001b[1m(\u001b[22m::Bool, ::Base.Iterators.Pairs{Union{},Union{},Tuple{},NamedTuple{(),Tuple{}}}, ::Function, ::OrderedCollections.OrderedDict{Module,OrderedCollections.OrderedDict{Revise.RelocatableExpr,Union{Nothing, Array{Any,1}}}}\u001b[1m)\u001b[22m at \u001b[1m/home/abarth/.julia/packages/Revise/agmgx/src/Revise.jl:352\u001b[22m\n",
      " [10] \u001b[1minstantiate_sigs!\u001b[22m at \u001b[1m/home/abarth/.julia/packages/Revise/agmgx/src/Revise.jl:349\u001b[22m [inlined]\n",
      " [11] \u001b[1mmaybe_parse_from_cache!\u001b[22m\u001b[1m(\u001b[22m::Revise.PkgData, ::String\u001b[1m)\u001b[22m at \u001b[1m/home/abarth/.julia/packages/Revise/agmgx/src/pkgs.jl:224\u001b[22m\n",
      " [12] \u001b[1m(::getfield(Revise, Symbol(\"##26#27\")){String})\u001b[22m\u001b[1m(\u001b[22m\u001b[1m)\u001b[22m at \u001b[1m/home/abarth/.julia/packages/Revise/agmgx/src/pkgs.jl:370\u001b[22m\n",
      " [13] \u001b[1mwith_logstate\u001b[22m\u001b[1m(\u001b[22m::getfield(Revise, Symbol(\"##26#27\")){String}, ::Base.CoreLogging.LogState\u001b[1m)\u001b[22m at \u001b[1m./logging.jl:395\u001b[22m\n",
      " [14] \u001b[1mwith_logger\u001b[22m at \u001b[1m./logging.jl:491\u001b[22m [inlined]\n",
      " [15] \u001b[1mwatch_manifest\u001b[22m\u001b[1m(\u001b[22m::String\u001b[1m)\u001b[22m at \u001b[1m/home/abarth/.julia/packages/Revise/agmgx/src/pkgs.jl:349\u001b[22m\n",
      " [16] \u001b[1m(::Revise.Rescheduler{typeof(Revise.watch_manifest),Tuple{String}})\u001b[22m\u001b[1m(\u001b[22m\u001b[1m)\u001b[22m at \u001b[1m/home/abarth/.julia/packages/Revise/agmgx/src/types.jl:235\u001b[22m\n",
      "in expression starting at /home/abarth/.julia/packages/CSTParser/i8cPl/src/CSTParser.jl:61\n",
      "while evaluating\n",
      "function parse_expression(ps::ParseState)\n",
      "    #= /home/abarth/.julia/packages/CSTParser/i8cPl/src/CSTParser.jl:42 =#\n",
      "    if (ps.nt).kind == Tokens.COMMA\n",
      "        #= /home/abarth/.julia/packages/CSTParser/i8cPl/src/CSTParser.jl:43 =#\n",
      "        ps.errored = true\n",
      "        #= /home/abarth/.julia/packages/CSTParser/i8cPl/src/CSTParser.jl:44 =#\n",
      "        ret = mErrorToken(mPUNCTUATION(next(ps)), UnexpectedToken)\n",
      "    elseif #= /home/abarth/.julia/packages/CSTParser/i8cPl/src/CSTParser.jl:45 =# (ps.nt).kind ∈ term_c && !((ps.nt).kind === Tokens.END && (ps.closer).square)\n",
      "        #= /home/abarth/.julia/packages/CSTParser/i8cPl/src/CSTParser.jl:46 =#\n",
      "        if match_closer(ps)\n",
      "            #= /home/abarth/.julia/packages/CSTParser/i8cPl/src/CSTParser.jl:48 =#\n",
      "            ps.errored = true\n",
      "            #= /home/abarth/.julia/packages/CSTParser/i8cPl/src/CSTParser.jl:49 =#\n",
      "            ret = mErrorToken(MissingCloser)\n",
      "        else\n",
      "            #= /home/abarth/.julia/packages/CSTParser/i8cPl/src/CSTParser.jl:51 =#\n",
      "            ps.errored = true\n",
      "            #= /home/abarth/.julia/packages/CSTParser/i8cPl/src/CSTParser.jl:52 =#\n",
      "            ret = mErrorToken(INSTANCE(next(ps)), UnexpectedToken)\n",
      "        end\n",
      "    else\n",
      "        #= /home/abarth/.julia/packages/CSTParser/i8cPl/src/CSTParser.jl:55 =#\n",
      "        next(ps)\n",
      "        #= /home/abarth/.julia/packages/CSTParser/i8cPl/src/CSTParser.jl:56 =#\n",
      "        if iskeyword((ps.t).kind) && (ps.t).kind != Tokens.DO\n",
      "            #= /home/abarth/.julia/packages/CSTParser/i8cPl/src/CSTParser.jl:57 =#\n",
      "            ret = parse_kw(ps)\n",
      "        elseif #= /home/abarth/.julia/packages/CSTParser/i8cPl/src/CSTParser.jl:58 =# (ps.t).kind == Tokens.LPAREN\n",
      "            #= /home/abarth/.julia/packages/CSTParser/i8cPl/src/CSTParser.jl:59 =#\n",
      "            ret = parse_paren(ps)\n",
      "        elseif #= /home/abarth/.julia/packages/CSTParser/i8cPl/src/CSTParser.jl:60 =# (ps.t).kind == Tokens.LSQUARE\n",
      "            #= /home/abarth/.julia/packages/CSTParser/i8cPl/src/CSTParser.jl:61 =#\n",
      "            ret = #= /home/abarth/.julia/packages/CSTParser/i8cPl/src/CSTParser.jl:61 =# @default(ps, parse_array(ps))\n",
      "        elseif #= /home/abarth/.julia/packages/CSTParser/i8cPl/src/CSTParser.jl:62 =# (ps.t).kind == Tokens.LBRACE\n",
      "            #= /home/abarth/.julia/packages/CSTParser/i8cPl/src/CSTParser.jl:63 =#\n",
      "            ret = #= /home/abarth/.julia/packages/CSTParser/i8cPl/src/CSTParser.jl:63 =# @default(ps, #= /home/abarth/.julia/packages/CSTParser/i8cPl/src/CSTParser.jl:63 =# @closebrace(ps, parse_braces(ps)))\n",
      "        elseif #= /home/abarth/.julia/packages/CSTParser/i8cPl/src/CSTParser.jl:64 =# isinstance(ps.t) || isoperator(ps.t)\n",
      "            #= /home/abarth/.julia/packages/CSTParser/i8cPl/src/CSTParser.jl:65 =#\n",
      "            if (ps.t).kind == Tokens.WHERE\n",
      "                #= /home/abarth/.julia/packages/CSTParser/i8cPl/src/CSTParser.jl:66 =#\n",
      "                ret = mIDENTIFIER(ps)\n",
      "            else\n",
      "                #= /home/abarth/.julia/packages/CSTParser/i8cPl/src/CSTParser.jl:68 =#\n",
      "                ret = INSTANCE(ps)\n",
      "            end\n",
      "            #= /home/abarth/.julia/packages/CSTParser/i8cPl/src/CSTParser.jl:70 =#\n",
      "            if is_colon(ret) && (ps.nt).kind != Tokens.COMMA\n",
      "                #= /home/abarth/.julia/packages/CSTParser/i8cPl/src/CSTParser.jl:71 =#\n",
      "                ret = parse_unary(ps, ret)\n",
      "            end\n",
      "        elseif #= /home/abarth/.julia/packages/CSTParser/i8cPl/src/CSTParser.jl:73 =# (ps.t).kind == Tokens.AT_SIGN\n",
      "            #= /home/abarth/.julia/packages/CSTParser/i8cPl/src/CSTParser.jl:74 =#\n",
      "            ret = parse_macrocall(ps)\n",
      "        else\n",
      "            #= /home/abarth/.julia/packages/CSTParser/i8cPl/src/CSTParser.jl:76 =#\n",
      "            ps.errored = true\n",
      "            #= /home/abarth/.julia/packages/CSTParser/i8cPl/src/CSTParser.jl:77 =#\n",
      "            ret = mErrorToken(INSTANCE(ps), UnexpectedToken)\n",
      "        end\n",
      "        #= /home/abarth/.julia/packages/CSTParser/i8cPl/src/CSTParser.jl:79 =#\n",
      "        while !(closer(ps))\n",
      "            #= /home/abarth/.julia/packages/CSTParser/i8cPl/src/CSTParser.jl:80 =#\n",
      "            ret = parse_compound(ps, ret)\n",
      "        end\n",
      "    end\n",
      "    #= /home/abarth/.julia/packages/CSTParser/i8cPl/src/CSTParser.jl:83 =#\n",
      "    return ret\n",
      "end\n",
      "in module Main.CSTParser\n",
      "LoadError: \u001b[91mUndefVarError: @default not defined\u001b[39m\n",
      "Stacktrace:\n",
      " [1] top-level scope\n",
      " [2] \u001b[1mlower\u001b[22m at \u001b[1m./meta.jl:68\u001b[22m [inlined]\n",
      " [3] \u001b[1mprepare_thunk\u001b[22m\u001b[1m(\u001b[22m::Module, ::Expr, ::Bool\u001b[1m)\u001b[22m at \u001b[1m/home/abarth/.julia/packages/JuliaInterpreter/Or807/src/construct.jl:360\u001b[22m\n",
      " [4] \u001b[1mprepare_thunk\u001b[22m at \u001b[1m/home/abarth/.julia/packages/JuliaInterpreter/Or807/src/construct.jl:347\u001b[22m [inlined]\n",
      " [5] \u001b[1m#methods_by_execution!#9\u001b[22m\u001b[1m(\u001b[22m::Base.Iterators.Pairs{Symbol,Bool,Tuple{Symbol},NamedTuple{(:define,),Tuple{Bool}}}, ::Function, ::Any, ::Revise.CodeTrackingMethodInfo, ::Dict{Module,Array{Expr,1}}, ::Module, ::Expr\u001b[1m)\u001b[22m at \u001b[1m/home/abarth/.julia/packages/Revise/agmgx/src/lowered.jl:47\u001b[22m\n",
      " [6] \u001b[1m#methods_by_execution!\u001b[22m at \u001b[1m./none:0\u001b[22m [inlined]\n",
      " [7] \u001b[1m#eval_with_signatures#59\u001b[22m at \u001b[1m/home/abarth/.julia/packages/Revise/agmgx/src/Revise.jl:344\u001b[22m [inlined]\n",
      " [8] \u001b[1m#eval_with_signatures\u001b[22m at \u001b[1m./none:0\u001b[22m [inlined]\n",
      " [9] \u001b[1m#instantiate_sigs!#60\u001b[22m\u001b[1m(\u001b[22m::Bool, ::Base.Iterators.Pairs{Union{},Union{},Tuple{},NamedTuple{(),Tuple{}}}, ::Function, ::OrderedCollections.OrderedDict{Module,OrderedCollections.OrderedDict{Revise.RelocatableExpr,Union{Nothing, Array{Any,1}}}}\u001b[1m)\u001b[22m at \u001b[1m/home/abarth/.julia/packages/Revise/agmgx/src/Revise.jl:352\u001b[22m\n",
      " [10] \u001b[1minstantiate_sigs!\u001b[22m at \u001b[1m/home/abarth/.julia/packages/Revise/agmgx/src/Revise.jl:349\u001b[22m [inlined]\n",
      " [11] \u001b[1mmaybe_parse_from_cache!\u001b[22m\u001b[1m(\u001b[22m::Revise.PkgData, ::String\u001b[1m)\u001b[22m at \u001b[1m/home/abarth/.julia/packages/Revise/agmgx/src/pkgs.jl:224\u001b[22m\n",
      " [12] \u001b[1m(::getfield(Revise, Symbol(\"##26#27\")){String})\u001b[22m\u001b[1m(\u001b[22m\u001b[1m)\u001b[22m at \u001b[1m/home/abarth/.julia/packages/Revise/agmgx/src/pkgs.jl:370\u001b[22m\n",
      " [13] \u001b[1mwith_logstate\u001b[22m\u001b[1m(\u001b[22m::getfield(Revise, Symbol(\"##26#27\")){String}, ::Base.CoreLogging.LogState\u001b[1m)\u001b[22m at \u001b[1m./logging.jl:395\u001b[22m\n",
      " [14] \u001b[1mwith_logger\u001b[22m at \u001b[1m./logging.jl:491\u001b[22m [inlined]\n",
      " [15] \u001b[1mwatch_manifest\u001b[22m\u001b[1m(\u001b[22m::String\u001b[1m)\u001b[22m at \u001b[1m/home/abarth/.julia/packages/Revise/agmgx/src/pkgs.jl:349\u001b[22m\n",
      " [16] \u001b[1m(::Revise.Rescheduler{typeof(Revise.watch_manifest),Tuple{String}})\u001b[22m\u001b[1m(\u001b[22m\u001b[1m)\u001b[22m at \u001b[1m/home/abarth/.julia/packages/Revise/agmgx/src/types.jl:235\u001b[22m\n",
      "in expression starting at /home/abarth/.julia/packages/CSTParser/i8cPl/src/CSTParser.jl:90\n",
      "while evaluating\n",
      "function parse_compound(ps::ParseState, #= /home/abarth/.julia/packages/CSTParser/i8cPl/src/CSTParser.jl:86 =# @nospecialize(ret))\n",
      "    #= /home/abarth/.julia/packages/CSTParser/i8cPl/src/CSTParser.jl:87 =#\n",
      "    if (ps.nt).kind == Tokens.FOR\n",
      "        #= /home/abarth/.julia/packages/CSTParser/i8cPl/src/CSTParser.jl:88 =#\n",
      "        ret = parse_generator(ps, ret)\n",
      "    elseif #= /home/abarth/.julia/packages/CSTParser/i8cPl/src/CSTParser.jl:89 =# (ps.nt).kind == Tokens.DO\n",
      "        #= /home/abarth/.julia/packages/CSTParser/i8cPl/src/CSTParser.jl:90 =#\n"
     ]
    },
    {
     "name": "stderr",
     "output_type": "stream",
     "text": [
      "        ret = #= /home/abarth/.julia/packages/CSTParser/i8cPl/src/CSTParser.jl:90 =# @default(ps, #= /home/abarth/.julia/packages/CSTParser/i8cPl/src/CSTParser.jl:90 =# @closer(ps, block, parse_do(ps, ret)))\n",
      "    elseif #= /home/abarth/.julia/packages/CSTParser/i8cPl/src/CSTParser.jl:91 =# isajuxtaposition(ps, ret)\n",
      "        #= /home/abarth/.julia/packages/CSTParser/i8cPl/src/CSTParser.jl:92 =#\n",
      "        if is_number(ret) && last(ret.val) == '.'\n",
      "            #= /home/abarth/.julia/packages/CSTParser/i8cPl/src/CSTParser.jl:93 =#\n",
      "            ps.errored = true\n",
      "            #= /home/abarth/.julia/packages/CSTParser/i8cPl/src/CSTParser.jl:94 =#\n",
      "            ret = mErrorToken(ret, CannotJuxtapose)\n",
      "        end\n",
      "        #= /home/abarth/.julia/packages/CSTParser/i8cPl/src/CSTParser.jl:96 =#\n",
      "        op = mOPERATOR(0, 0, Tokens.STAR, false)\n",
      "        #= /home/abarth/.julia/packages/CSTParser/i8cPl/src/CSTParser.jl:97 =#\n",
      "        ret = parse_operator(ps, ret, op)\n",
      "    elseif #= /home/abarth/.julia/packages/CSTParser/i8cPl/src/CSTParser.jl:98 =# (ret.typ === x_Str || ret.typ === x_Cmd) && (ps.nt).kind == Tokens.IDENTIFIER\n",
      "        #= /home/abarth/.julia/packages/CSTParser/i8cPl/src/CSTParser.jl:99 =#\n",
      "        arg = mIDENTIFIER(next(ps))\n",
      "        #= /home/abarth/.julia/packages/CSTParser/i8cPl/src/CSTParser.jl:100 =#\n",
      "        push!(ret, mLITERAL(arg.fullspan, arg.span, val(ps.t, ps), Tokens.STRING))\n",
      "    elseif #= /home/abarth/.julia/packages/CSTParser/i8cPl/src/CSTParser.jl:101 =# (isidentifier(ret) || ret.typ === BinaryOpCall && is_dot(ret.args[2])) && ((ps.nt).kind == Tokens.STRING || ((ps.nt).kind == Tokens.TRIPLE_STRING || (ps.nt).kind == Tokens.CMD))\n",
      "        #= /home/abarth/.julia/packages/CSTParser/i8cPl/src/CSTParser.jl:102 =#\n",
      "        next(ps)\n",
      "        #= /home/abarth/.julia/packages/CSTParser/i8cPl/src/CSTParser.jl:103 =#\n",
      "        arg = parse_string_or_cmd(ps, ret)\n",
      "        #= /home/abarth/.julia/packages/CSTParser/i8cPl/src/CSTParser.jl:104 =#\n",
      "        head = if arg.kind == Tokens.CMD\n",
      "                x_Cmd\n",
      "            else\n",
      "                x_Str\n",
      "            end\n",
      "        #= /home/abarth/.julia/packages/CSTParser/i8cPl/src/CSTParser.jl:105 =#\n",
      "        ret = EXPR(head, EXPR[ret, arg])\n",
      "    elseif #= /home/abarth/.julia/packages/CSTParser/i8cPl/src/CSTParser.jl:106 =# (ps.nt).kind == Tokens.LPAREN\n",
      "        #= /home/abarth/.julia/packages/CSTParser/i8cPl/src/CSTParser.jl:107 =#\n",
      "        no_ws = !(isemptyws(ps.ws))\n",
      "        #= /home/abarth/.julia/packages/CSTParser/i8cPl/src/CSTParser.jl:108 =#\n",
      "        err_rng = (ps.t).endbyte + 2:(ps.nt).startbyte\n",
      "        #= /home/abarth/.julia/packages/CSTParser/i8cPl/src/CSTParser.jl:109 =#\n",
      "        ret = #= /home/abarth/.julia/packages/CSTParser/i8cPl/src/CSTParser.jl:109 =# @closeparen(ps, parse_call(ps, ret))\n",
      "        #= /home/abarth/.julia/packages/CSTParser/i8cPl/src/CSTParser.jl:110 =#\n",
      "        if no_ws && !(ret.typ === UnaryOpCall)\n",
      "            #= /home/abarth/.julia/packages/CSTParser/i8cPl/src/CSTParser.jl:111 =#\n",
      "            ps.errored = true\n",
      "            #= /home/abarth/.julia/packages/CSTParser/i8cPl/src/CSTParser.jl:112 =#\n",
      "            ret = mErrorToken(ret, UnexpectedWhiteSpace)\n",
      "        end\n",
      "    elseif #= /home/abarth/.julia/packages/CSTParser/i8cPl/src/CSTParser.jl:114 =# (ps.nt).kind == Tokens.LBRACE\n",
      "        #= /home/abarth/.julia/packages/CSTParser/i8cPl/src/CSTParser.jl:115 =#\n",
      "        if isemptyws(ps.ws)\n",
      "            #= /home/abarth/.julia/packages/CSTParser/i8cPl/src/CSTParser.jl:116 =#\n",
      "            ret = #= /home/abarth/.julia/packages/CSTParser/i8cPl/src/CSTParser.jl:116 =# @default(ps, #= /home/abarth/.julia/packages/CSTParser/i8cPl/src/CSTParser.jl:116 =# @nocloser(ps, inwhere, #= /home/abarth/.julia/packages/CSTParser/i8cPl/src/CSTParser.jl:116 =# @closebrace(ps, parse_curly(ps, ret))))\n",
      "        else\n",
      "            #= /home/abarth/.julia/packages/CSTParser/i8cPl/src/CSTParser.jl:118 =#\n",
      "            ps.errored = true\n",
      "            #= /home/abarth/.julia/packages/CSTParser/i8cPl/src/CSTParser.jl:119 =#\n",
      "            ret = mErrorToken(#= /home/abarth/.julia/packages/CSTParser/i8cPl/src/CSTParser.jl:119 =# @default(ps, #= /home/abarth/.julia/packages/CSTParser/i8cPl/src/CSTParser.jl:119 =# @nocloser(ps, inwhere, #= /home/abarth/.julia/packages/CSTParser/i8cPl/src/CSTParser.jl:119 =# @closebrace(ps, (parse_curly(ps, ret), UnexpectedWhiteSpace)))))\n",
      "        end\n",
      "    elseif #= /home/abarth/.julia/packages/CSTParser/i8cPl/src/CSTParser.jl:122 =# (ps.nt).kind == Tokens.LSQUARE && (isemptyws(ps.ws) && !(isoperator(ret)))\n",
      "        #= /home/abarth/.julia/packages/CSTParser/i8cPl/src/CSTParser.jl:123 =#\n",
      "        ret = #= /home/abarth/.julia/packages/CSTParser/i8cPl/src/CSTParser.jl:123 =# @default(ps, #= /home/abarth/.julia/packages/CSTParser/i8cPl/src/CSTParser.jl:123 =# @nocloser(ps, block, parse_ref(ps, ret)))\n",
      "    elseif #= /home/abarth/.julia/packages/CSTParser/i8cPl/src/CSTParser.jl:124 =# (ps.nt).kind == Tokens.COMMA\n",
      "        #= /home/abarth/.julia/packages/CSTParser/i8cPl/src/CSTParser.jl:125 =#\n",
      "        ret = parse_tuple(ps, ret)\n",
      "    elseif #= /home/abarth/.julia/packages/CSTParser/i8cPl/src/CSTParser.jl:126 =# isunaryop(ret) && (ps.nt).kind != Tokens.EQ\n",
      "        #= /home/abarth/.julia/packages/CSTParser/i8cPl/src/CSTParser.jl:127 =#\n",
      "        ret = parse_unary(ps, ret)\n",
      "    elseif #= /home/abarth/.julia/packages/CSTParser/i8cPl/src/CSTParser.jl:128 =# isoperator(ps.nt)\n",
      "        #= /home/abarth/.julia/packages/CSTParser/i8cPl/src/CSTParser.jl:129 =#\n",
      "        op = mOPERATOR(next(ps))\n",
      "        #= /home/abarth/.julia/packages/CSTParser/i8cPl/src/CSTParser.jl:130 =#\n",
      "        ret = parse_operator(ps, ret, op)\n",
      "    elseif #= /home/abarth/.julia/packages/CSTParser/i8cPl/src/CSTParser.jl:131 =# ret.typ === UnaryOpCall && is_prime(ret.args[2])\n",
      "        #= /home/abarth/.julia/packages/CSTParser/i8cPl/src/CSTParser.jl:133 =#\n",
      "        nextarg = #= /home/abarth/.julia/packages/CSTParser/i8cPl/src/CSTParser.jl:133 =# @precedence(ps, 11, parse_expression(ps))\n",
      "        #= /home/abarth/.julia/packages/CSTParser/i8cPl/src/CSTParser.jl:134 =#\n",
      "        ret = mBinaryOpCall(ret, mOPERATOR(0, 0, Tokens.STAR, false), nextarg)\n",
      "    elseif #= /home/abarth/.julia/packages/CSTParser/i8cPl/src/CSTParser.jl:138 =# (ps.nt).kind in (Tokens.RPAREN, Tokens.RSQUARE, Tokens.RBRACE)\n",
      "        #= /home/abarth/.julia/packages/CSTParser/i8cPl/src/CSTParser.jl:139 =#\n",
      "        ps.errored = true\n",
      "        #= /home/abarth/.julia/packages/CSTParser/i8cPl/src/CSTParser.jl:140 =#\n",
      "        ret = EXPR(ErrorToken, EXPR[ret, mErrorToken(mPUNCTUATION(next(ps)), Unknown)])\n",
      "    else\n",
      "        #= /home/abarth/.julia/packages/CSTParser/i8cPl/src/CSTParser.jl:142 =#\n",
      "        nextarg = parse_expression(ps)\n",
      "        #= /home/abarth/.julia/packages/CSTParser/i8cPl/src/CSTParser.jl:143 =#\n",
      "        ps.errored = true\n",
      "        #= /home/abarth/.julia/packages/CSTParser/i8cPl/src/CSTParser.jl:144 =#\n",
      "        ret = EXPR(ErrorToken, EXPR[ret, nextarg])\n",
      "    end\n",
      "    #= /home/abarth/.julia/packages/CSTParser/i8cPl/src/CSTParser.jl:146 =#\n",
      "    return ret\n",
      "end\n",
      "in module Main.CSTParser\n",
      "LoadError: \u001b[91mUndefVarError: @addctx not defined\u001b[39m\n",
      "Stacktrace:\n",
      " [1] top-level scope\n",
      " [2] \u001b[1mlower\u001b[22m at \u001b[1m./meta.jl:68\u001b[22m [inlined]\n",
      " [3] \u001b[1mprepare_thunk\u001b[22m\u001b[1m(\u001b[22m::Module, ::Expr, ::Bool\u001b[1m)\u001b[22m at \u001b[1m/home/abarth/.julia/packages/JuliaInterpreter/Or807/src/construct.jl:360\u001b[22m\n",
      " [4] \u001b[1mprepare_thunk\u001b[22m at \u001b[1m/home/abarth/.julia/packages/JuliaInterpreter/Or807/src/construct.jl:347\u001b[22m [inlined]\n",
      " [5] \u001b[1m#methods_by_execution!#9\u001b[22m\u001b[1m(\u001b[22m::Base.Iterators.Pairs{Symbol,Bool,Tuple{Symbol},NamedTuple{(:define,),Tuple{Bool}}}, ::Function, ::Any, ::Revise.CodeTrackingMethodInfo, ::Dict{Module,Array{Expr,1}}, ::Module, ::Expr\u001b[1m)\u001b[22m at \u001b[1m/home/abarth/.julia/packages/Revise/agmgx/src/lowered.jl:47\u001b[22m\n",
      " [6] \u001b[1m#methods_by_execution!\u001b[22m at \u001b[1m./none:0\u001b[22m [inlined]\n",
      " [7] \u001b[1m#eval_with_signatures#59\u001b[22m at \u001b[1m/home/abarth/.julia/packages/Revise/agmgx/src/Revise.jl:344\u001b[22m [inlined]\n",
      " [8] \u001b[1m#eval_with_signatures\u001b[22m at \u001b[1m./none:0\u001b[22m [inlined]\n",
      " [9] \u001b[1m#instantiate_sigs!#60\u001b[22m\u001b[1m(\u001b[22m::Bool, ::Base.Iterators.Pairs{Union{},Union{},Tuple{},NamedTuple{(),Tuple{}}}, ::Function, ::OrderedCollections.OrderedDict{Module,OrderedCollections.OrderedDict{Revise.RelocatableExpr,Union{Nothing, Array{Any,1}}}}\u001b[1m)\u001b[22m at \u001b[1m/home/abarth/.julia/packages/Revise/agmgx/src/Revise.jl:352\u001b[22m\n",
      " [10] \u001b[1minstantiate_sigs!\u001b[22m at \u001b[1m/home/abarth/.julia/packages/Revise/agmgx/src/Revise.jl:349\u001b[22m [inlined]\n",
      " [11] \u001b[1mmaybe_parse_from_cache!\u001b[22m\u001b[1m(\u001b[22m::Revise.PkgData, ::String\u001b[1m)\u001b[22m at \u001b[1m/home/abarth/.julia/packages/Revise/agmgx/src/pkgs.jl:224\u001b[22m\n",
      " [12] \u001b[1m(::getfield(Revise, Symbol(\"##26#27\")){String})\u001b[22m\u001b[1m(\u001b[22m\u001b[1m)\u001b[22m at \u001b[1m/home/abarth/.julia/packages/Revise/agmgx/src/pkgs.jl:370\u001b[22m\n",
      " [13] \u001b[1mwith_logstate\u001b[22m\u001b[1m(\u001b[22m::getfield(Revise, Symbol(\"##26#27\")){String}, ::Base.CoreLogging.LogState\u001b[1m)\u001b[22m at \u001b[1m./logging.jl:395\u001b[22m\n",
      " [14] \u001b[1mwith_logger\u001b[22m at \u001b[1m./logging.jl:491\u001b[22m [inlined]\n",
      " [15] \u001b[1mwatch_manifest\u001b[22m\u001b[1m(\u001b[22m::String\u001b[1m)\u001b[22m at \u001b[1m/home/abarth/.julia/packages/Revise/agmgx/src/pkgs.jl:349\u001b[22m\n",
      " [16] \u001b[1m(::Revise.Rescheduler{typeof(Revise.watch_manifest),Tuple{String}})\u001b[22m\u001b[1m(\u001b[22m\u001b[1m)\u001b[22m at \u001b[1m/home/abarth/.julia/packages/Revise/agmgx/src/types.jl:235\u001b[22m\n",
      "in expression starting at /home/abarth/.julia/packages/CSTParser/i8cPl/src/CSTParser.jl:154\n",
      "while evaluating\n",
      "#= /home/abarth/.julia/packages/CSTParser/i8cPl/src/CSTParser.jl:154 =# @addctx :paren function parse_paren(ps::ParseState)\n",
      "        #= /home/abarth/.julia/packages/CSTParser/i8cPl/src/CSTParser.jl:155 =#\n",
      "        args = EXPR[mPUNCTUATION(ps)]\n",
      "        #= /home/abarth/.julia/packages/CSTParser/i8cPl/src/CSTParser.jl:156 =#\n",
      "        #= /home/abarth/.julia/packages/CSTParser/i8cPl/src/CSTParser.jl:156 =# @closeparen ps #= /home/abarth/.julia/packages/CSTParser/i8cPl/src/CSTParser.jl:156 =# @default(ps, #= /home/abarth/.julia/packages/CSTParser/i8cPl/src/CSTParser.jl:156 =# @nocloser(ps, inwhere, parse_comma_sep(ps, args, false, true, true)))\n",
      "        #= /home/abarth/.julia/packages/CSTParser/i8cPl/src/CSTParser.jl:158 =#\n",
      "        if length(args) == 2 && (((ps.ws).kind != SemiColonWS || length(args) == 2 && (args[2]).typ === Block) && !((args[2]).typ === Parameters))\n",
      "            #= /home/abarth/.julia/packages/CSTParser/i8cPl/src/CSTParser.jl:159 =#\n",
      "            accept_rparen(ps, args)\n"
     ]
    },
    {
     "name": "stderr",
     "output_type": "stream",
     "text": [
      "            #= /home/abarth/.julia/packages/CSTParser/i8cPl/src/CSTParser.jl:160 =#\n",
      "            ret = EXPR(InvisBrackets, args)\n",
      "        else\n",
      "            #= /home/abarth/.julia/packages/CSTParser/i8cPl/src/CSTParser.jl:162 =#\n",
      "            accept_rparen(ps, args)\n",
      "            #= /home/abarth/.julia/packages/CSTParser/i8cPl/src/CSTParser.jl:163 =#\n",
      "            ret = EXPR(TupleH, args)\n",
      "        end\n",
      "        #= /home/abarth/.julia/packages/CSTParser/i8cPl/src/CSTParser.jl:165 =#\n",
      "        return ret\n",
      "    end\n",
      "in module Main.CSTParser\n",
      "\u001b[91mUndefVarError: ParseState not defined\u001b[39m\n",
      "Stacktrace:\n",
      " [1] \u001b[1mmacro expansion\u001b[22m at \u001b[1m/home/abarth/.julia/packages/JuliaInterpreter/Or807/src/interpret.jl:64\u001b[22m [inlined]\n",
      " [2] \u001b[1mgetargs\u001b[22m\u001b[1m(\u001b[22m::Array{Any,1}, ::JuliaInterpreter.Frame\u001b[1m)\u001b[22m at \u001b[1m/home/abarth/.julia/packages/JuliaInterpreter/Or807/src/builtins.jl:8\u001b[22m\n",
      " [3] \u001b[1mmaybe_evaluate_builtin\u001b[22m\u001b[1m(\u001b[22m::JuliaInterpreter.Frame, ::Expr, ::Bool\u001b[1m)\u001b[22m at \u001b[1m/home/abarth/.julia/packages/JuliaInterpreter/Or807/src/builtins.jl:136\u001b[22m\n",
      " [4] \u001b[1m#evaluate_call_recurse!#37\u001b[22m\u001b[1m(\u001b[22m::Bool, ::Function, ::Any, ::JuliaInterpreter.Frame, ::Expr\u001b[1m)\u001b[22m at \u001b[1m/home/abarth/.julia/packages/JuliaInterpreter/Or807/src/interpret.jl:209\u001b[22m\n",
      " [5] \u001b[1mevaluate_call_recurse!\u001b[22m at \u001b[1m/home/abarth/.julia/packages/JuliaInterpreter/Or807/src/interpret.jl:206\u001b[22m [inlined]\n",
      " [6] \u001b[1meval_rhs\u001b[22m\u001b[1m(\u001b[22m::Any, ::JuliaInterpreter.Frame, ::Expr\u001b[1m)\u001b[22m at \u001b[1m/home/abarth/.julia/packages/JuliaInterpreter/Or807/src/interpret.jl:381\u001b[22m\n",
      " [7] \u001b[1mstep_expr!\u001b[22m\u001b[1m(\u001b[22m::Any, ::JuliaInterpreter.Frame, ::Any, ::Bool\u001b[1m)\u001b[22m at \u001b[1m/home/abarth/.julia/packages/JuliaInterpreter/Or807/src/interpret.jl:509\u001b[22m\n",
      " [8] \u001b[1msignature\u001b[22m\u001b[1m(\u001b[22m::Any, ::JuliaInterpreter.Frame, ::Any, ::Int64\u001b[1m)\u001b[22m at \u001b[1m/home/abarth/.julia/packages/LoweredCodeUtils/6EZqd/src/LoweredCodeUtils.jl:146\u001b[22m\n",
      " [9] \u001b[1m#methoddef!#3\u001b[22m\u001b[1m(\u001b[22m::Bool, ::Function, ::Any, ::Array{Any,1}, ::JuliaInterpreter.Frame, ::Any, ::Int64\u001b[1m)\u001b[22m at \u001b[1m/home/abarth/.julia/packages/LoweredCodeUtils/6EZqd/src/LoweredCodeUtils.jl:420\u001b[22m\n",
      " [10] \u001b[1m(::getfield(LoweredCodeUtils, Symbol(\"#kw##methoddef!\")))\u001b[22m\u001b[1m(\u001b[22m::NamedTuple{(:define,),Tuple{Bool}}, ::typeof(LoweredCodeUtils.methoddef!), ::Function, ::Array{Any,1}, ::JuliaInterpreter.Frame, ::Expr, ::Int64\u001b[1m)\u001b[22m at \u001b[1m./none:0\u001b[22m\n",
      " [11] \u001b[1m#methods_by_execution!#14\u001b[22m\u001b[1m(\u001b[22m::Bool, ::Bool, ::Function, ::Any, ::Revise.CodeTrackingMethodInfo, ::Dict{Module,Array{Expr,1}}, ::JuliaInterpreter.Frame\u001b[1m)\u001b[22m at \u001b[1m/home/abarth/.julia/packages/Revise/agmgx/src/lowered.jl:81\u001b[22m\n",
      " [12] \u001b[1m#methods_by_execution!\u001b[22m at \u001b[1m./none:0\u001b[22m [inlined]\n",
      " [13] \u001b[1m#methods_by_execution!#9\u001b[22m\u001b[1m(\u001b[22m::Base.Iterators.Pairs{Symbol,Bool,Tuple{Symbol},NamedTuple{(:define,),Tuple{Bool}}}, ::Function, ::Any, ::Revise.CodeTrackingMethodInfo, ::Dict{Module,Array{Expr,1}}, ::Module, ::Expr\u001b[1m)\u001b[22m at \u001b[1m/home/abarth/.julia/packages/Revise/agmgx/src/lowered.jl:49\u001b[22m\n",
      " [14] \u001b[1m#methods_by_execution!\u001b[22m at \u001b[1m./none:0\u001b[22m [inlined]\n",
      " [15] \u001b[1m#eval_with_signatures#59\u001b[22m at \u001b[1m/home/abarth/.julia/packages/Revise/agmgx/src/Revise.jl:344\u001b[22m [inlined]\n",
      " [16] \u001b[1m#eval_with_signatures\u001b[22m at \u001b[1m./none:0\u001b[22m [inlined]\n",
      " [17] \u001b[1m#instantiate_sigs!#60\u001b[22m\u001b[1m(\u001b[22m::Bool, ::Base.Iterators.Pairs{Union{},Union{},Tuple{},NamedTuple{(),Tuple{}}}, ::Function, ::OrderedCollections.OrderedDict{Module,OrderedCollections.OrderedDict{Revise.RelocatableExpr,Union{Nothing, Array{Any,1}}}}\u001b[1m)\u001b[22m at \u001b[1m/home/abarth/.julia/packages/Revise/agmgx/src/Revise.jl:352\u001b[22m\n",
      " [18] \u001b[1minstantiate_sigs!\u001b[22m at \u001b[1m/home/abarth/.julia/packages/Revise/agmgx/src/Revise.jl:349\u001b[22m [inlined]\n",
      " [19] \u001b[1mmaybe_parse_from_cache!\u001b[22m\u001b[1m(\u001b[22m::Revise.PkgData, ::String\u001b[1m)\u001b[22m at \u001b[1m/home/abarth/.julia/packages/Revise/agmgx/src/pkgs.jl:224\u001b[22m\n",
      " [20] \u001b[1m(::getfield(Revise, Symbol(\"##26#27\")){String})\u001b[22m\u001b[1m(\u001b[22m\u001b[1m)\u001b[22m at \u001b[1m/home/abarth/.julia/packages/Revise/agmgx/src/pkgs.jl:370\u001b[22m\n",
      " [21] \u001b[1mwith_logstate\u001b[22m\u001b[1m(\u001b[22m::getfield(Revise, Symbol(\"##26#27\")){String}, ::Base.CoreLogging.LogState\u001b[1m)\u001b[22m at \u001b[1m./logging.jl:395\u001b[22m\n",
      " [22] \u001b[1mwith_logger\u001b[22m at \u001b[1m./logging.jl:491\u001b[22m [inlined]\n",
      " [23] \u001b[1mwatch_manifest\u001b[22m\u001b[1m(\u001b[22m::String\u001b[1m)\u001b[22m at \u001b[1m/home/abarth/.julia/packages/Revise/agmgx/src/pkgs.jl:349\u001b[22m\n",
      " [24] \u001b[1m(::Revise.Rescheduler{typeof(Revise.watch_manifest),Tuple{String}})\u001b[22m\u001b[1m(\u001b[22m\u001b[1m)\u001b[22m at \u001b[1m/home/abarth/.julia/packages/Revise/agmgx/src/types.jl:235\u001b[22m\n",
      "while evaluating\n",
      "function parse_doc(ps::ParseState)\n",
      "    #= /home/abarth/.julia/packages/CSTParser/i8cPl/src/CSTParser.jl:180 =#\n",
      "    if ((ps.nt).kind == Tokens.STRING || (ps.nt).kind == Tokens.TRIPLE_STRING) && !(isemptyws(ps.nws))\n",
      "        #= /home/abarth/.julia/packages/CSTParser/i8cPl/src/CSTParser.jl:181 =#\n",
      "        doc = mLITERAL(next(ps))\n",
      "        #= /home/abarth/.julia/packages/CSTParser/i8cPl/src/CSTParser.jl:182 =#\n",
      "        if (ps.nt).kind == Tokens.ENDMARKER || (ps.nt).kind == Tokens.END\n",
      "            #= /home/abarth/.julia/packages/CSTParser/i8cPl/src/CSTParser.jl:183 =#\n",
      "            return doc\n",
      "        elseif #= /home/abarth/.julia/packages/CSTParser/i8cPl/src/CSTParser.jl:184 =# isbinaryop(ps.nt) && !(closer(ps))\n",
      "            #= /home/abarth/.julia/packages/CSTParser/i8cPl/src/CSTParser.jl:185 =#\n",
      "            ret = parse_compound(ps, doc)\n",
      "            #= /home/abarth/.julia/packages/CSTParser/i8cPl/src/CSTParser.jl:186 =#\n",
      "            return ret\n",
      "        end\n",
      "        #= /home/abarth/.julia/packages/CSTParser/i8cPl/src/CSTParser.jl:189 =#\n",
      "        ret = parse_expression(ps)\n",
      "        #= /home/abarth/.julia/packages/CSTParser/i8cPl/src/CSTParser.jl:190 =#\n",
      "        ret = EXPR(MacroCall, EXPR[GlobalRefDOC(), doc, ret])\n",
      "    elseif #= /home/abarth/.julia/packages/CSTParser/i8cPl/src/CSTParser.jl:191 =# (ps.nt).kind == Tokens.IDENTIFIER && (val(ps.nt, ps) == \"doc\" && ((ps.nnt).kind == Tokens.STRING || (ps.nnt).kind == Tokens.TRIPLE_STRING))\n",
      "        #= /home/abarth/.julia/packages/CSTParser/i8cPl/src/CSTParser.jl:192 =#\n",
      "        doc = mIDENTIFIER(next(ps))\n",
      "        #= /home/abarth/.julia/packages/CSTParser/i8cPl/src/CSTParser.jl:193 =#\n",
      "        next(ps)\n",
      "        #= /home/abarth/.julia/packages/CSTParser/i8cPl/src/CSTParser.jl:194 =#\n",
      "        arg = parse_string_or_cmd(ps, doc)\n",
      "        #= /home/abarth/.julia/packages/CSTParser/i8cPl/src/CSTParser.jl:195 =#\n",
      "        doc = EXPR(x_Str, EXPR[doc, arg])\n",
      "        #= /home/abarth/.julia/packages/CSTParser/i8cPl/src/CSTParser.jl:196 =#\n",
      "        ret = parse_expression(ps)\n",
      "        #= /home/abarth/.julia/packages/CSTParser/i8cPl/src/CSTParser.jl:197 =#\n",
      "        ret = EXPR(MacroCall, EXPR[GlobalRefDOC(), doc, ret])\n",
      "    else\n",
      "        #= /home/abarth/.julia/packages/CSTParser/i8cPl/src/CSTParser.jl:199 =#\n",
      "        ret = parse_expression(ps)\n",
      "    end\n",
      "    #= /home/abarth/.julia/packages/CSTParser/i8cPl/src/CSTParser.jl:201 =#\n",
      "    return ret\n",
      "end\n",
      "in module Main.CSTParser\n",
      "\u001b[91mUndefVarError: ParseState not defined\u001b[39m\n",
      "Stacktrace:\n",
      " [1] \u001b[1mmacro expansion\u001b[22m at \u001b[1m/home/abarth/.julia/packages/JuliaInterpreter/Or807/src/interpret.jl:64\u001b[22m [inlined]\n",
      " [2] \u001b[1mgetargs\u001b[22m\u001b[1m(\u001b[22m::Array{Any,1}, ::JuliaInterpreter.Frame\u001b[1m)\u001b[22m at \u001b[1m/home/abarth/.julia/packages/JuliaInterpreter/Or807/src/builtins.jl:8\u001b[22m\n",
      " [3] \u001b[1mmaybe_evaluate_builtin\u001b[22m\u001b[1m(\u001b[22m::JuliaInterpreter.Frame, ::Expr, ::Bool\u001b[1m)\u001b[22m at \u001b[1m/home/abarth/.julia/packages/JuliaInterpreter/Or807/src/builtins.jl:136\u001b[22m\n",
      " [4] \u001b[1m#evaluate_call_recurse!#37\u001b[22m\u001b[1m(\u001b[22m::Bool, ::Function, ::Any, ::JuliaInterpreter.Frame, ::Expr\u001b[1m)\u001b[22m at \u001b[1m/home/abarth/.julia/packages/JuliaInterpreter/Or807/src/interpret.jl:209\u001b[22m\n",
      " [5] \u001b[1mevaluate_call_recurse!\u001b[22m at \u001b[1m/home/abarth/.julia/packages/JuliaInterpreter/Or807/src/interpret.jl:206\u001b[22m [inlined]\n",
      " [6] \u001b[1meval_rhs\u001b[22m\u001b[1m(\u001b[22m::Any, ::JuliaInterpreter.Frame, ::Expr\u001b[1m)\u001b[22m at \u001b[1m/home/abarth/.julia/packages/JuliaInterpreter/Or807/src/interpret.jl:381\u001b[22m\n",
      " [7] \u001b[1mstep_expr!\u001b[22m\u001b[1m(\u001b[22m::Any, ::JuliaInterpreter.Frame, ::Any, ::Bool\u001b[1m)\u001b[22m at \u001b[1m/home/abarth/.julia/packages/JuliaInterpreter/Or807/src/interpret.jl:509\u001b[22m\n",
      " [8] \u001b[1msignature\u001b[22m\u001b[1m(\u001b[22m::Any, ::JuliaInterpreter.Frame, ::Any, ::Int64\u001b[1m)\u001b[22m at \u001b[1m/home/abarth/.julia/packages/LoweredCodeUtils/6EZqd/src/LoweredCodeUtils.jl:146\u001b[22m\n",
      " [9] \u001b[1m#methoddef!#3\u001b[22m\u001b[1m(\u001b[22m::Bool, ::Function, ::Any, ::Array{Any,1}, ::JuliaInterpreter.Frame, ::Any, ::Int64\u001b[1m)\u001b[22m at \u001b[1m/home/abarth/.julia/packages/LoweredCodeUtils/6EZqd/src/LoweredCodeUtils.jl:420\u001b[22m\n",
      " [10] \u001b[1m(::getfield(LoweredCodeUtils, Symbol(\"#kw##methoddef!\")))\u001b[22m\u001b[1m(\u001b[22m::NamedTuple{(:define,),Tuple{Bool}}, ::typeof(LoweredCodeUtils.methoddef!), ::Function, ::Array{Any,1}, ::JuliaInterpreter.Frame, ::Expr, ::Int64\u001b[1m)\u001b[22m at \u001b[1m./none:0\u001b[22m\n",
      " [11] \u001b[1m#methods_by_execution!#14\u001b[22m\u001b[1m(\u001b[22m::Bool, ::Bool, ::Function, ::Any, ::Revise.CodeTrackingMethodInfo, ::Dict{Module,Array{Expr,1}}, ::JuliaInterpreter.Frame\u001b[1m)\u001b[22m at \u001b[1m/home/abarth/.julia/packages/Revise/agmgx/src/lowered.jl:81\u001b[22m\n",
      " [12] \u001b[1m#methods_by_execution!\u001b[22m at \u001b[1m./none:0\u001b[22m [inlined]\n",
      " [13] \u001b[1m#methods_by_execution!#9\u001b[22m\u001b[1m(\u001b[22m::Base.Iterators.Pairs{Symbol,Bool,Tuple{Symbol},NamedTuple{(:define,),Tuple{Bool}}}, ::Function, ::Any, ::Revise.CodeTrackingMethodInfo, ::Dict{Module,Array{Expr,1}}, ::Module, ::Expr\u001b[1m)\u001b[22m at \u001b[1m/home/abarth/.julia/packages/Revise/agmgx/src/lowered.jl:49\u001b[22m\n",
      " [14] \u001b[1m#methods_by_execution!\u001b[22m at \u001b[1m./none:0\u001b[22m [inlined]\n",
      " [15] \u001b[1m#eval_with_signatures#59\u001b[22m at \u001b[1m/home/abarth/.julia/packages/Revise/agmgx/src/Revise.jl:344\u001b[22m [inlined]\n",
      " [16] \u001b[1m#eval_with_signatures\u001b[22m at \u001b[1m./none:0\u001b[22m [inlined]\n",
      " [17] \u001b[1m#instantiate_sigs!#60\u001b[22m\u001b[1m(\u001b[22m::Bool, ::Base.Iterators.Pairs{Union{},Union{},Tuple{},NamedTuple{(),Tuple{}}}, ::Function, ::OrderedCollections.OrderedDict{Module,OrderedCollections.OrderedDict{Revise.RelocatableExpr,Union{Nothing, Array{Any,1}}}}\u001b[1m)\u001b[22m at \u001b[1m/home/abarth/.julia/packages/Revise/agmgx/src/Revise.jl:352\u001b[22m\n",
      " [18] \u001b[1minstantiate_sigs!\u001b[22m at \u001b[1m/home/abarth/.julia/packages/Revise/agmgx/src/Revise.jl:349\u001b[22m [inlined]\n"
     ]
    },
    {
     "name": "stderr",
     "output_type": "stream",
     "text": [
      " [19] \u001b[1mmaybe_parse_from_cache!\u001b[22m\u001b[1m(\u001b[22m::Revise.PkgData, ::String\u001b[1m)\u001b[22m at \u001b[1m/home/abarth/.julia/packages/Revise/agmgx/src/pkgs.jl:224\u001b[22m\n",
      " [20] \u001b[1m(::getfield(Revise, Symbol(\"##26#27\")){String})\u001b[22m\u001b[1m(\u001b[22m\u001b[1m)\u001b[22m at \u001b[1m/home/abarth/.julia/packages/Revise/agmgx/src/pkgs.jl:370\u001b[22m\n",
      " [21] \u001b[1mwith_logstate\u001b[22m\u001b[1m(\u001b[22m::getfield(Revise, Symbol(\"##26#27\")){String}, ::Base.CoreLogging.LogState\u001b[1m)\u001b[22m at \u001b[1m./logging.jl:395\u001b[22m\n",
      " [22] \u001b[1mwith_logger\u001b[22m at \u001b[1m./logging.jl:491\u001b[22m [inlined]\n",
      " [23] \u001b[1mwatch_manifest\u001b[22m\u001b[1m(\u001b[22m::String\u001b[1m)\u001b[22m at \u001b[1m/home/abarth/.julia/packages/Revise/agmgx/src/pkgs.jl:349\u001b[22m\n",
      " [24] \u001b[1m(::Revise.Rescheduler{typeof(Revise.watch_manifest),Tuple{String}})\u001b[22m\u001b[1m(\u001b[22m\u001b[1m)\u001b[22m at \u001b[1m/home/abarth/.julia/packages/Revise/agmgx/src/types.jl:235\u001b[22m\n",
      "while evaluating\n",
      "function parse(ps::ParseState, cont=false)\n",
      "    #= /home/abarth/.julia/packages/CSTParser/i8cPl/src/CSTParser.jl:205 =#\n",
      "    if ((ps.l).io).size == 0\n",
      "        #= /home/abarth/.julia/packages/CSTParser/i8cPl/src/CSTParser.jl:206 =#\n",
      "        return (if cont\n",
      "                    EXPR(FileH, EXPR[])\n",
      "                else\n",
      "                    nothing\n",
      "                end, ps)\n",
      "    end\n",
      "    #= /home/abarth/.julia/packages/CSTParser/i8cPl/src/CSTParser.jl:208 =#\n",
      "    last_line = 0\n",
      "    #= /home/abarth/.julia/packages/CSTParser/i8cPl/src/CSTParser.jl:209 =#\n",
      "    curr_line = 0\n",
      "    #= /home/abarth/.julia/packages/CSTParser/i8cPl/src/CSTParser.jl:211 =#\n",
      "    if cont\n",
      "        #= /home/abarth/.julia/packages/CSTParser/i8cPl/src/CSTParser.jl:212 =#\n",
      "        top = EXPR(FileH, EXPR[])\n",
      "        #= /home/abarth/.julia/packages/CSTParser/i8cPl/src/CSTParser.jl:213 =#\n",
      "        if (ps.nt).kind == Tokens.WHITESPACE || (ps.nt).kind == Tokens.COMMENT\n",
      "            #= /home/abarth/.julia/packages/CSTParser/i8cPl/src/CSTParser.jl:214 =#\n",
      "            next(ps)\n",
      "            #= /home/abarth/.julia/packages/CSTParser/i8cPl/src/CSTParser.jl:215 =#\n",
      "            push!(top, mLITERAL((ps.nt).startbyte, (ps.nt).startbyte, \"\", Tokens.NOTHING))\n",
      "        end\n",
      "        #= /home/abarth/.julia/packages/CSTParser/i8cPl/src/CSTParser.jl:218 =#\n",
      "        while !(ps.done)\n",
      "            #= /home/abarth/.julia/packages/CSTParser/i8cPl/src/CSTParser.jl:219 =#\n",
      "            curr_line = (ps.nt).startpos[1]\n",
      "            #= /home/abarth/.julia/packages/CSTParser/i8cPl/src/CSTParser.jl:220 =#\n",
      "            ret = parse_doc(ps)\n",
      "            #= /home/abarth/.julia/packages/CSTParser/i8cPl/src/CSTParser.jl:223 =#\n",
      "            if curr_line == last_line && (last(top.args)).typ === TopLevel\n",
      "                #= /home/abarth/.julia/packages/CSTParser/i8cPl/src/CSTParser.jl:224 =#\n",
      "                push!(last(top.args), ret)\n",
      "            elseif #= /home/abarth/.julia/packages/CSTParser/i8cPl/src/CSTParser.jl:225 =# (ps.ws).kind == SemiColonWS\n",
      "                #= /home/abarth/.julia/packages/CSTParser/i8cPl/src/CSTParser.jl:226 =#\n",
      "                push!(top, EXPR(TopLevel, EXPR[ret]))\n",
      "            else\n",
      "                #= /home/abarth/.julia/packages/CSTParser/i8cPl/src/CSTParser.jl:228 =#\n",
      "                push!(top, ret)\n",
      "            end\n",
      "            #= /home/abarth/.julia/packages/CSTParser/i8cPl/src/CSTParser.jl:230 =#\n",
      "            last_line = curr_line\n",
      "        end\n",
      "    else\n",
      "        #= /home/abarth/.julia/packages/CSTParser/i8cPl/src/CSTParser.jl:233 =#\n",
      "        if (ps.nt).kind == Tokens.WHITESPACE || (ps.nt).kind == Tokens.COMMENT\n",
      "            #= /home/abarth/.julia/packages/CSTParser/i8cPl/src/CSTParser.jl:234 =#\n",
      "            next(ps)\n",
      "            #= /home/abarth/.julia/packages/CSTParser/i8cPl/src/CSTParser.jl:235 =#\n",
      "            top = mLITERAL((ps.nt).startbyte, (ps.nt).startbyte, \"\", Tokens.NOTHING)\n",
      "        else\n",
      "            #= /home/abarth/.julia/packages/CSTParser/i8cPl/src/CSTParser.jl:237 =#\n",
      "            top = parse_doc(ps)\n",
      "            #= /home/abarth/.julia/packages/CSTParser/i8cPl/src/CSTParser.jl:238 =#\n",
      "            last_line = (ps.nt).startpos[1]\n",
      "            #= /home/abarth/.julia/packages/CSTParser/i8cPl/src/CSTParser.jl:239 =#\n",
      "            if (ps.ws).kind == SemiColonWS\n",
      "                #= /home/abarth/.julia/packages/CSTParser/i8cPl/src/CSTParser.jl:240 =#\n",
      "                top = EXPR(TopLevel, EXPR[top])\n",
      "                #= /home/abarth/.julia/packages/CSTParser/i8cPl/src/CSTParser.jl:241 =#\n",
      "                while (ps.ws).kind == SemiColonWS && ((ps.nt).startpos[1] == last_line && (ps.nt).kind != Tokens.ENDMARKER)\n",
      "                    #= /home/abarth/.julia/packages/CSTParser/i8cPl/src/CSTParser.jl:242 =#\n",
      "                    ret = parse_doc(ps)\n",
      "                    #= /home/abarth/.julia/packages/CSTParser/i8cPl/src/CSTParser.jl:243 =#\n",
      "                    push!(top, ret)\n",
      "                    #= /home/abarth/.julia/packages/CSTParser/i8cPl/src/CSTParser.jl:244 =#\n",
      "                    last_line = (ps.nt).startpos[1]\n",
      "                end\n",
      "            end\n",
      "        end\n",
      "    end\n",
      "    #= /home/abarth/.julia/packages/CSTParser/i8cPl/src/CSTParser.jl:250 =#\n",
      "    return (top, ps)\n",
      "end\n",
      "in module Main.CSTParser\n"
     ]
    }
   ],
   "source": [
    "[1:5;]  |> x->x.^2 |> x-> x[x .> 2] |> sum"
   ]
  },
  {
   "cell_type": "markdown",
   "metadata": {
    "slideshow": {
     "slide_type": "slide"
    }
   },
   "source": [
    "* Support for GPU programming\n",
    "   * package ArrayFire\n",
    "   * Native support for GPU programming is in developpement\n",
    "* Version 0.6 is [planned](https://discourse.julialang.org/t/0-6-release-timeline/836) for end of February \n",
    "* Interesting read: [A Journey Through Julia: A dynamic and fast language](http://hdl.handle.net/2268/203491) from Thibaut Cuvelier"
   ]
  },
  {
   "cell_type": "markdown",
   "metadata": {
    "slideshow": {
     "slide_type": "slide"
    }
   },
   "source": [
    "# Caveats\n",
    "\n",
    "* Plotting data with missing values is/was not as straight-foreward as in Matlab/Octave. Now PyPlot ignored NaNs as in Matlab/Octave\n",
    "* It takes some time to compile/recompile modules  (which can be a bit annoying in interactive use)\n",
    "* Still a young language\n"
   ]
  },
  {
   "cell_type": "code",
   "execution_count": null,
   "metadata": {},
   "outputs": [],
   "source": []
  }
 ],
 "metadata": {
  "celltoolbar": "Slideshow",
  "kernelspec": {
   "display_name": "Julia 1.0.3",
   "language": "julia",
   "name": "julia-1.0"
  },
  "language_info": {
   "file_extension": ".jl",
   "mimetype": "application/julia",
   "name": "julia",
   "version": "1.0.3"
  }
 },
 "nbformat": 4,
 "nbformat_minor": 1
}
