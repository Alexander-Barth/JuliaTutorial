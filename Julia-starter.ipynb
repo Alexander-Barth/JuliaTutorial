{
 "cells": [
  {
   "cell_type": "markdown",
   "metadata": {},
   "source": [
    "* Here is some premilinary code.\n",
    "* Select cell below and hit Alt-Enter."
   ]
  },
  {
   "cell_type": "code",
   "execution_count": 8,
   "metadata": {},
   "outputs": [
    {
     "data": {
      "text/plain": [
       "PyObject"
      ]
     },
     "execution_count": 8,
     "metadata": {},
     "output_type": "execute_result"
    }
   ],
   "source": [
    "using NCDatasets\n",
    "using PyPlot\n",
    "using Missings\n",
    "using PyCall\n",
    "using PyCall: PyObject\n",
    "\n",
    "# allow for plotting with missing values\n",
    "function PyObject(a::Array{Union{T,Missing},N}) where {T,N}\n",
    "    numpy_ma = PyCall.pyimport(\"numpy\").ma\n",
    "    pycall(numpy_ma.array, Any, coalesce.(a,zero(T)), mask=ismissing.(a))\n",
    "end\n"
   ]
  }
 ],
 "metadata": {
  "@webio": {
   "lastCommId": null,
   "lastKernelId": null
  },
  "kernelspec": {
   "display_name": "Julia 1.2.0",
   "language": "julia",
   "name": "julia-1.2"
  },
  "language_info": {
   "file_extension": ".jl",
   "mimetype": "application/julia",
   "name": "julia",
   "version": "1.2.0"
  }
 },
 "nbformat": 4,
 "nbformat_minor": 1
}
