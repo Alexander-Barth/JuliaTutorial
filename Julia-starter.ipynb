{
 "cells": [
  {
   "cell_type": "markdown",
   "metadata": {},
   "source": [
    "* Here is some premilinary code.\n",
    "* Select cell below and hit Alt-Enter."
   ]
  },
  {
   "cell_type": "code",
   "execution_count": 1,
   "metadata": {
    "collapsed": false
   },
   "outputs": [
    {
     "name": "stderr",
     "output_type": "stream",
     "text": [
      "\u001b[1m\u001b[34mINFO: Nothing to be done\n",
      "\u001b[0m\u001b[1m\u001b[34mINFO: METADATA is out-of-date — you may not have the latest version of DataArrays\n",
      "\u001b[0m\u001b[1m\u001b[34mINFO: Use `Pkg.update()` to get the latest versions of your packages\n",
      "\u001b[0m"
     ]
    }
   ],
   "source": [
    "Pkg.add(\"DataArrays\")"
   ]
  },
  {
   "cell_type": "code",
   "execution_count": 2,
   "metadata": {
    "collapsed": false
   },
   "outputs": [
    {
     "name": "stderr",
     "output_type": "stream",
     "text": [
      "\u001b[1m\u001b[34mINFO: Recompiling stale cache file /home/abarth/.julia/lib/v0.5/DataStructures.ji for module DataStructures.\n",
      "\u001b[0m\u001b[1m\u001b[34mINFO: Recompiling stale cache file /home/abarth/.julia/lib/v0.5/DataArrays.ji for module DataArrays.\n",
      "\u001b[0m\u001b[1m\u001b[34mINFO: Recompiling stale cache file /home/abarth/.julia/lib/v0.5/NetCDF.ji for module NetCDF.\n",
      "\u001b[0m\u001b[1m\u001b[34mINFO: Recompiling stale cache file /home/abarth/.julia/lib/v0.5/PyPlot.ji for module PyPlot.\n",
      "\u001b[0m"
     ]
    },
    {
     "data": {
      "text/plain": [
       "datetick (generic function with 2 methods)"
      ]
     },
     "execution_count": 2,
     "metadata": {},
     "output_type": "execute_result"
    }
   ],
   "source": [
    "using DataArrays\n",
    "using NetCDF\n",
    "using PyPlot\n",
    "using PyCall\n",
    "@pyimport numpy.ma as ma\n",
    "\n",
    "# plotting with missing values (DataArrays)\n",
    "pyma(S) =  pycall(ma.array, Any, S.data, mask=S.na)\n",
    "PyPlot.pcolor(x,y,z::DataArray; kws...) = pcolor(x,y,pyma(z); kws...)\n",
    "PyPlot.pcolor(z::DataArray; kws...) = pcolor(pyma(z); kws...)\n",
    "\n",
    "# Helper function for dateticks\n",
    "function datetick(axis,fmt = \"%Y-%m-%d\")\n",
    "    ax = axes()\n",
    "    formatter = matplotlib[:dates][:DateFormatter](fmt)\n",
    "\n",
    "    if axis == :x\n",
    "        ax[:xaxis][:set_major_formatter](formatter)\n",
    "    else\n",
    "        ax[:yaxis][:set_major_formatter](formatter)\n",
    "    end\n",
    "end\n"
   ]
  },
  {
   "cell_type": "code",
   "execution_count": 4,
   "metadata": {
    "collapsed": false
   },
   "outputs": [
    {
     "data": {
      "text/plain": [
       "1.5"
      ]
     },
     "execution_count": 4,
     "metadata": {},
     "output_type": "execute_result"
    }
   ],
   "source": [
    "(1+2)/2"
   ]
  }
 ],
 "metadata": {
  "kernelspec": {
   "display_name": "Julia 0.5.0",
   "language": "julia",
   "name": "julia-0.5"
  },
  "language_info": {
   "file_extension": ".jl",
   "mimetype": "application/julia",
   "name": "julia",
   "version": "0.5.0"
  }
 },
 "nbformat": 4,
 "nbformat_minor": 0
}
