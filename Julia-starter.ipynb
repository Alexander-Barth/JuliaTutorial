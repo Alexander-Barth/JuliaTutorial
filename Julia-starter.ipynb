{
 "cells": [
  {
   "cell_type": "markdown",
   "metadata": {},
   "source": [
    "* Here is some premilinary code.\n",
    "* Select cell below and hit Alt-Enter."
   ]
  },
  {
   "cell_type": "code",
   "execution_count": 4,
   "metadata": {},
   "outputs": [
    {
     "data": {
      "text/plain": [
       "datetick (generic function with 2 methods)"
      ]
     },
     "execution_count": 4,
     "metadata": {},
     "output_type": "execute_result"
    }
   ],
   "source": [
    "using NCDatasets\n",
    "using PyPlot\n",
    "using PyCall\n",
    "@pyimport numpy.ma as ma\n",
    "\n",
    "# plotting with missing values (DataArrays)\n",
    "pyma(S) =  pycall(ma.array, Any, S.data, mask=ismissing.(S))\n",
    "PyPlot.pcolor(x,y,z::DataArray; kws...) = pcolor(x,y,pyma(z); kws...)\n",
    "PyPlot.pcolor(z::DataArray; kws...) = pcolor(pyma(z); kws...)\n",
    "\n",
    "# Helper function for dateticks\n",
    "function datetick(axis,fmt = \"%Y-%m-%d\")\n",
    "    ax = axes()\n",
    "    formatter = matplotlib[:dates][:DateFormatter](fmt)\n",
    "\n",
    "    if axis == :x\n",
    "        ax[:xaxis][:set_major_formatter](formatter)\n",
    "    else\n",
    "        ax[:yaxis][:set_major_formatter](formatter)\n",
    "    end\n",
    "end\n"
   ]
  },
  {
   "cell_type": "code",
   "execution_count": 5,
   "metadata": {},
   "outputs": [
    {
     "data": {
      "text/plain": [
       "1.5"
      ]
     },
     "execution_count": 5,
     "metadata": {},
     "output_type": "execute_result"
    }
   ],
   "source": [
    "(1+2)/2"
   ]
  }
 ],
 "metadata": {
  "kernelspec": {
   "display_name": "Julia 0.6.4",
   "language": "julia",
   "name": "julia-0.6"
  },
  "language_info": {
   "file_extension": ".jl",
   "mimetype": "application/julia",
   "name": "julia",
   "version": "0.6.4"
  }
 },
 "nbformat": 4,
 "nbformat_minor": 1
}
