{
 "cells": [
  {
   "cell_type": "markdown",
   "metadata": {},
   "source": [
    "Some premilinary code"
   ]
  },
  {
   "cell_type": "code",
   "execution_count": 3,
   "metadata": {
    "collapsed": false
   },
   "outputs": [
    {
     "name": "stderr",
     "output_type": "stream",
     "text": [
      "WARNING: Method definition pyma(Any) in module Main at In[2]:8 overwritten at In[3]:8.\n",
      "WARNING: Method definition pcolor(Any, Any, DataArrays.DataArray) in module Main at In[2]:9 overwritten at In[3]:9.\n",
      "WARNING: Method definition #pcolor(Array{Any, 1}, PyPlot.#pcolor, Any, Any, DataArrays.DataArray) in module Main overwritten.\n",
      "WARNING: Method definition pcolor(DataArrays.DataArray) in module Main at In[2]:10 overwritten at In[3]:10.\n",
      "WARNING: Method definition #pcolor(Array{Any, 1}, PyPlot.#pcolor, DataArrays.DataArray) in module Main overwritten.\n",
      "WARNING: Method definition datetick(Any) in module Main at In[2]:14 overwritten at In[3]:14.\n",
      "WARNING: Method definition datetick(Any, Any) in module Main at In[2]:14 overwritten at In[3]:14.\n"
     ]
    },
    {
     "data": {
      "text/plain": [
       "datetick (generic function with 2 methods)"
      ]
     },
     "execution_count": 3,
     "metadata": {},
     "output_type": "execute_result"
    }
   ],
   "source": [
    "using DataArrays\n",
    "using NetCDF\n",
    "using PyPlot\n",
    "using PyCall\n",
    "@pyimport numpy.ma as ma\n",
    "\n",
    "# plotting with missing values (DataArrays)\n",
    "pyma(S) =  pycall(ma.array, Any, S.data, mask=S.na)\n",
    "PyPlot.pcolor(x,y,z::DataArray; kws...) = pcolor(x,y,pyma(z); kws...)\n",
    "PyPlot.pcolor(z::DataArray; kws...) = pcolor(pyma(z); kws...)\n",
    "\n",
    "# Helper function for dateticks\n",
    "function datetick(axis,fmt = \"%Y-%m-%d\")\n",
    "    ax = axes()\n",
    "    formatter = matplotlib[:dates][:DateFormatter](fmt)\n",
    "\n",
    "    if axis == :x\n",
    "        ax[:xaxis][:set_major_formatter](formatter)\n",
    "    else\n",
    "        ax[:yaxis][:set_major_formatter](formatter)\n",
    "    end\n",
    "end\n"
   ]
  },
  {
   "cell_type": "code",
   "execution_count": null,
   "metadata": {
    "collapsed": true
   },
   "outputs": [],
   "source": []
  }
 ],
 "metadata": {
  "kernelspec": {
   "display_name": "Julia 0.5.0",
   "language": "julia",
   "name": "julia-0.5"
  },
  "language_info": {
   "file_extension": ".jl",
   "mimetype": "application/julia",
   "name": "julia",
   "version": "0.5.0"
  }
 },
 "nbformat": 4,
 "nbformat_minor": 0
}
