{
 "cells": [
  {
   "cell_type": "markdown",
   "metadata": {},
   "source": [
    "# Large data set\n",
    "\n",
    "* DINEOF analysis of Western Mediterranean sea surface temperature.\n",
    "* Download file and view content of NetCDF file with the following:"
   ]
  },
  {
   "cell_type": "code",
   "execution_count": 1,
   "metadata": {},
   "outputs": [
    {
     "data": {
      "text/plain": [
       "\u001b[31mDataset: WesternMedSST.nc\u001b[39m\n",
       "Group: /\n",
       "\n",
       "\u001b[31mDimensions\u001b[39m\n",
       "   lon = 327\n",
       "   lat = 217\n",
       "   time = 384\n",
       "\n",
       "\u001b[31mVariables\u001b[39m\n",
       "\u001b[32m  lon\u001b[39m   (327)\n",
       "    Datatype:    Float64\n",
       "    Dimensions:  lon\n",
       "    Attributes:\n",
       "     standard_name        = \u001b[34mlongitude\u001b[39m\n",
       "     units                = \u001b[34mdegree_east\u001b[39m\n",
       "\n",
       "\u001b[32m  lat\u001b[39m   (217)\n",
       "    Datatype:    Float64\n",
       "    Dimensions:  lat\n",
       "    Attributes:\n",
       "     standard_name        = \u001b[34mlatitude\u001b[39m\n",
       "     units                = \u001b[34mdegree_north\u001b[39m\n",
       "\n",
       "\u001b[32m  time\u001b[39m   (384)\n",
       "    Datatype:    Float64\n",
       "    Dimensions:  time\n",
       "    Attributes:\n",
       "     standard_name        = \u001b[34mlatitude\u001b[39m\n",
       "     units                = \u001b[34mdays since 1900-01-01 00:00:00\u001b[39m\n",
       "\n",
       "\u001b[32m  seviri_sst\u001b[39m   (327 × 217 × 384)\n",
       "    Datatype:    Float32\n",
       "    Dimensions:  lon × lat × time\n",
       "    Attributes:\n",
       "     standard_name        = \u001b[34msea_water_temperature\u001b[39m\n",
       "     long name            = \u001b[34msea surface temperature\u001b[39m\n",
       "     units                = \u001b[34mdegree_Celsius\u001b[39m\n",
       "     _FillValue           = \u001b[34m-9999.0\u001b[39m\n",
       "\n",
       "\u001b[32m  seviri_sst_filled\u001b[39m   (327 × 217 × 384)\n",
       "    Datatype:    Float32\n",
       "    Dimensions:  lon × lat × time\n",
       "    Attributes:\n",
       "     standard_name        = \u001b[34msea_water_temperature\u001b[39m\n",
       "     long name            = \u001b[34msea surface temperature\u001b[39m\n",
       "     units                = \u001b[34mdegree_Celsius\u001b[39m\n",
       "     _FillValue           = \u001b[34m-9999.0\u001b[39m\n",
       "\n",
       "\u001b[32m  mask\u001b[39m   (327 × 217)\n",
       "    Datatype:    Int8\n",
       "    Dimensions:  lon × lat\n",
       "    Attributes:\n",
       "     long name            = \u001b[34mland sea mask\u001b[39m\n",
       "     comment              = \u001b[34m1-sea; 0-land\u001b[39m\n",
       "\n",
       "\u001b[31mGlobal attributes\u001b[39m\n",
       "  Conventions          = \u001b[34mCF-1.5\u001b[39m\n",
       "  title                = \u001b[34mDINEOF analysis of Western Mediterranean sea surface temperature\u001b[39m\n",
       "  author               = \u001b[34mIgor Tomazic\u001b[39m\n",
       "  institution          = \u001b[34mGHER, University of Liege\u001b[39m\n",
       "  source               = \u001b[34mhttp://gher-dineof01.phys.ulg.ac.be:8080/opendap/DW/dineof/SVRI_L3C_SST1H/medwest2_005_327x217/fc_cv5_k2c/20130801_20130816/df_al0_0008_mc0_nk56_nm40/IO/data.nc.html\u001b[39m\n",
       "  history              = \u001b[34mDINEOF analysis\u001b[39m\n",
       "  references           = \u001b[34mDINEOF http://modb.oce.ulg.ac.be/mediawiki/index.php/DINEOF\u001b[39m\n"
      ]
     },
     "execution_count": 1,
     "metadata": {},
     "output_type": "execute_result"
    }
   ],
   "source": [
    "using PyPlot\n",
    "using NCDatasets\n",
    "Dataset(\"WesternMedSST.nc\")"
   ]
  },
  {
   "cell_type": "markdown",
   "metadata": {},
   "source": [
    "# Useful functions\n",
    "\n",
    " * display the content of a NetCDF file.\n",
    "```julia\n",
    "Dataset(\"WesternMedSST.nc\")\n",
    "```\n",
    "\n",
    " * Read a variable from a NetCDF file.\n",
    "```julia\n",
    "ds = Dataset(\"WesternMedSST.nc\")\n",
    "SST = ds[\"seviri_sst_filled\"][:]\n",
    "close(ds)\n",
    "```\n",
    "\n",
    "More info at https://github.com/Alexander-Barth/NCDatasets.jl"
   ]
  },
  {
   "cell_type": "markdown",
   "metadata": {},
   "source": [
    "# Example"
   ]
  },
  {
   "cell_type": "markdown",
   "metadata": {},
   "source": [
    "Load modules and setup some helper functions"
   ]
  },
  {
   "cell_type": "code",
   "execution_count": 48,
   "metadata": {},
   "outputs": [
    {
     "data": {
      "text/plain": [
       "datetick (generic function with 2 methods)"
      ]
     },
     "execution_count": 48,
     "metadata": {},
     "output_type": "execute_result"
    }
   ],
   "source": [
    "using NCDatasets\n",
    "using PyPlot\n",
    "\n",
    "# Helper function for dateticks\n",
    "function datetick(axis,fmt = \"%Y-%m-%d\")\n",
    "    ax = axes()\n",
    "    formatter = matplotlib[:dates][:DateFormatter](fmt)\n",
    "\n",
    "    if axis == :x\n",
    "        ax[:xaxis][:set_major_formatter](formatter)\n",
    "    else\n",
    "        ax[:yaxis][:set_major_formatter](formatter)\n",
    "    end\n",
    "end\n",
    "\n"
   ]
  },
  {
   "cell_type": "code",
   "execution_count": 52,
   "metadata": {},
   "outputs": [
    {
     "data": {
      "text/plain": [
       "8784×8 Array{Float64,2}:\n",
       " 2004.0   1.0   1.0   0.0  0.0   0.297  0.003  0.0\n",
       " 2004.0   1.0   1.0   1.0  0.0   0.302  0.002  0.0\n",
       " 2004.0   1.0   1.0   2.0  0.0   0.295  0.006  0.0\n",
       " 2004.0   1.0   1.0   3.0  0.0   0.28   0.003  0.0\n",
       " 2004.0   1.0   1.0   4.0  0.0   0.236  0.004  0.0\n",
       " 2004.0   1.0   1.0   5.0  0.0   0.192  0.003  0.0\n",
       " 2004.0   1.0   1.0   6.0  0.0   0.164  0.002  0.0\n",
       " 2004.0   1.0   1.0   7.0  0.0   0.153  0.003  0.0\n",
       " 2004.0   1.0   1.0   8.0  0.0   0.126  0.002  0.0\n",
       " 2004.0   1.0   1.0   9.0  0.0   0.094  0.002  0.0\n",
       " 2004.0   1.0   1.0  10.0  0.0   0.067  0.002  0.0\n",
       " 2004.0   1.0   1.0  11.0  0.0   0.069  0.002  0.0\n",
       " 2004.0   1.0   1.0  12.0  0.0   0.08   0.001  0.0\n",
       "    ⋮                            ⋮                \n",
       " 2004.0  12.0  31.0  12.0  0.0   0.078  0.003  0.0\n",
       " 2004.0  12.0  31.0  13.0  0.0   0.031  0.002  0.0\n",
       " 2004.0  12.0  31.0  14.0  0.0  -0.002  0.005  0.0\n",
       " 2004.0  12.0  31.0  15.0  0.0  -0.025  0.001  0.0\n",
       " 2004.0  12.0  31.0  16.0  0.0  -0.037  0.004  0.0\n",
       " 2004.0  12.0  31.0  17.0  0.0  -0.029  0.004  0.0\n",
       " 2004.0  12.0  31.0  18.0  0.0   0.012  0.004  0.0\n",
       " 2004.0  12.0  31.0  19.0  0.0   0.018  0.001  0.0\n",
       " 2004.0  12.0  31.0  20.0  0.0   0.085  0.003  0.0\n",
       " 2004.0  12.0  31.0  21.0  0.0   0.106  0.01   0.0\n",
       " 2004.0  12.0  31.0  22.0  0.0   0.142  0.004  0.0\n",
       " 2004.0  12.0  31.0  23.0  0.0   0.199  0.007  0.0"
      ]
     },
     "execution_count": 52,
     "metadata": {},
     "output_type": "execute_result"
    }
   ],
   "source": [
    "using DelimitedFiles\n",
    "sl  = readdlm(\"8762075.sealevel.txt\",comments=true, comment_char='%')\n"
   ]
  },
  {
   "cell_type": "code",
   "execution_count": 54,
   "metadata": {},
   "outputs": [
    {
     "data": {
      "text/plain": [
       "2004-01-01T00:00:00"
      ]
     },
     "execution_count": 54,
     "metadata": {},
     "output_type": "execute_result"
    }
   ],
   "source": [
    "using Dates\n",
    "DateTime([sl[1,1:5]; 0]...) \n"
   ]
  },
  {
   "cell_type": "code",
   "execution_count": 55,
   "metadata": {},
   "outputs": [
    {
     "data": {
      "text/plain": [
       "2004-01-01T00:00:00"
      ]
     },
     "execution_count": 55,
     "metadata": {},
     "output_type": "execute_result"
    }
   ],
   "source": [
    "\n",
    "DateTime(sl[1,1],sl[1,2],sl[1,3],sl[1,4],sl[1,5],0)"
   ]
  },
  {
   "cell_type": "code",
   "execution_count": 56,
   "metadata": {},
   "outputs": [
    {
     "data": {
      "text/plain": [
       "10-element Array{Int64,1}:\n",
       "   1\n",
       "   4\n",
       "   9\n",
       "  16\n",
       "  25\n",
       "  36\n",
       "  49\n",
       "  64\n",
       "  81\n",
       " 100"
      ]
     },
     "execution_count": 56,
     "metadata": {},
     "output_type": "execute_result"
    }
   ],
   "source": [
    "[i^2 for i = 1:10]"
   ]
  },
  {
   "cell_type": "code",
   "execution_count": 57,
   "metadata": {},
   "outputs": [
    {
     "data": {
      "text/plain": [
       "8784"
      ]
     },
     "execution_count": 57,
     "metadata": {},
     "output_type": "execute_result"
    }
   ],
   "source": [
    "size(sl,1)"
   ]
  },
  {
   "cell_type": "code",
   "execution_count": 58,
   "metadata": {},
   "outputs": [],
   "source": [
    "t = [DateTime(sl[i,1],sl[i,2],sl[i,3],sl[i,4],sl[i,5],0) \n",
    "    for i = 1:size(sl,1)];\n"
   ]
  },
  {
   "cell_type": "code",
   "execution_count": 63,
   "metadata": {},
   "outputs": [
    {
     "data": {
      "image/png": "[encoded data removed]",
      "text/plain": [
       "Figure(PyObject <matplotlib.figure.Figure object at 0x7f1772f00978>)"
      ]
     },
     "metadata": {},
     "output_type": "display_data"
    },
    {
     "data": {
      "text/plain": [
       "1-element Array{PyCall.PyObject,1}:\n",
       " PyObject <matplotlib.lines.Line2D object at 0x7f1772ea2470>"
      ]
     },
     "execution_count": 63,
     "metadata": {},
     "output_type": "execute_result"
    }
   ],
   "source": [
    "plot(t[:],sl[:,6],\"g\")\n"
   ]
  },
  {
   "cell_type": "code",
   "execution_count": 62,
   "metadata": {},
   "outputs": [
    {
     "ename": "UndefVarError",
     "evalue": "UndefVarError: axes not defined",
     "output_type": "error",
     "traceback": [
      "UndefVarError: axes not defined",
      "",
      "Stacktrace:",
      " [1] top-level scope at In[62]:2"
     ]
    }
   ],
   "source": [
    "plot(t,sl[:,6],\"g\")\n",
    "ax = axes()\n",
    "formatter = matplotlib[:dates][:DateFormatter](\"%Y-%m\")\n",
    "locator = matplotlib[:dates][:MonthLocator](interval=2)\n",
    "ax[:xaxis][:set_major_locator](locator)\n",
    "ax[:xaxis][:set_major_formatter](formatter)\n",
    "\n"
   ]
  },
  {
   "cell_type": "code",
   "execution_count": 61,
   "metadata": {},
   "outputs": [
    {
     "ename": "ErrorException",
     "evalue": "cannot assign variable Libc.time from module Main",
     "output_type": "error",
     "traceback": [
      "cannot assign variable Libc.time from module Main",
      "",
      "Stacktrace:",
      " [1] top-level scope at In[61]:5"
     ]
    }
   ],
   "source": [
    "fname = \"WesternMedSST.nc\";\n",
    "ds = Dataset(fname)\n",
    "lon = ds[\"lon\"][:];\n",
    "lat = ds[\"lat\"][:];\n",
    "time = ds[\"time\"][:];\n",
    "SST = ds[\"seviri_sst\"][:];\n",
    "mask = ds[\"mask\"][:];\n",
    "close(ds)\n"
   ]
  },
  {
   "cell_type": "code",
   "execution_count": 12,
   "metadata": {},
   "outputs": [
    {
     "data": {
      "text/plain": [
       "time (generic function with 2 methods)"
      ]
     },
     "execution_count": 12,
     "metadata": {},
     "output_type": "execute_result"
    }
   ],
   "source": [
    "time"
   ]
  },
  {
   "cell_type": "code",
   "execution_count": 13,
   "metadata": {},
   "outputs": [
    {
     "ename": "UndefVarError",
     "evalue": "UndefVarError: SST not defined",
     "output_type": "error",
     "traceback": [
      "UndefVarError: SST not defined",
      "",
      "Stacktrace:",
      " [1] top-level scope at In[13]:1"
     ]
    }
   ],
   "source": [
    "SSTdiff = SST[:,:,2] - SST[:,:,1]\n",
    "pcolor(lon,lat,SST[:,:,2]'); colorbar()"
   ]
  },
  {
   "cell_type": "code",
   "execution_count": 14,
   "metadata": {},
   "outputs": [
    {
     "ename": "UndefVarError",
     "evalue": "UndefVarError: SST not defined",
     "output_type": "error",
     "traceback": [
      "UndefVarError: SST not defined",
      "",
      "Stacktrace:",
      " [1] top-level scope at In[14]:1"
     ]
    }
   ],
   "source": [
    "SSTdiff = SST[:,:,2] - SST[:,:,1]\n",
    "pcolor(lon,lat,SSTdiff'); colorbar()"
   ]
  },
  {
   "cell_type": "markdown",
   "metadata": {},
   "source": [
    "### Plot the first time instance of the data set with pcolor."
   ]
  },
  {
   "cell_type": "code",
   "execution_count": 15,
   "metadata": {},
   "outputs": [
    {
     "ename": "UndefVarError",
     "evalue": "UndefVarError: SST not defined",
     "output_type": "error",
     "traceback": [
      "UndefVarError: SST not defined",
      "",
      "Stacktrace:",
      " [1] top-level scope at In[15]:6"
     ]
    }
   ],
   "source": [
    "ds = Dataset(\"WesternMedSST.nc\")\n",
    "lon = ds[\"lon\"][:]\n",
    "lat = ds[\"lat\"][:]\n",
    "close(ds)\n",
    "\n",
    "pcolor(lon,lat,SST[:,:,1]')"
   ]
  },
  {
   "cell_type": "code",
   "execution_count": 16,
   "metadata": {},
   "outputs": [
    {
     "ename": "UndefVarError",
     "evalue": "UndefVarError: SST not defined",
     "output_type": "error",
     "traceback": [
      "UndefVarError: SST not defined",
      "",
      "Stacktrace:",
      " [1] top-level scope at In[16]:1"
     ]
    }
   ],
   "source": [
    "pcolor(lon,lat,SST[:,:,1]');\n",
    "colorbar()\n"
   ]
  },
  {
   "cell_type": "code",
   "execution_count": 17,
   "metadata": {},
   "outputs": [
    {
     "ename": "UndefVarError",
     "evalue": "UndefVarError: SST not defined",
     "output_type": "error",
     "traceback": [
      "UndefVarError: SST not defined",
      "",
      "Stacktrace:",
      " [1] top-level scope at In[17]:1"
     ]
    }
   ],
   "source": [
    "SST[1,1,1]"
   ]
  },
  {
   "cell_type": "code",
   "execution_count": 18,
   "metadata": {},
   "outputs": [
    {
     "ename": "UndefVarError",
     "evalue": "UndefVarError: SST not defined",
     "output_type": "error",
     "traceback": [
      "UndefVarError: SST not defined",
      "",
      "Stacktrace:",
      " [1] top-level scope at In[18]:1"
     ]
    }
   ],
   "source": [
    "ismissing(SST[1,1,1])"
   ]
  },
  {
   "cell_type": "code",
   "execution_count": 19,
   "metadata": {},
   "outputs": [
    {
     "ename": "UndefVarError",
     "evalue": "UndefVarError: SST not defined",
     "output_type": "error",
     "traceback": [
      "UndefVarError: SST not defined",
      "",
      "Stacktrace:",
      " [1] top-level scope at In[19]:3"
     ]
    }
   ],
   "source": [
    "k = 1\n",
    "count = 0\n",
    "if !ismissing(SST[1,1,k])\n",
    "    # do something\n",
    "    count = count+1\n",
    "end\n",
    "count"
   ]
  },
  {
   "cell_type": "markdown",
   "metadata": {},
   "source": [
    "### Plot the percentage of valid data grid point over time."
   ]
  },
  {
   "cell_type": "code",
   "execution_count": 20,
   "metadata": {},
   "outputs": [
    {
     "ename": "UndefVarError",
     "evalue": "UndefVarError: SST not defined",
     "output_type": "error",
     "traceback": [
      "UndefVarError: SST not defined",
      "",
      "Stacktrace:",
      " [1] top-level scope at In[20]:1"
     ]
    }
   ],
   "source": [
    "imax = size(SST,1)\n",
    "jmax = size(SST,2)\n",
    "kmax = size(SST,3)\n"
   ]
  },
  {
   "cell_type": "code",
   "execution_count": 21,
   "metadata": {},
   "outputs": [
    {
     "ename": "UndefVarError",
     "evalue": "UndefVarError: SST not defined",
     "output_type": "error",
     "traceback": [
      "UndefVarError: SST not defined",
      "",
      "Stacktrace:",
      " [1] top-level scope at In[21]:1"
     ]
    }
   ],
   "source": [
    "imax, jmax, kmax = size(SST)"
   ]
  },
  {
   "cell_type": "code",
   "execution_count": 22,
   "metadata": {},
   "outputs": [
    {
     "ename": "UndefVarError",
     "evalue": "UndefVarError: kmax not defined",
     "output_type": "error",
     "traceback": [
      "UndefVarError: kmax not defined",
      "",
      "Stacktrace:",
      " [1] top-level scope at In[22]:1"
     ]
    }
   ],
   "source": [
    "nbpixels = zeros(kmax)\n",
    "\n",
    "for k = 1:kmax\n",
    "  count = 0\n",
    "\n",
    "  for j = 1:jmax\n",
    "    for i = 1:imax\n",
    "       if !ismissing(SST[i,j,k])\n",
    "         count = count + 1\n",
    "       end        \n",
    "    end\n",
    "        \n",
    "    nbpixels[k] = count\n",
    "  end\n",
    "end\n",
    "percentage = 100 * nbpixels/(imax*jmax)\n"
   ]
  },
  {
   "cell_type": "code",
   "execution_count": 23,
   "metadata": {},
   "outputs": [
    {
     "ename": "UndefVarError",
     "evalue": "UndefVarError: percentage not defined",
     "output_type": "error",
     "traceback": [
      "UndefVarError: percentage not defined",
      "",
      "Stacktrace:",
      " [1] top-level scope at In[23]:1"
     ]
    }
   ],
   "source": [
    "plot(percentage)"
   ]
  },
  {
   "cell_type": "code",
   "execution_count": 24,
   "metadata": {},
   "outputs": [
    {
     "ename": "UndefVarError",
     "evalue": "UndefVarError: SST not defined",
     "output_type": "error",
     "traceback": [
      "UndefVarError: SST not defined",
      "",
      "Stacktrace:",
      " [1] top-level scope at In[24]:1"
     ]
    }
   ],
   "source": [
    "sum(sum(.!ismissing.(SST[:,:,1]),1),2)"
   ]
  },
  {
   "cell_type": "code",
   "execution_count": 25,
   "metadata": {},
   "outputs": [
    {
     "ename": "UndefVarError",
     "evalue": "UndefVarError: SST not defined",
     "output_type": "error",
     "traceback": [
      "UndefVarError: SST not defined",
      "",
      "Stacktrace:",
      " [1] top-level scope at In[25]:1"
     ]
    }
   ],
   "source": [
    "\n",
    "sum(.!ismissing.(SST[:,:,1]),[1,2])"
   ]
  },
  {
   "cell_type": "code",
   "execution_count": 26,
   "metadata": {},
   "outputs": [
    {
     "ename": "UndefVarError",
     "evalue": "UndefVarError: imax not defined",
     "output_type": "error",
     "traceback": [
      "UndefVarError: imax not defined",
      "",
      "Stacktrace:",
      " [1] top-level scope at In[26]:1"
     ]
    }
   ],
   "source": [
    "count = zeros((imax,jmax))\n",
    "for j = 1:jmax\n",
    "    for i = 1:imax\n",
    "        for k = 1:kmax\n",
    "            if !ismissing(SST[i,j,k])\n",
    "                count[i,j] = count[i,j] + 1\n",
    "            end\n",
    "        end\n",
    "\n",
    "        count[i,j] = 100*count[i,j]/kmax\n",
    "    end\n",
    "end\n"
   ]
  },
  {
   "cell_type": "code",
   "execution_count": 27,
   "metadata": {},
   "outputs": [
    {
     "ename": "UndefVarError",
     "evalue": "UndefVarError: SST not defined",
     "output_type": "error",
     "traceback": [
      "UndefVarError: SST not defined",
      "",
      "Stacktrace:",
      " [1] top-level scope at In[27]:1"
     ]
    }
   ],
   "source": [
    "count = 100 * squeeze(sum(.!ismissing.(SST),3),3) / kmax;\n"
   ]
  },
  {
   "cell_type": "code",
   "execution_count": 28,
   "metadata": {},
   "outputs": [
    {
     "ename": "PyCall.PyError",
     "evalue": "PyError ($(Expr(:escape, :(ccall(#= /home/abarth/.julia/packages/PyCall/akNFy/src/pyfncall.jl:44 =# @pysym(:PyObject_Call), PyPtr, (PyPtr, PyPtr, PyPtr), o, pyargsptr, kw))))) <class 'ValueError'>\nValueError('not enough values to unpack (expected 2, got 0)',)\n  File \"/usr/lib/python3/dist-packages/matplotlib/pyplot.py\", line 3076, in pcolor\n    ret = ax.pcolor(*args, **kwargs)\n  File \"/usr/lib/python3/dist-packages/matplotlib/__init__.py\", line 1814, in inner\n    return func(ax, *args, **kwargs)\n  File \"/usr/lib/python3/dist-packages/matplotlib/axes/_axes.py\", line 5193, in pcolor\n    X, Y, C = self._pcolorargs('pcolor', *args, allmatch=False)\n  File \"/usr/lib/python3/dist-packages/matplotlib/axes/_axes.py\", line 4995, in _pcolorargs\n    numRows, numCols = C.shape\n",
     "output_type": "error",
     "traceback": [
      "PyError ($(Expr(:escape, :(ccall(#= /home/abarth/.julia/packages/PyCall/akNFy/src/pyfncall.jl:44 =# @pysym(:PyObject_Call), PyPtr, (PyPtr, PyPtr, PyPtr), o, pyargsptr, kw))))) <class 'ValueError'>\nValueError('not enough values to unpack (expected 2, got 0)',)\n  File \"/usr/lib/python3/dist-packages/matplotlib/pyplot.py\", line 3076, in pcolor\n    ret = ax.pcolor(*args, **kwargs)\n  File \"/usr/lib/python3/dist-packages/matplotlib/__init__.py\", line 1814, in inner\n    return func(ax, *args, **kwargs)\n  File \"/usr/lib/python3/dist-packages/matplotlib/axes/_axes.py\", line 5193, in pcolor\n    X, Y, C = self._pcolorargs('pcolor', *args, allmatch=False)\n  File \"/usr/lib/python3/dist-packages/matplotlib/axes/_axes.py\", line 4995, in _pcolorargs\n    numRows, numCols = C.shape\n",
      "",
      "Stacktrace:",
      " [1] pyerr_check at /home/abarth/.julia/packages/PyCall/akNFy/src/exception.jl:60 [inlined]",
      " [2] pyerr_check at /home/abarth/.julia/packages/PyCall/akNFy/src/exception.jl:64 [inlined]",
      " [3] macro expansion at /home/abarth/.julia/packages/PyCall/akNFy/src/exception.jl:84 [inlined]",
      " [4] __pycall!(::PyCall.PyObject, ::Ptr{PyCall.PyObject_struct}, ::PyCall.PyObject, ::Ptr{Nothing}) at /home/abarth/.julia/packages/PyCall/akNFy/src/pyfncall.jl:44",
      " [5] _pycall!(::PyCall.PyObject, ::PyCall.PyObject, ::Tuple{Array{Union{Missing, Float64},1},Array{Union{Missing, Float64},1},Int64}, ::Int64, ::Ptr{Nothing}) at /home/abarth/.julia/packages/PyCall/akNFy/src/pyfncall.jl:22",
      " [6] _pycall!(::PyCall.PyObject, ::PyCall.PyObject, ::Tuple{Array{Union{Missing, Float64},1},Array{Union{Missing, Float64},1},Int64}, ::Base.Iterators.Pairs{Union{},Union{},Tuple{},NamedTuple{(),Tuple{}}}) at /home/abarth/.julia/packages/PyCall/akNFy/src/pyfncall.jl:11",
      " [7] #pycall#88(::Base.Iterators.Pairs{Union{},Union{},Tuple{},NamedTuple{(),Tuple{}}}, ::Function, ::PyCall.PyObject, ::Type{PyCall.PyAny}, ::Array{Union{Missing, Float64},1}, ::Vararg{Any,N} where N) at /home/abarth/.julia/packages/PyCall/akNFy/src/pyfncall.jl:86",
      " [8] pycall(::PyCall.PyObject, ::Type{PyCall.PyAny}, ::Array{Union{Missing, Float64},1}, ::Vararg{Any,N} where N) at /home/abarth/.julia/packages/PyCall/akNFy/src/pyfncall.jl:86",
      " [9] #pcolor#81(::Base.Iterators.Pairs{Union{},Union{},Tuple{},NamedTuple{(),Tuple{}}}, ::Function, ::Array{Union{Missing, Float64},1}, ::Vararg{Any,N} where N) at /home/abarth/.julia/packages/PyPlot/tA0wP/src/PyPlot.jl:179",
      " [10] pcolor(::Array{Union{Missing, Float64},1}, ::Array{Union{Missing, Float64},1}, ::Int64) at /home/abarth/.julia/packages/PyPlot/tA0wP/src/PyPlot.jl:176",
      " [11] top-level scope at In[28]:1"
     ]
    }
   ],
   "source": [
    "pcolor(lon,lat,count'), colorbar()\n"
   ]
  },
  {
   "cell_type": "markdown",
   "metadata": {},
   "source": [
    "### For all time instances, what is the percentage of sea grid points not covered by clouds?"
   ]
  },
  {
   "cell_type": "code",
   "execution_count": 29,
   "metadata": {},
   "outputs": [
    {
     "ename": "UndefVarError",
     "evalue": "UndefVarError: kmax not defined",
     "output_type": "error",
     "traceback": [
      "UndefVarError: kmax not defined",
      "",
      "Stacktrace:",
      " [1] top-level scope at In[29]:1"
     ]
    }
   ],
   "source": [
    "count = zeros(Int,(kmax,))\n",
    "for k = 1:kmax\n",
    "    for j = 1:jmax\n",
    "        for i = 1:imax\n",
    "            if !ismissing(SST[i,j,k])\n",
    "                count[k] = count[k] + 1\n",
    "            end\n",
    "        end\n",
    "    end\n",
    "end\n"
   ]
  },
  {
   "cell_type": "code",
   "execution_count": 30,
   "metadata": {},
   "outputs": [
    {
     "ename": "MethodError",
     "evalue": "MethodError: no method matching getindex(::Int64, ::UnitRange{Int64})\nClosest candidates are:\n  getindex(::Number) at number.jl:75\n  getindex(::Number, !Matched::Integer) at number.jl:77\n  getindex(::Number, !Matched::Integer...) at number.jl:82\n  ...",
     "output_type": "error",
     "traceback": [
      "MethodError: no method matching getindex(::Int64, ::UnitRange{Int64})\nClosest candidates are:\n  getindex(::Number) at number.jl:75\n  getindex(::Number, !Matched::Integer) at number.jl:77\n  getindex(::Number, !Matched::Integer...) at number.jl:82\n  ...",
      "",
      "Stacktrace:",
      " [1] top-level scope at In[30]:1"
     ]
    }
   ],
   "source": [
    "count[1:4]"
   ]
  },
  {
   "cell_type": "code",
   "execution_count": 31,
   "metadata": {},
   "outputs": [
    {
     "ename": "UndefVarError",
     "evalue": "UndefVarError: SST not defined",
     "output_type": "error",
     "traceback": [
      "UndefVarError: SST not defined",
      "",
      "Stacktrace:",
      " [1] top-level scope at In[31]:1"
     ]
    }
   ],
   "source": [
    "count = squeeze(sum(sum(.!ismissing.(SST),1),2),(1,2))\n",
    "count[1:4]"
   ]
  },
  {
   "cell_type": "code",
   "execution_count": 32,
   "metadata": {},
   "outputs": [
    {
     "ename": "UndefVarError",
     "evalue": "UndefVarError: mask not defined",
     "output_type": "error",
     "traceback": [
      "UndefVarError: mask not defined",
      "",
      "Stacktrace:",
      " [1] top-level scope at In[32]:1"
     ]
    }
   ],
   "source": [
    "percentage = 100 * count / sum(mask)\n",
    "percentage[1:10]"
   ]
  },
  {
   "cell_type": "code",
   "execution_count": 33,
   "metadata": {},
   "outputs": [
    {
     "ename": "MethodError",
     "evalue": "MethodError: no method matching getindex(::typeof(time), ::UnitRange{Int64})",
     "output_type": "error",
     "traceback": [
      "MethodError: no method matching getindex(::typeof(time), ::UnitRange{Int64})",
      "",
      "Stacktrace:",
      " [1] top-level scope at In[33]:1"
     ]
    }
   ],
   "source": [
    "time[1:5]"
   ]
  },
  {
   "cell_type": "code",
   "execution_count": 34,
   "metadata": {},
   "outputs": [
    {
     "ename": "UndefVarError",
     "evalue": "UndefVarError: percentage not defined",
     "output_type": "error",
     "traceback": [
      "UndefVarError: percentage not defined",
      "",
      "Stacktrace:",
      " [1] top-level scope at In[34]:1"
     ]
    }
   ],
   "source": [
    "plot(time,percentage)\n",
    "datetick(:x,\"%m-%d\")\n"
   ]
  },
  {
   "cell_type": "markdown",
   "metadata": {},
   "source": [
    "### Plot the time average of SST"
   ]
  },
  {
   "cell_type": "code",
   "execution_count": 35,
   "metadata": {},
   "outputs": [
    {
     "ename": "UndefVarError",
     "evalue": "UndefVarError: SST not defined",
     "output_type": "error",
     "traceback": [
      "UndefVarError: SST not defined",
      "",
      "Stacktrace:",
      " [1] top-level scope at In[35]:1"
     ]
    }
   ],
   "source": [
    "SST2 = copy(SST.data);\n",
    "SST2[ismissing.(SST)] = 0;\n",
    "count = sum(.!ismissing.(SST),3)\n",
    "meanSST = DataArray(sum(SST2,3) ./ count,count .== 0);\n",
    "\n",
    "\n",
    "pcolor(lon,lat,meanSST[:,:,1]');   colorbar()\n"
   ]
  },
  {
   "cell_type": "markdown",
   "metadata": {},
   "source": [
    "### Plot the space average of SST \n",
    "\n",
    "* assuming that all pixels have the same area"
   ]
  },
  {
   "cell_type": "code",
   "execution_count": 36,
   "metadata": {},
   "outputs": [
    {
     "ename": "UndefVarError",
     "evalue": "UndefVarError: SST2 not defined",
     "output_type": "error",
     "traceback": [
      "UndefVarError: SST2 not defined",
      "",
      "Stacktrace:",
      " [1] top-level scope at In[36]:1"
     ]
    }
   ],
   "source": [
    "meanSSTt = sum(sum(SST2,1),2) ./ sum(sum(.!ismissing.(SST),1),2);\n",
    "meanSSTt = squeeze(meanSSTt,(1,2));\n",
    "plot(time,meanSSTt)\n",
    "datetick(:x,\"%m-%d\")\n"
   ]
  },
  {
   "cell_type": "code",
   "execution_count": 37,
   "metadata": {},
   "outputs": [
    {
     "ename": "UndefVarError",
     "evalue": "UndefVarError: mean not defined",
     "output_type": "error",
     "traceback": [
      "UndefVarError: mean not defined",
      "",
      "Stacktrace:",
      " [1] top-level scope at In[37]:1"
     ]
    }
   ],
   "source": [
    "meanSSTt2 = mean(mean(SST,1,skipna=true),2,skipna=true)\n",
    "meanSSTt2 = squeeze(meanSSTt2,(1,2));\n",
    "plot(time,meanSSTt,\"b\")\n",
    "plot(time,meanSSTt2,\"r\")\n",
    "legend([\"result with sum\",\"result with nanmean\"]);\n",
    "datetick(:x,\"%m-%d\")\n"
   ]
  },
  {
   "cell_type": "markdown",
   "metadata": {},
   "source": [
    "### Make a time serie with the number of pixels with the temperature larger than 25 degree Celsius."
   ]
  },
  {
   "cell_type": "code",
   "execution_count": 38,
   "metadata": {},
   "outputs": [
    {
     "ename": "UndefVarError",
     "evalue": "UndefVarError: kmax not defined",
     "output_type": "error",
     "traceback": [
      "UndefVarError: kmax not defined",
      "",
      "Stacktrace:",
      " [1] top-level scope at In[38]:1"
     ]
    }
   ],
   "source": [
    "count = zeros((kmax,))\n",
    "for k = 1:kmax\n",
    "    for j = 1:jmax\n",
    "        for i = 1:imax\n",
    "            if !ismissing(SST[i,j,k]) && (SST[i,j,k] > 25)\n",
    "                count[k] = count[k] + 1\n",
    "            end\n",
    "        end\n",
    "    end\n",
    "end\n"
   ]
  },
  {
   "cell_type": "code",
   "execution_count": 39,
   "metadata": {},
   "outputs": [
    {
     "ename": "MethodError",
     "evalue": "MethodError: no method matching getindex(::Int64, ::UnitRange{Int64})\nClosest candidates are:\n  getindex(::Number) at number.jl:75\n  getindex(::Number, !Matched::Integer) at number.jl:77\n  getindex(::Number, !Matched::Integer...) at number.jl:82\n  ...",
     "output_type": "error",
     "traceback": [
      "MethodError: no method matching getindex(::Int64, ::UnitRange{Int64})\nClosest candidates are:\n  getindex(::Number) at number.jl:75\n  getindex(::Number, !Matched::Integer) at number.jl:77\n  getindex(::Number, !Matched::Integer...) at number.jl:82\n  ...",
      "",
      "Stacktrace:",
      " [1] top-level scope at In[39]:1"
     ]
    }
   ],
   "source": [
    "count[1:5]"
   ]
  },
  {
   "cell_type": "code",
   "execution_count": 40,
   "metadata": {},
   "outputs": [
    {
     "ename": "UndefVarError",
     "evalue": "UndefVarError: SST not defined",
     "output_type": "error",
     "traceback": [
      "UndefVarError: SST not defined",
      "",
      "Stacktrace:",
      " [1] top-level scope at In[40]:1"
     ]
    }
   ],
   "source": [
    "count = sum(SST .> 25,[1,2],skipmissing = true)\n",
    "count = squeeze(count,(1,2))\n"
   ]
  },
  {
   "cell_type": "code",
   "execution_count": 41,
   "metadata": {},
   "outputs": [
    {
     "ename": "MethodError",
     "evalue": "MethodError: no method matching getindex(::Int64, ::UnitRange{Int64})\nClosest candidates are:\n  getindex(::Number) at number.jl:75\n  getindex(::Number, !Matched::Integer) at number.jl:77\n  getindex(::Number, !Matched::Integer...) at number.jl:82\n  ...",
     "output_type": "error",
     "traceback": [
      "MethodError: no method matching getindex(::Int64, ::UnitRange{Int64})\nClosest candidates are:\n  getindex(::Number) at number.jl:75\n  getindex(::Number, !Matched::Integer) at number.jl:77\n  getindex(::Number, !Matched::Integer...) at number.jl:82\n  ...",
      "",
      "Stacktrace:",
      " [1] top-level scope at In[41]:1"
     ]
    }
   ],
   "source": [
    "count[1:5]"
   ]
  },
  {
   "cell_type": "code",
   "execution_count": 42,
   "metadata": {},
   "outputs": [
    {
     "ename": "PyCall.PyError",
     "evalue": "PyError ($(Expr(:escape, :(ccall(#= /home/abarth/.julia/packages/PyCall/akNFy/src/pyfncall.jl:44 =# @pysym(:PyObject_Call), PyPtr, (PyPtr, PyPtr, PyPtr), o, pyargsptr, kw))))) <class 'RuntimeError'>\nRuntimeError('Julia exception: MethodError(iterate, (time,), 0x00000000000061c8)',)\n  File \"/usr/lib/python3/dist-packages/matplotlib/pyplot.py\", line 3154, in plot\n    ret = ax.plot(*args, **kwargs)\n  File \"/usr/lib/python3/dist-packages/matplotlib/__init__.py\", line 1814, in inner\n    return func(ax, *args, **kwargs)\n  File \"/usr/lib/python3/dist-packages/matplotlib/axes/_axes.py\", line 1424, in plot\n    for line in self._get_lines(*args, **kwargs):\n  File \"/usr/lib/python3/dist-packages/matplotlib/axes/_base.py\", line 386, in _grab_next_args\n    for seg in self._plot_args(remaining, kwargs):\n  File \"/usr/lib/python3/dist-packages/matplotlib/axes/_base.py\", line 364, in _plot_args\n    x, y = self._xy_from_xy(x, y)\n  File \"/usr/lib/python3/dist-packages/matplotlib/axes/_base.py\", line 197, in _xy_from_xy\n    bx = self.axes.xaxis.update_units(x)\n  File \"/usr/lib/python3/dist-packages/matplotlib/axis.py\", line 1383, in update_units\n    converter = munits.registry.get_converter(data)\n  File \"/usr/lib/python3/dist-packages/matplotlib/units.py\", line 158, in get_converter\n    converter = self.get_converter(next_item)\n  File \"/usr/lib/python3/dist-packages/matplotlib/units.py\", line 161, in get_converter\n    if converter is None and iterable(x):\n  File \"/usr/lib/python3/dist-packages/matplotlib/cbook.py\", line 690, in iterable\n    iter(obj)\n",
     "output_type": "error",
     "traceback": [
      "PyError ($(Expr(:escape, :(ccall(#= /home/abarth/.julia/packages/PyCall/akNFy/src/pyfncall.jl:44 =# @pysym(:PyObject_Call), PyPtr, (PyPtr, PyPtr, PyPtr), o, pyargsptr, kw))))) <class 'RuntimeError'>\nRuntimeError('Julia exception: MethodError(iterate, (time,), 0x00000000000061c8)',)\n  File \"/usr/lib/python3/dist-packages/matplotlib/pyplot.py\", line 3154, in plot\n    ret = ax.plot(*args, **kwargs)\n  File \"/usr/lib/python3/dist-packages/matplotlib/__init__.py\", line 1814, in inner\n    return func(ax, *args, **kwargs)\n  File \"/usr/lib/python3/dist-packages/matplotlib/axes/_axes.py\", line 1424, in plot\n    for line in self._get_lines(*args, **kwargs):\n  File \"/usr/lib/python3/dist-packages/matplotlib/axes/_base.py\", line 386, in _grab_next_args\n    for seg in self._plot_args(remaining, kwargs):\n  File \"/usr/lib/python3/dist-packages/matplotlib/axes/_base.py\", line 364, in _plot_args\n    x, y = self._xy_from_xy(x, y)\n  File \"/usr/lib/python3/dist-packages/matplotlib/axes/_base.py\", line 197, in _xy_from_xy\n    bx = self.axes.xaxis.update_units(x)\n  File \"/usr/lib/python3/dist-packages/matplotlib/axis.py\", line 1383, in update_units\n    converter = munits.registry.get_converter(data)\n  File \"/usr/lib/python3/dist-packages/matplotlib/units.py\", line 158, in get_converter\n    converter = self.get_converter(next_item)\n  File \"/usr/lib/python3/dist-packages/matplotlib/units.py\", line 161, in get_converter\n    if converter is None and iterable(x):\n  File \"/usr/lib/python3/dist-packages/matplotlib/cbook.py\", line 690, in iterable\n    iter(obj)\n",
      "",
      "Stacktrace:",
      " [1] pyerr_check at /home/abarth/.julia/packages/PyCall/akNFy/src/exception.jl:60 [inlined]",
      " [2] pyerr_check at /home/abarth/.julia/packages/PyCall/akNFy/src/exception.jl:64 [inlined]",
      " [3] macro expansion at /home/abarth/.julia/packages/PyCall/akNFy/src/exception.jl:84 [inlined]",
      " [4] __pycall!(::PyCall.PyObject, ::Ptr{PyCall.PyObject_struct}, ::PyCall.PyObject, ::Ptr{Nothing}) at /home/abarth/.julia/packages/PyCall/akNFy/src/pyfncall.jl:44",
      " [5] _pycall!(::PyCall.PyObject, ::PyCall.PyObject, ::Tuple{typeof(time),Int64}, ::Int64, ::Ptr{Nothing}) at /home/abarth/.julia/packages/PyCall/akNFy/src/pyfncall.jl:22",
      " [6] _pycall!(::PyCall.PyObject, ::PyCall.PyObject, ::Tuple{typeof(time),Int64}, ::Base.Iterators.Pairs{Union{},Union{},Tuple{},NamedTuple{(),Tuple{}}}) at /home/abarth/.julia/packages/PyCall/akNFy/src/pyfncall.jl:11",
      " [7] #pycall#88(::Base.Iterators.Pairs{Union{},Union{},Tuple{},NamedTuple{(),Tuple{}}}, ::Function, ::PyCall.PyObject, ::Type{PyCall.PyAny}, ::Function, ::Vararg{Any,N} where N) at /home/abarth/.julia/packages/PyCall/akNFy/src/pyfncall.jl:86",
      " [8] pycall(::PyCall.PyObject, ::Type{PyCall.PyAny}, ::Function, ::Vararg{Any,N} where N) at /home/abarth/.julia/packages/PyCall/akNFy/src/pyfncall.jl:86",
      " [9] #plot#85(::Base.Iterators.Pairs{Union{},Union{},Tuple{},NamedTuple{(),Tuple{}}}, ::Function, ::Function, ::Vararg{Any,N} where N) at /home/abarth/.julia/packages/PyPlot/tA0wP/src/PyPlot.jl:179",
      " [10] plot(::Function, ::Vararg{Any,N} where N) at /home/abarth/.julia/packages/PyPlot/tA0wP/src/PyPlot.jl:176",
      " [11] top-level scope at In[42]:1"
     ]
    }
   ],
   "source": [
    "plot(time,count)\n",
    "datetick(:x,\"%m-%d\")\n"
   ]
  },
  {
   "cell_type": "markdown",
   "metadata": {},
   "source": [
    "### Make a time serie of the area (in km2) with the temperature larger than 25 degree Celsius"
   ]
  },
  {
   "cell_type": "code",
   "execution_count": 43,
   "metadata": {},
   "outputs": [],
   "source": [
    "# Earth Radius (in km)\n",
    "R = 6371;\n",
    "# surface of each cell\n",
    "dx = pi * 0.05 * R/180;\n",
    "dy = pi * 0.05 * R/180 * cos.(pi*lat/180);\n"
   ]
  },
  {
   "cell_type": "code",
   "execution_count": 44,
   "metadata": {},
   "outputs": [
    {
     "ename": "UndefVarError",
     "evalue": "UndefVarError: kmax not defined",
     "output_type": "error",
     "traceback": [
      "UndefVarError: kmax not defined",
      "",
      "Stacktrace:",
      " [1] top-level scope at In[44]:1"
     ]
    }
   ],
   "source": [
    "area = zeros((kmax,))\n",
    "for k = 1:kmax\n",
    "    for j = 1:jmax\n",
    "        for i = 1:imax\n",
    "            if !ismissing(SST[i,j,k]) && (SST[i,j,k] > 25)\n",
    "                area[k] = area[k] + dx * dy[j]\n",
    "            end\n",
    "        end\n",
    "    end\n",
    "end\n"
   ]
  },
  {
   "cell_type": "code",
   "execution_count": 45,
   "metadata": {
    "scrolled": false
   },
   "outputs": [
    {
     "ename": "UndefVarError",
     "evalue": "UndefVarError: area not defined",
     "output_type": "error",
     "traceback": [
      "UndefVarError: area not defined",
      "",
      "Stacktrace:",
      " [1] top-level scope at In[45]:1"
     ]
    }
   ],
   "source": [
    "plot(time,area)\n",
    "datetick(:x,\"%m-%d\")\n"
   ]
  },
  {
   "cell_type": "code",
   "execution_count": 46,
   "metadata": {},
   "outputs": [
    {
     "ename": "UndefVarError",
     "evalue": "UndefVarError: imax not defined",
     "output_type": "error",
     "traceback": [
      "UndefVarError: imax not defined",
      "",
      "Stacktrace:",
      " [1] top-level scope at In[46]:1"
     ]
    }
   ],
   "source": [
    "average = zeros(imax,jmax)\n",
    "  \n",
    "for i = 1:imax\n",
    "    for j = 1:jmax\n",
    "       mymean = 0.\n",
    "       count = 0\n",
    "\n",
    "       for k = 1:kmax\n",
    "           if !ismissing(SST[i,j,k])\n",
    "              mymean = mymean + SST[i,j,k]\n",
    "              count = count+1\n",
    "            end\n",
    "        end\n",
    "        \n",
    "        mymean = mymean/count\n",
    "        average[i,j] = mymean   \n",
    "    end\n",
    "end\n",
    "\n"
   ]
  },
  {
   "cell_type": "code",
   "execution_count": 47,
   "metadata": {},
   "outputs": [
    {
     "ename": "UndefVarError",
     "evalue": "UndefVarError: average not defined",
     "output_type": "error",
     "traceback": [
      "UndefVarError: average not defined",
      "",
      "Stacktrace:",
      " [1] top-level scope at In[47]:1"
     ]
    }
   ],
   "source": [
    "pcolor(average'); colorbar()\n"
   ]
  },
  {
   "cell_type": "markdown",
   "metadata": {},
   "source": [
    "Ideas for exercises\n",
    "* Compute the mean over time for every pixel\n",
    "* Compute the standard deviation over time for every pixel\n",
    "* Make a map with the minimum temperature\n",
    "* Make a map with the time index at which the temperature is minimum\n"
   ]
  }
 ],
 "metadata": {
  "kernelspec": {
   "display_name": "Julia 1.0.0",
   "language": "julia",
   "name": "julia-1.0"
  },
  "language_info": {
   "file_extension": ".jl",
   "mimetype": "application/julia",
   "name": "julia",
   "version": "1.0.0"
  }
 },
 "nbformat": 4,
 "nbformat_minor": 2
}
