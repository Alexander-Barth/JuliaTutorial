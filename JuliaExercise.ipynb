{
 "cells": [
  {
   "cell_type": "markdown",
   "metadata": {},
   "source": [
    "# Large data set\n",
    "\n",
    "* DINEOF analysis of Western Mediterranean sea surface temperature.\n",
    "* Download file and view content of NetCDF file with the following:"
   ]
  },
  {
   "cell_type": "code",
   "execution_count": null,
   "metadata": {},
   "outputs": [],
   "source": [
    "using PyPlot\n",
    "using NCDatasets\n",
    "using Missings"
   ]
  },
  {
   "cell_type": "markdown",
   "metadata": {},
   "source": [
    "Helper function for plotting tranposed arrays or arrays with missing data "
   ]
  },
  {
   "cell_type": "code",
   "execution_count": null,
   "metadata": {},
   "outputs": [],
   "source": [
    "using PyCall\n",
    "using PyCall: PyObject\n",
    "\n",
    "# allow for plotting with missing values\n",
    "function PyObject(a::Array{Union{T,Missing},N}) where {T,N}\n",
    "    numpy_ma = PyCall.pyimport(\"numpy\").ma\n",
    "    pycall(numpy_ma.array, Any, coalesce.(a,zero(T)), mask=ismissing.(a))\n",
    "end\n"
   ]
  },
  {
   "cell_type": "markdown",
   "metadata": {},
   "source": [
    "Download data file"
   ]
  },
  {
   "cell_type": "code",
   "execution_count": null,
   "metadata": {},
   "outputs": [],
   "source": [
    "if !isfile(\"WesternMedSST.nc\")\n",
    "    download(\"https://dox.ulg.ac.be/index.php/s/XkNUzGGVtnSCdT3/download\",\"WesternMedSST.nc\")\n",
    "end\n",
    "    \n",
    "Dataset(\"WesternMedSST.nc\")"
   ]
  },
  {
   "cell_type": "markdown",
   "metadata": {},
   "source": [
    "# Useful functions\n",
    "\n",
    " * display the content of a NetCDF file.\n",
    "```julia\n",
    "Dataset(\"WesternMedSST.nc\")\n",
    "```\n",
    "\n",
    " * Read a variable from a NetCDF file.\n",
    "```julia\n",
    "ds = Dataset(\"WesternMedSST.nc\")\n",
    "SST = ds[\"seviri_sst_filled\"][:]\n",
    "close(ds)\n",
    "```\n",
    "\n",
    "More info at https://github.com/Alexander-Barth/NCDatasets.jl"
   ]
  },
  {
   "cell_type": "markdown",
   "metadata": {},
   "source": [
    "# Example"
   ]
  },
  {
   "cell_type": "markdown",
   "metadata": {},
   "source": [
    "Load modules and setup some helper functions"
   ]
  },
  {
   "cell_type": "code",
   "execution_count": null,
   "metadata": {},
   "outputs": [],
   "source": [
    "using NCDatasets\n",
    "using PyPlot\n",
    "\n",
    "# Helper function for dateticks\n",
    "function datetick(axis,fmt = \"%Y-%m-%d\")\n",
    "    ax = gca()\n",
    "    formatter = matplotlib[:dates][:DateFormatter](fmt)\n",
    "\n",
    "    if axis == :x\n",
    "        ax[:xaxis][:set_major_formatter](formatter)\n",
    "    else\n",
    "        ax[:yaxis][:set_major_formatter](formatter)\n",
    "    end\n",
    "end\n",
    "\n"
   ]
  },
  {
   "cell_type": "code",
   "execution_count": null,
   "metadata": {},
   "outputs": [],
   "source": [
    "using DelimitedFiles\n",
    "sl  = readdlm(\"8762075.sealevel.txt\",comments=true, comment_char='%')\n"
   ]
  },
  {
   "cell_type": "code",
   "execution_count": null,
   "metadata": {},
   "outputs": [],
   "source": [
    "using Dates\n",
    "DateTime([sl[1,1:5]; 0]...) \n"
   ]
  },
  {
   "cell_type": "code",
   "execution_count": null,
   "metadata": {},
   "outputs": [],
   "source": [
    "\n",
    "DateTime(sl[1,1],sl[1,2],sl[1,3],sl[1,4],sl[1,5],0)"
   ]
  },
  {
   "cell_type": "code",
   "execution_count": null,
   "metadata": {},
   "outputs": [],
   "source": [
    "[i^2 for i = 1:10]"
   ]
  },
  {
   "cell_type": "code",
   "execution_count": null,
   "metadata": {},
   "outputs": [],
   "source": [
    "size(sl,1)"
   ]
  },
  {
   "cell_type": "code",
   "execution_count": null,
   "metadata": {},
   "outputs": [],
   "source": [
    "t = [DateTime(sl[i,1],sl[i,2],sl[i,3],sl[i,4],sl[i,5],0) \n",
    "    for i = 1:size(sl,1)];\n"
   ]
  },
  {
   "cell_type": "code",
   "execution_count": null,
   "metadata": {},
   "outputs": [],
   "source": [
    "plot(t[:],sl[:,6],\"g\")\n"
   ]
  },
  {
   "cell_type": "code",
   "execution_count": null,
   "metadata": {},
   "outputs": [],
   "source": [
    "fname = \"WesternMedSST.nc\";\n",
    "ds = Dataset(fname)\n",
    "lon = ds[\"lon\"][:];\n",
    "lat = ds[\"lat\"][:];\n",
    "times = nomissing(ds[\"time\"][:]);\n",
    "SST = ds[\"seviri_sst\"][:];\n",
    "mask = ds[\"mask\"][:];\n",
    "close(ds)\n"
   ]
  },
  {
   "cell_type": "code",
   "execution_count": null,
   "metadata": {},
   "outputs": [],
   "source": [
    "times"
   ]
  },
  {
   "cell_type": "code",
   "execution_count": null,
   "metadata": {},
   "outputs": [],
   "source": [
    "SSTdiff = SST[:,:,2] - SST[:,:,1]\n",
    "pcolor(lon,lat,SST[:,:,2]'); colorbar();"
   ]
  },
  {
   "cell_type": "code",
   "execution_count": null,
   "metadata": {},
   "outputs": [],
   "source": [
    "SSTdiff = SST[:,:,2] - SST[:,:,1]\n",
    "pcolor(lon,lat,SSTdiff'); colorbar();"
   ]
  },
  {
   "cell_type": "markdown",
   "metadata": {},
   "source": [
    "### Plot the first time instance of the data set with pcolor."
   ]
  },
  {
   "cell_type": "code",
   "execution_count": null,
   "metadata": {},
   "outputs": [],
   "source": [
    "ds = Dataset(\"WesternMedSST.nc\")\n",
    "lon = ds[\"lon\"][:]\n",
    "lat = ds[\"lat\"][:]\n",
    "close(ds)\n",
    "\n",
    "pcolor(lon,lat,SST[:,:,1]');"
   ]
  },
  {
   "cell_type": "code",
   "execution_count": null,
   "metadata": {},
   "outputs": [],
   "source": [
    "pcolor(lon,lat,SST[:,:,1]');\n",
    "colorbar();\n"
   ]
  },
  {
   "cell_type": "code",
   "execution_count": null,
   "metadata": {},
   "outputs": [],
   "source": [
    "SST[1,1,1]"
   ]
  },
  {
   "cell_type": "code",
   "execution_count": null,
   "metadata": {},
   "outputs": [],
   "source": [
    "ismissing(SST[1,1,1])"
   ]
  },
  {
   "cell_type": "code",
   "execution_count": null,
   "metadata": {},
   "outputs": [],
   "source": [
    "k = 1\n",
    "count = 0\n",
    "if !ismissing(SST[1,1,k])\n",
    "    global count\n",
    "    # do something\n",
    "    count = count+1\n",
    "end\n",
    "count"
   ]
  },
  {
   "cell_type": "markdown",
   "metadata": {},
   "source": [
    "### Plot the percentage of valid data grid point over time."
   ]
  },
  {
   "cell_type": "code",
   "execution_count": null,
   "metadata": {},
   "outputs": [],
   "source": [
    "imax = size(SST,1)\n",
    "jmax = size(SST,2)\n",
    "kmax = size(SST,3)\n"
   ]
  },
  {
   "cell_type": "code",
   "execution_count": null,
   "metadata": {},
   "outputs": [],
   "source": [
    "imax, jmax, kmax = size(SST)"
   ]
  },
  {
   "cell_type": "code",
   "execution_count": null,
   "metadata": {},
   "outputs": [],
   "source": [
    "nbpixels = zeros(kmax)\n",
    "\n",
    "for k = 1:kmax\n",
    "  count = 0\n",
    "\n",
    "  for j = 1:jmax\n",
    "    for i = 1:imax\n",
    "       if !ismissing(SST[i,j,k])\n",
    "         count = count + 1\n",
    "       end        \n",
    "    end\n",
    "        \n",
    "    nbpixels[k] = count\n",
    "  end\n",
    "end\n",
    "percentage = 100 * nbpixels/(imax*jmax)\n"
   ]
  },
  {
   "cell_type": "code",
   "execution_count": null,
   "metadata": {},
   "outputs": [],
   "source": [
    "plot(percentage);"
   ]
  },
  {
   "cell_type": "code",
   "execution_count": null,
   "metadata": {},
   "outputs": [],
   "source": [
    "sum(sum(.!ismissing.(SST[:,:,1]),dims = 1),dims = 2)"
   ]
  },
  {
   "cell_type": "code",
   "execution_count": null,
   "metadata": {},
   "outputs": [],
   "source": [
    "\n",
    "sum(.!ismissing.(SST[:,:,1]),dims = [1,2])"
   ]
  },
  {
   "cell_type": "code",
   "execution_count": null,
   "metadata": {},
   "outputs": [],
   "source": [
    "count = zeros((imax,jmax))\n",
    "for j = 1:jmax\n",
    "    for i = 1:imax\n",
    "        for k = 1:kmax\n",
    "            if !ismissing(SST[i,j,k])\n",
    "                count[i,j] = count[i,j] + 1\n",
    "            end\n",
    "        end\n",
    "\n",
    "        count[i,j] = 100*count[i,j]/kmax\n",
    "    end\n",
    "end\n"
   ]
  },
  {
   "cell_type": "code",
   "execution_count": null,
   "metadata": {},
   "outputs": [],
   "source": [
    "count = 100 * dropdims(sum(.!ismissing.(SST),dims = 3),dims = 3) / kmax;\n"
   ]
  },
  {
   "cell_type": "code",
   "execution_count": null,
   "metadata": {},
   "outputs": [],
   "source": [
    "pcolor(lon,lat,count'), colorbar();\n"
   ]
  },
  {
   "cell_type": "markdown",
   "metadata": {},
   "source": [
    "### For all time instances, what is the percentage of sea grid points not covered by clouds?"
   ]
  },
  {
   "cell_type": "code",
   "execution_count": null,
   "metadata": {},
   "outputs": [],
   "source": [
    "count = zeros(Int,(kmax,))\n",
    "for k = 1:kmax\n",
    "    for j = 1:jmax\n",
    "        for i = 1:imax\n",
    "            if !ismissing(SST[i,j,k])\n",
    "                count[k] = count[k] + 1\n",
    "            end\n",
    "        end\n",
    "    end\n",
    "end\n"
   ]
  },
  {
   "cell_type": "code",
   "execution_count": null,
   "metadata": {},
   "outputs": [],
   "source": [
    "count[1:4]"
   ]
  },
  {
   "cell_type": "code",
   "execution_count": null,
   "metadata": {},
   "outputs": [],
   "source": [
    "count = dropdims(sum(sum(.!ismissing.(SST),dims = 1),dims = 2), dims= (1,2))\n",
    "count[1:4]"
   ]
  },
  {
   "cell_type": "code",
   "execution_count": null,
   "metadata": {},
   "outputs": [],
   "source": [
    "percentage = 100 * count / sum(mask)\n",
    "percentage[1:10]"
   ]
  },
  {
   "cell_type": "code",
   "execution_count": null,
   "metadata": {},
   "outputs": [],
   "source": [
    "times[1:5]"
   ]
  },
  {
   "cell_type": "code",
   "execution_count": null,
   "metadata": {},
   "outputs": [],
   "source": [
    "plot(times,percentage);\n",
    "datetick(:x,\"%m-%d\")\n"
   ]
  },
  {
   "cell_type": "markdown",
   "metadata": {},
   "source": [
    "### Plot the time average of SST"
   ]
  },
  {
   "cell_type": "code",
   "execution_count": null,
   "metadata": {},
   "outputs": [],
   "source": [
    "SST2 = copy(SST);\n",
    "SST2[ismissing.(SST)] .= 0;\n",
    "count = sum(.!ismissing.(SST),dims = 3)\n",
    "meanSST = allowmissing(sum(SST2,dims = 3) ./ count);\n",
    "meanSST[count .== 0] .= missing;\n",
    "\n",
    "\n",
    "pcolor(lon,lat,meanSST[:,:,1]');   colorbar()\n"
   ]
  },
  {
   "cell_type": "markdown",
   "metadata": {},
   "source": [
    "### Plot the space average of SST \n",
    "\n",
    "* assuming that all pixels have the same area"
   ]
  },
  {
   "cell_type": "code",
   "execution_count": null,
   "metadata": {},
   "outputs": [],
   "source": [
    "meanSSTt = sum(sum(SST2,dims = 1),dims = 2) ./ sum(sum(.!ismissing.(SST),dims = 1),dims = 2);\n",
    "meanSSTt = dropdims(meanSSTt,dims = (1,2));\n",
    "plot(times,meanSSTt)\n",
    "datetick(:x,\"%m-%d\")\n"
   ]
  },
  {
   "cell_type": "markdown",
   "metadata": {},
   "source": [
    "### Make a time serie with the number of pixels with the temperature larger than 25 degree Celsius."
   ]
  },
  {
   "cell_type": "code",
   "execution_count": null,
   "metadata": {},
   "outputs": [],
   "source": [
    "count = zeros((kmax,))\n",
    "for k = 1:kmax\n",
    "    for j = 1:jmax\n",
    "        for i = 1:imax\n",
    "            if !ismissing(SST[i,j,k]) && (SST[i,j,k] > 25)\n",
    "                count[k] = count[k] + 1\n",
    "            end\n",
    "        end\n",
    "    end\n",
    "end\n"
   ]
  },
  {
   "cell_type": "code",
   "execution_count": null,
   "metadata": {},
   "outputs": [],
   "source": [
    "count[1:5]"
   ]
  },
  {
   "cell_type": "code",
   "execution_count": null,
   "metadata": {},
   "outputs": [],
   "source": [
    "plot(times,count)\n",
    "datetick(:x,\"%m-%d\")\n"
   ]
  },
  {
   "cell_type": "markdown",
   "metadata": {},
   "source": [
    "### Make a time serie of the area (in km2) with the temperature larger than 25 degree Celsius"
   ]
  },
  {
   "cell_type": "code",
   "execution_count": null,
   "metadata": {},
   "outputs": [],
   "source": [
    "# Earth Radius (in km)\n",
    "R = 6371;\n",
    "# surface of each cell\n",
    "dx = pi * 0.05 * R/180;\n",
    "dy = pi * 0.05 * R/180 * cos.(pi*lat/180);\n"
   ]
  },
  {
   "cell_type": "code",
   "execution_count": null,
   "metadata": {},
   "outputs": [],
   "source": [
    "area = zeros((kmax,))\n",
    "for k = 1:kmax\n",
    "    for j = 1:jmax\n",
    "        for i = 1:imax\n",
    "            if !ismissing(SST[i,j,k]) && (SST[i,j,k] > 25)\n",
    "                area[k] = area[k] + dx * dy[j]\n",
    "            end\n",
    "        end\n",
    "    end\n",
    "end\n"
   ]
  },
  {
   "cell_type": "code",
   "execution_count": null,
   "metadata": {
    "scrolled": false
   },
   "outputs": [],
   "source": [
    "plot(times,area)\n",
    "datetick(:x,\"%m-%d\")\n"
   ]
  },
  {
   "cell_type": "code",
   "execution_count": null,
   "metadata": {},
   "outputs": [],
   "source": [
    "average = zeros(imax,jmax)\n",
    "  \n",
    "for i = 1:imax\n",
    "    for j = 1:jmax\n",
    "       mymean = 0.\n",
    "       count = 0\n",
    "\n",
    "       for k = 1:kmax\n",
    "           if !ismissing(SST[i,j,k])\n",
    "              mymean = mymean + SST[i,j,k]\n",
    "              count = count+1\n",
    "            end\n",
    "        end\n",
    "        \n",
    "        mymean = mymean/count\n",
    "        average[i,j] = mymean   \n",
    "    end\n",
    "end\n",
    "\n"
   ]
  },
  {
   "cell_type": "code",
   "execution_count": null,
   "metadata": {},
   "outputs": [],
   "source": [
    "pcolor(average'); colorbar();\n"
   ]
  },
  {
   "cell_type": "markdown",
   "metadata": {},
   "source": [
    "Ideas for exercises\n",
    "* Compute the mean over time for every pixel\n",
    "* Compute the standard deviation over time for every pixel\n",
    "* Make a map with the minimum temperature\n",
    "* Make a map with the time index at which the temperature is minimum\n"
   ]
  }
 ],
 "metadata": {
  "@webio": {
   "lastCommId": null,
   "lastKernelId": null
  },
  "kernelspec": {
   "display_name": "Julia 1.2.0",
   "language": "julia",
   "name": "julia-1.1"
  },
  "language_info": {
   "file_extension": ".jl",
   "mimetype": "application/julia",
   "name": "julia",
   "version": "1.2.0"
  }
 },
 "nbformat": 4,
 "nbformat_minor": 2
}
