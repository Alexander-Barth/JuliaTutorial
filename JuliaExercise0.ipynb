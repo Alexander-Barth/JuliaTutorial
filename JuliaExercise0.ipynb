{
 "cells": [
  {
   "cell_type": "markdown",
   "metadata": {},
   "source": [
    "# Large data set\n",
    "\n",
    "* DINEOF analysis of Western Mediterranean sea surface temperature (SST).\n",
    "* Download file and view content of NetCDF file with the following:"
   ]
  },
  {
   "cell_type": "code",
   "execution_count": 2,
   "metadata": {},
   "outputs": [],
   "source": [
    "using PyPlot\n",
    "using NCDatasets\n",
    "using Missings"
   ]
  },
  {
   "cell_type": "markdown",
   "metadata": {},
   "source": [
    "Helper function for plotting tranposed arrays or arrays with missing data "
   ]
  },
  {
   "cell_type": "code",
   "execution_count": 3,
   "metadata": {},
   "outputs": [
    {
     "data": {
      "text/plain": [
       "PyObject"
      ]
     },
     "execution_count": 3,
     "metadata": {},
     "output_type": "execute_result"
    }
   ],
   "source": [
    "using PyCall\n",
    "using PyCall: PyObject\n",
    "\n",
    "# allow for plotting with missing values\n",
    "function PyObject(a::Array{Union{T,Missing},N}) where {T,N}\n",
    "    numpy_ma = PyCall.pyimport(\"numpy\").ma\n",
    "    pycall(numpy_ma.array, Any, coalesce.(a,zero(T)), mask=ismissing.(a))\n",
    "end\n"
   ]
  },
  {
   "cell_type": "markdown",
   "metadata": {},
   "source": [
    "Download data file"
   ]
  },
  {
   "cell_type": "code",
   "execution_count": 4,
   "metadata": {},
   "outputs": [
    {
     "data": {
      "text/plain": [
       "\u001b[31mNCDataset: WesternMedSST.nc\u001b[39m\n",
       "Group: /\n",
       "\n",
       "\u001b[31mDimensions\u001b[39m\n",
       "   lon = 327\n",
       "   lat = 217\n",
       "   time = 384\n",
       "\n",
       "\u001b[31mVariables\u001b[39m\n",
       "\u001b[32m  lon\u001b[39m   (327)\n",
       "    Datatype:    Float64\n",
       "    Dimensions:  lon\n",
       "    Attributes:\n",
       "     standard_name        = \u001b[36mlongitude\u001b[39m\n",
       "     units                = \u001b[36mdegree_east\u001b[39m\n",
       "\n",
       "\u001b[32m  lat\u001b[39m   (217)\n",
       "    Datatype:    Float64\n",
       "    Dimensions:  lat\n",
       "    Attributes:\n",
       "     standard_name        = \u001b[36mlatitude\u001b[39m\n",
       "     units                = \u001b[36mdegree_north\u001b[39m\n",
       "\n",
       "\u001b[32m  time\u001b[39m   (384)\n",
       "    Datatype:    Float64\n",
       "    Dimensions:  time\n",
       "    Attributes:\n",
       "     standard_name        = \u001b[36mlatitude\u001b[39m\n",
       "     units                = \u001b[36mdays since 1900-01-01 00:00:00\u001b[39m\n",
       "\n",
       "\u001b[32m  seviri_sst\u001b[39m   (327 × 217 × 384)\n",
       "    Datatype:    Float32\n",
       "    Dimensions:  lon × lat × time\n",
       "    Attributes:\n",
       "     standard_name        = \u001b[36msea_water_temperature\u001b[39m\n",
       "     units                = \u001b[36mdegree_Celsius\u001b[39m\n",
       "     long_name            = \u001b[36msea surface temperature\u001b[39m\n",
       "     _FillValue           = \u001b[36m-9999.0\u001b[39m\n",
       "\n",
       "\u001b[32m  seviri_sst_filled\u001b[39m   (327 × 217 × 384)\n",
       "    Datatype:    Float32\n",
       "    Dimensions:  lon × lat × time\n",
       "    Attributes:\n",
       "     standard_name        = \u001b[36msea_water_temperature\u001b[39m\n",
       "     units                = \u001b[36mdegree_Celsius\u001b[39m\n",
       "     long_name            = \u001b[36msea surface temperature\u001b[39m\n",
       "     _FillValue           = \u001b[36m-9999.0\u001b[39m\n",
       "\n",
       "\u001b[32m  mask\u001b[39m   (327 × 217)\n",
       "    Datatype:    Int8\n",
       "    Dimensions:  lon × lat\n",
       "    Attributes:\n",
       "     comment              = \u001b[36m1-sea; 0-land\u001b[39m\n",
       "\n",
       "\u001b[31mGlobal attributes\u001b[39m\n",
       "  Conventions          = \u001b[36mCF-1.5\u001b[39m\n",
       "  title                = \u001b[36mDINEOF analysis of Western Mediterranean sea surface temperature\u001b[39m\n",
       "  author               = \u001b[36mIgor Tomazic\u001b[39m\n",
       "  institution          = \u001b[36mGHER, University of Liege\u001b[39m\n",
       "  source               = \u001b[36mhttp://gher-dineof01.phys.ulg.ac.be:8080/opendap/DW/dineof/SVRI_L3C_SST1H/medwest2_005_327x217/fc_cv5_k2c/20130801_20130816/df_al0_0008_mc0_nk56_nm40/IO/data.nc.html\u001b[39m\n",
       "  history              = \u001b[36mSat Feb  9 20:45:19 2019: ncatted -O -a long name,,d,, WesternMedSST.nc\u001b[39m\n",
       "\u001b[36mSat Feb  9 20:44:30 2019: ncatted -O -a _FillValue,,d,, WesternMedSST.nc\u001b[39m\n",
       "\u001b[36mSat Feb  9 20:44:19 2019: ncatted -O -a _FillValue,seviri_sst,a,c,-9999. WesternMedSST.nc\u001b[39m\n",
       "\u001b[36mSat Feb  9 20:44:06 2019: ncatted -O -a _FillValue,seviri_sst,a,c,-9999.f WesternMedSST.nc\u001b[39m\n",
       "\u001b[36mSat Feb  9 20:43:12 2019: ncatted -O -a _FillValue,,d,, WesternMedSST.nc.orig WesternMedSST.nc\u001b[39m\n",
       "\u001b[36mDINEOF analysis\u001b[39m\n",
       "  references           = \u001b[36mDINEOF http://modb.oce.ulg.ac.be/mediawiki/index.php/DINEOF\u001b[39m\n",
       "  NCO                  = \u001b[36m4.7.2\u001b[39m\n"
      ]
     },
     "execution_count": 4,
     "metadata": {},
     "output_type": "execute_result"
    }
   ],
   "source": [
    "if !isfile(\"WesternMedSST.nc\")\n",
    "    download(\"https://dox.ulg.ac.be/index.php/s/XkNUzGGVtnSCdT3/download\",\"WesternMedSST.nc\")\n",
    "end\n",
    "    \n",
    "ds = Dataset(\"WesternMedSST.nc\")"
   ]
  },
  {
   "cell_type": "code",
   "execution_count": 5,
   "metadata": {},
   "outputs": [],
   "source": [
    "close(ds);"
   ]
  },
  {
   "cell_type": "markdown",
   "metadata": {},
   "source": [
    "# Useful functions\n",
    "\n",
    " * display the content of a NetCDF file.\n",
    "```julia\n",
    "Dataset(\"WesternMedSST.nc\")\n",
    "```\n",
    "\n",
    " * Read a variable from a NetCDF file.\n",
    "```julia\n",
    "ds = Dataset(\"WesternMedSST.nc\")\n",
    "SST = ds[\"seviri_sst_filled\"][:]\n",
    "close(ds)\n",
    "```\n",
    "\n",
    "More info at https://github.com/Alexander-Barth/NCDatasets.jl"
   ]
  },
  {
   "cell_type": "markdown",
   "metadata": {},
   "source": [
    "The NetCDF variable `seviri_sst` is a 3D array with the sea surface temperature. Its dimensions are longitude, latitude and time. The corresponding coordinates are the variables `lon`, `lat` and `time`.\n",
    "The variable `mask` is a 2D array (longitude, latitude). In this binary mask 1 corresponds to ocean and 0 to land."
   ]
  },
  {
   "cell_type": "code",
   "execution_count": 6,
   "metadata": {},
   "outputs": [
    {
     "data": {
      "text/plain": [
       "closed NetCDF NCDataset"
      ]
     },
     "execution_count": 6,
     "metadata": {},
     "output_type": "execute_result"
    }
   ],
   "source": [
    "fname = \"WesternMedSST.nc\";\n",
    "ds = Dataset(fname)\n",
    "lon = ds[\"lon\"][:];\n",
    "lat = ds[\"lat\"][:];\n",
    "times = nomissing(ds[\"time\"][:]);\n",
    "SST = ds[\"seviri_sst\"][:];\n",
    "mask = ds[\"mask\"][:];\n",
    "close(ds)\n"
   ]
  },
  {
   "cell_type": "markdown",
   "metadata": {},
   "source": [
    "###  Exercices\n",
    "\n",
    "See [JuliaPlotting.ipynb](JuliaPlotting.ipynb) for the plotting commands.\n",
    "\n",
    "1. Plot the first time instance of the data set with pcolor.\n",
    "1. Plot the percentage of valid data grid point over time.\n",
    "1. For all time instances, what is the percentage of sea grid points not covered by clouds?\n",
    "1. Plot the time average of SST\n",
    "1. Plot the space average of SST  (assuming that all pixels have the same area)\n",
    "1. Make a time serie with the number of pixels with the temperature larger than 25 degree Celsius.\n",
    "1. Make a time serie of the area (in km2) with the temperature larger than 25 degree Celsius"
   ]
  },
  {
   "cell_type": "markdown",
   "metadata": {},
   "source": [
    "Other exercises\n",
    "* Compute the standard deviation over time for every pixel\n",
    "* Make a map with the minimum temperature\n",
    "* Make a map with the time index at which the temperature is minimum\n"
   ]
  },
  {
   "cell_type": "code",
   "execution_count": null,
   "metadata": {},
   "outputs": [],
   "source": []
  }
 ],
 "metadata": {
  "@webio": {
   "lastCommId": null,
   "lastKernelId": null
  },
  "kernelspec": {
   "display_name": "Julia 1.8.0",
   "language": "julia",
   "name": "julia-1.8"
  },
  "language_info": {
   "file_extension": ".jl",
   "mimetype": "application/julia",
   "name": "julia",
   "version": "1.8.0"
  }
 },
 "nbformat": 4,
 "nbformat_minor": 2
}
