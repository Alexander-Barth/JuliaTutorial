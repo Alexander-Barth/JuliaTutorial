{
 "cells": [
  {
   "cell_type": "markdown",
   "metadata": {},
   "source": [
    "# Introduction to Julia\n",
    "\n",
    "* Julia is a high-level programming language for technical computing which allows you to manipulate and analyse large data sets\n",
    "\n",
    "## Interesting features:\n",
    " * Julia is build from the ground for techical computing. \n",
    " * The language is close to the mathematical notation, for example to define a function $f(x) = 2x + 3$ in Julia is:\n",
    "\n",
    "```julia\n",
    "f(x) = 2x + 3\n",
    "```\n",
    "  \n",
    " * Julia is free and open-source software.\n",
    " * Julia's code is compiled to machine code and loops can be as fast as in other compiled languages (like Fortran or C)\n",
    "\n",
    "\n",
    "## Instructions for installing Julia on your laptop\n",
    "\n",
    "* If you want to install Julia on your laptop later on, here are some instructions\n",
    "* Go to http://julialang.org/downloads/\n",
    "* There are various editor with support for Julia (like atom, notepad++, emacs, vim...)"
   ]
  },
  {
   "cell_type": "markdown",
   "metadata": {},
   "source": [
    "### Ways to run Julia:\n",
    "\n",
    "#### Command line\n",
    "\n",
    "* Use the `Tab` key to complete file, variable and function names\n",
    "* `Up` and `down arrows` key to repeat a previously entered command\n",
    "* `Control-R` to search a command\n",
    "* On Windows enable \"[quick edit](https://www.tekrevue.com/tip/boost-productivity-quickedit-mode-windows-command-prompt/)\" for easier copy and pasting\n",
    "![cmd](Fig/julia-commandline.png)"
   ]
  },
  {
   "cell_type": "markdown",
   "metadata": {},
   "source": [
    "#### Jupyter notebook (web-browser)\n",
    "\n",
    "* Web-interface for Julia (among others)\n",
    "* The Julia package `IJulia` which also installs Jupyter http://jupyter.org/\n",
    "* Various [keyboard short cuts](https://www.cheatography.com/weidadeyue/cheat-sheets/jupyter-notebook/) are defined to be productive with jupyter notebooks\n",
    "* General documentation of [Jupyter Notebooks](http://jupyter-notebook.readthedocs.io)\n",
    "\n",
    "![cmd](Fig/julia-jupyter.png)"
   ]
  },
  {
   "cell_type": "markdown",
   "metadata": {},
   "source": [
    "Text can be formatted using markdown."
   ]
  },
  {
   "cell_type": "markdown",
   "metadata": {},
   "source": [
    "# Markdown\n",
    "\n",
    "This is an explanation\n",
    "* item one\n",
    "* item two\n",
    "   * sub item one\n",
    "   * sub item two\n",
    "$$ c^2 = a^2 + b^2 $$ \n",
    "   "
   ]
  },
  {
   "cell_type": "markdown",
   "metadata": {},
   "source": [
    "#### Juno\n",
    "\n",
    "* Based on the Atom editor from GitHub\n",
    "* Integrates an editor, command line and documentation browser\n",
    "* Available from http://junolab.org/\n",
    "\n",
    "![atom](Fig/julia-atom.png)"
   ]
  },
  {
   "cell_type": "code",
   "execution_count": null,
   "metadata": {},
   "outputs": [],
   "source": []
  },
  {
   "cell_type": "markdown",
   "metadata": {},
   "source": [
    "# Julia documentation\n",
    "\n",
    "* The manual: https://docs.julialang.org\n",
    "* Tutorials and books: https://julialang.org/learning/\n",
    "\n",
    "\n",
    "## Comparision with other languages\n",
    "\n",
    "\n",
    "* [Noteworthy Differences from other Languages](https://docs.julialang.org/en/stable/manual/noteworthy-differences/)\n",
    "* [MATLAB–Python–Julia cheatsheet](https://cheatsheets.quantecon.org/)\n",
    "\n",
    "\n",
    "\n",
    "\n",
    "\n",
    "# First steps in Julia\n",
    "\n",
    "## Numbers\n",
    "\n",
    "* Use a dot (.) as decimal separator (e.g. 3.14 and not 3,14)\n",
    "* You can use the scientific notation $a \\times 10^{-b}$ using the e-notation. (e.g. $3 \\times10^{-7}$ becomes 3e-7) \n",
    "* Use Julia as a calculator:"
   ]
  },
  {
   "cell_type": "code",
   "execution_count": 7,
   "metadata": {},
   "outputs": [
    {
     "data": {
      "text/plain": [
       "7.0"
      ]
     },
     "execution_count": 7,
     "metadata": {},
     "output_type": "execute_result"
    }
   ],
   "source": [
    "1 + 3 * 4/2 "
   ]
  },
  {
   "cell_type": "markdown",
   "metadata": {},
   "source": [
    "* The usual operator precedence applies\n",
    "\n",
    "\n",
    "## Useful constants\n",
    "\n",
    "Various constants are also pre-defined: π (pi), e (Euler's number), im (the imaginary number), Inf (Infinity, result from e.g. 1/0) and NaN (Not a Number - result from e.g. 0/0)\n",
    "\n"
   ]
  },
  {
   "cell_type": "markdown",
   "metadata": {},
   "source": [
    "## Variables\n",
    "\n",
    "* Numbers (and any other data type) can be put into variables\n",
    "* The value of a variable is referenced by its name\n",
    "* A variable name can be composed by letters (a-z and A-Z, including greek letters, accents,...), numbers (0-9), underscore (_) and some unicode symbols (like greek letters). The first character cannot be a number.\n",
    "\n",
    "* Example:"
   ]
  },
  {
   "cell_type": "code",
   "execution_count": 8,
   "metadata": {},
   "outputs": [
    {
     "data": {
      "text/plain": [
       "21"
      ]
     },
     "execution_count": 8,
     "metadata": {},
     "output_type": "execute_result"
    }
   ],
   "source": [
    "temp = 21"
   ]
  },
  {
   "cell_type": "markdown",
   "metadata": {},
   "source": [
    "To see the content of the variable `temp`:"
   ]
  },
  {
   "cell_type": "code",
   "execution_count": 9,
   "metadata": {},
   "outputs": [
    {
     "name": "stdout",
     "output_type": "stream",
     "text": [
      "temp = 21\n"
     ]
    },
    {
     "data": {
      "text/plain": [
       "21"
      ]
     },
     "execution_count": 9,
     "metadata": {},
     "output_type": "execute_result"
    }
   ],
   "source": [
    "@show temp"
   ]
  },
  {
   "cell_type": "markdown",
   "metadata": {},
   "source": [
    "Any expression can now include the variable `temp`:"
   ]
  },
  {
   "cell_type": "code",
   "execution_count": 10,
   "metadata": {},
   "outputs": [
    {
     "data": {
      "text/plain": [
       "42"
      ]
     },
     "execution_count": 10,
     "metadata": {},
     "output_type": "execute_result"
    }
   ],
   "source": [
    "2 * temp\n"
   ]
  },
  {
   "cell_type": "markdown",
   "metadata": {},
   "source": [
    "* The variable `temp` has now the value 21. The value of the variable can be changed later on.\n",
    "* An assignment without a final semicolon echos its value to the screen\n",
    "* Careful: the value of constants can be overwritten. The following is allowed but not encouraged:\n",
    "    \t\n",
    "```julia        \n",
    "    pi = 3; # do not do this\n",
    "```\n",
    "\n",
    "* The command `whos()` lists the currently defined variables and their size. "
   ]
  },
  {
   "cell_type": "markdown",
   "metadata": {},
   "source": [
    "## Strings\n",
    "\n",
    "* Delimited by double quotes\n",
    "    \t"
   ]
  },
  {
   "cell_type": "code",
   "execution_count": 11,
   "metadata": {},
   "outputs": [
    {
     "name": "stdout",
     "output_type": "stream",
     "text": [
      "Hello world"
     ]
    }
   ],
   "source": [
    "s = \"Hello world\"\n",
    "print(s)"
   ]
  },
  {
   "cell_type": "markdown",
   "metadata": {},
   "source": [
    "* How to use a double quote in a string? -> place a backslash in front:"
   ]
  },
  {
   "cell_type": "code",
   "execution_count": 12,
   "metadata": {},
   "outputs": [
    {
     "name": "stdout",
     "output_type": "stream",
     "text": [
      "The letter \"A\" is the first letter of the alphabet."
     ]
    }
   ],
   "source": [
    "s = \"The letter \\\"A\\\" is the first letter of the alphabet.\"\n",
    "print(s)"
   ]
  },
  {
   "cell_type": "markdown",
   "metadata": {},
   "source": [
    "## Symbols\n",
    "\n",
    "* A symbol is an [interned string](https://en.wikipedia.org/wiki/String_interning) identifier which means that every  string symbol is replaced internally by a number"
   ]
  },
  {
   "cell_type": "markdown",
   "metadata": {},
   "source": [
    "* This makes comparision between symbols faster than comparision between strings\n",
    "* Symbols are also used in metaprogramming (julia code which produces julia code)."
   ]
  },
  {
   "cell_type": "code",
   "execution_count": 13,
   "metadata": {},
   "outputs": [
    {
     "data": {
      "text/plain": [
       ":mysymbol"
      ]
     },
     "execution_count": 13,
     "metadata": {},
     "output_type": "execute_result"
    }
   ],
   "source": [
    ":mysymbol"
   ]
  },
  {
   "cell_type": "markdown",
   "metadata": {},
   "source": [
    "## Vectors and matrices\n",
    "\n",
    "* Vectors are list of numbers. The column vector $\\left(\\begin{array}{c}1 \\\\ 2 \\\\ 3 \\end{array} \\right)$ is represented by:"
   ]
  },
  {
   "cell_type": "code",
   "execution_count": 14,
   "metadata": {},
   "outputs": [
    {
     "data": {
      "text/plain": [
       "3-element Array{Int64,1}:\n",
       " 1\n",
       " 2\n",
       " 3"
      ]
     },
     "execution_count": 14,
     "metadata": {},
     "output_type": "execute_result"
    }
   ],
   "source": [
    "[1,2,3]"
   ]
  },
  {
   "cell_type": "markdown",
   "metadata": {},
   "source": [
    "* Matrices are tables of numbers. Rows are separated by a semicolon. The matrix \n",
    "$\\left(\\begin{array}{cc}1 & 2 \\\\ 3 & 4 \\end{array} \\right)$ is represented by:"
   ]
  },
  {
   "cell_type": "code",
   "execution_count": 15,
   "metadata": {},
   "outputs": [
    {
     "data": {
      "text/plain": [
       "2×2 Array{Int64,2}:\n",
       " 1  2\n",
       " 3  4"
      ]
     },
     "execution_count": 15,
     "metadata": {},
     "output_type": "execute_result"
    }
   ],
   "source": [
    "[1 2; 3 4]"
   ]
  },
  {
   "cell_type": "markdown",
   "metadata": {},
   "source": [
    "The determinant  can be for example computed with `det`:"
   ]
  },
  {
   "cell_type": "code",
   "execution_count": 16,
   "metadata": {},
   "outputs": [
    {
     "data": {
      "text/plain": [
       "-2.0"
      ]
     },
     "execution_count": 16,
     "metadata": {},
     "output_type": "execute_result"
    }
   ],
   "source": [
    "det([1 2; 3 4])"
   ]
  },
  {
   "cell_type": "markdown",
   "metadata": {},
   "source": [
    "* There are no \"row vectors\", just matrices with one row:"
   ]
  },
  {
   "cell_type": "code",
   "execution_count": 17,
   "metadata": {},
   "outputs": [
    {
     "data": {
      "text/plain": [
       "1×3 Array{Int64,2}:\n",
       " 1  2  3"
      ]
     },
     "execution_count": 17,
     "metadata": {},
     "output_type": "execute_result"
    }
   ],
   "source": [
    "[1 2 3]"
   ]
  },
  {
   "cell_type": "code",
   "execution_count": 18,
   "metadata": {},
   "outputs": [
    {
     "data": {
      "text/plain": [
       "3-element Array{Int64,1}:\n",
       " 1\n",
       " 2\n",
       " 3"
      ]
     },
     "execution_count": 18,
     "metadata": {},
     "output_type": "execute_result"
    }
   ],
   "source": [
    "[1,2,3]"
   ]
  },
  {
   "cell_type": "markdown",
   "metadata": {},
   "source": [
    "### Ranges\n",
    "\n",
    "* Consecutive elements can be written as\n",
    "\n",
    "    first:step:last\n",
    "    \n",
    "* or simply, if the step is 1,\n",
    "    \t\n",
    "    first:last\n",
    "    \n",
    "* Use the function `collect` or `[first:step:last;]` to transform a range into a vector:\n",
    "   \n",
    "Instead of typing this:  "
   ]
  },
  {
   "cell_type": "code",
   "execution_count": 19,
   "metadata": {},
   "outputs": [
    {
     "data": {
      "text/plain": [
       "5-element Array{Int64,1}:\n",
       " 1\n",
       " 2\n",
       " 3\n",
       " 4\n",
       " 5"
      ]
     },
     "execution_count": 19,
     "metadata": {},
     "output_type": "execute_result"
    }
   ],
   "source": [
    "[1,2,3,4,5]"
   ]
  },
  {
   "cell_type": "markdown",
   "metadata": {},
   "source": [
    "One could simply write this as:"
   ]
  },
  {
   "cell_type": "code",
   "execution_count": 20,
   "metadata": {},
   "outputs": [
    {
     "data": {
      "text/plain": [
       "1:5"
      ]
     },
     "execution_count": 20,
     "metadata": {},
     "output_type": "execute_result"
    }
   ],
   "source": [
    "1:5"
   ]
  },
  {
   "cell_type": "markdown",
   "metadata": {},
   "source": [
    "Or the full list:"
   ]
  },
  {
   "cell_type": "code",
   "execution_count": 21,
   "metadata": {},
   "outputs": [
    {
     "data": {
      "text/plain": [
       "5-element Array{Int64,1}:\n",
       " 1\n",
       " 2\n",
       " 3\n",
       " 4\n",
       " 5"
      ]
     },
     "execution_count": 21,
     "metadata": {},
     "output_type": "execute_result"
    }
   ],
   "source": [
    "collect(1:5)"
   ]
  },
  {
   "cell_type": "markdown",
   "metadata": {},
   "source": [
    "Now if we need only every second element:"
   ]
  },
  {
   "cell_type": "code",
   "execution_count": 22,
   "metadata": {},
   "outputs": [
    {
     "data": {
      "text/plain": [
       "1:2:5"
      ]
     },
     "execution_count": 22,
     "metadata": {},
     "output_type": "execute_result"
    }
   ],
   "source": [
    "1:2:6"
   ]
  },
  {
   "cell_type": "code",
   "execution_count": 23,
   "metadata": {},
   "outputs": [
    {
     "data": {
      "text/plain": [
       "3-element Array{Int64,1}:\n",
       " 1\n",
       " 3\n",
       " 5"
      ]
     },
     "execution_count": 23,
     "metadata": {},
     "output_type": "execute_result"
    }
   ],
   "source": [
    "collect(1:2:6)"
   ]
  },
  {
   "cell_type": "markdown",
   "metadata": {},
   "source": [
    "Note that 6 is not part of the previous range."
   ]
  },
  {
   "cell_type": "markdown",
   "metadata": {},
   "source": [
    "## Indexing\n",
    "\n",
    "* Consider the following vector:"
   ]
  },
  {
   "cell_type": "code",
   "execution_count": 24,
   "metadata": {},
   "outputs": [
    {
     "data": {
      "text/plain": [
       "5-element Array{Int64,1}:\n",
       "  2\n",
       "  5\n",
       "  7\n",
       " 19\n",
       "  2"
      ]
     },
     "execution_count": 24,
     "metadata": {},
     "output_type": "execute_result"
    }
   ],
   "source": [
    "a = [2,5,7,19,2]"
   ]
  },
  {
   "cell_type": "markdown",
   "metadata": {},
   "source": [
    "* Individual elements of a vector or matrix can be addressed by their index\n",
    "* The second element of a vector `a` is for example `a[2]`"
   ]
  },
  {
   "cell_type": "code",
   "execution_count": 25,
   "metadata": {},
   "outputs": [
    {
     "data": {
      "text/plain": [
       "5"
      ]
     },
     "execution_count": 25,
     "metadata": {},
     "output_type": "execute_result"
    }
   ],
   "source": [
    "a[2]"
   ]
  },
  {
   "cell_type": "code",
   "execution_count": 26,
   "metadata": {},
   "outputs": [
    {
     "data": {
      "text/plain": [
       "5"
      ]
     },
     "execution_count": 26,
     "metadata": {},
     "output_type": "execute_result"
    }
   ],
   "source": [
    "length(a)"
   ]
  },
  {
   "cell_type": "code",
   "execution_count": 27,
   "metadata": {},
   "outputs": [
    {
     "data": {
      "text/plain": [
       "2"
      ]
     },
     "execution_count": 27,
     "metadata": {},
     "output_type": "execute_result"
    }
   ],
   "source": [
    "a[length(a)]"
   ]
  },
  {
   "cell_type": "markdown",
   "metadata": {},
   "source": [
    "* The special word `end` refers to the last index."
   ]
  },
  {
   "cell_type": "code",
   "execution_count": 28,
   "metadata": {},
   "outputs": [
    {
     "data": {
      "text/plain": [
       "2"
      ]
     },
     "execution_count": 28,
     "metadata": {},
     "output_type": "execute_result"
    }
   ],
   "source": [
    "a[end]"
   ]
  },
  {
   "cell_type": "markdown",
   "metadata": {},
   "source": [
    "* One can also use a list of indexes to extract a part of the vector"
   ]
  },
  {
   "cell_type": "code",
   "execution_count": 29,
   "metadata": {},
   "outputs": [
    {
     "data": {
      "text/plain": [
       "3-element Array{Int64,1}:\n",
       "  5\n",
       "  7\n",
       " 19"
      ]
     },
     "execution_count": 29,
     "metadata": {},
     "output_type": "execute_result"
    }
   ],
   "source": [
    "a[[2,3,4]]"
   ]
  },
  {
   "cell_type": "code",
   "execution_count": 30,
   "metadata": {},
   "outputs": [
    {
     "data": {
      "text/plain": [
       "3-element Array{Int64,1}:\n",
       "  5\n",
       "  7\n",
       " 19"
      ]
     },
     "execution_count": 30,
     "metadata": {},
     "output_type": "execute_result"
    }
   ],
   "source": [
    "a[[2,3,4]]"
   ]
  },
  {
   "cell_type": "markdown",
   "metadata": {},
   "source": [
    "* Or simply:"
   ]
  },
  {
   "cell_type": "code",
   "execution_count": 31,
   "metadata": {},
   "outputs": [
    {
     "data": {
      "text/plain": [
       "3-element Array{Int64,1}:\n",
       "  5\n",
       "  7\n",
       " 19"
      ]
     },
     "execution_count": 31,
     "metadata": {},
     "output_type": "execute_result"
    }
   ],
   "source": [
    "a[2:4]"
   ]
  },
  {
   "cell_type": "markdown",
   "metadata": {},
   "source": [
    "* The symbol colon : is a short-hand for 1:end"
   ]
  },
  {
   "cell_type": "code",
   "execution_count": 32,
   "metadata": {},
   "outputs": [
    {
     "data": {
      "text/plain": [
       "5-element Array{Int64,1}:\n",
       "  2\n",
       "  5\n",
       "  7\n",
       " 19\n",
       "  2"
      ]
     },
     "execution_count": 32,
     "metadata": {},
     "output_type": "execute_result"
    }
   ],
   "source": [
    "a[1:end]"
   ]
  },
  {
   "cell_type": "code",
   "execution_count": 33,
   "metadata": {},
   "outputs": [
    {
     "data": {
      "text/plain": [
       "5-element Array{Int64,1}:\n",
       "  2\n",
       "  5\n",
       "  7\n",
       " 19\n",
       "  2"
      ]
     },
     "execution_count": 33,
     "metadata": {},
     "output_type": "execute_result"
    }
   ],
   "source": [
    "a[:]"
   ]
  },
  {
   "cell_type": "markdown",
   "metadata": {},
   "source": [
    "## Matrix indexing\n",
    "\n",
    "* For matrices, two indices are used.\n",
    "* The element at the second row and the first column of a matrix A is for example A[2,1]"
   ]
  },
  {
   "cell_type": "code",
   "execution_count": 34,
   "metadata": {},
   "outputs": [
    {
     "data": {
      "text/plain": [
       "2×2 Array{Int64,2}:\n",
       " 1  2\n",
       " 3  4"
      ]
     },
     "execution_count": 34,
     "metadata": {},
     "output_type": "execute_result"
    }
   ],
   "source": [
    "A = [1 2; 3 4]\n"
   ]
  },
  {
   "cell_type": "code",
   "execution_count": 35,
   "metadata": {},
   "outputs": [
    {
     "data": {
      "text/plain": [
       "3"
      ]
     },
     "execution_count": 35,
     "metadata": {},
     "output_type": "execute_result"
    }
   ],
   "source": [
    "A[2,1]"
   ]
  },
  {
   "cell_type": "code",
   "execution_count": 36,
   "metadata": {},
   "outputs": [
    {
     "data": {
      "text/plain": [
       "2-element Array{Int64,1}:\n",
       " 2\n",
       " 4"
      ]
     },
     "execution_count": 36,
     "metadata": {},
     "output_type": "execute_result"
    }
   ],
   "source": [
    "A[:,2]"
   ]
  },
  {
   "cell_type": "code",
   "execution_count": 37,
   "metadata": {},
   "outputs": [
    {
     "data": {
      "text/plain": [
       "4"
      ]
     },
     "execution_count": 37,
     "metadata": {},
     "output_type": "execute_result"
    }
   ],
   "source": [
    "A[4]"
   ]
  },
  {
   "cell_type": "markdown",
   "metadata": {},
   "source": [
    "  \n",
    "    \n",
    "* If a matrix is indexed with only one subscript, the matrix is treaded as a vector where all columns are concatenated\n",
    "\n",
    "* Julia supports also higher-dimensional arrays and indexing works similarily.\n",
    "\n"
   ]
  },
  {
   "cell_type": "markdown",
   "metadata": {},
   "source": [
    "# Operators\n",
    "\n",
    "* Scalar and matrix operations: + sum, - difference, * multiplication, / division\n",
    "* Element-wise matrix operations: .* multiply element-wise, ./ divide element-wise \n",
    "\n",
    "## Comparison operators\n",
    "\n",
    " * equal (==) and different (!=)\n",
    " \n",
    " "
   ]
  },
  {
   "cell_type": "code",
   "execution_count": 38,
   "metadata": {},
   "outputs": [
    {
     "data": {
      "text/plain": [
       "false"
      ]
     },
     "execution_count": 38,
     "metadata": {},
     "output_type": "execute_result"
    }
   ],
   "source": [
    "2 == 1"
   ]
  },
  {
   "cell_type": "code",
   "execution_count": 39,
   "metadata": {},
   "outputs": [
    {
     "data": {
      "text/plain": [
       "true"
      ]
     },
     "execution_count": 39,
     "metadata": {},
     "output_type": "execute_result"
    }
   ],
   "source": [
    "9 == 3*3"
   ]
  },
  {
   "cell_type": "code",
   "execution_count": null,
   "metadata": {},
   "outputs": [],
   "source": []
  },
  {
   "cell_type": "code",
   "execution_count": 40,
   "metadata": {},
   "outputs": [
    {
     "data": {
      "text/plain": [
       "false"
      ]
     },
     "execution_count": 40,
     "metadata": {},
     "output_type": "execute_result"
    }
   ],
   "source": [
    "[1 2 3] == [1 3 2]"
   ]
  },
  {
   "cell_type": "code",
   "execution_count": 41,
   "metadata": {},
   "outputs": [
    {
     "data": {
      "text/plain": [
       "1×3 BitArray{2}:\n",
       " true  false  false"
      ]
     },
     "execution_count": 41,
     "metadata": {},
     "output_type": "execute_result"
    }
   ],
   "source": [
    "[1 2 3] .== [1 3 2]"
   ]
  },
  {
   "cell_type": "markdown",
   "metadata": {},
   "source": [
    "* Be aware of the limited precision of floating point numbers\n"
   ]
  },
  {
   "cell_type": "code",
   "execution_count": 42,
   "metadata": {},
   "outputs": [
    {
     "data": {
      "text/plain": [
       "true"
      ]
     },
     "execution_count": 42,
     "metadata": {},
     "output_type": "execute_result"
    }
   ],
   "source": [
    "2.0000000000000001 == 2"
   ]
  },
  {
   "cell_type": "markdown",
   "metadata": {},
   "source": [
    " * element-wise equal (.==), element-wise different (.!=)"
   ]
  },
  {
   "cell_type": "code",
   "execution_count": 43,
   "metadata": {},
   "outputs": [
    {
     "data": {
      "text/plain": [
       "1×3 BitArray{2}:\n",
       " true  false  false"
      ]
     },
     "execution_count": 43,
     "metadata": {},
     "output_type": "execute_result"
    }
   ],
   "source": [
    "[1 2 3] .== [1 3 2]"
   ]
  },
  {
   "cell_type": "markdown",
   "metadata": {},
   "source": [
    "* comparision between numbers: <, >, <= (≤), => (≥)"
   ]
  },
  {
   "cell_type": "code",
   "execution_count": 44,
   "metadata": {},
   "outputs": [
    {
     "data": {
      "text/plain": [
       "true"
      ]
     },
     "execution_count": 44,
     "metadata": {},
     "output_type": "execute_result"
    }
   ],
   "source": [
    "30 > 25"
   ]
  },
  {
   "cell_type": "markdown",
   "metadata": {},
   "source": [
    "* element-wise comparision between vector and matrices: .<, .>, .<= (.≤), .=> (.≥)"
   ]
  },
  {
   "cell_type": "code",
   "execution_count": 45,
   "metadata": {},
   "outputs": [
    {
     "data": {
      "text/plain": [
       "3-element BitArray{1}:\n",
       " false\n",
       " false\n",
       "  true"
      ]
     },
     "execution_count": 45,
     "metadata": {},
     "output_type": "execute_result"
    }
   ],
   "source": [
    "[1,2,3] .> 2"
   ]
  },
  {
   "cell_type": "code",
   "execution_count": 46,
   "metadata": {},
   "outputs": [
    {
     "data": {
      "text/plain": [
       "3-element BitArray{1}:\n",
       " false\n",
       "  true\n",
       "  true"
      ]
     },
     "execution_count": 46,
     "metadata": {},
     "output_type": "execute_result"
    }
   ],
   "source": [
    "[1,2,3] .> [3,1,2]"
   ]
  },
  {
   "cell_type": "markdown",
   "metadata": {},
   "source": [
    "* logical \"and\" (&&) logical \"or\" (||) (with short-circuit evaluation)"
   ]
  },
  {
   "cell_type": "code",
   "execution_count": 47,
   "metadata": {},
   "outputs": [],
   "source": [
    "temperature = 30;\n",
    "precipitation = 10;\n",
    "\n",
    "if temperature > 25 && precipitation == 0\n",
    "    print(\"go outside!\")\n",
    "end"
   ]
  },
  {
   "cell_type": "markdown",
   "metadata": {},
   "source": [
    "* logical element-wise \"and\" (.&) logical element-wise \"or\" (.|)\n",
    "\n",
    "* The results of such operators can also be used to index an array\n",
    "    \n",
    "* For example return all elements in the variable T which are greater than 10 but less than 20.\n",
    "    "
   ]
  },
  {
   "cell_type": "code",
   "execution_count": null,
   "metadata": {},
   "outputs": [],
   "source": []
  },
  {
   "cell_type": "code",
   "execution_count": 48,
   "metadata": {},
   "outputs": [
    {
     "data": {
      "text/plain": [
       "2-element Array{Int64,1}:\n",
       " 27\n",
       " 26"
      ]
     },
     "execution_count": 48,
     "metadata": {},
     "output_type": "execute_result"
    }
   ],
   "source": [
    "T = [27,17,20,26,32]\n",
    "T[20 .< T .& T .< 30]"
   ]
  },
  {
   "cell_type": "code",
   "execution_count": 49,
   "metadata": {},
   "outputs": [
    {
     "data": {
      "text/plain": [
       "2-element Array{Int64,1}:\n",
       " 27\n",
       " 26"
      ]
     },
     "execution_count": 49,
     "metadata": {},
     "output_type": "execute_result"
    }
   ],
   "source": [
    "T[20 .< T .& T .< 30]"
   ]
  },
  {
   "cell_type": "code",
   "execution_count": 50,
   "metadata": {},
   "outputs": [
    {
     "data": {
      "text/plain": [
       "5-element BitArray{1}:\n",
       "  true\n",
       "  true\n",
       "  true\n",
       "  true\n",
       " false"
      ]
     },
     "execution_count": 50,
     "metadata": {},
     "output_type": "execute_result"
    }
   ],
   "source": [
    "T .< 30"
   ]
  },
  {
   "cell_type": "code",
   "execution_count": 51,
   "metadata": {},
   "outputs": [
    {
     "data": {
      "text/plain": [
       "2-element Array{Int64,1}:\n",
       " 27\n",
       " 26"
      ]
     },
     "execution_count": 51,
     "metadata": {},
     "output_type": "execute_result"
    }
   ],
   "source": [
    "T = [27,17,20,26,32]\n",
    "T[20 .< T .& T .< 30]"
   ]
  },
  {
   "cell_type": "markdown",
   "metadata": {},
   "source": [
    "* The function `find(condition)` returns the indexes of all elements where the condition is true."
   ]
  },
  {
   "cell_type": "code",
   "execution_count": 52,
   "metadata": {},
   "outputs": [
    {
     "data": {
      "text/plain": [
       "2-element Array{Int64,1}:\n",
       " 1\n",
       " 4"
      ]
     },
     "execution_count": 52,
     "metadata": {},
     "output_type": "execute_result"
    }
   ],
   "source": [
    "find(20 .< T .& T .< 30)"
   ]
  },
  {
   "cell_type": "markdown",
   "metadata": {},
   "source": [
    "* false is zero and true is 1. For instance to count the number of elements in the vector T which are larger than 20 one can use sum(T .> 20)."
   ]
  },
  {
   "cell_type": "code",
   "execution_count": 53,
   "metadata": {},
   "outputs": [
    {
     "data": {
      "text/plain": [
       "6"
      ]
     },
     "execution_count": 53,
     "metadata": {},
     "output_type": "execute_result"
    }
   ],
   "source": [
    "sum([1,2,3])"
   ]
  },
  {
   "cell_type": "code",
   "execution_count": 54,
   "metadata": {},
   "outputs": [
    {
     "data": {
      "text/plain": [
       "2"
      ]
     },
     "execution_count": 54,
     "metadata": {},
     "output_type": "execute_result"
    }
   ],
   "source": [
    "sum([1,0,1])"
   ]
  },
  {
   "cell_type": "code",
   "execution_count": 55,
   "metadata": {},
   "outputs": [
    {
     "data": {
      "text/plain": [
       "3"
      ]
     },
     "execution_count": 55,
     "metadata": {},
     "output_type": "execute_result"
    }
   ],
   "source": [
    "sum(T .> 20)"
   ]
  },
  {
   "cell_type": "markdown",
   "metadata": {},
   "source": [
    "# Useful functions\n",
    "\n",
    "* sin, cos, tan: trigonometric functions\n",
    "* asin, acos, atan: inverse trigonometric functions\n",
    "* log, log2, log10: natural, base 2 and base 10 logarithms: \n",
    "* exp: exponentiation\n",
    "* abs: absolute value\n",
    "* sqrt: square root\n",
    "* mean: mean\n",
    "* median: median\n",
    "* std: standard deviation\n",
    "* var: variance\n",
    "* mod: modulo (useful to manipulate e.g. the longitude)\n",
    "* isnan: Check if variable is NaN. Note that NaN == NaN is false!\n",
    "* inv: inverse of a matrix\n",
    "* sum: sum of all elements\n",
    "* prod: product of all elements\n",
    "* maximum,minimum: maximum,minimum value in an array\n",
    "* max,min: maximum,minimum value of all arguments\n",
    "* isnan: true if a value is NaN\n",
    "* isinf: true if a value is Inf\n",
    "\n",
    "These function can also operate of a given dimension: sum(array,dimension)\n",
    "\n",
    "Find out more of these function by typing ? followed by the function name. "
   ]
  },
  {
   "cell_type": "code",
   "execution_count": 56,
   "metadata": {},
   "outputs": [
    {
     "name": "stdout",
     "output_type": "stream",
     "text": [
      "search: \u001b[1mo\u001b[22m\u001b[1mp\u001b[22m\u001b[1me\u001b[22m\u001b[1mn\u001b[22m is\u001b[1mo\u001b[22m\u001b[1mp\u001b[22m\u001b[1me\u001b[22m\u001b[1mn\u001b[22m m\u001b[1mo\u001b[22mdule_\u001b[1mp\u001b[22mar\u001b[1me\u001b[22m\u001b[1mn\u001b[22mt C\u001b[1mo\u001b[22mm\u001b[1mp\u001b[22mosit\u001b[1me\u001b[22mExceptio\u001b[1mn\u001b[22m \u001b[1mo\u001b[22m\u001b[1mp\u001b[22m\u001b[1me\u001b[22mrm \u001b[1mO\u001b[22m\u001b[1mp\u001b[22m\u001b[1me\u001b[22mrators c\u001b[1mo\u001b[22m\u001b[1mp\u001b[22mp\u001b[1me\u001b[22mr\n",
      "\n"
     ]
    },
    {
     "data": {
      "text/markdown": [
       "```\n",
       "open(filename::AbstractString, [read::Bool, write::Bool, create::Bool, truncate::Bool, append::Bool]) -> IOStream\n",
       "```\n",
       "\n",
       "Open a file in a mode specified by five boolean arguments. The default is to open files for reading only. Returns a stream for accessing the file.\n",
       "\n",
       "```\n",
       "open(filename::AbstractString, [mode::AbstractString]) -> IOStream\n",
       "```\n",
       "\n",
       "Alternate syntax for open, where a string-based mode specifier is used instead of the five booleans. The values of `mode` correspond to those from `fopen(3)` or Perl `open`, and are equivalent to setting the following boolean groups:\n",
       "\n",
       "| Mode | Description                   |\n",
       "|:---- |:----------------------------- |\n",
       "| r    | read                          |\n",
       "| r+   | read, write                   |\n",
       "| w    | write, create, truncate       |\n",
       "| w+   | read, write, create, truncate |\n",
       "| a    | write, create, append         |\n",
       "| a+   | read, write, create, append   |\n",
       "\n",
       "```\n",
       "open(f::Function, args...)\n",
       "```\n",
       "\n",
       "Apply the function `f` to the result of `open(args...)` and close the resulting file descriptor upon completion.\n",
       "\n",
       "**Example**: `open(readstring, \"file.txt\")`\n",
       "\n",
       "```\n",
       "open(command, mode::AbstractString=\"r\", stdio=DevNull)\n",
       "```\n",
       "\n",
       "Start running `command` asynchronously, and return a tuple `(stream,process)`.  If `mode` is `\"r\"`, then `stream` reads from the process's standard output and `stdio` optionally specifies the process's standard input stream.  If `mode` is `\"w\"`, then `stream` writes to the process's standard input and `stdio` optionally specifies the process's standard output stream.\n",
       "\n",
       "```\n",
       "open(f::Function, command, mode::AbstractString=\"r\", stdio=DevNull)\n",
       "```\n",
       "\n",
       "Similar to `open(command, mode, stdio)`, but calls `f(stream)` on the resulting read or write stream, then closes the stream and waits for the process to complete.  Returns the value returned by `f`.\n"
      ],
      "text/plain": [
       "```\n",
       "open(filename::AbstractString, [read::Bool, write::Bool, create::Bool, truncate::Bool, append::Bool]) -> IOStream\n",
       "```\n",
       "\n",
       "Open a file in a mode specified by five boolean arguments. The default is to open files for reading only. Returns a stream for accessing the file.\n",
       "\n",
       "```\n",
       "open(filename::AbstractString, [mode::AbstractString]) -> IOStream\n",
       "```\n",
       "\n",
       "Alternate syntax for open, where a string-based mode specifier is used instead of the five booleans. The values of `mode` correspond to those from `fopen(3)` or Perl `open`, and are equivalent to setting the following boolean groups:\n",
       "\n",
       "| Mode | Description                   |\n",
       "|:---- |:----------------------------- |\n",
       "| r    | read                          |\n",
       "| r+   | read, write                   |\n",
       "| w    | write, create, truncate       |\n",
       "| w+   | read, write, create, truncate |\n",
       "| a    | write, create, append         |\n",
       "| a+   | read, write, create, append   |\n",
       "\n",
       "```\n",
       "open(f::Function, args...)\n",
       "```\n",
       "\n",
       "Apply the function `f` to the result of `open(args...)` and close the resulting file descriptor upon completion.\n",
       "\n",
       "**Example**: `open(readstring, \"file.txt\")`\n",
       "\n",
       "```\n",
       "open(command, mode::AbstractString=\"r\", stdio=DevNull)\n",
       "```\n",
       "\n",
       "Start running `command` asynchronously, and return a tuple `(stream,process)`.  If `mode` is `\"r\"`, then `stream` reads from the process's standard output and `stdio` optionally specifies the process's standard input stream.  If `mode` is `\"w\"`, then `stream` writes to the process's standard input and `stdio` optionally specifies the process's standard output stream.\n",
       "\n",
       "```\n",
       "open(f::Function, command, mode::AbstractString=\"r\", stdio=DevNull)\n",
       "```\n",
       "\n",
       "Similar to `open(command, mode, stdio)`, but calls `f(stream)` on the resulting read or write stream, then closes the stream and waits for the process to complete.  Returns the value returned by `f`.\n"
      ]
     },
     "execution_count": 56,
     "metadata": {},
     "output_type": "execute_result"
    }
   ],
   "source": [
    "?open"
   ]
  },
  {
   "cell_type": "code",
   "execution_count": 57,
   "metadata": {},
   "outputs": [
    {
     "name": "stdout",
     "output_type": "stream",
     "text": [
      "Base.Condition\n",
      "Base.mean\n",
      "Base.stdm\n",
      "Base.isbits\n",
      "Base.varm\n",
      "Base.var\n",
      "Core.String\n",
      "Base.iteratorsize\n",
      "Base.isleaftype\n",
      "Base.mean!\n",
      "Base.middle\n",
      "Base.null_safe_op\n",
      "Base.median\n",
      "Base.iteratoreltype\n",
      "Base.std\n",
      "Base.Slice\n",
      "Base.:∘\n",
      "Base.reduce\n",
      "Base.isequal\n",
      "Base.Threads.atomic_cas!\n",
      "Base.Multimedia.display\n",
      "Base.Random.randn\n",
      "Base.Random.randn!\n",
      "Base.Test.test_expr!\n",
      "Base.LinAlg.linreg\n",
      "Base.LinAlg.sqrtm\n",
      "Base.LinAlg.LAPACK.gesvx!\n",
      "Base.DFT.plan_irfft\n",
      "Base.DFT.plan_fft\n",
      "Base.DFT.FFTW.plan_dct\n",
      "Base.DFT.FFTW.plan_idct\n",
      "Base.LibGit2.clone\n",
      "Base.Profile.fetch\n",
      "Base.SparseArrays.sprand\n",
      "Compat\n",
      "IJulia.set_cur_msg\n",
      "FixedPointNumbers\n",
      "ColorTypes.TransparentColor\n",
      "ColorTypes.Colorant\n",
      "ColorTypes.XYZ\n",
      "Colors\n",
      "Colors.weighted_color_mean\n",
      "PyCall.pystealref!\n"
     ]
    },
    {
     "name": "stderr",
     "output_type": "stream",
     "text": [
      "\u001b[1m\u001b[33mWARNING: \u001b[39m\u001b[22m\u001b[33munable to search documentation of type PyPlot.LazyHelp\u001b[39m\n"
     ]
    }
   ],
   "source": [
    "apropos(\"mean\")"
   ]
  },
  {
   "cell_type": "code",
   "execution_count": 58,
   "metadata": {},
   "outputs": [
    {
     "name": "stdout",
     "output_type": "stream",
     "text": [
      "search: \u001b[1mm\u001b[22m\u001b[1me\u001b[22m\u001b[1ma\u001b[22m\u001b[1mn\u001b[22m \u001b[1mm\u001b[22m\u001b[1me\u001b[22m\u001b[1ma\u001b[22m\u001b[1mn\u001b[22m! \u001b[1mm\u001b[22m\u001b[1me\u001b[22mdi\u001b[1ma\u001b[22m\u001b[1mn\u001b[22m \u001b[1mm\u001b[22m\u001b[1me\u001b[22mdi\u001b[1ma\u001b[22m\u001b[1mn\u001b[22m! Re\u001b[1mm\u001b[22mot\u001b[1me\u001b[22mCh\u001b[1ma\u001b[22m\u001b[1mn\u001b[22mnel Seg\u001b[1mm\u001b[22m\u001b[1me\u001b[22mnt\u001b[1ma\u001b[22mtio\u001b[1mn\u001b[22mFault \u001b[1mm\u001b[22macro\u001b[1me\u001b[22mxp\u001b[1ma\u001b[22m\u001b[1mn\u001b[22md\n",
      "\n"
     ]
    },
    {
     "data": {
      "text/markdown": [
       "```\n",
       "mean(f::Function, v)\n",
       "```\n",
       "\n",
       "Apply the function `f` to each element of `v` and take the mean.\n",
       "\n",
       "```jldoctest\n",
       "julia> mean(√, [1, 2, 3])\n",
       "1.3820881233139908\n",
       "\n",
       "julia> mean([√1, √2, √3])\n",
       "1.3820881233139908\n",
       "```\n",
       "\n",
       "```\n",
       "mean(v[, region])\n",
       "```\n",
       "\n",
       "Compute the mean of whole array `v`, or optionally along the dimensions in `region`.\n",
       "\n",
       "!!! note\n",
       "    Julia does not ignore `NaN` values in the computation. For applications requiring the handling of missing data, the `DataArrays.jl` package is recommended.\n",
       "\n"
      ],
      "text/plain": [
       "```\n",
       "mean(f::Function, v)\n",
       "```\n",
       "\n",
       "Apply the function `f` to each element of `v` and take the mean.\n",
       "\n",
       "```jldoctest\n",
       "julia> mean(√, [1, 2, 3])\n",
       "1.3820881233139908\n",
       "\n",
       "julia> mean([√1, √2, √3])\n",
       "1.3820881233139908\n",
       "```\n",
       "\n",
       "```\n",
       "mean(v[, region])\n",
       "```\n",
       "\n",
       "Compute the mean of whole array `v`, or optionally along the dimensions in `region`.\n",
       "\n",
       "!!! note\n",
       "    Julia does not ignore `NaN` values in the computation. For applications requiring the handling of missing data, the `DataArrays.jl` package is recommended.\n",
       "\n"
      ]
     },
     "execution_count": 58,
     "metadata": {},
     "output_type": "execute_result"
    }
   ],
   "source": [
    "?mean"
   ]
  },
  {
   "cell_type": "markdown",
   "metadata": {},
   "source": [
    "# The file system\n",
    "\n",
    "* On every current operating system, files are organized in a tree of directories starting from a root directory\n",
    "* The absolute path of a directory or file defines which directories to follow starting from the root directory to the given directory or file\n",
    "* In Linux/UNIX/Max OS X, files and directory names are separated by a slash (/), on Windows by a backslash (\\\\)\n",
    "* In order to avoid to deal with long path names, every program has a current working directory\n",
    "* The current working directory from Julia can be queried with the command `pwd()`.\n",
    "* The relative path of a directory or file defines which directories to follow starting from the current directory to the given directory or file\n",
    "* In relative path, two dots (`..`) represent the parent directory.\n",
    "* To change the current directory, you can use the command `cd`. For Linux and Mac OS X:\n",
    "\n",
    "```julia\n",
    "cd(\"/home/MyDir\")\n",
    "``` \n",
    "\n",
    "Under Windows you need to you the following:\n",
    "\n",
    "```julia\n",
    "cd(\"C:\\\\Users\\\\MyDir\")\n",
    "```\n",
    "\n",
    "Note that here two baclslashes are necessary ([why?](https://stackoverflow.com/questions/28328052/why-do-i-have-to-use-double-backslashes-for-file-paths-in-code))."
   ]
  },
  {
   "cell_type": "markdown",
   "metadata": {},
   "source": [
    "# Importing/Exporting data\n",
    "\n",
    "## ASCII format\n",
    "\n",
    "* To read ASCII data in Julia, tables should be saved as an ASCII text file using space or a special characters as separator. Each line corresponds to one row. Make sure that a dot is used as a decimal separator."
   ]
  },
  {
   "cell_type": "code",
   "execution_count": 59,
   "metadata": {},
   "outputs": [
    {
     "data": {
      "text/plain": [
       "8784×8 Array{Float64,2}:\n",
       " 2004.0   1.0   1.0   0.0  0.0   0.297  0.003  0.0\n",
       " 2004.0   1.0   1.0   1.0  0.0   0.302  0.002  0.0\n",
       " 2004.0   1.0   1.0   2.0  0.0   0.295  0.006  0.0\n",
       " 2004.0   1.0   1.0   3.0  0.0   0.28   0.003  0.0\n",
       " 2004.0   1.0   1.0   4.0  0.0   0.236  0.004  0.0\n",
       " 2004.0   1.0   1.0   5.0  0.0   0.192  0.003  0.0\n",
       " 2004.0   1.0   1.0   6.0  0.0   0.164  0.002  0.0\n",
       " 2004.0   1.0   1.0   7.0  0.0   0.153  0.003  0.0\n",
       " 2004.0   1.0   1.0   8.0  0.0   0.126  0.002  0.0\n",
       " 2004.0   1.0   1.0   9.0  0.0   0.094  0.002  0.0\n",
       " 2004.0   1.0   1.0  10.0  0.0   0.067  0.002  0.0\n",
       " 2004.0   1.0   1.0  11.0  0.0   0.069  0.002  0.0\n",
       " 2004.0   1.0   1.0  12.0  0.0   0.08   0.001  0.0\n",
       "    ⋮                            ⋮                \n",
       " 2004.0  12.0  31.0  12.0  0.0   0.078  0.003  0.0\n",
       " 2004.0  12.0  31.0  13.0  0.0   0.031  0.002  0.0\n",
       " 2004.0  12.0  31.0  14.0  0.0  -0.002  0.005  0.0\n",
       " 2004.0  12.0  31.0  15.0  0.0  -0.025  0.001  0.0\n",
       " 2004.0  12.0  31.0  16.0  0.0  -0.037  0.004  0.0\n",
       " 2004.0  12.0  31.0  17.0  0.0  -0.029  0.004  0.0\n",
       " 2004.0  12.0  31.0  18.0  0.0   0.012  0.004  0.0\n",
       " 2004.0  12.0  31.0  19.0  0.0   0.018  0.001  0.0\n",
       " 2004.0  12.0  31.0  20.0  0.0   0.085  0.003  0.0\n",
       " 2004.0  12.0  31.0  21.0  0.0   0.106  0.01   0.0\n",
       " 2004.0  12.0  31.0  22.0  0.0   0.142  0.004  0.0\n",
       " 2004.0  12.0  31.0  23.0  0.0   0.199  0.007  0.0"
      ]
     },
     "execution_count": 59,
     "metadata": {},
     "output_type": "execute_result"
    }
   ],
   "source": [
    "data  = readdlm(\"8762075.sealevel.txt\",comment_char='%')"
   ]
  },
  {
   "cell_type": "markdown",
   "metadata": {},
   "source": [
    "* Saving the variable data in the file data.txt using the ASCII format"
   ]
  },
  {
   "cell_type": "code",
   "execution_count": 60,
   "metadata": {},
   "outputs": [],
   "source": [
    "writedlm(\"data.txt\",data)"
   ]
  },
  {
   "cell_type": "markdown",
   "metadata": {},
   "source": [
    "## NetCDF format\n",
    "\n",
    "* Reading a variable called `var`  from a NetCDF file\n",
    "\n",
    "```julia\n",
    "using NCDatasets\n",
    "ds = Dataset(\"file.nc\")\n",
    "data = ds[\"var\"][:];\n",
    "close(ds)\n",
    "```"
   ]
  },
  {
   "cell_type": "markdown",
   "metadata": {},
   "source": [
    "* Writing a variable called `var` data to a NetCDF file\n",
    "\n",
    "```julia\n",
    "ds = Dataset(\"file.nc\",\"c\")\n",
    "\n",
    "# Define the dimension \"lon\" and \"lat\" with the size 100 and 110 resp.\n",
    "defDim(ds,\"lon\",100)\n",
    "defDim(ds,\"lat\",110)\n",
    "\n",
    "\n",
    "# Define the variables temperature and salinity\n",
    "v = defVar(ds,\"temperature\",Float32,(\"lon\",\"lat\"))\n",
    "# write a the complete data set\n",
    "v[:,:] = data\n",
    "close(ds)\n",
    "```"
   ]
  },
  {
   "cell_type": "markdown",
   "metadata": {},
   "source": [
    "# Scripts\n",
    "\n",
    "* A series of commands can be collected in a script file\n",
    "* A script file has the extension `.jl`\n",
    "* How can Julia find your script file?\n",
    "    * it must be either in your current work directory\n",
    "    * the directory containing the script file must be added to the search path using `LOAD_PATH`. For example\n",
    "\n",
    "```julia\n",
    "push!(LOAD_PATH,\"/some/path\")\n",
    "```\n",
    "\n",
    "* The code in a script is executed when using `include`:\n",
    "\n",
    "```\n",
    "include(\"filename.jl\")\n",
    "```\n",
    "\n",
    "\n",
    "# Functions\n",
    "\n",
    "* Functions are similar to scripts\n",
    "* Unlike scripts, functions can have input/output parameters\n",
    "* For example a function calculating the speed of ocean current based on the zonal and meridional component"
   ]
  },
  {
   "cell_type": "code",
   "execution_count": 61,
   "metadata": {},
   "outputs": [
    {
     "data": {
      "text/plain": [
       "current_speed (generic function with 1 method)"
      ]
     },
     "execution_count": 61,
     "metadata": {},
     "output_type": "execute_result"
    }
   ],
   "source": [
    "function current_speed(u,v)\n",
    "   speed = sqrt(u^2 + v^2)\n",
    "   return speed\n",
    "end"
   ]
  },
  {
   "cell_type": "code",
   "execution_count": null,
   "metadata": {},
   "outputs": [],
   "source": []
  },
  {
   "cell_type": "code",
   "execution_count": 62,
   "metadata": {},
   "outputs": [
    {
     "data": {
      "text/plain": [
       "7.0710678118654755"
      ]
     },
     "execution_count": 62,
     "metadata": {},
     "output_type": "execute_result"
    }
   ],
   "source": [
    "speed2 = current_speed(5,5)"
   ]
  },
  {
   "cell_type": "code",
   "execution_count": 63,
   "metadata": {},
   "outputs": [
    {
     "data": {
      "text/plain": [
       "5.830951894845301"
      ]
     },
     "execution_count": 63,
     "metadata": {},
     "output_type": "execute_result"
    }
   ],
   "source": [
    "speed = current_speed(3,5)\n"
   ]
  },
  {
   "cell_type": "code",
   "execution_count": 64,
   "metadata": {},
   "outputs": [
    {
     "data": {
      "text/plain": [
       "9-element Array{Int64,1}:\n",
       " 0\n",
       " 0\n",
       " 0\n",
       " 3\n",
       " 4\n",
       " 5\n",
       " 3\n",
       " 0\n",
       " 0"
      ]
     },
     "execution_count": 64,
     "metadata": {},
     "output_type": "execute_result"
    }
   ],
   "source": [
    "P = [0,0,0,3,4,5,3,0,0]\n"
   ]
  },
  {
   "cell_type": "code",
   "execution_count": 65,
   "metadata": {},
   "outputs": [
    {
     "name": "stdout",
     "output_type": "stream",
     "text": [
      "days = 1\n",
      "days = 2\n",
      "days = 3\n",
      "days = 3\n",
      "days = 3\n",
      "days = 3\n",
      "days = 3\n",
      "days = 4\n",
      "days = 5\n"
     ]
    },
    {
     "data": {
      "text/plain": [
       "5"
      ]
     },
     "execution_count": 65,
     "metadata": {},
     "output_type": "execute_result"
    }
   ],
   "source": [
    "function dayswithoutrain(P)\n",
    "    #....\n",
    "    days = 0\n",
    "    for i= 1 : length(P)\n",
    "        # do something with i\n",
    "        if P[i] == 0\n",
    "            # count\n",
    "            days = days+1\n",
    "        end\n",
    "        @show days\n",
    "    end    \n",
    "    return days\n",
    "end    \n",
    "days = dayswithoutrain(P)    "
   ]
  },
  {
   "cell_type": "code",
   "execution_count": 66,
   "metadata": {},
   "outputs": [],
   "source": [
    "using PyPlot"
   ]
  },
  {
   "cell_type": "markdown",
   "metadata": {},
   "source": [
    "# Modules\n",
    "\n",
    "Functions can be grouped into a module. \n",
    "\n",
    "## Installation of modules\n",
    "\n",
    "To install a module use `Pkg.add`, for example:"
   ]
  },
  {
   "cell_type": "code",
   "execution_count": 67,
   "metadata": {},
   "outputs": [
    {
     "name": "stderr",
     "output_type": "stream",
     "text": [
      "\u001b[1m\u001b[36mINFO: \u001b[39m\u001b[22m\u001b[36mPackage PyPlot is already installed\n",
      "\u001b[39m"
     ]
    }
   ],
   "source": [
    "Pkg.add(\"PyPlot\")"
   ]
  },
  {
   "cell_type": "markdown",
   "metadata": {},
   "source": [
    "Module can also be installed directly from a repository:\n",
    "\n",
    "```julia\n",
    "Pkg.clone(\"https://github.com/gher-ulg/divand.jl\")\n",
    "```"
   ]
  },
  {
   "cell_type": "markdown",
   "metadata": {},
   "source": [
    "A module can be upgraded with:"
   ]
  },
  {
   "cell_type": "code",
   "execution_count": 68,
   "metadata": {},
   "outputs": [
    {
     "name": "stderr",
     "output_type": "stream",
     "text": [
      "\u001b[1m\u001b[36mINFO: \u001b[39m\u001b[22m\u001b[36mUpdating METADATA...\n",
      "\u001b[39m\u001b[1m\u001b[36mINFO: \u001b[39m\u001b[22m\u001b[36mComputing changes...\n",
      "\u001b[39m\u001b[1m\u001b[36mINFO: \u001b[39m\u001b[22m\u001b[36mNo packages to install, update or remove\n",
      "\u001b[39m"
     ]
    }
   ],
   "source": [
    "Pkg.update(\"PyPlot\")"
   ]
  },
  {
   "cell_type": "markdown",
   "metadata": {},
   "source": [
    "A no-longer used module can be removed with `Pkg.rm(\"ModuleName\")`. "
   ]
  },
  {
   "cell_type": "markdown",
   "metadata": {},
   "source": [
    "## Using modules\n",
    "\n",
    "To access a function (e.g. the function `plot`) inside a module (e.g. `PyPlot`) one need to load the module with `using`. The following loads the module `PyPlot`:\n",
    "\n",
    "```julia\n",
    "using PyPlot\n",
    "```\n",
    "\n",
    "Now the function `plot` can be called.\n",
    "Alternatively, one can also use `import`:\n",
    "\n",
    "```julia\n",
    "import PyPlot\n",
    "```\n",
    "The function plot can be called as `PyPlot.plot`. The import statement is useful to indicate in the source code the origin of the different functions (and avoid possible naming conflicts).\n",
    "\n",
    "A short summary of a module is generally available by issuing\n",
    "\n",
    "```julia\n",
    "?ModuleName\n",
    "```"
   ]
  },
  {
   "cell_type": "code",
   "execution_count": 83,
   "metadata": {},
   "outputs": [],
   "source": [
    "using PyPlot"
   ]
  },
  {
   "cell_type": "code",
   "execution_count": 82,
   "metadata": {},
   "outputs": [
    {
     "name": "stdout",
     "output_type": "stream",
     "text": [
      "search: \u001b[1mP\u001b[22m\u001b[1my\u001b[22m\u001b[1mP\u001b[22m\u001b[1ml\u001b[22m\u001b[1mo\u001b[22m\u001b[1mt\u001b[22m\n",
      "\n"
     ]
    },
    {
     "data": {
      "text/markdown": [
       "No documentation found.\n",
       "\n",
       "Displaying the `README.md` for the module instead.\n",
       "\n",
       "---\n",
       "\n",
       "# The PyPlot module for Julia\n",
       "\n",
       "This module provides a Julia interface to the [Matplotlib](http://matplotlib.org/) plotting library from Python, and specifically to the `matplotlib.pyplot` module.\n",
       "\n",
       "PyPlot uses the Julia [PyCall](https://github.com/stevengj/PyCall.jl) package to call Matplotlib directly from Julia with little or no overhead (arrays are passed without making a copy).\n",
       "\n",
       "This package takes advantage of Julia's [multimedia I/O](http://docs.julialang.org/en/latest/stdlib/base/#multimedia-i-o) API to display plots in any Julia graphical backend, including as inline graphics in [IJulia](https://github.com/JuliaLang/IJulia.jl). Alternatively, you can use a Python-based graphical Matplotlib backend to support interactive plot zooming etcetera.\n",
       "\n",
       "(This PyPlot package replaces an earlier package of the same name by [Junfeng Li](https://github.com/autozimu/), which used PyPlot over a ZeroMQ socket with IPython.)\n",
       "\n",
       "## Installation\n",
       "\n",
       "You will need to have the Python [Matplotlib](http://matplotlib.org/) library installed on your machine in order to use PyPlot.  You can either do inline plotting with [IJulia](https://github.com/JuliaLang/IJulia.jl), which doesn't require a GUI backend, or use the Qt, wx, or GTK+ backends of Matplotlib as described below.\n",
       "\n",
       "Once Matplotlib is installed, then you can just use `Pkg.add(\"PyPlot\")` in Julia to install PyPlot and its dependencies.\n",
       "\n",
       "### Automated Matplotlib installation\n",
       "\n",
       "If you set up PyCall to use the [Conda.jl](https://github.com/Luthaf/Conda.jl) package to install a private (not in the system `PATH`) Julia Python distribution (via Miniconda), then PyPlot will automatically install Matplotlib as needed.\n",
       "\n",
       "If you are installing PyCall and PyPlot for the first time, just do `ENV[\"PYTHON\"]=\"\"` before running `Pkg.add(\"PyPlot\")`.  Otherwise, you can reconfigure PyCall to use Conda via:\n",
       "\n",
       "```\n",
       "ENV[\"PYTHON\"]=\"\"\n",
       "Pkg.build(\"PyCall\")\n",
       "```\n",
       "\n",
       "The next time you import `PyPlot`, it will tell Conda to install Matplotlib.\n",
       "\n",
       "### OS X\n",
       "\n",
       "On MacOS, you should either install [XQuartz](http://xquartz.macosforge.org/landing/) for MacOS 10.9 or later or install the [Anaconda](http://continuum.io/downloads) Python distribution in order to get a fully functional PyPlot.\n",
       "\n",
       "MacOS 10.9 comes with Python and Matplotlib, but this version of Matplotlib defaults to with the Cocoa GUI backend, which is [not supported by PyPlot](https://github.com/stevengj/PyPlot.jl/issues/11). It also has a Tk backend, which is supported, but the Tk backend does not work unless you install XQuartz.\n",
       "\n",
       "Alternatively, you can install the [Anaconda](http://continuum.io/downloads) Python distribution (which also includes `ipython` and other IJulia dependencies).\n",
       "\n",
       "Otherwise, you can use the [Homebrew](http://brew.sh/) package manager:\n",
       "\n",
       "```\n",
       "brew install python gcc freetype pyqt\n",
       "brew link --force freetype\n",
       "export PATH=\"/usr/local/bin:$PATH\"\n",
       "export PYTHONPATH=\"/usr/local/lib/python2.7:$PYTHONPATH\"\n",
       "pip install numpy scipy matplotlib\n",
       "```\n",
       "\n",
       "(You may want to add the two `export` commands to your `~/.profile` file so that they are automatically executed whenever you start a shell.)\n",
       "\n",
       "## Basic usage\n",
       "\n",
       "Once Matplotlib and PyPlot are installed, and you are using a graphics-capable Julia environment such as IJulia, you can simply type `using PyPlot` and begin calling functions in the [matplotlib.pyplot](http://matplotlib.org/api/pyplot_api.html) API. For example:\n",
       "\n",
       "```\n",
       "using PyPlot\n",
       "x = linspace(0,2*pi,1000); y = sin(3*x + 4*cos(2*x));\n",
       "plot(x, y, color=\"red\", linewidth=2.0, linestyle=\"--\")\n",
       "title(\"A sinusoidally modulated sinusoid\")\n",
       "```\n",
       "\n",
       "In general, all of the arguments, including keyword arguments, are exactly the same as in Python.  (With minor translations, of course, e.g. Julia uses `true` and `nothing` instead of Python's `True` and `None`.)\n",
       "\n",
       "The full `matplotlib.pyplot` API is far too extensive to describe here; see the [matplotlib.pyplot documentation for more information](http://matplotlib.org/api/pyplot_api.html).  The Matplotlib version number is returned by `PyPlot.version`.\n",
       "\n",
       "### Exported functions\n",
       "\n",
       "Only the currently documented `matplotlib.pyplot` API is exported.  To use other functions in the module, you can also call `matplotlib.pyplot.foo(...)` as `plt[:foo](...)`.  For example, `plt[:plot](x, y)` also works.  (And the raw `PyObject` for the `matplotlib` modules is also accessible as `PyPlot.matplotlib`.)\n",
       "\n",
       "Matplotlib is somewhat inconsistent about capitalization: it has `contour3D` but `bar3d`, etcetera.  PyPlot renames all such functions to use a capital *D* (e.g. it has `hist2D`, `bar3D`, and so on).\n",
       "\n",
       "You must also use `plt` to access some functions that conflict with built-in Julia functions.  In particular `plt[:hist]`, `plt[:xcorr]`, and `plt[:isinteractive]` must be used to access `matplotlib.pyplot.hist` etcetera.\n",
       "\n",
       "If you wish to access *all* of the PyPlot functions exclusively through `plt.somefunction(...)`, as is conventional in Python, you can do `import PyPlot; const plt = PyPlot` instead of `using PyPlot`.\n",
       "\n",
       "### Figure objects\n",
       "\n",
       "You can get the current figure as a `Figure` object (a wrapper around `matplotlib.pyplot.Figure`) by calling `gcf()`.  \n",
       "\n",
       "The `Figure` type supports Julia's [multimedia I/O API](http://docs.julialang.org/en/latest/stdlib/base/#multimedia-i-o), so you can use `display(fig)` to show a `fig::PyFigure` and `show(io, mime, fig)` (or `writemime` in Julia 0.4) to write it to a given `mime` type string (e.g. `\"image/png\"` or `\"application/pdf\"`) that is supported by the Matplotlib backend.\n",
       "\n",
       "## Non-interactive plotting\n",
       "\n",
       "If you use PyPlot from an interactive Julia prompt, such as the Julia [command-line prompt](http://docs.julialang.org/en/latest/manual/interacting-with-julia/) or an IJulia notebook, then plots appear immediately after a plotting function (`plot` etc.) is evaluated.\n",
       "\n",
       "However, if you use PyPlot from a Julia script that is run non-interactively (e.g. `julia myscript.jl`), then Matplotlib is executed in [non-interactive mode](http://matplotlib.org/faq/usage_faq.html#what-is-interactive-mode): a plot window is not opened until you run `show()` (equivalent to `plt.show()` in the Python examples).\n",
       "\n",
       "## Interactive versus Julia graphics\n",
       "\n",
       "PyPlot can use any Julia graphics backend capable of displaying PNG, SVG, or PDF images, such as the IJulia environment.  To use a different backend, simply call `pushdisplay` with the desired `Display`; see the [Julia multimedia display API](http://docs.julialang.org/en/latest/stdlib/io-network/#multimedia-i-o) for more detail.\n",
       "\n",
       "On the other hand, you may wish to use one of the Python Matplotlib backends to open an interactive window for each plot (for interactive zooming, panning, etcetera).  You can do this at any time by running:\n",
       "\n",
       "```\n",
       "pygui(true)\n",
       "```\n",
       "\n",
       "to turn on the Python-based GUI (if possible) for subsequent plots, while `pygui(false)` will return to the Julia backend.  Even when a Python GUI is running, you can display the current figure with the Julia backend by running `display(gcf())`.\n",
       "\n",
       "If no Julia graphics backend is available when PyPlot is imported, then `pygui(true)` is the default.\n",
       "\n",
       "### Choosing a Python GUI toolkit\n",
       "\n",
       "Only the [Tk](http://www.tcl.tk/), [wxWidgets](http://www.wxwidgets.org/), [GTK+](http://www.gtk.org/) (version 2 or 3), and [Qt](http://qt-project.org/) (version 4 or 5; via the PyQt5,  [PyQt4](http://wiki.python.org/moin/PyQt4) or [PySide](http://qt-project.org/wiki/PySide)), Python GUI backends are supported by PyPlot.  (Obviously, you must have installed one of these toolkits for Python first.)  By default, PyPlot picks one of these when it starts up (based on what you have installed), but you can force a specific toolkit to be chosen by importing the PyCall module and using its `pygui` function to set a Python backend *before* importing PyPlot:\n",
       "\n",
       "```\n",
       "using PyCall\n",
       "pygui(gui)\n",
       "using PyPlot\n",
       "```\n",
       "\n",
       "where `gui` can currently be one of `:tk`, `:gtk3`, `:gtk`, `:qt5`, `:qt4`, `:qt`, or `:wx`. You can also set a default via the Matplotlib `rcParams['backend']` parameter in your [matplotlibrc](http://matplotlib.org/users/customizing.html) file.\n",
       "\n",
       "## Color maps\n",
       "\n",
       "The PyPlot module also exports some functions and types based on the [matplotlib.colors](http://matplotlib.org/api/colors_api.html) and [matplotlib.cm](http://matplotlib.org/api/cm_api.html) modules to simplify management of color maps (which are used to assign values to colors in various plot types).  In particular:\n",
       "\n",
       "  * `ColorMap`: a wrapper around the [matplotlib.colors.Colormap](http://matplotlib.org/api/colors_api.html#matplotlib.colors.Colormap) type.  The following constructors are provided:\n",
       "\n",
       "      * `ColorMap{T<:Colorant}(name::String, c::AbstractVector{T}, n=256, gamma=1.0)` constructs an `n`-component colormap by [linearly interpolating](http://matplotlib.org/api/colors_api.html#matplotlib.colors.LinearSegmentedColormap) the colors in the array `c` of `Colorant`s (from the [ColorTypes.jl](https://github.com/JuliaGraphics/ColorTypes.jl) package).  If you want a `name` to be constructed automatically, call `ColorMap(c, n=256, gamma=1.0)` instead.  Alternatively, instead of passing an array of colors, you can pass a 3- or 4-column matrix of RGB or RGBA components, respectively (similar to [ListedColorMap](http://matplotlib.org/api/colors_api.html#matplotlib.colors.ListedColormap) in Matplotlib).\n",
       "      * Even more general color maps may be defined by passing arrays of (x,y0,y1) tuples for the red, green, blue, and (optionally) alpha components, as defined by the [matplotlib.colors.LinearSegmentedColormap](http://matplotlib.org/api/colors_api.html#matplotlib.colors.LinearSegmentedColormap) constructor, via: `ColorMap{T<:Real}(name::String, r::AbstractVector{(T,T,T)}, g::AbstractVector{(T,T,T)}, b::AbstractVector{(T,T,T)}, n=256, gamma=1.0)` or `ColorMap{T<:Real}(name::String, r::AbstractVector{(T,T,T)}, g::AbstractVector{(T,T,T)}, b::AbstractVector{(T,T,T)}, alpha::AbstractVector{(T,T,T)}, n=256, gamma=1.0)`\n",
       "      * `ColorMap(name::String)` returns an existing (registered) colormap, equivalent to [matplotlib.cm.get_cmap](http://matplotlib.org/api/cm_api.html#matplotlib.cm.get_cmap)(`name`).\n",
       "      * `matplotlib.colors.Colormap` objects returned by Python functions are automatically converted to the `ColorMap` type.\n",
       "  * `get_cmap(name::String)` or `get_cmap(name::String, lut::Integer)` call the [matplotlib.cm.get_cmap](http://matplotlib.org/api/cm_api.html#matplotlib.cm.get_cmap) function.\n",
       "  * `register_cmap(c::ColorMap)` or `register_cmap(name::String, c::ColorMap)` call the [matplotlib.cm.register_cmap](http://matplotlib.org/api/cm_api.html#matplotlib.cm.register_cmap) function.\n",
       "  * `get_cmaps()` returns a `Vector{ColorMap}` of the currently registered colormaps.\n",
       "\n",
       "Note that, given an SVG-supporting display environment like IJulia, `ColorMap` and `Vector{ColorMap}` objects are displayed graphically; try `get_cmaps()`!\n",
       "\n",
       "## 3d Plotting\n",
       "\n",
       "The PyPlot package also imports functions from Matplotlib's [mplot3d](http://matplotlib.org/mpl_toolkits/mplot3d/) toolkit. Unlike Matplotlib, however, you can create 3d plots directly without first creating an [Axes3d](http://matplotlib.org/mpl_toolkits/mplot3d/api.html#axes3d) object, simply by calling one of: `bar3D`, `contour3D`, `contourf3D`, `plot3D`, `plot_surface`, `plot_trisurf`, `plot_wireframe`, or `scatter3D` (as well as `text2D`, `text3D`), exactly like the correspondingly named methods of [Axes3d](http://matplotlib.org/mpl_toolkits/mplot3d/api.html#axes3d). We also export the Matlab-like synonyms `surf` for `plot_surface` (or `plot_trisurf` for 1d-array arguments) and `mesh` for `plot_wireframe`.  For example, you can do:\n",
       "\n",
       "```\n",
       "surf(rand(30,40))\n",
       "```\n",
       "\n",
       "to plot a random 30×40 surface mesh.\n",
       "\n",
       "You can also explicitly create a subplot with 3d axes via, for example, `subplot(111, projection=\"3d\")`, exactly as in Matplotlib. The `Axes3D` constructor and the [art3D](http://matplotlib.org/mpl_toolkits/mplot3d/api.html#art3d) module are also exported.\n",
       "\n",
       "## LaTeX plot labels\n",
       "\n",
       "Matplotlib allows you to [use LaTeX equations in plot labels](http://matplotlib.org/users/mathtext.html), titles, and so on simply by enclosing the equations in dollar signs (`$ ... $`) within the string.  However, typing LaTeX equations in Julia string literals is awkward because escaping is necessary to prevent Julia from interpreting the dollar signs and backslashes itself; for example, the LaTeX equation `$\\alpha + \\beta$` would be the literal string `\"\\$\\\\alpha + \\\\beta\\$\"` in Julia.\n",
       "\n",
       "To simplify this, PyPlot uses the [LaTeXStrings package](https://github.com/stevengj/LaTeXStrings.jl) to provide a new `LaTeXString` type that be constructed via `L\"....\"` without escaping backslashes or dollar signs.  For example, one can simply write `L\"$\\alpha + \\beta$\"` for the abovementioned equation, and thus you can do things like:\n",
       "\n",
       "```\n",
       "title(L\"Plot of $\\Gamma_3(x)$\")\n",
       "```\n",
       "\n",
       "If your string contains *only* equations, you can omit the dollar signs, e.g. `L\"\\alpha + \\beta\"`, and they will be added automatically. As an added benefit, a `LaTeXString` is automatically displayed as a rendered equation in IJulia.  See the LaTeXStrings package for more information.\n",
       "\n",
       "## SVG output in IJulia\n",
       "\n",
       "By default, plots in IJulia are sent to the notebook as PNG images. Optionally, you can tell PyPlot to display plots in the browser as [SVG](https://en.wikipedia.org/wiki/Scalable_Vector_Graphics) images, which have the advantage of being resolution-independent (so that they display without pixellation at high-resolutions, for example if you convert an IJulia notebook to PDF), by running:\n",
       "\n",
       "```\n",
       "PyPlot.svg(true)\n",
       "```\n",
       "\n",
       "This is not the default because SVG plots in the browser are much slower to display (especially for complex plots) and may display inaccurately in some browsers with buggy SVG support.  The `PyPlot.svg()` method returns whether SVG display is currently enabled.\n",
       "\n",
       "Note that this is entirely separate from manually exporting plots to SVG or any other format.  Regardless of whether PyPlot uses SVG for browser display, you can export a plot to SVG at any time by using the Matplotlib [savefig](http://matplotlib.org/api/pyplot_api.html#matplotlib.pyplot.savefig) command, e.g. `savefig(\"plot.svg\")`.\n",
       "\n",
       "## Author\n",
       "\n",
       "This module was written by [Steven G. Johnson](http://math.mit.edu/~stevenj/).\n"
      ],
      "text/plain": [
       "No documentation found.\n",
       "\n",
       "Displaying the `README.md` for the module instead.\n",
       "\n",
       "---\n",
       "\n",
       "# The PyPlot module for Julia\n",
       "\n",
       "This module provides a Julia interface to the [Matplotlib](http://matplotlib.org/) plotting library from Python, and specifically to the `matplotlib.pyplot` module.\n",
       "\n",
       "PyPlot uses the Julia [PyCall](https://github.com/stevengj/PyCall.jl) package to call Matplotlib directly from Julia with little or no overhead (arrays are passed without making a copy).\n",
       "\n",
       "This package takes advantage of Julia's [multimedia I/O](http://docs.julialang.org/en/latest/stdlib/base/#multimedia-i-o) API to display plots in any Julia graphical backend, including as inline graphics in [IJulia](https://github.com/JuliaLang/IJulia.jl). Alternatively, you can use a Python-based graphical Matplotlib backend to support interactive plot zooming etcetera.\n",
       "\n",
       "(This PyPlot package replaces an earlier package of the same name by [Junfeng Li](https://github.com/autozimu/), which used PyPlot over a ZeroMQ socket with IPython.)\n",
       "\n",
       "## Installation\n",
       "\n",
       "You will need to have the Python [Matplotlib](http://matplotlib.org/) library installed on your machine in order to use PyPlot.  You can either do inline plotting with [IJulia](https://github.com/JuliaLang/IJulia.jl), which doesn't require a GUI backend, or use the Qt, wx, or GTK+ backends of Matplotlib as described below.\n",
       "\n",
       "Once Matplotlib is installed, then you can just use `Pkg.add(\"PyPlot\")` in Julia to install PyPlot and its dependencies.\n",
       "\n",
       "### Automated Matplotlib installation\n",
       "\n",
       "If you set up PyCall to use the [Conda.jl](https://github.com/Luthaf/Conda.jl) package to install a private (not in the system `PATH`) Julia Python distribution (via Miniconda), then PyPlot will automatically install Matplotlib as needed.\n",
       "\n",
       "If you are installing PyCall and PyPlot for the first time, just do `ENV[\"PYTHON\"]=\"\"` before running `Pkg.add(\"PyPlot\")`.  Otherwise, you can reconfigure PyCall to use Conda via:\n",
       "\n",
       "```\n",
       "ENV[\"PYTHON\"]=\"\"\n",
       "Pkg.build(\"PyCall\")\n",
       "```\n",
       "\n",
       "The next time you import `PyPlot`, it will tell Conda to install Matplotlib.\n",
       "\n",
       "### OS X\n",
       "\n",
       "On MacOS, you should either install [XQuartz](http://xquartz.macosforge.org/landing/) for MacOS 10.9 or later or install the [Anaconda](http://continuum.io/downloads) Python distribution in order to get a fully functional PyPlot.\n",
       "\n",
       "MacOS 10.9 comes with Python and Matplotlib, but this version of Matplotlib defaults to with the Cocoa GUI backend, which is [not supported by PyPlot](https://github.com/stevengj/PyPlot.jl/issues/11). It also has a Tk backend, which is supported, but the Tk backend does not work unless you install XQuartz.\n",
       "\n",
       "Alternatively, you can install the [Anaconda](http://continuum.io/downloads) Python distribution (which also includes `ipython` and other IJulia dependencies).\n",
       "\n",
       "Otherwise, you can use the [Homebrew](http://brew.sh/) package manager:\n",
       "\n",
       "```\n",
       "brew install python gcc freetype pyqt\n",
       "brew link --force freetype\n",
       "export PATH=\"/usr/local/bin:$PATH\"\n",
       "export PYTHONPATH=\"/usr/local/lib/python2.7:$PYTHONPATH\"\n",
       "pip install numpy scipy matplotlib\n",
       "```\n",
       "\n",
       "(You may want to add the two `export` commands to your `~/.profile` file so that they are automatically executed whenever you start a shell.)\n",
       "\n",
       "## Basic usage\n",
       "\n",
       "Once Matplotlib and PyPlot are installed, and you are using a graphics-capable Julia environment such as IJulia, you can simply type `using PyPlot` and begin calling functions in the [matplotlib.pyplot](http://matplotlib.org/api/pyplot_api.html) API. For example:\n",
       "\n",
       "```\n",
       "using PyPlot\n",
       "x = linspace(0,2*pi,1000); y = sin(3*x + 4*cos(2*x));\n",
       "plot(x, y, color=\"red\", linewidth=2.0, linestyle=\"--\")\n",
       "title(\"A sinusoidally modulated sinusoid\")\n",
       "```\n",
       "\n",
       "In general, all of the arguments, including keyword arguments, are exactly the same as in Python.  (With minor translations, of course, e.g. Julia uses `true` and `nothing` instead of Python's `True` and `None`.)\n",
       "\n",
       "The full `matplotlib.pyplot` API is far too extensive to describe here; see the [matplotlib.pyplot documentation for more information](http://matplotlib.org/api/pyplot_api.html).  The Matplotlib version number is returned by `PyPlot.version`.\n",
       "\n",
       "### Exported functions\n",
       "\n",
       "Only the currently documented `matplotlib.pyplot` API is exported.  To use other functions in the module, you can also call `matplotlib.pyplot.foo(...)` as `plt[:foo](...)`.  For example, `plt[:plot](x, y)` also works.  (And the raw `PyObject` for the `matplotlib` modules is also accessible as `PyPlot.matplotlib`.)\n",
       "\n",
       "Matplotlib is somewhat inconsistent about capitalization: it has `contour3D` but `bar3d`, etcetera.  PyPlot renames all such functions to use a capital *D* (e.g. it has `hist2D`, `bar3D`, and so on).\n",
       "\n",
       "You must also use `plt` to access some functions that conflict with built-in Julia functions.  In particular `plt[:hist]`, `plt[:xcorr]`, and `plt[:isinteractive]` must be used to access `matplotlib.pyplot.hist` etcetera.\n",
       "\n",
       "If you wish to access *all* of the PyPlot functions exclusively through `plt.somefunction(...)`, as is conventional in Python, you can do `import PyPlot; const plt = PyPlot` instead of `using PyPlot`.\n",
       "\n",
       "### Figure objects\n",
       "\n",
       "You can get the current figure as a `Figure` object (a wrapper around `matplotlib.pyplot.Figure`) by calling `gcf()`.  \n",
       "\n",
       "The `Figure` type supports Julia's [multimedia I/O API](http://docs.julialang.org/en/latest/stdlib/base/#multimedia-i-o), so you can use `display(fig)` to show a `fig::PyFigure` and `show(io, mime, fig)` (or `writemime` in Julia 0.4) to write it to a given `mime` type string (e.g. `\"image/png\"` or `\"application/pdf\"`) that is supported by the Matplotlib backend.\n",
       "\n",
       "## Non-interactive plotting\n",
       "\n",
       "If you use PyPlot from an interactive Julia prompt, such as the Julia [command-line prompt](http://docs.julialang.org/en/latest/manual/interacting-with-julia/) or an IJulia notebook, then plots appear immediately after a plotting function (`plot` etc.) is evaluated.\n",
       "\n",
       "However, if you use PyPlot from a Julia script that is run non-interactively (e.g. `julia myscript.jl`), then Matplotlib is executed in [non-interactive mode](http://matplotlib.org/faq/usage_faq.html#what-is-interactive-mode): a plot window is not opened until you run `show()` (equivalent to `plt.show()` in the Python examples).\n",
       "\n",
       "## Interactive versus Julia graphics\n",
       "\n",
       "PyPlot can use any Julia graphics backend capable of displaying PNG, SVG, or PDF images, such as the IJulia environment.  To use a different backend, simply call `pushdisplay` with the desired `Display`; see the [Julia multimedia display API](http://docs.julialang.org/en/latest/stdlib/io-network/#multimedia-i-o) for more detail.\n",
       "\n",
       "On the other hand, you may wish to use one of the Python Matplotlib backends to open an interactive window for each plot (for interactive zooming, panning, etcetera).  You can do this at any time by running:\n",
       "\n",
       "```\n",
       "pygui(true)\n",
       "```\n",
       "\n",
       "to turn on the Python-based GUI (if possible) for subsequent plots, while `pygui(false)` will return to the Julia backend.  Even when a Python GUI is running, you can display the current figure with the Julia backend by running `display(gcf())`.\n",
       "\n",
       "If no Julia graphics backend is available when PyPlot is imported, then `pygui(true)` is the default.\n",
       "\n",
       "### Choosing a Python GUI toolkit\n",
       "\n",
       "Only the [Tk](http://www.tcl.tk/), [wxWidgets](http://www.wxwidgets.org/), [GTK+](http://www.gtk.org/) (version 2 or 3), and [Qt](http://qt-project.org/) (version 4 or 5; via the PyQt5,  [PyQt4](http://wiki.python.org/moin/PyQt4) or [PySide](http://qt-project.org/wiki/PySide)), Python GUI backends are supported by PyPlot.  (Obviously, you must have installed one of these toolkits for Python first.)  By default, PyPlot picks one of these when it starts up (based on what you have installed), but you can force a specific toolkit to be chosen by importing the PyCall module and using its `pygui` function to set a Python backend *before* importing PyPlot:\n",
       "\n",
       "```\n",
       "using PyCall\n",
       "pygui(gui)\n",
       "using PyPlot\n",
       "```\n",
       "\n",
       "where `gui` can currently be one of `:tk`, `:gtk3`, `:gtk`, `:qt5`, `:qt4`, `:qt`, or `:wx`. You can also set a default via the Matplotlib `rcParams['backend']` parameter in your [matplotlibrc](http://matplotlib.org/users/customizing.html) file.\n",
       "\n",
       "## Color maps\n",
       "\n",
       "The PyPlot module also exports some functions and types based on the [matplotlib.colors](http://matplotlib.org/api/colors_api.html) and [matplotlib.cm](http://matplotlib.org/api/cm_api.html) modules to simplify management of color maps (which are used to assign values to colors in various plot types).  In particular:\n",
       "\n",
       "  * `ColorMap`: a wrapper around the [matplotlib.colors.Colormap](http://matplotlib.org/api/colors_api.html#matplotlib.colors.Colormap) type.  The following constructors are provided:\n",
       "\n",
       "      * `ColorMap{T<:Colorant}(name::String, c::AbstractVector{T}, n=256, gamma=1.0)` constructs an `n`-component colormap by [linearly interpolating](http://matplotlib.org/api/colors_api.html#matplotlib.colors.LinearSegmentedColormap) the colors in the array `c` of `Colorant`s (from the [ColorTypes.jl](https://github.com/JuliaGraphics/ColorTypes.jl) package).  If you want a `name` to be constructed automatically, call `ColorMap(c, n=256, gamma=1.0)` instead.  Alternatively, instead of passing an array of colors, you can pass a 3- or 4-column matrix of RGB or RGBA components, respectively (similar to [ListedColorMap](http://matplotlib.org/api/colors_api.html#matplotlib.colors.ListedColormap) in Matplotlib).\n",
       "      * Even more general color maps may be defined by passing arrays of (x,y0,y1) tuples for the red, green, blue, and (optionally) alpha components, as defined by the [matplotlib.colors.LinearSegmentedColormap](http://matplotlib.org/api/colors_api.html#matplotlib.colors.LinearSegmentedColormap) constructor, via: `ColorMap{T<:Real}(name::String, r::AbstractVector{(T,T,T)}, g::AbstractVector{(T,T,T)}, b::AbstractVector{(T,T,T)}, n=256, gamma=1.0)` or `ColorMap{T<:Real}(name::String, r::AbstractVector{(T,T,T)}, g::AbstractVector{(T,T,T)}, b::AbstractVector{(T,T,T)}, alpha::AbstractVector{(T,T,T)}, n=256, gamma=1.0)`\n",
       "      * `ColorMap(name::String)` returns an existing (registered) colormap, equivalent to [matplotlib.cm.get_cmap](http://matplotlib.org/api/cm_api.html#matplotlib.cm.get_cmap)(`name`).\n",
       "      * `matplotlib.colors.Colormap` objects returned by Python functions are automatically converted to the `ColorMap` type.\n",
       "  * `get_cmap(name::String)` or `get_cmap(name::String, lut::Integer)` call the [matplotlib.cm.get_cmap](http://matplotlib.org/api/cm_api.html#matplotlib.cm.get_cmap) function.\n",
       "  * `register_cmap(c::ColorMap)` or `register_cmap(name::String, c::ColorMap)` call the [matplotlib.cm.register_cmap](http://matplotlib.org/api/cm_api.html#matplotlib.cm.register_cmap) function.\n",
       "  * `get_cmaps()` returns a `Vector{ColorMap}` of the currently registered colormaps.\n",
       "\n",
       "Note that, given an SVG-supporting display environment like IJulia, `ColorMap` and `Vector{ColorMap}` objects are displayed graphically; try `get_cmaps()`!\n",
       "\n",
       "## 3d Plotting\n",
       "\n",
       "The PyPlot package also imports functions from Matplotlib's [mplot3d](http://matplotlib.org/mpl_toolkits/mplot3d/) toolkit. Unlike Matplotlib, however, you can create 3d plots directly without first creating an [Axes3d](http://matplotlib.org/mpl_toolkits/mplot3d/api.html#axes3d) object, simply by calling one of: `bar3D`, `contour3D`, `contourf3D`, `plot3D`, `plot_surface`, `plot_trisurf`, `plot_wireframe`, or `scatter3D` (as well as `text2D`, `text3D`), exactly like the correspondingly named methods of [Axes3d](http://matplotlib.org/mpl_toolkits/mplot3d/api.html#axes3d). We also export the Matlab-like synonyms `surf` for `plot_surface` (or `plot_trisurf` for 1d-array arguments) and `mesh` for `plot_wireframe`.  For example, you can do:\n",
       "\n",
       "```\n",
       "surf(rand(30,40))\n",
       "```\n",
       "\n",
       "to plot a random 30×40 surface mesh.\n",
       "\n",
       "You can also explicitly create a subplot with 3d axes via, for example, `subplot(111, projection=\"3d\")`, exactly as in Matplotlib. The `Axes3D` constructor and the [art3D](http://matplotlib.org/mpl_toolkits/mplot3d/api.html#art3d) module are also exported.\n",
       "\n",
       "## LaTeX plot labels\n",
       "\n",
       "Matplotlib allows you to [use LaTeX equations in plot labels](http://matplotlib.org/users/mathtext.html), titles, and so on simply by enclosing the equations in dollar signs (`$ ... $`) within the string.  However, typing LaTeX equations in Julia string literals is awkward because escaping is necessary to prevent Julia from interpreting the dollar signs and backslashes itself; for example, the LaTeX equation `$\\alpha + \\beta$` would be the literal string `\"\\$\\\\alpha + \\\\beta\\$\"` in Julia.\n",
       "\n",
       "To simplify this, PyPlot uses the [LaTeXStrings package](https://github.com/stevengj/LaTeXStrings.jl) to provide a new `LaTeXString` type that be constructed via `L\"....\"` without escaping backslashes or dollar signs.  For example, one can simply write `L\"$\\alpha + \\beta$\"` for the abovementioned equation, and thus you can do things like:\n",
       "\n",
       "```\n",
       "title(L\"Plot of $\\Gamma_3(x)$\")\n",
       "```\n",
       "\n",
       "If your string contains *only* equations, you can omit the dollar signs, e.g. `L\"\\alpha + \\beta\"`, and they will be added automatically. As an added benefit, a `LaTeXString` is automatically displayed as a rendered equation in IJulia.  See the LaTeXStrings package for more information.\n",
       "\n",
       "## SVG output in IJulia\n",
       "\n",
       "By default, plots in IJulia are sent to the notebook as PNG images. Optionally, you can tell PyPlot to display plots in the browser as [SVG](https://en.wikipedia.org/wiki/Scalable_Vector_Graphics) images, which have the advantage of being resolution-independent (so that they display without pixellation at high-resolutions, for example if you convert an IJulia notebook to PDF), by running:\n",
       "\n",
       "```\n",
       "PyPlot.svg(true)\n",
       "```\n",
       "\n",
       "This is not the default because SVG plots in the browser are much slower to display (especially for complex plots) and may display inaccurately in some browsers with buggy SVG support.  The `PyPlot.svg()` method returns whether SVG display is currently enabled.\n",
       "\n",
       "Note that this is entirely separate from manually exporting plots to SVG or any other format.  Regardless of whether PyPlot uses SVG for browser display, you can export a plot to SVG at any time by using the Matplotlib [savefig](http://matplotlib.org/api/pyplot_api.html#matplotlib.pyplot.savefig) command, e.g. `savefig(\"plot.svg\")`.\n",
       "\n",
       "## Author\n",
       "\n",
       "This module was written by [Steven G. Johnson](http://math.mit.edu/~stevenj/).\n"
      ]
     },
     "execution_count": 82,
     "metadata": {},
     "output_type": "execute_result"
    }
   ],
   "source": [
    "?PyPlot"
   ]
  },
  {
   "cell_type": "markdown",
   "metadata": {},
   "source": [
    "# Dates\n",
    "\n",
    "* Julia has a structure called `DateTime` to represent a date and time."
   ]
  },
  {
   "cell_type": "code",
   "execution_count": 70,
   "metadata": {},
   "outputs": [
    {
     "data": {
      "text/plain": [
       "1999-12-31T23:59:59"
      ]
     },
     "execution_count": 70,
     "metadata": {},
     "output_type": "execute_result"
    }
   ],
   "source": [
    "lastsecond = DateTime(1999,12,31,23,59,59)"
   ]
  },
  {
   "cell_type": "markdown",
   "metadata": {},
   "source": [
    "* The difference between two `DateTime`s returns a structure representing the number of milliseconds."
   ]
  },
  {
   "cell_type": "code",
   "execution_count": 71,
   "metadata": {},
   "outputs": [
    {
     "data": {
      "text/plain": [
       "2001-01-01T00:00:00"
      ]
     },
     "execution_count": 71,
     "metadata": {},
     "output_type": "execute_result"
    }
   ],
   "source": [
    "DateTime(2001,1,1)"
   ]
  },
  {
   "cell_type": "code",
   "execution_count": 72,
   "metadata": {},
   "outputs": [
    {
     "data": {
      "text/plain": [
       "31622400000 milliseconds"
      ]
     },
     "execution_count": 72,
     "metadata": {},
     "output_type": "execute_result"
    }
   ],
   "source": [
    "DateTime(2001,1,1) - DateTime(2000,1,1)"
   ]
  },
  {
   "cell_type": "markdown",
   "metadata": {},
   "source": [
    "* Convert this in days:"
   ]
  },
  {
   "cell_type": "code",
   "execution_count": 73,
   "metadata": {},
   "outputs": [
    {
     "data": {
      "text/plain": [
       "366 days"
      ]
     },
     "execution_count": 73,
     "metadata": {},
     "output_type": "execute_result"
    }
   ],
   "source": [
    "\n",
    "Dates.Day(DateTime(2001,1,1) - DateTime(2000,1,1))"
   ]
  },
  {
   "cell_type": "markdown",
   "metadata": {},
   "source": [
    "* add a duration to a date"
   ]
  },
  {
   "cell_type": "code",
   "execution_count": 74,
   "metadata": {},
   "outputs": [
    {
     "data": {
      "text/plain": [
       "2001-01-01T00:00:00"
      ]
     },
     "execution_count": 74,
     "metadata": {},
     "output_type": "execute_result"
    }
   ],
   "source": [
    "DateTime(2000,1,1) + Dates.Day(366)"
   ]
  },
  {
   "cell_type": "code",
   "execution_count": 75,
   "metadata": {},
   "outputs": [
    {
     "data": {
      "text/plain": [
       "2018-03-06T17:01:07.132"
      ]
     },
     "execution_count": 75,
     "metadata": {},
     "output_type": "execute_result"
    }
   ],
   "source": [
    "now()"
   ]
  },
  {
   "cell_type": "code",
   "execution_count": 76,
   "metadata": {},
   "outputs": [
    {
     "data": {
      "text/plain": [
       "184.29088960648144"
      ]
     },
     "execution_count": 76,
     "metadata": {},
     "output_type": "execute_result"
    }
   ],
   "source": [
    "Dates.value(DateTime(2018,9,7) - now()) / 1000 / 60 / 60 / 24"
   ]
  },
  {
   "cell_type": "code",
   "execution_count": 77,
   "metadata": {},
   "outputs": [
    {
     "data": {
      "text/plain": [
       "-180.7091105324074"
      ]
     },
     "execution_count": 77,
     "metadata": {},
     "output_type": "execute_result"
    }
   ],
   "source": [
    "Dates.value(DateTime(2017,9,7) - now()) /(24*60*60*1000)"
   ]
  },
  {
   "cell_type": "markdown",
   "metadata": {},
   "source": [
    "In how many days is your next birthday?"
   ]
  },
  {
   "cell_type": "markdown",
   "metadata": {},
   "source": [
    "## Loops\n",
    "\n",
    "* Let your computer do repetitive tasks!\n",
    "* Loops have a counter which takes successively all elements of a row vector"
   ]
  },
  {
   "cell_type": "code",
   "execution_count": 78,
   "metadata": {},
   "outputs": [
    {
     "name": "stdout",
     "output_type": "stream",
     "text": [
      "i = 1\n",
      "i = 2\n",
      "i = 10\n",
      "i = 20\n"
     ]
    }
   ],
   "source": [
    "    for i = [1 2 10 20]\n",
    "      @show i\n",
    "    end"
   ]
  },
  {
   "cell_type": "markdown",
   "metadata": {},
   "source": [
    "* Loops are often used with a range of values"
   ]
  },
  {
   "cell_type": "code",
   "execution_count": 79,
   "metadata": {},
   "outputs": [
    {
     "name": "stdout",
     "output_type": "stream",
     "text": [
      "i = 1\n",
      "i = 2\n",
      "i = 3\n",
      "i = 4\n",
      "i = 5\n"
     ]
    }
   ],
   "source": [
    "for i = 1:5\n",
    "  @show i\n",
    "end"
   ]
  },
  {
   "cell_type": "markdown",
   "metadata": {},
   "source": [
    "* Explicit loops can sometimes be avoided:\n",
    "* For example, sum all integer from 1 to 10"
   ]
  },
  {
   "cell_type": "code",
   "execution_count": 80,
   "metadata": {},
   "outputs": [
    {
     "data": {
      "text/plain": [
       "55"
      ]
     },
     "execution_count": 80,
     "metadata": {},
     "output_type": "execute_result"
    }
   ],
   "source": [
    "total = 0;\n",
    "for i = 1:10\n",
    "   total = total + i;\n",
    "end\n",
    "total"
   ]
  },
  {
   "cell_type": "markdown",
   "metadata": {},
   "source": [
    "Can simply be computed as `sum(1:10)`.\n",
    "\n",
    "# if-statement\n",
    "\n",
    "* Sometimes your code needs to behave differently depending on some conditions.\n",
    "\n",
    "* if-statement has the following structure.\n",
    "\n",
    "```julia\n",
    "if some_conditions\n",
    "  # do something\n",
    "else\n",
    "  # do something else\n",
    "end\n",
    "```\n",
    "The else section can be omitted.\n",
    "\n",
    "For example.\n",
    "\n",
    "```julia\n",
    "if x < 0\n",
    "   x = -x;\n",
    "end\n",
    "```\n",
    "\n",
    "* Which Julia function implements the last code example?"
   ]
  },
  {
   "cell_type": "code",
   "execution_count": null,
   "metadata": {},
   "outputs": [],
   "source": []
  }
 ],
 "metadata": {
  "kernelspec": {
   "display_name": "Julia 0.6.2",
   "language": "julia",
   "name": "julia-0.6"
  },
  "language_info": {
   "file_extension": ".jl",
   "mimetype": "application/julia",
   "name": "julia",
   "version": "0.6.2"
  }
 },
 "nbformat": 4,
 "nbformat_minor": 1
}
