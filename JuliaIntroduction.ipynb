{
 "cells": [
  {
   "cell_type": "markdown",
   "metadata": {},
   "source": [
    "# Introduction to Julia\n",
    "\n",
    "* Julia is a high-level programming language for technical computing which allows you to manipulate and analyse large data sets\n",
    "\n",
    "## Interesting features:\n",
    " * Julia is build from the ground for techical computing. \n",
    " * The language is close to the mathematical notation, for example to define a function $f(x) = 2x + 3$ in Julia is:\n",
    "\n",
    "```julia\n",
    "f(x) = 2x + 3\n",
    "```\n",
    "  \n",
    " * Julia is free and open-source software.\n",
    " * Julia's code is compiled to machine code and loops can be as fast as in other compiled languages (like Fortran or C)\n",
    "\n",
    "\n",
    "## Instructions for installing Julia on your laptop\n",
    "\n",
    "* If you want to install Julia on your laptop later on, here are some instructions\n",
    "* Go to http://julialang.org/downloads/\n",
    "* There are various editor with support for Julia (like atom, notepad++, emacs, vim...)"
   ]
  },
  {
   "cell_type": "markdown",
   "metadata": {},
   "source": [
    "### Ways to run Julia:\n",
    "\n",
    "#### Command line\n",
    "\n",
    "* Use the `Tab` key to complete file, variable and function names\n",
    "* `Up` and `down arrows` key to repeat a previously entered command\n",
    "* `Control-R` to search a command\n",
    "* On Windows enable \"[quick edit](https://www.tekrevue.com/tip/boost-productivity-quickedit-mode-windows-command-prompt/)\" for easier copy and pasting\n",
    "![cmd](Fig/julia-commandline.png)"
   ]
  },
  {
   "cell_type": "markdown",
   "metadata": {},
   "source": [
    "#### Jupyter notebook (web-browser)\n",
    "\n",
    "* Web-interface for Julia (among others)\n",
    "* The Julia package `IJulia` which also installs Jupyter http://jupyter.org/\n",
    "* Various [keyboard short cuts](https://www.cheatography.com/weidadeyue/cheat-sheets/jupyter-notebook/) are defined to be productive with jupyter notebooks\n",
    "* General documentation of [Jupyter Notebooks](http://jupyter-notebook.readthedocs.io)\n",
    "\n",
    "![cmd](Fig/julia-jupyter.png)"
   ]
  },
  {
   "cell_type": "markdown",
   "metadata": {},
   "source": [
    "Text can be formatted using markdown."
   ]
  },
  {
   "cell_type": "markdown",
   "metadata": {},
   "source": [
    "# Markdown\n",
    "\n",
    "This is an explanation\n",
    "* item one\n",
    "* item two\n",
    "   * sub item one\n",
    "   * sub item two\n",
    "$$ c^2 = a^2 + b^2 $$ \n",
    "   "
   ]
  },
  {
   "cell_type": "markdown",
   "metadata": {},
   "source": [
    "#### Juno\n",
    "\n",
    "* Based on the Atom editor from GitHub\n",
    "* Integrates an editor, command line and documentation browser\n",
    "* Available from http://junolab.org/\n",
    "\n",
    "![atom](Fig/julia-atom.png)"
   ]
  },
  {
   "cell_type": "code",
   "execution_count": null,
   "metadata": {},
   "outputs": [],
   "source": []
  },
  {
   "cell_type": "markdown",
   "metadata": {},
   "source": [
    "# Julia documentation\n",
    "\n",
    "* The manual: https://docs.julialang.org\n",
    "* Tutorials and books: https://julialang.org/learning/\n",
    "\n",
    "\n",
    "## Comparision with other languages\n",
    "\n",
    "\n",
    "* [Noteworthy Differences from other Languages](https://docs.julialang.org/en/v1.0/manual/noteworthy-differences/)\n",
    "* In particular (difference from Matlab):\n",
    "   * Julia arrays are indexed with square brackets, `A[i,j]`.\n",
    "   * Julia arrays are assigned by reference. After A=B, changing elements of B will modify A as well.\n",
    "   * Julia function parameters are passed and assigned by reference. If a function modifies an array, the changes will be visible in the caller.\n",
    "   * A bang (!) indicates if a function changes one of its argument\n",
    "   * In Julia, parentheses must be used to call a function with zero arguments, like in tic() and toc().\n",
    "   * Julia's single quotes enclose characters, not strings.\n",
    "   * Julia does not automatically grow arrays in an assignment statement. \n",
    "\n",
    "* Difference from Python:\n",
    "   * Julia requires end to end a block.\n",
    "   * In Julia, indexing of arrays, strings, etc. is 1-based not 0-based.\n",
    "   * Julia's slice indexing includes the last element, unlike in Python. `a[2:3]` in Julia is `a[1:3]` in Python.\n",
    "   * Julia does not support negative indexes. In particular, the last element of a list or array is indexed with end in Julia, not -1 as in Python.\n",
    "\n",
    "\n",
    "\n",
    "* [MATLAB–Python–Julia cheatsheet](https://cheatsheets.quantecon.org/)\n",
    "\n",
    "\n",
    "\n",
    "\n",
    "\n",
    "# First steps in Julia\n",
    "\n",
    "## Numbers\n",
    "\n",
    "* Use a dot (.) as decimal separator (e.g. 3.14 and not 3,14)\n",
    "* You can use the scientific notation $a \\times 10^{-b}$ using the e-notation. (e.g. $3 \\times10^{-7}$ becomes 3e-7) \n",
    "* Use Julia as a calculator:"
   ]
  },
  {
   "cell_type": "code",
   "execution_count": 1,
   "metadata": {},
   "outputs": [
    {
     "data": {
      "text/plain": [
       "π = 3.1415926535897..."
      ]
     },
     "execution_count": 1,
     "metadata": {},
     "output_type": "execute_result"
    }
   ],
   "source": [
    "pi"
   ]
  },
  {
   "cell_type": "code",
   "execution_count": 2,
   "metadata": {},
   "outputs": [
    {
     "data": {
      "text/plain": [
       "1.2246467991473532e-16"
      ]
     },
     "execution_count": 2,
     "metadata": {},
     "output_type": "execute_result"
    }
   ],
   "source": [
    "sin(pi)"
   ]
  },
  {
   "cell_type": "code",
   "execution_count": 3,
   "metadata": {},
   "outputs": [
    {
     "data": {
      "text/plain": [
       "-2.4492935982947064e-16"
      ]
     },
     "execution_count": 3,
     "metadata": {},
     "output_type": "execute_result"
    }
   ],
   "source": [
    "sin(2*pi)\n"
   ]
  },
  {
   "cell_type": "code",
   "execution_count": 4,
   "metadata": {},
   "outputs": [
    {
     "data": {
      "text/plain": [
       "7"
      ]
     },
     "execution_count": 4,
     "metadata": {},
     "output_type": "execute_result"
    }
   ],
   "source": [
    "1+2*3"
   ]
  },
  {
   "cell_type": "markdown",
   "metadata": {},
   "source": [
    "* The usual operator precedence applies\n",
    "\n",
    "\n",
    "## Useful constants\n",
    "\n",
    "Various constants are also pre-defined: π (pi), e (Euler's number), im (the imaginary number), Inf (Infinity, result from e.g. 1/0) and NaN (Not a Number - result from e.g. 0/0)\n",
    "\n"
   ]
  },
  {
   "cell_type": "markdown",
   "metadata": {},
   "source": [
    "## Variables\n",
    "\n",
    "* Numbers (and any other data type) can be put into variables\n",
    "* The value of a variable is referenced by its name\n",
    "* A variable name can be composed by letters (a-z and A-Z, including greek letters, accents,...), numbers (0-9), underscore (_) and some unicode symbols (like greek letters). The first character cannot be a number.\n",
    "\n",
    "* Example:"
   ]
  },
  {
   "cell_type": "code",
   "execution_count": 5,
   "metadata": {},
   "outputs": [
    {
     "data": {
      "text/plain": [
       "21"
      ]
     },
     "execution_count": 5,
     "metadata": {},
     "output_type": "execute_result"
    }
   ],
   "source": [
    "temp = 21"
   ]
  },
  {
   "cell_type": "markdown",
   "metadata": {},
   "source": [
    "To see the content of the variable `temp`:"
   ]
  },
  {
   "cell_type": "code",
   "execution_count": 6,
   "metadata": {},
   "outputs": [
    {
     "name": "stdout",
     "output_type": "stream",
     "text": [
      "temp = 21\n"
     ]
    },
    {
     "data": {
      "text/plain": [
       "21"
      ]
     },
     "execution_count": 6,
     "metadata": {},
     "output_type": "execute_result"
    }
   ],
   "source": [
    "@show temp"
   ]
  },
  {
   "cell_type": "markdown",
   "metadata": {},
   "source": [
    "Any expression can now include the variable `temp`:"
   ]
  },
  {
   "cell_type": "code",
   "execution_count": 7,
   "metadata": {},
   "outputs": [
    {
     "data": {
      "text/plain": [
       "42"
      ]
     },
     "execution_count": 7,
     "metadata": {},
     "output_type": "execute_result"
    }
   ],
   "source": [
    "temp2 = 2*temp\n"
   ]
  },
  {
   "cell_type": "markdown",
   "metadata": {},
   "source": [
    "* The variable `temp` has now the value 21. The value of the variable can be changed later on.\n",
    "* An assignment without a final semicolon echos its value to the screen\n"
   ]
  },
  {
   "cell_type": "markdown",
   "metadata": {},
   "source": [
    "## Strings\n",
    "\n",
    "* Delimited by double quotes\n",
    "    \t"
   ]
  },
  {
   "cell_type": "code",
   "execution_count": 8,
   "metadata": {},
   "outputs": [
    {
     "name": "stdout",
     "output_type": "stream",
     "text": [
      "Hello world. Say \"hi\" ! "
     ]
    }
   ],
   "source": [
    "s = \"Hello world. Say \\\"hi\\\" ! \"\n",
    "print(s)"
   ]
  },
  {
   "cell_type": "code",
   "execution_count": 9,
   "metadata": {},
   "outputs": [
    {
     "name": "stdout",
     "output_type": "stream",
     "text": [
      "Hello, my name is Alexander"
     ]
    }
   ],
   "source": [
    "name = \"Alexander\"\n",
    "message = \"Hello, my name is \" * name\n",
    "print(message)"
   ]
  },
  {
   "cell_type": "code",
   "execution_count": 10,
   "metadata": {},
   "outputs": [
    {
     "name": "stdout",
     "output_type": "stream",
     "text": [
      "message = \"Hello, my name is Alexander\"\n"
     ]
    },
    {
     "data": {
      "text/plain": [
       "\"Hello, my name is Alexander\""
      ]
     },
     "execution_count": 10,
     "metadata": {},
     "output_type": "execute_result"
    }
   ],
   "source": [
    "@show message"
   ]
  },
  {
   "cell_type": "code",
   "execution_count": 11,
   "metadata": {},
   "outputs": [
    {
     "name": "stdout",
     "output_type": "stream",
     "text": [
      "Hello, my name is Alexander"
     ]
    }
   ],
   "source": [
    "name = \"Alexander\"\n",
    "message = \"Hello, my name is $name\"\n",
    "print(message)"
   ]
  },
  {
   "cell_type": "code",
   "execution_count": 12,
   "metadata": {},
   "outputs": [
    {
     "name": "stdout",
     "output_type": "stream",
     "text": [
      "Temperature today is 21"
     ]
    }
   ],
   "source": [
    "print(\"Temperature today is $(temp)\")"
   ]
  },
  {
   "cell_type": "markdown",
   "metadata": {},
   "source": [
    "## Symbols\n",
    "\n",
    "* A symbol is an [interned string](https://en.wikipedia.org/wiki/String_interning) identifier which means that every  string symbol is replaced internally by a number"
   ]
  },
  {
   "cell_type": "markdown",
   "metadata": {},
   "source": [
    "* This makes comparision between symbols faster than comparision between strings\n",
    "* Symbols are also used in metaprogramming (julia code which produces julia code)."
   ]
  },
  {
   "cell_type": "code",
   "execution_count": 13,
   "metadata": {},
   "outputs": [
    {
     "data": {
      "text/plain": [
       ":mysymbol"
      ]
     },
     "execution_count": 13,
     "metadata": {},
     "output_type": "execute_result"
    }
   ],
   "source": [
    ":mysymbol"
   ]
  },
  {
   "cell_type": "markdown",
   "metadata": {},
   "source": [
    "## Vectors and matrices\n",
    "\n",
    "* Vectors are list of numbers. The column vector $\\left(\\begin{array}{c}1 \\\\ 2 \\\\ 3 \\end{array} \\right)$ is represented by:"
   ]
  },
  {
   "cell_type": "code",
   "execution_count": 14,
   "metadata": {},
   "outputs": [
    {
     "data": {
      "text/plain": [
       "3-element Array{Int64,1}:\n",
       " 1\n",
       " 2\n",
       " 3"
      ]
     },
     "execution_count": 14,
     "metadata": {},
     "output_type": "execute_result"
    }
   ],
   "source": [
    "[1,2,3]\n"
   ]
  },
  {
   "cell_type": "markdown",
   "metadata": {},
   "source": [
    "* Matrices are tables of numbers. Rows are separated by a semicolon. The matrix \n",
    "$\\left(\\begin{array}{cc}1 & 2 \\\\ 3 & 4 \\end{array} \\right)$ is represented by:"
   ]
  },
  {
   "cell_type": "code",
   "execution_count": 15,
   "metadata": {},
   "outputs": [
    {
     "data": {
      "text/plain": [
       "2×2 Array{Int64,2}:\n",
       " 1  2\n",
       " 3  4"
      ]
     },
     "execution_count": 15,
     "metadata": {},
     "output_type": "execute_result"
    }
   ],
   "source": [
    "[1 2;  3 4]"
   ]
  },
  {
   "cell_type": "markdown",
   "metadata": {},
   "source": [
    "The determinant  can be for example computed with `det`:"
   ]
  },
  {
   "cell_type": "code",
   "execution_count": 16,
   "metadata": {},
   "outputs": [
    {
     "data": {
      "text/plain": [
       "-2.0"
      ]
     },
     "execution_count": 16,
     "metadata": {},
     "output_type": "execute_result"
    }
   ],
   "source": [
    "using LinearAlgebra\n",
    "det([1 2; 3 4])"
   ]
  },
  {
   "cell_type": "markdown",
   "metadata": {},
   "source": [
    "* There are no \"row vectors\", just matrices with one row:"
   ]
  },
  {
   "cell_type": "code",
   "execution_count": 17,
   "metadata": {},
   "outputs": [
    {
     "data": {
      "text/plain": [
       "1×3 Array{Int64,2}:\n",
       " 1  2  3"
      ]
     },
     "execution_count": 17,
     "metadata": {},
     "output_type": "execute_result"
    }
   ],
   "source": [
    "[1 2 3]"
   ]
  },
  {
   "cell_type": "code",
   "execution_count": 18,
   "metadata": {},
   "outputs": [
    {
     "data": {
      "text/plain": [
       "3-element Array{Int64,1}:\n",
       " 1\n",
       " 2\n",
       " 3"
      ]
     },
     "execution_count": 18,
     "metadata": {},
     "output_type": "execute_result"
    }
   ],
   "source": [
    "[1,2,3]"
   ]
  },
  {
   "cell_type": "markdown",
   "metadata": {},
   "source": [
    "### Ranges\n",
    "\n",
    "* Consecutive elements can be written as\n",
    "\n",
    "    first:step:last\n",
    "    \n",
    "* or simply, if the step is 1,\n",
    "    \t\n",
    "    first:last\n",
    "    \n",
    "* Use the function `collect` or `[first:step:last;]` to transform a range into a vector:\n",
    "   \n",
    "Instead of typing this:  "
   ]
  },
  {
   "cell_type": "code",
   "execution_count": 19,
   "metadata": {},
   "outputs": [
    {
     "data": {
      "text/plain": [
       "5-element Array{Int64,1}:\n",
       " 1\n",
       " 2\n",
       " 3\n",
       " 4\n",
       " 5"
      ]
     },
     "execution_count": 19,
     "metadata": {},
     "output_type": "execute_result"
    }
   ],
   "source": [
    "[1,2,3,4,5]"
   ]
  },
  {
   "cell_type": "markdown",
   "metadata": {},
   "source": [
    "One could simply write this as:"
   ]
  },
  {
   "cell_type": "code",
   "execution_count": 20,
   "metadata": {},
   "outputs": [
    {
     "data": {
      "text/plain": [
       "1:5"
      ]
     },
     "execution_count": 20,
     "metadata": {},
     "output_type": "execute_result"
    }
   ],
   "source": [
    "1:5"
   ]
  },
  {
   "cell_type": "markdown",
   "metadata": {},
   "source": [
    "Or the full list:"
   ]
  },
  {
   "cell_type": "code",
   "execution_count": 21,
   "metadata": {},
   "outputs": [
    {
     "data": {
      "text/plain": [
       "5-element Array{Int64,1}:\n",
       " 1\n",
       " 2\n",
       " 3\n",
       " 4\n",
       " 5"
      ]
     },
     "execution_count": 21,
     "metadata": {},
     "output_type": "execute_result"
    }
   ],
   "source": [
    "collect(1:5)"
   ]
  },
  {
   "cell_type": "markdown",
   "metadata": {},
   "source": [
    "Now if we need only every second element:"
   ]
  },
  {
   "cell_type": "code",
   "execution_count": 22,
   "metadata": {},
   "outputs": [
    {
     "data": {
      "text/plain": [
       "1:2:5"
      ]
     },
     "execution_count": 22,
     "metadata": {},
     "output_type": "execute_result"
    }
   ],
   "source": [
    "1:2:6"
   ]
  },
  {
   "cell_type": "code",
   "execution_count": 23,
   "metadata": {},
   "outputs": [
    {
     "data": {
      "text/plain": [
       "3-element Array{Int64,1}:\n",
       " 1\n",
       " 3\n",
       " 5"
      ]
     },
     "execution_count": 23,
     "metadata": {},
     "output_type": "execute_result"
    }
   ],
   "source": [
    "collect(1:2:6)"
   ]
  },
  {
   "cell_type": "markdown",
   "metadata": {},
   "source": [
    "Note that 6 is not part of the previous range."
   ]
  },
  {
   "cell_type": "markdown",
   "metadata": {},
   "source": [
    "## Indexing\n",
    "\n",
    "* Consider the following vector:"
   ]
  },
  {
   "cell_type": "code",
   "execution_count": 24,
   "metadata": {},
   "outputs": [
    {
     "data": {
      "text/plain": [
       "5-element Array{Int64,1}:\n",
       "  2\n",
       "  5\n",
       "  7\n",
       " 19\n",
       "  2"
      ]
     },
     "execution_count": 24,
     "metadata": {},
     "output_type": "execute_result"
    }
   ],
   "source": [
    "a = [2,5,7,19,2]"
   ]
  },
  {
   "cell_type": "markdown",
   "metadata": {},
   "source": [
    "* Individual elements of a vector or matrix can be addressed by their index\n",
    "* The second element of a vector `a` is for example `a[2]`"
   ]
  },
  {
   "cell_type": "code",
   "execution_count": 25,
   "metadata": {},
   "outputs": [
    {
     "data": {
      "text/plain": [
       "5"
      ]
     },
     "execution_count": 25,
     "metadata": {},
     "output_type": "execute_result"
    }
   ],
   "source": [
    "a[2]"
   ]
  },
  {
   "cell_type": "code",
   "execution_count": 26,
   "metadata": {},
   "outputs": [
    {
     "data": {
      "text/plain": [
       "5"
      ]
     },
     "execution_count": 26,
     "metadata": {},
     "output_type": "execute_result"
    }
   ],
   "source": [
    "length(a)"
   ]
  },
  {
   "cell_type": "code",
   "execution_count": 27,
   "metadata": {},
   "outputs": [
    {
     "data": {
      "text/plain": [
       "2"
      ]
     },
     "execution_count": 27,
     "metadata": {},
     "output_type": "execute_result"
    }
   ],
   "source": [
    "a[length(a)]"
   ]
  },
  {
   "cell_type": "markdown",
   "metadata": {},
   "source": [
    "* The special word `end` refers to the last index."
   ]
  },
  {
   "cell_type": "code",
   "execution_count": 28,
   "metadata": {},
   "outputs": [
    {
     "data": {
      "text/plain": [
       "2"
      ]
     },
     "execution_count": 28,
     "metadata": {},
     "output_type": "execute_result"
    }
   ],
   "source": [
    "a[end]"
   ]
  },
  {
   "cell_type": "markdown",
   "metadata": {},
   "source": [
    "* One can also use a list of indexes to extract a part of the vector"
   ]
  },
  {
   "cell_type": "code",
   "execution_count": 29,
   "metadata": {},
   "outputs": [
    {
     "data": {
      "text/plain": [
       "3-element Array{Int64,1}:\n",
       "  5\n",
       "  7\n",
       " 19"
      ]
     },
     "execution_count": 29,
     "metadata": {},
     "output_type": "execute_result"
    }
   ],
   "source": [
    "a[[2,3,4]]"
   ]
  },
  {
   "cell_type": "markdown",
   "metadata": {},
   "source": [
    "* Or simply:"
   ]
  },
  {
   "cell_type": "code",
   "execution_count": 30,
   "metadata": {},
   "outputs": [
    {
     "data": {
      "text/plain": [
       "3-element Array{Int64,1}:\n",
       "  5\n",
       "  7\n",
       " 19"
      ]
     },
     "execution_count": 30,
     "metadata": {},
     "output_type": "execute_result"
    }
   ],
   "source": [
    "a[2:4]"
   ]
  },
  {
   "cell_type": "markdown",
   "metadata": {},
   "source": [
    "* The symbol colon : is a short-hand for 1:end"
   ]
  },
  {
   "cell_type": "code",
   "execution_count": 31,
   "metadata": {},
   "outputs": [
    {
     "data": {
      "text/plain": [
       "5-element Array{Int64,1}:\n",
       "  2\n",
       "  5\n",
       "  7\n",
       " 19\n",
       "  2"
      ]
     },
     "execution_count": 31,
     "metadata": {},
     "output_type": "execute_result"
    }
   ],
   "source": [
    "a[1:end]"
   ]
  },
  {
   "cell_type": "code",
   "execution_count": 32,
   "metadata": {},
   "outputs": [
    {
     "data": {
      "text/plain": [
       "5-element Array{Int64,1}:\n",
       "  2\n",
       "  5\n",
       "  7\n",
       " 19\n",
       "  2"
      ]
     },
     "execution_count": 32,
     "metadata": {},
     "output_type": "execute_result"
    }
   ],
   "source": [
    "a[:]"
   ]
  },
  {
   "cell_type": "markdown",
   "metadata": {},
   "source": [
    "## Matrix indexing\n",
    "\n",
    "* For matrices, two indices are used.\n",
    "* The element at the second row and the first column of a matrix A is for example A[2,1]"
   ]
  },
  {
   "cell_type": "code",
   "execution_count": 33,
   "metadata": {},
   "outputs": [
    {
     "data": {
      "text/plain": [
       "2×2 Array{Int64,2}:\n",
       " 1  2\n",
       " 3  4"
      ]
     },
     "execution_count": 33,
     "metadata": {},
     "output_type": "execute_result"
    }
   ],
   "source": [
    "A = [1 2; 3 4]\n"
   ]
  },
  {
   "cell_type": "code",
   "execution_count": 34,
   "metadata": {},
   "outputs": [
    {
     "data": {
      "text/plain": [
       "3"
      ]
     },
     "execution_count": 34,
     "metadata": {},
     "output_type": "execute_result"
    }
   ],
   "source": [
    "A[2,1]"
   ]
  },
  {
   "cell_type": "code",
   "execution_count": 35,
   "metadata": {},
   "outputs": [
    {
     "data": {
      "text/plain": [
       "2-element Array{Int64,1}:\n",
       " 2\n",
       " 4"
      ]
     },
     "execution_count": 35,
     "metadata": {},
     "output_type": "execute_result"
    }
   ],
   "source": [
    "A[:,2]"
   ]
  },
  {
   "cell_type": "code",
   "execution_count": 36,
   "metadata": {},
   "outputs": [
    {
     "data": {
      "text/plain": [
       "2-element Array{Int64,1}:\n",
       " 1\n",
       " 2"
      ]
     },
     "execution_count": 36,
     "metadata": {},
     "output_type": "execute_result"
    }
   ],
   "source": [
    "A[1,:]"
   ]
  },
  {
   "cell_type": "code",
   "execution_count": 37,
   "metadata": {},
   "outputs": [
    {
     "data": {
      "text/plain": [
       "4"
      ]
     },
     "execution_count": 37,
     "metadata": {},
     "output_type": "execute_result"
    }
   ],
   "source": [
    "A[4]"
   ]
  },
  {
   "cell_type": "code",
   "execution_count": 38,
   "metadata": {},
   "outputs": [
    {
     "name": "stdout",
     "output_type": "stream",
     "text": [
      "b = [6 7 8; 5 2 4; 6 7 8; 5 2 4]\n"
     ]
    },
    {
     "data": {
      "text/plain": [
       "4×3 Array{Int64,2}:\n",
       " 6  7  8\n",
       " 5  2  4\n",
       " 6  7  8\n",
       " 5  2  4"
      ]
     },
     "execution_count": 38,
     "metadata": {},
     "output_type": "execute_result"
    }
   ],
   "source": [
    "a = [1 2 3;\n",
    "     5 2 4; \n",
    "     6 7 8;\n",
    "     5 2 4; \n",
    "     6 7 8;\n",
    "     5 2 4; \n",
    "     6 7 8;\n",
    "     5 6 6]\n",
    "b = a[3:end-2,:]\n",
    "@show b"
   ]
  },
  {
   "cell_type": "markdown",
   "metadata": {},
   "source": [
    "  \n",
    "    \n",
    "* If a matrix is indexed with only one subscript, the matrix is treaded as a vector where all columns are concatenated\n",
    "\n",
    "* Julia supports also higher-dimensional arrays and indexing works similarily.\n",
    "\n"
   ]
  },
  {
   "cell_type": "markdown",
   "metadata": {},
   "source": [
    "# Operators\n",
    "\n",
    "* Scalar and matrix operations: + sum, - difference, * multiplication, / division\n",
    "* Element-wise matrix operations: .* multiply element-wise, ./ divide element-wise \n",
    "\n",
    "## Comparison operators\n",
    "\n",
    " * equal (==) and different (!=)\n",
    " \n",
    " "
   ]
  },
  {
   "cell_type": "code",
   "execution_count": 39,
   "metadata": {},
   "outputs": [
    {
     "data": {
      "text/plain": [
       "3-element Array{Int64,1}:\n",
       " 2\n",
       " 3\n",
       " 4"
      ]
     },
     "execution_count": 39,
     "metadata": {},
     "output_type": "execute_result"
    }
   ],
   "source": [
    "[1,2,3] .+ 1"
   ]
  },
  {
   "cell_type": "code",
   "execution_count": 40,
   "metadata": {},
   "outputs": [
    {
     "data": {
      "text/plain": [
       "1"
      ]
     },
     "execution_count": 40,
     "metadata": {},
     "output_type": "execute_result"
    }
   ],
   "source": [
    "a = 1"
   ]
  },
  {
   "cell_type": "code",
   "execution_count": 41,
   "metadata": {},
   "outputs": [
    {
     "data": {
      "text/plain": [
       "false"
      ]
     },
     "execution_count": 41,
     "metadata": {},
     "output_type": "execute_result"
    }
   ],
   "source": [
    "a == 2"
   ]
  },
  {
   "cell_type": "code",
   "execution_count": 42,
   "metadata": {},
   "outputs": [
    {
     "data": {
      "text/plain": [
       "false"
      ]
     },
     "execution_count": 42,
     "metadata": {},
     "output_type": "execute_result"
    }
   ],
   "source": [
    "2 == 1"
   ]
  },
  {
   "cell_type": "code",
   "execution_count": 43,
   "metadata": {},
   "outputs": [
    {
     "data": {
      "text/plain": [
       "true"
      ]
     },
     "execution_count": 43,
     "metadata": {},
     "output_type": "execute_result"
    }
   ],
   "source": [
    "9 == 3*3"
   ]
  },
  {
   "cell_type": "code",
   "execution_count": 44,
   "metadata": {},
   "outputs": [
    {
     "data": {
      "text/plain": [
       "false"
      ]
     },
     "execution_count": 44,
     "metadata": {},
     "output_type": "execute_result"
    }
   ],
   "source": [
    "[1 2 3] == [1 3 2]"
   ]
  },
  {
   "cell_type": "code",
   "execution_count": 45,
   "metadata": {},
   "outputs": [
    {
     "data": {
      "text/plain": [
       "3-element Array{Float64,1}:\n",
       " 10.0\n",
       " 10.0\n",
       " 10.0"
      ]
     },
     "execution_count": 45,
     "metadata": {},
     "output_type": "execute_result"
    }
   ],
   "source": [
    "[10,20,30] ./ [1,2,3]"
   ]
  },
  {
   "cell_type": "code",
   "execution_count": 46,
   "metadata": {},
   "outputs": [
    {
     "data": {
      "text/plain": [
       "1×3 BitArray{2}:\n",
       " 1  0  0"
      ]
     },
     "execution_count": 46,
     "metadata": {},
     "output_type": "execute_result"
    }
   ],
   "source": [
    "[1 2 3] .== [1 3 2]"
   ]
  },
  {
   "cell_type": "markdown",
   "metadata": {},
   "source": [
    "* Be aware of the limited precision of floating point numbers\n"
   ]
  },
  {
   "cell_type": "code",
   "execution_count": 47,
   "metadata": {},
   "outputs": [
    {
     "data": {
      "text/plain": [
       "true"
      ]
     },
     "execution_count": 47,
     "metadata": {},
     "output_type": "execute_result"
    }
   ],
   "source": [
    "2.0000000000000001 == 2"
   ]
  },
  {
   "cell_type": "markdown",
   "metadata": {},
   "source": [
    " * element-wise equal (.==), element-wise different (.!=)"
   ]
  },
  {
   "cell_type": "code",
   "execution_count": 48,
   "metadata": {},
   "outputs": [
    {
     "data": {
      "text/plain": [
       "1×3 BitArray{2}:\n",
       " 1  0  0"
      ]
     },
     "execution_count": 48,
     "metadata": {},
     "output_type": "execute_result"
    }
   ],
   "source": [
    "[1 2 3] .== [1 3 2]"
   ]
  },
  {
   "cell_type": "markdown",
   "metadata": {},
   "source": [
    "* comparision between numbers: <, >, <= (≤), => (≥)"
   ]
  },
  {
   "cell_type": "code",
   "execution_count": 49,
   "metadata": {},
   "outputs": [
    {
     "data": {
      "text/plain": [
       "true"
      ]
     },
     "execution_count": 49,
     "metadata": {},
     "output_type": "execute_result"
    }
   ],
   "source": [
    "30 > 25"
   ]
  },
  {
   "cell_type": "markdown",
   "metadata": {},
   "source": [
    "* element-wise comparision between vector and matrices: .<, .>, .<= (.≤), .=> (.≥)"
   ]
  },
  {
   "cell_type": "code",
   "execution_count": 50,
   "metadata": {},
   "outputs": [
    {
     "data": {
      "text/plain": [
       "3-element BitArray{1}:\n",
       " 0\n",
       " 0\n",
       " 1"
      ]
     },
     "execution_count": 50,
     "metadata": {},
     "output_type": "execute_result"
    }
   ],
   "source": [
    "[1,2,3] .> 2"
   ]
  },
  {
   "cell_type": "code",
   "execution_count": 51,
   "metadata": {},
   "outputs": [
    {
     "data": {
      "text/plain": [
       "3-element BitArray{1}:\n",
       " 0\n",
       " 1\n",
       " 1"
      ]
     },
     "execution_count": 51,
     "metadata": {},
     "output_type": "execute_result"
    }
   ],
   "source": [
    "[1,2,3] .> [3,1,2]"
   ]
  },
  {
   "cell_type": "markdown",
   "metadata": {},
   "source": [
    "* logical \"and\" (&&) logical \"or\" (||) (with short-circuit evaluation)"
   ]
  },
  {
   "cell_type": "code",
   "execution_count": 52,
   "metadata": {},
   "outputs": [],
   "source": [
    "temperature = 30;\n",
    "precipitation = 10;\n",
    "\n",
    "if temperature > 25 && precipitation == 0\n",
    "    print(\"go outside!\")\n",
    "end"
   ]
  },
  {
   "cell_type": "markdown",
   "metadata": {},
   "source": [
    "* logical element-wise \"and\" (.&) logical element-wise \"or\" (.|)\n",
    "\n",
    "* The results of such operators can also be used to index an array\n",
    "    \n",
    "* For example return all elements in the variable T which are greater than 10 but less than 20.\n",
    "    "
   ]
  },
  {
   "cell_type": "code",
   "execution_count": 53,
   "metadata": {},
   "outputs": [
    {
     "data": {
      "text/plain": [
       "2-element Array{Int64,1}:\n",
       " 1\n",
       " 4"
      ]
     },
     "execution_count": 53,
     "metadata": {},
     "output_type": "execute_result"
    }
   ],
   "source": [
    "T = [27,17,20,26,32]\n",
    "findall(20 .< T .< 30)"
   ]
  },
  {
   "cell_type": "code",
   "execution_count": 54,
   "metadata": {},
   "outputs": [
    {
     "name": "stdout",
     "output_type": "stream",
     "text": [
      "Tgood = [20, 21, 15, 5, 15, 21]\n",
      "depthgood = [10, 12, 13, 16, 13, 13]\n"
     ]
    },
    {
     "data": {
      "text/plain": [
       "16.166666666666668"
      ]
     },
     "execution_count": 54,
     "metadata": {},
     "output_type": "execute_result"
    }
   ],
   "source": [
    "using Statistics\n",
    "depth = [ 2,   3, 10, 12, 13, 16, 13, 13,  2]\n",
    "T     = [-4, -5, 20, 21, 15,  5, 15, 21, -2]\n",
    "Tgood = T[T .> 0]\n",
    "depthgood = depth[T .> 0]\n",
    "@show Tgood\n",
    "@show depthgood\n",
    "\n",
    "#mean(Tgood)\n",
    "sum(Tgood) / length(Tgood)"
   ]
  },
  {
   "cell_type": "code",
   "execution_count": 55,
   "metadata": {},
   "outputs": [
    {
     "data": {
      "text/plain": [
       "6-element Array{Any,1}:\n",
       " (10, 20)\n",
       " (12, 21)\n",
       " (13, 15)\n",
       " (16, 5) \n",
       " (13, 15)\n",
       " (13, 21)"
      ]
     },
     "execution_count": 55,
     "metadata": {},
     "output_type": "execute_result"
    }
   ],
   "source": [
    "res = []\n",
    "for i = 1:length(T)\n",
    "    if T[i] > 0\n",
    "        push!(res,(depth[i],T[i]))\n",
    "    end\n",
    "end\n",
    "res"
   ]
  },
  {
   "cell_type": "code",
   "execution_count": 56,
   "metadata": {},
   "outputs": [
    {
     "data": {
      "text/plain": [
       "2-element Array{Int64,1}:\n",
       " 21\n",
       " 21"
      ]
     },
     "execution_count": 56,
     "metadata": {},
     "output_type": "execute_result"
    }
   ],
   "source": [
    "T[20 .< T .< 30]"
   ]
  },
  {
   "cell_type": "code",
   "execution_count": 57,
   "metadata": {},
   "outputs": [
    {
     "data": {
      "text/plain": [
       "2-element Array{Int64,1}:\n",
       " 21\n",
       " 21"
      ]
     },
     "execution_count": 57,
     "metadata": {},
     "output_type": "execute_result"
    }
   ],
   "source": [
    "T[20 .< T .& T .< 30]"
   ]
  },
  {
   "cell_type": "code",
   "execution_count": 58,
   "metadata": {},
   "outputs": [
    {
     "data": {
      "text/plain": [
       "9-element BitArray{1}:\n",
       " 1\n",
       " 1\n",
       " 1\n",
       " 1\n",
       " 1\n",
       " 1\n",
       " 1\n",
       " 1\n",
       " 1"
      ]
     },
     "execution_count": 58,
     "metadata": {},
     "output_type": "execute_result"
    }
   ],
   "source": [
    "T .< 30"
   ]
  },
  {
   "cell_type": "code",
   "execution_count": 59,
   "metadata": {},
   "outputs": [
    {
     "data": {
      "text/plain": [
       "2-element Array{Int64,1}:\n",
       " 27\n",
       " 26"
      ]
     },
     "execution_count": 59,
     "metadata": {},
     "output_type": "execute_result"
    }
   ],
   "source": [
    "T = [27,17,20,26,32]\n",
    "T[20 .< T .& T .< 30]"
   ]
  },
  {
   "cell_type": "markdown",
   "metadata": {},
   "source": [
    "* The function `findall(condition)` returns the indexes of all elements where the condition is true."
   ]
  },
  {
   "cell_type": "code",
   "execution_count": 60,
   "metadata": {},
   "outputs": [
    {
     "data": {
      "text/plain": [
       "5-element Array{Int64,1}:\n",
       " 27\n",
       " 17\n",
       " 20\n",
       " 26\n",
       " 32"
      ]
     },
     "execution_count": 60,
     "metadata": {},
     "output_type": "execute_result"
    }
   ],
   "source": [
    "T"
   ]
  },
  {
   "cell_type": "code",
   "execution_count": 61,
   "metadata": {},
   "outputs": [
    {
     "data": {
      "text/plain": [
       "2-element Array{Int64,1}:\n",
       " 1\n",
       " 4"
      ]
     },
     "execution_count": 61,
     "metadata": {},
     "output_type": "execute_result"
    }
   ],
   "source": [
    "findall(20 .< T .& T .< 30)"
   ]
  },
  {
   "cell_type": "markdown",
   "metadata": {},
   "source": [
    "* false is zero and true is 1. For instance to count the number of elements in the vector T which are larger than 20 one can use sum(T .> 20)."
   ]
  },
  {
   "cell_type": "code",
   "execution_count": 62,
   "metadata": {},
   "outputs": [
    {
     "data": {
      "text/plain": [
       "6"
      ]
     },
     "execution_count": 62,
     "metadata": {},
     "output_type": "execute_result"
    }
   ],
   "source": [
    "sum([1,2,3])"
   ]
  },
  {
   "cell_type": "code",
   "execution_count": 63,
   "metadata": {},
   "outputs": [
    {
     "data": {
      "text/plain": [
       "2"
      ]
     },
     "execution_count": 63,
     "metadata": {},
     "output_type": "execute_result"
    }
   ],
   "source": [
    "sum([1,0,1])"
   ]
  },
  {
   "cell_type": "code",
   "execution_count": 64,
   "metadata": {},
   "outputs": [
    {
     "data": {
      "text/plain": [
       "5-element Array{Int64,1}:\n",
       " 27\n",
       " 17\n",
       " 20\n",
       " 26\n",
       " 32"
      ]
     },
     "execution_count": 64,
     "metadata": {},
     "output_type": "execute_result"
    }
   ],
   "source": [
    "T"
   ]
  },
  {
   "cell_type": "code",
   "execution_count": 65,
   "metadata": {},
   "outputs": [
    {
     "data": {
      "text/plain": [
       "5-element BitArray{1}:\n",
       " 1\n",
       " 0\n",
       " 0\n",
       " 1\n",
       " 1"
      ]
     },
     "execution_count": 65,
     "metadata": {},
     "output_type": "execute_result"
    }
   ],
   "source": [
    "T .> 20"
   ]
  },
  {
   "cell_type": "code",
   "execution_count": 66,
   "metadata": {},
   "outputs": [
    {
     "data": {
      "text/plain": [
       "3"
      ]
     },
     "execution_count": 66,
     "metadata": {},
     "output_type": "execute_result"
    }
   ],
   "source": [
    "sum(T .> 20)"
   ]
  },
  {
   "cell_type": "markdown",
   "metadata": {},
   "source": [
    "# Useful functions\n",
    "\n",
    "* sin, cos, tan: trigonometric functions\n",
    "* asin, acos, atan: inverse trigonometric functions\n",
    "* log, log2, log10: natural, base 2 and base 10 logarithms: \n",
    "* exp: exponentiation\n",
    "* abs: absolute value\n",
    "* sqrt: square root\n",
    "* mean: mean\n",
    "* median: median\n",
    "* std: standard deviation\n",
    "* var: variance\n",
    "* mod: modulo (useful to manipulate e.g. the longitude)\n",
    "* isnan: Check if variable is NaN. Note that NaN == NaN is false!\n",
    "* inv: inverse of a matrix\n",
    "* sum: sum of all elements\n",
    "* prod: product of all elements\n",
    "* maximum,minimum: maximum,minimum value in an array\n",
    "* max,min: maximum,minimum value of all arguments\n",
    "* isnan: true if a value is NaN\n",
    "* isinf: true if a value is Inf\n",
    "\n",
    "These function can also operate of a given dimension: sum(array,dimension)\n",
    "\n",
    "Find out more of these function by typing ? followed by the function name. "
   ]
  },
  {
   "cell_type": "code",
   "execution_count": 67,
   "metadata": {},
   "outputs": [
    {
     "name": "stdout",
     "output_type": "stream",
     "text": [
      "search: \u001b[0m\u001b[1ms\u001b[22m\u001b[0m\u001b[1mu\u001b[22m\u001b[0m\u001b[1mm\u001b[22m \u001b[0m\u001b[1ms\u001b[22m\u001b[0m\u001b[1mu\u001b[22m\u001b[0m\u001b[1mm\u001b[22m! \u001b[0m\u001b[1ms\u001b[22m\u001b[0m\u001b[1mu\u001b[22m\u001b[0m\u001b[1mm\u001b[22mmary cum\u001b[0m\u001b[1ms\u001b[22m\u001b[0m\u001b[1mu\u001b[22m\u001b[0m\u001b[1mm\u001b[22m cum\u001b[0m\u001b[1ms\u001b[22m\u001b[0m\u001b[1mu\u001b[22m\u001b[0m\u001b[1mm\u001b[22m! i\u001b[0m\u001b[1ms\u001b[22mn\u001b[0m\u001b[1mu\u001b[22m\u001b[0m\u001b[1mm\u001b[22meric Method\u001b[0m\u001b[1mS\u001b[22m\u001b[0m\u001b[1mu\u001b[22m\u001b[0m\u001b[1mm\u001b[22mmary Ver\u001b[0m\u001b[1ms\u001b[22mionN\u001b[0m\u001b[1mu\u001b[22m\u001b[0m\u001b[1mm\u001b[22mber\n",
      "\n"
     ]
    },
    {
     "data": {
      "text/latex": [
       "\\begin{verbatim}\n",
       "sum(f, itr)\n",
       "\\end{verbatim}\n",
       "Sum the results of calling function \\texttt{f} on each element of \\texttt{itr}.\n",
       "\n",
       "The return type is \\texttt{Int} for signed integers of less than system word size, and \\texttt{UInt} for unsigned integers of less than system word size.  For all other arguments, a common return type is found to which all arguments are promoted.\n",
       "\n",
       "\\section{Examples}\n",
       "\\begin{verbatim}\n",
       "julia> sum(abs2, [2; 3; 4])\n",
       "29\n",
       "\\end{verbatim}\n",
       "Note the important difference between \\texttt{sum(A)} and \\texttt{reduce(+, A)} for arrays with small integer eltype:\n",
       "\n",
       "\\begin{verbatim}\n",
       "julia> sum(Int8[100, 28])\n",
       "128\n",
       "\n",
       "julia> reduce(+, Int8[100, 28])\n",
       "-128\n",
       "\\end{verbatim}\n",
       "In the former case, the integers are widened to system word size and therefore the result is 128. In the latter case, no such widening happens and integer overflow results in -128.\n",
       "\n",
       "\\rule{\\textwidth}{1pt}\n",
       "\\begin{verbatim}\n",
       "sum(itr)\n",
       "\\end{verbatim}\n",
       "Returns the sum of all elements in a collection.\n",
       "\n",
       "The return type is \\texttt{Int} for signed integers of less than system word size, and \\texttt{UInt} for unsigned integers of less than system word size.  For all other arguments, a common return type is found to which all arguments are promoted.\n",
       "\n",
       "\\section{Examples}\n",
       "\\begin{verbatim}\n",
       "julia> sum(1:20)\n",
       "210\n",
       "\\end{verbatim}\n",
       "\\rule{\\textwidth}{1pt}\n",
       "\\begin{verbatim}\n",
       "sum(A::AbstractArray; dims)\n",
       "\\end{verbatim}\n",
       "Sum elements of an array over the given dimensions.\n",
       "\n",
       "\\section{Examples}\n",
       "\\begin{verbatim}\n",
       "julia> A = [1 2; 3 4]\n",
       "2×2 Array{Int64,2}:\n",
       " 1  2\n",
       " 3  4\n",
       "\n",
       "julia> sum(A, dims=1)\n",
       "1×2 Array{Int64,2}:\n",
       " 4  6\n",
       "\n",
       "julia> sum(A, dims=2)\n",
       "2×1 Array{Int64,2}:\n",
       " 3\n",
       " 7\n",
       "\\end{verbatim}\n"
      ],
      "text/markdown": [
       "```\n",
       "sum(f, itr)\n",
       "```\n",
       "\n",
       "Sum the results of calling function `f` on each element of `itr`.\n",
       "\n",
       "The return type is `Int` for signed integers of less than system word size, and `UInt` for unsigned integers of less than system word size.  For all other arguments, a common return type is found to which all arguments are promoted.\n",
       "\n",
       "# Examples\n",
       "\n",
       "```jldoctest\n",
       "julia> sum(abs2, [2; 3; 4])\n",
       "29\n",
       "```\n",
       "\n",
       "Note the important difference between `sum(A)` and `reduce(+, A)` for arrays with small integer eltype:\n",
       "\n",
       "```jldoctest\n",
       "julia> sum(Int8[100, 28])\n",
       "128\n",
       "\n",
       "julia> reduce(+, Int8[100, 28])\n",
       "-128\n",
       "```\n",
       "\n",
       "In the former case, the integers are widened to system word size and therefore the result is 128. In the latter case, no such widening happens and integer overflow results in -128.\n",
       "\n",
       "---\n",
       "\n",
       "```\n",
       "sum(itr)\n",
       "```\n",
       "\n",
       "Returns the sum of all elements in a collection.\n",
       "\n",
       "The return type is `Int` for signed integers of less than system word size, and `UInt` for unsigned integers of less than system word size.  For all other arguments, a common return type is found to which all arguments are promoted.\n",
       "\n",
       "# Examples\n",
       "\n",
       "```jldoctest\n",
       "julia> sum(1:20)\n",
       "210\n",
       "```\n",
       "\n",
       "---\n",
       "\n",
       "```\n",
       "sum(A::AbstractArray; dims)\n",
       "```\n",
       "\n",
       "Sum elements of an array over the given dimensions.\n",
       "\n",
       "# Examples\n",
       "\n",
       "```jldoctest\n",
       "julia> A = [1 2; 3 4]\n",
       "2×2 Array{Int64,2}:\n",
       " 1  2\n",
       " 3  4\n",
       "\n",
       "julia> sum(A, dims=1)\n",
       "1×2 Array{Int64,2}:\n",
       " 4  6\n",
       "\n",
       "julia> sum(A, dims=2)\n",
       "2×1 Array{Int64,2}:\n",
       " 3\n",
       " 7\n",
       "```\n"
      ],
      "text/plain": [
       "\u001b[36m  sum(f, itr)\u001b[39m\n",
       "\n",
       "  Sum the results of calling function \u001b[36mf\u001b[39m on each element of \u001b[36mitr\u001b[39m.\n",
       "\n",
       "  The return type is \u001b[36mInt\u001b[39m for signed integers of less than system word size,\n",
       "  and \u001b[36mUInt\u001b[39m for unsigned integers of less than system word size. For all other\n",
       "  arguments, a common return type is found to which all arguments are\n",
       "  promoted.\n",
       "\n",
       "\u001b[1m  Examples\u001b[22m\n",
       "\u001b[1m  ≡≡≡≡≡≡≡≡≡≡\u001b[22m\n",
       "\n",
       "\u001b[36m  julia> sum(abs2, [2; 3; 4])\u001b[39m\n",
       "\u001b[36m  29\u001b[39m\n",
       "\n",
       "  Note the important difference between \u001b[36msum(A)\u001b[39m and \u001b[36mreduce(+, A)\u001b[39m for arrays\n",
       "  with small integer eltype:\n",
       "\n",
       "\u001b[36m  julia> sum(Int8[100, 28])\u001b[39m\n",
       "\u001b[36m  128\u001b[39m\n",
       "\u001b[36m  \u001b[39m\n",
       "\u001b[36m  julia> reduce(+, Int8[100, 28])\u001b[39m\n",
       "\u001b[36m  -128\u001b[39m\n",
       "\n",
       "  In the former case, the integers are widened to system word size and\n",
       "  therefore the result is 128. In the latter case, no such widening happens\n",
       "  and integer overflow results in -128.\n",
       "\n",
       "  ────────────────────────────────────────────────────────────────────────────\n",
       "\n",
       "\u001b[36m  sum(itr)\u001b[39m\n",
       "\n",
       "  Returns the sum of all elements in a collection.\n",
       "\n",
       "  The return type is \u001b[36mInt\u001b[39m for signed integers of less than system word size,\n",
       "  and \u001b[36mUInt\u001b[39m for unsigned integers of less than system word size. For all other\n",
       "  arguments, a common return type is found to which all arguments are\n",
       "  promoted.\n",
       "\n",
       "\u001b[1m  Examples\u001b[22m\n",
       "\u001b[1m  ≡≡≡≡≡≡≡≡≡≡\u001b[22m\n",
       "\n",
       "\u001b[36m  julia> sum(1:20)\u001b[39m\n",
       "\u001b[36m  210\u001b[39m\n",
       "\n",
       "  ────────────────────────────────────────────────────────────────────────────\n",
       "\n",
       "\u001b[36m  sum(A::AbstractArray; dims)\u001b[39m\n",
       "\n",
       "  Sum elements of an array over the given dimensions.\n",
       "\n",
       "\u001b[1m  Examples\u001b[22m\n",
       "\u001b[1m  ≡≡≡≡≡≡≡≡≡≡\u001b[22m\n",
       "\n",
       "\u001b[36m  julia> A = [1 2; 3 4]\u001b[39m\n",
       "\u001b[36m  2×2 Array{Int64,2}:\u001b[39m\n",
       "\u001b[36m   1  2\u001b[39m\n",
       "\u001b[36m   3  4\u001b[39m\n",
       "\u001b[36m  \u001b[39m\n",
       "\u001b[36m  julia> sum(A, dims=1)\u001b[39m\n",
       "\u001b[36m  1×2 Array{Int64,2}:\u001b[39m\n",
       "\u001b[36m   4  6\u001b[39m\n",
       "\u001b[36m  \u001b[39m\n",
       "\u001b[36m  julia> sum(A, dims=2)\u001b[39m\n",
       "\u001b[36m  2×1 Array{Int64,2}:\u001b[39m\n",
       "\u001b[36m   3\u001b[39m\n",
       "\u001b[36m   7\u001b[39m"
      ]
     },
     "execution_count": 67,
     "metadata": {},
     "output_type": "execute_result"
    }
   ],
   "source": [
    "?sum"
   ]
  },
  {
   "cell_type": "code",
   "execution_count": 68,
   "metadata": {},
   "outputs": [
    {
     "name": "stdout",
     "output_type": "stream",
     "text": [
      "search: \u001b[0m\u001b[1mo\u001b[22m\u001b[0m\u001b[1mp\u001b[22m\u001b[0m\u001b[1me\u001b[22m\u001b[0m\u001b[1mn\u001b[22m is\u001b[0m\u001b[1mo\u001b[22m\u001b[0m\u001b[1mp\u001b[22m\u001b[0m\u001b[1me\u001b[22m\u001b[0m\u001b[1mn\u001b[22m pr\u001b[0m\u001b[1mo\u001b[22m\u001b[0m\u001b[1mp\u001b[22m\u001b[0m\u001b[1me\u001b[22mrty\u001b[0m\u001b[1mn\u001b[22mames C\u001b[0m\u001b[1mo\u001b[22mm\u001b[0m\u001b[1mp\u001b[22mosit\u001b[0m\u001b[1me\u001b[22mExceptio\u001b[0m\u001b[1mn\u001b[22m \u001b[0m\u001b[1mo\u001b[22m\u001b[0m\u001b[1mp\u001b[22m\u001b[0m\u001b[1me\u001b[22mrm haspr\u001b[0m\u001b[1mo\u001b[22m\u001b[0m\u001b[1mp\u001b[22m\u001b[0m\u001b[1me\u001b[22mrty\n",
      "\n"
     ]
    },
    {
     "data": {
      "text/latex": [
       "\\begin{verbatim}\n",
       "open(filename::AbstractString; keywords...) -> IOStream\n",
       "\\end{verbatim}\n",
       "Open a file in a mode specified by five boolean keyword arguments:\n",
       "\n",
       "\\begin{tabular}\n",
       "{l | l | l}\n",
       "Keyword & Description & Default \\\\\n",
       "\\hline\n",
       "\\texttt{read} & open for reading & \\texttt{!write} \\\\\n",
       "\\texttt{write} & open for writing & \\texttt{truncate | append} \\\\\n",
       "\\texttt{create} & create if non-existent & \\texttt{!read \\& write | truncate | append} \\\\\n",
       "\\texttt{truncate} & truncate to zero size & \\texttt{!read \\& write} \\\\\n",
       "\\texttt{append} & seek to end & \\texttt{false} \\\\\n",
       "\\end{tabular}\n",
       "The default when no keywords are passed is to open files for reading only. Returns a stream for accessing the opened file.\n",
       "\n",
       "\\rule{\\textwidth}{1pt}\n",
       "\\begin{verbatim}\n",
       "open(filename::AbstractString, [mode::AbstractString]) -> IOStream\n",
       "\\end{verbatim}\n",
       "Alternate syntax for open, where a string-based mode specifier is used instead of the five booleans. The values of \\texttt{mode} correspond to those from \\texttt{fopen(3)} or Perl \\texttt{open}, and are equivalent to setting the following boolean groups:\n",
       "\n",
       "\\begin{tabular}\n",
       "{l | l | l}\n",
       "Mode & Description & Keywords \\\\\n",
       "\\hline\n",
       "\\texttt{r} & read & none \\\\\n",
       "\\texttt{w} & write, create, truncate & \\texttt{write = true} \\\\\n",
       "\\texttt{a} & write, create, append & \\texttt{append = true} \\\\\n",
       "\\texttt{r+} & read, write & \\texttt{read = true, write = true} \\\\\n",
       "\\texttt{w+} & read, write, create, truncate & \\texttt{truncate = true, read = true} \\\\\n",
       "\\texttt{a+} & read, write, create, append & \\texttt{append = true, read = true} \\\\\n",
       "\\end{tabular}\n",
       "\\section{Examples}\n",
       "\\begin{verbatim}\n",
       "julia> io = open(\"myfile.txt\", \"w\");\n",
       "\n",
       "julia> write(io, \"Hello world!\");\n",
       "\n",
       "julia> close(io);\n",
       "\n",
       "julia> io = open(\"myfile.txt\", \"r\");\n",
       "\n",
       "julia> read(io, String)\n",
       "\"Hello world!\"\n",
       "\n",
       "julia> write(io, \"This file is read only\")\n",
       "ERROR: ArgumentError: write failed, IOStream is not writeable\n",
       "[...]\n",
       "\n",
       "julia> close(io)\n",
       "\n",
       "julia> io = open(\"myfile.txt\", \"a\");\n",
       "\n",
       "julia> write(io, \"This stream is not read only\")\n",
       "28\n",
       "\n",
       "julia> close(io)\n",
       "\n",
       "julia> rm(\"myfile.txt\")\n",
       "\\end{verbatim}\n",
       "\\rule{\\textwidth}{1pt}\n",
       "\\begin{verbatim}\n",
       "open(f::Function, args...; kwargs....)\n",
       "\\end{verbatim}\n",
       "Apply the function \\texttt{f} to the result of \\texttt{open(args...; kwargs...)} and close the resulting file descriptor upon completion.\n",
       "\n",
       "\\section{Examples}\n",
       "\\begin{verbatim}\n",
       "julia> open(\"myfile.txt\", \"w\") do io\n",
       "           write(io, \"Hello world!\")\n",
       "       end;\n",
       "\n",
       "julia> open(f->read(f, String), \"myfile.txt\")\n",
       "\"Hello world!\"\n",
       "\n",
       "julia> rm(\"myfile.txt\")\n",
       "\\end{verbatim}\n",
       "\\rule{\\textwidth}{1pt}\n",
       "\\begin{verbatim}\n",
       "open(fd::OS_HANDLE) -> IO\n",
       "\\end{verbatim}\n",
       "Take a raw file descriptor wrap it in a Julia-aware IO type, and take ownership of the fd handle. Call \\texttt{open(Libc.dup(fd))} to avoid the ownership capture of the original handle.\n",
       "\n",
       "\\begin{quote}\n",
       "\\textbf{warn}\n",
       "\n",
       "Warn\n",
       "\n",
       "Do not call this on a handle that's already owned by some other part of the system.\n",
       "\n",
       "\\end{quote}\n",
       "\\rule{\\textwidth}{1pt}\n",
       "\\begin{verbatim}\n",
       "open(command, other=devnull; write::Bool = false, read::Bool = !write)\n",
       "\\end{verbatim}\n",
       "Start running \\texttt{command} asynchronously, and return a \\texttt{process::IO} object.  If \\texttt{read} is true, then reads from the process come from the process's standard output and \\texttt{other} optionally specifies the process's standard input stream.  If \\texttt{write} is true, then writes go to the process's standard input and \\texttt{other} optionally specifies the process's standard output stream. The process's standard error stream is connected to the current global \\texttt{stderr}.\n",
       "\n",
       "\\rule{\\textwidth}{1pt}\n",
       "\\begin{verbatim}\n",
       "open(f::Function, command, mode::AbstractString=\"r\", stdio=devnull)\n",
       "\\end{verbatim}\n",
       "Similar to \\texttt{open(command, mode, stdio)}, but calls \\texttt{f(stream)} on the resulting process stream, then closes the input stream and waits for the process to complete. Returns the value returned by \\texttt{f}.\n",
       "\n"
      ],
      "text/markdown": [
       "```\n",
       "open(filename::AbstractString; keywords...) -> IOStream\n",
       "```\n",
       "\n",
       "Open a file in a mode specified by five boolean keyword arguments:\n",
       "\n",
       "| Keyword    | Description            | Default                               |\n",
       "|:---------- |:---------------------- |:------------------------------------- |\n",
       "| `read`     | open for reading       | `!write`                              |\n",
       "| `write`    | open for writing       | `truncate \\| append`                  |\n",
       "| `create`   | create if non-existent | `!read & write \\| truncate \\| append` |\n",
       "| `truncate` | truncate to zero size  | `!read & write`                       |\n",
       "| `append`   | seek to end            | `false`                               |\n",
       "\n",
       "The default when no keywords are passed is to open files for reading only. Returns a stream for accessing the opened file.\n",
       "\n",
       "---\n",
       "\n",
       "```\n",
       "open(filename::AbstractString, [mode::AbstractString]) -> IOStream\n",
       "```\n",
       "\n",
       "Alternate syntax for open, where a string-based mode specifier is used instead of the five booleans. The values of `mode` correspond to those from `fopen(3)` or Perl `open`, and are equivalent to setting the following boolean groups:\n",
       "\n",
       "| Mode | Description                   | Keywords                       |\n",
       "|:---- |:----------------------------- |:------------------------------ |\n",
       "| `r`  | read                          | none                           |\n",
       "| `w`  | write, create, truncate       | `write = true`                 |\n",
       "| `a`  | write, create, append         | `append = true`                |\n",
       "| `r+` | read, write                   | `read = true, write = true`    |\n",
       "| `w+` | read, write, create, truncate | `truncate = true, read = true` |\n",
       "| `a+` | read, write, create, append   | `append = true, read = true`   |\n",
       "\n",
       "# Examples\n",
       "\n",
       "```jldoctest\n",
       "julia> io = open(\"myfile.txt\", \"w\");\n",
       "\n",
       "julia> write(io, \"Hello world!\");\n",
       "\n",
       "julia> close(io);\n",
       "\n",
       "julia> io = open(\"myfile.txt\", \"r\");\n",
       "\n",
       "julia> read(io, String)\n",
       "\"Hello world!\"\n",
       "\n",
       "julia> write(io, \"This file is read only\")\n",
       "ERROR: ArgumentError: write failed, IOStream is not writeable\n",
       "[...]\n",
       "\n",
       "julia> close(io)\n",
       "\n",
       "julia> io = open(\"myfile.txt\", \"a\");\n",
       "\n",
       "julia> write(io, \"This stream is not read only\")\n",
       "28\n",
       "\n",
       "julia> close(io)\n",
       "\n",
       "julia> rm(\"myfile.txt\")\n",
       "```\n",
       "\n",
       "---\n",
       "\n",
       "```\n",
       "open(f::Function, args...; kwargs....)\n",
       "```\n",
       "\n",
       "Apply the function `f` to the result of `open(args...; kwargs...)` and close the resulting file descriptor upon completion.\n",
       "\n",
       "# Examples\n",
       "\n",
       "```jldoctest\n",
       "julia> open(\"myfile.txt\", \"w\") do io\n",
       "           write(io, \"Hello world!\")\n",
       "       end;\n",
       "\n",
       "julia> open(f->read(f, String), \"myfile.txt\")\n",
       "\"Hello world!\"\n",
       "\n",
       "julia> rm(\"myfile.txt\")\n",
       "```\n",
       "\n",
       "---\n",
       "\n",
       "```\n",
       "open(fd::OS_HANDLE) -> IO\n",
       "```\n",
       "\n",
       "Take a raw file descriptor wrap it in a Julia-aware IO type, and take ownership of the fd handle. Call `open(Libc.dup(fd))` to avoid the ownership capture of the original handle.\n",
       "\n",
       "!!! warn\n",
       "    Do not call this on a handle that's already owned by some other part of the system.\n",
       "\n",
       "\n",
       "---\n",
       "\n",
       "```\n",
       "open(command, other=devnull; write::Bool = false, read::Bool = !write)\n",
       "```\n",
       "\n",
       "Start running `command` asynchronously, and return a `process::IO` object.  If `read` is true, then reads from the process come from the process's standard output and `other` optionally specifies the process's standard input stream.  If `write` is true, then writes go to the process's standard input and `other` optionally specifies the process's standard output stream. The process's standard error stream is connected to the current global `stderr`.\n",
       "\n",
       "---\n",
       "\n",
       "```\n",
       "open(f::Function, command, mode::AbstractString=\"r\", stdio=devnull)\n",
       "```\n",
       "\n",
       "Similar to `open(command, mode, stdio)`, but calls `f(stream)` on the resulting process stream, then closes the input stream and waits for the process to complete. Returns the value returned by `f`.\n"
      ],
      "text/plain": [
       "\u001b[36m  open(filename::AbstractString; keywords...) -> IOStream\u001b[39m\n",
       "\n",
       "  Open a file in a mode specified by five boolean keyword arguments:\n",
       "\n",
       "Keyword  Description            Default                          \n",
       "–––––––– –––––––––––––––––––––– –––––––––––––––––––––––––––––––––\n",
       "\u001b[36mread\u001b[39m     open for reading       \u001b[36m!write\u001b[39m                           \n",
       "\u001b[36mwrite\u001b[39m    open for writing       \u001b[36mtruncate | append\u001b[39m                \n",
       "\u001b[36mcreate\u001b[39m   create if non-existent \u001b[36m!read & write | truncate | append\u001b[39m\n",
       "\u001b[36mtruncate\u001b[39m truncate to zero size  \u001b[36m!read & write\u001b[39m                    \n",
       "\u001b[36mappend\u001b[39m   seek to end            \u001b[36mfalse\u001b[39m                            \n",
       "\n",
       "  The default when no keywords are passed is to open files for reading only.\n",
       "  Returns a stream for accessing the opened file.\n",
       "\n",
       "  ────────────────────────────────────────────────────────────────────────────\n",
       "\n",
       "\u001b[36m  open(filename::AbstractString, [mode::AbstractString]) -> IOStream\u001b[39m\n",
       "\n",
       "  Alternate syntax for open, where a string-based mode specifier is used\n",
       "  instead of the five booleans. The values of \u001b[36mmode\u001b[39m correspond to those from\n",
       "  \u001b[36mfopen(3)\u001b[39m or Perl \u001b[36mopen\u001b[39m, and are equivalent to setting the following boolean\n",
       "  groups:\n",
       "\n",
       "Mode Description                   Keywords                    \n",
       "–––– ––––––––––––––––––––––––––––– ––––––––––––––––––––––––––––\n",
       "\u001b[36mr\u001b[39m    read                          none                        \n",
       "\u001b[36mw\u001b[39m    write, create, truncate       \u001b[36mwrite = true\u001b[39m                \n",
       "\u001b[36ma\u001b[39m    write, create, append         \u001b[36mappend = true\u001b[39m               \n",
       "\u001b[36mr+\u001b[39m   read, write                   \u001b[36mread = true, write = true\u001b[39m   \n",
       "\u001b[36mw+\u001b[39m   read, write, create, truncate \u001b[36mtruncate = true, read = true\u001b[39m\n",
       "\u001b[36ma+\u001b[39m   read, write, create, append   \u001b[36mappend = true, read = true\u001b[39m  \n",
       "\n",
       "\u001b[1m  Examples\u001b[22m\n",
       "\u001b[1m  ≡≡≡≡≡≡≡≡≡≡\u001b[22m\n",
       "\n",
       "\u001b[36m  julia> io = open(\"myfile.txt\", \"w\");\u001b[39m\n",
       "\u001b[36m  \u001b[39m\n",
       "\u001b[36m  julia> write(io, \"Hello world!\");\u001b[39m\n",
       "\u001b[36m  \u001b[39m\n",
       "\u001b[36m  julia> close(io);\u001b[39m\n",
       "\u001b[36m  \u001b[39m\n",
       "\u001b[36m  julia> io = open(\"myfile.txt\", \"r\");\u001b[39m\n",
       "\u001b[36m  \u001b[39m\n",
       "\u001b[36m  julia> read(io, String)\u001b[39m\n",
       "\u001b[36m  \"Hello world!\"\u001b[39m\n",
       "\u001b[36m  \u001b[39m\n",
       "\u001b[36m  julia> write(io, \"This file is read only\")\u001b[39m\n",
       "\u001b[36m  ERROR: ArgumentError: write failed, IOStream is not writeable\u001b[39m\n",
       "\u001b[36m  [...]\u001b[39m\n",
       "\u001b[36m  \u001b[39m\n",
       "\u001b[36m  julia> close(io)\u001b[39m\n",
       "\u001b[36m  \u001b[39m\n",
       "\u001b[36m  julia> io = open(\"myfile.txt\", \"a\");\u001b[39m\n",
       "\u001b[36m  \u001b[39m\n",
       "\u001b[36m  julia> write(io, \"This stream is not read only\")\u001b[39m\n",
       "\u001b[36m  28\u001b[39m\n",
       "\u001b[36m  \u001b[39m\n",
       "\u001b[36m  julia> close(io)\u001b[39m\n",
       "\u001b[36m  \u001b[39m\n",
       "\u001b[36m  julia> rm(\"myfile.txt\")\u001b[39m\n",
       "\n",
       "  ────────────────────────────────────────────────────────────────────────────\n",
       "\n",
       "\u001b[36m  open(f::Function, args...; kwargs....)\u001b[39m\n",
       "\n",
       "  Apply the function \u001b[36mf\u001b[39m to the result of \u001b[36mopen(args...; kwargs...)\u001b[39m and close the\n",
       "  resulting file descriptor upon completion.\n",
       "\n",
       "\u001b[1m  Examples\u001b[22m\n",
       "\u001b[1m  ≡≡≡≡≡≡≡≡≡≡\u001b[22m\n",
       "\n",
       "\u001b[36m  julia> open(\"myfile.txt\", \"w\") do io\u001b[39m\n",
       "\u001b[36m             write(io, \"Hello world!\")\u001b[39m\n",
       "\u001b[36m         end;\u001b[39m\n",
       "\u001b[36m  \u001b[39m\n",
       "\u001b[36m  julia> open(f->read(f, String), \"myfile.txt\")\u001b[39m\n",
       "\u001b[36m  \"Hello world!\"\u001b[39m\n",
       "\u001b[36m  \u001b[39m\n",
       "\u001b[36m  julia> rm(\"myfile.txt\")\u001b[39m\n",
       "\n",
       "  ────────────────────────────────────────────────────────────────────────────\n",
       "\n",
       "\u001b[36m  open(fd::OS_HANDLE) -> IO\u001b[39m\n",
       "\n",
       "  Take a raw file descriptor wrap it in a Julia-aware IO type, and take\n",
       "  ownership of the fd handle. Call \u001b[36mopen(Libc.dup(fd))\u001b[39m to avoid the ownership\n",
       "  capture of the original handle.\n",
       "\n",
       "\u001b[39m\u001b[1m  │ \u001b[22m\u001b[39m\u001b[1mWarn\u001b[22m\n",
       "\u001b[39m\u001b[1m  │\u001b[22m\n",
       "\u001b[39m\u001b[1m  │\u001b[22m  Do not call this on a handle that's already owned by some other\n",
       "\u001b[39m\u001b[1m  │\u001b[22m  part of the system.\n",
       "\n",
       "  ────────────────────────────────────────────────────────────────────────────\n",
       "\n",
       "\u001b[36m  open(command, other=devnull; write::Bool = false, read::Bool = !write)\u001b[39m\n",
       "\n",
       "  Start running \u001b[36mcommand\u001b[39m asynchronously, and return a \u001b[36mprocess::IO\u001b[39m object. If\n",
       "  \u001b[36mread\u001b[39m is true, then reads from the process come from the process's standard\n",
       "  output and \u001b[36mother\u001b[39m optionally specifies the process's standard input stream.\n",
       "  If \u001b[36mwrite\u001b[39m is true, then writes go to the process's standard input and \u001b[36mother\u001b[39m\n",
       "  optionally specifies the process's standard output stream. The process's\n",
       "  standard error stream is connected to the current global \u001b[36mstderr\u001b[39m.\n",
       "\n",
       "  ────────────────────────────────────────────────────────────────────────────\n",
       "\n",
       "\u001b[36m  open(f::Function, command, mode::AbstractString=\"r\", stdio=devnull)\u001b[39m\n",
       "\n",
       "  Similar to \u001b[36mopen(command, mode, stdio)\u001b[39m, but calls \u001b[36mf(stream)\u001b[39m on the resulting\n",
       "  process stream, then closes the input stream and waits for the process to\n",
       "  complete. Returns the value returned by \u001b[36mf\u001b[39m."
      ]
     },
     "execution_count": 68,
     "metadata": {},
     "output_type": "execute_result"
    }
   ],
   "source": [
    "?open"
   ]
  },
  {
   "cell_type": "code",
   "execution_count": 69,
   "metadata": {},
   "outputs": [
    {
     "name": "stdout",
     "output_type": "stream",
     "text": [
      "Base.Slice\n",
      "Base.IteratorEltype\n",
      "Base.Condition\n",
      "Base.prevind\n",
      "Base.nextind\n",
      "Base.LOAD_PATH\n",
      "Base.isbitsunion\n",
      "Base.@nospecialize\n",
      "Base.isconcretetype\n",
      "Base.IteratorSize\n",
      "Base.reduce\n",
      "Base.RangeStepStyle\n",
      "Base.:∘\n",
      "Base.isequal\n",
      "Base.isbitstype\n",
      "Base.@pure\n",
      "Base.isdispatchtuple\n",
      "Base.Multimedia.display\n",
      "Base.IRShow.compute_ir_line_annotations\n",
      "Base.Broadcast.newindex\n",
      "Base.Sys.isbsd\n",
      "Base.Threads.atomic_cas!\n",
      "Base.CoreLogging.@warn\n",
      "Base.CoreLogging.@logmsg\n",
      "Base.CoreLogging.@debug\n",
      "Base.CoreLogging.@info\n",
      "Base.CoreLogging.@error\n",
      "Base.Math.rem_pio2_kernel\n",
      "Base.Sort.partialsortperm\n",
      "Base.sortperm\n",
      "LibGit2.isbare\n",
      "LibGit2.BlameOptions\n",
      "LibGit2.treewalk\n",
      "LibGit2.DiffOptionsStruct\n",
      "LibGit2.clone\n",
      "Profile.fetch\n",
      "Base.randn\n",
      "Random.randn!\n",
      "Base.sqrt\n",
      "LinearAlgebra.LAPACK.gesvx!\n",
      "SparseArrays.sprand\n",
      "Test.@testset\n",
      "Test.test_expr!\n",
      "Statistics.middle\n",
      "Statistics.var\n",
      "Statistics.mean!\n",
      "Statistics.varm\n",
      "Statistics.median\n",
      "Statistics.mean\n",
      "Statistics.std\n",
      "Statistics.stdm\n",
      "Parsers.Options\n",
      "IJulia.set_cur_msg\n",
      "PackageCompiler.build_sysimg\n",
      "JuliaInterpreter.AbstractBreakpoint\n",
      "Revise.revision_queue\n",
      "Revise.ModuleExprsSigs\n"
     ]
    }
   ],
   "source": [
    "apropos(\"mean\")"
   ]
  },
  {
   "cell_type": "code",
   "execution_count": 70,
   "metadata": {},
   "outputs": [],
   "source": [
    "using Statistics"
   ]
  },
  {
   "cell_type": "code",
   "execution_count": 71,
   "metadata": {},
   "outputs": [],
   "source": [
    "using DelimitedFiles\n"
   ]
  },
  {
   "cell_type": "code",
   "execution_count": 72,
   "metadata": {},
   "outputs": [
    {
     "name": "stdout",
     "output_type": "stream",
     "text": [
      "search: \u001b[0m\u001b[1mr\u001b[22m\u001b[0m\u001b[1me\u001b[22m\u001b[0m\u001b[1ma\u001b[22m\u001b[0m\u001b[1md\u001b[22m\u001b[0m\u001b[1md\u001b[22m\u001b[0m\u001b[1ml\u001b[22m\u001b[0m\u001b[1mm\u001b[22m \u001b[0m\u001b[1mr\u001b[22m\u001b[0m\u001b[1me\u001b[22m\u001b[0m\u001b[1ma\u001b[22m\u001b[0m\u001b[1md\u001b[22m\u001b[0m\u001b[1md\u001b[22mir\n",
      "\n"
     ]
    },
    {
     "data": {
      "text/latex": [
       "\\begin{verbatim}\n",
       "readdlm(source, T::Type; options...)\n",
       "\\end{verbatim}\n",
       "The columns are assumed to be separated by one or more whitespaces. The end of line delimiter is taken as \\texttt{{\\textbackslash}n}.\n",
       "\n",
       "\\section{Examples}\n",
       "\\begin{verbatim}\n",
       "julia> using DelimitedFiles\n",
       "\n",
       "julia> x = [1; 2; 3; 4];\n",
       "\n",
       "julia> y = [5; 6; 7; 8];\n",
       "\n",
       "julia> open(\"delim_file.txt\", \"w\") do io\n",
       "           writedlm(io, [x y])\n",
       "       end;\n",
       "\n",
       "julia> readdlm(\"delim_file.txt\", Int64)\n",
       "4×2 Array{Int64,2}:\n",
       " 1  5\n",
       " 2  6\n",
       " 3  7\n",
       " 4  8\n",
       "\n",
       "julia> readdlm(\"delim_file.txt\", Float64)\n",
       "4×2 Array{Float64,2}:\n",
       " 1.0  5.0\n",
       " 2.0  6.0\n",
       " 3.0  7.0\n",
       " 4.0  8.0\n",
       "\n",
       "julia> rm(\"delim_file.txt\")\n",
       "\\end{verbatim}\n",
       "\\rule{\\textwidth}{1pt}\n",
       "\\begin{verbatim}\n",
       "readdlm(source, delim::AbstractChar, T::Type; options...)\n",
       "\\end{verbatim}\n",
       "The end of line delimiter is taken as \\texttt{{\\textbackslash}n}.\n",
       "\n",
       "\\section{Examples}\n",
       "\\begin{verbatim}\n",
       "julia> using DelimitedFiles\n",
       "\n",
       "julia> x = [1; 2; 3; 4];\n",
       "\n",
       "julia> y = [1.1; 2.2; 3.3; 4.4];\n",
       "\n",
       "julia> open(\"delim_file.txt\", \"w\") do io\n",
       "           writedlm(io, [x y], ',')\n",
       "       end;\n",
       "\n",
       "julia> readdlm(\"delim_file.txt\", ',', Float64)\n",
       "4×2 Array{Float64,2}:\n",
       " 1.0  1.1\n",
       " 2.0  2.2\n",
       " 3.0  3.3\n",
       " 4.0  4.4\n",
       "\n",
       "julia> rm(\"delim_file.txt\")\n",
       "\\end{verbatim}\n",
       "\\rule{\\textwidth}{1pt}\n",
       "\\begin{verbatim}\n",
       "readdlm(source; options...)\n",
       "\\end{verbatim}\n",
       "The columns are assumed to be separated by one or more whitespaces. The end of line delimiter is taken as \\texttt{{\\textbackslash}n}. If all data is numeric, the result will be a numeric array. If some elements cannot be parsed as numbers, a heterogeneous array of numbers and strings is returned.\n",
       "\n",
       "\\section{Examples}\n",
       "\\begin{verbatim}\n",
       "julia> using DelimitedFiles\n",
       "\n",
       "julia> x = [1; 2; 3; 4];\n",
       "\n",
       "julia> y = [\"a\"; \"b\"; \"c\"; \"d\"];\n",
       "\n",
       "julia> open(\"delim_file.txt\", \"w\") do io\n",
       "           writedlm(io, [x y])\n",
       "       end;\n",
       "\n",
       "julia> readdlm(\"delim_file.txt\")\n",
       "4×2 Array{Any,2}:\n",
       " 1  \"a\"\n",
       " 2  \"b\"\n",
       " 3  \"c\"\n",
       " 4  \"d\"\n",
       "\n",
       "julia> rm(\"delim_file.txt\")\n",
       "\\end{verbatim}\n",
       "\\rule{\\textwidth}{1pt}\n",
       "\\begin{verbatim}\n",
       "readdlm(source, delim::AbstractChar; options...)\n",
       "\\end{verbatim}\n",
       "The end of line delimiter is taken as \\texttt{{\\textbackslash}n}. If all data is numeric, the result will be a numeric array. If some elements cannot be parsed as numbers, a heterogeneous array of numbers and strings is returned.\n",
       "\n",
       "\\section{Examples}\n",
       "\\begin{verbatim}\n",
       "julia> using DelimitedFiles\n",
       "\n",
       "julia> x = [1; 2; 3; 4];\n",
       "\n",
       "julia> y = [1.1; 2.2; 3.3; 4.4];\n",
       "\n",
       "julia> open(\"delim_file.txt\", \"w\") do io\n",
       "           writedlm(io, [x y], ',')\n",
       "       end;\n",
       "\n",
       "julia> readdlm(\"delim_file.txt\", ',')\n",
       "4×2 Array{Float64,2}:\n",
       " 1.0  1.1\n",
       " 2.0  2.2\n",
       " 3.0  3.3\n",
       " 4.0  4.4\n",
       "\n",
       "julia> rm(\"delim_file.txt\")\n",
       "\n",
       "julia> z = [\"a\"; \"b\"; \"c\"; \"d\"];\n",
       "\n",
       "julia> open(\"delim_file.txt\", \"w\") do io\n",
       "           writedlm(io, [x z], ',')\n",
       "       end;\n",
       "\n",
       "julia> readdlm(\"delim_file.txt\", ',')\n",
       "4×2 Array{Any,2}:\n",
       " 1  \"a\"\n",
       " 2  \"b\"\n",
       " 3  \"c\"\n",
       " 4  \"d\"\n",
       "\n",
       "julia> rm(\"delim_file.txt\")\n",
       "\\end{verbatim}\n",
       "\\rule{\\textwidth}{1pt}\n",
       "\\begin{verbatim}\n",
       "readdlm(source, delim::AbstractChar, eol::AbstractChar; options...)\n",
       "\\end{verbatim}\n",
       "If all data is numeric, the result will be a numeric array. If some elements cannot be parsed as numbers, a heterogeneous array of numbers and strings is returned.\n",
       "\n",
       "\\rule{\\textwidth}{1pt}\n",
       "\\begin{verbatim}\n",
       "readdlm(source, delim::AbstractChar, T::Type, eol::AbstractChar; header=false, skipstart=0, skipblanks=true, use_mmap, quotes=true, dims, comments=false, comment_char='#')\n",
       "\\end{verbatim}\n",
       "Read a matrix from the source where each line (separated by \\texttt{eol}) gives one row, with elements separated by the given delimiter. The source can be a text file, stream or byte array. Memory mapped files can be used by passing the byte array representation of the mapped segment as source.\n",
       "\n",
       "If \\texttt{T} is a numeric type, the result is an array of that type, with any non-numeric elements as \\texttt{NaN} for floating-point types, or zero. Other useful values of \\texttt{T} include \\texttt{String}, \\texttt{AbstractString}, and \\texttt{Any}.\n",
       "\n",
       "If \\texttt{header} is \\texttt{true}, the first row of data will be read as header and the tuple \\texttt{(data\\_cells, header\\_cells)} is returned instead of only \\texttt{data\\_cells}.\n",
       "\n",
       "Specifying \\texttt{skipstart} will ignore the corresponding number of initial lines from the input.\n",
       "\n",
       "If \\texttt{skipblanks} is \\texttt{true}, blank lines in the input will be ignored.\n",
       "\n",
       "If \\texttt{use\\_mmap} is \\texttt{true}, the file specified by \\texttt{source} is memory mapped for potential speedups. Default is \\texttt{true} except on Windows. On Windows, you may want to specify \\texttt{true} if the file is large, and is only read once and not written to.\n",
       "\n",
       "If \\texttt{quotes} is \\texttt{true}, columns enclosed within double-quote (\") characters are allowed to contain new lines and column delimiters. Double-quote characters within a quoted field must be escaped with another double-quote.  Specifying \\texttt{dims} as a tuple of the expected rows and columns (including header, if any) may speed up reading of large files.  If \\texttt{comments} is \\texttt{true}, lines beginning with \\texttt{comment\\_char} and text following \\texttt{comment\\_char} in any line are ignored.\n",
       "\n",
       "\\section{Examples}\n",
       "\\begin{verbatim}\n",
       "julia> using DelimitedFiles\n",
       "\n",
       "julia> x = [1; 2; 3; 4];\n",
       "\n",
       "julia> y = [5; 6; 7; 8];\n",
       "\n",
       "julia> open(\"delim_file.txt\", \"w\") do io\n",
       "           writedlm(io, [x y])\n",
       "       end\n",
       "\n",
       "julia> readdlm(\"delim_file.txt\", '\\t', Int, '\\n')\n",
       "4×2 Array{Int64,2}:\n",
       " 1  5\n",
       " 2  6\n",
       " 3  7\n",
       " 4  8\n",
       "\\end{verbatim}\n"
      ],
      "text/markdown": [
       "```\n",
       "readdlm(source, T::Type; options...)\n",
       "```\n",
       "\n",
       "The columns are assumed to be separated by one or more whitespaces. The end of line delimiter is taken as `\\n`.\n",
       "\n",
       "# Examples\n",
       "\n",
       "```jldoctest\n",
       "julia> using DelimitedFiles\n",
       "\n",
       "julia> x = [1; 2; 3; 4];\n",
       "\n",
       "julia> y = [5; 6; 7; 8];\n",
       "\n",
       "julia> open(\"delim_file.txt\", \"w\") do io\n",
       "           writedlm(io, [x y])\n",
       "       end;\n",
       "\n",
       "julia> readdlm(\"delim_file.txt\", Int64)\n",
       "4×2 Array{Int64,2}:\n",
       " 1  5\n",
       " 2  6\n",
       " 3  7\n",
       " 4  8\n",
       "\n",
       "julia> readdlm(\"delim_file.txt\", Float64)\n",
       "4×2 Array{Float64,2}:\n",
       " 1.0  5.0\n",
       " 2.0  6.0\n",
       " 3.0  7.0\n",
       " 4.0  8.0\n",
       "\n",
       "julia> rm(\"delim_file.txt\")\n",
       "```\n",
       "\n",
       "---\n",
       "\n",
       "```\n",
       "readdlm(source, delim::AbstractChar, T::Type; options...)\n",
       "```\n",
       "\n",
       "The end of line delimiter is taken as `\\n`.\n",
       "\n",
       "# Examples\n",
       "\n",
       "```jldoctest\n",
       "julia> using DelimitedFiles\n",
       "\n",
       "julia> x = [1; 2; 3; 4];\n",
       "\n",
       "julia> y = [1.1; 2.2; 3.3; 4.4];\n",
       "\n",
       "julia> open(\"delim_file.txt\", \"w\") do io\n",
       "           writedlm(io, [x y], ',')\n",
       "       end;\n",
       "\n",
       "julia> readdlm(\"delim_file.txt\", ',', Float64)\n",
       "4×2 Array{Float64,2}:\n",
       " 1.0  1.1\n",
       " 2.0  2.2\n",
       " 3.0  3.3\n",
       " 4.0  4.4\n",
       "\n",
       "julia> rm(\"delim_file.txt\")\n",
       "```\n",
       "\n",
       "---\n",
       "\n",
       "```\n",
       "readdlm(source; options...)\n",
       "```\n",
       "\n",
       "The columns are assumed to be separated by one or more whitespaces. The end of line delimiter is taken as `\\n`. If all data is numeric, the result will be a numeric array. If some elements cannot be parsed as numbers, a heterogeneous array of numbers and strings is returned.\n",
       "\n",
       "# Examples\n",
       "\n",
       "```jldoctest\n",
       "julia> using DelimitedFiles\n",
       "\n",
       "julia> x = [1; 2; 3; 4];\n",
       "\n",
       "julia> y = [\"a\"; \"b\"; \"c\"; \"d\"];\n",
       "\n",
       "julia> open(\"delim_file.txt\", \"w\") do io\n",
       "           writedlm(io, [x y])\n",
       "       end;\n",
       "\n",
       "julia> readdlm(\"delim_file.txt\")\n",
       "4×2 Array{Any,2}:\n",
       " 1  \"a\"\n",
       " 2  \"b\"\n",
       " 3  \"c\"\n",
       " 4  \"d\"\n",
       "\n",
       "julia> rm(\"delim_file.txt\")\n",
       "```\n",
       "\n",
       "---\n",
       "\n",
       "```\n",
       "readdlm(source, delim::AbstractChar; options...)\n",
       "```\n",
       "\n",
       "The end of line delimiter is taken as `\\n`. If all data is numeric, the result will be a numeric array. If some elements cannot be parsed as numbers, a heterogeneous array of numbers and strings is returned.\n",
       "\n",
       "# Examples\n",
       "\n",
       "```jldoctest\n",
       "julia> using DelimitedFiles\n",
       "\n",
       "julia> x = [1; 2; 3; 4];\n",
       "\n",
       "julia> y = [1.1; 2.2; 3.3; 4.4];\n",
       "\n",
       "julia> open(\"delim_file.txt\", \"w\") do io\n",
       "           writedlm(io, [x y], ',')\n",
       "       end;\n",
       "\n",
       "julia> readdlm(\"delim_file.txt\", ',')\n",
       "4×2 Array{Float64,2}:\n",
       " 1.0  1.1\n",
       " 2.0  2.2\n",
       " 3.0  3.3\n",
       " 4.0  4.4\n",
       "\n",
       "julia> rm(\"delim_file.txt\")\n",
       "\n",
       "julia> z = [\"a\"; \"b\"; \"c\"; \"d\"];\n",
       "\n",
       "julia> open(\"delim_file.txt\", \"w\") do io\n",
       "           writedlm(io, [x z], ',')\n",
       "       end;\n",
       "\n",
       "julia> readdlm(\"delim_file.txt\", ',')\n",
       "4×2 Array{Any,2}:\n",
       " 1  \"a\"\n",
       " 2  \"b\"\n",
       " 3  \"c\"\n",
       " 4  \"d\"\n",
       "\n",
       "julia> rm(\"delim_file.txt\")\n",
       "```\n",
       "\n",
       "---\n",
       "\n",
       "```\n",
       "readdlm(source, delim::AbstractChar, eol::AbstractChar; options...)\n",
       "```\n",
       "\n",
       "If all data is numeric, the result will be a numeric array. If some elements cannot be parsed as numbers, a heterogeneous array of numbers and strings is returned.\n",
       "\n",
       "---\n",
       "\n",
       "```\n",
       "readdlm(source, delim::AbstractChar, T::Type, eol::AbstractChar; header=false, skipstart=0, skipblanks=true, use_mmap, quotes=true, dims, comments=false, comment_char='#')\n",
       "```\n",
       "\n",
       "Read a matrix from the source where each line (separated by `eol`) gives one row, with elements separated by the given delimiter. The source can be a text file, stream or byte array. Memory mapped files can be used by passing the byte array representation of the mapped segment as source.\n",
       "\n",
       "If `T` is a numeric type, the result is an array of that type, with any non-numeric elements as `NaN` for floating-point types, or zero. Other useful values of `T` include `String`, `AbstractString`, and `Any`.\n",
       "\n",
       "If `header` is `true`, the first row of data will be read as header and the tuple `(data_cells, header_cells)` is returned instead of only `data_cells`.\n",
       "\n",
       "Specifying `skipstart` will ignore the corresponding number of initial lines from the input.\n",
       "\n",
       "If `skipblanks` is `true`, blank lines in the input will be ignored.\n",
       "\n",
       "If `use_mmap` is `true`, the file specified by `source` is memory mapped for potential speedups. Default is `true` except on Windows. On Windows, you may want to specify `true` if the file is large, and is only read once and not written to.\n",
       "\n",
       "If `quotes` is `true`, columns enclosed within double-quote (\") characters are allowed to contain new lines and column delimiters. Double-quote characters within a quoted field must be escaped with another double-quote.  Specifying `dims` as a tuple of the expected rows and columns (including header, if any) may speed up reading of large files.  If `comments` is `true`, lines beginning with `comment_char` and text following `comment_char` in any line are ignored.\n",
       "\n",
       "# Examples\n",
       "\n",
       "```jldoctest\n",
       "julia> using DelimitedFiles\n",
       "\n",
       "julia> x = [1; 2; 3; 4];\n",
       "\n",
       "julia> y = [5; 6; 7; 8];\n",
       "\n",
       "julia> open(\"delim_file.txt\", \"w\") do io\n",
       "           writedlm(io, [x y])\n",
       "       end\n",
       "\n",
       "julia> readdlm(\"delim_file.txt\", '\\t', Int, '\\n')\n",
       "4×2 Array{Int64,2}:\n",
       " 1  5\n",
       " 2  6\n",
       " 3  7\n",
       " 4  8\n",
       "```\n"
      ],
      "text/plain": [
       "\u001b[36m  readdlm(source, T::Type; options...)\u001b[39m\n",
       "\n",
       "  The columns are assumed to be separated by one or more whitespaces. The end\n",
       "  of line delimiter is taken as \u001b[36m\\n\u001b[39m.\n",
       "\n",
       "\u001b[1m  Examples\u001b[22m\n",
       "\u001b[1m  ≡≡≡≡≡≡≡≡≡≡\u001b[22m\n",
       "\n",
       "\u001b[36m  julia> using DelimitedFiles\u001b[39m\n",
       "\u001b[36m  \u001b[39m\n",
       "\u001b[36m  julia> x = [1; 2; 3; 4];\u001b[39m\n",
       "\u001b[36m  \u001b[39m\n",
       "\u001b[36m  julia> y = [5; 6; 7; 8];\u001b[39m\n",
       "\u001b[36m  \u001b[39m\n",
       "\u001b[36m  julia> open(\"delim_file.txt\", \"w\") do io\u001b[39m\n",
       "\u001b[36m             writedlm(io, [x y])\u001b[39m\n",
       "\u001b[36m         end;\u001b[39m\n",
       "\u001b[36m  \u001b[39m\n",
       "\u001b[36m  julia> readdlm(\"delim_file.txt\", Int64)\u001b[39m\n",
       "\u001b[36m  4×2 Array{Int64,2}:\u001b[39m\n",
       "\u001b[36m   1  5\u001b[39m\n",
       "\u001b[36m   2  6\u001b[39m\n",
       "\u001b[36m   3  7\u001b[39m\n",
       "\u001b[36m   4  8\u001b[39m\n",
       "\u001b[36m  \u001b[39m\n",
       "\u001b[36m  julia> readdlm(\"delim_file.txt\", Float64)\u001b[39m\n",
       "\u001b[36m  4×2 Array{Float64,2}:\u001b[39m\n",
       "\u001b[36m   1.0  5.0\u001b[39m\n",
       "\u001b[36m   2.0  6.0\u001b[39m\n",
       "\u001b[36m   3.0  7.0\u001b[39m\n",
       "\u001b[36m   4.0  8.0\u001b[39m\n",
       "\u001b[36m  \u001b[39m\n",
       "\u001b[36m  julia> rm(\"delim_file.txt\")\u001b[39m\n",
       "\n",
       "  ────────────────────────────────────────────────────────────────────────────\n",
       "\n",
       "\u001b[36m  readdlm(source, delim::AbstractChar, T::Type; options...)\u001b[39m\n",
       "\n",
       "  The end of line delimiter is taken as \u001b[36m\\n\u001b[39m.\n",
       "\n",
       "\u001b[1m  Examples\u001b[22m\n",
       "\u001b[1m  ≡≡≡≡≡≡≡≡≡≡\u001b[22m\n",
       "\n",
       "\u001b[36m  julia> using DelimitedFiles\u001b[39m\n",
       "\u001b[36m  \u001b[39m\n",
       "\u001b[36m  julia> x = [1; 2; 3; 4];\u001b[39m\n",
       "\u001b[36m  \u001b[39m\n",
       "\u001b[36m  julia> y = [1.1; 2.2; 3.3; 4.4];\u001b[39m\n",
       "\u001b[36m  \u001b[39m\n",
       "\u001b[36m  julia> open(\"delim_file.txt\", \"w\") do io\u001b[39m\n",
       "\u001b[36m             writedlm(io, [x y], ',')\u001b[39m\n",
       "\u001b[36m         end;\u001b[39m\n",
       "\u001b[36m  \u001b[39m\n",
       "\u001b[36m  julia> readdlm(\"delim_file.txt\", ',', Float64)\u001b[39m\n",
       "\u001b[36m  4×2 Array{Float64,2}:\u001b[39m\n",
       "\u001b[36m   1.0  1.1\u001b[39m\n",
       "\u001b[36m   2.0  2.2\u001b[39m\n",
       "\u001b[36m   3.0  3.3\u001b[39m\n",
       "\u001b[36m   4.0  4.4\u001b[39m\n",
       "\u001b[36m  \u001b[39m\n",
       "\u001b[36m  julia> rm(\"delim_file.txt\")\u001b[39m\n",
       "\n",
       "  ────────────────────────────────────────────────────────────────────────────\n",
       "\n",
       "\u001b[36m  readdlm(source; options...)\u001b[39m\n",
       "\n",
       "  The columns are assumed to be separated by one or more whitespaces. The end\n",
       "  of line delimiter is taken as \u001b[36m\\n\u001b[39m. If all data is numeric, the result will be\n",
       "  a numeric array. If some elements cannot be parsed as numbers, a\n",
       "  heterogeneous array of numbers and strings is returned.\n",
       "\n",
       "\u001b[1m  Examples\u001b[22m\n",
       "\u001b[1m  ≡≡≡≡≡≡≡≡≡≡\u001b[22m\n",
       "\n",
       "\u001b[36m  julia> using DelimitedFiles\u001b[39m\n",
       "\u001b[36m  \u001b[39m\n",
       "\u001b[36m  julia> x = [1; 2; 3; 4];\u001b[39m\n",
       "\u001b[36m  \u001b[39m\n",
       "\u001b[36m  julia> y = [\"a\"; \"b\"; \"c\"; \"d\"];\u001b[39m\n",
       "\u001b[36m  \u001b[39m\n",
       "\u001b[36m  julia> open(\"delim_file.txt\", \"w\") do io\u001b[39m\n",
       "\u001b[36m             writedlm(io, [x y])\u001b[39m\n",
       "\u001b[36m         end;\u001b[39m\n",
       "\u001b[36m  \u001b[39m\n",
       "\u001b[36m  julia> readdlm(\"delim_file.txt\")\u001b[39m\n",
       "\u001b[36m  4×2 Array{Any,2}:\u001b[39m\n",
       "\u001b[36m   1  \"a\"\u001b[39m\n",
       "\u001b[36m   2  \"b\"\u001b[39m\n",
       "\u001b[36m   3  \"c\"\u001b[39m\n",
       "\u001b[36m   4  \"d\"\u001b[39m\n",
       "\u001b[36m  \u001b[39m\n",
       "\u001b[36m  julia> rm(\"delim_file.txt\")\u001b[39m\n",
       "\n",
       "  ────────────────────────────────────────────────────────────────────────────\n",
       "\n",
       "\u001b[36m  readdlm(source, delim::AbstractChar; options...)\u001b[39m\n",
       "\n",
       "  The end of line delimiter is taken as \u001b[36m\\n\u001b[39m. If all data is numeric, the result\n",
       "  will be a numeric array. If some elements cannot be parsed as numbers, a\n",
       "  heterogeneous array of numbers and strings is returned.\n",
       "\n",
       "\u001b[1m  Examples\u001b[22m\n",
       "\u001b[1m  ≡≡≡≡≡≡≡≡≡≡\u001b[22m\n",
       "\n",
       "\u001b[36m  julia> using DelimitedFiles\u001b[39m\n",
       "\u001b[36m  \u001b[39m\n",
       "\u001b[36m  julia> x = [1; 2; 3; 4];\u001b[39m\n",
       "\u001b[36m  \u001b[39m\n",
       "\u001b[36m  julia> y = [1.1; 2.2; 3.3; 4.4];\u001b[39m\n",
       "\u001b[36m  \u001b[39m\n",
       "\u001b[36m  julia> open(\"delim_file.txt\", \"w\") do io\u001b[39m\n",
       "\u001b[36m             writedlm(io, [x y], ',')\u001b[39m\n",
       "\u001b[36m         end;\u001b[39m\n",
       "\u001b[36m  \u001b[39m\n",
       "\u001b[36m  julia> readdlm(\"delim_file.txt\", ',')\u001b[39m\n",
       "\u001b[36m  4×2 Array{Float64,2}:\u001b[39m\n",
       "\u001b[36m   1.0  1.1\u001b[39m\n",
       "\u001b[36m   2.0  2.2\u001b[39m\n",
       "\u001b[36m   3.0  3.3\u001b[39m\n",
       "\u001b[36m   4.0  4.4\u001b[39m\n",
       "\u001b[36m  \u001b[39m\n",
       "\u001b[36m  julia> rm(\"delim_file.txt\")\u001b[39m\n",
       "\u001b[36m  \u001b[39m\n",
       "\u001b[36m  julia> z = [\"a\"; \"b\"; \"c\"; \"d\"];\u001b[39m\n",
       "\u001b[36m  \u001b[39m\n",
       "\u001b[36m  julia> open(\"delim_file.txt\", \"w\") do io\u001b[39m\n",
       "\u001b[36m             writedlm(io, [x z], ',')\u001b[39m\n",
       "\u001b[36m         end;\u001b[39m\n",
       "\u001b[36m  \u001b[39m\n",
       "\u001b[36m  julia> readdlm(\"delim_file.txt\", ',')\u001b[39m\n",
       "\u001b[36m  4×2 Array{Any,2}:\u001b[39m\n",
       "\u001b[36m   1  \"a\"\u001b[39m\n",
       "\u001b[36m   2  \"b\"\u001b[39m\n",
       "\u001b[36m   3  \"c\"\u001b[39m\n",
       "\u001b[36m   4  \"d\"\u001b[39m\n",
       "\u001b[36m  \u001b[39m\n",
       "\u001b[36m  julia> rm(\"delim_file.txt\")\u001b[39m\n",
       "\n",
       "  ────────────────────────────────────────────────────────────────────────────\n",
       "\n",
       "\u001b[36m  readdlm(source, delim::AbstractChar, eol::AbstractChar; options...)\u001b[39m\n",
       "\n",
       "  If all data is numeric, the result will be a numeric array. If some elements\n",
       "  cannot be parsed as numbers, a heterogeneous array of numbers and strings is\n",
       "  returned.\n",
       "\n",
       "  ────────────────────────────────────────────────────────────────────────────\n",
       "\n",
       "\u001b[36m  readdlm(source, delim::AbstractChar, T::Type, eol::AbstractChar; header=false, skipstart=0, skipblanks=true, use_mmap, quotes=true, dims, comments=false, comment_char='#')\u001b[39m\n",
       "\n",
       "  Read a matrix from the source where each line (separated by \u001b[36meol\u001b[39m) gives one\n",
       "  row, with elements separated by the given delimiter. The source can be a\n",
       "  text file, stream or byte array. Memory mapped files can be used by passing\n",
       "  the byte array representation of the mapped segment as source.\n",
       "\n",
       "  If \u001b[36mT\u001b[39m is a numeric type, the result is an array of that type, with any\n",
       "  non-numeric elements as \u001b[36mNaN\u001b[39m for floating-point types, or zero. Other useful\n",
       "  values of \u001b[36mT\u001b[39m include \u001b[36mString\u001b[39m, \u001b[36mAbstractString\u001b[39m, and \u001b[36mAny\u001b[39m.\n",
       "\n",
       "  If \u001b[36mheader\u001b[39m is \u001b[36mtrue\u001b[39m, the first row of data will be read as header and the\n",
       "  tuple \u001b[36m(data_cells, header_cells)\u001b[39m is returned instead of only \u001b[36mdata_cells\u001b[39m.\n",
       "\n",
       "  Specifying \u001b[36mskipstart\u001b[39m will ignore the corresponding number of initial lines\n",
       "  from the input.\n",
       "\n",
       "  If \u001b[36mskipblanks\u001b[39m is \u001b[36mtrue\u001b[39m, blank lines in the input will be ignored.\n",
       "\n",
       "  If \u001b[36muse_mmap\u001b[39m is \u001b[36mtrue\u001b[39m, the file specified by \u001b[36msource\u001b[39m is memory mapped for\n",
       "  potential speedups. Default is \u001b[36mtrue\u001b[39m except on Windows. On Windows, you may\n",
       "  want to specify \u001b[36mtrue\u001b[39m if the file is large, and is only read once and not\n",
       "  written to.\n",
       "\n",
       "  If \u001b[36mquotes\u001b[39m is \u001b[36mtrue\u001b[39m, columns enclosed within double-quote (\") characters are\n",
       "  allowed to contain new lines and column delimiters. Double-quote characters\n",
       "  within a quoted field must be escaped with another double-quote. Specifying\n",
       "  \u001b[36mdims\u001b[39m as a tuple of the expected rows and columns (including header, if any)\n",
       "  may speed up reading of large files. If \u001b[36mcomments\u001b[39m is \u001b[36mtrue\u001b[39m, lines beginning\n",
       "  with \u001b[36mcomment_char\u001b[39m and text following \u001b[36mcomment_char\u001b[39m in any line are ignored.\n",
       "\n",
       "\u001b[1m  Examples\u001b[22m\n",
       "\u001b[1m  ≡≡≡≡≡≡≡≡≡≡\u001b[22m\n",
       "\n",
       "\u001b[36m  julia> using DelimitedFiles\u001b[39m\n",
       "\u001b[36m  \u001b[39m\n",
       "\u001b[36m  julia> x = [1; 2; 3; 4];\u001b[39m\n",
       "\u001b[36m  \u001b[39m\n",
       "\u001b[36m  julia> y = [5; 6; 7; 8];\u001b[39m\n",
       "\u001b[36m  \u001b[39m\n",
       "\u001b[36m  julia> open(\"delim_file.txt\", \"w\") do io\u001b[39m\n",
       "\u001b[36m             writedlm(io, [x y])\u001b[39m\n",
       "\u001b[36m         end\u001b[39m\n",
       "\u001b[36m  \u001b[39m\n",
       "\u001b[36m  julia> readdlm(\"delim_file.txt\", '\\t', Int, '\\n')\u001b[39m\n",
       "\u001b[36m  4×2 Array{Int64,2}:\u001b[39m\n",
       "\u001b[36m   1  5\u001b[39m\n",
       "\u001b[36m   2  6\u001b[39m\n",
       "\u001b[36m   3  7\u001b[39m\n",
       "\u001b[36m   4  8\u001b[39m"
      ]
     },
     "execution_count": 72,
     "metadata": {},
     "output_type": "execute_result"
    }
   ],
   "source": [
    "?readdlm"
   ]
  },
  {
   "cell_type": "code",
   "execution_count": 95,
   "metadata": {},
   "outputs": [
    {
     "data": {
      "text/plain": [
       "\"/home/abarth/Lectures/JuliaTutorial\""
      ]
     },
     "execution_count": 95,
     "metadata": {},
     "output_type": "execute_result"
    }
   ],
   "source": [
    "pwd()"
   ]
  },
  {
   "cell_type": "markdown",
   "metadata": {},
   "source": [
    "# The file system\n",
    "\n",
    "* On every current operating system, files are organized in a tree of directories starting from a root directory\n",
    "* The absolute path of a directory or file defines which directories to follow starting from the root directory to the given directory or file\n",
    "* In Linux/UNIX/Max OS X, files and directory names are separated by a slash (/), on Windows by a backslash (\\\\)\n",
    "* In order to avoid to deal with long path names, every program has a current working directory\n",
    "* The current working directory from Julia can be queried with the command `pwd()`.\n",
    "* The relative path of a directory or file defines which directories to follow starting from the current directory to the given directory or file\n",
    "* In relative path, two dots (`..`) represent the parent directory.\n",
    "* To change the current directory, you can use the command `cd`. For Linux and Mac OS X:\n",
    "\n",
    "```julia\n",
    "cd(\"/home/MyDir\")\n",
    "``` \n",
    "\n",
    "Under Windows you need to you the following:\n",
    "\n",
    "```julia\n",
    "cd(\"C:\\\\Users\\\\MyDir\")\n",
    "```\n",
    "\n",
    "Note that here two backslashes are necessary ([why?](https://stackoverflow.com/questions/28328052/why-do-i-have-to-use-double-backslashes-for-file-paths-in-code))."
   ]
  },
  {
   "cell_type": "markdown",
   "metadata": {},
   "source": [
    "# Importing/Exporting data\n",
    "\n",
    "## ASCII format\n",
    "\n",
    "* To read ASCII data in Julia, tables should be saved as an ASCII text file using space or a special characters as separator. Each line corresponds to one row. Make sure that a dot is used as a decimal separator."
   ]
  },
  {
   "cell_type": "code",
   "execution_count": 96,
   "metadata": {},
   "outputs": [
    {
     "data": {
      "text/plain": [
       "8784×8 Array{Float64,2}:\n",
       " 2004.0   1.0   1.0   0.0  0.0   0.297  0.003  0.0\n",
       " 2004.0   1.0   1.0   1.0  0.0   0.302  0.002  0.0\n",
       " 2004.0   1.0   1.0   2.0  0.0   0.295  0.006  0.0\n",
       " 2004.0   1.0   1.0   3.0  0.0   0.28   0.003  0.0\n",
       " 2004.0   1.0   1.0   4.0  0.0   0.236  0.004  0.0\n",
       " 2004.0   1.0   1.0   5.0  0.0   0.192  0.003  0.0\n",
       " 2004.0   1.0   1.0   6.0  0.0   0.164  0.002  0.0\n",
       " 2004.0   1.0   1.0   7.0  0.0   0.153  0.003  0.0\n",
       " 2004.0   1.0   1.0   8.0  0.0   0.126  0.002  0.0\n",
       " 2004.0   1.0   1.0   9.0  0.0   0.094  0.002  0.0\n",
       " 2004.0   1.0   1.0  10.0  0.0   0.067  0.002  0.0\n",
       " 2004.0   1.0   1.0  11.0  0.0   0.069  0.002  0.0\n",
       " 2004.0   1.0   1.0  12.0  0.0   0.08   0.001  0.0\n",
       "    ⋮                            ⋮                \n",
       " 2004.0  12.0  31.0  12.0  0.0   0.078  0.003  0.0\n",
       " 2004.0  12.0  31.0  13.0  0.0   0.031  0.002  0.0\n",
       " 2004.0  12.0  31.0  14.0  0.0  -0.002  0.005  0.0\n",
       " 2004.0  12.0  31.0  15.0  0.0  -0.025  0.001  0.0\n",
       " 2004.0  12.0  31.0  16.0  0.0  -0.037  0.004  0.0\n",
       " 2004.0  12.0  31.0  17.0  0.0  -0.029  0.004  0.0\n",
       " 2004.0  12.0  31.0  18.0  0.0   0.012  0.004  0.0\n",
       " 2004.0  12.0  31.0  19.0  0.0   0.018  0.001  0.0\n",
       " 2004.0  12.0  31.0  20.0  0.0   0.085  0.003  0.0\n",
       " 2004.0  12.0  31.0  21.0  0.0   0.106  0.01   0.0\n",
       " 2004.0  12.0  31.0  22.0  0.0   0.142  0.004  0.0\n",
       " 2004.0  12.0  31.0  23.0  0.0   0.199  0.007  0.0"
      ]
     },
     "execution_count": 96,
     "metadata": {},
     "output_type": "execute_result"
    }
   ],
   "source": [
    "using DelimitedFiles\n",
    "data  = readdlm(\"8762075.sealevel.txt\",comments = true,comment_char='%')"
   ]
  },
  {
   "cell_type": "markdown",
   "metadata": {},
   "source": [
    "* Saving the variable data in the file data.txt using the ASCII format"
   ]
  },
  {
   "cell_type": "code",
   "execution_count": 74,
   "metadata": {},
   "outputs": [],
   "source": [
    "writedlm(\"data.txt\",data)"
   ]
  },
  {
   "cell_type": "markdown",
   "metadata": {},
   "source": [
    "## NetCDF format\n",
    "\n",
    "* Reading a variable called `var`  from a NetCDF file\n",
    "\n",
    "```julia\n",
    "using NCDatasets\n",
    "ds = Dataset(\"file.nc\")\n",
    "data = ds[\"var\"][:];\n",
    "close(ds)\n",
    "```"
   ]
  },
  {
   "cell_type": "markdown",
   "metadata": {},
   "source": [
    "* Writing a variable called `var` data to a NetCDF file\n",
    "\n",
    "```julia\n",
    "ds = Dataset(\"file.nc\",\"c\")\n",
    "\n",
    "# Define the dimension \"lon\" and \"lat\" with the size 100 and 110 resp.\n",
    "defDim(ds,\"lon\",100)\n",
    "defDim(ds,\"lat\",110)\n",
    "\n",
    "\n",
    "# Define the variables temperature and salinity\n",
    "v = defVar(ds,\"temperature\",Float32,(\"lon\",\"lat\"))\n",
    "# write a the complete data set\n",
    "v[:,:] = data\n",
    "close(ds)\n",
    "```"
   ]
  },
  {
   "cell_type": "markdown",
   "metadata": {},
   "source": [
    "# Scripts\n",
    "\n",
    "* A series of commands can be collected in a script file\n",
    "* A script file has the extension `.jl`\n",
    "* How can Julia find your script file?\n",
    "    * it must be either in your current work directory\n",
    "    * the directory containing the script file must be added to the search path using `LOAD_PATH`. For example\n",
    "\n",
    "```julia\n",
    "push!(LOAD_PATH,\"/some/path\")\n",
    "```\n",
    "\n",
    "* The code in a script is executed when using `include`:\n",
    "\n",
    "```\n",
    "include(\"filename.jl\")\n",
    "```\n",
    "\n",
    "\n",
    "# Functions\n",
    "\n",
    "* Functions are similar to scripts\n",
    "* Unlike scripts, functions can have input/output parameters\n",
    "* For example a function calculating the speed of ocean current based on the zonal and meridional component"
   ]
  },
  {
   "cell_type": "code",
   "execution_count": 97,
   "metadata": {},
   "outputs": [
    {
     "name": "stdout",
     "output_type": "stream",
     "text": [
      "Hi from my frist script\n"
     ]
    }
   ],
   "source": [
    "include(\"myscript.jl\")"
   ]
  },
  {
   "cell_type": "code",
   "execution_count": 75,
   "metadata": {},
   "outputs": [
    {
     "data": {
      "text/plain": [
       "current_speed (generic function with 1 method)"
      ]
     },
     "execution_count": 75,
     "metadata": {},
     "output_type": "execute_result"
    }
   ],
   "source": [
    "function current_speed(u,v)\n",
    "   speed = sqrt(u^2 + v^2)\n",
    "   return speed\n",
    "end"
   ]
  },
  {
   "cell_type": "code",
   "execution_count": null,
   "metadata": {},
   "outputs": [],
   "source": []
  },
  {
   "cell_type": "code",
   "execution_count": 98,
   "metadata": {},
   "outputs": [
    {
     "data": {
      "text/plain": [
       "7.0710678118654755"
      ]
     },
     "execution_count": 98,
     "metadata": {},
     "output_type": "execute_result"
    }
   ],
   "source": [
    "speed2 = current_speed(5,5)"
   ]
  },
  {
   "cell_type": "code",
   "execution_count": 99,
   "metadata": {},
   "outputs": [
    {
     "data": {
      "text/plain": [
       "5.830951894845301"
      ]
     },
     "execution_count": 99,
     "metadata": {},
     "output_type": "execute_result"
    }
   ],
   "source": [
    "speed = current_speed(3,5)\n"
   ]
  },
  {
   "cell_type": "code",
   "execution_count": 100,
   "metadata": {},
   "outputs": [
    {
     "data": {
      "text/plain": [
       "3-element Array{Float64,1}:\n",
       " 5.830951894845301\n",
       " 4.242640687119285\n",
       " 5.656854249492381"
      ]
     },
     "execution_count": 100,
     "metadata": {},
     "output_type": "execute_result"
    }
   ],
   "source": [
    "speed = current_speed.([3,3,4],[5,3,4])\n"
   ]
  },
  {
   "cell_type": "code",
   "execution_count": 104,
   "metadata": {},
   "outputs": [
    {
     "name": "stdout",
     "output_type": "stream",
     "text": [
      "It's sunny"
     ]
    }
   ],
   "source": [
    "precipitation = 0\n",
    "if precipitation == 0\n",
    "    print(\"It's sunny\")\n",
    "end"
   ]
  },
  {
   "cell_type": "code",
   "execution_count": 102,
   "metadata": {},
   "outputs": [
    {
     "name": "stdout",
     "output_type": "stream",
     "text": [
      "(i, P[i]) = (1, 0)\n",
      "(i, P[i]) = (2, 0)\n",
      "(i, P[i]) = (3, 0)\n",
      "(i, P[i]) = (4, 3)\n",
      "(i, P[i]) = (5, 4)\n",
      "(i, P[i]) = (6, 5)\n",
      "(i, P[i]) = (7, 3)\n",
      "(i, P[i]) = (8, 0)\n",
      "(i, P[i]) = (9, 0)\n"
     ]
    }
   ],
   "source": [
    "P = [0,0,0,3,4,5,3,0,0]\n",
    "\n",
    "function withoutrain(P)\n",
    "    for i = 1:9\n",
    "       @show i,P[i]\n",
    "    end\n",
    "    return 5\n",
    "end"
   ]
  },
  {
   "cell_type": "code",
   "execution_count": 105,
   "metadata": {},
   "outputs": [
    {
     "name": "stdout",
     "output_type": "stream",
     "text": [
      "days = 1\n",
      "days = 2\n",
      "days = 3\n",
      "days = 3\n",
      "days = 3\n",
      "days = 3\n",
      "days = 3\n",
      "days = 4\n",
      "days = 5\n"
     ]
    },
    {
     "data": {
      "text/plain": [
       "5"
      ]
     },
     "execution_count": 105,
     "metadata": {},
     "output_type": "execute_result"
    }
   ],
   "source": [
    "function dayswithoutrain(P)\n",
    "    #....\n",
    "    days = 0\n",
    "    for i = 1:length(P)\n",
    "        # do something with i\n",
    "        if P[i] == 0\n",
    "            # count\n",
    "            days = days+1\n",
    "        end\n",
    "        @show days\n",
    "    end    \n",
    "    return days\n",
    "end    \n",
    "days = dayswithoutrain(P)    "
   ]
  },
  {
   "cell_type": "code",
   "execution_count": 80,
   "metadata": {},
   "outputs": [],
   "source": [
    "using PyPlot"
   ]
  },
  {
   "cell_type": "markdown",
   "metadata": {},
   "source": [
    "# Modules\n",
    "\n",
    "Functions can be grouped into a module. \n",
    "\n",
    "## Installation of modules\n",
    "\n",
    "To install a module use `Pkg.add`, for example:"
   ]
  },
  {
   "cell_type": "markdown",
   "metadata": {},
   "source": [
    "```julia\n",
    "using Pkg\n",
    "Pkg.add(\"PyPlot\")\n",
    "```"
   ]
  },
  {
   "cell_type": "markdown",
   "metadata": {},
   "source": [
    "A module can be upgraded with:"
   ]
  },
  {
   "cell_type": "markdown",
   "metadata": {},
   "source": [
    "```julia\n",
    "Pkg.update(\"PyPlot\")\n",
    "```"
   ]
  },
  {
   "cell_type": "markdown",
   "metadata": {},
   "source": [
    "A no-longer used module can be removed with `Pkg.rm(\"ModuleName\")`. "
   ]
  },
  {
   "cell_type": "markdown",
   "metadata": {},
   "source": [
    "## Using modules\n",
    "\n",
    "To access a function (e.g. the function `plot`) inside a module (e.g. `PyPlot`) one need to load the module with `using`. The following loads the module `PyPlot`:\n",
    "\n",
    "```julia\n",
    "using PyPlot\n",
    "```\n",
    "\n",
    "Now the function `plot` can be called.\n",
    "Alternatively, one can also use `import`:\n",
    "\n",
    "```julia\n",
    "import PyPlot\n",
    "```\n",
    "The function plot can be called as `PyPlot.plot`. The import statement is useful to indicate in the source code the origin of the different functions (and avoid possible naming conflicts).\n",
    "\n",
    "A short summary of a module is generally available by issuing\n",
    "\n",
    "```julia\n",
    "?ModuleName\n",
    "```"
   ]
  },
  {
   "cell_type": "code",
   "execution_count": 106,
   "metadata": {},
   "outputs": [],
   "source": [
    "using PyPlot"
   ]
  },
  {
   "cell_type": "code",
   "execution_count": 119,
   "metadata": {},
   "outputs": [
    {
     "data": {
      "image/png": "[encoded data removed]",
      "text/plain": [
       "Figure(PyObject <Figure size 640x480 with 1 Axes>)"
      ]
     },
     "metadata": {},
     "output_type": "display_data"
    }
   ],
   "source": [
    "plot([10,20,30],[1,2,3],\"b.-\",label=\"first plot\")\n",
    "plot([10,20,30],[2,3,4],\"rx-\",label=\"second plot\")\n",
    "legend()\n",
    "savefig(\"my_figure.png\")"
   ]
  },
  {
   "cell_type": "markdown",
   "metadata": {},
   "source": [
    "# Dates\n",
    "\n",
    "* Julia has a structure called `DateTime` to represent a date and time."
   ]
  },
  {
   "cell_type": "code",
   "execution_count": 120,
   "metadata": {},
   "outputs": [
    {
     "data": {
      "text/plain": [
       "1999-12-31T23:59:59"
      ]
     },
     "execution_count": 120,
     "metadata": {},
     "output_type": "execute_result"
    }
   ],
   "source": [
    "using Dates\n",
    "lastsecond = DateTime(1999,12,31,23,59,59)"
   ]
  },
  {
   "cell_type": "markdown",
   "metadata": {},
   "source": [
    "* The difference between two `DateTime`s returns a structure representing the number of milliseconds."
   ]
  },
  {
   "cell_type": "code",
   "execution_count": 84,
   "metadata": {},
   "outputs": [
    {
     "data": {
      "text/plain": [
       "2001-01-01T00:00:00"
      ]
     },
     "execution_count": 84,
     "metadata": {},
     "output_type": "execute_result"
    }
   ],
   "source": [
    "DateTime(2001,1,1)"
   ]
  },
  {
   "cell_type": "code",
   "execution_count": 121,
   "metadata": {},
   "outputs": [
    {
     "data": {
      "text/plain": [
       "31622400000 milliseconds"
      ]
     },
     "execution_count": 121,
     "metadata": {},
     "output_type": "execute_result"
    }
   ],
   "source": [
    "DateTime(2001,1,1) - DateTime(2000,1,1)"
   ]
  },
  {
   "cell_type": "markdown",
   "metadata": {},
   "source": [
    "* Convert this in days:"
   ]
  },
  {
   "cell_type": "code",
   "execution_count": 122,
   "metadata": {},
   "outputs": [
    {
     "data": {
      "text/plain": [
       "366 days"
      ]
     },
     "execution_count": 122,
     "metadata": {},
     "output_type": "execute_result"
    }
   ],
   "source": [
    "\n",
    "Dates.Day(DateTime(2001,1,1) - DateTime(2000,1,1))"
   ]
  },
  {
   "cell_type": "markdown",
   "metadata": {},
   "source": [
    "* add a duration to a date"
   ]
  },
  {
   "cell_type": "code",
   "execution_count": 87,
   "metadata": {},
   "outputs": [
    {
     "data": {
      "text/plain": [
       "2001-01-01T00:00:00"
      ]
     },
     "execution_count": 87,
     "metadata": {},
     "output_type": "execute_result"
    }
   ],
   "source": [
    "DateTime(2000,1,1) + Dates.Day(366)"
   ]
  },
  {
   "cell_type": "code",
   "execution_count": 123,
   "metadata": {},
   "outputs": [
    {
     "data": {
      "text/plain": [
       "2019-09-30T14:50:06.51"
      ]
     },
     "execution_count": 123,
     "metadata": {},
     "output_type": "execute_result"
    }
   ],
   "source": [
    "now()"
   ]
  },
  {
   "cell_type": "code",
   "execution_count": 146,
   "metadata": {},
   "outputs": [
    {
     "data": {
      "text/plain": [
       "343"
      ]
     },
     "execution_count": 146,
     "metadata": {},
     "output_type": "execute_result"
    }
   ],
   "source": [
    "Dates.value(Date(2020,9,7) - Date(now())) "
   ]
  },
  {
   "cell_type": "code",
   "execution_count": 147,
   "metadata": {},
   "outputs": [
    {
     "data": {
      "text/plain": [
       "342.3657445486111"
      ]
     },
     "execution_count": 147,
     "metadata": {},
     "output_type": "execute_result"
    }
   ],
   "source": [
    "Dates.value(DateTime(2020,9,7) - now()) / 1000 / 60 / 60 / 24"
   ]
  },
  {
   "cell_type": "code",
   "execution_count": 89,
   "metadata": {},
   "outputs": [
    {
     "data": {
      "text/plain": [
       "-23.5668075462963"
      ]
     },
     "execution_count": 89,
     "metadata": {},
     "output_type": "execute_result"
    }
   ],
   "source": [
    "Dates.value(DateTime(2019,9,7) - now()) / 1000 / 60 / 60 / 24"
   ]
  },
  {
   "cell_type": "code",
   "execution_count": 126,
   "metadata": {},
   "outputs": [
    {
     "data": {
      "text/plain": [
       "2019-09-30"
      ]
     },
     "execution_count": 126,
     "metadata": {},
     "output_type": "execute_result"
    }
   ],
   "source": [
    "Date(now())"
   ]
  },
  {
   "cell_type": "markdown",
   "metadata": {},
   "source": [
    "In how many days is your next birthday?"
   ]
  },
  {
   "cell_type": "markdown",
   "metadata": {},
   "source": [
    "## Loops\n",
    "\n",
    "* Let your computer do repetitive tasks!\n",
    "* Loops have a counter which takes successively all elements of a row vector"
   ]
  },
  {
   "cell_type": "code",
   "execution_count": 148,
   "metadata": {},
   "outputs": [
    {
     "name": "stdout",
     "output_type": "stream",
     "text": [
      "i = 1\n",
      "i = 2\n",
      "i = 10\n",
      "i = 20\n"
     ]
    }
   ],
   "source": [
    "for i = [1 2 10 20]\n",
    "    @show i\n",
    "end"
   ]
  },
  {
   "cell_type": "markdown",
   "metadata": {},
   "source": [
    "* Loops are often used with a range of values"
   ]
  },
  {
   "cell_type": "code",
   "execution_count": 149,
   "metadata": {},
   "outputs": [
    {
     "name": "stdout",
     "output_type": "stream",
     "text": [
      "i = 1\n",
      "i = 2\n",
      "i = 3\n",
      "i = 4\n",
      "i = 5\n"
     ]
    }
   ],
   "source": [
    "for i = 1:5\n",
    "  @show i\n",
    "end"
   ]
  },
  {
   "cell_type": "markdown",
   "metadata": {},
   "source": [
    "* Explicit loops can sometimes be avoided:\n",
    "* For example, sum all integer from 1 to 10"
   ]
  },
  {
   "cell_type": "code",
   "execution_count": 93,
   "metadata": {},
   "outputs": [
    {
     "name": "stdout",
     "output_type": "stream",
     "text": [
      "(i, total) = (1, 1)\n",
      "(i, total) = (2, 3)\n",
      "(i, total) = (3, 6)\n",
      "(i, total) = (4, 10)\n",
      "(i, total) = (5, 15)\n",
      "(i, total) = (6, 21)\n",
      "(i, total) = (7, 28)\n",
      "(i, total) = (8, 36)\n",
      "(i, total) = (9, 45)\n",
      "(i, total) = (10, 55)\n",
      "total = 55\n"
     ]
    },
    {
     "data": {
      "text/plain": [
       "55"
      ]
     },
     "execution_count": 93,
     "metadata": {},
     "output_type": "execute_result"
    }
   ],
   "source": [
    "function sumupto(N)\n",
    "   total = 0;\n",
    "   for i = 1:N\n",
    "        total = total + i;\n",
    "        @show i,total\n",
    "   end\n",
    "    @show total\n",
    "    return total\n",
    "end\n",
    "S = sumupto(10)"
   ]
  },
  {
   "cell_type": "code",
   "execution_count": 94,
   "metadata": {},
   "outputs": [
    {
     "data": {
      "text/plain": [
       "5"
      ]
     },
     "execution_count": 94,
     "metadata": {},
     "output_type": "execute_result"
    }
   ],
   "source": [
    "length(findall(P .== 0))"
   ]
  },
  {
   "cell_type": "markdown",
   "metadata": {},
   "source": [
    "Can simply be computed as `sum(1:10)`.\n",
    "\n",
    "# if-statement\n",
    "\n",
    "* Sometimes your code needs to behave differently depending on some conditions.\n",
    "\n",
    "* if-statement has the following structure.\n",
    "\n",
    "```julia\n",
    "if some_conditions\n",
    "  # do something\n",
    "else\n",
    "  # do something else\n",
    "end\n",
    "```\n",
    "The else section can be omitted.\n",
    "\n",
    "For example.\n",
    "\n",
    "```julia\n",
    "if x < 0\n",
    "   x = -x;\n",
    "end\n",
    "```\n",
    "\n",
    "* Which Julia function implements the last code example?"
   ]
  }
 ],
 "metadata": {
  "@webio": {
   "lastCommId": null,
   "lastKernelId": null
  },
  "kernelspec": {
   "display_name": "Julia 1.2.0",
   "language": "julia",
   "name": "julia-1.2"
  },
  "language_info": {
   "file_extension": ".jl",
   "mimetype": "application/julia",
   "name": "julia",
   "version": "1.2.0"
  }
 },
 "nbformat": 4,
 "nbformat_minor": 1
}
