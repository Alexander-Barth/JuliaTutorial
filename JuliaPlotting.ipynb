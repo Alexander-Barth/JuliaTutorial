{
 "cells": [
  {
   "cell_type": "markdown",
   "metadata": {},
   "source": [
    "# Plotting\n",
    "\n",
    "## One-dimensional data (e.g. time series, vertical profiles,...)"
   ]
  },
  {
   "cell_type": "markdown",
   "metadata": {},
   "source": [
    "```julia\n",
    "using PyPlot\n",
    "plot(x,y,format)\n",
    "```"
   ]
  },
  {
   "cell_type": "markdown",
   "metadata": {},
   "source": [
    "If some package cannot be loaded, then you might need to install them with `using Pkg; Pkg.add(\"PACKAGE\")`."
   ]
  },
  {
   "cell_type": "code",
   "execution_count": null,
   "metadata": {},
   "outputs": [],
   "source": [
    "using ImageIO, Images, VideoIO, FileIO, Printf, PyPlot"
   ]
  },
  {
   "cell_type": "code",
   "execution_count": null,
   "metadata": {},
   "outputs": [],
   "source": [
    "clf() # clear figure\n",
    "x = [1,2,3]\n",
    "y = [2,1,3]\n",
    "using PyPlot\n",
    "plot(x,y,\"r--\")\n",
    "plot(x,2*y,\"b-\")\n",
    "title(\"my figure\")\n",
    "xlabel(\"time\")\n",
    "ylabel(\"temp\");"
   ]
  },
  {
   "cell_type": "markdown",
   "metadata": {},
   "source": [
    "* Draws a line with the values in x and in y as x- (horizontal) and y-axis (vertical) respectively. With format one can specify the color (blue (\"b\"), red (\"r\"), green (\"g\"), ...) and style of the line (solid (-), dots (.), dotted (:), ...)"
   ]
  },
  {
   "cell_type": "markdown",
   "metadata": {},
   "source": [
    "Download these data (sea level time series in the West Florida Shelf, in the 6th column) and make a plot, with a solid line in green. The date can be derived from the 5 first columns, using the command datenum. Include labels with the variable units (meters) and the date, and add a legend."
   ]
  },
  {
   "cell_type": "markdown",
   "metadata": {},
   "source": [
    "At which date did the sea level reach its maximum? "
   ]
  },
  {
   "cell_type": "markdown",
   "metadata": {},
   "source": [
    "## Two-dimensional data (e.g. horizontal sections, ...)\n",
    "\n",
    "\n",
    "```julia\n",
    "pcolor(x,y,v)\n",
    "```\n",
    "\n",
    "* The value within a rectangle defined by x and y is drawn by color depending on v and on the color map. \n",
    "\n",
    "* show the color bar\n",
    "\n",
    "```julia\n",
    "colorbar()\n",
    "```\n",
    "\n",
    "* show color bar relating values and colors\n",
    "\n",
    "* Missing values are unfortunatetly not directly handeld by `PyPlot'.\n",
    "\n",
    "## Annotating your graphs\n",
    "\n",
    "\n",
    "* give a title to the current figure\n",
    "\n",
    "```julia\n",
    "title(\"my figure\")\n",
    "```\n",
    "\n",
    "* give a name to the x- and y-axis\n",
    "\n",
    "```julia\n",
    "xlabel(\"my label\"), ylabel(\"my label\")\n",
    "```\n",
    "\n",
    "* Save the figure as a PNG file. For a EPS file use the file extension. Do not save images in JPEG as it degrades the quality of the figure.\n",
    "\n",
    "```julia\n",
    "savefig(\"file.png\")\n",
    "```"
   ]
  },
  {
   "cell_type": "markdown",
   "metadata": {},
   "source": [
    "# Animations\n",
    "\n"
   ]
  },
  {
   "cell_type": "code",
   "execution_count": null,
   "metadata": {},
   "outputs": [],
   "source": [
    "\n",
    "\n",
    "data =  [sin(x)*sin(y)*cos(t) for x = 0:0.1:2π, y = 0:0.1:2π, t = 0:0.1:2π];\n",
    "filenames = [@sprintf(\"image_frame_%04d.png\",n) for n = 1:size(data,3)];"
   ]
  },
  {
   "cell_type": "markdown",
   "metadata": {},
   "source": [
    "Make the images"
   ]
  },
  {
   "cell_type": "code",
   "execution_count": null,
   "metadata": {},
   "outputs": [],
   "source": [
    "for n = 1:size(data,3)\n",
    "  pcolor(data[:,:,n]', cmap=\"jet\");\n",
    "  title(\"n = $n\");\n",
    "  clim(-1,1);\n",
    "  savefig(filenames[n])\n",
    "end"
   ]
  },
  {
   "cell_type": "markdown",
   "metadata": {},
   "source": [
    "Load all images as RGB (as arrays of red-green-blue color values)"
   ]
  },
  {
   "cell_type": "code",
   "execution_count": null,
   "metadata": {},
   "outputs": [],
   "source": [
    "imgstack = [RGB.(load(filename)) for filename in filenames];"
   ]
  },
  {
   "cell_type": "markdown",
   "metadata": {},
   "source": [
    "Save as a mp4 file with 10 frames per seconds"
   ]
  },
  {
   "cell_type": "code",
   "execution_count": null,
   "metadata": {},
   "outputs": [],
   "source": [
    "VideoIO.save(\"video.mp4\",imgstack,framerate = 10);"
   ]
  },
  {
   "cell_type": "markdown",
   "metadata": {},
   "source": [
    "You can now open the file `video.mp4` with your file manager."
   ]
  }
 ],
 "metadata": {
  "@webio": {
   "lastCommId": null,
   "lastKernelId": null
  },
  "kernelspec": {
   "display_name": "Julia 1.6.2",
   "language": "julia",
   "name": "julia-1.6"
  },
  "language_info": {
   "file_extension": ".jl",
   "mimetype": "application/julia",
   "name": "julia",
   "version": "1.6.2"
  }
 },
 "nbformat": 4,
 "nbformat_minor": 2
}
