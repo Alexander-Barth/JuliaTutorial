{
 "cells": [
  {
   "cell_type": "markdown",
   "metadata": {},
   "source": [
    "# Logistic map\n",
    "\n",
    "The logistic map has been introduced\n",
    "in 1837 by Pierre François Verhulst as a mathematical demographic model.\n",
    "It is a common example of how complex and chaotic behaviour can arise from very simple but non-linear dynamical equation.  Mathematically, the logistic map is written as:"
   ]
  },
  {
   "cell_type": "markdown",
   "metadata": {},
   "source": [
    "$$\n",
    "x_{n+1} = r \\, x_n \\, \\left(1-x_n\\right)\n",
    "$$\n",
    "\n",
    "where $x_n$ is the population between 0 and 1 (population at full carrying capacity of the environement) at the time step $n$ and $r$ a parameter controling the two processes:\n",
    "\n",
    "* reproduction where the population will increase at a rate proportional to the current population when the population size is small.\n",
    "* starvation (density-dependent mortality) where the growth rate will decrease at a rate proportional to the value obtained by taking the theoretical \"carrying capacity\" of the environment less the current population.\n"
   ]
  },
  {
   "cell_type": "markdown",
   "metadata": {},
   "source": [
    "## Exercise:\n",
    "1. Solve the eqation for 50 time steps, with $x_1 = 0.2$ and $r = 3.75$ and plot the solution\n",
    "2. Repeat exercise 1 but using new $x_1 = 0.200001$. Plot both the solution and compute the RMS difference between both solution\n",
    "3. Plot the bifurcation diagram for the logistic map. For different values of r (ranging from 2.4 and 4) and initial conditions (choosen at random between 0 and 1) plot the value of x after  after 1000 time steps on the y-axis and the corresponding value of r on the x-axis. Fell free to search for \"logistic map\" to find additonal information if necessary.\n",
    "\n"
   ]
  },
  {
   "cell_type": "code",
   "execution_count": 107,
   "metadata": {},
   "outputs": [],
   "source": [
    "using Statistics\n",
    "using PyPlot"
   ]
  }
 ],
 "metadata": {
  "kernelspec": {
   "display_name": "Julia 1.6.2",
   "language": "julia",
   "name": "julia-1.6"
  },
  "language_info": {
   "file_extension": ".jl",
   "mimetype": "application/julia",
   "name": "julia",
   "version": "1.6.0"
  }
 },
 "nbformat": 4,
 "nbformat_minor": 4
}
