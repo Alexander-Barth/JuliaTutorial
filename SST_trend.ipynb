{
 "cells": [
  {
   "cell_type": "markdown",
   "metadata": {},
   "source": [
    "# SST long-term trend\n",
    "\n",
    "Compute the long-term trend in sea surface temperature from 1990 to 2009 using the dataset \"Smith and Reynolds NCDC Level 4 Historical Reconstructed SST\" from PODAAC / NASA (or any other-20 year period).\n",
    "\n",
    "https://podaac.jpl.nasa.gov/dataset/REYNOLDS_NCDC_L4_SST_HIST_RECON_MONTHLY_V3B_NETCDF?ids=Measurement:GridSpatialResolution&values=Ocean%20Temperature:%5B0.25%20TO%20*%5D\n",
    "\n",
    "Implement a function which performs a linear regression:\n",
    "https://en.wikipedia.org/wiki/Simple_linear_regression\n",
    "\n",
    "\n",
    "Useful Julia functions for the exercise:\n",
    "* @sprintf\n",
    "* Dataset from NCDatasets\n",
    "* sum, mean\n"
   ]
  },
  {
   "cell_type": "code",
   "execution_count": 1,
   "metadata": {},
   "outputs": [
    {
     "data": {
      "text/plain": [
       "PyObject"
      ]
     },
     "execution_count": 1,
     "metadata": {},
     "output_type": "execute_result"
    }
   ],
   "source": [
    "using NCDatasets\n",
    "using PyPlot\n",
    "using Missings\n",
    "using PyCall\n",
    "using PyCall: PyObject\n",
    "\n",
    "# allow for plotting with missing values\n",
    "function PyObject(a::Array{Union{T,Missing},N}) where {T,N}\n",
    "    numpy_ma = PyCall.pyimport(\"numpy\").ma\n",
    "    pycall(numpy_ma.array, Any, coalesce.(a,zero(T)), mask=ismissing.(a))\n",
    "end"
   ]
  },
  {
   "cell_type": "code",
   "execution_count": 2,
   "metadata": {},
   "outputs": [
    {
     "data": {
      "text/plain": [
       "\"https://podaac-opendap.jpl.nasa.gov:443/opendap/allData/ersst/L4/ncei/v3b/monthly/netcdf/2016/ersst.201601.nc\""
      ]
     },
     "execution_count": 2,
     "metadata": {},
     "output_type": "execute_result"
    }
   ],
   "source": [
    "url = \"https://podaac-opendap.jpl.nasa.gov:443/opendap/allData/ersst/L4/ncei/v3b/monthly/netcdf/2016/ersst.201601.nc\""
   ]
  },
  {
   "cell_type": "code",
   "execution_count": 3,
   "metadata": {},
   "outputs": [
    {
     "data": {
      "text/plain": [
       "\u001b[31mDataset: https://podaac-opendap.jpl.nasa.gov:443/opendap/allData/ersst/L4/ncei/v3b/monthly/netcdf/2016/ersst.201601.nc\u001b[39m\n",
       "Group: /\n",
       "\n",
       "\u001b[31mDimensions\u001b[39m\n",
       "   lat = 89\n",
       "   lev = 1\n",
       "   lon = 180\n",
       "   time = 1\n",
       "\n",
       "\u001b[31mVariables\u001b[39m\n",
       "\u001b[32m  lat\u001b[39m   (89)\n",
       "    Datatype:    Float64\n",
       "    Dimensions:  lat\n",
       "    Attributes:\n",
       "     units                = \u001b[34mdegrees_north\u001b[39m\n",
       "     long_name            = \u001b[34mLatitude\u001b[39m\n",
       "     standard_name        = \u001b[34mlatitude\u001b[39m\n",
       "     axis                 = \u001b[34mY\u001b[39m\n",
       "     bounds               = \u001b[34mlat_bnds\u001b[39m\n",
       "     grids                = \u001b[34mUniform grid from -88 to 88 by 2\u001b[39m\n",
       "\n",
       "\u001b[32m  lev\u001b[39m   (1)\n",
       "    Datatype:    Float64\n",
       "    Dimensions:  lev\n",
       "    Attributes:\n",
       "     units                = \u001b[34mmeters\u001b[39m\n",
       "     long_name            = \u001b[34mDepth of sea surface temperature measurements\u001b[39m\n",
       "     standard_name        = \u001b[34mdepth\u001b[39m\n",
       "     axis                 = \u001b[34mZ\u001b[39m\n",
       "     positive             = \u001b[34mdown\u001b[39m\n",
       "     _CoordinateAxisType  = \u001b[34mHeight\u001b[39m\n",
       "     comment              = \u001b[34mMeasurement depth of in situ sea surface temperature varies\u001b[39m\n",
       "\n",
       "\u001b[32m  lon\u001b[39m   (180)\n",
       "    Datatype:    Float64\n",
       "    Dimensions:  lon\n",
       "    Attributes:\n",
       "     units                = \u001b[34mdegrees_east\u001b[39m\n",
       "     long_name            = \u001b[34mLongitude\u001b[39m\n",
       "     standard_name        = \u001b[34mlongitude\u001b[39m\n",
       "     axis                 = \u001b[34mX\u001b[39m\n",
       "     bounds               = \u001b[34mlon_bnds\u001b[39m\n",
       "     grids                = \u001b[34mUniform grid from 0 to 358 by 2\u001b[39m\n",
       "\n",
       "\u001b[32m  time\u001b[39m   (1)\n",
       "    Datatype:    Float64\n",
       "    Dimensions:  time\n",
       "    Attributes:\n",
       "     long_name            = \u001b[34mCenter time of the day\u001b[39m\n",
       "     standard_name        = \u001b[34mtime\u001b[39m\n",
       "     axis                 = \u001b[34mT\u001b[39m\n",
       "     delta_t              = \u001b[34m0000-01-00\u001b[39m\n",
       "     avg_period           = \u001b[34m0000-01-00\u001b[39m\n",
       "     units                = \u001b[34mminutes since 2016-01-01 00:00\u001b[39m\n",
       "\n",
       "\u001b[32m  sst\u001b[39m   (180 × 89 × 1 × 1)\n",
       "    Datatype:    Float32\n",
       "    Dimensions:  lon × lat × lev × time\n",
       "    Attributes:\n",
       "     _FillValue           = \u001b[34m-999.0\u001b[39m\n",
       "     long_name            = \u001b[34mExtended reconstructed sea surface temperature\u001b[39m\n",
       "     standard_name        = \u001b[34mSST\u001b[39m\n",
       "     units                = \u001b[34mdegree_C\u001b[39m\n",
       "     add_offset           = \u001b[34m0.0\u001b[39m\n",
       "     scale_factor         = \u001b[34m1.0\u001b[39m\n",
       "     valid_min            = \u001b[34m-3.0\u001b[39m\n",
       "     valid_max            = \u001b[34m45.0\u001b[39m\n",
       "\n",
       "\u001b[32m  ssta\u001b[39m   (180 × 89 × 1 × 1)\n",
       "    Datatype:    Float32\n",
       "    Dimensions:  lon × lat × lev × time\n",
       "    Attributes:\n",
       "     _FillValue           = \u001b[34m-999.0\u001b[39m\n",
       "     long_name            = \u001b[34mExtended reconstructed SST anomalies\u001b[39m\n",
       "     standard_name        = \u001b[34mSSTA\u001b[39m\n",
       "     units                = \u001b[34mdegree_C\u001b[39m\n",
       "     add_offset           = \u001b[34m0.0\u001b[39m\n",
       "     scale_factor         = \u001b[34m1.0\u001b[39m\n",
       "     valid_min            = \u001b[34m-12.0\u001b[39m\n",
       "     valid_max            = \u001b[34m12.0\u001b[39m\n",
       "\n",
       "\u001b[31mGlobal attributes\u001b[39m\n",
       "  Conventions          = \u001b[34mCF-1.6\u001b[39m\n",
       "  Metadata_Conventions = \u001b[34mCF-1.6, Unidata Dataset Discovery v1.0\u001b[39m\n",
       "  metadata_link        = \u001b[34mC00884\u001b[39m\n",
       "  id                   = \u001b[34mersst.201601\u001b[39m\n",
       "  naming_authority     = \u001b[34mgov.noaa.ncdc\u001b[39m\n",
       "  title                = \u001b[34mNOAA ERSSTv3b (in situ only)\u001b[39m\n",
       "  summary              = \u001b[34mERSST.v3b is developped based on Smith and Reynolds 2003\u001b[39m\n",
       "  institution          = \u001b[34mNOAA/NESDIS/NCEI/CCOG\u001b[39m\n",
       "  creator_name         = \u001b[34mBoyin Huang\u001b[39m\n",
       "  creator_email        = \u001b[34mboyin.huang@noaa.gov\u001b[39m\n",
       "  date_modified        = \u001b[34m2017/08/03\u001b[39m\n",
       "  production_version   = \u001b[34mVersion 5\u001b[39m\n",
       "  history              = \u001b[34mThu Aug  3 13:21:12 2017: ncatted -O -a _FillValue,ssta,o,f,-999.0 ssta.nc\u001b[39m\n",
       "\u001b[34mVersion 5 based on Version 4\u001b[39m\n",
       "  publisher_name       = \u001b[34mBoyin Huang\u001b[39m\n",
       "  publisher_email      = \u001b[34mboyin.huang@noaa.gov\u001b[39m\n",
       "  creator_url          = \u001b[34mhttp://www.ncdc.noaa.gov\u001b[39m\n",
       "  license              = \u001b[34mNo constraints on data access or use\u001b[39m\n",
       "  time_coverage_start  = \u001b[34m2016-01-15T000000Z\u001b[39m\n",
       "  time_coverage_end    = \u001b[34m2016-01-15T000000Z\u001b[39m\n",
       "  geospatial_lon_min   = \u001b[34m-1.0\u001b[39m\n",
       "  geospatial_lon_max   = \u001b[34m359.0\u001b[39m\n",
       "  geospatial_lat_min   = \u001b[34m-89.0\u001b[39m\n",
       "  geospatial_lat_max   = \u001b[34m89.0\u001b[39m\n",
       "  geospatial_lat_units = \u001b[34mdegrees_north\u001b[39m\n",
       "  geospatial_lat_resolution = \u001b[34m2.0\u001b[39m\n",
       "  geospatial_lon_units = \u001b[34mdegrees_east\u001b[39m\n",
       "  geospatial_lon_resolution = \u001b[34m2.0\u001b[39m\n",
       "  spatial_resolution   = \u001b[34m2.0 degree grid\u001b[39m\n",
       "  cdm_data_type        = \u001b[34mGrid\u001b[39m\n",
       "  processing_level     = \u001b[34mL4\u001b[39m\n",
       "  standard_name_vocabulary = \u001b[34mCF Standard Name Table v27\u001b[39m\n",
       "  keywords             = \u001b[34mEarth Science &gt; Oceans &gt; Ocean Temperature &gt; Sea Sur face Temperature &gt\u001b[39m\n",
       "  keywords_vocabulary  = \u001b[34mNASA Global Change Master Directory (GCMD) Science Keywords\u001b[39m\n",
       "  project              = \u001b[34mNOAA Extended Reconstructed Sea Surface Temperature (ERSST)\u001b[39m\n",
       "  platform             = \u001b[34mShip and Buoy SSTs from ICOADS R2.5 and NCEP GTS\u001b[39m\n",
       "  instrument           = \u001b[34mConventional thermometers\u001b[39m\n",
       "  source               = \u001b[34mICOADS R2.5 SST, NCEP GTS SST, HadISST ice, NCEP ice\u001b[39m\n",
       "  comment              = \u001b[34mSSTs were observed by conventional thermometers in Buckets (in sulated or un-insulated canvas and wooded buckets), Engine Room Intakers, or floats and drifters\u001b[39m\n",
       "  references           = \u001b[34mSmith, T.M., and R.W. Reynolds, 2003: Extended Reconstruction of Global Sea Surface Temperatures Based on COADS Data (1854-1997). Journal of Climate, 16, 1495-1510.\u001b[39m\n",
       "  climatology          = \u001b[34mClimatology is based on 1971-2000 SST, Xue, Y., T. M. Smith, and R. W. Reynolds, 2003: Interdecadal changes of 30-yr SST normals during 1871.2000. Journal of Climate, 16, 1601-1612.\u001b[39m\n",
       "  description          = \u001b[34mIn situ data: ICOADS2.5 before 2007, NCEP in situ data from 2008 to present. Ice data: HadISST ice before 2015 and NCEP ice after 2015.\u001b[39m\n"
      ]
     },
     "execution_count": 3,
     "metadata": {},
     "output_type": "execute_result"
    }
   ],
   "source": [
    "ds = Dataset(url)"
   ]
  },
  {
   "cell_type": "code",
   "execution_count": 9,
   "metadata": {},
   "outputs": [],
   "source": [
    "SST = nomissing(ds[\"sst\"][:,:,1,1],NaN);"
   ]
  },
  {
   "cell_type": "code",
   "execution_count": 5,
   "metadata": {},
   "outputs": [
    {
     "data": {
      "text/plain": [
       "(180, 89)"
      ]
     },
     "execution_count": 5,
     "metadata": {},
     "output_type": "execute_result"
    }
   ],
   "source": [
    "size(SST)"
   ]
  },
  {
   "cell_type": "code",
   "execution_count": 10,
   "metadata": {},
   "outputs": [],
   "source": [
    "lon = nomissing(ds[\"lon\"][:])\n",
    "lat = nomissing(ds[\"lat\"][:]);\n",
    "\n"
   ]
  },
  {
   "cell_type": "code",
   "execution_count": 12,
   "metadata": {},
   "outputs": [
    {
     "data": {
      "image/png": "[encoded data removed]",
      "text/plain": [
       "Figure(PyObject <Figure size 640x480 with 1 Axes>)"
      ]
     },
     "metadata": {},
     "output_type": "display_data"
    },
    {
     "data": {
      "text/plain": [
       "PyObject <matplotlib.collections.PolyCollection object at 0x7f671c574b00>"
      ]
     },
     "execution_count": 12,
     "metadata": {},
     "output_type": "execute_result"
    }
   ],
   "source": [
    "#pcolor(lon,lat,SST')\n",
    "pcolor(lon,lat,copy(SST'))\n"
   ]
  },
  {
   "cell_type": "code",
   "execution_count": 15,
   "metadata": {},
   "outputs": [],
   "source": [
    "close(ds)"
   ]
  },
  {
   "cell_type": "code",
   "execution_count": 34,
   "metadata": {},
   "outputs": [
    {
     "name": "stdout",
     "output_type": "stream",
     "text": [
      "url = \"https://podaac-opendap.jpl.nasa.gov:443/opendap/allData/ersst/L4/ncei/v3b/monthly/netcdf/2016/ersst.201601.nc\"\n",
      "url = \"https://podaac-opendap.jpl.nasa.gov:443/opendap/allData/ersst/L4/ncei/v3b/monthly/netcdf/2016/ersst.201602.nc\"\n",
      "url = \"https://podaac-opendap.jpl.nasa.gov:443/opendap/allData/ersst/L4/ncei/v3b/monthly/netcdf/2016/ersst.201603.nc\"\n",
      "url = \"https://podaac-opendap.jpl.nasa.gov:443/opendap/allData/ersst/L4/ncei/v3b/monthly/netcdf/2016/ersst.201604.nc\"\n",
      "url = \"https://podaac-opendap.jpl.nasa.gov:443/opendap/allData/ersst/L4/ncei/v3b/monthly/netcdf/2016/ersst.201605.nc\"\n",
      "url = \"https://podaac-opendap.jpl.nasa.gov:443/opendap/allData/ersst/L4/ncei/v3b/monthly/netcdf/2016/ersst.201606.nc\"\n",
      "url = \"https://podaac-opendap.jpl.nasa.gov:443/opendap/allData/ersst/L4/ncei/v3b/monthly/netcdf/2016/ersst.201607.nc\"\n",
      "url = \"https://podaac-opendap.jpl.nasa.gov:443/opendap/allData/ersst/L4/ncei/v3b/monthly/netcdf/2016/ersst.201608.nc\"\n",
      "url = \"https://podaac-opendap.jpl.nasa.gov:443/opendap/allData/ersst/L4/ncei/v3b/monthly/netcdf/2016/ersst.201609.nc\"\n",
      "url = \"https://podaac-opendap.jpl.nasa.gov:443/opendap/allData/ersst/L4/ncei/v3b/monthly/netcdf/2016/ersst.201610.nc\"\n",
      "url = \"https://podaac-opendap.jpl.nasa.gov:443/opendap/allData/ersst/L4/ncei/v3b/monthly/netcdf/2016/ersst.201611.nc\"\n",
      "url = \"https://podaac-opendap.jpl.nasa.gov:443/opendap/allData/ersst/L4/ncei/v3b/monthly/netcdf/2016/ersst.201612.nc\"\n"
     ]
    }
   ],
   "source": [
    "using Printf\n",
    "\n",
    "SST = zeros(180, 89, 12)\n",
    "n = 1;\n",
    "\n",
    "for year = 2016:2016\n",
    "#for year = 1900:2000\n",
    "   for month = 1:12\n",
    "      global n\n",
    "      month_str = @sprintf(\"%02d\",month)\n",
    "      url = \"https://podaac-opendap.jpl.nasa.gov:443/opendap/allData/ersst/L4/ncei/v3b/monthly/netcdf/$(year)/ersst.$(year)$(month_str).nc\"\n",
    "      @show url  \n",
    "      ds = Dataset(url)\n",
    "      SST[:,:,n] = nomissing(ds[\"sst\"][:,:,1,1],NaN);\n",
    "      n = n+1\n",
    "      close(ds)\n",
    "    end\n",
    "end"
   ]
  },
  {
   "cell_type": "code",
   "execution_count": 37,
   "metadata": {},
   "outputs": [
    {
     "data": {
      "text/plain": [
       "(180, 89, 12)"
      ]
     },
     "execution_count": 37,
     "metadata": {},
     "output_type": "execute_result"
    }
   ],
   "source": [
    "size(SST)"
   ]
  },
  {
   "cell_type": "code",
   "execution_count": 40,
   "metadata": {},
   "outputs": [
    {
     "data": {
      "text/plain": [
       "56.0"
      ]
     },
     "execution_count": 40,
     "metadata": {},
     "output_type": "execute_result"
    }
   ],
   "source": [
    "lon[29]"
   ]
  },
  {
   "cell_type": "code",
   "execution_count": null,
   "metadata": {},
   "outputs": [],
   "source": []
  },
  {
   "cell_type": "code",
   "execution_count": 42,
   "metadata": {},
   "outputs": [
    {
     "data": {
      "text/plain": [
       "29"
      ]
     },
     "execution_count": 42,
     "metadata": {},
     "output_type": "execute_result"
    }
   ],
   "source": [
    "findfirst(lon .== 56)"
   ]
  },
  {
   "cell_type": "code",
   "execution_count": 41,
   "metadata": {},
   "outputs": [
    {
     "data": {
      "text/plain": [
       "-50.0"
      ]
     },
     "execution_count": 41,
     "metadata": {},
     "output_type": "execute_result"
    }
   ],
   "source": [
    "lat[20]"
   ]
  },
  {
   "cell_type": "code",
   "execution_count": 39,
   "metadata": {},
   "outputs": [
    {
     "data": {
      "image/png": "[encoded data removed]",
      "text/plain": [
       "Figure(PyObject <Figure size 640x480 with 1 Axes>)"
      ]
     },
     "metadata": {},
     "output_type": "display_data"
    },
    {
     "data": {
      "text/plain": [
       "1-element Array{PyObject,1}:\n",
       " PyObject <matplotlib.lines.Line2D object at 0x7f6717be9630>"
      ]
     },
     "execution_count": 39,
     "metadata": {},
     "output_type": "execute_result"
    }
   ],
   "source": [
    "plot(SST[29,20,:])"
   ]
  },
  {
   "cell_type": "code",
   "execution_count": null,
   "metadata": {},
   "outputs": [],
   "source": []
  }
 ],
 "metadata": {
  "@webio": {
   "lastCommId": null,
   "lastKernelId": null
  },
  "kernelspec": {
   "display_name": "Julia 1.5.0",
   "language": "julia",
   "name": "julia-1.5"
  },
  "language_info": {
   "file_extension": ".jl",
   "mimetype": "application/julia",
   "name": "julia",
   "version": "1.5.0"
  }
 },
 "nbformat": 4,
 "nbformat_minor": 2
}
