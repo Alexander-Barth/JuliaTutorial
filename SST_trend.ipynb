{
 "cells": [
  {
   "cell_type": "markdown",
   "metadata": {},
   "source": [
    "# SST long-term trend\n",
    "\n",
    "Compute the long-term trend in sea surface temperature from 1990 to 2009 using the dataset \"Smith and Reynolds NCDC Level 4 Historical Reconstructed SST\" from PODAAC / NASA (or any other-20 year period).\n",
    "\n",
    "https://podaac.jpl.nasa.gov/dataset/REYNOLDS_NCDC_L4_SST_HIST_RECON_MONTHLY_V3B_NETCDF?ids=Measurement:GridSpatialResolution&values=Ocean%20Temperature:%5B0.25%20TO%20*%5D\n",
    "\n",
    "Implement a function which performs a linear regression:\n",
    "https://en.wikipedia.org/wiki/Simple_linear_regression\n",
    "\n",
    "\n",
    "Useful Julia functions for the exercise:\n",
    "* download\n",
    "* Dataset from NCDatasets\n",
    "* sum, mean\n"
   ]
  },
  {
   "cell_type": "code",
   "execution_count": 1,
   "metadata": {},
   "outputs": [
    {
     "data": {
      "text/plain": [
       "PyObject"
      ]
     },
     "execution_count": 1,
     "metadata": {},
     "output_type": "execute_result"
    }
   ],
   "source": [
    "using NCDatasets\n",
    "using PyPlot\n",
    "using Missings\n",
    "using PyCall\n",
    "using PyCall: PyObject\n",
    "\n",
    "# allow for plotting with missing values\n",
    "function PyObject(a::Array{Union{T,Missing},N}) where {T,N}\n",
    "    numpy_ma = PyCall.pyimport(\"numpy\").ma\n",
    "    pycall(numpy_ma.array, Any, coalesce.(a,zero(T)), mask=ismissing.(a))\n",
    "end"
   ]
  }
 ],
 "metadata": {
  "@webio": {
   "lastCommId": "1a3ab35ed34e414684109805e31bc20e",
   "lastKernelId": "f64870c8-5ad4-4994-aa10-08b65de35ab1"
  },
  "kernelspec": {
   "display_name": "Julia 1.2.0",
   "language": "julia",
   "name": "julia-1.2"
  },
  "language_info": {
   "file_extension": ".jl",
   "mimetype": "application/julia",
   "name": "julia",
   "version": "1.2.0"
  }
 },
 "nbformat": 4,
 "nbformat_minor": 2
}
