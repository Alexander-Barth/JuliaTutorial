{
 "cells": [
  {
   "cell_type": "markdown",
   "metadata": {},
   "source": [
    "# SST long-term trend\n",
    "\n",
    "Compute the long-term trend in sea surface temperature from 1990 to 2009 using the dataset \"Smith and Reynolds NCDC Level 4 Historical Reconstructed SST\" from PODAAC / NASA (or any other-20 year period).\n",
    "\n",
    "https://podaac.jpl.nasa.gov/dataset/REYNOLDS_NCDC_L4_MONTHLY_V5\n",
    "\n",
    "Implement a function which performs a linear regression:\n",
    "https://en.wikipedia.org/wiki/Simple_linear_regression\n",
    "\n",
    "\n",
    "Useful Julia functions for the exercise:\n",
    "* @sprintf\n",
    "* Dataset from NCDatasets\n",
    "* sum, mean\n"
   ]
  },
  {
   "cell_type": "code",
   "execution_count": 3,
   "metadata": {},
   "outputs": [
    {
     "data": {
      "text/plain": [
       "PyObject"
      ]
     },
     "execution_count": 3,
     "metadata": {},
     "output_type": "execute_result"
    }
   ],
   "source": [
    "using Statistics\n",
    "using NCDatasets\n",
    "using PyPlot\n",
    "using Missings\n",
    "using PyCall\n",
    "using PyCall: PyObject, pyimport\n",
    "\n",
    "# allow for plotting with missing values\n",
    "function PyObject(a::Array{Union{T,Missing},N}) where {T,N}\n",
    "  numpy_ma = pyimport(\"numpy\").ma\n",
    "  pycall(numpy_ma.array, Any, coalesce.(a,zero(T)), mask=ismissing.(a))\n",
    "end"
   ]
  },
  {
   "cell_type": "code",
   "execution_count": 4,
   "metadata": {},
   "outputs": [
    {
     "data": {
      "text/plain": [
       "\"https://podaac-opendap.jpl.nasa.gov/opendap/allData/ersst/L4/ncei/v5/monthly/netcdf/2020/01/ersst.v5.202001.nc\""
      ]
     },
     "execution_count": 4,
     "metadata": {},
     "output_type": "execute_result"
    }
   ],
   "source": [
    "url = \"https://podaac-opendap.jpl.nasa.gov/opendap/allData/ersst/L4/ncei/v5/monthly/netcdf/2020/01/ersst.v5.202001.nc\""
   ]
  },
  {
   "cell_type": "code",
   "execution_count": 5,
   "metadata": {},
   "outputs": [
    {
     "data": {
      "text/plain": [
       "\u001b[31mNCDataset: https://podaac-opendap.jpl.nasa.gov/opendap/allData/ersst/L4/ncei/v5/monthly/netcdf/2020/01/ersst.v5.202001.nc\u001b[39m\n",
       "Group: /\n",
       "\n",
       "\u001b[31mDimensions\u001b[39m\n",
       "   lat = 89\n",
       "   lev = 1\n",
       "   lon = 180\n",
       "   time = 1\n",
       "\n",
       "\u001b[31mVariables\u001b[39m\n",
       "\u001b[32m  lat\u001b[39m   (89)\n",
       "    Datatype:    Float64\n",
       "    Dimensions:  lat\n",
       "    Attributes:\n",
       "     units                = \u001b[36mdegrees_north\u001b[39m\n",
       "     long_name            = \u001b[36mLatitude\u001b[39m\n",
       "     standard_name        = \u001b[36mLatitude\u001b[39m\n",
       "     axis                 = \u001b[36mY\u001b[39m\n",
       "     valid_min            = \u001b[36m-88.0\u001b[39m\n",
       "     valid_max            = \u001b[36m88.0\u001b[39m\n",
       "     _CoordinateAxisType  = \u001b[36mLat\u001b[39m\n",
       "     coordinate_defines   = \u001b[36mcenter\u001b[39m\n",
       "     comment              = \u001b[36mUniform grid from -88 to 88 by 2\u001b[39m\n",
       "\n",
       "\u001b[32m  lev\u001b[39m   (1)\n",
       "    Datatype:    Float64\n",
       "    Dimensions:  lev\n",
       "    Attributes:\n",
       "     units                = \u001b[36mmeters\u001b[39m\n",
       "     long_name            = \u001b[36mDepth of sea surface temperature measurements\u001b[39m\n",
       "     standard_name        = \u001b[36mdepth\u001b[39m\n",
       "     axis                 = \u001b[36mZ\u001b[39m\n",
       "     positive             = \u001b[36mdown\u001b[39m\n",
       "     _CoordinateAxisType  = \u001b[36mHeight\u001b[39m\n",
       "     comment              = \u001b[36mActual measurement depth of in situ sea surface temperature varies from 0.2 to 10 m, but corrected to the nominal depth of buoy at 0.2 m\u001b[39m\n",
       "\n",
       "\u001b[32m  lon\u001b[39m   (180)\n",
       "    Datatype:    Float64\n",
       "    Dimensions:  lon\n",
       "    Attributes:\n",
       "     units                = \u001b[36mdegrees_east\u001b[39m\n",
       "     long_name            = \u001b[36mLongitude\u001b[39m\n",
       "     standard_name        = \u001b[36mLongitude\u001b[39m\n",
       "     axis                 = \u001b[36mX\u001b[39m\n",
       "     valid_min            = \u001b[36m0.0\u001b[39m\n",
       "     valid_max            = \u001b[36m358.0\u001b[39m\n",
       "     _CoordinateAxisType  = \u001b[36mLon\u001b[39m\n",
       "     coordinate_defines   = \u001b[36mcenter\u001b[39m\n",
       "     comment              = \u001b[36mUniform grid from 0 to 358 by 2\u001b[39m\n",
       "\n",
       "\u001b[32m  time\u001b[39m   (1)\n",
       "    Datatype:    Float64\n",
       "    Dimensions:  time\n",
       "    Attributes:\n",
       "     _CoordinateAxisType  = \u001b[36mTime\u001b[39m\n",
       "     avg_period           = \u001b[36m0000-01-00\u001b[39m\n",
       "     axis                 = \u001b[36mT\u001b[39m\n",
       "     calendar             = \u001b[36mgregorian\u001b[39m\n",
       "     delta_t              = \u001b[36m0000-01-00\u001b[39m\n",
       "     long_name            = \u001b[36mTime\u001b[39m\n",
       "     standard_name        = \u001b[36mtime\u001b[39m\n",
       "     units                = \u001b[36mdays since 1854-01-15 00:00\u001b[39m\n",
       "\n",
       "\u001b[32m  sst\u001b[39m   (180 × 89 × 1 × 1)\n",
       "    Datatype:    Float32\n",
       "    Dimensions:  lon × lat × lev × time\n",
       "    Attributes:\n",
       "     long_name            = \u001b[36mExtended reconstructed sea surface temperature\u001b[39m\n",
       "     standard_name        = \u001b[36msea_surface_temperature\u001b[39m\n",
       "     units                = \u001b[36mdegree_C\u001b[39m\n",
       "     add_offset           = \u001b[36m0.0\u001b[39m\n",
       "     scale_factor         = \u001b[36m1.0\u001b[39m\n",
       "     valid_min            = \u001b[36m-3.0\u001b[39m\n",
       "     valid_max            = \u001b[36m45.0\u001b[39m\n",
       "     coordinates          = \u001b[36mtime lev lat lon\u001b[39m\n",
       "     _FillValue           = \u001b[36m-999.0\u001b[39m\n",
       "\n",
       "\u001b[32m  ssta\u001b[39m   (180 × 89 × 1 × 1)\n",
       "    Datatype:    Float32\n",
       "    Dimensions:  lon × lat × lev × time\n",
       "    Attributes:\n",
       "     long_name            = \u001b[36mExtended reconstructed SST anomalies\u001b[39m\n",
       "     units                = \u001b[36mdegree_C\u001b[39m\n",
       "     add_offset           = \u001b[36m0.0\u001b[39m\n",
       "     scale_factor         = \u001b[36m1.0\u001b[39m\n",
       "     valid_min            = \u001b[36m-12.0\u001b[39m\n",
       "     valid_max            = \u001b[36m12.0\u001b[39m\n",
       "     coordinates          = \u001b[36mtime lev lat lon\u001b[39m\n",
       "     _FillValue           = \u001b[36m-999.0\u001b[39m\n",
       "\n",
       "\u001b[31mGlobal attributes\u001b[39m\n",
       "  Conventions          = \u001b[36mCF-1.6, ACDD-1.3\u001b[39m\n",
       "  metadata_link        = \u001b[36mhttps://doi.org/10.7289/V5T72FNM\u001b[39m\n",
       "  dataset_doi          = \u001b[36mhttps://doi.org/10.7289/V5T72FNM\u001b[39m\n",
       "  id                   = \u001b[36mgov.noaa.ncdc:C00927\u001b[39m\n",
       "  naming_authority     = \u001b[36mgov.noaa.ncei\u001b[39m\n",
       "  title                = \u001b[36mNOAA ERSSTv5 (in situ only)\u001b[39m\n",
       "  summary              = \u001b[36mERSSTv5 is developped based on v4 and by replacing NCEP GTS by NCEI ICOADS R3.0.2 after January 2016\u001b[39m\n",
       "  dataset_citation_product = \u001b[36mNOAA ERSSTv5\u001b[39m\n",
       "  dataset_citation_version = \u001b[36mERSSTv5\u001b[39m\n",
       "  dataset_citation_institution = \u001b[36mNOAA/NESDIS/NCEI/CCOG\u001b[39m\n",
       "  dataset_citation_url = \u001b[36mhttps://doi.org/10.7289/V5T72FNM\u001b[39m\n",
       "  institution          = \u001b[36mNOAA/NESDIS/NCEI/CCOG\u001b[39m\n",
       "  creator_name         = \u001b[36mBoyin Huang\u001b[39m\n",
       "  creator_email        = \u001b[36mboyin.huang@noaa.gov\u001b[39m\n",
       "  creator_type         = \u001b[36mgroup\u001b[39m\n",
       "  creator_institution  = \u001b[36mNOAA/NESDIS/NCEI\u001b[39m\n",
       "  contributor_name     = \u001b[36mHuai-min Zhang\u001b[39m\n",
       "  contributor_role     = \u001b[36mChief, NOAA/NESDIS/NCEI/CCOG/OSB Ocean Surface Section\u001b[39m\n",
       "  publisher_name       = \u001b[36mNCEI\u001b[39m\n",
       "  publisher_url        = \u001b[36mhttps://www.ncdc.noaa.gov\u001b[39m\n",
       "  publisher_email      = \u001b[36mncei.info@noaa.gov\u001b[39m\n",
       "  publisher_type       = \u001b[36minstitution\u001b[39m\n",
       "  publisher_institution = \u001b[36mNCEI\u001b[39m\n",
       "  date_created         = \u001b[36m2020/05/15\u001b[39m\n",
       "  date_issued          = \u001b[36m2020/05/15\u001b[39m\n",
       "  date_modified        = \u001b[36m2020/05/15\u001b[39m\n",
       "  necdf_version_id     = \u001b[36mV4 from GrADS sdfwrite\u001b[39m\n",
       "  netcdf_creator_name  = \u001b[36mBoyin Huang\u001b[39m\n",
       "  netcdf_creator_email = \u001b[36mboyin.huang@noaa.gov\u001b[39m\n",
       "  product_version      = \u001b[36mVersion v5\u001b[39m\n",
       "  creator_url          = \u001b[36mhttps://www.ncei.noaa.gov\u001b[39m\n",
       "  license              = \u001b[36mNo constraints on data access or use\u001b[39m\n",
       "  time_coverage_start  = \u001b[36m2020-01-15T00:00:00Z\u001b[39m\n",
       "  time_coverage_end    = \u001b[36m2020-02-15T00:00:00Z\u001b[39m\n",
       "  time_coverage_resolution = \u001b[36mP1M\u001b[39m\n",
       "  time_coverage_duration = \u001b[36mP1M\u001b[39m\n",
       "  geospatial_lon_min   = \u001b[36m0.0\u001b[39m\n",
       "  geospatial_lon_max   = \u001b[36m358.0\u001b[39m\n",
       "  geospatial_lat_min   = \u001b[36m-88.0\u001b[39m\n",
       "  geospatial_lat_max   = \u001b[36m88.0\u001b[39m\n",
       "  geospatial_lat_units = \u001b[36mdegrees_north\u001b[39m\n",
       "  geospatial_lat_resolution = \u001b[36m2.0\u001b[39m\n",
       "  geospatial_lon_units = \u001b[36mdegrees_east\u001b[39m\n",
       "  geospatial_lon_resolution = \u001b[36m2.0\u001b[39m\n",
       "  spatial_resolution   = \u001b[36m2.0 degree grid\u001b[39m\n",
       "  geospatial_bounds    = \u001b[36m0 -88, 358 88\u001b[39m\n",
       "  geospatial_vertical_min = \u001b[36m0.0\u001b[39m\n",
       "  geospatial_vertical_max = \u001b[36m0.0\u001b[39m\n",
       "  geospatial_vertical_units = \u001b[36mmeters\u001b[39m\n",
       "  geospatial_vertical_positive = \u001b[36mdown\u001b[39m\n",
       "  cdm_data_type        = \u001b[36mGrid\u001b[39m\n",
       "  processing_level     = \u001b[36mNOAA Level 4\u001b[39m\n",
       "  grid_mapping_name    = \u001b[36mlatitude_longitude\u001b[39m\n",
       "  standard_name_vocabulary = \u001b[36mCF Standard Name Table (v40, 25 January 2017)\u001b[39m\n",
       "  keywords             = \u001b[36mEarth Science > Oceans > Ocean Temperature > Sea Surface Temperature\u001b[39m\n",
       "  keywords_vocabulary  = \u001b[36mNASA Global Change Master Directory (GCMD) Science Keywords\u001b[39m\n",
       "  project              = \u001b[36mNOAA Extended Reconstructed Sea Surface Temperature (ERSST)\u001b[39m\n",
       "  platform             = \u001b[36mShip and Buoy SSTs from ICOADS R3.0.2 and Argo SSTs from CCOG\u001b[39m\n",
       "  platform_vocabulary  = \u001b[36mNCEI\u001b[39m\n",
       "  instrument           = \u001b[36mConventional thermometers\u001b[39m\n",
       "  instrument_vocabulary = \u001b[36mNCEI\u001b[39m\n",
       "  source               = \u001b[36mIn situ data: ICOADS R3.0 before 2016, ICOADS R3.0.2 from 2016 to present, and Argo SST from 1999 to present. Ice data: HadISST2 ice before 2015, and NCEP ice after 2015.\u001b[39m\n",
       "  comment              = \u001b[36mSSTs were observed by conventional thermometers in Buckets (in sulated or un-insulated canvas and wooded buckets), Engine Room Intakers, or floats and drifters\u001b[39m\n",
       "  references           = \u001b[36mHuang et al, 2017: Extended Reconstructed Sea Surface Temperatures Version 5 (ERSSTv5): Upgrades, Validations, and Intercomparisons. Journal of Climate, https://doi.org/10.1175/JCLI-D-16-0836.1\u001b[39m\n",
       "  climatology          = \u001b[36mClimatology is based on 1971-2000 SST, Xue, Y., T. M. Smith, and R. W. Reynolds, 2003: Interdecadal changes of 30-yr SST normals during 1871.2000. Journal of Climate, 16, 1601-1612.\u001b[39m\n",
       "  acknowledgment       = \u001b[36mThe NOAA Extended Reconstructed Sea Surface Temperature (ERSST) data are provided by the NOAA National Centers for Environmental Information(NCEI)\u001b[39m\n",
       "  history              = \u001b[36mSat Jul  3 13:12:34 2021: ncap2 -O -s time=time/(1440)+(60630) ssta.nc ssta.nc\u001b[39m\n",
       "\u001b[36mSat Jul  3 13:12:34 2021: ncatted -O -a _FillValue,ssta,o,f,-999.0 ssta.nc\u001b[39m\n",
       "\u001b[36mSat Jul  3 13:12:34 2021: ncatted -O -a units,time,o,c,days since 1854-01-15 00:00 ssta.nc\u001b[39m\n",
       "\u001b[36mVersion v5 based on Version v4\u001b[39m\n",
       "  NCO                  = \u001b[36mnetCDF Operators version 4.7.5 (Homepage = http://nco.sf.net, Code = http://github.com/nco/nco)\u001b[39m\n",
       "  nco_openmp_thread_number = \u001b[36m1\u001b[39m\n"
      ]
     },
     "execution_count": 5,
     "metadata": {},
     "output_type": "execute_result"
    }
   ],
   "source": [
    "ds = Dataset(url)"
   ]
  },
  {
   "cell_type": "code",
   "execution_count": 6,
   "metadata": {},
   "outputs": [],
   "source": [
    "SST = nomissing(ds[\"sst\"][:,:,1,1],NaN);"
   ]
  },
  {
   "cell_type": "code",
   "execution_count": 7,
   "metadata": {},
   "outputs": [
    {
     "data": {
      "text/plain": [
       "(180, 89)"
      ]
     },
     "execution_count": 7,
     "metadata": {},
     "output_type": "execute_result"
    }
   ],
   "source": [
    "size(SST)"
   ]
  },
  {
   "cell_type": "code",
   "execution_count": 8,
   "metadata": {},
   "outputs": [],
   "source": [
    "lon = nomissing(ds[\"lon\"][:])\n",
    "lat = nomissing(ds[\"lat\"][:]);\n",
    "\n"
   ]
  },
  {
   "cell_type": "code",
   "execution_count": 9,
   "metadata": {},
   "outputs": [
    {
     "data": {
      "image/png": "[encoded data removed]",
      "text/plain": [
       "Figure(PyObject <Figure size 640x480 with 1 Axes>)"
      ]
     },
     "metadata": {},
     "output_type": "display_data"
    },
    {
     "data": {
      "text/plain": [
       "PyObject <matplotlib.collections.PolyCollection object at 0x7ff7be6606d8>"
      ]
     },
     "execution_count": 9,
     "metadata": {},
     "output_type": "execute_result"
    }
   ],
   "source": [
    "#pcolor(lon,lat,SST')\n",
    "pcolor(lon,lat,copy(SST'))\n"
   ]
  },
  {
   "cell_type": "code",
   "execution_count": 10,
   "metadata": {},
   "outputs": [
    {
     "data": {
      "text/plain": [
       "closed NetCDF NCDataset"
      ]
     },
     "execution_count": 10,
     "metadata": {},
     "output_type": "execute_result"
    }
   ],
   "source": [
    "close(ds)"
   ]
  },
  {
   "cell_type": "code",
   "execution_count": 12,
   "metadata": {},
   "outputs": [
    {
     "name": "stdout",
     "output_type": "stream",
     "text": [
      "url = \"https://podaac-opendap.jpl.nasa.gov/opendap/allData/ersst/L4/ncei/v5/monthly/netcdf/2016/01/ersst.v5.201601.nc\"\n",
      "url = \"https://podaac-opendap.jpl.nasa.gov/opendap/allData/ersst/L4/ncei/v5/monthly/netcdf/2016/02/ersst.v5.201602.nc\"\n",
      "url = \"https://podaac-opendap.jpl.nasa.gov/opendap/allData/ersst/L4/ncei/v5/monthly/netcdf/2016/03/ersst.v5.201603.nc\"\n",
      "url = \"https://podaac-opendap.jpl.nasa.gov/opendap/allData/ersst/L4/ncei/v5/monthly/netcdf/2016/04/ersst.v5.201604.nc\"\n",
      "url = \"https://podaac-opendap.jpl.nasa.gov/opendap/allData/ersst/L4/ncei/v5/monthly/netcdf/2016/05/ersst.v5.201605.nc\"\n",
      "url = \"https://podaac-opendap.jpl.nasa.gov/opendap/allData/ersst/L4/ncei/v5/monthly/netcdf/2016/06/ersst.v5.201606.nc\"\n",
      "url = \"https://podaac-opendap.jpl.nasa.gov/opendap/allData/ersst/L4/ncei/v5/monthly/netcdf/2016/07/ersst.v5.201607.nc\"\n",
      "url = \"https://podaac-opendap.jpl.nasa.gov/opendap/allData/ersst/L4/ncei/v5/monthly/netcdf/2016/08/ersst.v5.201608.nc\"\n",
      "url = \"https://podaac-opendap.jpl.nasa.gov/opendap/allData/ersst/L4/ncei/v5/monthly/netcdf/2016/09/ersst.v5.201609.nc\"\n",
      "url = \"https://podaac-opendap.jpl.nasa.gov/opendap/allData/ersst/L4/ncei/v5/monthly/netcdf/2016/10/ersst.v5.201610.nc\"\n",
      "url = \"https://podaac-opendap.jpl.nasa.gov/opendap/allData/ersst/L4/ncei/v5/monthly/netcdf/2016/11/ersst.v5.201611.nc\"\n",
      "url = \"https://podaac-opendap.jpl.nasa.gov/opendap/allData/ersst/L4/ncei/v5/monthly/netcdf/2016/12/ersst.v5.201612.nc\"\n"
     ]
    }
   ],
   "source": [
    "using Printf\n",
    "\n",
    "SST = zeros(180, 89, 12)\n",
    "n = 1;\n",
    "\n",
    "for year = 2016:2016\n",
    "#for year = 1900:2000\n",
    "   for month = 1:12\n",
    "      global n\n",
    "      month_str = @sprintf(\"%02d\",month)\n",
    "      # example \n",
    "      # https://podaac-opendap.jpl.nasa.gov/opendap/allData/ersst/L4/ncei/v5/monthly/netcdf/2020/01/ersst.v5.202001.nc        \n",
    "      url = \"https://podaac-opendap.jpl.nasa.gov/opendap/allData/ersst/L4/ncei/v5/monthly/netcdf/$(year)/$(month_str)/ersst.v5.$(year)$(month_str).nc\"\n",
    "      @show url  \n",
    "      ds = Dataset(url)\n",
    "      SST[:,:,n] = nomissing(ds[\"sst\"][:,:,1,1],NaN);\n",
    "      n = n+1\n",
    "      close(ds)\n",
    "    end\n",
    "end"
   ]
  },
  {
   "cell_type": "code",
   "execution_count": 13,
   "metadata": {},
   "outputs": [
    {
     "data": {
      "text/plain": [
       "(180, 89, 12)"
      ]
     },
     "execution_count": 13,
     "metadata": {},
     "output_type": "execute_result"
    }
   ],
   "source": [
    "size(SST)"
   ]
  },
  {
   "cell_type": "code",
   "execution_count": 14,
   "metadata": {},
   "outputs": [
    {
     "data": {
      "text/plain": [
       "56.0"
      ]
     },
     "execution_count": 14,
     "metadata": {},
     "output_type": "execute_result"
    }
   ],
   "source": [
    "lon[29]"
   ]
  },
  {
   "cell_type": "code",
   "execution_count": null,
   "metadata": {},
   "outputs": [],
   "source": []
  },
  {
   "cell_type": "code",
   "execution_count": 15,
   "metadata": {},
   "outputs": [
    {
     "data": {
      "text/plain": [
       "29"
      ]
     },
     "execution_count": 15,
     "metadata": {},
     "output_type": "execute_result"
    }
   ],
   "source": [
    "findfirst(lon .== 56)"
   ]
  },
  {
   "cell_type": "code",
   "execution_count": 16,
   "metadata": {},
   "outputs": [
    {
     "data": {
      "text/plain": [
       "-50.0"
      ]
     },
     "execution_count": 16,
     "metadata": {},
     "output_type": "execute_result"
    }
   ],
   "source": [
    "lat[20]"
   ]
  },
  {
   "cell_type": "code",
   "execution_count": 17,
   "metadata": {},
   "outputs": [
    {
     "data": {
      "image/png": "[encoded data removed]",
      "text/plain": [
       "Figure(PyObject <Figure size 640x480 with 1 Axes>)"
      ]
     },
     "metadata": {},
     "output_type": "display_data"
    },
    {
     "data": {
      "text/plain": [
       "1-element Vector{PyObject}:\n",
       " PyObject <matplotlib.lines.Line2D object at 0x7ff7f6bb3438>"
      ]
     },
     "execution_count": 17,
     "metadata": {},
     "output_type": "execute_result"
    }
   ],
   "source": [
    "plot(SST[29,20,:])"
   ]
  },
  {
   "cell_type": "code",
   "execution_count": null,
   "metadata": {},
   "outputs": [],
   "source": []
  }
 ],
 "metadata": {
  "@webio": {
   "lastCommId": null,
   "lastKernelId": null
  },
  "kernelspec": {
   "display_name": "Julia 1.6.2",
   "language": "julia",
   "name": "julia-1.6"
  },
  "language_info": {
   "file_extension": ".jl",
   "mimetype": "application/julia",
   "name": "julia",
   "version": "1.6.2"
  }
 },
 "nbformat": 4,
 "nbformat_minor": 2
}
