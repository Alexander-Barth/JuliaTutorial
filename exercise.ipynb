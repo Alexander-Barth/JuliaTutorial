{
 "cells": [
  {
   "cell_type": "markdown",
   "metadata": {},
   "source": [
    "# Exercises\n",
    "\n",
    "1. For the example data set `WesternMedSST.nc` compute and plot the time average of SST (NetCDF variable `seviri_sst`).\n",
    "\n",
    "2. For the example data set `WesternMedSST.nc` compute and plot the spatial average of SST (NetCDF variable `seviri_sst`).\n",
    "\n",
    "3. For a CastAway profile `20160622_0747_TC100.csv`, average temperature profile over 1 m depth intervals (first interval from 0.5 to 1.5 meters, second interval from 1.5 to 2.5 meters, ...)\n",
    "\n",
    "The CastAway profile is available at http://tinyurl.com/lz6sgmw.\n",
    "\n",
    "\n",
    "## Tips\n",
    "\n",
    "* Before starting to code, write down the different steps to solve the exercise\n",
    "* Use the build-in documentation of julia, e.g. type `?plot` or `apropos(\"csv\")`\n",
    "* Use your favourite search engine, e.g. \"How to load a CSV file in julia\"\n"
   ]
  },
  {
   "cell_type": "code",
   "execution_count": 2,
   "metadata": {
    "collapsed": false
   },
   "outputs": [
    {
     "data": {
      "text/plain": [
       "3"
      ]
     },
     "execution_count": 2,
     "metadata": {},
     "output_type": "execute_result"
    }
   ],
   "source": [
    "ceil(Int64,2.3)"
   ]
  },
  {
   "cell_type": "code",
   "execution_count": 6,
   "metadata": {
    "collapsed": false
   },
   "outputs": [
    {
     "data": {
      "image/png": "[encoded data removed]",
      "text/plain": [
       "PyPlot.Figure(PyObject <matplotlib.figure.Figure object at 0x7fa4c41ca9d0>)"
      ]
     },
     "metadata": {},
     "output_type": "display_data"
    },
    {
     "name": "stderr",
     "output_type": "stream",
     "text": [
      "WARNING: Method definition mypcolor(Any) in module Main at In[5]:6 overwritten at In[6]:6.\n"
     ]
    },
    {
     "data": {
      "text/plain": [
       "PyObject <matplotlib.collections.PolyCollection object at 0x7fa4c41c2a90>"
      ]
     },
     "execution_count": 6,
     "metadata": {},
     "output_type": "execute_result"
    }
   ],
   "source": [
    "using PyPlot\n",
    "using PyCall\n",
    "@pyimport numpy.ma as ma\n",
    "\n",
    "# plotting with NaN\n",
    "function mypcolor(S)\n",
    "    pcolor(pycall(ma.array, Any, S, mask=isnan.(S)))\n",
    "end\n",
    "\n",
    "A = rand(4,4)\n",
    "A[1,1] = NaN;\n",
    "mypcolor(A)"
   ]
  }
 ],
 "metadata": {
  "kernelspec": {
   "display_name": "Julia 0.5.1",
   "language": "julia",
   "name": "julia-0.5"
  },
  "language_info": {
   "file_extension": ".jl",
   "mimetype": "application/julia",
   "name": "julia",
   "version": "0.5.1"
  }
 },
 "nbformat": 4,
 "nbformat_minor": 0
}
